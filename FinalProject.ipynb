{
 "cells": [
  {
   "cell_type": "markdown",
   "metadata": {},
   "source": [
    "# ER131: Carbon Footprint Prediction\n",
    "Fall 2020\n",
    "\n",
    "In this cell, give an alphabetical (by last name) list of student group members.  Beside each student's name, provide a description of each student's contribution to the project.\n",
    "\n",
    "`Henry Hao`  \n",
    "- asdf\n",
    "\n",
    "`Michelle Kim`  \n",
    "- asdf\n",
    "\n",
    "`Vincent Lao`  \n",
    "- asdf\n",
    "\n",
    "`Myoung-Jun Park`  \n",
    "- asdf"
   ]
  },
  {
   "cell_type": "markdown",
   "metadata": {},
   "source": [
    "## Basic Project Requirements (delete this markdown cell in your final submission)\n",
    "\n",
    "**How to use this notebook**:  This notebook is the template for your semester project.  Each markdown cell provides instructions on what to do in order to complete a successful project.  The cell you're reading right now is the only one you can delete from what you eventually hand in.  For the other cells:\n",
    "1. You may replace the instructions in each cell with your own work but do not edit the cell titles (with the exception of the project title, above).  \n",
    "2. Follow the instructions in each section carefully.  For some sections you will enter only markdown text in the existing cells. For other sections, you'll accompany the markdown cells with additional code cells, and perhaps more markdown, before moving on to the next section.  \n",
    "\n",
    "**Grading**.  You'll see point allocations listed in each of the section titles below.  In addition, there are other categories for points: \n",
    "1. Visualization (10 points).  Plots should be well organized, legible, labelled, and well-suited for the question they are being used to answer or explore.  \n",
    "2. Clarity (5 points). Note that clarity also supports points elsewhere, because if we can't understand what you're explaining, we'll assume you didn't understand what you were doing and give points accordingly!  \n",
    "\n",
    "For each Section or Category, we will give points according to the following percentage scale:\n",
    "1. More than 90%:  work that is free of anything but superficial mistakes, and demonstrates creativity and / or a very deep understanding of what you are doing.\n",
    "2. 80-90%: work without fundamental errors and demonstrates a basic understanding of what you're doing.\n",
    "3. 60-80%: work with fundamental flaws in the analysis and / or conveys that you do not understand the basics of the work you are trying to do.\n",
    "4. Below 60%: Work that is severely lacking or incomplete.  \n",
    "\n",
    "Note that we distinguish *mistakes* from *\"my idea didn't work\"*.  Sometimes you don't know if you can actually do the thing you're trying to do and as you dig in you find that you can't.  That doesn't necessarily mean you made a mistake; it might just mean you needed more information.  We'll still give high marks to ambitious projects that \"fail\" at their stated objective, as long as that objective was clear and you demonstrate an understanding of what you were doing and why it didn't work.\n",
    "\n",
    "**Number of prediction questions:**  The number of prediction questions must be greater than or equal to the number of students in the team minus one.  (A 4 person team would need to explore 4-1 = 3 questions.)  Questions should be related, but have distinct work efforts, interpretation and analysis. An example: for land use regression, you could have a core prediction question (what is pollution concentration on a fine spatial scale), a supporting question that explore how the degree of spatial aggregation influences prediction quality, plus a prediction model that explores *temporal* prediction at one point in space.  There is a lot of flexibility here; if you have any doubt about whether your questions are distinct, consult with the instructors.\n",
    "\n",
    "**Data requirements**:  Projects must use data from a minimum of $1+N_s$ different sources, where $N_s$ is the number of students in the group.  You should merge at least two data sets. </font>\n",
    "\n",
    "**Advice on Project Topics**:  We want you to do a project that relates to energy and environment topics.  \n",
    "\n",
    "**Suggested data sets**: If you choose not to work on a client projets, here are some ideas for data starting points. You can definitely bring your own data to the table!\n",
    "1. [Purple Air](https://www.purpleair.com) Instructions on how to download PurpleAir data are [here](https://docs.google.com/document/d/15ijz94dXJ-YAZLi9iZ_RaBwrZ4KtYeCy08goGBwnbCU/edit).\n",
    "2. California Enviroscreen database.  Available [here].(https://oehha.ca.gov/calenviroscreen/report/calenviroscreen-30) \n",
    "3. Several data sets available from the UC Irvine machine learning library:\n",
    "    1. [Forest Fires](https://archive.ics.uci.edu/ml/datasets/Forest+Fires)\n",
    "    4. [Climate](https://archive.ics.uci.edu/ml/datasets/Greenhouse+Gas+Observing+Network)\n",
    "    5. [Ozone](https://archive.ics.uci.edu/ml/datasets/Ozone+Level+Detection)\n",
    "4. California Solar Initiative data (installed rooftop solar systems).  Available [here](https://www.californiasolarstatistics.ca.gov/data_downloads/).\n",
    "5. World Bank Open Data, available [here](https://data.worldbank.org).\n",
    "6. California ISO monitored emissions data, [here](http://www.caiso.com/TodaysOutlook/Pages/Emissions.aspx).\n",
    "7. Energy Information Administration Residential Energy Consumption Survey, [here] (https://www.eia.gov/consumption/residential/data/2015/) "
   ]
  },
  {
   "cell_type": "markdown",
   "metadata": {},
   "source": [
    "## Abstract (5 points)\n",
    "Although this section comes first, you'll write it last.  It should be a ~250 word summary of your project.  1/3rd of the abstract should provide background, 1/3rd should explain what you did, and 1/3rd should explain what you learned."
   ]
  },
  {
   "cell_type": "markdown",
   "metadata": {},
   "source": [
    "## Project Background (5 points)\n",
    "\n",
    "525 words so far, feel free to edit as necessary\n",
    "\n",
    "A carbon footprint is the total amount of greenhouse gasses that are produced from one’s everyday activities. Each of these activities releases a certain amount of greenhouse gasses, whether this comes from end of tailpipe emissions from transportation modes (think cars or airplanes) or from the extraction, production, use and disposal emissions of products or services used. These gases include carbon dioxide, methane, nitrous oxide, as well as fluorinated gases; however, a carbon footprint is typically conveyed in carbon dioxide equivalents. \n",
    "\n",
    "According to the [Deep Decarbonization Pathways Project](https://blogs.ei.columbia.edu/2018/12/27/35-ways-reduce-carbon-footprint/#:~:text=Every%20day%20that%20you%20forgo,start%20by%20joining%20Meatless%20Mondays.), it is estimated that in order to avoid the global temperature rising by 2˚C or more, the average global carbon footprint per person will need to decrease from 4 tons to under 2 tons by 2050. As a comparison, the average US carbon footprint is around [16-18 tons per person per year](https://www.nature.org/en-us/get-involved/how-to-help/carbon-footprint-calculator/#:~:text=The%20average%20carbon%20footprint%20for,under%202%20tons%20by%202050.). Also, according to a [UNEP report](https://www.unenvironment.org/news-and-stories/press-release/cut-global-emissions-76-percent-every-year-next-decade-meet-15degc), the global temperature is currently set to rise 3.2 degrees celsius. In order to limit the increase to 1.5 degrees celsius set by the Paris Agreement, global greenhouse gas emissions must fall 7.6% per year between 2020 and 2030. Thus, it is important to calculate and find one’s carbon footprint to see the effects of daily activities and find the best ways to lower a footprint, manage effects on the environment, and stop climate change. \n",
    "\n",
    "Calculating one’s carbon footprint typically falls into five categories: transportation, home energy, consumed goods and services, food and water usage, and waste. Each footprint is unique as it depends on the user's location, household size, varying habits, and personal choices. However, to obtain the most accurate results, carbon footprint calculators contain inputs on many variables and small details such as the transportation mileage, percentage of clean energy that the home purchased electricity from, cost of electricity from different fuels, and counts on how much of each diets the user eats and spends on other specific goods and services. The problem is, most people do not exactly carry, for example, the number of calories of fruits and vegetables they consume annually in their back pocket in case they ever need to fill out an extensive carbon footprint calculator. Throughout this project, we seek to lower the “activation energy” for people to calculate their carbon footprint and create a path for anyone to quickly get a grasp on what their own carbon footprint looks like depending just a few of their lifestyle choices, and use that to call them to action. \n",
    "\n",
    "UC Berkeley’s CoolClimate carbon calculator uses the first four categories outlined above. As the CoolClimate calculator currently uses 342 features, we plan to look at only 18 features. Using the data and household results provided by their API, we hope to create a simplified version of a carbon footprint calculator that uses fewer features to predict a full scaled carbon footprint calculator’s results and find the top carbon dioxide emitters from each household. By doing so, we hope that the user will take this simplified version so that they understand their top carbon dioxide emitters and we can perform a more targeted outreach through the full scale version of the carbon calculator. \n"
   ]
  },
  {
   "cell_type": "markdown",
   "metadata": {},
   "source": [
    "## Project Objective (5 points)\n",
    "The objectives of our project are:\n",
    "\n",
    "- To predict an individual's carbon footprint based on a simplified version (ie. fewer features) of [CoolClimate's Carbon Footprint calculator](https://coolclimate.org/calculator) for _______ applications -- for example: ____.\n",
    "- To predict an individual's carbon footprint based on relative diet composition for _____ applications -- for example: _____.\n",
    "- To predict which counties might have large carbon footprint for policy applications -- for example: for which counties might it be beneficial to run recycling campaigns or plant-based diet campaigns. \n",
    "\n",
    "\n",
    "\n",
    "The goal for the first objective is to explore different ways people can calculate their carbon footprint. CoolClimate's Carbon Footprint calculator is extremely detailed, and because of this, it can ask for information that not many people might know. For example, one input to the calculator is air-travel miles and public-transit miles; this isn't really something that a person (especially busy college students) could find quickly. \n",
    "\n",
    "The point in exploring the second objective is improve the inputs to the carbon calculator by changing the perspective of the individual from asking: \"how many servings of vegetables do I eat per day?\" to asking \"vegetables make up ____ percentage of my diet.\" The team feels it is easier for someone to think of their diet in terms of relative percentages than servings. \n",
    "\n",
    "The goal for the third and last objective is to explore the resource allocation of which counties to fund to run a recycling education program or perhaps even a public health program that behooves county residents to eat a plant-based diet for health and the environment.\n",
    "\n"
   ]
  },
  {
   "cell_type": "markdown",
   "metadata": {},
   "source": [
    "## Input Data Description, Data Cleaning, Data Summary & EDA\n",
    "\n",
    "We separated this into distinct notebooks, one for each dataset.\n",
    "\n",
    "1. [Kammen Dataset](code/eda/cool-climate-data-vl-hh.ipynb) - Henry Hao\n",
    "2. [Cool Climate Dataset](code/eda/coolclimate-api-CAzips-singlehouseholds-withzc-Jun-eda.ipynb) - Jun Kang\n",
    "3. [nu3 Food Dataset](code/eda/food-nu3-data-cleaning-eda.ipynb) - Vincent Lao\n",
    "4. [Vehicle Dataset](code/eda/vehicle_data_cleaned_eda.ipynb) - Michelle Kim\n",
    "5. [CalEPA State Agency CO2 Dataset (2010-2014)](code/eda/CalEPA-State-Agency-CO2_eda.ipynb) - Michelle Kim, Jun Kang, and Henry Hao\n"
   ]
  },
  {
   "cell_type": "markdown",
   "metadata": {},
   "source": [
    "## Forecasting and Prediction Modeling, Interpretation and Conclusions\n",
    "\n",
    "We also separated these into three notebooks.\n",
    "\n",
    "1. [County Dataset Models](code/model/county-carbon-footprint-models.ipynb) - Jun/Henry\n",
    "\n",
    "2. [Household Dataset Models](code/model/household-carbon-footprint-models.ipynb) - Michelle\n",
    "\n",
    "3. [nu3 Food Dataset Models](code/model/food-carbon-footprint-models.ipynb) - Vincent Lao\n",
    "\n",
    "There is also a fourth notebook ([General Modelling Code](code/model/general_model_pipeline_vl.ipynb)) that holds the modelling functions we used in the 3 notebooks above."
   ]
  },
  {
   "cell_type": "markdown",
   "metadata": {},
   "source": [
    "---\n",
    "\n",
    "Thank you so much for looking through our project! Thank you for the great semester, Prof. Callaway, Jessica, Sindhu, and anyone else involved in the making of this class. Happy holidays!"
   ]
  },
  {
   "cell_type": "code",
   "execution_count": null,
   "metadata": {},
   "outputs": [],
   "source": []
  }
 ],
 "metadata": {
  "kernelspec": {
   "display_name": "Python 3",
   "language": "python",
   "name": "python3"
  },
  "language_info": {
   "codemirror_mode": {
    "name": "ipython",
    "version": 3
   },
   "file_extension": ".py",
   "mimetype": "text/x-python",
   "name": "python",
   "nbconvert_exporter": "python",
   "pygments_lexer": "ipython3",
   "version": "3.8.3"
  }
 },
 "nbformat": 4,
 "nbformat_minor": 2
}
