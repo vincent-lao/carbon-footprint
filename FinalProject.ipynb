{
 "cells": [
  {
   "cell_type": "markdown",
   "metadata": {},
   "source": [
    "# ER131: Carbon Footprint Prediction\n",
    "Fall 2020\n",
    "\n",
    "`Henry Hao`  \n",
    "- project objective\n",
    "- EDA for Kammen dataset & CalEPA dataset\n",
    "- performed modelling on County Dataset Models with Jun\n",
    "\n",
    "`Michelle Kim`  \n",
    "- project background\n",
    "- EDA on vehicle data & CalEPA dataset\n",
    "- performed modelling/analysis on Cool Climate API data\n",
    "\n",
    "`Vincent Lao`  \n",
    "- de facto project manager\n",
    "- set up Github/meetings\n",
    "- created and ran the data acquisition notebook for the CoolClimateAPI data\n",
    "- performed data cleaning/EDA/modelling/analysis for the nu3 food dataset\n",
    "- created the general_model_pipeline (gmp) notebook\n",
    "\n",
    "`Myoung-Jun Kang`  \n",
    "- EDA on the Cool Climate API & CalEPA dataset\n",
    "- Created the Kammen and Cool Climate merged dataset -> County Dataset\n",
    "- Performed modelling on County Dataset Models with Henry\n",
    "\n",
    "---\n"
   ]
  },
  {
   "cell_type": "markdown",
   "metadata": {},
   "source": [
    "## Abstract\n",
    "As climate change and environmental degradation become a larger issue, it is important to calculate carbon footprints to look at environmental effects of daily activities and stop climate change. However, for accurate results, extensive carbon footprint calculators contain inputs on variables and details that people may not know immediately. We examined different carbon footprint datasets to find an easier way for people to calculate their footprint and get a grasp for what their own carbon footprint is from a few lifestyle choices and call them to action.\n",
    "\n",
    "We looked at data from UC Berkeley’s CoolClimate carbon footprint calculator, a dataset from a paper written by Dr. Jones and Dr. Dan Kammen, and a food supply dataset from nu3, an online German grocery store. In each dataset, we performed machine learning with linear regression, ridge regression, LASSO regression, decision trees, and random forests. Surprisingly, for each dataset, linear regression performed the best. Ridge and LASSO regression had very similar results to linear regression and had very small alpha values, further underscoring the effectiveness of the linear regression models. Due to the strong linear relationship, we saw the decision trees generally perform worse, as they had difficulty emulating the linear relationship. \n",
    "\n",
    "Overall, our models performed very well, reaching R^2 values greater than 0.95 with surprisingly few features (<12). Compared to the original CoolClimate data, which had over 110 features, our best model performed comparably with only 7 features. Analyzing some of the model coefficients, we saw that the number of vehicles has strong predictive power for estimating a county’s carbon emissions.\n",
    "\n",
    "---\n"
   ]
  },
  {
   "cell_type": "markdown",
   "metadata": {},
   "source": [
    "## Project Background\n",
    "\n",
    "A carbon footprint is the total amount of greenhouse gasses that are produced from one’s everyday activities. Each of these activities releases a certain amount of greenhouse gasses, whether this comes from end of tailpipe emissions from transportation modes (think cars or airplanes) or from the extraction, production, use and disposal emissions of products or services used. These gases include carbon dioxide, methane, nitrous oxide, as well as fluorinated gases; however, a carbon footprint is typically conveyed in carbon dioxide equivalents. \n",
    "\n",
    "According to the [Deep Decarbonization Pathways Project](https://blogs.ei.columbia.edu/2018/12/27/35-ways-reduce-carbon-footprint/#:~:text=Every%20day%20that%20you%20forgo,start%20by%20joining%20Meatless%20Mondays.), it is estimated that in order to avoid the global temperature rising by 2˚C or more, the average global carbon footprint per person will need to decrease from 4 tons to under 2 tons by 2050. As a comparison, the average US carbon footprint is around [16-18 tons per person per year](https://www.nature.org/en-us/get-involved/how-to-help/carbon-footprint-calculator/#:~:text=The%20average%20carbon%20footprint%20for,under%202%20tons%20by%202050.). Also, according to a [UNEP report](https://www.unenvironment.org/news-and-stories/press-release/cut-global-emissions-76-percent-every-year-next-decade-meet-15degc), the global temperature is currently set to rise 3.2 degrees celsius. In order to limit the increase to 1.5 degrees celsius set by the Paris Agreement, global greenhouse gas emissions must fall 7.6% per year between 2020 and 2030. Thus, it is important to calculate and find one’s carbon footprint to see the effects of daily activities and find the best ways to lower a footprint, manage effects on the environment, and stop climate change. \n",
    "\n",
    "Calculating one’s carbon footprint typically falls into five categories: *transportation, home energy, consumed goods and services, food and water usage, and waste*. Each footprint is unique as it depends on the user's location, household size, varying habits, and personal choices. However, to obtain the most accurate results, carbon footprint calculators contain inputs on many variables and small details such as the transportation mileage, percentage of clean energy that the home purchased electricity from, cost of electricity from different fuels, and counts on how much of each diets the user eats and spends on other specific goods and services. The problem is, most people do not exactly carry, for example, the number of calories of fruits and vegetables they consume annually in their back pocket in case they ever need to fill out an extensive carbon footprint calculator. Throughout this project, we seek to lower the “activation energy” for people to calculate their carbon footprint and create a path for anyone to quickly get a grasp on what their own carbon footprint looks like depending just a few of their lifestyle choices, and use that to call them to action. \n",
    "\n",
    "One specific example of how we will accomplish this is through CoolClimate's carbon footprint calculator. Currently, it uses the first four categories outlined above. As the CoolClimate calculator currently uses 342 features, we plan to look at only 18 features. Using the data and household results provided by their API, we hope to create a simplified version of a carbon footprint calculator that uses fewer features to predict a full scaled carbon footprint calculator’s results and find the top carbon dioxide emitters from each household. By doing so, we hope that the user will take this simplified version so that they understand their top carbon dioxide emitters and we can perform a more targeted outreach through the full scale version of the carbon calculator.\n",
    "\n",
    "---\n"
   ]
  },
  {
   "cell_type": "markdown",
   "metadata": {},
   "source": [
    "## Project Objective \n",
    "The objectives of our project are:\n",
    "\n",
    "- To predict an individual's carbon footprint based on a simplified version (ie. fewer features) of [CoolClimate's Carbon Footprint calculator](https://coolclimate.org/calculator) for educational applications -- for example: a tool that allows people to understand their individual environmental impact in the fight against climate change.\n",
    "- To predict an individual's carbon footprint based on relative diet composition for policy and education applications -- for example: a government that has a general idea of what their constituents eat may be better-equipped to make policy decisions for the agricultural industry, or a government may decide to fund a public-private education program with grocery stores to educate their shoppers.\n",
    "- To predict which counties might have large carbon footprint for policy applications -- for example: for which counties might it be beneficial to run recycling or resource-conservation education campaigns. \n",
    "\n",
    "\n",
    "\n",
    "The goal for the first objective is to explore different ways people can calculate their carbon footprint. CoolClimate's Carbon Footprint calculator is extremely detailed, and because of this, it can ask for information that not many people might know. For example, one input to the calculator is air-travel miles and public-transit miles; this isn't really something that a person (especially busy college students) could find quickly. \n",
    "\n",
    "The point in exploring the second objective is improve the inputs to the carbon calculator by changing the perspective of the individual from asking: \"how many servings of vegetables do I eat per day?\" to asking \"vegetables make up  ..% of my diet.\" The team feels it is easier for someone to think of their diet in terms of relative percentages than servings. \n",
    "\n",
    "The goal for the third and last objective is to explore the resource allocation of which counties to fund to run a recycling education program or perhaps even a public health program that behooves county residents to eat a plant-based diet for health and the environment.\n",
    "\n",
    "---\n"
   ]
  },
  {
   "cell_type": "markdown",
   "metadata": {},
   "source": [
    "## Input Data Description, Data Cleaning, Data Summary & EDA\n",
    "\n",
    "We separated this into distinct notebooks, one for each dataset.\n",
    "\n",
    "1. [Kammen Dataset](code/eda/cool-climate-data-hh.ipynb) - Henry Hao - 2014 estimates of annual U.S. carbon emissions from different categories.\n",
    "\n",
    "\n",
    "2. [Cool Climate Dataset](code/eda/coolclimate-api-CAzips-singlehouseholds-withzc-Jun-eda.ipynb) - Jun Kang - Extracted data from the CoolClimate API. Each row of the dataset corresponds to a household and their total carbon footprint. \n",
    "\n",
    "\n",
    "3. [nu3 Food Dataset](code/eda/food-nu3-data-cleaning-eda.ipynb) - Vincent Lao - Food supply dataset that relates a country’s average annual food supply per person to annual carbon emissions per person using a conversion table from food to CO2.\n",
    "\n",
    "\n",
    "4. [Vehicle Dataset](code/eda/vehicle_data_cleaned_eda.ipynb) - Michelle Kim - Vehicle dataset on different car makes, model, fuel economy, and tailpipe CO2 emissions.\n",
    "\n",
    "\n",
    "5. [CalEPA State Agency CO2 Dataset (2010-2014)](code/eda/state_agency_co2_data.ipynb) - Michelle Kim, Jun Kang, and Henry Hao - Dataset on carbon emissions from different California government sources.\n",
    "\n",
    "---\n"
   ]
  },
  {
   "cell_type": "markdown",
   "metadata": {},
   "source": [
    "## Forecasting and Prediction Modeling, Interpretation and Conclusions\n",
    "\n",
    "We also separated these into three notebooks.\n",
    "\n",
    "1. [County Dataset Models](code/model/county-carbon-footprint-models.ipynb) - Jun/Henry - Out of the 5 models (LR, Ridge, LASSO, Decision Trees, Random Forests), we realized that linear regression performed the best in terms of test MSE. Did also a deep dive into the linear regression coefficients. \n",
    "\n",
    "\n",
    "2. [Household Dataset Models](code/model/household-carbon-footprint-models.ipynb) - Michelle - Realized linear regression performed the best out of different models and performed feature selection to predict a user’s footprint using the best, selected features. \n",
    "\n",
    "\n",
    "3. [nu3 Food Dataset Models](code/model/food-carbon-footprint-models.ipynb) - Vincent Lao -  Confirmed the linear relationship in the data through reverse engineering the conversion rates with a linear model. Normalized the data and converted columns to percentages to allow users to input their diet composition and find their annual carbon footprint emissions per year.\n",
    "\n",
    "\n",
    "There is also a fourth notebook ([General Modelling Code](code/model/general_model_pipeline_vl.ipynb)) that holds the modelling functions we used in the 3 notebooks above."
   ]
  },
  {
   "cell_type": "markdown",
   "metadata": {},
   "source": [
    "---\n",
    "\n",
    "Thank you so much for looking through our project! Thank you for the great semester, Prof. Callaway, Jessica, Sindhu, and anyone else involved in the making of this class. Happy holidays!"
   ]
  }
 ],
 "metadata": {
  "kernelspec": {
   "display_name": "Python 3",
   "language": "python",
   "name": "python3"
  },
  "language_info": {
   "codemirror_mode": {
    "name": "ipython",
    "version": 3
   },
   "file_extension": ".py",
   "mimetype": "text/x-python",
   "name": "python",
   "nbconvert_exporter": "python",
   "pygments_lexer": "ipython3",
   "version": "3.8.3"
  }
 },
 "nbformat": 4,
 "nbformat_minor": 2
}
