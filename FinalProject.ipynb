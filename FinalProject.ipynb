{
 "cells": [
  {
   "cell_type": "markdown",
   "metadata": {},
   "source": [
    "# ER131: Carbon Footprint Prediction\n",
    "Fall 2020\n",
    "\n",
    "In this cell, give an alphabetical (by last name) list of student group members.  Beside each student's name, provide a description of each student's contribution to the project.\n",
    "\n",
    "`Henry Hao`  \n",
    "- asdf\n",
    "\n",
    "`Michelle Kim`  \n",
    "- asdf\n",
    "\n",
    "`Vincent Lao`  \n",
    "- asdf\n",
    "\n",
    "`Myoung-Jun Park`  \n",
    "- asdf"
   ]
  },
  {
   "cell_type": "markdown",
   "metadata": {},
   "source": [
    "## Basic Project Requirements (delete this markdown cell in your final submission)\n",
    "\n",
    "**How to use this notebook**:  This notebook is the template for your semester project.  Each markdown cell provides instructions on what to do in order to complete a successful project.  The cell you're reading right now is the only one you can delete from what you eventually hand in.  For the other cells:\n",
    "1. You may replace the instructions in each cell with your own work but do not edit the cell titles (with the exception of the project title, above).  \n",
    "2. Follow the instructions in each section carefully.  For some sections you will enter only markdown text in the existing cells. For other sections, you'll accompany the markdown cells with additional code cells, and perhaps more markdown, before moving on to the next section.  \n",
    "\n",
    "**Grading**.  You'll see point allocations listed in each of the section titles below.  In addition, there are other categories for points: \n",
    "1. Visualization (10 points).  Plots should be well organized, legible, labelled, and well-suited for the question they are being used to answer or explore.  \n",
    "2. Clarity (5 points). Note that clarity also supports points elsewhere, because if we can't understand what you're explaining, we'll assume you didn't understand what you were doing and give points accordingly!  \n",
    "\n",
    "For each Section or Category, we will give points according to the following percentage scale:\n",
    "1. More than 90%:  work that is free of anything but superficial mistakes, and demonstrates creativity and / or a very deep understanding of what you are doing.\n",
    "2. 80-90%: work without fundamental errors and demonstrates a basic understanding of what you're doing.\n",
    "3. 60-80%: work with fundamental flaws in the analysis and / or conveys that you do not understand the basics of the work you are trying to do.\n",
    "4. Below 60%: Work that is severely lacking or incomplete.  \n",
    "\n",
    "Note that we distinguish *mistakes* from *\"my idea didn't work\"*.  Sometimes you don't know if you can actually do the thing you're trying to do and as you dig in you find that you can't.  That doesn't necessarily mean you made a mistake; it might just mean you needed more information.  We'll still give high marks to ambitious projects that \"fail\" at their stated objective, as long as that objective was clear and you demonstrate an understanding of what you were doing and why it didn't work.\n",
    "\n",
    "**Number of prediction questions:**  The number of prediction questions must be greater than or equal to the number of students in the team minus one.  (A 4 person team would need to explore 4-1 = 3 questions.)  Questions should be related, but have distinct work efforts, interpretation and analysis. An example: for land use regression, you could have a core prediction question (what is pollution concentration on a fine spatial scale), a supporting question that explore how the degree of spatial aggregation influences prediction quality, plus a prediction model that explores *temporal* prediction at one point in space.  There is a lot of flexibility here; if you have any doubt about whether your questions are distinct, consult with the instructors.\n",
    "\n",
    "**Data requirements**:  Projects must use data from a minimum of $1+N_s$ different sources, where $N_s$ is the number of students in the group.  You should merge at least two data sets. </font>\n",
    "\n",
    "**Advice on Project Topics**:  We want you to do a project that relates to energy and environment topics.  \n",
    "\n",
    "**Suggested data sets**: If you choose not to work on a client projets, here are some ideas for data starting points. You can definitely bring your own data to the table!\n",
    "1. [Purple Air](https://www.purpleair.com) Instructions on how to download PurpleAir data are [here](https://docs.google.com/document/d/15ijz94dXJ-YAZLi9iZ_RaBwrZ4KtYeCy08goGBwnbCU/edit).\n",
    "2. California Enviroscreen database.  Available [here].(https://oehha.ca.gov/calenviroscreen/report/calenviroscreen-30) \n",
    "3. Several data sets available from the UC Irvine machine learning library:\n",
    "    1. [Forest Fires](https://archive.ics.uci.edu/ml/datasets/Forest+Fires)\n",
    "    4. [Climate](https://archive.ics.uci.edu/ml/datasets/Greenhouse+Gas+Observing+Network)\n",
    "    5. [Ozone](https://archive.ics.uci.edu/ml/datasets/Ozone+Level+Detection)\n",
    "4. California Solar Initiative data (installed rooftop solar systems).  Available [here](https://www.californiasolarstatistics.ca.gov/data_downloads/).\n",
    "5. World Bank Open Data, available [here](https://data.worldbank.org).\n",
    "6. California ISO monitored emissions data, [here](http://www.caiso.com/TodaysOutlook/Pages/Emissions.aspx).\n",
    "7. Energy Information Administration Residential Energy Consumption Survey, [here] (https://www.eia.gov/consumption/residential/data/2015/) "
   ]
  },
  {
   "cell_type": "markdown",
   "metadata": {},
   "source": [
    "## Abstract (5 points)\n",
    "Although this section comes first, you'll write it last.  It should be a ~250 word summary of your project.  1/3rd of the abstract should provide background, 1/3rd should explain what you did, and 1/3rd should explain what you learned."
   ]
  },
  {
   "cell_type": "markdown",
   "metadata": {},
   "source": [
    "## Project Background (5 points)\n",
    "In this section you will describe relevant background for your project.  It should give enough information that a non-expert can understand in detail the history and / or context of the system or setting you wish to study, the need for quantitative analysis, and, broadly, what impact a quantitative analyses could have on the system.  Shoot for 500 words here."
   ]
  },
  {
   "cell_type": "markdown",
   "metadata": {},
   "source": [
    "## Project Objective (5 points)\n",
    "The objectives of our project are:\n",
    "\n",
    "- To predict an individual's carbon footprint based on a simplified version (ie. fewer features) of [CoolClimate's Carbon Footprint calculator](https://coolclimate.org/calculator) for _______ applications -- for example: for which counties might it be beneficial to run recycling campaigns or plant-based diet campaigns. \n",
    "- To predict an individual's carbon footprint based on relative diet composition for ____ applications -- for example: for which counties might it be beneficial to run recycling campaigns or plant-based diet campaigns. \n",
    "- To predict which counties might have large carbon footprint for policy applications -- for example: for which counties might it be beneficial to run recycling campaigns or plant-based diet campaigns. \n",
    "\n",
    "\n",
    "\n",
    "The goal for the first objective is to explore different ways people can calculate their carbon footprint. CoolClimate's Carbon Footprint calculator is extremely detailed, and because of this, it can ask for information that not many people might know. For example, one input to the calculator is air-travel miles and public-transit miles; this isn't really something that a person (especially busy college students) could find quickly. \n",
    "\n",
    "The point in exploring the second objective is improve the inputs to the carbon calculator by changing the perspective of the individual from asking: \"how many servings of vegetables do I eat per day?\" to asking \"vegetables make up ____ percentage of my diet.\" The team feels it is easier for someone to think of their diet in terms of relative percentages than servings. \n",
    "\n",
    "The goal for the third and last objective is to explore the resource allocation of which counties to fund to run a recycling education program or perhaps even a public health program that behooves county residents to eat a plant-based diet for health and the environment.\n",
    "\n"
   ]
  },
  {
   "cell_type": "markdown",
   "metadata": {},
   "source": [
    "## Input Data Description, Data Cleaning, Data Summary & EDA\n",
    "\n",
    "We separated this into distinct notebooks, one for each dataset.\n",
    "\n",
    "1. [Kammen Dataset](code/eda/cool-climate-data-vl-hh.ipynb) - Henry Hao\n",
    "2. \n",
    "3. [nu3 Food Dataset](code/eda/food-nu3-data-cleaning-eda.ipynb) - Vincent Lao\n",
    "4. \n",
    "5. "
   ]
  },
  {
   "cell_type": "markdown",
   "metadata": {},
   "source": [
    "## Forecasting and Prediction Modeling, Interpretation and Conclusions\n",
    "\n",
    "We also separated these into three notebooks.\n",
    "\n",
    "1. [County Dataset Models](code/model/county-carbon-footprint-models.ipynb)\n",
    "\n",
    "2. [Household Dataset Models](code/model/household-carbon-footprint-models.ipynb)\n",
    "\n",
    "3. [nu3 Food Dataset Models](code/model/food-carbon-footprint-models.ipynb) - Vincent Lao"
   ]
  },
  {
   "cell_type": "markdown",
   "metadata": {},
   "source": [
    "---\n",
    "\n",
    "Thank you so much for looking through our project! Thank you for the great semester, Prof. Callaway, Jessica, Sindhu, and anyone else involved in the making of this class. Happy holidays!"
   ]
  },
  {
   "cell_type": "code",
   "execution_count": null,
   "metadata": {},
   "outputs": [],
   "source": []
  }
 ],
 "metadata": {
  "kernelspec": {
   "display_name": "Python 3",
   "language": "python",
   "name": "python3"
  },
  "language_info": {
   "codemirror_mode": {
    "name": "ipython",
    "version": 3
   },
   "file_extension": ".py",
   "mimetype": "text/x-python",
   "name": "python",
   "nbconvert_exporter": "python",
   "pygments_lexer": "ipython3",
   "version": "3.6.9"
  }
 },
 "nbformat": 4,
 "nbformat_minor": 2
}
