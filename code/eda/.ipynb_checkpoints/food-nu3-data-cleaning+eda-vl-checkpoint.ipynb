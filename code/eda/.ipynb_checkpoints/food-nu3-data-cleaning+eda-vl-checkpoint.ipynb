{
 "cells": [
  {
   "cell_type": "code",
   "execution_count": 257,
   "metadata": {},
   "outputs": [],
   "source": [
    "import numpy as np\n",
    "import pandas as pd\n",
    "import matplotlib.pyplot as plt\n",
    "import seaborn as sns\n",
    "import re"
   ]
  },
  {
   "cell_type": "markdown",
   "metadata": {},
   "source": [
    "## Input Data Description\n",
    "1. The origins of your data. Where did you get the data? How were the data collected from the original sources?  \n",
    "2. The structure, granularity, scope, temporality and faithfulness (SGSTF) of your data. To discuss these attributes you should load the data into one or more data frames (so you'll start building code cells for the first time). At a minimum, use some basic methods (.head, .loc, and so on) to provide support for the descriptions you provide for SGSTF."
   ]
  },
  {
   "cell_type": "markdown",
   "metadata": {},
   "source": [
    "This dataset is from [nu3](https://www.nu3.de/blogs/nutrition/food-carbon-footprint-index-2018), a German online personal wellness and grocery store that performed some research to look at the CO2 emissions per person for 130 nations worldwide. Their study utilized 2018 data from the Food and Agriculture Organization of the United Nations (FAO) that described the amount of food supply for consumption by food item and nation. They also used the following assumptions as the estimated CO2 emissions per kilogram for each food type in 2018:\n",
    "\n",
    "- Pork = 3.54 kg\n",
    "- Poultry= 1.07 kg\n",
    "- Beef = 30.86 kg\n",
    "- Lamb & Goat = 35.02 kg\n",
    "- Fish = 1.60 kg\n",
    "- Eggs = 0.92 kg\n",
    "- Milk – including cheese = 1.42 kg\n",
    "- Wheat & Wheat Products = 0.19 kg\n",
    "- Rice = 1.28 kg\n",
    "- Soybeans = 0.45 kg\n",
    "- Nuts – including Peanut Butter = 1.77 kg"
   ]
  },
  {
   "cell_type": "markdown",
   "metadata": {},
   "source": [
    "### Data Acquisition and SGSTF\n",
    "\n",
    "First, we grab the raw html from the website, and clean up the data to put it in a readable format."
   ]
  },
  {
   "cell_type": "code",
   "execution_count": 274,
   "metadata": {
    "scrolled": true
   },
   "outputs": [
    {
     "data": {
      "text/html": [
       "<div>\n",
       "<style scoped>\n",
       "    .dataframe tbody tr th:only-of-type {\n",
       "        vertical-align: middle;\n",
       "    }\n",
       "\n",
       "    .dataframe tbody tr th {\n",
       "        vertical-align: top;\n",
       "    }\n",
       "\n",
       "    .dataframe thead th {\n",
       "        text-align: right;\n",
       "    }\n",
       "</style>\n",
       "<table border=\"1\" class=\"dataframe\">\n",
       "  <thead>\n",
       "    <tr style=\"text-align: right;\">\n",
       "      <th></th>\n",
       "      <th>#</th>\n",
       "      <th>Country</th>\n",
       "      <th>porksupply</th>\n",
       "      <th>porkco2</th>\n",
       "      <th>chickensupply</th>\n",
       "      <th>chickenco2</th>\n",
       "      <th>beefsupply</th>\n",
       "      <th>beefco2</th>\n",
       "      <th>lambsupply</th>\n",
       "      <th>lambco2</th>\n",
       "      <th>...</th>\n",
       "      <th>wheatprodsupply</th>\n",
       "      <th>wheatprodco2</th>\n",
       "      <th>ricesupply</th>\n",
       "      <th>riceco2</th>\n",
       "      <th>soybeansupply</th>\n",
       "      <th>soybeanco2</th>\n",
       "      <th>nutssupply</th>\n",
       "      <th>nutsco2</th>\n",
       "      <th>totalnonanimalco2</th>\n",
       "      <th>difftotalco2</th>\n",
       "    </tr>\n",
       "  </thead>\n",
       "  <tbody>\n",
       "    <tr>\n",
       "      <th>0</th>\n",
       "      <td>1</td>\n",
       "      <td>Argentina</td>\n",
       "      <td>10.51</td>\n",
       "      <td>37.20</td>\n",
       "      <td>38.66</td>\n",
       "      <td>41.53</td>\n",
       "      <td>55.48</td>\n",
       "      <td>1712.00</td>\n",
       "      <td>1.56</td>\n",
       "      <td>54.63</td>\n",
       "      <td>...</td>\n",
       "      <td>103.11</td>\n",
       "      <td>19.66</td>\n",
       "      <td>8.77</td>\n",
       "      <td>11.22</td>\n",
       "      <td>0.00</td>\n",
       "      <td>0.00</td>\n",
       "      <td>0.49</td>\n",
       "      <td>0.87</td>\n",
       "      <td>31.75</td>\n",
       "      <td>2108.90</td>\n",
       "    </tr>\n",
       "    <tr>\n",
       "      <th>1</th>\n",
       "      <td>2</td>\n",
       "      <td>Australia</td>\n",
       "      <td>24.14</td>\n",
       "      <td>85.44</td>\n",
       "      <td>46.12</td>\n",
       "      <td>49.54</td>\n",
       "      <td>33.86</td>\n",
       "      <td>1044.85</td>\n",
       "      <td>9.87</td>\n",
       "      <td>345.65</td>\n",
       "      <td>...</td>\n",
       "      <td>70.46</td>\n",
       "      <td>13.44</td>\n",
       "      <td>11.03</td>\n",
       "      <td>14.12</td>\n",
       "      <td>0.19</td>\n",
       "      <td>0.09</td>\n",
       "      <td>8.73</td>\n",
       "      <td>15.45</td>\n",
       "      <td>43.09</td>\n",
       "      <td>1852.46</td>\n",
       "    </tr>\n",
       "    <tr>\n",
       "      <th>2</th>\n",
       "      <td>3</td>\n",
       "      <td>Albania</td>\n",
       "      <td>10.88</td>\n",
       "      <td>38.51</td>\n",
       "      <td>13.23</td>\n",
       "      <td>14.21</td>\n",
       "      <td>22.50</td>\n",
       "      <td>694.30</td>\n",
       "      <td>15.32</td>\n",
       "      <td>536.50</td>\n",
       "      <td>...</td>\n",
       "      <td>138.64</td>\n",
       "      <td>26.44</td>\n",
       "      <td>7.78</td>\n",
       "      <td>9.96</td>\n",
       "      <td>0.00</td>\n",
       "      <td>0.00</td>\n",
       "      <td>4.36</td>\n",
       "      <td>7.72</td>\n",
       "      <td>44.11</td>\n",
       "      <td>1689.62</td>\n",
       "    </tr>\n",
       "    <tr>\n",
       "      <th>3</th>\n",
       "      <td>4</td>\n",
       "      <td>Iceland</td>\n",
       "      <td>21.69</td>\n",
       "      <td>76.77</td>\n",
       "      <td>26.87</td>\n",
       "      <td>28.86</td>\n",
       "      <td>13.36</td>\n",
       "      <td>412.26</td>\n",
       "      <td>21.12</td>\n",
       "      <td>739.62</td>\n",
       "      <td>...</td>\n",
       "      <td>72.92</td>\n",
       "      <td>13.91</td>\n",
       "      <td>3.89</td>\n",
       "      <td>4.98</td>\n",
       "      <td>0.11</td>\n",
       "      <td>0.05</td>\n",
       "      <td>3.88</td>\n",
       "      <td>6.87</td>\n",
       "      <td>25.80</td>\n",
       "      <td>1679.75</td>\n",
       "    </tr>\n",
       "    <tr>\n",
       "      <th>4</th>\n",
       "      <td>5</td>\n",
       "      <td>New Zealand</td>\n",
       "      <td>22.29</td>\n",
       "      <td>78.90</td>\n",
       "      <td>34.98</td>\n",
       "      <td>37.58</td>\n",
       "      <td>22.49</td>\n",
       "      <td>693.99</td>\n",
       "      <td>18.91</td>\n",
       "      <td>662.23</td>\n",
       "      <td>...</td>\n",
       "      <td>76.91</td>\n",
       "      <td>14.67</td>\n",
       "      <td>9.16</td>\n",
       "      <td>11.72</td>\n",
       "      <td>0.44</td>\n",
       "      <td>0.20</td>\n",
       "      <td>8.22</td>\n",
       "      <td>14.55</td>\n",
       "      <td>41.14</td>\n",
       "      <td>1668.67</td>\n",
       "    </tr>\n",
       "  </tbody>\n",
       "</table>\n",
       "<p>5 rows × 27 columns</p>\n",
       "</div>"
      ],
      "text/plain": [
       "   #      Country  porksupply  porkco2  chickensupply  chickenco2  beefsupply  \\\n",
       "0  1    Argentina       10.51    37.20          38.66       41.53       55.48   \n",
       "1  2    Australia       24.14    85.44          46.12       49.54       33.86   \n",
       "2  3      Albania       10.88    38.51          13.23       14.21       22.50   \n",
       "3  4      Iceland       21.69    76.77          26.87       28.86       13.36   \n",
       "4  5  New Zealand       22.29    78.90          34.98       37.58       22.49   \n",
       "\n",
       "   beefco2  lambsupply  lambco2  ...  wheatprodsupply  wheatprodco2  \\\n",
       "0  1712.00        1.56    54.63  ...           103.11         19.66   \n",
       "1  1044.85        9.87   345.65  ...            70.46         13.44   \n",
       "2   694.30       15.32   536.50  ...           138.64         26.44   \n",
       "3   412.26       21.12   739.62  ...            72.92         13.91   \n",
       "4   693.99       18.91   662.23  ...            76.91         14.67   \n",
       "\n",
       "   ricesupply  riceco2  soybeansupply  soybeanco2  nutssupply  nutsco2  \\\n",
       "0        8.77    11.22           0.00        0.00        0.49     0.87   \n",
       "1       11.03    14.12           0.19        0.09        8.73    15.45   \n",
       "2        7.78     9.96           0.00        0.00        4.36     7.72   \n",
       "3        3.89     4.98           0.11        0.05        3.88     6.87   \n",
       "4        9.16    11.72           0.44        0.20        8.22    14.55   \n",
       "\n",
       "   totalnonanimalco2  difftotalco2  \n",
       "0              31.75       2108.90  \n",
       "1              43.09       1852.46  \n",
       "2              44.11       1689.62  \n",
       "3              25.80       1679.75  \n",
       "4              41.14       1668.67  \n",
       "\n",
       "[5 rows x 27 columns]"
      ]
     },
     "execution_count": 274,
     "metadata": {},
     "output_type": "execute_result"
    }
   ],
   "source": [
    "# https://www.nu3.de/blogs/nutrition/food-carbon-footprint-index-2018\n",
    "food = pd.read_html(\"https://www.nu3.de/blogs/nutrition/food-carbon-footprint-index-2018\")[0]\n",
    "food = food.droplevel([0,1], axis=1)\n",
    "columns = ['#', 'Country', 'porksupply', 'porkco2', 'chickensupply', 'chickenco2', 'beefsupply', 'beefco2', 'lambsupply', 'lambco2', \n",
    "           'fishsupply', 'fishco2', 'eggsupply', 'eggco2', 'milkcheesesupply', 'milkcheeseco2', 'totalanimalco2', \n",
    "           'wheatprodsupply', 'wheatprodco2', 'ricesupply', 'riceco2', 'soybeansupply', 'soybeanco2', \n",
    "           'nutssupply', 'nutsco2', 'totalnonanimalco2', 'difftotalco2']\n",
    "\n",
    "food.rename(columns=dict(zip(food.columns, columns)), inplace=True)\n",
    "food.head()"
   ]
  },
  {
   "cell_type": "markdown",
   "metadata": {},
   "source": [
    "`Structure:` \n",
    "`Granularity:` \n",
    "`Scope:` \n",
    "`Temporality:` \n",
    "`Faithfulness:` "
   ]
  },
  {
   "cell_type": "code",
   "execution_count": 235,
   "metadata": {},
   "outputs": [
    {
     "data": {
      "text/plain": [
       "(130, 27)"
      ]
     },
     "execution_count": 235,
     "metadata": {},
     "output_type": "execute_result"
    }
   ],
   "source": [
    "# 130 different countries\n",
    "food.shape"
   ]
  },
  {
   "cell_type": "markdown",
   "metadata": {},
   "source": [
    "---\n",
    "\n",
    "## Data Cleaning\n",
    "\n",
    "First, I constructed the Y variable, Total Kilograms CO2 Emissions / person / year, as it wasn't present in the original dataset, but we had the individual totals of animal products and non-animal products. Then, we can remove the other total columns, since we don't need them anymore."
   ]
  },
  {
   "cell_type": "code",
   "execution_count": 280,
   "metadata": {},
   "outputs": [
    {
     "data": {
      "text/html": [
       "<div>\n",
       "<style scoped>\n",
       "    .dataframe tbody tr th:only-of-type {\n",
       "        vertical-align: middle;\n",
       "    }\n",
       "\n",
       "    .dataframe tbody tr th {\n",
       "        vertical-align: top;\n",
       "    }\n",
       "\n",
       "    .dataframe thead th {\n",
       "        text-align: right;\n",
       "    }\n",
       "</style>\n",
       "<table border=\"1\" class=\"dataframe\">\n",
       "  <thead>\n",
       "    <tr style=\"text-align: right;\">\n",
       "      <th></th>\n",
       "      <th>Country</th>\n",
       "      <th>porksupply</th>\n",
       "      <th>porkco2</th>\n",
       "      <th>chickensupply</th>\n",
       "      <th>chickenco2</th>\n",
       "      <th>beefsupply</th>\n",
       "      <th>beefco2</th>\n",
       "      <th>lambsupply</th>\n",
       "      <th>lambco2</th>\n",
       "      <th>fishsupply</th>\n",
       "      <th>...</th>\n",
       "      <th>milkcheeseco2</th>\n",
       "      <th>wheatprodsupply</th>\n",
       "      <th>wheatprodco2</th>\n",
       "      <th>ricesupply</th>\n",
       "      <th>riceco2</th>\n",
       "      <th>soybeansupply</th>\n",
       "      <th>soybeanco2</th>\n",
       "      <th>nutssupply</th>\n",
       "      <th>nutsco2</th>\n",
       "      <th>totalco2</th>\n",
       "    </tr>\n",
       "  </thead>\n",
       "  <tbody>\n",
       "    <tr>\n",
       "      <th>0</th>\n",
       "      <td>Argentina</td>\n",
       "      <td>10.51</td>\n",
       "      <td>37.20</td>\n",
       "      <td>38.66</td>\n",
       "      <td>41.53</td>\n",
       "      <td>55.48</td>\n",
       "      <td>1712.00</td>\n",
       "      <td>1.56</td>\n",
       "      <td>54.63</td>\n",
       "      <td>4.36</td>\n",
       "      <td>...</td>\n",
       "      <td>277.87</td>\n",
       "      <td>103.11</td>\n",
       "      <td>19.66</td>\n",
       "      <td>8.77</td>\n",
       "      <td>11.22</td>\n",
       "      <td>0.00</td>\n",
       "      <td>0.00</td>\n",
       "      <td>0.49</td>\n",
       "      <td>0.87</td>\n",
       "      <td>2172.40</td>\n",
       "    </tr>\n",
       "    <tr>\n",
       "      <th>1</th>\n",
       "      <td>Australia</td>\n",
       "      <td>24.14</td>\n",
       "      <td>85.44</td>\n",
       "      <td>46.12</td>\n",
       "      <td>49.54</td>\n",
       "      <td>33.86</td>\n",
       "      <td>1044.85</td>\n",
       "      <td>9.87</td>\n",
       "      <td>345.65</td>\n",
       "      <td>17.69</td>\n",
       "      <td>...</td>\n",
       "      <td>334.01</td>\n",
       "      <td>70.46</td>\n",
       "      <td>13.44</td>\n",
       "      <td>11.03</td>\n",
       "      <td>14.12</td>\n",
       "      <td>0.19</td>\n",
       "      <td>0.09</td>\n",
       "      <td>8.73</td>\n",
       "      <td>15.45</td>\n",
       "      <td>1938.64</td>\n",
       "    </tr>\n",
       "    <tr>\n",
       "      <th>2</th>\n",
       "      <td>Albania</td>\n",
       "      <td>10.88</td>\n",
       "      <td>38.51</td>\n",
       "      <td>13.23</td>\n",
       "      <td>14.21</td>\n",
       "      <td>22.50</td>\n",
       "      <td>694.30</td>\n",
       "      <td>15.32</td>\n",
       "      <td>536.50</td>\n",
       "      <td>3.85</td>\n",
       "      <td>...</td>\n",
       "      <td>432.62</td>\n",
       "      <td>138.64</td>\n",
       "      <td>26.44</td>\n",
       "      <td>7.78</td>\n",
       "      <td>9.96</td>\n",
       "      <td>0.00</td>\n",
       "      <td>0.00</td>\n",
       "      <td>4.36</td>\n",
       "      <td>7.72</td>\n",
       "      <td>1777.84</td>\n",
       "    </tr>\n",
       "    <tr>\n",
       "      <th>3</th>\n",
       "      <td>Iceland</td>\n",
       "      <td>21.69</td>\n",
       "      <td>76.77</td>\n",
       "      <td>26.87</td>\n",
       "      <td>28.86</td>\n",
       "      <td>13.36</td>\n",
       "      <td>412.26</td>\n",
       "      <td>21.12</td>\n",
       "      <td>739.62</td>\n",
       "      <td>74.41</td>\n",
       "      <td>...</td>\n",
       "      <td>321.66</td>\n",
       "      <td>72.92</td>\n",
       "      <td>13.91</td>\n",
       "      <td>3.89</td>\n",
       "      <td>4.98</td>\n",
       "      <td>0.11</td>\n",
       "      <td>0.05</td>\n",
       "      <td>3.88</td>\n",
       "      <td>6.87</td>\n",
       "      <td>1731.35</td>\n",
       "    </tr>\n",
       "    <tr>\n",
       "      <th>4</th>\n",
       "      <td>New Zealand</td>\n",
       "      <td>22.29</td>\n",
       "      <td>78.90</td>\n",
       "      <td>34.98</td>\n",
       "      <td>37.58</td>\n",
       "      <td>22.49</td>\n",
       "      <td>693.99</td>\n",
       "      <td>18.91</td>\n",
       "      <td>662.23</td>\n",
       "      <td>20.36</td>\n",
       "      <td>...</td>\n",
       "      <td>195.50</td>\n",
       "      <td>76.91</td>\n",
       "      <td>14.67</td>\n",
       "      <td>9.16</td>\n",
       "      <td>11.72</td>\n",
       "      <td>0.44</td>\n",
       "      <td>0.20</td>\n",
       "      <td>8.22</td>\n",
       "      <td>14.55</td>\n",
       "      <td>1750.94</td>\n",
       "    </tr>\n",
       "  </tbody>\n",
       "</table>\n",
       "<p>5 rows × 24 columns</p>\n",
       "</div>"
      ],
      "text/plain": [
       "       Country  porksupply  porkco2  chickensupply  chickenco2  beefsupply  \\\n",
       "0    Argentina       10.51    37.20          38.66       41.53       55.48   \n",
       "1    Australia       24.14    85.44          46.12       49.54       33.86   \n",
       "2      Albania       10.88    38.51          13.23       14.21       22.50   \n",
       "3      Iceland       21.69    76.77          26.87       28.86       13.36   \n",
       "4  New Zealand       22.29    78.90          34.98       37.58       22.49   \n",
       "\n",
       "   beefco2  lambsupply  lambco2  fishsupply  ...  milkcheeseco2  \\\n",
       "0  1712.00        1.56    54.63        4.36  ...         277.87   \n",
       "1  1044.85        9.87   345.65       17.69  ...         334.01   \n",
       "2   694.30       15.32   536.50        3.85  ...         432.62   \n",
       "3   412.26       21.12   739.62       74.41  ...         321.66   \n",
       "4   693.99       18.91   662.23       20.36  ...         195.50   \n",
       "\n",
       "   wheatprodsupply  wheatprodco2  ricesupply  riceco2  soybeansupply  \\\n",
       "0           103.11         19.66        8.77    11.22           0.00   \n",
       "1            70.46         13.44       11.03    14.12           0.19   \n",
       "2           138.64         26.44        7.78     9.96           0.00   \n",
       "3            72.92         13.91        3.89     4.98           0.11   \n",
       "4            76.91         14.67        9.16    11.72           0.44   \n",
       "\n",
       "   soybeanco2  nutssupply  nutsco2  totalco2  \n",
       "0        0.00        0.49     0.87   2172.40  \n",
       "1        0.09        8.73    15.45   1938.64  \n",
       "2        0.00        4.36     7.72   1777.84  \n",
       "3        0.05        3.88     6.87   1731.35  \n",
       "4        0.20        8.22    14.55   1750.94  \n",
       "\n",
       "[5 rows x 24 columns]"
      ]
     },
     "execution_count": 280,
     "metadata": {},
     "output_type": "execute_result"
    }
   ],
   "source": [
    "food['totalco2'] = food['totalanimalco2'] + food['totalnonanimalco2']\n",
    "food.drop(columns=['#', 'totalanimalco2', 'totalnonanimalco2', 'difftotalco2'], inplace=True)\n",
    "food.head()"
   ]
  },
  {
   "cell_type": "markdown",
   "metadata": {},
   "source": [
    "Then, I decided to separate the data into the CO2 columns and the Food Supply columns. This is because our Y variable is fully described by the other CO2 columns, so using them in our model would lead to a trivial problem to solve."
   ]
  },
  {
   "cell_type": "code",
   "execution_count": 281,
   "metadata": {},
   "outputs": [
    {
     "data": {
      "text/plain": [
       "['porksupply',\n",
       " 'chickensupply',\n",
       " 'beefsupply',\n",
       " 'lambsupply',\n",
       " 'fishsupply',\n",
       " 'eggsupply',\n",
       " 'milkcheesesupply',\n",
       " 'wheatprodsupply',\n",
       " 'ricesupply',\n",
       " 'soybeansupply',\n",
       " 'nutssupply']"
      ]
     },
     "execution_count": 281,
     "metadata": {},
     "output_type": "execute_result"
    }
   ],
   "source": [
    "[col for col in food.columns if re.findall('supply', col)]"
   ]
  },
  {
   "cell_type": "code",
   "execution_count": 284,
   "metadata": {
    "scrolled": false
   },
   "outputs": [
    {
     "data": {
      "text/html": [
       "<div>\n",
       "<style scoped>\n",
       "    .dataframe tbody tr th:only-of-type {\n",
       "        vertical-align: middle;\n",
       "    }\n",
       "\n",
       "    .dataframe tbody tr th {\n",
       "        vertical-align: top;\n",
       "    }\n",
       "\n",
       "    .dataframe thead th {\n",
       "        text-align: right;\n",
       "    }\n",
       "</style>\n",
       "<table border=\"1\" class=\"dataframe\">\n",
       "  <thead>\n",
       "    <tr style=\"text-align: right;\">\n",
       "      <th></th>\n",
       "      <th>Country</th>\n",
       "      <th>porkco2</th>\n",
       "      <th>chickenco2</th>\n",
       "      <th>beefco2</th>\n",
       "      <th>lambco2</th>\n",
       "      <th>fishco2</th>\n",
       "      <th>eggco2</th>\n",
       "      <th>milkcheeseco2</th>\n",
       "      <th>wheatprodco2</th>\n",
       "      <th>riceco2</th>\n",
       "      <th>soybeanco2</th>\n",
       "      <th>nutsco2</th>\n",
       "      <th>totalco2</th>\n",
       "    </tr>\n",
       "  </thead>\n",
       "  <tbody>\n",
       "    <tr>\n",
       "      <th>0</th>\n",
       "      <td>Argentina</td>\n",
       "      <td>37.20</td>\n",
       "      <td>41.53</td>\n",
       "      <td>1712.00</td>\n",
       "      <td>54.63</td>\n",
       "      <td>6.96</td>\n",
       "      <td>10.46</td>\n",
       "      <td>277.87</td>\n",
       "      <td>19.66</td>\n",
       "      <td>11.22</td>\n",
       "      <td>0.00</td>\n",
       "      <td>0.87</td>\n",
       "      <td>2172.40</td>\n",
       "    </tr>\n",
       "    <tr>\n",
       "      <th>1</th>\n",
       "      <td>Australia</td>\n",
       "      <td>85.44</td>\n",
       "      <td>49.54</td>\n",
       "      <td>1044.85</td>\n",
       "      <td>345.65</td>\n",
       "      <td>28.25</td>\n",
       "      <td>7.82</td>\n",
       "      <td>334.01</td>\n",
       "      <td>13.44</td>\n",
       "      <td>14.12</td>\n",
       "      <td>0.09</td>\n",
       "      <td>15.45</td>\n",
       "      <td>1938.64</td>\n",
       "    </tr>\n",
       "    <tr>\n",
       "      <th>2</th>\n",
       "      <td>Albania</td>\n",
       "      <td>38.51</td>\n",
       "      <td>14.21</td>\n",
       "      <td>694.30</td>\n",
       "      <td>536.50</td>\n",
       "      <td>6.15</td>\n",
       "      <td>11.44</td>\n",
       "      <td>432.62</td>\n",
       "      <td>26.44</td>\n",
       "      <td>9.96</td>\n",
       "      <td>0.00</td>\n",
       "      <td>7.72</td>\n",
       "      <td>1777.84</td>\n",
       "    </tr>\n",
       "    <tr>\n",
       "      <th>3</th>\n",
       "      <td>Iceland</td>\n",
       "      <td>76.77</td>\n",
       "      <td>28.86</td>\n",
       "      <td>412.26</td>\n",
       "      <td>739.62</td>\n",
       "      <td>118.81</td>\n",
       "      <td>7.57</td>\n",
       "      <td>321.66</td>\n",
       "      <td>13.91</td>\n",
       "      <td>4.98</td>\n",
       "      <td>0.05</td>\n",
       "      <td>6.87</td>\n",
       "      <td>1731.35</td>\n",
       "    </tr>\n",
       "    <tr>\n",
       "      <th>4</th>\n",
       "      <td>New Zealand</td>\n",
       "      <td>78.90</td>\n",
       "      <td>37.58</td>\n",
       "      <td>693.99</td>\n",
       "      <td>662.23</td>\n",
       "      <td>32.51</td>\n",
       "      <td>9.10</td>\n",
       "      <td>195.50</td>\n",
       "      <td>14.67</td>\n",
       "      <td>11.72</td>\n",
       "      <td>0.20</td>\n",
       "      <td>14.55</td>\n",
       "      <td>1750.94</td>\n",
       "    </tr>\n",
       "  </tbody>\n",
       "</table>\n",
       "</div>"
      ],
      "text/plain": [
       "       Country  porkco2  chickenco2  beefco2  lambco2  fishco2  eggco2  \\\n",
       "0    Argentina    37.20       41.53  1712.00    54.63     6.96   10.46   \n",
       "1    Australia    85.44       49.54  1044.85   345.65    28.25    7.82   \n",
       "2      Albania    38.51       14.21   694.30   536.50     6.15   11.44   \n",
       "3      Iceland    76.77       28.86   412.26   739.62   118.81    7.57   \n",
       "4  New Zealand    78.90       37.58   693.99   662.23    32.51    9.10   \n",
       "\n",
       "   milkcheeseco2  wheatprodco2  riceco2  soybeanco2  nutsco2  totalco2  \n",
       "0         277.87         19.66    11.22        0.00     0.87   2172.40  \n",
       "1         334.01         13.44    14.12        0.09    15.45   1938.64  \n",
       "2         432.62         26.44     9.96        0.00     7.72   1777.84  \n",
       "3         321.66         13.91     4.98        0.05     6.87   1731.35  \n",
       "4         195.50         14.67    11.72        0.20    14.55   1750.94  "
      ]
     },
     "execution_count": 284,
     "metadata": {},
     "output_type": "execute_result"
    }
   ],
   "source": [
    "food_co2 = food.drop(columns=[col for col in food.columns if re.findall('supply', col)])\n",
    "food_co2.head()"
   ]
  },
  {
   "cell_type": "code",
   "execution_count": 285,
   "metadata": {
    "scrolled": true
   },
   "outputs": [
    {
     "data": {
      "text/plain": [
       "['porkco2',\n",
       " 'chickenco2',\n",
       " 'beefco2',\n",
       " 'lambco2',\n",
       " 'fishco2',\n",
       " 'eggco2',\n",
       " 'milkcheeseco2',\n",
       " 'wheatprodco2',\n",
       " 'riceco2',\n",
       " 'soybeanco2',\n",
       " 'nutsco2']"
      ]
     },
     "execution_count": 285,
     "metadata": {},
     "output_type": "execute_result"
    }
   ],
   "source": [
    "[col for col in food.columns if re.findall('co2', col)][:-1]"
   ]
  },
  {
   "cell_type": "code",
   "execution_count": 288,
   "metadata": {
    "scrolled": true
   },
   "outputs": [
    {
     "data": {
      "text/html": [
       "<div>\n",
       "<style scoped>\n",
       "    .dataframe tbody tr th:only-of-type {\n",
       "        vertical-align: middle;\n",
       "    }\n",
       "\n",
       "    .dataframe tbody tr th {\n",
       "        vertical-align: top;\n",
       "    }\n",
       "\n",
       "    .dataframe thead th {\n",
       "        text-align: right;\n",
       "    }\n",
       "</style>\n",
       "<table border=\"1\" class=\"dataframe\">\n",
       "  <thead>\n",
       "    <tr style=\"text-align: right;\">\n",
       "      <th></th>\n",
       "      <th>Country</th>\n",
       "      <th>porksupply</th>\n",
       "      <th>chickensupply</th>\n",
       "      <th>beefsupply</th>\n",
       "      <th>lambsupply</th>\n",
       "      <th>fishsupply</th>\n",
       "      <th>eggsupply</th>\n",
       "      <th>milkcheesesupply</th>\n",
       "      <th>wheatprodsupply</th>\n",
       "      <th>ricesupply</th>\n",
       "      <th>soybeansupply</th>\n",
       "      <th>nutssupply</th>\n",
       "      <th>totalco2</th>\n",
       "    </tr>\n",
       "  </thead>\n",
       "  <tbody>\n",
       "    <tr>\n",
       "      <th>0</th>\n",
       "      <td>Argentina</td>\n",
       "      <td>10.51</td>\n",
       "      <td>38.66</td>\n",
       "      <td>55.48</td>\n",
       "      <td>1.56</td>\n",
       "      <td>4.36</td>\n",
       "      <td>11.39</td>\n",
       "      <td>195.08</td>\n",
       "      <td>103.11</td>\n",
       "      <td>8.77</td>\n",
       "      <td>0.00</td>\n",
       "      <td>0.49</td>\n",
       "      <td>2172.40</td>\n",
       "    </tr>\n",
       "    <tr>\n",
       "      <th>1</th>\n",
       "      <td>Australia</td>\n",
       "      <td>24.14</td>\n",
       "      <td>46.12</td>\n",
       "      <td>33.86</td>\n",
       "      <td>9.87</td>\n",
       "      <td>17.69</td>\n",
       "      <td>8.51</td>\n",
       "      <td>234.49</td>\n",
       "      <td>70.46</td>\n",
       "      <td>11.03</td>\n",
       "      <td>0.19</td>\n",
       "      <td>8.73</td>\n",
       "      <td>1938.64</td>\n",
       "    </tr>\n",
       "    <tr>\n",
       "      <th>2</th>\n",
       "      <td>Albania</td>\n",
       "      <td>10.88</td>\n",
       "      <td>13.23</td>\n",
       "      <td>22.50</td>\n",
       "      <td>15.32</td>\n",
       "      <td>3.85</td>\n",
       "      <td>12.45</td>\n",
       "      <td>303.72</td>\n",
       "      <td>138.64</td>\n",
       "      <td>7.78</td>\n",
       "      <td>0.00</td>\n",
       "      <td>4.36</td>\n",
       "      <td>1777.84</td>\n",
       "    </tr>\n",
       "    <tr>\n",
       "      <th>3</th>\n",
       "      <td>Iceland</td>\n",
       "      <td>21.69</td>\n",
       "      <td>26.87</td>\n",
       "      <td>13.36</td>\n",
       "      <td>21.12</td>\n",
       "      <td>74.41</td>\n",
       "      <td>8.24</td>\n",
       "      <td>225.82</td>\n",
       "      <td>72.92</td>\n",
       "      <td>3.89</td>\n",
       "      <td>0.11</td>\n",
       "      <td>3.88</td>\n",
       "      <td>1731.35</td>\n",
       "    </tr>\n",
       "    <tr>\n",
       "      <th>4</th>\n",
       "      <td>New Zealand</td>\n",
       "      <td>22.29</td>\n",
       "      <td>34.98</td>\n",
       "      <td>22.49</td>\n",
       "      <td>18.91</td>\n",
       "      <td>20.36</td>\n",
       "      <td>9.91</td>\n",
       "      <td>137.25</td>\n",
       "      <td>76.91</td>\n",
       "      <td>9.16</td>\n",
       "      <td>0.44</td>\n",
       "      <td>8.22</td>\n",
       "      <td>1750.94</td>\n",
       "    </tr>\n",
       "  </tbody>\n",
       "</table>\n",
       "</div>"
      ],
      "text/plain": [
       "       Country  porksupply  chickensupply  beefsupply  lambsupply  fishsupply  \\\n",
       "0    Argentina       10.51          38.66       55.48        1.56        4.36   \n",
       "1    Australia       24.14          46.12       33.86        9.87       17.69   \n",
       "2      Albania       10.88          13.23       22.50       15.32        3.85   \n",
       "3      Iceland       21.69          26.87       13.36       21.12       74.41   \n",
       "4  New Zealand       22.29          34.98       22.49       18.91       20.36   \n",
       "\n",
       "   eggsupply  milkcheesesupply  wheatprodsupply  ricesupply  soybeansupply  \\\n",
       "0      11.39            195.08           103.11        8.77           0.00   \n",
       "1       8.51            234.49            70.46       11.03           0.19   \n",
       "2      12.45            303.72           138.64        7.78           0.00   \n",
       "3       8.24            225.82            72.92        3.89           0.11   \n",
       "4       9.91            137.25            76.91        9.16           0.44   \n",
       "\n",
       "   nutssupply  totalco2  \n",
       "0        0.49   2172.40  \n",
       "1        8.73   1938.64  \n",
       "2        4.36   1777.84  \n",
       "3        3.88   1731.35  \n",
       "4        8.22   1750.94  "
      ]
     },
     "execution_count": 288,
     "metadata": {},
     "output_type": "execute_result"
    }
   ],
   "source": [
    "food_supply = food.drop(columns=[col for col in food.columns if re.findall('co2', col)][:-1])\n",
    "food_supply.head()"
   ]
  },
  {
   "cell_type": "code",
   "execution_count": 239,
   "metadata": {},
   "outputs": [
    {
     "data": {
      "text/plain": [
       "0.029999999999972715"
      ]
     },
     "execution_count": 239,
     "metadata": {},
     "output_type": "execute_result"
    }
   ],
   "source": [
    "# check that the totalco2 is roughly the sum of the co2 columns by looking at the largest difference between the two\n",
    "max(food_co2.loc[:, food_co2.columns[1:-1]].values.sum(axis=1) - food_co2['totalco2'].values)"
   ]
  },
  {
   "cell_type": "markdown",
   "metadata": {},
   "source": [
    "### Motivation for conversion of data to percentages:\n",
    "We converted the supply columns to percentages so that it is more comparable to an individual's diet. People tend to have a *better grasp of the relative amounts of each food group they eat rather than the raw amount*, which is what the data was before cleaning. That way, our model can take inputs of the percent of each food group an individual consumes on an annual basis, and relate that directly to `totalco2`."
   ]
  },
  {
   "cell_type": "code",
   "execution_count": 298,
   "metadata": {},
   "outputs": [
    {
     "data": {
      "text/plain": [
       "Index(['porksupply', 'chickensupply', 'beefsupply', 'lambsupply', 'fishsupply',\n",
       "       'eggsupply', 'milkcheesesupply', 'wheatprodsupply', 'ricesupply',\n",
       "       'soybeansupply', 'nutssupply'],\n",
       "      dtype='object')"
      ]
     },
     "execution_count": 298,
     "metadata": {},
     "output_type": "execute_result"
    }
   ],
   "source": [
    "food_supply.columns[1:-2]"
   ]
  },
  {
   "cell_type": "code",
   "execution_count": 299,
   "metadata": {},
   "outputs": [
    {
     "data": {
      "text/html": [
       "<div>\n",
       "<style scoped>\n",
       "    .dataframe tbody tr th:only-of-type {\n",
       "        vertical-align: middle;\n",
       "    }\n",
       "\n",
       "    .dataframe tbody tr th {\n",
       "        vertical-align: top;\n",
       "    }\n",
       "\n",
       "    .dataframe thead th {\n",
       "        text-align: right;\n",
       "    }\n",
       "</style>\n",
       "<table border=\"1\" class=\"dataframe\">\n",
       "  <thead>\n",
       "    <tr style=\"text-align: right;\">\n",
       "      <th></th>\n",
       "      <th>porksupply_pct</th>\n",
       "      <th>chickensupply_pct</th>\n",
       "      <th>beefsupply_pct</th>\n",
       "      <th>lambsupply_pct</th>\n",
       "      <th>fishsupply_pct</th>\n",
       "      <th>eggsupply_pct</th>\n",
       "      <th>milkcheesesupply_pct</th>\n",
       "      <th>wheatprodsupply_pct</th>\n",
       "      <th>ricesupply_pct</th>\n",
       "      <th>soybeansupply_pct</th>\n",
       "      <th>nutssupply_pct</th>\n",
       "      <th>totalco2</th>\n",
       "      <th>Country</th>\n",
       "    </tr>\n",
       "  </thead>\n",
       "  <tbody>\n",
       "    <tr>\n",
       "      <th>0</th>\n",
       "      <td>0.004039</td>\n",
       "      <td>0.014859</td>\n",
       "      <td>0.021324</td>\n",
       "      <td>0.000600</td>\n",
       "      <td>0.001676</td>\n",
       "      <td>0.004378</td>\n",
       "      <td>0.074979</td>\n",
       "      <td>0.039630</td>\n",
       "      <td>0.003371</td>\n",
       "      <td>0.000000</td>\n",
       "      <td>0.000188</td>\n",
       "      <td>2172.40</td>\n",
       "      <td>Argentina</td>\n",
       "    </tr>\n",
       "    <tr>\n",
       "      <th>1</th>\n",
       "      <td>0.010043</td>\n",
       "      <td>0.019187</td>\n",
       "      <td>0.014086</td>\n",
       "      <td>0.004106</td>\n",
       "      <td>0.007359</td>\n",
       "      <td>0.003540</td>\n",
       "      <td>0.097553</td>\n",
       "      <td>0.029313</td>\n",
       "      <td>0.004589</td>\n",
       "      <td>0.000079</td>\n",
       "      <td>0.003632</td>\n",
       "      <td>1938.64</td>\n",
       "      <td>Australia</td>\n",
       "    </tr>\n",
       "    <tr>\n",
       "      <th>2</th>\n",
       "      <td>0.004709</td>\n",
       "      <td>0.005726</td>\n",
       "      <td>0.009738</td>\n",
       "      <td>0.006630</td>\n",
       "      <td>0.001666</td>\n",
       "      <td>0.005388</td>\n",
       "      <td>0.131448</td>\n",
       "      <td>0.060003</td>\n",
       "      <td>0.003367</td>\n",
       "      <td>0.000000</td>\n",
       "      <td>0.001887</td>\n",
       "      <td>1777.84</td>\n",
       "      <td>Albania</td>\n",
       "    </tr>\n",
       "    <tr>\n",
       "      <th>3</th>\n",
       "      <td>0.009843</td>\n",
       "      <td>0.012193</td>\n",
       "      <td>0.006063</td>\n",
       "      <td>0.009584</td>\n",
       "      <td>0.033767</td>\n",
       "      <td>0.003739</td>\n",
       "      <td>0.102475</td>\n",
       "      <td>0.033090</td>\n",
       "      <td>0.001765</td>\n",
       "      <td>0.000050</td>\n",
       "      <td>0.001761</td>\n",
       "      <td>1731.35</td>\n",
       "      <td>Iceland</td>\n",
       "    </tr>\n",
       "    <tr>\n",
       "      <th>4</th>\n",
       "      <td>0.010555</td>\n",
       "      <td>0.016564</td>\n",
       "      <td>0.010649</td>\n",
       "      <td>0.008954</td>\n",
       "      <td>0.009641</td>\n",
       "      <td>0.004693</td>\n",
       "      <td>0.064990</td>\n",
       "      <td>0.036418</td>\n",
       "      <td>0.004337</td>\n",
       "      <td>0.000208</td>\n",
       "      <td>0.003892</td>\n",
       "      <td>1750.94</td>\n",
       "      <td>New Zealand</td>\n",
       "    </tr>\n",
       "  </tbody>\n",
       "</table>\n",
       "</div>"
      ],
      "text/plain": [
       "   porksupply_pct  chickensupply_pct  beefsupply_pct  lambsupply_pct  \\\n",
       "0        0.004039           0.014859        0.021324        0.000600   \n",
       "1        0.010043           0.019187        0.014086        0.004106   \n",
       "2        0.004709           0.005726        0.009738        0.006630   \n",
       "3        0.009843           0.012193        0.006063        0.009584   \n",
       "4        0.010555           0.016564        0.010649        0.008954   \n",
       "\n",
       "   fishsupply_pct  eggsupply_pct  milkcheesesupply_pct  wheatprodsupply_pct  \\\n",
       "0        0.001676       0.004378              0.074979             0.039630   \n",
       "1        0.007359       0.003540              0.097553             0.029313   \n",
       "2        0.001666       0.005388              0.131448             0.060003   \n",
       "3        0.033767       0.003739              0.102475             0.033090   \n",
       "4        0.009641       0.004693              0.064990             0.036418   \n",
       "\n",
       "   ricesupply_pct  soybeansupply_pct  nutssupply_pct  totalco2      Country  \n",
       "0        0.003371           0.000000        0.000188   2172.40    Argentina  \n",
       "1        0.004589           0.000079        0.003632   1938.64    Australia  \n",
       "2        0.003367           0.000000        0.001887   1777.84      Albania  \n",
       "3        0.001765           0.000050        0.001761   1731.35      Iceland  \n",
       "4        0.004337           0.000208        0.003892   1750.94  New Zealand  "
      ]
     },
     "execution_count": 299,
     "metadata": {},
     "output_type": "execute_result"
    }
   ],
   "source": [
    "# create a column of the total supply of each row\n",
    "food_supply['totalsupply'] = food_supply.loc[:, columns_supply].values.sum(axis=1)\n",
    "columns_supply = food_supply.columns[1:-2] # ignore the Country, totalco2, totalsupply columns\n",
    "\n",
    "# convert columns into percentages\n",
    "food_pct = pd.DataFrame([])\n",
    "for col in columns_supply:\n",
    "    food_pct[col + '_pct'] = food_supply[col] / food_supply['totalsupply']\n",
    "    \n",
    "# add the y variable and country to the new df\n",
    "food_pct['totalco2'] = food_co2['totalco2']\n",
    "food_pct['Country'] = food['Country']\n",
    "food_pct.head()"
   ]
  },
  {
   "cell_type": "code",
   "execution_count": 241,
   "metadata": {},
   "outputs": [],
   "source": [
    "# food_pct.to_csv('../../data/nu3-pctfoodsupply-CO2-emissions.csv')"
   ]
  },
  {
   "cell_type": "markdown",
   "metadata": {},
   "source": [
    "---\n",
    "\n",
    "## Exploratory Data Analysis\n",
    "\n",
    "We now have one main dataset that will be used for modelling: `food_pct`."
   ]
  },
  {
   "cell_type": "code",
   "execution_count": 300,
   "metadata": {
    "scrolled": true
   },
   "outputs": [
    {
     "data": {
      "text/html": [
       "<div>\n",
       "<style scoped>\n",
       "    .dataframe tbody tr th:only-of-type {\n",
       "        vertical-align: middle;\n",
       "    }\n",
       "\n",
       "    .dataframe tbody tr th {\n",
       "        vertical-align: top;\n",
       "    }\n",
       "\n",
       "    .dataframe thead th {\n",
       "        text-align: right;\n",
       "    }\n",
       "</style>\n",
       "<table border=\"1\" class=\"dataframe\">\n",
       "  <thead>\n",
       "    <tr style=\"text-align: right;\">\n",
       "      <th></th>\n",
       "      <th>porksupply_pct</th>\n",
       "      <th>chickensupply_pct</th>\n",
       "      <th>beefsupply_pct</th>\n",
       "      <th>lambsupply_pct</th>\n",
       "      <th>fishsupply_pct</th>\n",
       "      <th>eggsupply_pct</th>\n",
       "      <th>milkcheesesupply_pct</th>\n",
       "      <th>wheatprodsupply_pct</th>\n",
       "      <th>ricesupply_pct</th>\n",
       "      <th>soybeansupply_pct</th>\n",
       "      <th>nutssupply_pct</th>\n",
       "      <th>totalco2</th>\n",
       "      <th>Country</th>\n",
       "    </tr>\n",
       "  </thead>\n",
       "  <tbody>\n",
       "    <tr>\n",
       "      <th>0</th>\n",
       "      <td>0.004039</td>\n",
       "      <td>0.014859</td>\n",
       "      <td>0.021324</td>\n",
       "      <td>0.000600</td>\n",
       "      <td>0.001676</td>\n",
       "      <td>0.004378</td>\n",
       "      <td>0.074979</td>\n",
       "      <td>0.039630</td>\n",
       "      <td>0.003371</td>\n",
       "      <td>0.000000</td>\n",
       "      <td>0.000188</td>\n",
       "      <td>2172.40</td>\n",
       "      <td>Argentina</td>\n",
       "    </tr>\n",
       "    <tr>\n",
       "      <th>1</th>\n",
       "      <td>0.010043</td>\n",
       "      <td>0.019187</td>\n",
       "      <td>0.014086</td>\n",
       "      <td>0.004106</td>\n",
       "      <td>0.007359</td>\n",
       "      <td>0.003540</td>\n",
       "      <td>0.097553</td>\n",
       "      <td>0.029313</td>\n",
       "      <td>0.004589</td>\n",
       "      <td>0.000079</td>\n",
       "      <td>0.003632</td>\n",
       "      <td>1938.64</td>\n",
       "      <td>Australia</td>\n",
       "    </tr>\n",
       "    <tr>\n",
       "      <th>2</th>\n",
       "      <td>0.004709</td>\n",
       "      <td>0.005726</td>\n",
       "      <td>0.009738</td>\n",
       "      <td>0.006630</td>\n",
       "      <td>0.001666</td>\n",
       "      <td>0.005388</td>\n",
       "      <td>0.131448</td>\n",
       "      <td>0.060003</td>\n",
       "      <td>0.003367</td>\n",
       "      <td>0.000000</td>\n",
       "      <td>0.001887</td>\n",
       "      <td>1777.84</td>\n",
       "      <td>Albania</td>\n",
       "    </tr>\n",
       "    <tr>\n",
       "      <th>3</th>\n",
       "      <td>0.009843</td>\n",
       "      <td>0.012193</td>\n",
       "      <td>0.006063</td>\n",
       "      <td>0.009584</td>\n",
       "      <td>0.033767</td>\n",
       "      <td>0.003739</td>\n",
       "      <td>0.102475</td>\n",
       "      <td>0.033090</td>\n",
       "      <td>0.001765</td>\n",
       "      <td>0.000050</td>\n",
       "      <td>0.001761</td>\n",
       "      <td>1731.35</td>\n",
       "      <td>Iceland</td>\n",
       "    </tr>\n",
       "    <tr>\n",
       "      <th>4</th>\n",
       "      <td>0.010555</td>\n",
       "      <td>0.016564</td>\n",
       "      <td>0.010649</td>\n",
       "      <td>0.008954</td>\n",
       "      <td>0.009641</td>\n",
       "      <td>0.004693</td>\n",
       "      <td>0.064990</td>\n",
       "      <td>0.036418</td>\n",
       "      <td>0.004337</td>\n",
       "      <td>0.000208</td>\n",
       "      <td>0.003892</td>\n",
       "      <td>1750.94</td>\n",
       "      <td>New Zealand</td>\n",
       "    </tr>\n",
       "  </tbody>\n",
       "</table>\n",
       "</div>"
      ],
      "text/plain": [
       "   porksupply_pct  chickensupply_pct  beefsupply_pct  lambsupply_pct  \\\n",
       "0        0.004039           0.014859        0.021324        0.000600   \n",
       "1        0.010043           0.019187        0.014086        0.004106   \n",
       "2        0.004709           0.005726        0.009738        0.006630   \n",
       "3        0.009843           0.012193        0.006063        0.009584   \n",
       "4        0.010555           0.016564        0.010649        0.008954   \n",
       "\n",
       "   fishsupply_pct  eggsupply_pct  milkcheesesupply_pct  wheatprodsupply_pct  \\\n",
       "0        0.001676       0.004378              0.074979             0.039630   \n",
       "1        0.007359       0.003540              0.097553             0.029313   \n",
       "2        0.001666       0.005388              0.131448             0.060003   \n",
       "3        0.033767       0.003739              0.102475             0.033090   \n",
       "4        0.009641       0.004693              0.064990             0.036418   \n",
       "\n",
       "   ricesupply_pct  soybeansupply_pct  nutssupply_pct  totalco2      Country  \n",
       "0        0.003371           0.000000        0.000188   2172.40    Argentina  \n",
       "1        0.004589           0.000079        0.003632   1938.64    Australia  \n",
       "2        0.003367           0.000000        0.001887   1777.84      Albania  \n",
       "3        0.001765           0.000050        0.001761   1731.35      Iceland  \n",
       "4        0.004337           0.000208        0.003892   1750.94  New Zealand  "
      ]
     },
     "execution_count": 300,
     "metadata": {},
     "output_type": "execute_result"
    }
   ],
   "source": [
    "food_pct.head()"
   ]
  },
  {
   "cell_type": "code",
   "execution_count": 243,
   "metadata": {},
   "outputs": [
    {
     "data": {
      "image/png": "[encoded data removed]",
      "text/plain": [
       "<Figure size 576x360 with 2 Axes>"
      ]
     },
     "metadata": {
      "needs_background": "light"
     },
     "output_type": "display_data"
    }
   ],
   "source": [
    "fig, ax = plt.subplots(figsize=(8, 5))\n",
    "sns.heatmap(food_pct.corr(), annot=True, vmin=-1, ax=ax)\n",
    "plt.title('Correlation Matrix');"
   ]
  },
  {
   "cell_type": "markdown",
   "metadata": {},
   "source": [
    "We see that certain pairings of our features have strong correlation:\n",
    "- rice supply & milkcheese supply: -0.75\n",
    "- fish supply & milkcheese supply: -0.6\n",
    "- pork supply & egg supply: 0.41\n",
    "\n",
    "Certain features also have stronger correlation with our y variable `totalco2`:\n",
    "- milkcheese supply: 0.54\n",
    "- rice supply: -0.49\n",
    "- beef supply: 0.45\n",
    "\n",
    "But nothing particularly interesting, or any immediate reason that these variables would have the noted correlations. We can keep this matrix in mind when performing feature selection, as we want to prevent collinearity and improve our AIC/Adj. $R^2$ by keeping our chosen covariates distinct."
   ]
  },
  {
   "cell_type": "code",
   "execution_count": 244,
   "metadata": {
    "scrolled": false
   },
   "outputs": [
    {
     "data": {
      "image/png": "[encoded data removed]",
      "text/plain": [
       "<Figure size 720x432 with 4 Axes>"
      ]
     },
     "metadata": {
      "needs_background": "light"
     },
     "output_type": "display_data"
    }
   ],
   "source": [
    "plt.figure(figsize=(10,6))\n",
    "\n",
    "plt.subplot(2,2,1)\n",
    "plt.hist(food_pct['totalco2'], bins = np.linspace(food_pct['totalco2'].min(), food_pct['totalco2'].max(), 16));\n",
    "plt.title('Distribution of Y Variable: Total CO2')\n",
    "plt.xlabel('Total CO2')\n",
    "plt.yticks(np.arange(0, 21, 2))\n",
    "plt.ylabel('Counts')\n",
    "\n",
    "plt.subplot(2,2,2)\n",
    "plt.hist(np.log(food_pct['totalco2']), bins = np.linspace(np.log(food_pct['totalco2']).min(), \n",
    "                                                            np.log(food_pct['totalco2']).max(), 16));\n",
    "plt.title('Distribution of Y Variable: log(Total KG CO2)/person/year')\n",
    "plt.xlabel('log(Total CO2)')\n",
    "plt.yticks(np.arange(0, 21, 2))\n",
    "plt.ylabel('Counts')\n",
    "\n",
    "plt.subplot(2,2,3)\n",
    "sns.boxplot(food_pct['totalco2'])\n",
    "plt.xlabel('Total KG CO2 /person/year')\n",
    "plt.title('Boxplot of Y Variable')\n",
    "\n",
    "plt.subplot(2,2,4)\n",
    "sns.boxplot(np.log(food_pct['totalco2']))\n",
    "plt.xlabel('log(Total KG CO2) /person/year')\n",
    "plt.title('Boxplot of log(Y Variable)')\n",
    "\n",
    "plt.tight_layout()"
   ]
  },
  {
   "cell_type": "markdown",
   "metadata": {},
   "source": [
    "Our Y variable is right skewed, but is not so strong where we need a log transformation for our model. We may try using transformations to improve our model later on, but for now, we will move forward without any variable transformations."
   ]
  },
  {
   "cell_type": "markdown",
   "metadata": {},
   "source": [
    "Here is the distribution of the **average American diet** according to our data."
   ]
  },
  {
   "cell_type": "code",
   "execution_count": 245,
   "metadata": {},
   "outputs": [
    {
     "data": {
      "text/html": [
       "<div>\n",
       "<style scoped>\n",
       "    .dataframe tbody tr th:only-of-type {\n",
       "        vertical-align: middle;\n",
       "    }\n",
       "\n",
       "    .dataframe tbody tr th {\n",
       "        vertical-align: top;\n",
       "    }\n",
       "\n",
       "    .dataframe thead th {\n",
       "        text-align: right;\n",
       "    }\n",
       "</style>\n",
       "<table border=\"1\" class=\"dataframe\">\n",
       "  <thead>\n",
       "    <tr style=\"text-align: right;\">\n",
       "      <th></th>\n",
       "      <th>Pork</th>\n",
       "      <th>Chicken</th>\n",
       "      <th>Beef</th>\n",
       "      <th>Lamb</th>\n",
       "      <th>Fish</th>\n",
       "      <th>Eggs</th>\n",
       "      <th>Milk&amp;Cheese</th>\n",
       "      <th>Wheat</th>\n",
       "      <th>Rice</th>\n",
       "      <th>Soybeans</th>\n",
       "    </tr>\n",
       "  </thead>\n",
       "  <tbody>\n",
       "    <tr>\n",
       "      <th>5</th>\n",
       "      <td>0.057191</td>\n",
       "      <td>0.103478</td>\n",
       "      <td>0.074986</td>\n",
       "      <td>0.00089</td>\n",
       "      <td>0.025554</td>\n",
       "      <td>0.030168</td>\n",
       "      <td>0.526992</td>\n",
       "      <td>0.166422</td>\n",
       "      <td>0.014236</td>\n",
       "      <td>0.000083</td>\n",
       "    </tr>\n",
       "  </tbody>\n",
       "</table>\n",
       "</div>"
      ],
      "text/plain": [
       "       Pork   Chicken      Beef     Lamb      Fish      Eggs  Milk&Cheese  \\\n",
       "5  0.057191  0.103478  0.074986  0.00089  0.025554  0.030168     0.526992   \n",
       "\n",
       "      Wheat      Rice  Soybeans  \n",
       "5  0.166422  0.014236  0.000083  "
      ]
     },
     "execution_count": 245,
     "metadata": {},
     "output_type": "execute_result"
    }
   ],
   "source": [
    "names = ['Pork', 'Chicken', 'Beef', 'Lamb', 'Fish', 'Eggs', 'Milk&Cheese', 'Wheat', 'Rice', 'Soybeans']\n",
    "usa = food_pct[food_pct['Country'] == 'USA'].drop(columns=['Country', 'totalco2']).rename(columns=dict(zip(food_pct.columns[:-1], names)))\n",
    "usa"
   ]
  },
  {
   "cell_type": "code",
   "execution_count": 246,
   "metadata": {},
   "outputs": [
    {
     "data": {
      "image/png": "[encoded data removed]",
      "text/plain": [
       "<Figure size 864x288 with 1 Axes>"
      ]
     },
     "metadata": {
      "needs_background": "light"
     },
     "output_type": "display_data"
    }
   ],
   "source": [
    "plt.figure(figsize=(12,4))\n",
    "plt.bar(usa.columns, usa.to_numpy()[0])\n",
    "plt.title('Average American Diet of Included Products')\n",
    "plt.ylabel('% of Diet');"
   ]
  },
  {
   "cell_type": "markdown",
   "metadata": {},
   "source": [
    "---\n",
    "\n",
    "Even though we are not looking at country location in our model, we thought it'd be interesting to plot it spatially and see if there are any trends or clusters that have higher kgCO2/person/year.\n",
    "\n",
    "Using this [guide](https://towardsdatascience.com/using-python-to-create-a-world-map-from-a-list-of-country-names-cd7480d03b10) as a basis, we plot a world map of the KG CO2 emissions per person."
   ]
  },
  {
   "cell_type": "code",
   "execution_count": 247,
   "metadata": {},
   "outputs": [
    {
     "data": {
      "text/html": [
       "<div>\n",
       "<style scoped>\n",
       "    .dataframe tbody tr th:only-of-type {\n",
       "        vertical-align: middle;\n",
       "    }\n",
       "\n",
       "    .dataframe tbody tr th {\n",
       "        vertical-align: top;\n",
       "    }\n",
       "\n",
       "    .dataframe thead th {\n",
       "        text-align: right;\n",
       "    }\n",
       "</style>\n",
       "<table border=\"1\" class=\"dataframe\">\n",
       "  <thead>\n",
       "    <tr style=\"text-align: right;\">\n",
       "      <th></th>\n",
       "      <th>totalco2</th>\n",
       "      <th>CountryName</th>\n",
       "    </tr>\n",
       "  </thead>\n",
       "  <tbody>\n",
       "    <tr>\n",
       "      <th>0</th>\n",
       "      <td>2172.40</td>\n",
       "      <td>Argentina</td>\n",
       "    </tr>\n",
       "    <tr>\n",
       "      <th>1</th>\n",
       "      <td>1938.64</td>\n",
       "      <td>Australia</td>\n",
       "    </tr>\n",
       "    <tr>\n",
       "      <th>2</th>\n",
       "      <td>1777.84</td>\n",
       "      <td>Albania</td>\n",
       "    </tr>\n",
       "    <tr>\n",
       "      <th>3</th>\n",
       "      <td>1731.35</td>\n",
       "      <td>Iceland</td>\n",
       "    </tr>\n",
       "    <tr>\n",
       "      <th>4</th>\n",
       "      <td>1750.94</td>\n",
       "      <td>New Zealand</td>\n",
       "    </tr>\n",
       "  </tbody>\n",
       "</table>\n",
       "</div>"
      ],
      "text/plain": [
       "   totalco2  CountryName\n",
       "0   2172.40    Argentina\n",
       "1   1938.64    Australia\n",
       "2   1777.84      Albania\n",
       "3   1731.35      Iceland\n",
       "4   1750.94  New Zealand"
      ]
     },
     "execution_count": 247,
     "metadata": {},
     "output_type": "execute_result"
    }
   ],
   "source": [
    "country_co2 = food_pct.loc[:, ['totalco2', 'Country']]\n",
    "country_co2.rename(columns = {'Country' : 'CountryName'}, inplace=True)\n",
    "country_co2.head()"
   ]
  },
  {
   "cell_type": "code",
   "execution_count": 248,
   "metadata": {},
   "outputs": [],
   "source": [
    "#installation\n",
    "# !pip install pycountry-convert\n",
    "\n",
    "#function to convert to alpha2 country codes and continents\n",
    "from pycountry_convert import country_alpha2_to_continent_code, country_name_to_country_alpha2\n",
    "\n",
    "def get_continent(col):\n",
    "    try:\n",
    "        cn_a2_code =  country_name_to_country_alpha2(col)\n",
    "    except:\n",
    "        cn_a2_code = 'Unknown' \n",
    "    try:\n",
    "        cn_continent = country_alpha2_to_continent_code(cn_a2_code)\n",
    "    except:\n",
    "        cn_continent = 'Unknown' \n",
    "    \n",
    "    return (cn_a2_code, cn_continent)"
   ]
  },
  {
   "cell_type": "code",
   "execution_count": 249,
   "metadata": {},
   "outputs": [
    {
     "data": {
      "text/html": [
       "<div>\n",
       "<style scoped>\n",
       "    .dataframe tbody tr th:only-of-type {\n",
       "        vertical-align: middle;\n",
       "    }\n",
       "\n",
       "    .dataframe tbody tr th {\n",
       "        vertical-align: top;\n",
       "    }\n",
       "\n",
       "    .dataframe thead th {\n",
       "        text-align: right;\n",
       "    }\n",
       "</style>\n",
       "<table border=\"1\" class=\"dataframe\">\n",
       "  <thead>\n",
       "    <tr style=\"text-align: right;\">\n",
       "      <th></th>\n",
       "      <th>totalco2</th>\n",
       "      <th>CountryName</th>\n",
       "      <th>Country</th>\n",
       "      <th>Continent</th>\n",
       "    </tr>\n",
       "  </thead>\n",
       "  <tbody>\n",
       "    <tr>\n",
       "      <th>0</th>\n",
       "      <td>2172.40</td>\n",
       "      <td>Argentina</td>\n",
       "      <td>AR</td>\n",
       "      <td>SA</td>\n",
       "    </tr>\n",
       "    <tr>\n",
       "      <th>1</th>\n",
       "      <td>1938.64</td>\n",
       "      <td>Australia</td>\n",
       "      <td>AU</td>\n",
       "      <td>OC</td>\n",
       "    </tr>\n",
       "    <tr>\n",
       "      <th>2</th>\n",
       "      <td>1777.84</td>\n",
       "      <td>Albania</td>\n",
       "      <td>AL</td>\n",
       "      <td>EU</td>\n",
       "    </tr>\n",
       "    <tr>\n",
       "      <th>3</th>\n",
       "      <td>1731.35</td>\n",
       "      <td>Iceland</td>\n",
       "      <td>IS</td>\n",
       "      <td>EU</td>\n",
       "    </tr>\n",
       "    <tr>\n",
       "      <th>4</th>\n",
       "      <td>1750.94</td>\n",
       "      <td>New Zealand</td>\n",
       "      <td>NZ</td>\n",
       "      <td>OC</td>\n",
       "    </tr>\n",
       "  </tbody>\n",
       "</table>\n",
       "</div>"
      ],
      "text/plain": [
       "   totalco2  CountryName Country Continent\n",
       "0   2172.40    Argentina      AR        SA\n",
       "1   1938.64    Australia      AU        OC\n",
       "2   1777.84      Albania      AL        EU\n",
       "3   1731.35      Iceland      IS        EU\n",
       "4   1750.94  New Zealand      NZ        OC"
      ]
     },
     "execution_count": 249,
     "metadata": {},
     "output_type": "execute_result"
    }
   ],
   "source": [
    "codes = country_co2['CountryName'].apply(get_continent)\n",
    "\n",
    "country_co2['Country'] = [code[0] for code in codes]\n",
    "country_co2['Continent'] = [code[1] for code in codes]\n",
    "country_co2.head()"
   ]
  },
  {
   "cell_type": "code",
   "execution_count": 250,
   "metadata": {},
   "outputs": [],
   "source": [
    "#installation\n",
    "# !pip install geopy\n",
    "\n",
    "#function to get longitude and latitude data from country name\n",
    "from geopy.geocoders import Nominatim\n",
    "\n",
    "geolocator = Nominatim(user_agent=\"nu3-data-analysis\")\n",
    "def geolocate(country):\n",
    "    try:\n",
    "        # Geolocate the center of the country\n",
    "        loc = geolocator.geocode(country)\n",
    "        # And return latitude and longitude\n",
    "        return (loc.latitude, loc.longitude)\n",
    "    except:\n",
    "        # Return missing value\n",
    "        return (np.nan, np.nan)"
   ]
  },
  {
   "cell_type": "code",
   "execution_count": 251,
   "metadata": {
    "scrolled": false
   },
   "outputs": [
    {
     "data": {
      "text/html": [
       "<div>\n",
       "<style scoped>\n",
       "    .dataframe tbody tr th:only-of-type {\n",
       "        vertical-align: middle;\n",
       "    }\n",
       "\n",
       "    .dataframe tbody tr th {\n",
       "        vertical-align: top;\n",
       "    }\n",
       "\n",
       "    .dataframe thead th {\n",
       "        text-align: right;\n",
       "    }\n",
       "</style>\n",
       "<table border=\"1\" class=\"dataframe\">\n",
       "  <thead>\n",
       "    <tr style=\"text-align: right;\">\n",
       "      <th></th>\n",
       "      <th>totalco2</th>\n",
       "      <th>CountryName</th>\n",
       "      <th>Country</th>\n",
       "      <th>Continent</th>\n",
       "      <th>Latitude</th>\n",
       "      <th>Longitude</th>\n",
       "    </tr>\n",
       "  </thead>\n",
       "  <tbody>\n",
       "    <tr>\n",
       "      <th>0</th>\n",
       "      <td>2172.40</td>\n",
       "      <td>Argentina</td>\n",
       "      <td>AR</td>\n",
       "      <td>SA</td>\n",
       "      <td>-34.996496</td>\n",
       "      <td>-64.967282</td>\n",
       "    </tr>\n",
       "    <tr>\n",
       "      <th>1</th>\n",
       "      <td>1938.64</td>\n",
       "      <td>Australia</td>\n",
       "      <td>AU</td>\n",
       "      <td>OC</td>\n",
       "      <td>-24.776109</td>\n",
       "      <td>134.755000</td>\n",
       "    </tr>\n",
       "    <tr>\n",
       "      <th>2</th>\n",
       "      <td>1777.84</td>\n",
       "      <td>Albania</td>\n",
       "      <td>AL</td>\n",
       "      <td>EU</td>\n",
       "      <td>33.258882</td>\n",
       "      <td>-86.829534</td>\n",
       "    </tr>\n",
       "    <tr>\n",
       "      <th>3</th>\n",
       "      <td>1731.35</td>\n",
       "      <td>Iceland</td>\n",
       "      <td>IS</td>\n",
       "      <td>EU</td>\n",
       "      <td>64.984182</td>\n",
       "      <td>-18.105901</td>\n",
       "    </tr>\n",
       "    <tr>\n",
       "      <th>4</th>\n",
       "      <td>1750.94</td>\n",
       "      <td>New Zealand</td>\n",
       "      <td>NZ</td>\n",
       "      <td>OC</td>\n",
       "      <td>-41.500083</td>\n",
       "      <td>172.834408</td>\n",
       "    </tr>\n",
       "  </tbody>\n",
       "</table>\n",
       "</div>"
      ],
      "text/plain": [
       "   totalco2  CountryName Country Continent   Latitude   Longitude\n",
       "0   2172.40    Argentina      AR        SA -34.996496  -64.967282\n",
       "1   1938.64    Australia      AU        OC -24.776109  134.755000\n",
       "2   1777.84      Albania      AL        EU  33.258882  -86.829534\n",
       "3   1731.35      Iceland      IS        EU  64.984182  -18.105901\n",
       "4   1750.94  New Zealand      NZ        OC -41.500083  172.834408"
      ]
     },
     "execution_count": 251,
     "metadata": {},
     "output_type": "execute_result"
    }
   ],
   "source": [
    "latlons = country_co2['Country'].apply(geolocate)\n",
    "\n",
    "country_co2['Latitude'] = [latlon[0] for latlon in latlons]\n",
    "country_co2['Longitude'] = [latlon[1] for latlon in latlons]\n",
    "country_co2.head()"
   ]
  },
  {
   "cell_type": "code",
   "execution_count": 252,
   "metadata": {
    "scrolled": true
   },
   "outputs": [
    {
     "data": {
      "text/html": [
       "<div>\n",
       "<style scoped>\n",
       "    .dataframe tbody tr th:only-of-type {\n",
       "        vertical-align: middle;\n",
       "    }\n",
       "\n",
       "    .dataframe tbody tr th {\n",
       "        vertical-align: top;\n",
       "    }\n",
       "\n",
       "    .dataframe thead th {\n",
       "        text-align: right;\n",
       "    }\n",
       "</style>\n",
       "<table border=\"1\" class=\"dataframe\">\n",
       "  <thead>\n",
       "    <tr style=\"text-align: right;\">\n",
       "      <th></th>\n",
       "      <th>totalco2</th>\n",
       "      <th>CountryName</th>\n",
       "      <th>Country</th>\n",
       "      <th>Continent</th>\n",
       "      <th>Latitude</th>\n",
       "      <th>Longitude</th>\n",
       "    </tr>\n",
       "  </thead>\n",
       "  <tbody>\n",
       "    <tr>\n",
       "      <th>21</th>\n",
       "      <td>1405.70</td>\n",
       "      <td>Israel</td>\n",
       "      <td>IL</td>\n",
       "      <td>AS</td>\n",
       "      <td>NaN</td>\n",
       "      <td>NaN</td>\n",
       "    </tr>\n",
       "    <tr>\n",
       "      <th>32</th>\n",
       "      <td>1109.93</td>\n",
       "      <td>Armenia</td>\n",
       "      <td>AM</td>\n",
       "      <td>AS</td>\n",
       "      <td>NaN</td>\n",
       "      <td>NaN</td>\n",
       "    </tr>\n",
       "    <tr>\n",
       "      <th>60</th>\n",
       "      <td>897.31</td>\n",
       "      <td>United Arab Emirates</td>\n",
       "      <td>AE</td>\n",
       "      <td>AS</td>\n",
       "      <td>NaN</td>\n",
       "      <td>NaN</td>\n",
       "    </tr>\n",
       "    <tr>\n",
       "      <th>107</th>\n",
       "      <td>241.92</td>\n",
       "      <td>Ethiopia</td>\n",
       "      <td>ET</td>\n",
       "      <td>AF</td>\n",
       "      <td>NaN</td>\n",
       "      <td>NaN</td>\n",
       "    </tr>\n",
       "    <tr>\n",
       "      <th>121</th>\n",
       "      <td>282.62</td>\n",
       "      <td>India</td>\n",
       "      <td>IN</td>\n",
       "      <td>AS</td>\n",
       "      <td>NaN</td>\n",
       "      <td>NaN</td>\n",
       "    </tr>\n",
       "  </tbody>\n",
       "</table>\n",
       "</div>"
      ],
      "text/plain": [
       "     totalco2           CountryName Country Continent  Latitude  Longitude\n",
       "21    1405.70                Israel      IL        AS       NaN        NaN\n",
       "32    1109.93               Armenia      AM        AS       NaN        NaN\n",
       "60     897.31  United Arab Emirates      AE        AS       NaN        NaN\n",
       "107    241.92              Ethiopia      ET        AF       NaN        NaN\n",
       "121    282.62                 India      IN        AS       NaN        NaN"
      ]
     },
     "execution_count": 252,
     "metadata": {},
     "output_type": "execute_result"
    }
   ],
   "source": [
    "country_co2.loc[country_co2['Latitude'].isna(), :]"
   ]
  },
  {
   "cell_type": "code",
   "execution_count": 253,
   "metadata": {},
   "outputs": [],
   "source": [
    "# temporarily removing them to test the world map\n",
    "country_co2_clean = country_co2.loc[~country_co2['Latitude'].isna(), :]"
   ]
  },
  {
   "cell_type": "code",
   "execution_count": 254,
   "metadata": {
    "scrolled": true
   },
   "outputs": [
    {
     "data": {
      "text/html": [
       "<div style=\"width:100%;\"><div style=\"position:relative;width:100%;height:0;padding-bottom:60%;\"><span style=\"color:#565656\">Make this Notebook Trusted to load map: File -> Trust Notebook</span><iframe src=\"about:blank\" style=\"position:absolute;width:100%;height:100%;left:0;top:0;border:none !important;\" data-html=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 onload=\"this.contentDocument.open();this.contentDocument.write(atob(this.getAttribute('data-html')));this.contentDocument.close();\" allowfullscreen webkitallowfullscreen mozallowfullscreen></iframe></div></div>"
      ],
      "text/plain": [
       "<folium.folium.Map at 0x2250de0eee0>"
      ]
     },
     "execution_count": 254,
     "metadata": {},
     "output_type": "execute_result"
    }
   ],
   "source": [
    "#installation\n",
    "# !pip install folium\n",
    "\n",
    "# Create a world map to show distributions of users \n",
    "import folium\n",
    "from folium.plugins import MarkerCluster\n",
    "\n",
    "#empty map\n",
    "world_map= folium.Map(tiles=\"cartodbpositron\")\n",
    "marker_cluster = MarkerCluster().add_to(world_map)\n",
    "#for each coordinate, create circlemarker of user percent\n",
    "for i in range(len(country_co2_clean)):\n",
    "        lat = country_co2_clean.iloc[i]['Latitude']\n",
    "        long = country_co2_clean.iloc[i]['Longitude']\n",
    "        radius=5\n",
    "        popup_text = \"\"\"Country : {}<br>\n",
    "                    kgCO2/person/year : {}<br>\"\"\"\n",
    "        popup_text = popup_text.format(country_co2_clean.iloc[i]['CountryName'],\n",
    "                                   country_co2_clean.iloc[i]['totalco2']\n",
    "                                   )\n",
    "        folium.CircleMarker(location = [lat, long], radius=radius, popup= popup_text, fill =True).add_to(marker_cluster)\n",
    "#show the map\n",
    "world_map"
   ]
  },
  {
   "cell_type": "markdown",
   "metadata": {},
   "source": [
    "#### Another map:"
   ]
  },
  {
   "cell_type": "code",
   "execution_count": 255,
   "metadata": {},
   "outputs": [
    {
     "name": "stderr",
     "output_type": "stream",
     "text": [
      "Unknown not found in regex\n",
      "Unknown not found in regex\n"
     ]
    }
   ],
   "source": [
    "# !pip install country-converter\n",
    "\n",
    "import country_converter as coco\n",
    "\n",
    "country_co2['CountryCode'] = coco.convert(names=country_co2['Country'].to_list(), to='ISO3') # ignore the error"
   ]
  },
  {
   "cell_type": "code",
   "execution_count": 256,
   "metadata": {},
   "outputs": [
    {
     "data": {
      "application/vnd.plotly.v1+json": {
       "config": {
        "plotlyServerURL": "https://plot.ly"
       },
       "data": [
        {
         "coloraxis": "coloraxis",
         "geo": "geo",
         "hovertemplate": "<b>%{hovertext}</b><br><br>CountryCode=%{location}<br>totalco2=%{z}<extra></extra>",
         "hovertext": [
          "AR",
          "AU",
          "AL",
          "IS",
          "NZ",
          "US",
          "UY",
          "LU",
          "BR",
          "KZ",
          "SE",
          "BM",
          "DK",
          "FI",
          "IE",
          "GR",
          "FR",
          "CA",
          "NO",
          "Unknown",
          "PF",
          "IL",
          "CH",
          "NL",
          "KW",
          "GB",
          "AT",
          "OM",
          "IT",
          "BS",
          "PT",
          "MT",
          "AM",
          "SI",
          "CL",
          "VE",
          "BE",
          "DE",
          "RU",
          "HR",
          "BY",
          "ES",
          "PY",
          "NC",
          "ZA",
          "BB",
          "LT",
          "TR",
          "EE",
          "MX",
          "CR",
          "BO",
          "EC",
          "PA",
          "CZ",
          "RO",
          "CO",
          "MV",
          "CY",
          "RS",
          "AE",
          "DZ",
          "UA",
          "PK",
          "SZ",
          "LV",
          "BA",
          "FJ",
          "KR",
          "PL",
          "SA",
          "BW",
          "MK",
          "HU",
          "TT",
          "TN",
          "EG",
          "MU",
          "BG",
          "MA",
          "SK",
          "NE",
          "KE",
          "JO",
          "JP",
          "GE",
          "GD",
          "SV",
          "CU",
          "CN",
          "HN",
          "Unknown",
          "AO",
          "JM",
          "NA",
          "BZ",
          "MY",
          "ZW",
          "GT",
          "UG",
          "NP",
          "IR",
          "TZ",
          "SN",
          "PE",
          "NI",
          "VN",
          "ET",
          "MM",
          "CG",
          "ZM",
          "CM",
          "MG",
          "MW",
          "GN",
          "NG",
          "RW",
          "PH",
          "GH",
          "TG",
          "GM",
          "IN",
          "TH",
          "MZ",
          "KH",
          "SL",
          "LK",
          "ID",
          "LR",
          "BD"
         ],
         "locations": [
          "ARG",
          "AUS",
          "ALB",
          "ISL",
          "NZL",
          "USA",
          "URY",
          "LUX",
          "BRA",
          "KAZ",
          "SWE",
          "BMU",
          "DNK",
          "FIN",
          "IRL",
          "GRC",
          "FRA",
          "CAN",
          "NOR",
          "not found",
          "PYF",
          "ISR",
          "CHE",
          "NLD",
          "KWT",
          "GBR",
          "AUT",
          "OMN",
          "ITA",
          "BHS",
          "PRT",
          "MLT",
          "ARM",
          "SVN",
          "CHL",
          "VEN",
          "BEL",
          "DEU",
          "RUS",
          "HRV",
          "BLR",
          "ESP",
          "PRY",
          "NCL",
          "ZAF",
          "BRB",
          "LTU",
          "TUR",
          "EST",
          "MEX",
          "CRI",
          "BOL",
          "ECU",
          "PAN",
          "CZE",
          "ROU",
          "COL",
          "MDV",
          "CYP",
          "SRB",
          "ARE",
          "DZA",
          "UKR",
          "PAK",
          "SWZ",
          "LVA",
          "BIH",
          "FJI",
          "KOR",
          "POL",
          "SAU",
          "BWA",
          "MKD",
          "HUN",
          "TTO",
          "TUN",
          "EGY",
          "MUS",
          "BGR",
          "MAR",
          "SVK",
          "NER",
          "KEN",
          "JOR",
          "JPN",
          "GEO",
          "GRD",
          "SLV",
          "CUB",
          "CHN",
          "HND",
          "not found",
          "AGO",
          "JAM",
          "NAM",
          "BLZ",
          "MYS",
          "ZWE",
          "GTM",
          "UGA",
          "NPL",
          "IRN",
          "TZA",
          "SEN",
          "PER",
          "NIC",
          "VNM",
          "ETH",
          "MMR",
          "COG",
          "ZMB",
          "CMR",
          "MDG",
          "MWI",
          "GIN",
          "NGA",
          "RWA",
          "PHL",
          "GHA",
          "TGO",
          "GMB",
          "IND",
          "THA",
          "MOZ",
          "KHM",
          "SLE",
          "LKA",
          "IDN",
          "LBR",
          "BGD"
         ],
         "name": "",
         "type": "choropleth",
         "z": [
          2172.4,
          1938.6399999999999,
          1777.84,
          1731.35,
          1750.94,
          1718.86,
          1634.91,
          1598.41,
          1616.73,
          1575.07,
          1527.0200000000002,
          1483.27,
          1498.1699999999998,
          1464.63,
          1459.6699999999998,
          1497.29,
          1420.06,
          1437.15,
          1381.9,
          1494.29,
          1424.67,
          1405.6999999999998,
          1356.75,
          1292.83,
          1345.4499999999998,
          1241.63,
          1211.1599999999999,
          1296.7,
          1206.33,
          1192.91,
          1174.28,
          1147.91,
          1109.93,
          1111.55,
          1099.57,
          1104.1000000000001,
          1102.08,
          1066.29,
          1007.66,
          996.1400000000001,
          960.1999999999999,
          988.49,
          876.67,
          918.5999999999999,
          892.41,
          889.11,
          868.91,
          897.01,
          830.7099999999999,
          797.13,
          891.27,
          873.03,
          883.88,
          928.46,
          760.0899999999999,
          766.3000000000001,
          781.53,
          903.46,
          741.36,
          723.32,
          897.3100000000001,
          707.89,
          665.73,
          669.05,
          678.9399999999999,
          633.5699999999999,
          628.1800000000001,
          716.08,
          822.0500000000001,
          607.3900000000001,
          692.88,
          576.86,
          600.7399999999999,
          576.8100000000001,
          610.41,
          618.89,
          673.93,
          672.0699999999999,
          560.16,
          576.39,
          560.34,
          542.8900000000001,
          530.84,
          587.96,
          644.06,
          527.03,
          439.85,
          434.03000000000003,
          591.69,
          640.2,
          434.08000000000004,
          559.55,
          412.99,
          450.81,
          362.12,
          433.07,
          554.64,
          350.34,
          314.99,
          304.73,
          526.24,
          445.27,
          343.02,
          469.42,
          402.84000000000003,
          377.7,
          641.52,
          241.92000000000002,
          563.8,
          262.55,
          225.31,
          283.61,
          440.76,
          207.95,
          432.70000000000005,
          267.78,
          181.62,
          455.28,
          217.88,
          188.10000000000002,
          293.65,
          282.62,
          377.98,
          141.41,
          452.40999999999997,
          300.40999999999997,
          294.45000000000005,
          367.52,
          203.39,
          374.19
         ]
        }
       ],
       "layout": {
        "coloraxis": {
         "colorbar": {
          "title": {
           "text": "totalco2"
          }
         },
         "colorscale": [
          [
           0,
           "#0d0887"
          ],
          [
           0.1111111111111111,
           "#46039f"
          ],
          [
           0.2222222222222222,
           "#7201a8"
          ],
          [
           0.3333333333333333,
           "#9c179e"
          ],
          [
           0.4444444444444444,
           "#bd3786"
          ],
          [
           0.5555555555555556,
           "#d8576b"
          ],
          [
           0.6666666666666666,
           "#ed7953"
          ],
          [
           0.7777777777777778,
           "#fb9f3a"
          ],
          [
           0.8888888888888888,
           "#fdca26"
          ],
          [
           1,
           "#f0f921"
          ]
         ]
        },
        "geo": {
         "center": {},
         "domain": {
          "x": [
           0,
           1
          ],
          "y": [
           0,
           1
          ]
         }
        },
        "legend": {
         "tracegroupgap": 0
        },
        "margin": {
         "t": 60
        },
        "template": {
         "data": {
          "bar": [
           {
            "error_x": {
             "color": "#2a3f5f"
            },
            "error_y": {
             "color": "#2a3f5f"
            },
            "marker": {
             "line": {
              "color": "#E5ECF6",
              "width": 0.5
             }
            },
            "type": "bar"
           }
          ],
          "barpolar": [
           {
            "marker": {
             "line": {
              "color": "#E5ECF6",
              "width": 0.5
             }
            },
            "type": "barpolar"
           }
          ],
          "carpet": [
           {
            "aaxis": {
             "endlinecolor": "#2a3f5f",
             "gridcolor": "white",
             "linecolor": "white",
             "minorgridcolor": "white",
             "startlinecolor": "#2a3f5f"
            },
            "baxis": {
             "endlinecolor": "#2a3f5f",
             "gridcolor": "white",
             "linecolor": "white",
             "minorgridcolor": "white",
             "startlinecolor": "#2a3f5f"
            },
            "type": "carpet"
           }
          ],
          "choropleth": [
           {
            "colorbar": {
             "outlinewidth": 0,
             "ticks": ""
            },
            "type": "choropleth"
           }
          ],
          "contour": [
           {
            "colorbar": {
             "outlinewidth": 0,
             "ticks": ""
            },
            "colorscale": [
             [
              0,
              "#0d0887"
             ],
             [
              0.1111111111111111,
              "#46039f"
             ],
             [
              0.2222222222222222,
              "#7201a8"
             ],
             [
              0.3333333333333333,
              "#9c179e"
             ],
             [
              0.4444444444444444,
              "#bd3786"
             ],
             [
              0.5555555555555556,
              "#d8576b"
             ],
             [
              0.6666666666666666,
              "#ed7953"
             ],
             [
              0.7777777777777778,
              "#fb9f3a"
             ],
             [
              0.8888888888888888,
              "#fdca26"
             ],
             [
              1,
              "#f0f921"
             ]
            ],
            "type": "contour"
           }
          ],
          "contourcarpet": [
           {
            "colorbar": {
             "outlinewidth": 0,
             "ticks": ""
            },
            "type": "contourcarpet"
           }
          ],
          "heatmap": [
           {
            "colorbar": {
             "outlinewidth": 0,
             "ticks": ""
            },
            "colorscale": [
             [
              0,
              "#0d0887"
             ],
             [
              0.1111111111111111,
              "#46039f"
             ],
             [
              0.2222222222222222,
              "#7201a8"
             ],
             [
              0.3333333333333333,
              "#9c179e"
             ],
             [
              0.4444444444444444,
              "#bd3786"
             ],
             [
              0.5555555555555556,
              "#d8576b"
             ],
             [
              0.6666666666666666,
              "#ed7953"
             ],
             [
              0.7777777777777778,
              "#fb9f3a"
             ],
             [
              0.8888888888888888,
              "#fdca26"
             ],
             [
              1,
              "#f0f921"
             ]
            ],
            "type": "heatmap"
           }
          ],
          "heatmapgl": [
           {
            "colorbar": {
             "outlinewidth": 0,
             "ticks": ""
            },
            "colorscale": [
             [
              0,
              "#0d0887"
             ],
             [
              0.1111111111111111,
              "#46039f"
             ],
             [
              0.2222222222222222,
              "#7201a8"
             ],
             [
              0.3333333333333333,
              "#9c179e"
             ],
             [
              0.4444444444444444,
              "#bd3786"
             ],
             [
              0.5555555555555556,
              "#d8576b"
             ],
             [
              0.6666666666666666,
              "#ed7953"
             ],
             [
              0.7777777777777778,
              "#fb9f3a"
             ],
             [
              0.8888888888888888,
              "#fdca26"
             ],
             [
              1,
              "#f0f921"
             ]
            ],
            "type": "heatmapgl"
           }
          ],
          "histogram": [
           {
            "marker": {
             "colorbar": {
              "outlinewidth": 0,
              "ticks": ""
             }
            },
            "type": "histogram"
           }
          ],
          "histogram2d": [
           {
            "colorbar": {
             "outlinewidth": 0,
             "ticks": ""
            },
            "colorscale": [
             [
              0,
              "#0d0887"
             ],
             [
              0.1111111111111111,
              "#46039f"
             ],
             [
              0.2222222222222222,
              "#7201a8"
             ],
             [
              0.3333333333333333,
              "#9c179e"
             ],
             [
              0.4444444444444444,
              "#bd3786"
             ],
             [
              0.5555555555555556,
              "#d8576b"
             ],
             [
              0.6666666666666666,
              "#ed7953"
             ],
             [
              0.7777777777777778,
              "#fb9f3a"
             ],
             [
              0.8888888888888888,
              "#fdca26"
             ],
             [
              1,
              "#f0f921"
             ]
            ],
            "type": "histogram2d"
           }
          ],
          "histogram2dcontour": [
           {
            "colorbar": {
             "outlinewidth": 0,
             "ticks": ""
            },
            "colorscale": [
             [
              0,
              "#0d0887"
             ],
             [
              0.1111111111111111,
              "#46039f"
             ],
             [
              0.2222222222222222,
              "#7201a8"
             ],
             [
              0.3333333333333333,
              "#9c179e"
             ],
             [
              0.4444444444444444,
              "#bd3786"
             ],
             [
              0.5555555555555556,
              "#d8576b"
             ],
             [
              0.6666666666666666,
              "#ed7953"
             ],
             [
              0.7777777777777778,
              "#fb9f3a"
             ],
             [
              0.8888888888888888,
              "#fdca26"
             ],
             [
              1,
              "#f0f921"
             ]
            ],
            "type": "histogram2dcontour"
           }
          ],
          "mesh3d": [
           {
            "colorbar": {
             "outlinewidth": 0,
             "ticks": ""
            },
            "type": "mesh3d"
           }
          ],
          "parcoords": [
           {
            "line": {
             "colorbar": {
              "outlinewidth": 0,
              "ticks": ""
             }
            },
            "type": "parcoords"
           }
          ],
          "pie": [
           {
            "automargin": true,
            "type": "pie"
           }
          ],
          "scatter": [
           {
            "marker": {
             "colorbar": {
              "outlinewidth": 0,
              "ticks": ""
             }
            },
            "type": "scatter"
           }
          ],
          "scatter3d": [
           {
            "line": {
             "colorbar": {
              "outlinewidth": 0,
              "ticks": ""
             }
            },
            "marker": {
             "colorbar": {
              "outlinewidth": 0,
              "ticks": ""
             }
            },
            "type": "scatter3d"
           }
          ],
          "scattercarpet": [
           {
            "marker": {
             "colorbar": {
              "outlinewidth": 0,
              "ticks": ""
             }
            },
            "type": "scattercarpet"
           }
          ],
          "scattergeo": [
           {
            "marker": {
             "colorbar": {
              "outlinewidth": 0,
              "ticks": ""
             }
            },
            "type": "scattergeo"
           }
          ],
          "scattergl": [
           {
            "marker": {
             "colorbar": {
              "outlinewidth": 0,
              "ticks": ""
             }
            },
            "type": "scattergl"
           }
          ],
          "scattermapbox": [
           {
            "marker": {
             "colorbar": {
              "outlinewidth": 0,
              "ticks": ""
             }
            },
            "type": "scattermapbox"
           }
          ],
          "scatterpolar": [
           {
            "marker": {
             "colorbar": {
              "outlinewidth": 0,
              "ticks": ""
             }
            },
            "type": "scatterpolar"
           }
          ],
          "scatterpolargl": [
           {
            "marker": {
             "colorbar": {
              "outlinewidth": 0,
              "ticks": ""
             }
            },
            "type": "scatterpolargl"
           }
          ],
          "scatterternary": [
           {
            "marker": {
             "colorbar": {
              "outlinewidth": 0,
              "ticks": ""
             }
            },
            "type": "scatterternary"
           }
          ],
          "surface": [
           {
            "colorbar": {
             "outlinewidth": 0,
             "ticks": ""
            },
            "colorscale": [
             [
              0,
              "#0d0887"
             ],
             [
              0.1111111111111111,
              "#46039f"
             ],
             [
              0.2222222222222222,
              "#7201a8"
             ],
             [
              0.3333333333333333,
              "#9c179e"
             ],
             [
              0.4444444444444444,
              "#bd3786"
             ],
             [
              0.5555555555555556,
              "#d8576b"
             ],
             [
              0.6666666666666666,
              "#ed7953"
             ],
             [
              0.7777777777777778,
              "#fb9f3a"
             ],
             [
              0.8888888888888888,
              "#fdca26"
             ],
             [
              1,
              "#f0f921"
             ]
            ],
            "type": "surface"
           }
          ],
          "table": [
           {
            "cells": {
             "fill": {
              "color": "#EBF0F8"
             },
             "line": {
              "color": "white"
             }
            },
            "header": {
             "fill": {
              "color": "#C8D4E3"
             },
             "line": {
              "color": "white"
             }
            },
            "type": "table"
           }
          ]
         },
         "layout": {
          "annotationdefaults": {
           "arrowcolor": "#2a3f5f",
           "arrowhead": 0,
           "arrowwidth": 1
          },
          "coloraxis": {
           "colorbar": {
            "outlinewidth": 0,
            "ticks": ""
           }
          },
          "colorscale": {
           "diverging": [
            [
             0,
             "#8e0152"
            ],
            [
             0.1,
             "#c51b7d"
            ],
            [
             0.2,
             "#de77ae"
            ],
            [
             0.3,
             "#f1b6da"
            ],
            [
             0.4,
             "#fde0ef"
            ],
            [
             0.5,
             "#f7f7f7"
            ],
            [
             0.6,
             "#e6f5d0"
            ],
            [
             0.7,
             "#b8e186"
            ],
            [
             0.8,
             "#7fbc41"
            ],
            [
             0.9,
             "#4d9221"
            ],
            [
             1,
             "#276419"
            ]
           ],
           "sequential": [
            [
             0,
             "#0d0887"
            ],
            [
             0.1111111111111111,
             "#46039f"
            ],
            [
             0.2222222222222222,
             "#7201a8"
            ],
            [
             0.3333333333333333,
             "#9c179e"
            ],
            [
             0.4444444444444444,
             "#bd3786"
            ],
            [
             0.5555555555555556,
             "#d8576b"
            ],
            [
             0.6666666666666666,
             "#ed7953"
            ],
            [
             0.7777777777777778,
             "#fb9f3a"
            ],
            [
             0.8888888888888888,
             "#fdca26"
            ],
            [
             1,
             "#f0f921"
            ]
           ],
           "sequentialminus": [
            [
             0,
             "#0d0887"
            ],
            [
             0.1111111111111111,
             "#46039f"
            ],
            [
             0.2222222222222222,
             "#7201a8"
            ],
            [
             0.3333333333333333,
             "#9c179e"
            ],
            [
             0.4444444444444444,
             "#bd3786"
            ],
            [
             0.5555555555555556,
             "#d8576b"
            ],
            [
             0.6666666666666666,
             "#ed7953"
            ],
            [
             0.7777777777777778,
             "#fb9f3a"
            ],
            [
             0.8888888888888888,
             "#fdca26"
            ],
            [
             1,
             "#f0f921"
            ]
           ]
          },
          "colorway": [
           "#636efa",
           "#EF553B",
           "#00cc96",
           "#ab63fa",
           "#FFA15A",
           "#19d3f3",
           "#FF6692",
           "#B6E880",
           "#FF97FF",
           "#FECB52"
          ],
          "font": {
           "color": "#2a3f5f"
          },
          "geo": {
           "bgcolor": "white",
           "lakecolor": "white",
           "landcolor": "#E5ECF6",
           "showlakes": true,
           "showland": true,
           "subunitcolor": "white"
          },
          "hoverlabel": {
           "align": "left"
          },
          "hovermode": "closest",
          "mapbox": {
           "style": "light"
          },
          "paper_bgcolor": "white",
          "plot_bgcolor": "#E5ECF6",
          "polar": {
           "angularaxis": {
            "gridcolor": "white",
            "linecolor": "white",
            "ticks": ""
           },
           "bgcolor": "#E5ECF6",
           "radialaxis": {
            "gridcolor": "white",
            "linecolor": "white",
            "ticks": ""
           }
          },
          "scene": {
           "xaxis": {
            "backgroundcolor": "#E5ECF6",
            "gridcolor": "white",
            "gridwidth": 2,
            "linecolor": "white",
            "showbackground": true,
            "ticks": "",
            "zerolinecolor": "white"
           },
           "yaxis": {
            "backgroundcolor": "#E5ECF6",
            "gridcolor": "white",
            "gridwidth": 2,
            "linecolor": "white",
            "showbackground": true,
            "ticks": "",
            "zerolinecolor": "white"
           },
           "zaxis": {
            "backgroundcolor": "#E5ECF6",
            "gridcolor": "white",
            "gridwidth": 2,
            "linecolor": "white",
            "showbackground": true,
            "ticks": "",
            "zerolinecolor": "white"
           }
          },
          "shapedefaults": {
           "line": {
            "color": "#2a3f5f"
           }
          },
          "ternary": {
           "aaxis": {
            "gridcolor": "white",
            "linecolor": "white",
            "ticks": ""
           },
           "baxis": {
            "gridcolor": "white",
            "linecolor": "white",
            "ticks": ""
           },
           "bgcolor": "#E5ECF6",
           "caxis": {
            "gridcolor": "white",
            "linecolor": "white",
            "ticks": ""
           }
          },
          "title": {
           "x": 0.05
          },
          "xaxis": {
           "automargin": true,
           "gridcolor": "white",
           "linecolor": "white",
           "ticks": "",
           "title": {
            "standoff": 15
           },
           "zerolinecolor": "white",
           "zerolinewidth": 2
          },
          "yaxis": {
           "automargin": true,
           "gridcolor": "white",
           "linecolor": "white",
           "ticks": "",
           "title": {
            "standoff": 15
           },
           "zerolinecolor": "white",
           "zerolinewidth": 2
          }
         }
        }
       }
      },
      "text/html": [
       "<div>                            <div id=\"64df6329-43f2-421c-83ac-97aec5a6ca87\" class=\"plotly-graph-div\" style=\"height:525px; width:100%;\"></div>            <script type=\"text/javascript\">                require([\"plotly\"], function(Plotly) {                    window.PLOTLYENV=window.PLOTLYENV || {};                                    if (document.getElementById(\"64df6329-43f2-421c-83ac-97aec5a6ca87\")) {                    Plotly.newPlot(                        \"64df6329-43f2-421c-83ac-97aec5a6ca87\",                        [{\"coloraxis\": \"coloraxis\", \"geo\": \"geo\", \"hovertemplate\": \"<b>%{hovertext}</b><br><br>CountryCode=%{location}<br>totalco2=%{z}<extra></extra>\", \"hovertext\": [\"AR\", \"AU\", \"AL\", \"IS\", \"NZ\", \"US\", \"UY\", \"LU\", \"BR\", \"KZ\", \"SE\", \"BM\", \"DK\", \"FI\", \"IE\", \"GR\", \"FR\", \"CA\", \"NO\", \"Unknown\", \"PF\", \"IL\", \"CH\", \"NL\", \"KW\", \"GB\", \"AT\", \"OM\", \"IT\", \"BS\", \"PT\", \"MT\", \"AM\", \"SI\", \"CL\", \"VE\", \"BE\", \"DE\", \"RU\", \"HR\", \"BY\", \"ES\", \"PY\", \"NC\", \"ZA\", \"BB\", \"LT\", \"TR\", \"EE\", \"MX\", \"CR\", \"BO\", \"EC\", \"PA\", \"CZ\", \"RO\", \"CO\", \"MV\", \"CY\", \"RS\", \"AE\", \"DZ\", \"UA\", \"PK\", \"SZ\", \"LV\", \"BA\", \"FJ\", \"KR\", \"PL\", \"SA\", \"BW\", \"MK\", \"HU\", \"TT\", \"TN\", \"EG\", \"MU\", \"BG\", \"MA\", \"SK\", \"NE\", \"KE\", \"JO\", \"JP\", \"GE\", \"GD\", \"SV\", \"CU\", \"CN\", \"HN\", \"Unknown\", \"AO\", \"JM\", \"NA\", \"BZ\", \"MY\", \"ZW\", \"GT\", \"UG\", \"NP\", \"IR\", \"TZ\", \"SN\", \"PE\", \"NI\", \"VN\", \"ET\", \"MM\", \"CG\", \"ZM\", \"CM\", \"MG\", \"MW\", \"GN\", \"NG\", \"RW\", \"PH\", \"GH\", \"TG\", \"GM\", \"IN\", \"TH\", \"MZ\", \"KH\", \"SL\", \"LK\", \"ID\", \"LR\", \"BD\"], \"locations\": [\"ARG\", \"AUS\", \"ALB\", \"ISL\", \"NZL\", \"USA\", \"URY\", \"LUX\", \"BRA\", \"KAZ\", \"SWE\", \"BMU\", \"DNK\", \"FIN\", \"IRL\", \"GRC\", \"FRA\", \"CAN\", \"NOR\", \"not found\", \"PYF\", \"ISR\", \"CHE\", \"NLD\", \"KWT\", \"GBR\", \"AUT\", \"OMN\", \"ITA\", \"BHS\", \"PRT\", \"MLT\", \"ARM\", \"SVN\", \"CHL\", \"VEN\", \"BEL\", \"DEU\", \"RUS\", \"HRV\", \"BLR\", \"ESP\", \"PRY\", \"NCL\", \"ZAF\", \"BRB\", \"LTU\", \"TUR\", \"EST\", \"MEX\", \"CRI\", \"BOL\", \"ECU\", \"PAN\", \"CZE\", \"ROU\", \"COL\", \"MDV\", \"CYP\", \"SRB\", \"ARE\", \"DZA\", \"UKR\", \"PAK\", \"SWZ\", \"LVA\", \"BIH\", \"FJI\", \"KOR\", \"POL\", \"SAU\", \"BWA\", \"MKD\", \"HUN\", \"TTO\", \"TUN\", \"EGY\", \"MUS\", \"BGR\", \"MAR\", \"SVK\", \"NER\", \"KEN\", \"JOR\", \"JPN\", \"GEO\", \"GRD\", \"SLV\", \"CUB\", \"CHN\", \"HND\", \"not found\", \"AGO\", \"JAM\", \"NAM\", \"BLZ\", \"MYS\", \"ZWE\", \"GTM\", \"UGA\", \"NPL\", \"IRN\", \"TZA\", \"SEN\", \"PER\", \"NIC\", \"VNM\", \"ETH\", \"MMR\", \"COG\", \"ZMB\", \"CMR\", \"MDG\", \"MWI\", \"GIN\", \"NGA\", \"RWA\", \"PHL\", \"GHA\", \"TGO\", \"GMB\", \"IND\", \"THA\", \"MOZ\", \"KHM\", \"SLE\", \"LKA\", \"IDN\", \"LBR\", \"BGD\"], \"name\": \"\", \"type\": \"choropleth\", \"z\": [2172.4, 1938.6399999999999, 1777.84, 1731.35, 1750.94, 1718.86, 1634.91, 1598.41, 1616.73, 1575.07, 1527.0200000000002, 1483.27, 1498.1699999999998, 1464.63, 1459.6699999999998, 1497.29, 1420.06, 1437.15, 1381.9, 1494.29, 1424.67, 1405.6999999999998, 1356.75, 1292.83, 1345.4499999999998, 1241.63, 1211.1599999999999, 1296.7, 1206.33, 1192.91, 1174.28, 1147.91, 1109.93, 1111.55, 1099.57, 1104.1000000000001, 1102.08, 1066.29, 1007.66, 996.1400000000001, 960.1999999999999, 988.49, 876.67, 918.5999999999999, 892.41, 889.11, 868.91, 897.01, 830.7099999999999, 797.13, 891.27, 873.03, 883.88, 928.46, 760.0899999999999, 766.3000000000001, 781.53, 903.46, 741.36, 723.32, 897.3100000000001, 707.89, 665.73, 669.05, 678.9399999999999, 633.5699999999999, 628.1800000000001, 716.08, 822.0500000000001, 607.3900000000001, 692.88, 576.86, 600.7399999999999, 576.8100000000001, 610.41, 618.89, 673.93, 672.0699999999999, 560.16, 576.39, 560.34, 542.8900000000001, 530.84, 587.96, 644.06, 527.03, 439.85, 434.03000000000003, 591.69, 640.2, 434.08000000000004, 559.55, 412.99, 450.81, 362.12, 433.07, 554.64, 350.34, 314.99, 304.73, 526.24, 445.27, 343.02, 469.42, 402.84000000000003, 377.7, 641.52, 241.92000000000002, 563.8, 262.55, 225.31, 283.61, 440.76, 207.95, 432.70000000000005, 267.78, 181.62, 455.28, 217.88, 188.10000000000002, 293.65, 282.62, 377.98, 141.41, 452.40999999999997, 300.40999999999997, 294.45000000000005, 367.52, 203.39, 374.19]}],                        {\"coloraxis\": {\"colorbar\": {\"title\": {\"text\": \"totalco2\"}}, \"colorscale\": [[0.0, \"#0d0887\"], [0.1111111111111111, \"#46039f\"], [0.2222222222222222, \"#7201a8\"], [0.3333333333333333, \"#9c179e\"], [0.4444444444444444, \"#bd3786\"], [0.5555555555555556, \"#d8576b\"], [0.6666666666666666, \"#ed7953\"], [0.7777777777777778, \"#fb9f3a\"], [0.8888888888888888, \"#fdca26\"], [1.0, \"#f0f921\"]]}, \"geo\": {\"center\": {}, \"domain\": {\"x\": [0.0, 1.0], \"y\": [0.0, 1.0]}}, \"legend\": {\"tracegroupgap\": 0}, \"margin\": {\"t\": 60}, \"template\": {\"data\": {\"bar\": [{\"error_x\": {\"color\": \"#2a3f5f\"}, \"error_y\": {\"color\": \"#2a3f5f\"}, \"marker\": {\"line\": {\"color\": \"#E5ECF6\", \"width\": 0.5}}, \"type\": \"bar\"}], \"barpolar\": [{\"marker\": {\"line\": {\"color\": \"#E5ECF6\", \"width\": 0.5}}, \"type\": \"barpolar\"}], \"carpet\": [{\"aaxis\": {\"endlinecolor\": \"#2a3f5f\", \"gridcolor\": \"white\", \"linecolor\": \"white\", \"minorgridcolor\": \"white\", \"startlinecolor\": \"#2a3f5f\"}, \"baxis\": {\"endlinecolor\": \"#2a3f5f\", \"gridcolor\": \"white\", \"linecolor\": \"white\", \"minorgridcolor\": \"white\", \"startlinecolor\": \"#2a3f5f\"}, \"type\": \"carpet\"}], \"choropleth\": [{\"colorbar\": {\"outlinewidth\": 0, \"ticks\": \"\"}, \"type\": \"choropleth\"}], \"contour\": [{\"colorbar\": {\"outlinewidth\": 0, \"ticks\": \"\"}, \"colorscale\": [[0.0, \"#0d0887\"], [0.1111111111111111, \"#46039f\"], [0.2222222222222222, \"#7201a8\"], [0.3333333333333333, \"#9c179e\"], [0.4444444444444444, \"#bd3786\"], [0.5555555555555556, \"#d8576b\"], [0.6666666666666666, \"#ed7953\"], [0.7777777777777778, \"#fb9f3a\"], [0.8888888888888888, \"#fdca26\"], [1.0, \"#f0f921\"]], \"type\": \"contour\"}], \"contourcarpet\": [{\"colorbar\": {\"outlinewidth\": 0, \"ticks\": \"\"}, \"type\": \"contourcarpet\"}], \"heatmap\": [{\"colorbar\": {\"outlinewidth\": 0, \"ticks\": \"\"}, \"colorscale\": [[0.0, \"#0d0887\"], [0.1111111111111111, \"#46039f\"], [0.2222222222222222, \"#7201a8\"], [0.3333333333333333, \"#9c179e\"], [0.4444444444444444, \"#bd3786\"], [0.5555555555555556, \"#d8576b\"], [0.6666666666666666, \"#ed7953\"], [0.7777777777777778, \"#fb9f3a\"], [0.8888888888888888, \"#fdca26\"], [1.0, \"#f0f921\"]], \"type\": \"heatmap\"}], \"heatmapgl\": [{\"colorbar\": {\"outlinewidth\": 0, \"ticks\": \"\"}, \"colorscale\": [[0.0, \"#0d0887\"], [0.1111111111111111, \"#46039f\"], [0.2222222222222222, \"#7201a8\"], [0.3333333333333333, \"#9c179e\"], [0.4444444444444444, \"#bd3786\"], [0.5555555555555556, \"#d8576b\"], [0.6666666666666666, \"#ed7953\"], [0.7777777777777778, \"#fb9f3a\"], [0.8888888888888888, \"#fdca26\"], [1.0, \"#f0f921\"]], \"type\": \"heatmapgl\"}], \"histogram\": [{\"marker\": {\"colorbar\": {\"outlinewidth\": 0, \"ticks\": \"\"}}, \"type\": \"histogram\"}], \"histogram2d\": [{\"colorbar\": {\"outlinewidth\": 0, \"ticks\": \"\"}, \"colorscale\": [[0.0, \"#0d0887\"], [0.1111111111111111, \"#46039f\"], [0.2222222222222222, \"#7201a8\"], [0.3333333333333333, \"#9c179e\"], [0.4444444444444444, \"#bd3786\"], [0.5555555555555556, \"#d8576b\"], [0.6666666666666666, \"#ed7953\"], [0.7777777777777778, \"#fb9f3a\"], [0.8888888888888888, \"#fdca26\"], [1.0, \"#f0f921\"]], \"type\": \"histogram2d\"}], \"histogram2dcontour\": [{\"colorbar\": {\"outlinewidth\": 0, \"ticks\": \"\"}, \"colorscale\": [[0.0, \"#0d0887\"], [0.1111111111111111, \"#46039f\"], [0.2222222222222222, \"#7201a8\"], [0.3333333333333333, \"#9c179e\"], [0.4444444444444444, \"#bd3786\"], [0.5555555555555556, \"#d8576b\"], [0.6666666666666666, \"#ed7953\"], [0.7777777777777778, \"#fb9f3a\"], [0.8888888888888888, \"#fdca26\"], [1.0, \"#f0f921\"]], \"type\": \"histogram2dcontour\"}], \"mesh3d\": [{\"colorbar\": {\"outlinewidth\": 0, \"ticks\": \"\"}, \"type\": \"mesh3d\"}], \"parcoords\": [{\"line\": {\"colorbar\": {\"outlinewidth\": 0, \"ticks\": \"\"}}, \"type\": \"parcoords\"}], \"pie\": [{\"automargin\": true, \"type\": \"pie\"}], \"scatter\": [{\"marker\": {\"colorbar\": {\"outlinewidth\": 0, \"ticks\": \"\"}}, \"type\": \"scatter\"}], \"scatter3d\": [{\"line\": {\"colorbar\": {\"outlinewidth\": 0, \"ticks\": \"\"}}, \"marker\": {\"colorbar\": {\"outlinewidth\": 0, \"ticks\": \"\"}}, \"type\": \"scatter3d\"}], \"scattercarpet\": [{\"marker\": {\"colorbar\": {\"outlinewidth\": 0, \"ticks\": \"\"}}, \"type\": \"scattercarpet\"}], \"scattergeo\": [{\"marker\": {\"colorbar\": {\"outlinewidth\": 0, \"ticks\": \"\"}}, \"type\": \"scattergeo\"}], \"scattergl\": [{\"marker\": {\"colorbar\": {\"outlinewidth\": 0, \"ticks\": \"\"}}, \"type\": \"scattergl\"}], \"scattermapbox\": [{\"marker\": {\"colorbar\": {\"outlinewidth\": 0, \"ticks\": \"\"}}, \"type\": \"scattermapbox\"}], \"scatterpolar\": [{\"marker\": {\"colorbar\": {\"outlinewidth\": 0, \"ticks\": \"\"}}, \"type\": \"scatterpolar\"}], \"scatterpolargl\": [{\"marker\": {\"colorbar\": {\"outlinewidth\": 0, \"ticks\": \"\"}}, \"type\": \"scatterpolargl\"}], \"scatterternary\": [{\"marker\": {\"colorbar\": {\"outlinewidth\": 0, \"ticks\": \"\"}}, \"type\": \"scatterternary\"}], \"surface\": [{\"colorbar\": {\"outlinewidth\": 0, \"ticks\": \"\"}, \"colorscale\": [[0.0, \"#0d0887\"], [0.1111111111111111, \"#46039f\"], [0.2222222222222222, \"#7201a8\"], [0.3333333333333333, \"#9c179e\"], [0.4444444444444444, \"#bd3786\"], [0.5555555555555556, \"#d8576b\"], [0.6666666666666666, \"#ed7953\"], [0.7777777777777778, \"#fb9f3a\"], [0.8888888888888888, \"#fdca26\"], [1.0, \"#f0f921\"]], \"type\": \"surface\"}], \"table\": [{\"cells\": {\"fill\": {\"color\": \"#EBF0F8\"}, \"line\": {\"color\": \"white\"}}, \"header\": {\"fill\": {\"color\": \"#C8D4E3\"}, \"line\": {\"color\": \"white\"}}, \"type\": \"table\"}]}, \"layout\": {\"annotationdefaults\": {\"arrowcolor\": \"#2a3f5f\", \"arrowhead\": 0, \"arrowwidth\": 1}, \"coloraxis\": {\"colorbar\": {\"outlinewidth\": 0, \"ticks\": \"\"}}, \"colorscale\": {\"diverging\": [[0, \"#8e0152\"], [0.1, \"#c51b7d\"], [0.2, \"#de77ae\"], [0.3, \"#f1b6da\"], [0.4, \"#fde0ef\"], [0.5, \"#f7f7f7\"], [0.6, \"#e6f5d0\"], [0.7, \"#b8e186\"], [0.8, \"#7fbc41\"], [0.9, \"#4d9221\"], [1, \"#276419\"]], \"sequential\": [[0.0, \"#0d0887\"], [0.1111111111111111, \"#46039f\"], [0.2222222222222222, \"#7201a8\"], [0.3333333333333333, \"#9c179e\"], [0.4444444444444444, \"#bd3786\"], [0.5555555555555556, \"#d8576b\"], [0.6666666666666666, \"#ed7953\"], [0.7777777777777778, \"#fb9f3a\"], [0.8888888888888888, \"#fdca26\"], [1.0, \"#f0f921\"]], \"sequentialminus\": [[0.0, \"#0d0887\"], [0.1111111111111111, \"#46039f\"], [0.2222222222222222, \"#7201a8\"], [0.3333333333333333, \"#9c179e\"], [0.4444444444444444, \"#bd3786\"], [0.5555555555555556, \"#d8576b\"], [0.6666666666666666, \"#ed7953\"], [0.7777777777777778, \"#fb9f3a\"], [0.8888888888888888, \"#fdca26\"], [1.0, \"#f0f921\"]]}, \"colorway\": [\"#636efa\", \"#EF553B\", \"#00cc96\", \"#ab63fa\", \"#FFA15A\", \"#19d3f3\", \"#FF6692\", \"#B6E880\", \"#FF97FF\", \"#FECB52\"], \"font\": {\"color\": \"#2a3f5f\"}, \"geo\": {\"bgcolor\": \"white\", \"lakecolor\": \"white\", \"landcolor\": \"#E5ECF6\", \"showlakes\": true, \"showland\": true, \"subunitcolor\": \"white\"}, \"hoverlabel\": {\"align\": \"left\"}, \"hovermode\": \"closest\", \"mapbox\": {\"style\": \"light\"}, \"paper_bgcolor\": \"white\", \"plot_bgcolor\": \"#E5ECF6\", \"polar\": {\"angularaxis\": {\"gridcolor\": \"white\", \"linecolor\": \"white\", \"ticks\": \"\"}, \"bgcolor\": \"#E5ECF6\", \"radialaxis\": {\"gridcolor\": \"white\", \"linecolor\": \"white\", \"ticks\": \"\"}}, \"scene\": {\"xaxis\": {\"backgroundcolor\": \"#E5ECF6\", \"gridcolor\": \"white\", \"gridwidth\": 2, \"linecolor\": \"white\", \"showbackground\": true, \"ticks\": \"\", \"zerolinecolor\": \"white\"}, \"yaxis\": {\"backgroundcolor\": \"#E5ECF6\", \"gridcolor\": \"white\", \"gridwidth\": 2, \"linecolor\": \"white\", \"showbackground\": true, \"ticks\": \"\", \"zerolinecolor\": \"white\"}, \"zaxis\": {\"backgroundcolor\": \"#E5ECF6\", \"gridcolor\": \"white\", \"gridwidth\": 2, \"linecolor\": \"white\", \"showbackground\": true, \"ticks\": \"\", \"zerolinecolor\": \"white\"}}, \"shapedefaults\": {\"line\": {\"color\": \"#2a3f5f\"}}, \"ternary\": {\"aaxis\": {\"gridcolor\": \"white\", \"linecolor\": \"white\", \"ticks\": \"\"}, \"baxis\": {\"gridcolor\": \"white\", \"linecolor\": \"white\", \"ticks\": \"\"}, \"bgcolor\": \"#E5ECF6\", \"caxis\": {\"gridcolor\": \"white\", \"linecolor\": \"white\", \"ticks\": \"\"}}, \"title\": {\"x\": 0.05}, \"xaxis\": {\"automargin\": true, \"gridcolor\": \"white\", \"linecolor\": \"white\", \"ticks\": \"\", \"title\": {\"standoff\": 15}, \"zerolinecolor\": \"white\", \"zerolinewidth\": 2}, \"yaxis\": {\"automargin\": true, \"gridcolor\": \"white\", \"linecolor\": \"white\", \"ticks\": \"\", \"title\": {\"standoff\": 15}, \"zerolinecolor\": \"white\", \"zerolinewidth\": 2}}}},                        {\"responsive\": true}                    ).then(function(){\n",
       "                            \n",
       "var gd = document.getElementById('64df6329-43f2-421c-83ac-97aec5a6ca87');\n",
       "var x = new MutationObserver(function (mutations, observer) {{\n",
       "        var display = window.getComputedStyle(gd).display;\n",
       "        if (!display || display === 'none') {{\n",
       "            console.log([gd, 'removed!']);\n",
       "            Plotly.purge(gd);\n",
       "            observer.disconnect();\n",
       "        }}\n",
       "}});\n",
       "\n",
       "// Listen for the removal of the full notebook cells\n",
       "var notebookContainer = gd.closest('#notebook-container');\n",
       "if (notebookContainer) {{\n",
       "    x.observe(notebookContainer, {childList: true});\n",
       "}}\n",
       "\n",
       "// Listen for the clearing of the current output cell\n",
       "var outputEl = gd.closest('.output');\n",
       "if (outputEl) {{\n",
       "    x.observe(outputEl, {childList: true});\n",
       "}}\n",
       "\n",
       "                        })                };                });            </script>        </div>"
      ]
     },
     "metadata": {},
     "output_type": "display_data"
    }
   ],
   "source": [
    "import plotly.express as px\n",
    "\n",
    "fig = px.choropleth(country_co2, locations=\"CountryCode\",\n",
    "                    color=\"totalco2\", \n",
    "                    hover_name=\"Country\", # column to add to hover information\n",
    "                    color_continuous_scale=px.colors.sequential.Plasma)\n",
    "fig.show()"
   ]
  },
  {
   "cell_type": "code",
   "execution_count": null,
   "metadata": {},
   "outputs": [],
   "source": []
  }
 ],
 "metadata": {
  "kernelspec": {
   "display_name": "Python 3",
   "language": "python",
   "name": "python3"
  },
  "language_info": {
   "codemirror_mode": {
    "name": "ipython",
    "version": 3
   },
   "file_extension": ".py",
   "mimetype": "text/x-python",
   "name": "python",
   "nbconvert_exporter": "python",
   "pygments_lexer": "ipython3",
   "version": "3.8.3"
  }
 },
 "nbformat": 4,
 "nbformat_minor": 4
}
