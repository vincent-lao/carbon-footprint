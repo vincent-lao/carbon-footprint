{
 "cells": [
  {
   "cell_type": "code",
   "execution_count": 120,
   "metadata": {},
   "outputs": [],
   "source": [
    "import numpy as np\n",
    "import pandas as pd\n",
    "import matplotlib.pyplot as plt\n",
    "import seaborn as sns\n",
    "import re"
   ]
  },
  {
   "cell_type": "markdown",
   "metadata": {},
   "source": [
    "## Data Acquisition and Cleaning\n",
    "\n",
    "First, we grab the raw html from the website, and clean up the data to put it in a usable format."
   ]
  },
  {
   "cell_type": "code",
   "execution_count": 121,
   "metadata": {},
   "outputs": [],
   "source": [
    "# https://www.nu3.de/blogs/nutrition/food-carbon-footprint-index-2018\n",
    "food = pd.read_html(\"https://www.nu3.de/blogs/nutrition/food-carbon-footprint-index-2018\")[0]\n",
    "food = food.droplevel([0,1], axis=1)"
   ]
  },
  {
   "cell_type": "code",
   "execution_count": 122,
   "metadata": {
    "scrolled": true
   },
   "outputs": [
    {
     "data": {
      "text/html": [
       "<div>\n",
       "<style scoped>\n",
       "    .dataframe tbody tr th:only-of-type {\n",
       "        vertical-align: middle;\n",
       "    }\n",
       "\n",
       "    .dataframe tbody tr th {\n",
       "        vertical-align: top;\n",
       "    }\n",
       "\n",
       "    .dataframe thead th {\n",
       "        text-align: right;\n",
       "    }\n",
       "</style>\n",
       "<table border=\"1\" class=\"dataframe\">\n",
       "  <thead>\n",
       "    <tr style=\"text-align: right;\">\n",
       "      <th></th>\n",
       "      <th>#</th>\n",
       "      <th>Country</th>\n",
       "      <th>porksupply</th>\n",
       "      <th>porkco2</th>\n",
       "      <th>chickensupply</th>\n",
       "      <th>chickenco2</th>\n",
       "      <th>beefsupply</th>\n",
       "      <th>beefco2</th>\n",
       "      <th>lambsupply</th>\n",
       "      <th>lambco2</th>\n",
       "      <th>...</th>\n",
       "      <th>wheatprodsupply</th>\n",
       "      <th>wheatprodco2</th>\n",
       "      <th>ricesupply</th>\n",
       "      <th>riceco2</th>\n",
       "      <th>soybeansupply</th>\n",
       "      <th>soybeanco2</th>\n",
       "      <th>nutssupply</th>\n",
       "      <th>nutsco2</th>\n",
       "      <th>totalnonanimalco2</th>\n",
       "      <th>difftotalco2</th>\n",
       "    </tr>\n",
       "  </thead>\n",
       "  <tbody>\n",
       "    <tr>\n",
       "      <th>0</th>\n",
       "      <td>1</td>\n",
       "      <td>Argentina</td>\n",
       "      <td>10.51</td>\n",
       "      <td>37.20</td>\n",
       "      <td>38.66</td>\n",
       "      <td>41.53</td>\n",
       "      <td>55.48</td>\n",
       "      <td>1712.00</td>\n",
       "      <td>1.56</td>\n",
       "      <td>54.63</td>\n",
       "      <td>...</td>\n",
       "      <td>103.11</td>\n",
       "      <td>19.66</td>\n",
       "      <td>8.77</td>\n",
       "      <td>11.22</td>\n",
       "      <td>0.00</td>\n",
       "      <td>0.00</td>\n",
       "      <td>0.49</td>\n",
       "      <td>0.87</td>\n",
       "      <td>31.75</td>\n",
       "      <td>2108.90</td>\n",
       "    </tr>\n",
       "    <tr>\n",
       "      <th>1</th>\n",
       "      <td>2</td>\n",
       "      <td>Australia</td>\n",
       "      <td>24.14</td>\n",
       "      <td>85.44</td>\n",
       "      <td>46.12</td>\n",
       "      <td>49.54</td>\n",
       "      <td>33.86</td>\n",
       "      <td>1044.85</td>\n",
       "      <td>9.87</td>\n",
       "      <td>345.65</td>\n",
       "      <td>...</td>\n",
       "      <td>70.46</td>\n",
       "      <td>13.44</td>\n",
       "      <td>11.03</td>\n",
       "      <td>14.12</td>\n",
       "      <td>0.19</td>\n",
       "      <td>0.09</td>\n",
       "      <td>8.73</td>\n",
       "      <td>15.45</td>\n",
       "      <td>43.09</td>\n",
       "      <td>1852.46</td>\n",
       "    </tr>\n",
       "    <tr>\n",
       "      <th>2</th>\n",
       "      <td>3</td>\n",
       "      <td>Albania</td>\n",
       "      <td>10.88</td>\n",
       "      <td>38.51</td>\n",
       "      <td>13.23</td>\n",
       "      <td>14.21</td>\n",
       "      <td>22.50</td>\n",
       "      <td>694.30</td>\n",
       "      <td>15.32</td>\n",
       "      <td>536.50</td>\n",
       "      <td>...</td>\n",
       "      <td>138.64</td>\n",
       "      <td>26.44</td>\n",
       "      <td>7.78</td>\n",
       "      <td>9.96</td>\n",
       "      <td>0.00</td>\n",
       "      <td>0.00</td>\n",
       "      <td>4.36</td>\n",
       "      <td>7.72</td>\n",
       "      <td>44.11</td>\n",
       "      <td>1689.62</td>\n",
       "    </tr>\n",
       "    <tr>\n",
       "      <th>3</th>\n",
       "      <td>4</td>\n",
       "      <td>Iceland</td>\n",
       "      <td>21.69</td>\n",
       "      <td>76.77</td>\n",
       "      <td>26.87</td>\n",
       "      <td>28.86</td>\n",
       "      <td>13.36</td>\n",
       "      <td>412.26</td>\n",
       "      <td>21.12</td>\n",
       "      <td>739.62</td>\n",
       "      <td>...</td>\n",
       "      <td>72.92</td>\n",
       "      <td>13.91</td>\n",
       "      <td>3.89</td>\n",
       "      <td>4.98</td>\n",
       "      <td>0.11</td>\n",
       "      <td>0.05</td>\n",
       "      <td>3.88</td>\n",
       "      <td>6.87</td>\n",
       "      <td>25.80</td>\n",
       "      <td>1679.75</td>\n",
       "    </tr>\n",
       "    <tr>\n",
       "      <th>4</th>\n",
       "      <td>5</td>\n",
       "      <td>New Zealand</td>\n",
       "      <td>22.29</td>\n",
       "      <td>78.90</td>\n",
       "      <td>34.98</td>\n",
       "      <td>37.58</td>\n",
       "      <td>22.49</td>\n",
       "      <td>693.99</td>\n",
       "      <td>18.91</td>\n",
       "      <td>662.23</td>\n",
       "      <td>...</td>\n",
       "      <td>76.91</td>\n",
       "      <td>14.67</td>\n",
       "      <td>9.16</td>\n",
       "      <td>11.72</td>\n",
       "      <td>0.44</td>\n",
       "      <td>0.20</td>\n",
       "      <td>8.22</td>\n",
       "      <td>14.55</td>\n",
       "      <td>41.14</td>\n",
       "      <td>1668.67</td>\n",
       "    </tr>\n",
       "  </tbody>\n",
       "</table>\n",
       "<p>5 rows × 27 columns</p>\n",
       "</div>"
      ],
      "text/plain": [
       "   #      Country  porksupply  porkco2  chickensupply  chickenco2  beefsupply  \\\n",
       "0  1    Argentina       10.51    37.20          38.66       41.53       55.48   \n",
       "1  2    Australia       24.14    85.44          46.12       49.54       33.86   \n",
       "2  3      Albania       10.88    38.51          13.23       14.21       22.50   \n",
       "3  4      Iceland       21.69    76.77          26.87       28.86       13.36   \n",
       "4  5  New Zealand       22.29    78.90          34.98       37.58       22.49   \n",
       "\n",
       "   beefco2  lambsupply  lambco2  ...  wheatprodsupply  wheatprodco2  \\\n",
       "0  1712.00        1.56    54.63  ...           103.11         19.66   \n",
       "1  1044.85        9.87   345.65  ...            70.46         13.44   \n",
       "2   694.30       15.32   536.50  ...           138.64         26.44   \n",
       "3   412.26       21.12   739.62  ...            72.92         13.91   \n",
       "4   693.99       18.91   662.23  ...            76.91         14.67   \n",
       "\n",
       "   ricesupply  riceco2  soybeansupply  soybeanco2  nutssupply  nutsco2  \\\n",
       "0        8.77    11.22           0.00        0.00        0.49     0.87   \n",
       "1       11.03    14.12           0.19        0.09        8.73    15.45   \n",
       "2        7.78     9.96           0.00        0.00        4.36     7.72   \n",
       "3        3.89     4.98           0.11        0.05        3.88     6.87   \n",
       "4        9.16    11.72           0.44        0.20        8.22    14.55   \n",
       "\n",
       "   totalnonanimalco2  difftotalco2  \n",
       "0              31.75       2108.90  \n",
       "1              43.09       1852.46  \n",
       "2              44.11       1689.62  \n",
       "3              25.80       1679.75  \n",
       "4              41.14       1668.67  \n",
       "\n",
       "[5 rows x 27 columns]"
      ]
     },
     "execution_count": 122,
     "metadata": {},
     "output_type": "execute_result"
    }
   ],
   "source": [
    "columns = ['#', 'Country', 'porksupply', 'porkco2', 'chickensupply', 'chickenco2', 'beefsupply', 'beefco2', 'lambsupply', 'lambco2', \n",
    "           'fishsupply', 'fishco2', 'eggsupply', 'eggco2', 'milkcheesesupply', 'milkcheeseco2', 'totalanimalco2', \n",
    "           'wheatprodsupply', 'wheatprodco2', 'ricesupply', 'riceco2', 'soybeansupply', 'soybeanco2', \n",
    "           'nutssupply', 'nutsco2', 'totalnonanimalco2', 'difftotalco2']\n",
    "\n",
    "food.rename(columns=dict(zip(food.columns, columns)), inplace=True)\n",
    "food.head()"
   ]
  },
  {
   "cell_type": "code",
   "execution_count": 123,
   "metadata": {},
   "outputs": [
    {
     "data": {
      "text/plain": [
       "(130, 27)"
      ]
     },
     "execution_count": 123,
     "metadata": {},
     "output_type": "execute_result"
    }
   ],
   "source": [
    "# 130 different countries\n",
    "food.shape"
   ]
  },
  {
   "cell_type": "code",
   "execution_count": 124,
   "metadata": {},
   "outputs": [
    {
     "data": {
      "text/plain": [
       "['porkco2',\n",
       " 'chickenco2',\n",
       " 'beefco2',\n",
       " 'lambco2',\n",
       " 'fishco2',\n",
       " 'eggco2',\n",
       " 'milkcheeseco2',\n",
       " 'totalanimalco2',\n",
       " 'wheatprodco2',\n",
       " 'riceco2',\n",
       " 'soybeanco2',\n",
       " 'nutsco2',\n",
       " 'totalnonanimalco2',\n",
       " 'difftotalco2']"
      ]
     },
     "execution_count": 124,
     "metadata": {},
     "output_type": "execute_result"
    }
   ],
   "source": [
    "[col for col in columns if re.findall('co2', col)]"
   ]
  },
  {
   "cell_type": "code",
   "execution_count": 125,
   "metadata": {
    "scrolled": true
   },
   "outputs": [
    {
     "data": {
      "text/html": [
       "<div>\n",
       "<style scoped>\n",
       "    .dataframe tbody tr th:only-of-type {\n",
       "        vertical-align: middle;\n",
       "    }\n",
       "\n",
       "    .dataframe tbody tr th {\n",
       "        vertical-align: top;\n",
       "    }\n",
       "\n",
       "    .dataframe thead th {\n",
       "        text-align: right;\n",
       "    }\n",
       "</style>\n",
       "<table border=\"1\" class=\"dataframe\">\n",
       "  <thead>\n",
       "    <tr style=\"text-align: right;\">\n",
       "      <th></th>\n",
       "      <th>Country</th>\n",
       "      <th>porkco2</th>\n",
       "      <th>chickenco2</th>\n",
       "      <th>beefco2</th>\n",
       "      <th>lambco2</th>\n",
       "      <th>fishco2</th>\n",
       "      <th>eggco2</th>\n",
       "      <th>milkcheeseco2</th>\n",
       "      <th>wheatprodco2</th>\n",
       "      <th>riceco2</th>\n",
       "      <th>soybeanco2</th>\n",
       "      <th>nutsco2</th>\n",
       "      <th>totalco2</th>\n",
       "    </tr>\n",
       "  </thead>\n",
       "  <tbody>\n",
       "    <tr>\n",
       "      <th>0</th>\n",
       "      <td>Argentina</td>\n",
       "      <td>37.20</td>\n",
       "      <td>41.53</td>\n",
       "      <td>1712.00</td>\n",
       "      <td>54.63</td>\n",
       "      <td>6.96</td>\n",
       "      <td>10.46</td>\n",
       "      <td>277.87</td>\n",
       "      <td>19.66</td>\n",
       "      <td>11.22</td>\n",
       "      <td>0.00</td>\n",
       "      <td>0.87</td>\n",
       "      <td>2172.40</td>\n",
       "    </tr>\n",
       "    <tr>\n",
       "      <th>1</th>\n",
       "      <td>Australia</td>\n",
       "      <td>85.44</td>\n",
       "      <td>49.54</td>\n",
       "      <td>1044.85</td>\n",
       "      <td>345.65</td>\n",
       "      <td>28.25</td>\n",
       "      <td>7.82</td>\n",
       "      <td>334.01</td>\n",
       "      <td>13.44</td>\n",
       "      <td>14.12</td>\n",
       "      <td>0.09</td>\n",
       "      <td>15.45</td>\n",
       "      <td>1938.64</td>\n",
       "    </tr>\n",
       "    <tr>\n",
       "      <th>2</th>\n",
       "      <td>Albania</td>\n",
       "      <td>38.51</td>\n",
       "      <td>14.21</td>\n",
       "      <td>694.30</td>\n",
       "      <td>536.50</td>\n",
       "      <td>6.15</td>\n",
       "      <td>11.44</td>\n",
       "      <td>432.62</td>\n",
       "      <td>26.44</td>\n",
       "      <td>9.96</td>\n",
       "      <td>0.00</td>\n",
       "      <td>7.72</td>\n",
       "      <td>1777.84</td>\n",
       "    </tr>\n",
       "    <tr>\n",
       "      <th>3</th>\n",
       "      <td>Iceland</td>\n",
       "      <td>76.77</td>\n",
       "      <td>28.86</td>\n",
       "      <td>412.26</td>\n",
       "      <td>739.62</td>\n",
       "      <td>118.81</td>\n",
       "      <td>7.57</td>\n",
       "      <td>321.66</td>\n",
       "      <td>13.91</td>\n",
       "      <td>4.98</td>\n",
       "      <td>0.05</td>\n",
       "      <td>6.87</td>\n",
       "      <td>1731.35</td>\n",
       "    </tr>\n",
       "    <tr>\n",
       "      <th>4</th>\n",
       "      <td>New Zealand</td>\n",
       "      <td>78.90</td>\n",
       "      <td>37.58</td>\n",
       "      <td>693.99</td>\n",
       "      <td>662.23</td>\n",
       "      <td>32.51</td>\n",
       "      <td>9.10</td>\n",
       "      <td>195.50</td>\n",
       "      <td>14.67</td>\n",
       "      <td>11.72</td>\n",
       "      <td>0.20</td>\n",
       "      <td>14.55</td>\n",
       "      <td>1750.94</td>\n",
       "    </tr>\n",
       "  </tbody>\n",
       "</table>\n",
       "</div>"
      ],
      "text/plain": [
       "       Country  porkco2  chickenco2  beefco2  lambco2  fishco2  eggco2  \\\n",
       "0    Argentina    37.20       41.53  1712.00    54.63     6.96   10.46   \n",
       "1    Australia    85.44       49.54  1044.85   345.65    28.25    7.82   \n",
       "2      Albania    38.51       14.21   694.30   536.50     6.15   11.44   \n",
       "3      Iceland    76.77       28.86   412.26   739.62   118.81    7.57   \n",
       "4  New Zealand    78.90       37.58   693.99   662.23    32.51    9.10   \n",
       "\n",
       "   milkcheeseco2  wheatprodco2  riceco2  soybeanco2  nutsco2  totalco2  \n",
       "0         277.87         19.66    11.22        0.00     0.87   2172.40  \n",
       "1         334.01         13.44    14.12        0.09    15.45   1938.64  \n",
       "2         432.62         26.44     9.96        0.00     7.72   1777.84  \n",
       "3         321.66         13.91     4.98        0.05     6.87   1731.35  \n",
       "4         195.50         14.67    11.72        0.20    14.55   1750.94  "
      ]
     },
     "execution_count": 125,
     "metadata": {},
     "output_type": "execute_result"
    }
   ],
   "source": [
    "food_co2 = food.drop(columns=['#', 'totalanimalco2', 'totalnonanimalco2', 'difftotalco2'] \n",
    "                               + [col for col in columns if re.findall('supply', col)])\n",
    "food_co2['totalco2'] = food['totalanimalco2'] + food['totalnonanimalco2']\n",
    "food_co2.head()"
   ]
  },
  {
   "cell_type": "code",
   "execution_count": 126,
   "metadata": {
    "scrolled": true
   },
   "outputs": [
    {
     "data": {
      "text/html": [
       "<div>\n",
       "<style scoped>\n",
       "    .dataframe tbody tr th:only-of-type {\n",
       "        vertical-align: middle;\n",
       "    }\n",
       "\n",
       "    .dataframe tbody tr th {\n",
       "        vertical-align: top;\n",
       "    }\n",
       "\n",
       "    .dataframe thead th {\n",
       "        text-align: right;\n",
       "    }\n",
       "</style>\n",
       "<table border=\"1\" class=\"dataframe\">\n",
       "  <thead>\n",
       "    <tr style=\"text-align: right;\">\n",
       "      <th></th>\n",
       "      <th>Country</th>\n",
       "      <th>porksupply</th>\n",
       "      <th>chickensupply</th>\n",
       "      <th>beefsupply</th>\n",
       "      <th>lambsupply</th>\n",
       "      <th>fishsupply</th>\n",
       "      <th>eggsupply</th>\n",
       "      <th>milkcheesesupply</th>\n",
       "      <th>wheatprodsupply</th>\n",
       "      <th>ricesupply</th>\n",
       "      <th>soybeansupply</th>\n",
       "      <th>nutssupply</th>\n",
       "      <th>totalsupply</th>\n",
       "    </tr>\n",
       "  </thead>\n",
       "  <tbody>\n",
       "    <tr>\n",
       "      <th>0</th>\n",
       "      <td>Argentina</td>\n",
       "      <td>10.51</td>\n",
       "      <td>38.66</td>\n",
       "      <td>55.48</td>\n",
       "      <td>1.56</td>\n",
       "      <td>4.36</td>\n",
       "      <td>11.39</td>\n",
       "      <td>195.08</td>\n",
       "      <td>103.11</td>\n",
       "      <td>8.77</td>\n",
       "      <td>0.00</td>\n",
       "      <td>0.49</td>\n",
       "      <td>428.92</td>\n",
       "    </tr>\n",
       "    <tr>\n",
       "      <th>1</th>\n",
       "      <td>Australia</td>\n",
       "      <td>24.14</td>\n",
       "      <td>46.12</td>\n",
       "      <td>33.86</td>\n",
       "      <td>9.87</td>\n",
       "      <td>17.69</td>\n",
       "      <td>8.51</td>\n",
       "      <td>234.49</td>\n",
       "      <td>70.46</td>\n",
       "      <td>11.03</td>\n",
       "      <td>0.19</td>\n",
       "      <td>8.73</td>\n",
       "      <td>456.36</td>\n",
       "    </tr>\n",
       "    <tr>\n",
       "      <th>2</th>\n",
       "      <td>Albania</td>\n",
       "      <td>10.88</td>\n",
       "      <td>13.23</td>\n",
       "      <td>22.50</td>\n",
       "      <td>15.32</td>\n",
       "      <td>3.85</td>\n",
       "      <td>12.45</td>\n",
       "      <td>303.72</td>\n",
       "      <td>138.64</td>\n",
       "      <td>7.78</td>\n",
       "      <td>0.00</td>\n",
       "      <td>4.36</td>\n",
       "      <td>528.37</td>\n",
       "    </tr>\n",
       "    <tr>\n",
       "      <th>3</th>\n",
       "      <td>Iceland</td>\n",
       "      <td>21.69</td>\n",
       "      <td>26.87</td>\n",
       "      <td>13.36</td>\n",
       "      <td>21.12</td>\n",
       "      <td>74.41</td>\n",
       "      <td>8.24</td>\n",
       "      <td>225.82</td>\n",
       "      <td>72.92</td>\n",
       "      <td>3.89</td>\n",
       "      <td>0.11</td>\n",
       "      <td>3.88</td>\n",
       "      <td>468.43</td>\n",
       "    </tr>\n",
       "    <tr>\n",
       "      <th>4</th>\n",
       "      <td>New Zealand</td>\n",
       "      <td>22.29</td>\n",
       "      <td>34.98</td>\n",
       "      <td>22.49</td>\n",
       "      <td>18.91</td>\n",
       "      <td>20.36</td>\n",
       "      <td>9.91</td>\n",
       "      <td>137.25</td>\n",
       "      <td>76.91</td>\n",
       "      <td>9.16</td>\n",
       "      <td>0.44</td>\n",
       "      <td>8.22</td>\n",
       "      <td>352.70</td>\n",
       "    </tr>\n",
       "  </tbody>\n",
       "</table>\n",
       "</div>"
      ],
      "text/plain": [
       "       Country  porksupply  chickensupply  beefsupply  lambsupply  fishsupply  \\\n",
       "0    Argentina       10.51          38.66       55.48        1.56        4.36   \n",
       "1    Australia       24.14          46.12       33.86        9.87       17.69   \n",
       "2      Albania       10.88          13.23       22.50       15.32        3.85   \n",
       "3      Iceland       21.69          26.87       13.36       21.12       74.41   \n",
       "4  New Zealand       22.29          34.98       22.49       18.91       20.36   \n",
       "\n",
       "   eggsupply  milkcheesesupply  wheatprodsupply  ricesupply  soybeansupply  \\\n",
       "0      11.39            195.08           103.11        8.77           0.00   \n",
       "1       8.51            234.49            70.46       11.03           0.19   \n",
       "2      12.45            303.72           138.64        7.78           0.00   \n",
       "3       8.24            225.82            72.92        3.89           0.11   \n",
       "4       9.91            137.25            76.91        9.16           0.44   \n",
       "\n",
       "   nutssupply  totalsupply  \n",
       "0        0.49       428.92  \n",
       "1        8.73       456.36  \n",
       "2        4.36       528.37  \n",
       "3        3.88       468.43  \n",
       "4        8.22       352.70  "
      ]
     },
     "execution_count": 126,
     "metadata": {},
     "output_type": "execute_result"
    }
   ],
   "source": [
    "food_supply = food.drop(columns=['#', 'totalanimalco2', 'totalnonanimalco2', 'difftotalco2'] \n",
    "                               + [col for col in columns if re.findall('co2', col)][:-2])\n",
    "columns_supply = food_supply.columns[1:-1]\n",
    "food_supply['totalsupply'] = food_supply.loc[:, columns_supply].values.sum(axis=1)\n",
    "food_supply.head()"
   ]
  },
  {
   "cell_type": "code",
   "execution_count": 127,
   "metadata": {},
   "outputs": [
    {
     "data": {
      "text/plain": [
       "0.029999999999972715"
      ]
     },
     "execution_count": 127,
     "metadata": {},
     "output_type": "execute_result"
    }
   ],
   "source": [
    "# check that the totalco2 is roughly the sum of the co2 columns by looking at the largest difference between the two\n",
    "max(food_co2.loc[:, food_co2.columns[1:-1]].values.sum(axis=1) - food_co2['totalco2'].values)"
   ]
  },
  {
   "cell_type": "markdown",
   "metadata": {},
   "source": [
    "### Motivation for conversion of data to percentages:\n",
    "We converted the supply columns to percentages so that it is more comparable to an individual's diet. People tend to have a better grasp of the relative amounts of each food group they eat rather than the raw amount, which is what the data was before cleaning. That way, our model can take inputs of the percent of each food group an individual consumes on an annual basis, and relate that directly to the total carbon emissions in kilograms per year (the units of `totalco2`)."
   ]
  },
  {
   "cell_type": "code",
   "execution_count": 128,
   "metadata": {},
   "outputs": [],
   "source": [
    "# convert columns into percentages\n",
    "food_pct = pd.DataFrame([])\n",
    "for col in columns_supply:\n",
    "    food_pct[col + '_pct'] = food_supply[col] / food_supply['totalsupply']\n",
    "    \n",
    "# add the y variable and country\n",
    "food_pct['totalco2'] = food_co2['totalco2']\n",
    "food_pct['Country'] = food['Country']"
   ]
  },
  {
   "cell_type": "code",
   "execution_count": 129,
   "metadata": {},
   "outputs": [],
   "source": [
    "# food_pct.to_csv('../../data/nu3-pctfoodsupply-CO2-emissions.csv')"
   ]
  },
  {
   "cell_type": "markdown",
   "metadata": {},
   "source": [
    "---\n",
    "\n",
    "### Exploratory Data Analysis\n",
    "\n",
    "We now have one main dataset that will be used for modelling: `food_pct`."
   ]
  },
  {
   "cell_type": "code",
   "execution_count": 130,
   "metadata": {
    "scrolled": true
   },
   "outputs": [
    {
     "data": {
      "text/html": [
       "<div>\n",
       "<style scoped>\n",
       "    .dataframe tbody tr th:only-of-type {\n",
       "        vertical-align: middle;\n",
       "    }\n",
       "\n",
       "    .dataframe tbody tr th {\n",
       "        vertical-align: top;\n",
       "    }\n",
       "\n",
       "    .dataframe thead th {\n",
       "        text-align: right;\n",
       "    }\n",
       "</style>\n",
       "<table border=\"1\" class=\"dataframe\">\n",
       "  <thead>\n",
       "    <tr style=\"text-align: right;\">\n",
       "      <th></th>\n",
       "      <th>porksupply_pct</th>\n",
       "      <th>chickensupply_pct</th>\n",
       "      <th>beefsupply_pct</th>\n",
       "      <th>lambsupply_pct</th>\n",
       "      <th>fishsupply_pct</th>\n",
       "      <th>eggsupply_pct</th>\n",
       "      <th>milkcheesesupply_pct</th>\n",
       "      <th>wheatprodsupply_pct</th>\n",
       "      <th>ricesupply_pct</th>\n",
       "      <th>soybeansupply_pct</th>\n",
       "      <th>totalco2</th>\n",
       "      <th>Country</th>\n",
       "    </tr>\n",
       "  </thead>\n",
       "  <tbody>\n",
       "    <tr>\n",
       "      <th>0</th>\n",
       "      <td>0.024503</td>\n",
       "      <td>0.090133</td>\n",
       "      <td>0.129348</td>\n",
       "      <td>0.003637</td>\n",
       "      <td>0.010165</td>\n",
       "      <td>0.026555</td>\n",
       "      <td>0.454817</td>\n",
       "      <td>0.240394</td>\n",
       "      <td>0.020447</td>\n",
       "      <td>0.000000</td>\n",
       "      <td>2172.40</td>\n",
       "      <td>Argentina</td>\n",
       "    </tr>\n",
       "    <tr>\n",
       "      <th>1</th>\n",
       "      <td>0.052897</td>\n",
       "      <td>0.101061</td>\n",
       "      <td>0.074196</td>\n",
       "      <td>0.021628</td>\n",
       "      <td>0.038763</td>\n",
       "      <td>0.018648</td>\n",
       "      <td>0.513827</td>\n",
       "      <td>0.154396</td>\n",
       "      <td>0.024170</td>\n",
       "      <td>0.000416</td>\n",
       "      <td>1938.64</td>\n",
       "      <td>Australia</td>\n",
       "    </tr>\n",
       "    <tr>\n",
       "      <th>2</th>\n",
       "      <td>0.020592</td>\n",
       "      <td>0.025039</td>\n",
       "      <td>0.042584</td>\n",
       "      <td>0.028995</td>\n",
       "      <td>0.007287</td>\n",
       "      <td>0.023563</td>\n",
       "      <td>0.574824</td>\n",
       "      <td>0.262392</td>\n",
       "      <td>0.014725</td>\n",
       "      <td>0.000000</td>\n",
       "      <td>1777.84</td>\n",
       "      <td>Albania</td>\n",
       "    </tr>\n",
       "    <tr>\n",
       "      <th>3</th>\n",
       "      <td>0.046304</td>\n",
       "      <td>0.057362</td>\n",
       "      <td>0.028521</td>\n",
       "      <td>0.045087</td>\n",
       "      <td>0.158850</td>\n",
       "      <td>0.017591</td>\n",
       "      <td>0.482078</td>\n",
       "      <td>0.155669</td>\n",
       "      <td>0.008304</td>\n",
       "      <td>0.000235</td>\n",
       "      <td>1731.35</td>\n",
       "      <td>Iceland</td>\n",
       "    </tr>\n",
       "    <tr>\n",
       "      <th>4</th>\n",
       "      <td>0.063198</td>\n",
       "      <td>0.099178</td>\n",
       "      <td>0.063765</td>\n",
       "      <td>0.053615</td>\n",
       "      <td>0.057726</td>\n",
       "      <td>0.028098</td>\n",
       "      <td>0.389141</td>\n",
       "      <td>0.218061</td>\n",
       "      <td>0.025971</td>\n",
       "      <td>0.001248</td>\n",
       "      <td>1750.94</td>\n",
       "      <td>New Zealand</td>\n",
       "    </tr>\n",
       "  </tbody>\n",
       "</table>\n",
       "</div>"
      ],
      "text/plain": [
       "   porksupply_pct  chickensupply_pct  beefsupply_pct  lambsupply_pct  \\\n",
       "0        0.024503           0.090133        0.129348        0.003637   \n",
       "1        0.052897           0.101061        0.074196        0.021628   \n",
       "2        0.020592           0.025039        0.042584        0.028995   \n",
       "3        0.046304           0.057362        0.028521        0.045087   \n",
       "4        0.063198           0.099178        0.063765        0.053615   \n",
       "\n",
       "   fishsupply_pct  eggsupply_pct  milkcheesesupply_pct  wheatprodsupply_pct  \\\n",
       "0        0.010165       0.026555              0.454817             0.240394   \n",
       "1        0.038763       0.018648              0.513827             0.154396   \n",
       "2        0.007287       0.023563              0.574824             0.262392   \n",
       "3        0.158850       0.017591              0.482078             0.155669   \n",
       "4        0.057726       0.028098              0.389141             0.218061   \n",
       "\n",
       "   ricesupply_pct  soybeansupply_pct  totalco2      Country  \n",
       "0        0.020447           0.000000   2172.40    Argentina  \n",
       "1        0.024170           0.000416   1938.64    Australia  \n",
       "2        0.014725           0.000000   1777.84      Albania  \n",
       "3        0.008304           0.000235   1731.35      Iceland  \n",
       "4        0.025971           0.001248   1750.94  New Zealand  "
      ]
     },
     "execution_count": 130,
     "metadata": {},
     "output_type": "execute_result"
    }
   ],
   "source": [
    "food_pct.head()"
   ]
  },
  {
   "cell_type": "code",
   "execution_count": 131,
   "metadata": {},
   "outputs": [
    {
     "data": {
      "image/png": "[encoded data removed]",
      "text/plain": [
       "<Figure size 576x360 with 2 Axes>"
      ]
     },
     "metadata": {
      "needs_background": "light"
     },
     "output_type": "display_data"
    }
   ],
   "source": [
    "fig, ax = plt.subplots(figsize=(8, 5))\n",
    "sns.heatmap(food_pct.corr(), annot=True, vmin=-1, ax=ax)\n",
    "plt.title('Correlation Matrix');"
   ]
  },
  {
   "cell_type": "markdown",
   "metadata": {},
   "source": [
    "We see that certain pairings of our features have strong correlation:\n",
    "- rice supply & milkcheese supply: -0.75\n",
    "- fish supply & milkcheese supply: -0.6\n",
    "- pork supply & egg supply: 0.41\n",
    "\n",
    "Certain features also have stronger correlation with our y variable `totalco2`:\n",
    "- milkcheese supply: 0.54\n",
    "- rice supply: -0.49\n",
    "- beef supply: 0.45\n",
    "\n",
    "But nothing particularly interesting, or any immediate reason that these variables would have the noted correlations. We can keep this matrix in mind when performing feature selection, as we want to prevent collinearity and improve our AIC/Adj. $R^2$ by keeping our chosen covariates distinct."
   ]
  },
  {
   "cell_type": "code",
   "execution_count": 180,
   "metadata": {
    "scrolled": false
   },
   "outputs": [
    {
     "data": {
      "image/png": "[encoded data removed]",
      "text/plain": [
       "<Figure size 720x432 with 4 Axes>"
      ]
     },
     "metadata": {
      "needs_background": "light"
     },
     "output_type": "display_data"
    }
   ],
   "source": [
    "plt.figure(figsize=(10,6))\n",
    "\n",
    "plt.subplot(2,2,1)\n",
    "plt.hist(food_pct['totalco2'], bins = np.linspace(food_pct['totalco2'].min(), food_pct['totalco2'].max(), 16));\n",
    "plt.title('Distribution of Y Variable: Total CO2')\n",
    "plt.xlabel('Total CO2')\n",
    "plt.yticks(np.arange(0, 21, 2))\n",
    "plt.ylabel('Counts')\n",
    "\n",
    "plt.subplot(2,2,2)\n",
    "plt.hist(np.log(food_pct['totalco2']), bins = np.linspace(np.log(food_pct['totalco2']).min(), \n",
    "                                                            np.log(food_pct['totalco2']).max(), 16));\n",
    "plt.title('Distribution of Y Variable: log(Total KG CO2)/person/year')\n",
    "plt.xlabel('log(Total CO2)')\n",
    "plt.yticks(np.arange(0, 21, 2))\n",
    "plt.ylabel('Counts')\n",
    "\n",
    "plt.subplot(2,2,3)\n",
    "sns.boxplot(food_pct['totalco2'])\n",
    "plt.xlabel('Total KG CO2 /person/year')\n",
    "plt.title('Boxplot of Y Variable')\n",
    "\n",
    "plt.subplot(2,2,4)\n",
    "sns.boxplot(np.log(food_pct['totalco2']))\n",
    "plt.xlabel('log(Total KG CO2) /person/year')\n",
    "plt.title('Boxplot of log(Y Variable)')\n",
    "\n",
    "plt.tight_layout()"
   ]
  },
  {
   "cell_type": "markdown",
   "metadata": {},
   "source": [
    "Our Y variable is right skewed, but is not so strong where we need a log transformation for our model. We may test this later on, but for now, we will move forward without any variable transformations."
   ]
  },
  {
   "cell_type": "markdown",
   "metadata": {},
   "source": [
    "Here is the distribution of the **average American diet** according to our data."
   ]
  },
  {
   "cell_type": "code",
   "execution_count": 197,
   "metadata": {},
   "outputs": [
    {
     "data": {
      "text/html": [
       "<div>\n",
       "<style scoped>\n",
       "    .dataframe tbody tr th:only-of-type {\n",
       "        vertical-align: middle;\n",
       "    }\n",
       "\n",
       "    .dataframe tbody tr th {\n",
       "        vertical-align: top;\n",
       "    }\n",
       "\n",
       "    .dataframe thead th {\n",
       "        text-align: right;\n",
       "    }\n",
       "</style>\n",
       "<table border=\"1\" class=\"dataframe\">\n",
       "  <thead>\n",
       "    <tr style=\"text-align: right;\">\n",
       "      <th></th>\n",
       "      <th>Pork</th>\n",
       "      <th>Chicken</th>\n",
       "      <th>Beef</th>\n",
       "      <th>Lamb</th>\n",
       "      <th>Fish</th>\n",
       "      <th>Eggs</th>\n",
       "      <th>Milk&amp;Cheese</th>\n",
       "      <th>Wheat</th>\n",
       "      <th>Rice</th>\n",
       "      <th>Soybeans</th>\n",
       "    </tr>\n",
       "  </thead>\n",
       "  <tbody>\n",
       "    <tr>\n",
       "      <th>5</th>\n",
       "      <td>0.057191</td>\n",
       "      <td>0.103478</td>\n",
       "      <td>0.074986</td>\n",
       "      <td>0.00089</td>\n",
       "      <td>0.025554</td>\n",
       "      <td>0.030168</td>\n",
       "      <td>0.526992</td>\n",
       "      <td>0.166422</td>\n",
       "      <td>0.014236</td>\n",
       "      <td>0.000083</td>\n",
       "    </tr>\n",
       "  </tbody>\n",
       "</table>\n",
       "</div>"
      ],
      "text/plain": [
       "       Pork   Chicken      Beef     Lamb      Fish      Eggs  Milk&Cheese  \\\n",
       "5  0.057191  0.103478  0.074986  0.00089  0.025554  0.030168     0.526992   \n",
       "\n",
       "      Wheat      Rice  Soybeans  \n",
       "5  0.166422  0.014236  0.000083  "
      ]
     },
     "execution_count": 197,
     "metadata": {},
     "output_type": "execute_result"
    }
   ],
   "source": [
    "names = ['Pork', 'Chicken', 'Beef', 'Lamb', 'Fish', 'Eggs', 'Milk&Cheese', 'Wheat', 'Rice', 'Soybeans']\n",
    "usa = food_pct[food_pct['Country'] == 'USA'].drop(columns=['Country', 'totalco2']).rename(columns=dict(zip(food_pct.columns[:-1], names)))\n",
    "usa"
   ]
  },
  {
   "cell_type": "code",
   "execution_count": 204,
   "metadata": {},
   "outputs": [
    {
     "data": {
      "image/png": "[encoded data removed]",
      "text/plain": [
       "<Figure size 864x288 with 1 Axes>"
      ]
     },
     "metadata": {
      "needs_background": "light"
     },
     "output_type": "display_data"
    }
   ],
   "source": [
    "plt.figure(figsize=(12,4))\n",
    "plt.bar(usa.columns, usa.to_numpy()[0])\n",
    "plt.title('Average American Diet of Included Products')\n",
    "plt.ylabel('% of Diet');"
   ]
  },
  {
   "cell_type": "markdown",
   "metadata": {},
   "source": [
    "---\n",
    "\n",
    "Even though we are not looking at country location in our model, we thought it'd be interesting to plot it spatially and see if there are any trends or clusters that have higher kgCO2/person/year.\n",
    "\n",
    "Using this [website](https://towardsdatascience.com/using-python-to-create-a-world-map-from-a-list-of-country-names-cd7480d03b10) as a basis, we plot a world map of the KG CO2 emissions per person."
   ]
  },
  {
   "cell_type": "code",
   "execution_count": 133,
   "metadata": {},
   "outputs": [
    {
     "data": {
      "text/html": [
       "<div>\n",
       "<style scoped>\n",
       "    .dataframe tbody tr th:only-of-type {\n",
       "        vertical-align: middle;\n",
       "    }\n",
       "\n",
       "    .dataframe tbody tr th {\n",
       "        vertical-align: top;\n",
       "    }\n",
       "\n",
       "    .dataframe thead th {\n",
       "        text-align: right;\n",
       "    }\n",
       "</style>\n",
       "<table border=\"1\" class=\"dataframe\">\n",
       "  <thead>\n",
       "    <tr style=\"text-align: right;\">\n",
       "      <th></th>\n",
       "      <th>totalco2</th>\n",
       "      <th>CountryName</th>\n",
       "    </tr>\n",
       "  </thead>\n",
       "  <tbody>\n",
       "    <tr>\n",
       "      <th>0</th>\n",
       "      <td>2172.40</td>\n",
       "      <td>Argentina</td>\n",
       "    </tr>\n",
       "    <tr>\n",
       "      <th>1</th>\n",
       "      <td>1938.64</td>\n",
       "      <td>Australia</td>\n",
       "    </tr>\n",
       "    <tr>\n",
       "      <th>2</th>\n",
       "      <td>1777.84</td>\n",
       "      <td>Albania</td>\n",
       "    </tr>\n",
       "    <tr>\n",
       "      <th>3</th>\n",
       "      <td>1731.35</td>\n",
       "      <td>Iceland</td>\n",
       "    </tr>\n",
       "    <tr>\n",
       "      <th>4</th>\n",
       "      <td>1750.94</td>\n",
       "      <td>New Zealand</td>\n",
       "    </tr>\n",
       "  </tbody>\n",
       "</table>\n",
       "</div>"
      ],
      "text/plain": [
       "   totalco2  CountryName\n",
       "0   2172.40    Argentina\n",
       "1   1938.64    Australia\n",
       "2   1777.84      Albania\n",
       "3   1731.35      Iceland\n",
       "4   1750.94  New Zealand"
      ]
     },
     "execution_count": 133,
     "metadata": {},
     "output_type": "execute_result"
    }
   ],
   "source": [
    "country_co2 = food_pct.loc[:, ['totalco2', 'Country']]\n",
    "country_co2.rename(columns = {'Country' : 'CountryName'}, inplace=True)\n",
    "country_co2.head()"
   ]
  },
  {
   "cell_type": "code",
   "execution_count": 134,
   "metadata": {},
   "outputs": [],
   "source": [
    "#installation\n",
    "# !pip install pycountry-convert\n",
    "\n",
    "#function to convert to alpha2 country codes and continents\n",
    "from pycountry_convert import country_alpha2_to_continent_code, country_name_to_country_alpha2\n",
    "\n",
    "def get_continent(col):\n",
    "    try:\n",
    "        cn_a2_code =  country_name_to_country_alpha2(col)\n",
    "    except:\n",
    "        cn_a2_code = 'Unknown' \n",
    "    try:\n",
    "        cn_continent = country_alpha2_to_continent_code(cn_a2_code)\n",
    "    except:\n",
    "        cn_continent = 'Unknown' \n",
    "    \n",
    "    return (cn_a2_code, cn_continent)"
   ]
  },
  {
   "cell_type": "code",
   "execution_count": 135,
   "metadata": {},
   "outputs": [
    {
     "data": {
      "text/html": [
       "<div>\n",
       "<style scoped>\n",
       "    .dataframe tbody tr th:only-of-type {\n",
       "        vertical-align: middle;\n",
       "    }\n",
       "\n",
       "    .dataframe tbody tr th {\n",
       "        vertical-align: top;\n",
       "    }\n",
       "\n",
       "    .dataframe thead th {\n",
       "        text-align: right;\n",
       "    }\n",
       "</style>\n",
       "<table border=\"1\" class=\"dataframe\">\n",
       "  <thead>\n",
       "    <tr style=\"text-align: right;\">\n",
       "      <th></th>\n",
       "      <th>totalco2</th>\n",
       "      <th>CountryName</th>\n",
       "      <th>Country</th>\n",
       "      <th>Continent</th>\n",
       "    </tr>\n",
       "  </thead>\n",
       "  <tbody>\n",
       "    <tr>\n",
       "      <th>0</th>\n",
       "      <td>2172.40</td>\n",
       "      <td>Argentina</td>\n",
       "      <td>AR</td>\n",
       "      <td>SA</td>\n",
       "    </tr>\n",
       "    <tr>\n",
       "      <th>1</th>\n",
       "      <td>1938.64</td>\n",
       "      <td>Australia</td>\n",
       "      <td>AU</td>\n",
       "      <td>OC</td>\n",
       "    </tr>\n",
       "    <tr>\n",
       "      <th>2</th>\n",
       "      <td>1777.84</td>\n",
       "      <td>Albania</td>\n",
       "      <td>AL</td>\n",
       "      <td>EU</td>\n",
       "    </tr>\n",
       "    <tr>\n",
       "      <th>3</th>\n",
       "      <td>1731.35</td>\n",
       "      <td>Iceland</td>\n",
       "      <td>IS</td>\n",
       "      <td>EU</td>\n",
       "    </tr>\n",
       "    <tr>\n",
       "      <th>4</th>\n",
       "      <td>1750.94</td>\n",
       "      <td>New Zealand</td>\n",
       "      <td>NZ</td>\n",
       "      <td>OC</td>\n",
       "    </tr>\n",
       "  </tbody>\n",
       "</table>\n",
       "</div>"
      ],
      "text/plain": [
       "   totalco2  CountryName Country Continent\n",
       "0   2172.40    Argentina      AR        SA\n",
       "1   1938.64    Australia      AU        OC\n",
       "2   1777.84      Albania      AL        EU\n",
       "3   1731.35      Iceland      IS        EU\n",
       "4   1750.94  New Zealand      NZ        OC"
      ]
     },
     "execution_count": 135,
     "metadata": {},
     "output_type": "execute_result"
    }
   ],
   "source": [
    "codes = country_co2['CountryName'].apply(get_continent)\n",
    "\n",
    "country_co2['Country'] = [code[0] for code in codes]\n",
    "country_co2['Continent'] = [code[1] for code in codes]\n",
    "country_co2.head()"
   ]
  },
  {
   "cell_type": "code",
   "execution_count": 136,
   "metadata": {},
   "outputs": [],
   "source": [
    "#installation\n",
    "# !pip install geopy\n",
    "\n",
    "#function to get longitude and latitude data from country name\n",
    "from geopy.geocoders import Nominatim\n",
    "\n",
    "geolocator = Nominatim(user_agent=\"nu3-data-analysis\")\n",
    "def geolocate(country):\n",
    "    try:\n",
    "        # Geolocate the center of the country\n",
    "        loc = geolocator.geocode(country)\n",
    "        # And return latitude and longitude\n",
    "        return (loc.latitude, loc.longitude)\n",
    "    except:\n",
    "        # Return missing value\n",
    "        return (np.nan, np.nan)"
   ]
  },
  {
   "cell_type": "code",
   "execution_count": 137,
   "metadata": {
    "scrolled": false
   },
   "outputs": [
    {
     "data": {
      "text/html": [
       "<div>\n",
       "<style scoped>\n",
       "    .dataframe tbody tr th:only-of-type {\n",
       "        vertical-align: middle;\n",
       "    }\n",
       "\n",
       "    .dataframe tbody tr th {\n",
       "        vertical-align: top;\n",
       "    }\n",
       "\n",
       "    .dataframe thead th {\n",
       "        text-align: right;\n",
       "    }\n",
       "</style>\n",
       "<table border=\"1\" class=\"dataframe\">\n",
       "  <thead>\n",
       "    <tr style=\"text-align: right;\">\n",
       "      <th></th>\n",
       "      <th>totalco2</th>\n",
       "      <th>CountryName</th>\n",
       "      <th>Country</th>\n",
       "      <th>Continent</th>\n",
       "      <th>Latitude</th>\n",
       "      <th>Longitude</th>\n",
       "    </tr>\n",
       "  </thead>\n",
       "  <tbody>\n",
       "    <tr>\n",
       "      <th>0</th>\n",
       "      <td>2172.40</td>\n",
       "      <td>Argentina</td>\n",
       "      <td>AR</td>\n",
       "      <td>SA</td>\n",
       "      <td>-34.996496</td>\n",
       "      <td>-64.967282</td>\n",
       "    </tr>\n",
       "    <tr>\n",
       "      <th>1</th>\n",
       "      <td>1938.64</td>\n",
       "      <td>Australia</td>\n",
       "      <td>AU</td>\n",
       "      <td>OC</td>\n",
       "      <td>-24.776109</td>\n",
       "      <td>134.755000</td>\n",
       "    </tr>\n",
       "    <tr>\n",
       "      <th>2</th>\n",
       "      <td>1777.84</td>\n",
       "      <td>Albania</td>\n",
       "      <td>AL</td>\n",
       "      <td>EU</td>\n",
       "      <td>33.258882</td>\n",
       "      <td>-86.829534</td>\n",
       "    </tr>\n",
       "    <tr>\n",
       "      <th>3</th>\n",
       "      <td>1731.35</td>\n",
       "      <td>Iceland</td>\n",
       "      <td>IS</td>\n",
       "      <td>EU</td>\n",
       "      <td>64.984182</td>\n",
       "      <td>-18.105901</td>\n",
       "    </tr>\n",
       "    <tr>\n",
       "      <th>4</th>\n",
       "      <td>1750.94</td>\n",
       "      <td>New Zealand</td>\n",
       "      <td>NZ</td>\n",
       "      <td>OC</td>\n",
       "      <td>-41.500083</td>\n",
       "      <td>172.834408</td>\n",
       "    </tr>\n",
       "  </tbody>\n",
       "</table>\n",
       "</div>"
      ],
      "text/plain": [
       "   totalco2  CountryName Country Continent   Latitude   Longitude\n",
       "0   2172.40    Argentina      AR        SA -34.996496  -64.967282\n",
       "1   1938.64    Australia      AU        OC -24.776109  134.755000\n",
       "2   1777.84      Albania      AL        EU  33.258882  -86.829534\n",
       "3   1731.35      Iceland      IS        EU  64.984182  -18.105901\n",
       "4   1750.94  New Zealand      NZ        OC -41.500083  172.834408"
      ]
     },
     "execution_count": 137,
     "metadata": {},
     "output_type": "execute_result"
    }
   ],
   "source": [
    "latlons = country_co2['Country'].apply(geolocate)\n",
    "\n",
    "country_co2['Latitude'] = [latlon[0] for latlon in latlons]\n",
    "country_co2['Longitude'] = [latlon[1] for latlon in latlons]\n",
    "country_co2.head()"
   ]
  },
  {
   "cell_type": "code",
   "execution_count": 138,
   "metadata": {
    "scrolled": true
   },
   "outputs": [
    {
     "data": {
      "text/html": [
       "<div>\n",
       "<style scoped>\n",
       "    .dataframe tbody tr th:only-of-type {\n",
       "        vertical-align: middle;\n",
       "    }\n",
       "\n",
       "    .dataframe tbody tr th {\n",
       "        vertical-align: top;\n",
       "    }\n",
       "\n",
       "    .dataframe thead th {\n",
       "        text-align: right;\n",
       "    }\n",
       "</style>\n",
       "<table border=\"1\" class=\"dataframe\">\n",
       "  <thead>\n",
       "    <tr style=\"text-align: right;\">\n",
       "      <th></th>\n",
       "      <th>totalco2</th>\n",
       "      <th>CountryName</th>\n",
       "      <th>Country</th>\n",
       "      <th>Continent</th>\n",
       "      <th>Latitude</th>\n",
       "      <th>Longitude</th>\n",
       "    </tr>\n",
       "  </thead>\n",
       "  <tbody>\n",
       "    <tr>\n",
       "      <th>21</th>\n",
       "      <td>1405.70</td>\n",
       "      <td>Israel</td>\n",
       "      <td>IL</td>\n",
       "      <td>AS</td>\n",
       "      <td>NaN</td>\n",
       "      <td>NaN</td>\n",
       "    </tr>\n",
       "    <tr>\n",
       "      <th>32</th>\n",
       "      <td>1109.93</td>\n",
       "      <td>Armenia</td>\n",
       "      <td>AM</td>\n",
       "      <td>AS</td>\n",
       "      <td>NaN</td>\n",
       "      <td>NaN</td>\n",
       "    </tr>\n",
       "    <tr>\n",
       "      <th>60</th>\n",
       "      <td>897.31</td>\n",
       "      <td>United Arab Emirates</td>\n",
       "      <td>AE</td>\n",
       "      <td>AS</td>\n",
       "      <td>NaN</td>\n",
       "      <td>NaN</td>\n",
       "    </tr>\n",
       "    <tr>\n",
       "      <th>69</th>\n",
       "      <td>607.39</td>\n",
       "      <td>Poland</td>\n",
       "      <td>PL</td>\n",
       "      <td>EU</td>\n",
       "      <td>NaN</td>\n",
       "      <td>NaN</td>\n",
       "    </tr>\n",
       "    <tr>\n",
       "      <th>107</th>\n",
       "      <td>241.92</td>\n",
       "      <td>Ethiopia</td>\n",
       "      <td>ET</td>\n",
       "      <td>AF</td>\n",
       "      <td>NaN</td>\n",
       "      <td>NaN</td>\n",
       "    </tr>\n",
       "    <tr>\n",
       "      <th>121</th>\n",
       "      <td>282.62</td>\n",
       "      <td>India</td>\n",
       "      <td>IN</td>\n",
       "      <td>AS</td>\n",
       "      <td>NaN</td>\n",
       "      <td>NaN</td>\n",
       "    </tr>\n",
       "  </tbody>\n",
       "</table>\n",
       "</div>"
      ],
      "text/plain": [
       "     totalco2           CountryName Country Continent  Latitude  Longitude\n",
       "21    1405.70                Israel      IL        AS       NaN        NaN\n",
       "32    1109.93               Armenia      AM        AS       NaN        NaN\n",
       "60     897.31  United Arab Emirates      AE        AS       NaN        NaN\n",
       "69     607.39                Poland      PL        EU       NaN        NaN\n",
       "107    241.92              Ethiopia      ET        AF       NaN        NaN\n",
       "121    282.62                 India      IN        AS       NaN        NaN"
      ]
     },
     "execution_count": 138,
     "metadata": {},
     "output_type": "execute_result"
    }
   ],
   "source": [
    "country_co2.loc[country_co2['Latitude'].isna(), :]"
   ]
  },
  {
   "cell_type": "code",
   "execution_count": 139,
   "metadata": {},
   "outputs": [],
   "source": [
    "# temporarily removing them to test the world map\n",
    "country_co2_clean = country_co2.loc[~country_co2['Latitude'].isna(), :]"
   ]
  },
  {
   "cell_type": "code",
   "execution_count": 140,
   "metadata": {
    "scrolled": true
   },
   "outputs": [
    {
     "data": {
      "text/html": [
       "<div style=\"width:100%;\"><div style=\"position:relative;width:100%;height:0;padding-bottom:60%;\"><span style=\"color:#565656\">Make this Notebook Trusted to load map: File -> Trust Notebook</span><iframe src=\"about:blank\" style=\"position:absolute;width:100%;height:100%;left:0;top:0;border:none !important;\" data-html=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 onload=\"this.contentDocument.open();this.contentDocument.write(atob(this.getAttribute('data-html')));this.contentDocument.close();\" allowfullscreen webkitallowfullscreen mozallowfullscreen></iframe></div></div>"
      ],
      "text/plain": [
       "<folium.folium.Map at 0x2250c777730>"
      ]
     },
     "execution_count": 140,
     "metadata": {},
     "output_type": "execute_result"
    }
   ],
   "source": [
    "#installation\n",
    "# !pip install folium\n",
    "\n",
    "# Create a world map to show distributions of users \n",
    "import folium\n",
    "from folium.plugins import MarkerCluster\n",
    "\n",
    "#empty map\n",
    "world_map= folium.Map(tiles=\"cartodbpositron\")\n",
    "marker_cluster = MarkerCluster().add_to(world_map)\n",
    "#for each coordinate, create circlemarker of user percent\n",
    "for i in range(len(country_co2_clean)):\n",
    "        lat = country_co2_clean.iloc[i]['Latitude']\n",
    "        long = country_co2_clean.iloc[i]['Longitude']\n",
    "        radius=5\n",
    "        popup_text = \"\"\"Country : {}<br>\n",
    "                    kgCO2/person/year : {}<br>\"\"\"\n",
    "        popup_text = popup_text.format(country_co2_clean.iloc[i]['CountryName'],\n",
    "                                   country_co2_clean.iloc[i]['totalco2']\n",
    "                                   )\n",
    "        folium.CircleMarker(location = [lat, long], radius=radius, popup= popup_text, fill =True).add_to(marker_cluster)\n",
    "#show the map\n",
    "world_map"
   ]
  },
  {
   "cell_type": "markdown",
   "metadata": {},
   "source": [
    "#### Another map:"
   ]
  },
  {
   "cell_type": "code",
   "execution_count": 141,
   "metadata": {},
   "outputs": [
    {
     "name": "stderr",
     "output_type": "stream",
     "text": [
      "Unknown not found in regex\n",
      "Unknown not found in regex\n"
     ]
    }
   ],
   "source": [
    "# !pip install country-converter\n",
    "\n",
    "import country_converter as coco\n",
    "\n",
    "country_co2['CountryCode'] = coco.convert(names=country_co2['Country'].to_list(), to='ISO3') # ignore the error"
   ]
  },
  {
   "cell_type": "code",
   "execution_count": 142,
   "metadata": {},
   "outputs": [
    {
     "data": {
      "application/vnd.plotly.v1+json": {
       "config": {
        "plotlyServerURL": "https://plot.ly"
       },
       "data": [
        {
         "coloraxis": "coloraxis",
         "geo": "geo",
         "hovertemplate": "<b>%{hovertext}</b><br><br>CountryCode=%{location}<br>totalco2=%{z}<extra></extra>",
         "hovertext": [
          "AR",
          "AU",
          "AL",
          "IS",
          "NZ",
          "US",
          "UY",
          "LU",
          "BR",
          "KZ",
          "SE",
          "BM",
          "DK",
          "FI",
          "IE",
          "GR",
          "FR",
          "CA",
          "NO",
          "Unknown",
          "PF",
          "IL",
          "CH",
          "NL",
          "KW",
          "GB",
          "AT",
          "OM",
          "IT",
          "BS",
          "PT",
          "MT",
          "AM",
          "SI",
          "CL",
          "VE",
          "BE",
          "DE",
          "RU",
          "HR",
          "BY",
          "ES",
          "PY",
          "NC",
          "ZA",
          "BB",
          "LT",
          "TR",
          "EE",
          "MX",
          "CR",
          "BO",
          "EC",
          "PA",
          "CZ",
          "RO",
          "CO",
          "MV",
          "CY",
          "RS",
          "AE",
          "DZ",
          "UA",
          "PK",
          "SZ",
          "LV",
          "BA",
          "FJ",
          "KR",
          "PL",
          "SA",
          "BW",
          "MK",
          "HU",
          "TT",
          "TN",
          "EG",
          "MU",
          "BG",
          "MA",
          "SK",
          "NE",
          "KE",
          "JO",
          "JP",
          "GE",
          "GD",
          "SV",
          "CU",
          "CN",
          "HN",
          "Unknown",
          "AO",
          "JM",
          "NA",
          "BZ",
          "MY",
          "ZW",
          "GT",
          "UG",
          "NP",
          "IR",
          "TZ",
          "SN",
          "PE",
          "NI",
          "VN",
          "ET",
          "MM",
          "CG",
          "ZM",
          "CM",
          "MG",
          "MW",
          "GN",
          "NG",
          "RW",
          "PH",
          "GH",
          "TG",
          "GM",
          "IN",
          "TH",
          "MZ",
          "KH",
          "SL",
          "LK",
          "ID",
          "LR",
          "BD"
         ],
         "locations": [
          "ARG",
          "AUS",
          "ALB",
          "ISL",
          "NZL",
          "USA",
          "URY",
          "LUX",
          "BRA",
          "KAZ",
          "SWE",
          "BMU",
          "DNK",
          "FIN",
          "IRL",
          "GRC",
          "FRA",
          "CAN",
          "NOR",
          "not found",
          "PYF",
          "ISR",
          "CHE",
          "NLD",
          "KWT",
          "GBR",
          "AUT",
          "OMN",
          "ITA",
          "BHS",
          "PRT",
          "MLT",
          "ARM",
          "SVN",
          "CHL",
          "VEN",
          "BEL",
          "DEU",
          "RUS",
          "HRV",
          "BLR",
          "ESP",
          "PRY",
          "NCL",
          "ZAF",
          "BRB",
          "LTU",
          "TUR",
          "EST",
          "MEX",
          "CRI",
          "BOL",
          "ECU",
          "PAN",
          "CZE",
          "ROU",
          "COL",
          "MDV",
          "CYP",
          "SRB",
          "ARE",
          "DZA",
          "UKR",
          "PAK",
          "SWZ",
          "LVA",
          "BIH",
          "FJI",
          "KOR",
          "POL",
          "SAU",
          "BWA",
          "MKD",
          "HUN",
          "TTO",
          "TUN",
          "EGY",
          "MUS",
          "BGR",
          "MAR",
          "SVK",
          "NER",
          "KEN",
          "JOR",
          "JPN",
          "GEO",
          "GRD",
          "SLV",
          "CUB",
          "CHN",
          "HND",
          "not found",
          "AGO",
          "JAM",
          "NAM",
          "BLZ",
          "MYS",
          "ZWE",
          "GTM",
          "UGA",
          "NPL",
          "IRN",
          "TZA",
          "SEN",
          "PER",
          "NIC",
          "VNM",
          "ETH",
          "MMR",
          "COG",
          "ZMB",
          "CMR",
          "MDG",
          "MWI",
          "GIN",
          "NGA",
          "RWA",
          "PHL",
          "GHA",
          "TGO",
          "GMB",
          "IND",
          "THA",
          "MOZ",
          "KHM",
          "SLE",
          "LKA",
          "IDN",
          "LBR",
          "BGD"
         ],
         "name": "",
         "type": "choropleth",
         "z": [
          2172.4,
          1938.6399999999999,
          1777.84,
          1731.35,
          1750.94,
          1718.86,
          1634.91,
          1598.41,
          1616.73,
          1575.07,
          1527.0200000000002,
          1483.27,
          1498.1699999999998,
          1464.63,
          1459.6699999999998,
          1497.29,
          1420.06,
          1437.15,
          1381.9,
          1494.29,
          1424.67,
          1405.6999999999998,
          1356.75,
          1292.83,
          1345.4499999999998,
          1241.63,
          1211.1599999999999,
          1296.7,
          1206.33,
          1192.91,
          1174.28,
          1147.91,
          1109.93,
          1111.55,
          1099.57,
          1104.1000000000001,
          1102.08,
          1066.29,
          1007.66,
          996.1400000000001,
          960.1999999999999,
          988.49,
          876.67,
          918.5999999999999,
          892.41,
          889.11,
          868.91,
          897.01,
          830.7099999999999,
          797.13,
          891.27,
          873.03,
          883.88,
          928.46,
          760.0899999999999,
          766.3000000000001,
          781.53,
          903.46,
          741.36,
          723.32,
          897.3100000000001,
          707.89,
          665.73,
          669.05,
          678.9399999999999,
          633.5699999999999,
          628.1800000000001,
          716.08,
          822.0500000000001,
          607.3900000000001,
          692.88,
          576.86,
          600.7399999999999,
          576.8100000000001,
          610.41,
          618.89,
          673.93,
          672.0699999999999,
          560.16,
          576.39,
          560.34,
          542.8900000000001,
          530.84,
          587.96,
          644.06,
          527.03,
          439.85,
          434.03000000000003,
          591.69,
          640.2,
          434.08000000000004,
          559.55,
          412.99,
          450.81,
          362.12,
          433.07,
          554.64,
          350.34,
          314.99,
          304.73,
          526.24,
          445.27,
          343.02,
          469.42,
          402.84000000000003,
          377.7,
          641.52,
          241.92000000000002,
          563.8,
          262.55,
          225.31,
          283.61,
          440.76,
          207.95,
          432.70000000000005,
          267.78,
          181.62,
          455.28,
          217.88,
          188.10000000000002,
          293.65,
          282.62,
          377.98,
          141.41,
          452.40999999999997,
          300.40999999999997,
          294.45000000000005,
          367.52,
          203.39,
          374.19
         ]
        }
       ],
       "layout": {
        "coloraxis": {
         "colorbar": {
          "title": {
           "text": "totalco2"
          }
         },
         "colorscale": [
          [
           0,
           "#0d0887"
          ],
          [
           0.1111111111111111,
           "#46039f"
          ],
          [
           0.2222222222222222,
           "#7201a8"
          ],
          [
           0.3333333333333333,
           "#9c179e"
          ],
          [
           0.4444444444444444,
           "#bd3786"
          ],
          [
           0.5555555555555556,
           "#d8576b"
          ],
          [
           0.6666666666666666,
           "#ed7953"
          ],
          [
           0.7777777777777778,
           "#fb9f3a"
          ],
          [
           0.8888888888888888,
           "#fdca26"
          ],
          [
           1,
           "#f0f921"
          ]
         ]
        },
        "geo": {
         "center": {},
         "domain": {
          "x": [
           0,
           1
          ],
          "y": [
           0,
           1
          ]
         }
        },
        "legend": {
         "tracegroupgap": 0
        },
        "margin": {
         "t": 60
        },
        "template": {
         "data": {
          "bar": [
           {
            "error_x": {
             "color": "#2a3f5f"
            },
            "error_y": {
             "color": "#2a3f5f"
            },
            "marker": {
             "line": {
              "color": "#E5ECF6",
              "width": 0.5
             }
            },
            "type": "bar"
           }
          ],
          "barpolar": [
           {
            "marker": {
             "line": {
              "color": "#E5ECF6",
              "width": 0.5
             }
            },
            "type": "barpolar"
           }
          ],
          "carpet": [
           {
            "aaxis": {
             "endlinecolor": "#2a3f5f",
             "gridcolor": "white",
             "linecolor": "white",
             "minorgridcolor": "white",
             "startlinecolor": "#2a3f5f"
            },
            "baxis": {
             "endlinecolor": "#2a3f5f",
             "gridcolor": "white",
             "linecolor": "white",
             "minorgridcolor": "white",
             "startlinecolor": "#2a3f5f"
            },
            "type": "carpet"
           }
          ],
          "choropleth": [
           {
            "colorbar": {
             "outlinewidth": 0,
             "ticks": ""
            },
            "type": "choropleth"
           }
          ],
          "contour": [
           {
            "colorbar": {
             "outlinewidth": 0,
             "ticks": ""
            },
            "colorscale": [
             [
              0,
              "#0d0887"
             ],
             [
              0.1111111111111111,
              "#46039f"
             ],
             [
              0.2222222222222222,
              "#7201a8"
             ],
             [
              0.3333333333333333,
              "#9c179e"
             ],
             [
              0.4444444444444444,
              "#bd3786"
             ],
             [
              0.5555555555555556,
              "#d8576b"
             ],
             [
              0.6666666666666666,
              "#ed7953"
             ],
             [
              0.7777777777777778,
              "#fb9f3a"
             ],
             [
              0.8888888888888888,
              "#fdca26"
             ],
             [
              1,
              "#f0f921"
             ]
            ],
            "type": "contour"
           }
          ],
          "contourcarpet": [
           {
            "colorbar": {
             "outlinewidth": 0,
             "ticks": ""
            },
            "type": "contourcarpet"
           }
          ],
          "heatmap": [
           {
            "colorbar": {
             "outlinewidth": 0,
             "ticks": ""
            },
            "colorscale": [
             [
              0,
              "#0d0887"
             ],
             [
              0.1111111111111111,
              "#46039f"
             ],
             [
              0.2222222222222222,
              "#7201a8"
             ],
             [
              0.3333333333333333,
              "#9c179e"
             ],
             [
              0.4444444444444444,
              "#bd3786"
             ],
             [
              0.5555555555555556,
              "#d8576b"
             ],
             [
              0.6666666666666666,
              "#ed7953"
             ],
             [
              0.7777777777777778,
              "#fb9f3a"
             ],
             [
              0.8888888888888888,
              "#fdca26"
             ],
             [
              1,
              "#f0f921"
             ]
            ],
            "type": "heatmap"
           }
          ],
          "heatmapgl": [
           {
            "colorbar": {
             "outlinewidth": 0,
             "ticks": ""
            },
            "colorscale": [
             [
              0,
              "#0d0887"
             ],
             [
              0.1111111111111111,
              "#46039f"
             ],
             [
              0.2222222222222222,
              "#7201a8"
             ],
             [
              0.3333333333333333,
              "#9c179e"
             ],
             [
              0.4444444444444444,
              "#bd3786"
             ],
             [
              0.5555555555555556,
              "#d8576b"
             ],
             [
              0.6666666666666666,
              "#ed7953"
             ],
             [
              0.7777777777777778,
              "#fb9f3a"
             ],
             [
              0.8888888888888888,
              "#fdca26"
             ],
             [
              1,
              "#f0f921"
             ]
            ],
            "type": "heatmapgl"
           }
          ],
          "histogram": [
           {
            "marker": {
             "colorbar": {
              "outlinewidth": 0,
              "ticks": ""
             }
            },
            "type": "histogram"
           }
          ],
          "histogram2d": [
           {
            "colorbar": {
             "outlinewidth": 0,
             "ticks": ""
            },
            "colorscale": [
             [
              0,
              "#0d0887"
             ],
             [
              0.1111111111111111,
              "#46039f"
             ],
             [
              0.2222222222222222,
              "#7201a8"
             ],
             [
              0.3333333333333333,
              "#9c179e"
             ],
             [
              0.4444444444444444,
              "#bd3786"
             ],
             [
              0.5555555555555556,
              "#d8576b"
             ],
             [
              0.6666666666666666,
              "#ed7953"
             ],
             [
              0.7777777777777778,
              "#fb9f3a"
             ],
             [
              0.8888888888888888,
              "#fdca26"
             ],
             [
              1,
              "#f0f921"
             ]
            ],
            "type": "histogram2d"
           }
          ],
          "histogram2dcontour": [
           {
            "colorbar": {
             "outlinewidth": 0,
             "ticks": ""
            },
            "colorscale": [
             [
              0,
              "#0d0887"
             ],
             [
              0.1111111111111111,
              "#46039f"
             ],
             [
              0.2222222222222222,
              "#7201a8"
             ],
             [
              0.3333333333333333,
              "#9c179e"
             ],
             [
              0.4444444444444444,
              "#bd3786"
             ],
             [
              0.5555555555555556,
              "#d8576b"
             ],
             [
              0.6666666666666666,
              "#ed7953"
             ],
             [
              0.7777777777777778,
              "#fb9f3a"
             ],
             [
              0.8888888888888888,
              "#fdca26"
             ],
             [
              1,
              "#f0f921"
             ]
            ],
            "type": "histogram2dcontour"
           }
          ],
          "mesh3d": [
           {
            "colorbar": {
             "outlinewidth": 0,
             "ticks": ""
            },
            "type": "mesh3d"
           }
          ],
          "parcoords": [
           {
            "line": {
             "colorbar": {
              "outlinewidth": 0,
              "ticks": ""
             }
            },
            "type": "parcoords"
           }
          ],
          "pie": [
           {
            "automargin": true,
            "type": "pie"
           }
          ],
          "scatter": [
           {
            "marker": {
             "colorbar": {
              "outlinewidth": 0,
              "ticks": ""
             }
            },
            "type": "scatter"
           }
          ],
          "scatter3d": [
           {
            "line": {
             "colorbar": {
              "outlinewidth": 0,
              "ticks": ""
             }
            },
            "marker": {
             "colorbar": {
              "outlinewidth": 0,
              "ticks": ""
             }
            },
            "type": "scatter3d"
           }
          ],
          "scattercarpet": [
           {
            "marker": {
             "colorbar": {
              "outlinewidth": 0,
              "ticks": ""
             }
            },
            "type": "scattercarpet"
           }
          ],
          "scattergeo": [
           {
            "marker": {
             "colorbar": {
              "outlinewidth": 0,
              "ticks": ""
             }
            },
            "type": "scattergeo"
           }
          ],
          "scattergl": [
           {
            "marker": {
             "colorbar": {
              "outlinewidth": 0,
              "ticks": ""
             }
            },
            "type": "scattergl"
           }
          ],
          "scattermapbox": [
           {
            "marker": {
             "colorbar": {
              "outlinewidth": 0,
              "ticks": ""
             }
            },
            "type": "scattermapbox"
           }
          ],
          "scatterpolar": [
           {
            "marker": {
             "colorbar": {
              "outlinewidth": 0,
              "ticks": ""
             }
            },
            "type": "scatterpolar"
           }
          ],
          "scatterpolargl": [
           {
            "marker": {
             "colorbar": {
              "outlinewidth": 0,
              "ticks": ""
             }
            },
            "type": "scatterpolargl"
           }
          ],
          "scatterternary": [
           {
            "marker": {
             "colorbar": {
              "outlinewidth": 0,
              "ticks": ""
             }
            },
            "type": "scatterternary"
           }
          ],
          "surface": [
           {
            "colorbar": {
             "outlinewidth": 0,
             "ticks": ""
            },
            "colorscale": [
             [
              0,
              "#0d0887"
             ],
             [
              0.1111111111111111,
              "#46039f"
             ],
             [
              0.2222222222222222,
              "#7201a8"
             ],
             [
              0.3333333333333333,
              "#9c179e"
             ],
             [
              0.4444444444444444,
              "#bd3786"
             ],
             [
              0.5555555555555556,
              "#d8576b"
             ],
             [
              0.6666666666666666,
              "#ed7953"
             ],
             [
              0.7777777777777778,
              "#fb9f3a"
             ],
             [
              0.8888888888888888,
              "#fdca26"
             ],
             [
              1,
              "#f0f921"
             ]
            ],
            "type": "surface"
           }
          ],
          "table": [
           {
            "cells": {
             "fill": {
              "color": "#EBF0F8"
             },
             "line": {
              "color": "white"
             }
            },
            "header": {
             "fill": {
              "color": "#C8D4E3"
             },
             "line": {
              "color": "white"
             }
            },
            "type": "table"
           }
          ]
         },
         "layout": {
          "annotationdefaults": {
           "arrowcolor": "#2a3f5f",
           "arrowhead": 0,
           "arrowwidth": 1
          },
          "coloraxis": {
           "colorbar": {
            "outlinewidth": 0,
            "ticks": ""
           }
          },
          "colorscale": {
           "diverging": [
            [
             0,
             "#8e0152"
            ],
            [
             0.1,
             "#c51b7d"
            ],
            [
             0.2,
             "#de77ae"
            ],
            [
             0.3,
             "#f1b6da"
            ],
            [
             0.4,
             "#fde0ef"
            ],
            [
             0.5,
             "#f7f7f7"
            ],
            [
             0.6,
             "#e6f5d0"
            ],
            [
             0.7,
             "#b8e186"
            ],
            [
             0.8,
             "#7fbc41"
            ],
            [
             0.9,
             "#4d9221"
            ],
            [
             1,
             "#276419"
            ]
           ],
           "sequential": [
            [
             0,
             "#0d0887"
            ],
            [
             0.1111111111111111,
             "#46039f"
            ],
            [
             0.2222222222222222,
             "#7201a8"
            ],
            [
             0.3333333333333333,
             "#9c179e"
            ],
            [
             0.4444444444444444,
             "#bd3786"
            ],
            [
             0.5555555555555556,
             "#d8576b"
            ],
            [
             0.6666666666666666,
             "#ed7953"
            ],
            [
             0.7777777777777778,
             "#fb9f3a"
            ],
            [
             0.8888888888888888,
             "#fdca26"
            ],
            [
             1,
             "#f0f921"
            ]
           ],
           "sequentialminus": [
            [
             0,
             "#0d0887"
            ],
            [
             0.1111111111111111,
             "#46039f"
            ],
            [
             0.2222222222222222,
             "#7201a8"
            ],
            [
             0.3333333333333333,
             "#9c179e"
            ],
            [
             0.4444444444444444,
             "#bd3786"
            ],
            [
             0.5555555555555556,
             "#d8576b"
            ],
            [
             0.6666666666666666,
             "#ed7953"
            ],
            [
             0.7777777777777778,
             "#fb9f3a"
            ],
            [
             0.8888888888888888,
             "#fdca26"
            ],
            [
             1,
             "#f0f921"
            ]
           ]
          },
          "colorway": [
           "#636efa",
           "#EF553B",
           "#00cc96",
           "#ab63fa",
           "#FFA15A",
           "#19d3f3",
           "#FF6692",
           "#B6E880",
           "#FF97FF",
           "#FECB52"
          ],
          "font": {
           "color": "#2a3f5f"
          },
          "geo": {
           "bgcolor": "white",
           "lakecolor": "white",
           "landcolor": "#E5ECF6",
           "showlakes": true,
           "showland": true,
           "subunitcolor": "white"
          },
          "hoverlabel": {
           "align": "left"
          },
          "hovermode": "closest",
          "mapbox": {
           "style": "light"
          },
          "paper_bgcolor": "white",
          "plot_bgcolor": "#E5ECF6",
          "polar": {
           "angularaxis": {
            "gridcolor": "white",
            "linecolor": "white",
            "ticks": ""
           },
           "bgcolor": "#E5ECF6",
           "radialaxis": {
            "gridcolor": "white",
            "linecolor": "white",
            "ticks": ""
           }
          },
          "scene": {
           "xaxis": {
            "backgroundcolor": "#E5ECF6",
            "gridcolor": "white",
            "gridwidth": 2,
            "linecolor": "white",
            "showbackground": true,
            "ticks": "",
            "zerolinecolor": "white"
           },
           "yaxis": {
            "backgroundcolor": "#E5ECF6",
            "gridcolor": "white",
            "gridwidth": 2,
            "linecolor": "white",
            "showbackground": true,
            "ticks": "",
            "zerolinecolor": "white"
           },
           "zaxis": {
            "backgroundcolor": "#E5ECF6",
            "gridcolor": "white",
            "gridwidth": 2,
            "linecolor": "white",
            "showbackground": true,
            "ticks": "",
            "zerolinecolor": "white"
           }
          },
          "shapedefaults": {
           "line": {
            "color": "#2a3f5f"
           }
          },
          "ternary": {
           "aaxis": {
            "gridcolor": "white",
            "linecolor": "white",
            "ticks": ""
           },
           "baxis": {
            "gridcolor": "white",
            "linecolor": "white",
            "ticks": ""
           },
           "bgcolor": "#E5ECF6",
           "caxis": {
            "gridcolor": "white",
            "linecolor": "white",
            "ticks": ""
           }
          },
          "title": {
           "x": 0.05
          },
          "xaxis": {
           "automargin": true,
           "gridcolor": "white",
           "linecolor": "white",
           "ticks": "",
           "title": {
            "standoff": 15
           },
           "zerolinecolor": "white",
           "zerolinewidth": 2
          },
          "yaxis": {
           "automargin": true,
           "gridcolor": "white",
           "linecolor": "white",
           "ticks": "",
           "title": {
            "standoff": 15
           },
           "zerolinecolor": "white",
           "zerolinewidth": 2
          }
         }
        }
       }
      },
      "text/html": [
       "<div>                            <div id=\"f59d7788-e6d2-4ed2-ad02-5f0f1b8edd89\" class=\"plotly-graph-div\" style=\"height:525px; width:100%;\"></div>            <script type=\"text/javascript\">                require([\"plotly\"], function(Plotly) {                    window.PLOTLYENV=window.PLOTLYENV || {};                                    if (document.getElementById(\"f59d7788-e6d2-4ed2-ad02-5f0f1b8edd89\")) {                    Plotly.newPlot(                        \"f59d7788-e6d2-4ed2-ad02-5f0f1b8edd89\",                        [{\"coloraxis\": \"coloraxis\", \"geo\": \"geo\", \"hovertemplate\": \"<b>%{hovertext}</b><br><br>CountryCode=%{location}<br>totalco2=%{z}<extra></extra>\", \"hovertext\": [\"AR\", \"AU\", \"AL\", \"IS\", \"NZ\", \"US\", \"UY\", \"LU\", \"BR\", \"KZ\", \"SE\", \"BM\", \"DK\", \"FI\", \"IE\", \"GR\", \"FR\", \"CA\", \"NO\", \"Unknown\", \"PF\", \"IL\", \"CH\", \"NL\", \"KW\", \"GB\", \"AT\", \"OM\", \"IT\", \"BS\", \"PT\", \"MT\", \"AM\", \"SI\", \"CL\", \"VE\", \"BE\", \"DE\", \"RU\", \"HR\", \"BY\", \"ES\", \"PY\", \"NC\", \"ZA\", \"BB\", \"LT\", \"TR\", \"EE\", \"MX\", \"CR\", \"BO\", \"EC\", \"PA\", \"CZ\", \"RO\", \"CO\", \"MV\", \"CY\", \"RS\", \"AE\", \"DZ\", \"UA\", \"PK\", \"SZ\", \"LV\", \"BA\", \"FJ\", \"KR\", \"PL\", \"SA\", \"BW\", \"MK\", \"HU\", \"TT\", \"TN\", \"EG\", \"MU\", \"BG\", \"MA\", \"SK\", \"NE\", \"KE\", \"JO\", \"JP\", \"GE\", \"GD\", \"SV\", \"CU\", \"CN\", \"HN\", \"Unknown\", \"AO\", \"JM\", \"NA\", \"BZ\", \"MY\", \"ZW\", \"GT\", \"UG\", \"NP\", \"IR\", \"TZ\", \"SN\", \"PE\", \"NI\", \"VN\", \"ET\", \"MM\", \"CG\", \"ZM\", \"CM\", \"MG\", \"MW\", \"GN\", \"NG\", \"RW\", \"PH\", \"GH\", \"TG\", \"GM\", \"IN\", \"TH\", \"MZ\", \"KH\", \"SL\", \"LK\", \"ID\", \"LR\", \"BD\"], \"locations\": [\"ARG\", \"AUS\", \"ALB\", \"ISL\", \"NZL\", \"USA\", \"URY\", \"LUX\", \"BRA\", \"KAZ\", \"SWE\", \"BMU\", \"DNK\", \"FIN\", \"IRL\", \"GRC\", \"FRA\", \"CAN\", \"NOR\", \"not found\", \"PYF\", \"ISR\", \"CHE\", \"NLD\", \"KWT\", \"GBR\", \"AUT\", \"OMN\", \"ITA\", \"BHS\", \"PRT\", \"MLT\", \"ARM\", \"SVN\", \"CHL\", \"VEN\", \"BEL\", \"DEU\", \"RUS\", \"HRV\", \"BLR\", \"ESP\", \"PRY\", \"NCL\", \"ZAF\", \"BRB\", \"LTU\", \"TUR\", \"EST\", \"MEX\", \"CRI\", \"BOL\", \"ECU\", \"PAN\", \"CZE\", \"ROU\", \"COL\", \"MDV\", \"CYP\", \"SRB\", \"ARE\", \"DZA\", \"UKR\", \"PAK\", \"SWZ\", \"LVA\", \"BIH\", \"FJI\", \"KOR\", \"POL\", \"SAU\", \"BWA\", \"MKD\", \"HUN\", \"TTO\", \"TUN\", \"EGY\", \"MUS\", \"BGR\", \"MAR\", \"SVK\", \"NER\", \"KEN\", \"JOR\", \"JPN\", \"GEO\", \"GRD\", \"SLV\", \"CUB\", \"CHN\", \"HND\", \"not found\", \"AGO\", \"JAM\", \"NAM\", \"BLZ\", \"MYS\", \"ZWE\", \"GTM\", \"UGA\", \"NPL\", \"IRN\", \"TZA\", \"SEN\", \"PER\", \"NIC\", \"VNM\", \"ETH\", \"MMR\", \"COG\", \"ZMB\", \"CMR\", \"MDG\", \"MWI\", \"GIN\", \"NGA\", \"RWA\", \"PHL\", \"GHA\", \"TGO\", \"GMB\", \"IND\", \"THA\", \"MOZ\", \"KHM\", \"SLE\", \"LKA\", \"IDN\", \"LBR\", \"BGD\"], \"name\": \"\", \"type\": \"choropleth\", \"z\": [2172.4, 1938.6399999999999, 1777.84, 1731.35, 1750.94, 1718.86, 1634.91, 1598.41, 1616.73, 1575.07, 1527.0200000000002, 1483.27, 1498.1699999999998, 1464.63, 1459.6699999999998, 1497.29, 1420.06, 1437.15, 1381.9, 1494.29, 1424.67, 1405.6999999999998, 1356.75, 1292.83, 1345.4499999999998, 1241.63, 1211.1599999999999, 1296.7, 1206.33, 1192.91, 1174.28, 1147.91, 1109.93, 1111.55, 1099.57, 1104.1000000000001, 1102.08, 1066.29, 1007.66, 996.1400000000001, 960.1999999999999, 988.49, 876.67, 918.5999999999999, 892.41, 889.11, 868.91, 897.01, 830.7099999999999, 797.13, 891.27, 873.03, 883.88, 928.46, 760.0899999999999, 766.3000000000001, 781.53, 903.46, 741.36, 723.32, 897.3100000000001, 707.89, 665.73, 669.05, 678.9399999999999, 633.5699999999999, 628.1800000000001, 716.08, 822.0500000000001, 607.3900000000001, 692.88, 576.86, 600.7399999999999, 576.8100000000001, 610.41, 618.89, 673.93, 672.0699999999999, 560.16, 576.39, 560.34, 542.8900000000001, 530.84, 587.96, 644.06, 527.03, 439.85, 434.03000000000003, 591.69, 640.2, 434.08000000000004, 559.55, 412.99, 450.81, 362.12, 433.07, 554.64, 350.34, 314.99, 304.73, 526.24, 445.27, 343.02, 469.42, 402.84000000000003, 377.7, 641.52, 241.92000000000002, 563.8, 262.55, 225.31, 283.61, 440.76, 207.95, 432.70000000000005, 267.78, 181.62, 455.28, 217.88, 188.10000000000002, 293.65, 282.62, 377.98, 141.41, 452.40999999999997, 300.40999999999997, 294.45000000000005, 367.52, 203.39, 374.19]}],                        {\"coloraxis\": {\"colorbar\": {\"title\": {\"text\": \"totalco2\"}}, \"colorscale\": [[0.0, \"#0d0887\"], [0.1111111111111111, \"#46039f\"], [0.2222222222222222, \"#7201a8\"], [0.3333333333333333, \"#9c179e\"], [0.4444444444444444, \"#bd3786\"], [0.5555555555555556, \"#d8576b\"], [0.6666666666666666, \"#ed7953\"], [0.7777777777777778, \"#fb9f3a\"], [0.8888888888888888, \"#fdca26\"], [1.0, \"#f0f921\"]]}, \"geo\": {\"center\": {}, \"domain\": {\"x\": [0.0, 1.0], \"y\": [0.0, 1.0]}}, \"legend\": {\"tracegroupgap\": 0}, \"margin\": {\"t\": 60}, \"template\": {\"data\": {\"bar\": [{\"error_x\": {\"color\": \"#2a3f5f\"}, \"error_y\": {\"color\": \"#2a3f5f\"}, \"marker\": {\"line\": {\"color\": \"#E5ECF6\", \"width\": 0.5}}, \"type\": \"bar\"}], \"barpolar\": [{\"marker\": {\"line\": {\"color\": \"#E5ECF6\", \"width\": 0.5}}, \"type\": \"barpolar\"}], \"carpet\": [{\"aaxis\": {\"endlinecolor\": \"#2a3f5f\", \"gridcolor\": \"white\", \"linecolor\": \"white\", \"minorgridcolor\": \"white\", \"startlinecolor\": \"#2a3f5f\"}, \"baxis\": {\"endlinecolor\": \"#2a3f5f\", \"gridcolor\": \"white\", \"linecolor\": \"white\", \"minorgridcolor\": \"white\", \"startlinecolor\": \"#2a3f5f\"}, \"type\": \"carpet\"}], \"choropleth\": [{\"colorbar\": {\"outlinewidth\": 0, \"ticks\": \"\"}, \"type\": \"choropleth\"}], \"contour\": [{\"colorbar\": {\"outlinewidth\": 0, \"ticks\": \"\"}, \"colorscale\": [[0.0, \"#0d0887\"], [0.1111111111111111, \"#46039f\"], [0.2222222222222222, \"#7201a8\"], [0.3333333333333333, \"#9c179e\"], [0.4444444444444444, \"#bd3786\"], [0.5555555555555556, \"#d8576b\"], [0.6666666666666666, \"#ed7953\"], [0.7777777777777778, \"#fb9f3a\"], [0.8888888888888888, \"#fdca26\"], [1.0, \"#f0f921\"]], \"type\": \"contour\"}], \"contourcarpet\": [{\"colorbar\": {\"outlinewidth\": 0, \"ticks\": \"\"}, \"type\": \"contourcarpet\"}], \"heatmap\": [{\"colorbar\": {\"outlinewidth\": 0, \"ticks\": \"\"}, \"colorscale\": [[0.0, \"#0d0887\"], [0.1111111111111111, \"#46039f\"], [0.2222222222222222, \"#7201a8\"], [0.3333333333333333, \"#9c179e\"], [0.4444444444444444, \"#bd3786\"], [0.5555555555555556, \"#d8576b\"], [0.6666666666666666, \"#ed7953\"], [0.7777777777777778, \"#fb9f3a\"], [0.8888888888888888, \"#fdca26\"], [1.0, \"#f0f921\"]], \"type\": \"heatmap\"}], \"heatmapgl\": [{\"colorbar\": {\"outlinewidth\": 0, \"ticks\": \"\"}, \"colorscale\": [[0.0, \"#0d0887\"], [0.1111111111111111, \"#46039f\"], [0.2222222222222222, \"#7201a8\"], [0.3333333333333333, \"#9c179e\"], [0.4444444444444444, \"#bd3786\"], [0.5555555555555556, \"#d8576b\"], [0.6666666666666666, \"#ed7953\"], [0.7777777777777778, \"#fb9f3a\"], [0.8888888888888888, \"#fdca26\"], [1.0, \"#f0f921\"]], \"type\": \"heatmapgl\"}], \"histogram\": [{\"marker\": {\"colorbar\": {\"outlinewidth\": 0, \"ticks\": \"\"}}, \"type\": \"histogram\"}], \"histogram2d\": [{\"colorbar\": {\"outlinewidth\": 0, \"ticks\": \"\"}, \"colorscale\": [[0.0, \"#0d0887\"], [0.1111111111111111, \"#46039f\"], [0.2222222222222222, \"#7201a8\"], [0.3333333333333333, \"#9c179e\"], [0.4444444444444444, \"#bd3786\"], [0.5555555555555556, \"#d8576b\"], [0.6666666666666666, \"#ed7953\"], [0.7777777777777778, \"#fb9f3a\"], [0.8888888888888888, \"#fdca26\"], [1.0, \"#f0f921\"]], \"type\": \"histogram2d\"}], \"histogram2dcontour\": [{\"colorbar\": {\"outlinewidth\": 0, \"ticks\": \"\"}, \"colorscale\": [[0.0, \"#0d0887\"], [0.1111111111111111, \"#46039f\"], [0.2222222222222222, \"#7201a8\"], [0.3333333333333333, \"#9c179e\"], [0.4444444444444444, \"#bd3786\"], [0.5555555555555556, \"#d8576b\"], [0.6666666666666666, \"#ed7953\"], [0.7777777777777778, \"#fb9f3a\"], [0.8888888888888888, \"#fdca26\"], [1.0, \"#f0f921\"]], \"type\": \"histogram2dcontour\"}], \"mesh3d\": [{\"colorbar\": {\"outlinewidth\": 0, \"ticks\": \"\"}, \"type\": \"mesh3d\"}], \"parcoords\": [{\"line\": {\"colorbar\": {\"outlinewidth\": 0, \"ticks\": \"\"}}, \"type\": \"parcoords\"}], \"pie\": [{\"automargin\": true, \"type\": \"pie\"}], \"scatter\": [{\"marker\": {\"colorbar\": {\"outlinewidth\": 0, \"ticks\": \"\"}}, \"type\": \"scatter\"}], \"scatter3d\": [{\"line\": {\"colorbar\": {\"outlinewidth\": 0, \"ticks\": \"\"}}, \"marker\": {\"colorbar\": {\"outlinewidth\": 0, \"ticks\": \"\"}}, \"type\": \"scatter3d\"}], \"scattercarpet\": [{\"marker\": {\"colorbar\": {\"outlinewidth\": 0, \"ticks\": \"\"}}, \"type\": \"scattercarpet\"}], \"scattergeo\": [{\"marker\": {\"colorbar\": {\"outlinewidth\": 0, \"ticks\": \"\"}}, \"type\": \"scattergeo\"}], \"scattergl\": [{\"marker\": {\"colorbar\": {\"outlinewidth\": 0, \"ticks\": \"\"}}, \"type\": \"scattergl\"}], \"scattermapbox\": [{\"marker\": {\"colorbar\": {\"outlinewidth\": 0, \"ticks\": \"\"}}, \"type\": \"scattermapbox\"}], \"scatterpolar\": [{\"marker\": {\"colorbar\": {\"outlinewidth\": 0, \"ticks\": \"\"}}, \"type\": \"scatterpolar\"}], \"scatterpolargl\": [{\"marker\": {\"colorbar\": {\"outlinewidth\": 0, \"ticks\": \"\"}}, \"type\": \"scatterpolargl\"}], \"scatterternary\": [{\"marker\": {\"colorbar\": {\"outlinewidth\": 0, \"ticks\": \"\"}}, \"type\": \"scatterternary\"}], \"surface\": [{\"colorbar\": {\"outlinewidth\": 0, \"ticks\": \"\"}, \"colorscale\": [[0.0, \"#0d0887\"], [0.1111111111111111, \"#46039f\"], [0.2222222222222222, \"#7201a8\"], [0.3333333333333333, \"#9c179e\"], [0.4444444444444444, \"#bd3786\"], [0.5555555555555556, \"#d8576b\"], [0.6666666666666666, \"#ed7953\"], [0.7777777777777778, \"#fb9f3a\"], [0.8888888888888888, \"#fdca26\"], [1.0, \"#f0f921\"]], \"type\": \"surface\"}], \"table\": [{\"cells\": {\"fill\": {\"color\": \"#EBF0F8\"}, \"line\": {\"color\": \"white\"}}, \"header\": {\"fill\": {\"color\": \"#C8D4E3\"}, \"line\": {\"color\": \"white\"}}, \"type\": \"table\"}]}, \"layout\": {\"annotationdefaults\": {\"arrowcolor\": \"#2a3f5f\", \"arrowhead\": 0, \"arrowwidth\": 1}, \"coloraxis\": {\"colorbar\": {\"outlinewidth\": 0, \"ticks\": \"\"}}, \"colorscale\": {\"diverging\": [[0, \"#8e0152\"], [0.1, \"#c51b7d\"], [0.2, \"#de77ae\"], [0.3, \"#f1b6da\"], [0.4, \"#fde0ef\"], [0.5, \"#f7f7f7\"], [0.6, \"#e6f5d0\"], [0.7, \"#b8e186\"], [0.8, \"#7fbc41\"], [0.9, \"#4d9221\"], [1, \"#276419\"]], \"sequential\": [[0.0, \"#0d0887\"], [0.1111111111111111, \"#46039f\"], [0.2222222222222222, \"#7201a8\"], [0.3333333333333333, \"#9c179e\"], [0.4444444444444444, \"#bd3786\"], [0.5555555555555556, \"#d8576b\"], [0.6666666666666666, \"#ed7953\"], [0.7777777777777778, \"#fb9f3a\"], [0.8888888888888888, \"#fdca26\"], [1.0, \"#f0f921\"]], \"sequentialminus\": [[0.0, \"#0d0887\"], [0.1111111111111111, \"#46039f\"], [0.2222222222222222, \"#7201a8\"], [0.3333333333333333, \"#9c179e\"], [0.4444444444444444, \"#bd3786\"], [0.5555555555555556, \"#d8576b\"], [0.6666666666666666, \"#ed7953\"], [0.7777777777777778, \"#fb9f3a\"], [0.8888888888888888, \"#fdca26\"], [1.0, \"#f0f921\"]]}, \"colorway\": [\"#636efa\", \"#EF553B\", \"#00cc96\", \"#ab63fa\", \"#FFA15A\", \"#19d3f3\", \"#FF6692\", \"#B6E880\", \"#FF97FF\", \"#FECB52\"], \"font\": {\"color\": \"#2a3f5f\"}, \"geo\": {\"bgcolor\": \"white\", \"lakecolor\": \"white\", \"landcolor\": \"#E5ECF6\", \"showlakes\": true, \"showland\": true, \"subunitcolor\": \"white\"}, \"hoverlabel\": {\"align\": \"left\"}, \"hovermode\": \"closest\", \"mapbox\": {\"style\": \"light\"}, \"paper_bgcolor\": \"white\", \"plot_bgcolor\": \"#E5ECF6\", \"polar\": {\"angularaxis\": {\"gridcolor\": \"white\", \"linecolor\": \"white\", \"ticks\": \"\"}, \"bgcolor\": \"#E5ECF6\", \"radialaxis\": {\"gridcolor\": \"white\", \"linecolor\": \"white\", \"ticks\": \"\"}}, \"scene\": {\"xaxis\": {\"backgroundcolor\": \"#E5ECF6\", \"gridcolor\": \"white\", \"gridwidth\": 2, \"linecolor\": \"white\", \"showbackground\": true, \"ticks\": \"\", \"zerolinecolor\": \"white\"}, \"yaxis\": {\"backgroundcolor\": \"#E5ECF6\", \"gridcolor\": \"white\", \"gridwidth\": 2, \"linecolor\": \"white\", \"showbackground\": true, \"ticks\": \"\", \"zerolinecolor\": \"white\"}, \"zaxis\": {\"backgroundcolor\": \"#E5ECF6\", \"gridcolor\": \"white\", \"gridwidth\": 2, \"linecolor\": \"white\", \"showbackground\": true, \"ticks\": \"\", \"zerolinecolor\": \"white\"}}, \"shapedefaults\": {\"line\": {\"color\": \"#2a3f5f\"}}, \"ternary\": {\"aaxis\": {\"gridcolor\": \"white\", \"linecolor\": \"white\", \"ticks\": \"\"}, \"baxis\": {\"gridcolor\": \"white\", \"linecolor\": \"white\", \"ticks\": \"\"}, \"bgcolor\": \"#E5ECF6\", \"caxis\": {\"gridcolor\": \"white\", \"linecolor\": \"white\", \"ticks\": \"\"}}, \"title\": {\"x\": 0.05}, \"xaxis\": {\"automargin\": true, \"gridcolor\": \"white\", \"linecolor\": \"white\", \"ticks\": \"\", \"title\": {\"standoff\": 15}, \"zerolinecolor\": \"white\", \"zerolinewidth\": 2}, \"yaxis\": {\"automargin\": true, \"gridcolor\": \"white\", \"linecolor\": \"white\", \"ticks\": \"\", \"title\": {\"standoff\": 15}, \"zerolinecolor\": \"white\", \"zerolinewidth\": 2}}}},                        {\"responsive\": true}                    ).then(function(){\n",
       "                            \n",
       "var gd = document.getElementById('f59d7788-e6d2-4ed2-ad02-5f0f1b8edd89');\n",
       "var x = new MutationObserver(function (mutations, observer) {{\n",
       "        var display = window.getComputedStyle(gd).display;\n",
       "        if (!display || display === 'none') {{\n",
       "            console.log([gd, 'removed!']);\n",
       "            Plotly.purge(gd);\n",
       "            observer.disconnect();\n",
       "        }}\n",
       "}});\n",
       "\n",
       "// Listen for the removal of the full notebook cells\n",
       "var notebookContainer = gd.closest('#notebook-container');\n",
       "if (notebookContainer) {{\n",
       "    x.observe(notebookContainer, {childList: true});\n",
       "}}\n",
       "\n",
       "// Listen for the clearing of the current output cell\n",
       "var outputEl = gd.closest('.output');\n",
       "if (outputEl) {{\n",
       "    x.observe(outputEl, {childList: true});\n",
       "}}\n",
       "\n",
       "                        })                };                });            </script>        </div>"
      ]
     },
     "metadata": {},
     "output_type": "display_data"
    }
   ],
   "source": [
    "import plotly.express as px\n",
    "\n",
    "fig = px.choropleth(country_co2, locations=\"CountryCode\",\n",
    "                    color=\"totalco2\", \n",
    "                    hover_name=\"Country\", # column to add to hover information\n",
    "                    color_continuous_scale=px.colors.sequential.Plasma)\n",
    "fig.show()"
   ]
  }
 ],
 "metadata": {
  "kernelspec": {
   "display_name": "Python 3",
   "language": "python",
   "name": "python3"
  },
  "language_info": {
   "codemirror_mode": {
    "name": "ipython",
    "version": 3
   },
   "file_extension": ".py",
   "mimetype": "text/x-python",
   "name": "python",
   "nbconvert_exporter": "python",
   "pygments_lexer": "ipython3",
   "version": "3.8.3"
  }
 },
 "nbformat": 4,
 "nbformat_minor": 4
}
