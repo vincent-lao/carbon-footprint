{
 "cells": [
  {
   "cell_type": "code",
   "execution_count": 9,
   "metadata": {},
   "outputs": [],
   "source": [
    "import numpy as np\n",
    "import pandas as pd\n",
    "import requests\n",
    "import io\n",
    "import re"
   ]
  },
  {
   "cell_type": "code",
   "execution_count": 62,
   "metadata": {},
   "outputs": [],
   "source": [
    "# henry\n",
    "app_id = '3417a661'\n",
    "app_key = '945d1277cf4cdc94f3c59bb5e1edf189'\n",
    "url = 'https://apis.berkeley.edu/coolclimate/footprint-defaults?input_location_mode=1&input_location=94704&input_income=2&input_size=1'\n",
    "response = requests.get(url, auth=(app_id, app_key))"
   ]
  },
  {
   "cell_type": "code",
   "execution_count": 63,
   "metadata": {},
   "outputs": [
    {
     "data": {
      "text/plain": [
       "200"
      ]
     },
     "execution_count": 63,
     "metadata": {},
     "output_type": "execute_result"
    }
   ],
   "source": [
    "response.status_code"
   ]
  },
  {
   "cell_type": "code",
   "execution_count": 64,
   "metadata": {},
   "outputs": [
    {
     "data": {
      "text/plain": [
       "<Response [200]>"
      ]
     },
     "execution_count": 64,
     "metadata": {},
     "output_type": "execute_result"
    }
   ],
   "source": [
    "response "
   ]
  },
  {
   "cell_type": "code",
   "execution_count": 65,
   "metadata": {},
   "outputs": [
    {
     "data": {
      "text/html": [
       "<div>\n",
       "<style scoped>\n",
       "    .dataframe tbody tr th:only-of-type {\n",
       "        vertical-align: middle;\n",
       "    }\n",
       "\n",
       "    .dataframe tbody tr th {\n",
       "        vertical-align: top;\n",
       "    }\n",
       "\n",
       "    .dataframe thead th {\n",
       "        text-align: right;\n",
       "    }\n",
       "</style>\n",
       "<table border=\"1\" class=\"dataframe\">\n",
       "  <thead>\n",
       "    <tr style=\"text-align: right;\">\n",
       "      <th></th>\n",
       "      <th>input_location</th>\n",
       "      <th>input_location_mode</th>\n",
       "      <th>input_size</th>\n",
       "      <th>input_income</th>\n",
       "      <th>input_population</th>\n",
       "      <th>input_changed</th>\n",
       "      <th>input_footprint_household_adults</th>\n",
       "      <th>input_footprint_household_children</th>\n",
       "      <th>input_footprint_transportation_num_vehicles</th>\n",
       "      <th>input_footprint_transportation_miles1</th>\n",
       "      <th>...</th>\n",
       "      <th>result_takeaction_offset_housing_transpledges</th>\n",
       "      <th>result_takeaction_low_carbon_diet_meatcal</th>\n",
       "      <th>result_takeaction_low_carbon_diet_dairycal</th>\n",
       "      <th>result_takeaction_low_carbon_diet_fvcal</th>\n",
       "      <th>result_takeaction_low_carbon_diet_cerealscal</th>\n",
       "      <th>result_takeaction_low_carbon_diet_othercal</th>\n",
       "      <th>result_takeaction_low_carbon_diet_totalcal</th>\n",
       "      <th>result_takeaction_offset_shopping_transtonsleft</th>\n",
       "      <th>result_takeaction_offset_shopping_transpledges</th>\n",
       "      <th>internal_vehiclemiles</th>\n",
       "    </tr>\n",
       "  </thead>\n",
       "  <tbody>\n",
       "    <tr>\n",
       "      <th>0</th>\n",
       "      <td>94704.0</td>\n",
       "      <td>1.0</td>\n",
       "      <td>1.0</td>\n",
       "      <td>2.0</td>\n",
       "      <td>21471.0</td>\n",
       "      <td>0.0</td>\n",
       "      <td>1.0</td>\n",
       "      <td>0.0</td>\n",
       "      <td>1.0</td>\n",
       "      <td>3100.0</td>\n",
       "      <td>...</td>\n",
       "      <td>0.0</td>\n",
       "      <td>244.35</td>\n",
       "      <td>185.9</td>\n",
       "      <td>487.8</td>\n",
       "      <td>970.05</td>\n",
       "      <td>331.2</td>\n",
       "      <td>2219.3</td>\n",
       "      <td>5.351749</td>\n",
       "      <td>0.0</td>\n",
       "      <td>3055.900803</td>\n",
       "    </tr>\n",
       "  </tbody>\n",
       "</table>\n",
       "<p>1 rows × 334 columns</p>\n",
       "</div>"
      ],
      "text/plain": [
       "   input_location  input_location_mode  input_size  input_income  \\\n",
       "0         94704.0                  1.0         1.0           2.0   \n",
       "\n",
       "   input_population  input_changed  input_footprint_household_adults  \\\n",
       "0           21471.0            0.0                               1.0   \n",
       "\n",
       "   input_footprint_household_children  \\\n",
       "0                                 0.0   \n",
       "\n",
       "   input_footprint_transportation_num_vehicles  \\\n",
       "0                                          1.0   \n",
       "\n",
       "   input_footprint_transportation_miles1  ...  \\\n",
       "0                                 3100.0  ...   \n",
       "\n",
       "   result_takeaction_offset_housing_transpledges  \\\n",
       "0                                            0.0   \n",
       "\n",
       "   result_takeaction_low_carbon_diet_meatcal  \\\n",
       "0                                     244.35   \n",
       "\n",
       "   result_takeaction_low_carbon_diet_dairycal  \\\n",
       "0                                       185.9   \n",
       "\n",
       "   result_takeaction_low_carbon_diet_fvcal  \\\n",
       "0                                    487.8   \n",
       "\n",
       "   result_takeaction_low_carbon_diet_cerealscal  \\\n",
       "0                                        970.05   \n",
       "\n",
       "   result_takeaction_low_carbon_diet_othercal  \\\n",
       "0                                       331.2   \n",
       "\n",
       "   result_takeaction_low_carbon_diet_totalcal  \\\n",
       "0                                      2219.3   \n",
       "\n",
       "   result_takeaction_offset_shopping_transtonsleft  \\\n",
       "0                                         5.351749   \n",
       "\n",
       "   result_takeaction_offset_shopping_transpledges  internal_vehiclemiles  \n",
       "0                                             0.0            3055.900803  \n",
       "\n",
       "[1 rows x 334 columns]"
      ]
     },
     "execution_count": 65,
     "metadata": {},
     "output_type": "execute_result"
    }
   ],
   "source": [
    "xml_data = response.content.decode('utf-8')\n",
    "parsed_data = np.array(re.findall(r'<(\\w+)\\b>(\\d+\\.*\\d*)<\\/\\1>', xml_data))\n",
    "\n",
    "features = parsed_data[:, 0]\n",
    "numbers = np.array(parsed_data[:, 1], dtype=float)\n",
    "numbers = numbers.reshape((1, numbers.shape[0]))\n",
    "\n",
    "df = pd.DataFrame(numbers, columns=features)\n",
    "df.head()"
   ]
  },
  {
   "cell_type": "code",
   "execution_count": 9,
   "metadata": {
    "scrolled": false
   },
   "outputs": [
    {
     "data": {
      "text/plain": [
       "Index(['input_location', 'input_location_mode', 'input_size', 'input_income',\n",
       "       'input_population', 'input_changed', 'input_footprint_household_adults',\n",
       "       'input_footprint_household_children',\n",
       "       'input_footprint_transportation_num_vehicles',\n",
       "       'input_footprint_transportation_miles1',\n",
       "       ...\n",
       "       'result_takeaction_offset_housing_transpledges',\n",
       "       'result_takeaction_low_carbon_diet_meatcal',\n",
       "       'result_takeaction_low_carbon_diet_dairycal',\n",
       "       'result_takeaction_low_carbon_diet_fvcal',\n",
       "       'result_takeaction_low_carbon_diet_cerealscal',\n",
       "       'result_takeaction_low_carbon_diet_othercal',\n",
       "       'result_takeaction_low_carbon_diet_totalcal',\n",
       "       'result_takeaction_offset_shopping_transtonsleft',\n",
       "       'result_takeaction_offset_shopping_transpledges',\n",
       "       'internal_vehiclemiles'],\n",
       "      dtype='object', length=334)"
      ]
     },
     "execution_count": 9,
     "metadata": {},
     "output_type": "execute_result"
    }
   ],
   "source": [
    "df.columns"
   ]
  },
  {
   "cell_type": "markdown",
   "metadata": {},
   "source": [
    "---\n",
    "\n",
    "Trying to adjust the default options [`/footprint-default`](https://api-central.berkeley.edu/api/11/interactive-docs#/default/getDefaultFootprint) options"
   ]
  },
  {
   "cell_type": "code",
   "execution_count": 67,
   "metadata": {},
   "outputs": [],
   "source": [
    "jk_ca = pd.read_csv('../../data/jones-kammen-ca-data.csv')\n",
    "zip_codes = jk_ca['ZipCode']"
   ]
  },
  {
   "cell_type": "code",
   "execution_count": null,
   "metadata": {},
   "outputs": [],
   "source": [
    "# possible values\n",
    "input_income = np.arange(2, 12, dtype=int)\n",
    "input_size = [3]\n",
    "input_location_mode = {'zip code' : 1, 'city' : 2, 'county' : 3, 'state' : 4} # granularity is in order: smallest to largest\n",
    "                                                                              # DOES NOT WORK FOR API: ERROR CODE 5\n",
    "# customize this!\n",
    "mode = input_location_mode['zip code']\n",
    "\n",
    "# initialize empty dataframe\n",
    "data = pd.DataFrame(columns=df.columns)\n",
    "\n",
    "for inc in input_income:\n",
    "    for size in input_size:\n",
    "        for zc in zip_codes:\n",
    "            # get the data from the API for this iteration\n",
    "            url = 'https://apis.berkeley.edu/coolclimate/footprint-defaults?input_location_mode=%d&input_location=%d \\\n",
    "                    &input_income=%d&input_size=%d' % (mode, zc, inc, size)\n",
    "\n",
    "            response = requests.get(url, auth=(app_id, app_key))\n",
    "\n",
    "            # parse the requested data from the api\n",
    "            xml_data = response.content.decode('utf-8')\n",
    "            parsed_data = np.array(re.findall(r'<(\\w+)\\b>(\\d+\\.*\\d*)<\\/\\1>', xml_data))\n",
    "\n",
    "            # if the parsed data is not empty\n",
    "            if parsed_data.size > 0:\n",
    "                features = parsed_data[:, 0]\n",
    "                observations = np.array(parsed_data[:, 1], dtype=float)\n",
    "                observations = observations.reshape((1, observations.shape[0]))\n",
    "\n",
    "                # append to our dataframe\n",
    "                df = pd.DataFrame(observations, columns=features)\n",
    "                df['Zip Code'] = zc\n",
    "                data = data.append(df)\n",
    "                \n",
    "        print('still running' + \"\".join([\".\" for _ in range(inc)]))"
   ]
  },
  {
   "cell_type": "code",
   "execution_count": null,
   "metadata": {},
   "outputs": [],
   "source": [
    "# change each time you run!\n",
    "data.to_csv('../../data/coolclimate-api-CAzips-size3households-withzc.csv')"
   ]
  },
  {
   "cell_type": "code",
   "execution_count": null,
   "metadata": {},
   "outputs": [],
   "source": [
    "data.shape"
   ]
  },
  {
   "cell_type": "code",
   "execution_count": null,
   "metadata": {},
   "outputs": [],
   "source": [
    "data['input_size'].value_counts()"
   ]
  },
  {
   "cell_type": "code",
   "execution_count": null,
   "metadata": {},
   "outputs": [],
   "source": [
    "data.head()"
   ]
  },
  {
   "cell_type": "code",
   "execution_count": null,
   "metadata": {},
   "outputs": [],
   "source": [
    "data['input_population'].unique().shape"
   ]
  },
  {
   "cell_type": "code",
   "execution_count": null,
   "metadata": {},
   "outputs": [],
   "source": [
    "data['result_grand_total']"
   ]
  }
 ],
 "metadata": {
  "kernelspec": {
   "display_name": "Python 3",
   "language": "python",
   "name": "python3"
  },
  "language_info": {
   "codemirror_mode": {
    "name": "ipython",
    "version": 3
   },
   "file_extension": ".py",
   "mimetype": "text/x-python",
   "name": "python",
   "nbconvert_exporter": "python",
   "pygments_lexer": "ipython3",
   "version": "3.8.3"
  }
 },
 "nbformat": 4,
 "nbformat_minor": 4
}
