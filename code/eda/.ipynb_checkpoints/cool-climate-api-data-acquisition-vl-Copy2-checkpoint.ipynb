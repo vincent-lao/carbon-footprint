{
 "cells": [
  {
   "cell_type": "code",
   "execution_count": 2,
   "metadata": {},
   "outputs": [],
   "source": [
    "import numpy as np\n",
    "import pandas as pd\n",
    "import requests\n",
    "import io\n",
    "import re"
   ]
  },
  {
   "cell_type": "code",
   "execution_count": 3,
   "metadata": {},
   "outputs": [],
   "source": [
    "app_id = '9dd99282'\n",
    "app_key = '5a7af113a3c5bed96c076726ff56332b'\n",
    "url = 'https://apis.berkeley.edu/coolclimate/footprint-defaults?input_location_mode=1&input_location=94704&input_income=1&input_size=1'\n",
    "response = requests.get(url, auth=(app_id, app_key))"
   ]
  },
  {
   "cell_type": "code",
   "execution_count": 4,
   "metadata": {},
   "outputs": [
    {
     "data": {
      "text/plain": [
       "401"
      ]
     },
     "execution_count": 4,
     "metadata": {},
     "output_type": "execute_result"
    }
   ],
   "source": [
    "response.status_code"
   ]
  },
  {
   "cell_type": "code",
   "execution_count": 5,
   "metadata": {},
   "outputs": [
    {
     "ename": "IndexError",
     "evalue": "too many indices for array",
     "output_type": "error",
     "traceback": [
      "\u001b[1;31m---------------------------------------------------------------------------\u001b[0m",
      "\u001b[1;31mIndexError\u001b[0m                                Traceback (most recent call last)",
      "\u001b[1;32m<ipython-input-5-d9b01b960e34>\u001b[0m in \u001b[0;36m<module>\u001b[1;34m\u001b[0m\n\u001b[0;32m      2\u001b[0m \u001b[0mparsed_data\u001b[0m \u001b[1;33m=\u001b[0m \u001b[0mnp\u001b[0m\u001b[1;33m.\u001b[0m\u001b[0marray\u001b[0m\u001b[1;33m(\u001b[0m\u001b[0mre\u001b[0m\u001b[1;33m.\u001b[0m\u001b[0mfindall\u001b[0m\u001b[1;33m(\u001b[0m\u001b[1;34mr'<(\\w+)\\b>(\\d+\\.*\\d*)<\\/\\1>'\u001b[0m\u001b[1;33m,\u001b[0m \u001b[0mxml_data\u001b[0m\u001b[1;33m)\u001b[0m\u001b[1;33m)\u001b[0m\u001b[1;33m\u001b[0m\u001b[1;33m\u001b[0m\u001b[0m\n\u001b[0;32m      3\u001b[0m \u001b[1;33m\u001b[0m\u001b[0m\n\u001b[1;32m----> 4\u001b[1;33m \u001b[0mfeatures\u001b[0m \u001b[1;33m=\u001b[0m \u001b[0mparsed_data\u001b[0m\u001b[1;33m[\u001b[0m\u001b[1;33m:\u001b[0m\u001b[1;33m,\u001b[0m \u001b[1;36m0\u001b[0m\u001b[1;33m]\u001b[0m\u001b[1;33m\u001b[0m\u001b[1;33m\u001b[0m\u001b[0m\n\u001b[0m\u001b[0;32m      5\u001b[0m \u001b[0mnumbers\u001b[0m \u001b[1;33m=\u001b[0m \u001b[0mnp\u001b[0m\u001b[1;33m.\u001b[0m\u001b[0marray\u001b[0m\u001b[1;33m(\u001b[0m\u001b[0mparsed_data\u001b[0m\u001b[1;33m[\u001b[0m\u001b[1;33m:\u001b[0m\u001b[1;33m,\u001b[0m \u001b[1;36m1\u001b[0m\u001b[1;33m]\u001b[0m\u001b[1;33m,\u001b[0m \u001b[0mdtype\u001b[0m\u001b[1;33m=\u001b[0m\u001b[0mfloat\u001b[0m\u001b[1;33m)\u001b[0m\u001b[1;33m\u001b[0m\u001b[1;33m\u001b[0m\u001b[0m\n\u001b[0;32m      6\u001b[0m \u001b[0mnumbers\u001b[0m \u001b[1;33m=\u001b[0m \u001b[0mnumbers\u001b[0m\u001b[1;33m.\u001b[0m\u001b[0mreshape\u001b[0m\u001b[1;33m(\u001b[0m\u001b[1;33m(\u001b[0m\u001b[1;36m1\u001b[0m\u001b[1;33m,\u001b[0m \u001b[0mnumbers\u001b[0m\u001b[1;33m.\u001b[0m\u001b[0mshape\u001b[0m\u001b[1;33m[\u001b[0m\u001b[1;36m0\u001b[0m\u001b[1;33m]\u001b[0m\u001b[1;33m)\u001b[0m\u001b[1;33m)\u001b[0m\u001b[1;33m\u001b[0m\u001b[1;33m\u001b[0m\u001b[0m\n",
      "\u001b[1;31mIndexError\u001b[0m: too many indices for array"
     ]
    }
   ],
   "source": [
    "xml_data = response.content.decode('utf-8')\n",
    "parsed_data = np.array(re.findall(r'<(\\w+)\\b>(\\d+\\.*\\d*)<\\/\\1>', xml_data))\n",
    "\n",
    "features = parsed_data[:, 0]\n",
    "numbers = np.array(parsed_data[:, 1], dtype=float)\n",
    "numbers = numbers.reshape((1, numbers.shape[0]))\n",
    "\n",
    "df = pd.DataFrame(numbers, columns=features)\n",
    "df.head()"
   ]
  },
  {
   "cell_type": "code",
   "execution_count": null,
   "metadata": {
    "scrolled": true
   },
   "outputs": [],
   "source": [
    "df.columns"
   ]
  },
  {
   "cell_type": "markdown",
   "metadata": {},
   "source": [
    "---\n",
    "\n",
    "Trying to adjust the default options [`/footprint-default`](https://api-central.berkeley.edu/api/11/interactive-docs#/default/getDefaultFootprint) options"
   ]
  },
  {
   "cell_type": "code",
   "execution_count": null,
   "metadata": {},
   "outputs": [],
   "source": [
    "jk_ca = pd.read_csv('../../data/jones-kammen-ca-data.csv')\n",
    "zip_codes = jk_ca['ZipCode']"
   ]
  },
  {
   "cell_type": "code",
   "execution_count": null,
   "metadata": {},
   "outputs": [],
   "source": [
    "# possible values\n",
    "input_income = np.arange(1, 12, 1, dtype=int)\n",
    "input_size = [3]\n",
    "input_location_mode = {'zip code' : 1, 'city' : 2, 'county' : 3, 'state' : 4} # granularity is in order: smallest to largest\n",
    "\n",
    "# customize this!\n",
    "mode = input_location_mode['zip code']\n",
    "\n",
    "# initialize empty dataframe\n",
    "data = pd.DataFrame(columns=df.columns)\n",
    "\n",
    "for inc in input_income:\n",
    "    for size in input_size:\n",
    "        for zc in zip_codes:\n",
    "            # get the data from the API for this iteration\n",
    "            url = 'https://apis.berkeley.edu/coolclimate/footprint-defaults?input_location_mode=%d&input_location=%d \\\n",
    "                    &input_income=%d&input_size=%d' % (mode, zc, inc, size)\n",
    "\n",
    "            response = requests.get(url, auth=(app_id, app_key))\n",
    "\n",
    "            # parse the requested data from the api\n",
    "            xml_data = response.content.decode('utf-8')\n",
    "            parsed_data = np.array(re.findall(r'<(\\w+)\\b>(\\d+\\.*\\d*)<\\/\\1>', xml_data))\n",
    "\n",
    "            # if the parsed data is not empty\n",
    "            if parsed_data.size > 0:\n",
    "                features = parsed_data[:, 0]\n",
    "                observations = np.array(parsed_data[:, 1], dtype=float)\n",
    "                observations = observations.reshape((1, observations.shape[0]))\n",
    "\n",
    "                # append to our dataframe\n",
    "                df = pd.DataFrame(observations, columns=features)\n",
    "                df['Zip Code'] = zc\n",
    "                data = data.append(df)\n",
    "                \n",
    "        print('still running' + \"\".join([\".\" for _ in range(i)]))"
   ]
  },
  {
   "cell_type": "code",
   "execution_count": null,
   "metadata": {},
   "outputs": [],
   "source": [
    "# change each time you run!\n",
    "data.to_csv('../../data/coolclimate-api-CAzips-size3households-withzc.csv')"
   ]
  },
  {
   "cell_type": "code",
   "execution_count": 13,
   "metadata": {},
   "outputs": [
    {
     "data": {
      "text/plain": [
       "(2214, 334)"
      ]
     },
     "execution_count": 13,
     "metadata": {},
     "output_type": "execute_result"
    }
   ],
   "source": [
    "data.shape"
   ]
  },
  {
   "cell_type": "code",
   "execution_count": 17,
   "metadata": {},
   "outputs": [
    {
     "data": {
      "text/plain": [
       "4.0    453\n",
       "3.0    444\n",
       "5.0    442\n",
       "1.0    438\n",
       "2.0    437\n",
       "Name: input_size, dtype: int64"
      ]
     },
     "execution_count": 17,
     "metadata": {},
     "output_type": "execute_result"
    }
   ],
   "source": [
    "data['input_size'].value_counts()"
   ]
  },
  {
   "cell_type": "code",
   "execution_count": 18,
   "metadata": {},
   "outputs": [
    {
     "data": {
      "text/html": [
       "<div>\n",
       "<style scoped>\n",
       "    .dataframe tbody tr th:only-of-type {\n",
       "        vertical-align: middle;\n",
       "    }\n",
       "\n",
       "    .dataframe tbody tr th {\n",
       "        vertical-align: top;\n",
       "    }\n",
       "\n",
       "    .dataframe thead th {\n",
       "        text-align: right;\n",
       "    }\n",
       "</style>\n",
       "<table border=\"1\" class=\"dataframe\">\n",
       "  <thead>\n",
       "    <tr style=\"text-align: right;\">\n",
       "      <th></th>\n",
       "      <th>input_location_mode</th>\n",
       "      <th>input_size</th>\n",
       "      <th>input_income</th>\n",
       "      <th>input_population</th>\n",
       "      <th>input_changed</th>\n",
       "      <th>input_footprint_household_adults</th>\n",
       "      <th>input_footprint_household_children</th>\n",
       "      <th>input_footprint_transportation_num_vehicles</th>\n",
       "      <th>input_footprint_transportation_miles1</th>\n",
       "      <th>input_footprint_transportation_mpg1</th>\n",
       "      <th>...</th>\n",
       "      <th>result_takeaction_low_carbon_diet_meatcal</th>\n",
       "      <th>result_takeaction_low_carbon_diet_dairycal</th>\n",
       "      <th>result_takeaction_low_carbon_diet_fvcal</th>\n",
       "      <th>result_takeaction_low_carbon_diet_cerealscal</th>\n",
       "      <th>result_takeaction_low_carbon_diet_othercal</th>\n",
       "      <th>result_takeaction_low_carbon_diet_totalcal</th>\n",
       "      <th>result_takeaction_offset_shopping_transtonsleft</th>\n",
       "      <th>result_takeaction_offset_shopping_transpledges</th>\n",
       "      <th>internal_vehiclemiles</th>\n",
       "      <th>Zip Code</th>\n",
       "    </tr>\n",
       "  </thead>\n",
       "  <tbody>\n",
       "    <tr>\n",
       "      <th>0</th>\n",
       "      <td>1.0</td>\n",
       "      <td>1.0</td>\n",
       "      <td>1.0</td>\n",
       "      <td>54587.0</td>\n",
       "      <td>0.0</td>\n",
       "      <td>1.0</td>\n",
       "      <td>0.0</td>\n",
       "      <td>1.0</td>\n",
       "      <td>8700.0</td>\n",
       "      <td>22.0</td>\n",
       "      <td>...</td>\n",
       "      <td>244.35</td>\n",
       "      <td>185.900000</td>\n",
       "      <td>487.80</td>\n",
       "      <td>970.050000</td>\n",
       "      <td>331.20</td>\n",
       "      <td>2219.30</td>\n",
       "      <td>8.859825</td>\n",
       "      <td>0.0</td>\n",
       "      <td>8669.126912</td>\n",
       "      <td>90001</td>\n",
       "    </tr>\n",
       "    <tr>\n",
       "      <th>0</th>\n",
       "      <td>1.0</td>\n",
       "      <td>2.0</td>\n",
       "      <td>1.0</td>\n",
       "      <td>54587.0</td>\n",
       "      <td>0.0</td>\n",
       "      <td>2.0</td>\n",
       "      <td>0.0</td>\n",
       "      <td>2.0</td>\n",
       "      <td>9200.0</td>\n",
       "      <td>22.0</td>\n",
       "      <td>...</td>\n",
       "      <td>244.35</td>\n",
       "      <td>185.900000</td>\n",
       "      <td>487.80</td>\n",
       "      <td>970.050000</td>\n",
       "      <td>331.20</td>\n",
       "      <td>2219.30</td>\n",
       "      <td>16.458528</td>\n",
       "      <td>0.0</td>\n",
       "      <td>16799.847068</td>\n",
       "      <td>90001</td>\n",
       "    </tr>\n",
       "    <tr>\n",
       "      <th>0</th>\n",
       "      <td>1.0</td>\n",
       "      <td>3.0</td>\n",
       "      <td>1.0</td>\n",
       "      <td>54587.0</td>\n",
       "      <td>0.0</td>\n",
       "      <td>2.0</td>\n",
       "      <td>1.0</td>\n",
       "      <td>2.0</td>\n",
       "      <td>11200.0</td>\n",
       "      <td>22.0</td>\n",
       "      <td>...</td>\n",
       "      <td>223.95</td>\n",
       "      <td>170.516667</td>\n",
       "      <td>447.00</td>\n",
       "      <td>889.333333</td>\n",
       "      <td>303.60</td>\n",
       "      <td>2034.40</td>\n",
       "      <td>19.543771</td>\n",
       "      <td>0.0</td>\n",
       "      <td>20412.694074</td>\n",
       "      <td>90001</td>\n",
       "    </tr>\n",
       "    <tr>\n",
       "      <th>0</th>\n",
       "      <td>1.0</td>\n",
       "      <td>4.0</td>\n",
       "      <td>1.0</td>\n",
       "      <td>54587.0</td>\n",
       "      <td>0.0</td>\n",
       "      <td>2.0</td>\n",
       "      <td>2.0</td>\n",
       "      <td>3.0</td>\n",
       "      <td>9500.0</td>\n",
       "      <td>22.0</td>\n",
       "      <td>...</td>\n",
       "      <td>213.75</td>\n",
       "      <td>162.825000</td>\n",
       "      <td>426.60</td>\n",
       "      <td>848.975000</td>\n",
       "      <td>289.80</td>\n",
       "      <td>1941.95</td>\n",
       "      <td>23.157866</td>\n",
       "      <td>0.0</td>\n",
       "      <td>23229.528089</td>\n",
       "      <td>90001</td>\n",
       "    </tr>\n",
       "    <tr>\n",
       "      <th>0</th>\n",
       "      <td>1.0</td>\n",
       "      <td>5.0</td>\n",
       "      <td>1.0</td>\n",
       "      <td>54587.0</td>\n",
       "      <td>0.0</td>\n",
       "      <td>2.0</td>\n",
       "      <td>3.0</td>\n",
       "      <td>3.0</td>\n",
       "      <td>9900.0</td>\n",
       "      <td>22.0</td>\n",
       "      <td>...</td>\n",
       "      <td>207.63</td>\n",
       "      <td>158.210000</td>\n",
       "      <td>414.36</td>\n",
       "      <td>824.760000</td>\n",
       "      <td>281.52</td>\n",
       "      <td>1886.48</td>\n",
       "      <td>25.263464</td>\n",
       "      <td>0.0</td>\n",
       "      <td>24243.941486</td>\n",
       "      <td>90001</td>\n",
       "    </tr>\n",
       "  </tbody>\n",
       "</table>\n",
       "<p>5 rows × 334 columns</p>\n",
       "</div>"
      ],
      "text/plain": [
       "   input_location_mode  input_size  input_income  input_population  \\\n",
       "0                  1.0         1.0           1.0           54587.0   \n",
       "0                  1.0         2.0           1.0           54587.0   \n",
       "0                  1.0         3.0           1.0           54587.0   \n",
       "0                  1.0         4.0           1.0           54587.0   \n",
       "0                  1.0         5.0           1.0           54587.0   \n",
       "\n",
       "   input_changed  input_footprint_household_adults  \\\n",
       "0            0.0                               1.0   \n",
       "0            0.0                               2.0   \n",
       "0            0.0                               2.0   \n",
       "0            0.0                               2.0   \n",
       "0            0.0                               2.0   \n",
       "\n",
       "   input_footprint_household_children  \\\n",
       "0                                 0.0   \n",
       "0                                 0.0   \n",
       "0                                 1.0   \n",
       "0                                 2.0   \n",
       "0                                 3.0   \n",
       "\n",
       "   input_footprint_transportation_num_vehicles  \\\n",
       "0                                          1.0   \n",
       "0                                          2.0   \n",
       "0                                          2.0   \n",
       "0                                          3.0   \n",
       "0                                          3.0   \n",
       "\n",
       "   input_footprint_transportation_miles1  input_footprint_transportation_mpg1  \\\n",
       "0                                 8700.0                                 22.0   \n",
       "0                                 9200.0                                 22.0   \n",
       "0                                11200.0                                 22.0   \n",
       "0                                 9500.0                                 22.0   \n",
       "0                                 9900.0                                 22.0   \n",
       "\n",
       "   ...  result_takeaction_low_carbon_diet_meatcal  \\\n",
       "0  ...                                     244.35   \n",
       "0  ...                                     244.35   \n",
       "0  ...                                     223.95   \n",
       "0  ...                                     213.75   \n",
       "0  ...                                     207.63   \n",
       "\n",
       "   result_takeaction_low_carbon_diet_dairycal  \\\n",
       "0                                  185.900000   \n",
       "0                                  185.900000   \n",
       "0                                  170.516667   \n",
       "0                                  162.825000   \n",
       "0                                  158.210000   \n",
       "\n",
       "   result_takeaction_low_carbon_diet_fvcal  \\\n",
       "0                                   487.80   \n",
       "0                                   487.80   \n",
       "0                                   447.00   \n",
       "0                                   426.60   \n",
       "0                                   414.36   \n",
       "\n",
       "   result_takeaction_low_carbon_diet_cerealscal  \\\n",
       "0                                    970.050000   \n",
       "0                                    970.050000   \n",
       "0                                    889.333333   \n",
       "0                                    848.975000   \n",
       "0                                    824.760000   \n",
       "\n",
       "   result_takeaction_low_carbon_diet_othercal  \\\n",
       "0                                      331.20   \n",
       "0                                      331.20   \n",
       "0                                      303.60   \n",
       "0                                      289.80   \n",
       "0                                      281.52   \n",
       "\n",
       "   result_takeaction_low_carbon_diet_totalcal  \\\n",
       "0                                     2219.30   \n",
       "0                                     2219.30   \n",
       "0                                     2034.40   \n",
       "0                                     1941.95   \n",
       "0                                     1886.48   \n",
       "\n",
       "   result_takeaction_offset_shopping_transtonsleft  \\\n",
       "0                                         8.859825   \n",
       "0                                        16.458528   \n",
       "0                                        19.543771   \n",
       "0                                        23.157866   \n",
       "0                                        25.263464   \n",
       "\n",
       "   result_takeaction_offset_shopping_transpledges  internal_vehiclemiles  \\\n",
       "0                                             0.0            8669.126912   \n",
       "0                                             0.0           16799.847068   \n",
       "0                                             0.0           20412.694074   \n",
       "0                                             0.0           23229.528089   \n",
       "0                                             0.0           24243.941486   \n",
       "\n",
       "   Zip Code  \n",
       "0     90001  \n",
       "0     90001  \n",
       "0     90001  \n",
       "0     90001  \n",
       "0     90001  \n",
       "\n",
       "[5 rows x 334 columns]"
      ]
     },
     "execution_count": 18,
     "metadata": {},
     "output_type": "execute_result"
    }
   ],
   "source": [
    "data.head()"
   ]
  },
  {
   "cell_type": "code",
   "execution_count": 19,
   "metadata": {},
   "outputs": [
    {
     "data": {
      "text/plain": [
       "(532,)"
      ]
     },
     "execution_count": 19,
     "metadata": {},
     "output_type": "execute_result"
    }
   ],
   "source": [
    "data['input_population'].unique().shape"
   ]
  },
  {
   "cell_type": "code",
   "execution_count": 20,
   "metadata": {},
   "outputs": [
    {
     "data": {
      "text/plain": [
       "0    18.998752\n",
       "0    33.759699\n",
       "0    39.390649\n",
       "0    45.573388\n",
       "0    48.752482\n",
       "       ...    \n",
       "0    37.173216\n",
       "0    41.789164\n",
       "0    45.209822\n",
       "0    31.196221\n",
       "0    43.154113\n",
       "Name: result_grand_total, Length: 2214, dtype: float64"
      ]
     },
     "execution_count": 20,
     "metadata": {},
     "output_type": "execute_result"
    }
   ],
   "source": [
    "data['result_grand_total']"
   ]
  }
 ],
 "metadata": {
  "kernelspec": {
   "display_name": "Python 3",
   "language": "python",
   "name": "python3"
  },
  "language_info": {
   "codemirror_mode": {
    "name": "ipython",
    "version": 3
   },
   "file_extension": ".py",
   "mimetype": "text/x-python",
   "name": "python",
   "nbconvert_exporter": "python",
   "pygments_lexer": "ipython3",
   "version": "3.8.3"
  }
 },
 "nbformat": 4,
 "nbformat_minor": 4
}
