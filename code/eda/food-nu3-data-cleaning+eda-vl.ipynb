{
 "cells": [
  {
   "cell_type": "code",
   "execution_count": 1,
   "metadata": {},
   "outputs": [],
   "source": [
    "import numpy as np\n",
    "import pandas as pd\n",
    "import matplotlib.pyplot as plt\n",
    "import re"
   ]
  },
  {
   "cell_type": "markdown",
   "metadata": {},
   "source": [
    "## Data Acquisition and Cleaning\n",
    "\n",
    "First, we grab the raw html from the website, and clean up the data to put it in a usable format."
   ]
  },
  {
   "cell_type": "code",
   "execution_count": 2,
   "metadata": {},
   "outputs": [],
   "source": [
    "# https://www.nu3.de/blogs/nutrition/food-carbon-footprint-index-2018\n",
    "food = pd.read_html(\"https://www.nu3.de/blogs/nutrition/food-carbon-footprint-index-2018\")[0]\n",
    "food = food.droplevel([0,1], axis=1)"
   ]
  },
  {
   "cell_type": "code",
   "execution_count": 3,
   "metadata": {
    "scrolled": true
   },
   "outputs": [
    {
     "data": {
      "text/html": [
       "<div>\n",
       "<style scoped>\n",
       "    .dataframe tbody tr th:only-of-type {\n",
       "        vertical-align: middle;\n",
       "    }\n",
       "\n",
       "    .dataframe tbody tr th {\n",
       "        vertical-align: top;\n",
       "    }\n",
       "\n",
       "    .dataframe thead th {\n",
       "        text-align: right;\n",
       "    }\n",
       "</style>\n",
       "<table border=\"1\" class=\"dataframe\">\n",
       "  <thead>\n",
       "    <tr style=\"text-align: right;\">\n",
       "      <th></th>\n",
       "      <th>#</th>\n",
       "      <th>Country</th>\n",
       "      <th>porksupply</th>\n",
       "      <th>porkco2</th>\n",
       "      <th>chickensupply</th>\n",
       "      <th>chickenco2</th>\n",
       "      <th>beefsupply</th>\n",
       "      <th>beefco2</th>\n",
       "      <th>lambsupply</th>\n",
       "      <th>lambco2</th>\n",
       "      <th>...</th>\n",
       "      <th>wheatprodsupply</th>\n",
       "      <th>wheatprodco2</th>\n",
       "      <th>ricesupply</th>\n",
       "      <th>riceco2</th>\n",
       "      <th>soybeansupply</th>\n",
       "      <th>soybeanco2</th>\n",
       "      <th>nutssupply</th>\n",
       "      <th>nutsco2</th>\n",
       "      <th>totalnonanimalco2</th>\n",
       "      <th>difftotalco2</th>\n",
       "    </tr>\n",
       "  </thead>\n",
       "  <tbody>\n",
       "    <tr>\n",
       "      <th>0</th>\n",
       "      <td>1</td>\n",
       "      <td>Argentina</td>\n",
       "      <td>10.51</td>\n",
       "      <td>37.20</td>\n",
       "      <td>38.66</td>\n",
       "      <td>41.53</td>\n",
       "      <td>55.48</td>\n",
       "      <td>1712.00</td>\n",
       "      <td>1.56</td>\n",
       "      <td>54.63</td>\n",
       "      <td>...</td>\n",
       "      <td>103.11</td>\n",
       "      <td>19.66</td>\n",
       "      <td>8.77</td>\n",
       "      <td>11.22</td>\n",
       "      <td>0.00</td>\n",
       "      <td>0.00</td>\n",
       "      <td>0.49</td>\n",
       "      <td>0.87</td>\n",
       "      <td>31.75</td>\n",
       "      <td>2108.90</td>\n",
       "    </tr>\n",
       "    <tr>\n",
       "      <th>1</th>\n",
       "      <td>2</td>\n",
       "      <td>Australia</td>\n",
       "      <td>24.14</td>\n",
       "      <td>85.44</td>\n",
       "      <td>46.12</td>\n",
       "      <td>49.54</td>\n",
       "      <td>33.86</td>\n",
       "      <td>1044.85</td>\n",
       "      <td>9.87</td>\n",
       "      <td>345.65</td>\n",
       "      <td>...</td>\n",
       "      <td>70.46</td>\n",
       "      <td>13.44</td>\n",
       "      <td>11.03</td>\n",
       "      <td>14.12</td>\n",
       "      <td>0.19</td>\n",
       "      <td>0.09</td>\n",
       "      <td>8.73</td>\n",
       "      <td>15.45</td>\n",
       "      <td>43.09</td>\n",
       "      <td>1852.46</td>\n",
       "    </tr>\n",
       "    <tr>\n",
       "      <th>2</th>\n",
       "      <td>3</td>\n",
       "      <td>Albania</td>\n",
       "      <td>10.88</td>\n",
       "      <td>38.51</td>\n",
       "      <td>13.23</td>\n",
       "      <td>14.21</td>\n",
       "      <td>22.50</td>\n",
       "      <td>694.30</td>\n",
       "      <td>15.32</td>\n",
       "      <td>536.50</td>\n",
       "      <td>...</td>\n",
       "      <td>138.64</td>\n",
       "      <td>26.44</td>\n",
       "      <td>7.78</td>\n",
       "      <td>9.96</td>\n",
       "      <td>0.00</td>\n",
       "      <td>0.00</td>\n",
       "      <td>4.36</td>\n",
       "      <td>7.72</td>\n",
       "      <td>44.11</td>\n",
       "      <td>1689.62</td>\n",
       "    </tr>\n",
       "    <tr>\n",
       "      <th>3</th>\n",
       "      <td>4</td>\n",
       "      <td>Iceland</td>\n",
       "      <td>21.69</td>\n",
       "      <td>76.77</td>\n",
       "      <td>26.87</td>\n",
       "      <td>28.86</td>\n",
       "      <td>13.36</td>\n",
       "      <td>412.26</td>\n",
       "      <td>21.12</td>\n",
       "      <td>739.62</td>\n",
       "      <td>...</td>\n",
       "      <td>72.92</td>\n",
       "      <td>13.91</td>\n",
       "      <td>3.89</td>\n",
       "      <td>4.98</td>\n",
       "      <td>0.11</td>\n",
       "      <td>0.05</td>\n",
       "      <td>3.88</td>\n",
       "      <td>6.87</td>\n",
       "      <td>25.80</td>\n",
       "      <td>1679.75</td>\n",
       "    </tr>\n",
       "    <tr>\n",
       "      <th>4</th>\n",
       "      <td>5</td>\n",
       "      <td>New Zealand</td>\n",
       "      <td>22.29</td>\n",
       "      <td>78.90</td>\n",
       "      <td>34.98</td>\n",
       "      <td>37.58</td>\n",
       "      <td>22.49</td>\n",
       "      <td>693.99</td>\n",
       "      <td>18.91</td>\n",
       "      <td>662.23</td>\n",
       "      <td>...</td>\n",
       "      <td>76.91</td>\n",
       "      <td>14.67</td>\n",
       "      <td>9.16</td>\n",
       "      <td>11.72</td>\n",
       "      <td>0.44</td>\n",
       "      <td>0.20</td>\n",
       "      <td>8.22</td>\n",
       "      <td>14.55</td>\n",
       "      <td>41.14</td>\n",
       "      <td>1668.67</td>\n",
       "    </tr>\n",
       "  </tbody>\n",
       "</table>\n",
       "<p>5 rows × 27 columns</p>\n",
       "</div>"
      ],
      "text/plain": [
       "   #      Country  porksupply  porkco2  chickensupply  chickenco2  beefsupply  \\\n",
       "0  1    Argentina       10.51    37.20          38.66       41.53       55.48   \n",
       "1  2    Australia       24.14    85.44          46.12       49.54       33.86   \n",
       "2  3      Albania       10.88    38.51          13.23       14.21       22.50   \n",
       "3  4      Iceland       21.69    76.77          26.87       28.86       13.36   \n",
       "4  5  New Zealand       22.29    78.90          34.98       37.58       22.49   \n",
       "\n",
       "   beefco2  lambsupply  lambco2  ...  wheatprodsupply  wheatprodco2  \\\n",
       "0  1712.00        1.56    54.63  ...           103.11         19.66   \n",
       "1  1044.85        9.87   345.65  ...            70.46         13.44   \n",
       "2   694.30       15.32   536.50  ...           138.64         26.44   \n",
       "3   412.26       21.12   739.62  ...            72.92         13.91   \n",
       "4   693.99       18.91   662.23  ...            76.91         14.67   \n",
       "\n",
       "   ricesupply  riceco2  soybeansupply  soybeanco2  nutssupply  nutsco2  \\\n",
       "0        8.77    11.22           0.00        0.00        0.49     0.87   \n",
       "1       11.03    14.12           0.19        0.09        8.73    15.45   \n",
       "2        7.78     9.96           0.00        0.00        4.36     7.72   \n",
       "3        3.89     4.98           0.11        0.05        3.88     6.87   \n",
       "4        9.16    11.72           0.44        0.20        8.22    14.55   \n",
       "\n",
       "   totalnonanimalco2  difftotalco2  \n",
       "0              31.75       2108.90  \n",
       "1              43.09       1852.46  \n",
       "2              44.11       1689.62  \n",
       "3              25.80       1679.75  \n",
       "4              41.14       1668.67  \n",
       "\n",
       "[5 rows x 27 columns]"
      ]
     },
     "execution_count": 3,
     "metadata": {},
     "output_type": "execute_result"
    }
   ],
   "source": [
    "columns = ['#', 'Country', 'porksupply', 'porkco2', 'chickensupply', 'chickenco2', 'beefsupply', 'beefco2', 'lambsupply', 'lambco2', \n",
    "           'fishsupply', 'fishco2', 'eggsupply', 'eggco2', 'milkcheesesupply', 'milkcheeseco2', 'totalanimalco2', \n",
    "           'wheatprodsupply', 'wheatprodco2', 'ricesupply', 'riceco2', 'soybeansupply', 'soybeanco2', \n",
    "           'nutssupply', 'nutsco2', 'totalnonanimalco2', 'difftotalco2']\n",
    "\n",
    "food.rename(columns=dict(zip(food.columns, columns)), inplace=True)\n",
    "food.head()"
   ]
  },
  {
   "cell_type": "code",
   "execution_count": 4,
   "metadata": {},
   "outputs": [
    {
     "data": {
      "text/plain": [
       "(130, 27)"
      ]
     },
     "execution_count": 4,
     "metadata": {},
     "output_type": "execute_result"
    }
   ],
   "source": [
    "# 130 different countries\n",
    "food.shape"
   ]
  },
  {
   "cell_type": "code",
   "execution_count": 5,
   "metadata": {},
   "outputs": [
    {
     "data": {
      "text/plain": [
       "['porkco2',\n",
       " 'chickenco2',\n",
       " 'beefco2',\n",
       " 'lambco2',\n",
       " 'fishco2',\n",
       " 'eggco2',\n",
       " 'milkcheeseco2',\n",
       " 'totalanimalco2',\n",
       " 'wheatprodco2',\n",
       " 'riceco2',\n",
       " 'soybeanco2',\n",
       " 'nutsco2',\n",
       " 'totalnonanimalco2',\n",
       " 'difftotalco2']"
      ]
     },
     "execution_count": 5,
     "metadata": {},
     "output_type": "execute_result"
    }
   ],
   "source": [
    "[col for col in columns if re.findall('co2', col)]"
   ]
  },
  {
   "cell_type": "code",
   "execution_count": 6,
   "metadata": {
    "scrolled": true
   },
   "outputs": [
    {
     "data": {
      "text/html": [
       "<div>\n",
       "<style scoped>\n",
       "    .dataframe tbody tr th:only-of-type {\n",
       "        vertical-align: middle;\n",
       "    }\n",
       "\n",
       "    .dataframe tbody tr th {\n",
       "        vertical-align: top;\n",
       "    }\n",
       "\n",
       "    .dataframe thead th {\n",
       "        text-align: right;\n",
       "    }\n",
       "</style>\n",
       "<table border=\"1\" class=\"dataframe\">\n",
       "  <thead>\n",
       "    <tr style=\"text-align: right;\">\n",
       "      <th></th>\n",
       "      <th>Country</th>\n",
       "      <th>porkco2</th>\n",
       "      <th>chickenco2</th>\n",
       "      <th>beefco2</th>\n",
       "      <th>lambco2</th>\n",
       "      <th>fishco2</th>\n",
       "      <th>eggco2</th>\n",
       "      <th>milkcheeseco2</th>\n",
       "      <th>wheatprodco2</th>\n",
       "      <th>riceco2</th>\n",
       "      <th>soybeanco2</th>\n",
       "      <th>nutsco2</th>\n",
       "      <th>totalco2</th>\n",
       "    </tr>\n",
       "  </thead>\n",
       "  <tbody>\n",
       "    <tr>\n",
       "      <th>0</th>\n",
       "      <td>Argentina</td>\n",
       "      <td>37.20</td>\n",
       "      <td>41.53</td>\n",
       "      <td>1712.00</td>\n",
       "      <td>54.63</td>\n",
       "      <td>6.96</td>\n",
       "      <td>10.46</td>\n",
       "      <td>277.87</td>\n",
       "      <td>19.66</td>\n",
       "      <td>11.22</td>\n",
       "      <td>0.00</td>\n",
       "      <td>0.87</td>\n",
       "      <td>2172.40</td>\n",
       "    </tr>\n",
       "    <tr>\n",
       "      <th>1</th>\n",
       "      <td>Australia</td>\n",
       "      <td>85.44</td>\n",
       "      <td>49.54</td>\n",
       "      <td>1044.85</td>\n",
       "      <td>345.65</td>\n",
       "      <td>28.25</td>\n",
       "      <td>7.82</td>\n",
       "      <td>334.01</td>\n",
       "      <td>13.44</td>\n",
       "      <td>14.12</td>\n",
       "      <td>0.09</td>\n",
       "      <td>15.45</td>\n",
       "      <td>1938.64</td>\n",
       "    </tr>\n",
       "    <tr>\n",
       "      <th>2</th>\n",
       "      <td>Albania</td>\n",
       "      <td>38.51</td>\n",
       "      <td>14.21</td>\n",
       "      <td>694.30</td>\n",
       "      <td>536.50</td>\n",
       "      <td>6.15</td>\n",
       "      <td>11.44</td>\n",
       "      <td>432.62</td>\n",
       "      <td>26.44</td>\n",
       "      <td>9.96</td>\n",
       "      <td>0.00</td>\n",
       "      <td>7.72</td>\n",
       "      <td>1777.84</td>\n",
       "    </tr>\n",
       "    <tr>\n",
       "      <th>3</th>\n",
       "      <td>Iceland</td>\n",
       "      <td>76.77</td>\n",
       "      <td>28.86</td>\n",
       "      <td>412.26</td>\n",
       "      <td>739.62</td>\n",
       "      <td>118.81</td>\n",
       "      <td>7.57</td>\n",
       "      <td>321.66</td>\n",
       "      <td>13.91</td>\n",
       "      <td>4.98</td>\n",
       "      <td>0.05</td>\n",
       "      <td>6.87</td>\n",
       "      <td>1731.35</td>\n",
       "    </tr>\n",
       "    <tr>\n",
       "      <th>4</th>\n",
       "      <td>New Zealand</td>\n",
       "      <td>78.90</td>\n",
       "      <td>37.58</td>\n",
       "      <td>693.99</td>\n",
       "      <td>662.23</td>\n",
       "      <td>32.51</td>\n",
       "      <td>9.10</td>\n",
       "      <td>195.50</td>\n",
       "      <td>14.67</td>\n",
       "      <td>11.72</td>\n",
       "      <td>0.20</td>\n",
       "      <td>14.55</td>\n",
       "      <td>1750.94</td>\n",
       "    </tr>\n",
       "  </tbody>\n",
       "</table>\n",
       "</div>"
      ],
      "text/plain": [
       "       Country  porkco2  chickenco2  beefco2  lambco2  fishco2  eggco2  \\\n",
       "0    Argentina    37.20       41.53  1712.00    54.63     6.96   10.46   \n",
       "1    Australia    85.44       49.54  1044.85   345.65    28.25    7.82   \n",
       "2      Albania    38.51       14.21   694.30   536.50     6.15   11.44   \n",
       "3      Iceland    76.77       28.86   412.26   739.62   118.81    7.57   \n",
       "4  New Zealand    78.90       37.58   693.99   662.23    32.51    9.10   \n",
       "\n",
       "   milkcheeseco2  wheatprodco2  riceco2  soybeanco2  nutsco2  totalco2  \n",
       "0         277.87         19.66    11.22        0.00     0.87   2172.40  \n",
       "1         334.01         13.44    14.12        0.09    15.45   1938.64  \n",
       "2         432.62         26.44     9.96        0.00     7.72   1777.84  \n",
       "3         321.66         13.91     4.98        0.05     6.87   1731.35  \n",
       "4         195.50         14.67    11.72        0.20    14.55   1750.94  "
      ]
     },
     "execution_count": 6,
     "metadata": {},
     "output_type": "execute_result"
    }
   ],
   "source": [
    "food_co2 = food.drop(columns=['#', 'totalanimalco2', 'totalnonanimalco2', 'difftotalco2'] \n",
    "                               + [col for col in columns if re.findall('supply', col)])\n",
    "food_co2['totalco2'] = food['totalanimalco2'] + food['totalnonanimalco2']\n",
    "food_co2.head()"
   ]
  },
  {
   "cell_type": "code",
   "execution_count": 9,
   "metadata": {
    "scrolled": true
   },
   "outputs": [
    {
     "data": {
      "text/html": [
       "<div>\n",
       "<style scoped>\n",
       "    .dataframe tbody tr th:only-of-type {\n",
       "        vertical-align: middle;\n",
       "    }\n",
       "\n",
       "    .dataframe tbody tr th {\n",
       "        vertical-align: top;\n",
       "    }\n",
       "\n",
       "    .dataframe thead th {\n",
       "        text-align: right;\n",
       "    }\n",
       "</style>\n",
       "<table border=\"1\" class=\"dataframe\">\n",
       "  <thead>\n",
       "    <tr style=\"text-align: right;\">\n",
       "      <th></th>\n",
       "      <th>Country</th>\n",
       "      <th>porksupply</th>\n",
       "      <th>chickensupply</th>\n",
       "      <th>beefsupply</th>\n",
       "      <th>lambsupply</th>\n",
       "      <th>fishsupply</th>\n",
       "      <th>eggsupply</th>\n",
       "      <th>milkcheesesupply</th>\n",
       "      <th>wheatprodsupply</th>\n",
       "      <th>ricesupply</th>\n",
       "      <th>soybeansupply</th>\n",
       "      <th>nutssupply</th>\n",
       "      <th>totalsupply</th>\n",
       "    </tr>\n",
       "  </thead>\n",
       "  <tbody>\n",
       "    <tr>\n",
       "      <th>0</th>\n",
       "      <td>Argentina</td>\n",
       "      <td>10.51</td>\n",
       "      <td>38.66</td>\n",
       "      <td>55.48</td>\n",
       "      <td>1.56</td>\n",
       "      <td>4.36</td>\n",
       "      <td>11.39</td>\n",
       "      <td>195.08</td>\n",
       "      <td>103.11</td>\n",
       "      <td>8.77</td>\n",
       "      <td>0.00</td>\n",
       "      <td>0.49</td>\n",
       "      <td>428.92</td>\n",
       "    </tr>\n",
       "    <tr>\n",
       "      <th>1</th>\n",
       "      <td>Australia</td>\n",
       "      <td>24.14</td>\n",
       "      <td>46.12</td>\n",
       "      <td>33.86</td>\n",
       "      <td>9.87</td>\n",
       "      <td>17.69</td>\n",
       "      <td>8.51</td>\n",
       "      <td>234.49</td>\n",
       "      <td>70.46</td>\n",
       "      <td>11.03</td>\n",
       "      <td>0.19</td>\n",
       "      <td>8.73</td>\n",
       "      <td>456.36</td>\n",
       "    </tr>\n",
       "    <tr>\n",
       "      <th>2</th>\n",
       "      <td>Albania</td>\n",
       "      <td>10.88</td>\n",
       "      <td>13.23</td>\n",
       "      <td>22.50</td>\n",
       "      <td>15.32</td>\n",
       "      <td>3.85</td>\n",
       "      <td>12.45</td>\n",
       "      <td>303.72</td>\n",
       "      <td>138.64</td>\n",
       "      <td>7.78</td>\n",
       "      <td>0.00</td>\n",
       "      <td>4.36</td>\n",
       "      <td>528.37</td>\n",
       "    </tr>\n",
       "    <tr>\n",
       "      <th>3</th>\n",
       "      <td>Iceland</td>\n",
       "      <td>21.69</td>\n",
       "      <td>26.87</td>\n",
       "      <td>13.36</td>\n",
       "      <td>21.12</td>\n",
       "      <td>74.41</td>\n",
       "      <td>8.24</td>\n",
       "      <td>225.82</td>\n",
       "      <td>72.92</td>\n",
       "      <td>3.89</td>\n",
       "      <td>0.11</td>\n",
       "      <td>3.88</td>\n",
       "      <td>468.43</td>\n",
       "    </tr>\n",
       "    <tr>\n",
       "      <th>4</th>\n",
       "      <td>New Zealand</td>\n",
       "      <td>22.29</td>\n",
       "      <td>34.98</td>\n",
       "      <td>22.49</td>\n",
       "      <td>18.91</td>\n",
       "      <td>20.36</td>\n",
       "      <td>9.91</td>\n",
       "      <td>137.25</td>\n",
       "      <td>76.91</td>\n",
       "      <td>9.16</td>\n",
       "      <td>0.44</td>\n",
       "      <td>8.22</td>\n",
       "      <td>352.70</td>\n",
       "    </tr>\n",
       "  </tbody>\n",
       "</table>\n",
       "</div>"
      ],
      "text/plain": [
       "       Country  porksupply  chickensupply  beefsupply  lambsupply  fishsupply  \\\n",
       "0    Argentina       10.51          38.66       55.48        1.56        4.36   \n",
       "1    Australia       24.14          46.12       33.86        9.87       17.69   \n",
       "2      Albania       10.88          13.23       22.50       15.32        3.85   \n",
       "3      Iceland       21.69          26.87       13.36       21.12       74.41   \n",
       "4  New Zealand       22.29          34.98       22.49       18.91       20.36   \n",
       "\n",
       "   eggsupply  milkcheesesupply  wheatprodsupply  ricesupply  soybeansupply  \\\n",
       "0      11.39            195.08           103.11        8.77           0.00   \n",
       "1       8.51            234.49            70.46       11.03           0.19   \n",
       "2      12.45            303.72           138.64        7.78           0.00   \n",
       "3       8.24            225.82            72.92        3.89           0.11   \n",
       "4       9.91            137.25            76.91        9.16           0.44   \n",
       "\n",
       "   nutssupply  totalsupply  \n",
       "0        0.49       428.92  \n",
       "1        8.73       456.36  \n",
       "2        4.36       528.37  \n",
       "3        3.88       468.43  \n",
       "4        8.22       352.70  "
      ]
     },
     "execution_count": 9,
     "metadata": {},
     "output_type": "execute_result"
    }
   ],
   "source": [
    "food_supply = food.drop(columns=['#', 'totalanimalco2', 'totalnonanimalco2', 'difftotalco2'] \n",
    "                               + [col for col in columns if re.findall('co2', col)][:-2])\n",
    "columns_supply = food_supply.columns[1:-1]\n",
    "food_supply['totalsupply'] = food_supply.loc[:, columns_supply].values.sum(axis=1)\n",
    "food_supply.head()"
   ]
  },
  {
   "cell_type": "code",
   "execution_count": 11,
   "metadata": {},
   "outputs": [
    {
     "data": {
      "text/plain": [
       "0.029999999999972715"
      ]
     },
     "execution_count": 11,
     "metadata": {},
     "output_type": "execute_result"
    }
   ],
   "source": [
    "# check that the totalco2 is roughly the sum of the co2 columns\n",
    "max(food_co2.loc[:, food_co2.columns[1:-1]].values.sum(axis=1) - food_co2['totalco2'].values)"
   ]
  },
  {
   "cell_type": "markdown",
   "metadata": {},
   "source": [
    "#### Motivation for conversion of data to percentages:\n",
    "We converted the supply columns to percentages so that it is more comparable to an individual's diet. People tend to have a better grasp of the relative amounts of each food group they eat rather than the raw amount, which is what the data was before cleaning. That way, our model can take inputs of the percent of each food group an individual consumes on an annual basis, and relate that directly to the total carbon emissions in kilograms per year (the units of `totalco2`)."
   ]
  },
  {
   "cell_type": "code",
   "execution_count": 12,
   "metadata": {},
   "outputs": [
    {
     "data": {
      "text/html": [
       "<div>\n",
       "<style scoped>\n",
       "    .dataframe tbody tr th:only-of-type {\n",
       "        vertical-align: middle;\n",
       "    }\n",
       "\n",
       "    .dataframe tbody tr th {\n",
       "        vertical-align: top;\n",
       "    }\n",
       "\n",
       "    .dataframe thead th {\n",
       "        text-align: right;\n",
       "    }\n",
       "</style>\n",
       "<table border=\"1\" class=\"dataframe\">\n",
       "  <thead>\n",
       "    <tr style=\"text-align: right;\">\n",
       "      <th></th>\n",
       "      <th>porksupply_pct</th>\n",
       "      <th>chickensupply_pct</th>\n",
       "      <th>beefsupply_pct</th>\n",
       "      <th>lambsupply_pct</th>\n",
       "      <th>fishsupply_pct</th>\n",
       "      <th>eggsupply_pct</th>\n",
       "      <th>milkcheesesupply_pct</th>\n",
       "      <th>wheatprodsupply_pct</th>\n",
       "      <th>ricesupply_pct</th>\n",
       "      <th>soybeansupply_pct</th>\n",
       "      <th>totalco2</th>\n",
       "      <th>Country</th>\n",
       "    </tr>\n",
       "  </thead>\n",
       "  <tbody>\n",
       "    <tr>\n",
       "      <th>0</th>\n",
       "      <td>0.024503</td>\n",
       "      <td>0.090133</td>\n",
       "      <td>0.129348</td>\n",
       "      <td>0.003637</td>\n",
       "      <td>0.010165</td>\n",
       "      <td>0.026555</td>\n",
       "      <td>0.454817</td>\n",
       "      <td>0.240394</td>\n",
       "      <td>0.020447</td>\n",
       "      <td>0.000000</td>\n",
       "      <td>2172.40</td>\n",
       "      <td>Argentina</td>\n",
       "    </tr>\n",
       "    <tr>\n",
       "      <th>1</th>\n",
       "      <td>0.052897</td>\n",
       "      <td>0.101061</td>\n",
       "      <td>0.074196</td>\n",
       "      <td>0.021628</td>\n",
       "      <td>0.038763</td>\n",
       "      <td>0.018648</td>\n",
       "      <td>0.513827</td>\n",
       "      <td>0.154396</td>\n",
       "      <td>0.024170</td>\n",
       "      <td>0.000416</td>\n",
       "      <td>1938.64</td>\n",
       "      <td>Australia</td>\n",
       "    </tr>\n",
       "    <tr>\n",
       "      <th>2</th>\n",
       "      <td>0.020592</td>\n",
       "      <td>0.025039</td>\n",
       "      <td>0.042584</td>\n",
       "      <td>0.028995</td>\n",
       "      <td>0.007287</td>\n",
       "      <td>0.023563</td>\n",
       "      <td>0.574824</td>\n",
       "      <td>0.262392</td>\n",
       "      <td>0.014725</td>\n",
       "      <td>0.000000</td>\n",
       "      <td>1777.84</td>\n",
       "      <td>Albania</td>\n",
       "    </tr>\n",
       "    <tr>\n",
       "      <th>3</th>\n",
       "      <td>0.046304</td>\n",
       "      <td>0.057362</td>\n",
       "      <td>0.028521</td>\n",
       "      <td>0.045087</td>\n",
       "      <td>0.158850</td>\n",
       "      <td>0.017591</td>\n",
       "      <td>0.482078</td>\n",
       "      <td>0.155669</td>\n",
       "      <td>0.008304</td>\n",
       "      <td>0.000235</td>\n",
       "      <td>1731.35</td>\n",
       "      <td>Iceland</td>\n",
       "    </tr>\n",
       "    <tr>\n",
       "      <th>4</th>\n",
       "      <td>0.063198</td>\n",
       "      <td>0.099178</td>\n",
       "      <td>0.063765</td>\n",
       "      <td>0.053615</td>\n",
       "      <td>0.057726</td>\n",
       "      <td>0.028098</td>\n",
       "      <td>0.389141</td>\n",
       "      <td>0.218061</td>\n",
       "      <td>0.025971</td>\n",
       "      <td>0.001248</td>\n",
       "      <td>1750.94</td>\n",
       "      <td>New Zealand</td>\n",
       "    </tr>\n",
       "  </tbody>\n",
       "</table>\n",
       "</div>"
      ],
      "text/plain": [
       "   porksupply_pct  chickensupply_pct  beefsupply_pct  lambsupply_pct  \\\n",
       "0        0.024503           0.090133        0.129348        0.003637   \n",
       "1        0.052897           0.101061        0.074196        0.021628   \n",
       "2        0.020592           0.025039        0.042584        0.028995   \n",
       "3        0.046304           0.057362        0.028521        0.045087   \n",
       "4        0.063198           0.099178        0.063765        0.053615   \n",
       "\n",
       "   fishsupply_pct  eggsupply_pct  milkcheesesupply_pct  wheatprodsupply_pct  \\\n",
       "0        0.010165       0.026555              0.454817             0.240394   \n",
       "1        0.038763       0.018648              0.513827             0.154396   \n",
       "2        0.007287       0.023563              0.574824             0.262392   \n",
       "3        0.158850       0.017591              0.482078             0.155669   \n",
       "4        0.057726       0.028098              0.389141             0.218061   \n",
       "\n",
       "   ricesupply_pct  soybeansupply_pct  totalco2      Country  \n",
       "0        0.020447           0.000000   2172.40    Argentina  \n",
       "1        0.024170           0.000416   1938.64    Australia  \n",
       "2        0.014725           0.000000   1777.84      Albania  \n",
       "3        0.008304           0.000235   1731.35      Iceland  \n",
       "4        0.025971           0.001248   1750.94  New Zealand  "
      ]
     },
     "execution_count": 12,
     "metadata": {},
     "output_type": "execute_result"
    }
   ],
   "source": [
    "# convert columns into percentages\n",
    "food_pct = pd.DataFrame([])\n",
    "for col in columns_supply:\n",
    "    food_pct[col + '_pct'] = food_supply[col] / food_supply['totalsupply']\n",
    "    \n",
    "# add the y variable and country\n",
    "food_pct['totalco2'] = food_co2['totalco2']\n",
    "food_pct['Country'] = food['Country']\n",
    "food_pct.head()"
   ]
  },
  {
   "cell_type": "code",
   "execution_count": 13,
   "metadata": {},
   "outputs": [],
   "source": [
    "# food_pct.to_csv('../../data/nu3-pctfoodsupply-CO2-emissions.csv')"
   ]
  },
  {
   "cell_type": "markdown",
   "metadata": {},
   "source": [
    "---\n",
    "\n",
    "### Exploratory Data Analysis\n",
    "\n",
    "We now have one main dataset that will be used for modelling: `food_pct`."
   ]
  },
  {
   "cell_type": "markdown",
   "metadata": {},
   "source": [
    "Even though we are not looking at country location in our model, we thought it'd be interesting to plot it spatially and see if there are any trends or clusters that have higher kgCO2/person/year.\n",
    "\n",
    "Using this [website](https://towardsdatascience.com/using-python-to-create-a-world-map-from-a-list-of-country-names-cd7480d03b10) as a basis, we plot a world map of the KG CO2 emissions per person."
   ]
  },
  {
   "cell_type": "code",
   "execution_count": 14,
   "metadata": {},
   "outputs": [
    {
     "data": {
      "text/html": [
       "<div>\n",
       "<style scoped>\n",
       "    .dataframe tbody tr th:only-of-type {\n",
       "        vertical-align: middle;\n",
       "    }\n",
       "\n",
       "    .dataframe tbody tr th {\n",
       "        vertical-align: top;\n",
       "    }\n",
       "\n",
       "    .dataframe thead th {\n",
       "        text-align: right;\n",
       "    }\n",
       "</style>\n",
       "<table border=\"1\" class=\"dataframe\">\n",
       "  <thead>\n",
       "    <tr style=\"text-align: right;\">\n",
       "      <th></th>\n",
       "      <th>totalco2</th>\n",
       "      <th>CountryName</th>\n",
       "    </tr>\n",
       "  </thead>\n",
       "  <tbody>\n",
       "    <tr>\n",
       "      <th>0</th>\n",
       "      <td>2172.40</td>\n",
       "      <td>Argentina</td>\n",
       "    </tr>\n",
       "    <tr>\n",
       "      <th>1</th>\n",
       "      <td>1938.64</td>\n",
       "      <td>Australia</td>\n",
       "    </tr>\n",
       "    <tr>\n",
       "      <th>2</th>\n",
       "      <td>1777.84</td>\n",
       "      <td>Albania</td>\n",
       "    </tr>\n",
       "    <tr>\n",
       "      <th>3</th>\n",
       "      <td>1731.35</td>\n",
       "      <td>Iceland</td>\n",
       "    </tr>\n",
       "    <tr>\n",
       "      <th>4</th>\n",
       "      <td>1750.94</td>\n",
       "      <td>New Zealand</td>\n",
       "    </tr>\n",
       "  </tbody>\n",
       "</table>\n",
       "</div>"
      ],
      "text/plain": [
       "   totalco2  CountryName\n",
       "0   2172.40    Argentina\n",
       "1   1938.64    Australia\n",
       "2   1777.84      Albania\n",
       "3   1731.35      Iceland\n",
       "4   1750.94  New Zealand"
      ]
     },
     "execution_count": 14,
     "metadata": {},
     "output_type": "execute_result"
    }
   ],
   "source": [
    "country_co2 = food_pct.loc[:, ['totalco2', 'Country']]\n",
    "country_co2.rename(columns = {'Country' : 'CountryName'}, inplace=True)\n",
    "country_co2.head()"
   ]
  },
  {
   "cell_type": "code",
   "execution_count": 63,
   "metadata": {},
   "outputs": [],
   "source": [
    "#installation\n",
    "# !pip install pycountry-convert\n",
    "\n",
    "#function to convert to alpha2 country codes and continents\n",
    "from pycountry_convert import country_alpha2_to_continent_code, country_name_to_country_alpha2\n",
    "\n",
    "def get_continent(col):\n",
    "    try:\n",
    "        cn_a2_code =  country_name_to_country_alpha2(col)\n",
    "    except:\n",
    "        cn_a2_code = 'Unknown' \n",
    "    try:\n",
    "        cn_continent = country_alpha2_to_continent_code(cn_a2_code)\n",
    "    except:\n",
    "        cn_continent = 'Unknown' \n",
    "    \n",
    "    return (cn_a2_code, cn_continent)"
   ]
  },
  {
   "cell_type": "code",
   "execution_count": 16,
   "metadata": {},
   "outputs": [
    {
     "data": {
      "text/html": [
       "<div>\n",
       "<style scoped>\n",
       "    .dataframe tbody tr th:only-of-type {\n",
       "        vertical-align: middle;\n",
       "    }\n",
       "\n",
       "    .dataframe tbody tr th {\n",
       "        vertical-align: top;\n",
       "    }\n",
       "\n",
       "    .dataframe thead th {\n",
       "        text-align: right;\n",
       "    }\n",
       "</style>\n",
       "<table border=\"1\" class=\"dataframe\">\n",
       "  <thead>\n",
       "    <tr style=\"text-align: right;\">\n",
       "      <th></th>\n",
       "      <th>totalco2</th>\n",
       "      <th>CountryName</th>\n",
       "      <th>Country</th>\n",
       "      <th>Continent</th>\n",
       "    </tr>\n",
       "  </thead>\n",
       "  <tbody>\n",
       "    <tr>\n",
       "      <th>0</th>\n",
       "      <td>2172.40</td>\n",
       "      <td>Argentina</td>\n",
       "      <td>AR</td>\n",
       "      <td>SA</td>\n",
       "    </tr>\n",
       "    <tr>\n",
       "      <th>1</th>\n",
       "      <td>1938.64</td>\n",
       "      <td>Australia</td>\n",
       "      <td>AU</td>\n",
       "      <td>OC</td>\n",
       "    </tr>\n",
       "    <tr>\n",
       "      <th>2</th>\n",
       "      <td>1777.84</td>\n",
       "      <td>Albania</td>\n",
       "      <td>AL</td>\n",
       "      <td>EU</td>\n",
       "    </tr>\n",
       "    <tr>\n",
       "      <th>3</th>\n",
       "      <td>1731.35</td>\n",
       "      <td>Iceland</td>\n",
       "      <td>IS</td>\n",
       "      <td>EU</td>\n",
       "    </tr>\n",
       "    <tr>\n",
       "      <th>4</th>\n",
       "      <td>1750.94</td>\n",
       "      <td>New Zealand</td>\n",
       "      <td>NZ</td>\n",
       "      <td>OC</td>\n",
       "    </tr>\n",
       "  </tbody>\n",
       "</table>\n",
       "</div>"
      ],
      "text/plain": [
       "   totalco2  CountryName Country Continent\n",
       "0   2172.40    Argentina      AR        SA\n",
       "1   1938.64    Australia      AU        OC\n",
       "2   1777.84      Albania      AL        EU\n",
       "3   1731.35      Iceland      IS        EU\n",
       "4   1750.94  New Zealand      NZ        OC"
      ]
     },
     "execution_count": 16,
     "metadata": {},
     "output_type": "execute_result"
    }
   ],
   "source": [
    "codes = country_co2['CountryName'].apply(get_continent)\n",
    "\n",
    "country_co2['Country'] = [code[0] for code in codes]\n",
    "country_co2['Continent'] = [code[1] for code in codes]\n",
    "country_co2.head()"
   ]
  },
  {
   "cell_type": "code",
   "execution_count": 17,
   "metadata": {},
   "outputs": [],
   "source": [
    "#installation\n",
    "# !pip install geopy\n",
    "\n",
    "#function to get longitude and latitude data from country name\n",
    "from geopy.geocoders import Nominatim\n",
    "\n",
    "geolocator = Nominatim(user_agent=\"nu3-data-analysis\")\n",
    "def geolocate(country):\n",
    "    try:\n",
    "        # Geolocate the center of the country\n",
    "        loc = geolocator.geocode(country)\n",
    "        # And return latitude and longitude\n",
    "        return (loc.latitude, loc.longitude)\n",
    "    except:\n",
    "        # Return missing value\n",
    "        return (np.nan, np.nan)"
   ]
  },
  {
   "cell_type": "code",
   "execution_count": 18,
   "metadata": {
    "scrolled": false
   },
   "outputs": [
    {
     "data": {
      "text/html": [
       "<div>\n",
       "<style scoped>\n",
       "    .dataframe tbody tr th:only-of-type {\n",
       "        vertical-align: middle;\n",
       "    }\n",
       "\n",
       "    .dataframe tbody tr th {\n",
       "        vertical-align: top;\n",
       "    }\n",
       "\n",
       "    .dataframe thead th {\n",
       "        text-align: right;\n",
       "    }\n",
       "</style>\n",
       "<table border=\"1\" class=\"dataframe\">\n",
       "  <thead>\n",
       "    <tr style=\"text-align: right;\">\n",
       "      <th></th>\n",
       "      <th>totalco2</th>\n",
       "      <th>CountryName</th>\n",
       "      <th>Country</th>\n",
       "      <th>Continent</th>\n",
       "      <th>Latitude</th>\n",
       "      <th>Longitude</th>\n",
       "    </tr>\n",
       "  </thead>\n",
       "  <tbody>\n",
       "    <tr>\n",
       "      <th>0</th>\n",
       "      <td>2172.40</td>\n",
       "      <td>Argentina</td>\n",
       "      <td>AR</td>\n",
       "      <td>SA</td>\n",
       "      <td>-34.996496</td>\n",
       "      <td>-64.967282</td>\n",
       "    </tr>\n",
       "    <tr>\n",
       "      <th>1</th>\n",
       "      <td>1938.64</td>\n",
       "      <td>Australia</td>\n",
       "      <td>AU</td>\n",
       "      <td>OC</td>\n",
       "      <td>-24.776109</td>\n",
       "      <td>134.755000</td>\n",
       "    </tr>\n",
       "    <tr>\n",
       "      <th>2</th>\n",
       "      <td>1777.84</td>\n",
       "      <td>Albania</td>\n",
       "      <td>AL</td>\n",
       "      <td>EU</td>\n",
       "      <td>33.258882</td>\n",
       "      <td>-86.829534</td>\n",
       "    </tr>\n",
       "    <tr>\n",
       "      <th>3</th>\n",
       "      <td>1731.35</td>\n",
       "      <td>Iceland</td>\n",
       "      <td>IS</td>\n",
       "      <td>EU</td>\n",
       "      <td>64.984182</td>\n",
       "      <td>-18.105901</td>\n",
       "    </tr>\n",
       "    <tr>\n",
       "      <th>4</th>\n",
       "      <td>1750.94</td>\n",
       "      <td>New Zealand</td>\n",
       "      <td>NZ</td>\n",
       "      <td>OC</td>\n",
       "      <td>-41.500083</td>\n",
       "      <td>172.834408</td>\n",
       "    </tr>\n",
       "  </tbody>\n",
       "</table>\n",
       "</div>"
      ],
      "text/plain": [
       "   totalco2  CountryName Country Continent   Latitude   Longitude\n",
       "0   2172.40    Argentina      AR        SA -34.996496  -64.967282\n",
       "1   1938.64    Australia      AU        OC -24.776109  134.755000\n",
       "2   1777.84      Albania      AL        EU  33.258882  -86.829534\n",
       "3   1731.35      Iceland      IS        EU  64.984182  -18.105901\n",
       "4   1750.94  New Zealand      NZ        OC -41.500083  172.834408"
      ]
     },
     "execution_count": 18,
     "metadata": {},
     "output_type": "execute_result"
    }
   ],
   "source": [
    "latlons = country_co2['Country'].apply(geolocate)\n",
    "\n",
    "country_co2['Latitude'] = [latlon[0] for latlon in latlons]\n",
    "country_co2['Longitude'] = [latlon[1] for latlon in latlons]\n",
    "country_co2.head()"
   ]
  },
  {
   "cell_type": "code",
   "execution_count": 19,
   "metadata": {},
   "outputs": [
    {
     "data": {
      "text/html": [
       "<div>\n",
       "<style scoped>\n",
       "    .dataframe tbody tr th:only-of-type {\n",
       "        vertical-align: middle;\n",
       "    }\n",
       "\n",
       "    .dataframe tbody tr th {\n",
       "        vertical-align: top;\n",
       "    }\n",
       "\n",
       "    .dataframe thead th {\n",
       "        text-align: right;\n",
       "    }\n",
       "</style>\n",
       "<table border=\"1\" class=\"dataframe\">\n",
       "  <thead>\n",
       "    <tr style=\"text-align: right;\">\n",
       "      <th></th>\n",
       "      <th>totalco2</th>\n",
       "      <th>CountryName</th>\n",
       "      <th>Country</th>\n",
       "      <th>Continent</th>\n",
       "      <th>Latitude</th>\n",
       "      <th>Longitude</th>\n",
       "    </tr>\n",
       "  </thead>\n",
       "  <tbody>\n",
       "    <tr>\n",
       "      <th>21</th>\n",
       "      <td>1405.70</td>\n",
       "      <td>Israel</td>\n",
       "      <td>IL</td>\n",
       "      <td>AS</td>\n",
       "      <td>NaN</td>\n",
       "      <td>NaN</td>\n",
       "    </tr>\n",
       "    <tr>\n",
       "      <th>32</th>\n",
       "      <td>1109.93</td>\n",
       "      <td>Armenia</td>\n",
       "      <td>AM</td>\n",
       "      <td>AS</td>\n",
       "      <td>NaN</td>\n",
       "      <td>NaN</td>\n",
       "    </tr>\n",
       "    <tr>\n",
       "      <th>107</th>\n",
       "      <td>241.92</td>\n",
       "      <td>Ethiopia</td>\n",
       "      <td>ET</td>\n",
       "      <td>AF</td>\n",
       "      <td>NaN</td>\n",
       "      <td>NaN</td>\n",
       "    </tr>\n",
       "    <tr>\n",
       "      <th>121</th>\n",
       "      <td>282.62</td>\n",
       "      <td>India</td>\n",
       "      <td>IN</td>\n",
       "      <td>AS</td>\n",
       "      <td>NaN</td>\n",
       "      <td>NaN</td>\n",
       "    </tr>\n",
       "  </tbody>\n",
       "</table>\n",
       "</div>"
      ],
      "text/plain": [
       "     totalco2 CountryName Country Continent  Latitude  Longitude\n",
       "21    1405.70      Israel      IL        AS       NaN        NaN\n",
       "32    1109.93     Armenia      AM        AS       NaN        NaN\n",
       "107    241.92    Ethiopia      ET        AF       NaN        NaN\n",
       "121    282.62       India      IN        AS       NaN        NaN"
      ]
     },
     "execution_count": 19,
     "metadata": {},
     "output_type": "execute_result"
    }
   ],
   "source": [
    "country_co2.loc[country_co2['Latitude'].isna(), :]"
   ]
  },
  {
   "cell_type": "code",
   "execution_count": 20,
   "metadata": {},
   "outputs": [],
   "source": [
    "# temporarily removing them to test the world map\n",
    "country_co2_clean = country_co2.loc[~country_co2['Latitude'].isna(), :]"
   ]
  },
  {
   "cell_type": "code",
   "execution_count": 25,
   "metadata": {
    "scrolled": true
   },
   "outputs": [
    {
     "data": {
      "text/html": [
       "<div style=\"width:100%;\"><div style=\"position:relative;width:100%;height:0;padding-bottom:60%;\"><span style=\"color:#565656\">Make this Notebook Trusted to load map: File -> Trust Notebook</span><iframe src=\"about:blank\" style=\"position:absolute;width:100%;height:100%;left:0;top:0;border:none !important;\" data-html=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 onload=\"this.contentDocument.open();this.contentDocument.write(atob(this.getAttribute('data-html')));this.contentDocument.close();\" allowfullscreen webkitallowfullscreen mozallowfullscreen></iframe></div></div>"
      ],
      "text/plain": [
       "<folium.folium.Map at 0x22504b592b0>"
      ]
     },
     "execution_count": 25,
     "metadata": {},
     "output_type": "execute_result"
    }
   ],
   "source": [
    "#installation\n",
    "# !pip install folium\n",
    "\n",
    "# Create a world map to show distributions of users \n",
    "import folium\n",
    "from folium.plugins import MarkerCluster\n",
    "\n",
    "#empty map\n",
    "world_map= folium.Map(tiles=\"cartodbpositron\")\n",
    "marker_cluster = MarkerCluster().add_to(world_map)\n",
    "#for each coordinate, create circlemarker of user percent\n",
    "for i in range(len(country_co2_clean)):\n",
    "        lat = country_co2_clean.iloc[i]['Latitude']\n",
    "        long = country_co2_clean.iloc[i]['Longitude']\n",
    "        radius=5\n",
    "        popup_text = \"\"\"Country : {}<br>\n",
    "                    kgCO2/person/year : {}<br>\"\"\"\n",
    "        popup_text = popup_text.format(country_co2_clean.iloc[i]['CountryName'],\n",
    "                                   country_co2_clean.iloc[i]['totalco2']\n",
    "                                   )\n",
    "        folium.CircleMarker(location = [lat, long], radius=radius, popup= popup_text, fill =True).add_to(marker_cluster)\n",
    "#show the map\n",
    "world_map"
   ]
  },
  {
   "cell_type": "markdown",
   "metadata": {},
   "source": [
    "#### Another map:"
   ]
  },
  {
   "cell_type": "code",
   "execution_count": 74,
   "metadata": {},
   "outputs": [
    {
     "name": "stderr",
     "output_type": "stream",
     "text": [
      "Unknown not found in regex\n",
      "Unknown not found in regex\n"
     ]
    }
   ],
   "source": [
    "# !pip install country-converter\n",
    "\n",
    "import country_converter as coco\n",
    "\n",
    "country_co2['CountryCode'] = coco.convert(names=country_co2['Country'].to_list(), to='ISO3')"
   ]
  },
  {
   "cell_type": "code",
   "execution_count": 75,
   "metadata": {},
   "outputs": [
    {
     "data": {
      "application/vnd.plotly.v1+json": {
       "config": {
        "plotlyServerURL": "https://plot.ly"
       },
       "data": [
        {
         "coloraxis": "coloraxis",
         "geo": "geo",
         "hovertemplate": "<b>%{hovertext}</b><br><br>CountryCode=%{location}<br>totalco2=%{z}<extra></extra>",
         "hovertext": [
          "AR",
          "AU",
          "AL",
          "IS",
          "NZ",
          "US",
          "UY",
          "LU",
          "BR",
          "KZ",
          "SE",
          "BM",
          "DK",
          "FI",
          "IE",
          "GR",
          "FR",
          "CA",
          "NO",
          "Unknown",
          "PF",
          "IL",
          "CH",
          "NL",
          "KW",
          "GB",
          "AT",
          "OM",
          "IT",
          "BS",
          "PT",
          "MT",
          "AM",
          "SI",
          "CL",
          "VE",
          "BE",
          "DE",
          "RU",
          "HR",
          "BY",
          "ES",
          "PY",
          "NC",
          "ZA",
          "BB",
          "LT",
          "TR",
          "EE",
          "MX",
          "CR",
          "BO",
          "EC",
          "PA",
          "CZ",
          "RO",
          "CO",
          "MV",
          "CY",
          "RS",
          "AE",
          "DZ",
          "UA",
          "PK",
          "SZ",
          "LV",
          "BA",
          "FJ",
          "KR",
          "PL",
          "SA",
          "BW",
          "MK",
          "HU",
          "TT",
          "TN",
          "EG",
          "MU",
          "BG",
          "MA",
          "SK",
          "NE",
          "KE",
          "JO",
          "JP",
          "GE",
          "GD",
          "SV",
          "CU",
          "CN",
          "HN",
          "Unknown",
          "AO",
          "JM",
          "NA",
          "BZ",
          "MY",
          "ZW",
          "GT",
          "UG",
          "NP",
          "IR",
          "TZ",
          "SN",
          "PE",
          "NI",
          "VN",
          "ET",
          "MM",
          "CG",
          "ZM",
          "CM",
          "MG",
          "MW",
          "GN",
          "NG",
          "RW",
          "PH",
          "GH",
          "TG",
          "GM",
          "IN",
          "TH",
          "MZ",
          "KH",
          "SL",
          "LK",
          "ID",
          "LR",
          "BD"
         ],
         "locations": [
          "ARG",
          "AUS",
          "ALB",
          "ISL",
          "NZL",
          "USA",
          "URY",
          "LUX",
          "BRA",
          "KAZ",
          "SWE",
          "BMU",
          "DNK",
          "FIN",
          "IRL",
          "GRC",
          "FRA",
          "CAN",
          "NOR",
          "not found",
          "PYF",
          "ISR",
          "CHE",
          "NLD",
          "KWT",
          "GBR",
          "AUT",
          "OMN",
          "ITA",
          "BHS",
          "PRT",
          "MLT",
          "ARM",
          "SVN",
          "CHL",
          "VEN",
          "BEL",
          "DEU",
          "RUS",
          "HRV",
          "BLR",
          "ESP",
          "PRY",
          "NCL",
          "ZAF",
          "BRB",
          "LTU",
          "TUR",
          "EST",
          "MEX",
          "CRI",
          "BOL",
          "ECU",
          "PAN",
          "CZE",
          "ROU",
          "COL",
          "MDV",
          "CYP",
          "SRB",
          "ARE",
          "DZA",
          "UKR",
          "PAK",
          "SWZ",
          "LVA",
          "BIH",
          "FJI",
          "KOR",
          "POL",
          "SAU",
          "BWA",
          "MKD",
          "HUN",
          "TTO",
          "TUN",
          "EGY",
          "MUS",
          "BGR",
          "MAR",
          "SVK",
          "NER",
          "KEN",
          "JOR",
          "JPN",
          "GEO",
          "GRD",
          "SLV",
          "CUB",
          "CHN",
          "HND",
          "not found",
          "AGO",
          "JAM",
          "NAM",
          "BLZ",
          "MYS",
          "ZWE",
          "GTM",
          "UGA",
          "NPL",
          "IRN",
          "TZA",
          "SEN",
          "PER",
          "NIC",
          "VNM",
          "ETH",
          "MMR",
          "COG",
          "ZMB",
          "CMR",
          "MDG",
          "MWI",
          "GIN",
          "NGA",
          "RWA",
          "PHL",
          "GHA",
          "TGO",
          "GMB",
          "IND",
          "THA",
          "MOZ",
          "KHM",
          "SLE",
          "LKA",
          "IDN",
          "LBR",
          "BGD"
         ],
         "name": "",
         "type": "choropleth",
         "z": [
          2172.4,
          1938.6399999999999,
          1777.84,
          1731.35,
          1750.94,
          1718.86,
          1634.91,
          1598.41,
          1616.73,
          1575.07,
          1527.0200000000002,
          1483.27,
          1498.1699999999998,
          1464.63,
          1459.6699999999998,
          1497.29,
          1420.06,
          1437.15,
          1381.9,
          1494.29,
          1424.67,
          1405.6999999999998,
          1356.75,
          1292.83,
          1345.4499999999998,
          1241.63,
          1211.1599999999999,
          1296.7,
          1206.33,
          1192.91,
          1174.28,
          1147.91,
          1109.93,
          1111.55,
          1099.57,
          1104.1000000000001,
          1102.08,
          1066.29,
          1007.66,
          996.1400000000001,
          960.1999999999999,
          988.49,
          876.67,
          918.5999999999999,
          892.41,
          889.11,
          868.91,
          897.01,
          830.7099999999999,
          797.13,
          891.27,
          873.03,
          883.88,
          928.46,
          760.0899999999999,
          766.3000000000001,
          781.53,
          903.46,
          741.36,
          723.32,
          897.3100000000001,
          707.89,
          665.73,
          669.05,
          678.9399999999999,
          633.5699999999999,
          628.1800000000001,
          716.08,
          822.0500000000001,
          607.3900000000001,
          692.88,
          576.86,
          600.7399999999999,
          576.8100000000001,
          610.41,
          618.89,
          673.93,
          672.0699999999999,
          560.16,
          576.39,
          560.34,
          542.8900000000001,
          530.84,
          587.96,
          644.06,
          527.03,
          439.85,
          434.03000000000003,
          591.69,
          640.2,
          434.08000000000004,
          559.55,
          412.99,
          450.81,
          362.12,
          433.07,
          554.64,
          350.34,
          314.99,
          304.73,
          526.24,
          445.27,
          343.02,
          469.42,
          402.84000000000003,
          377.7,
          641.52,
          241.92000000000002,
          563.8,
          262.55,
          225.31,
          283.61,
          440.76,
          207.95,
          432.70000000000005,
          267.78,
          181.62,
          455.28,
          217.88,
          188.10000000000002,
          293.65,
          282.62,
          377.98,
          141.41,
          452.40999999999997,
          300.40999999999997,
          294.45000000000005,
          367.52,
          203.39,
          374.19
         ]
        }
       ],
       "layout": {
        "coloraxis": {
         "colorbar": {
          "title": {
           "text": "totalco2"
          }
         },
         "colorscale": [
          [
           0,
           "#0d0887"
          ],
          [
           0.1111111111111111,
           "#46039f"
          ],
          [
           0.2222222222222222,
           "#7201a8"
          ],
          [
           0.3333333333333333,
           "#9c179e"
          ],
          [
           0.4444444444444444,
           "#bd3786"
          ],
          [
           0.5555555555555556,
           "#d8576b"
          ],
          [
           0.6666666666666666,
           "#ed7953"
          ],
          [
           0.7777777777777778,
           "#fb9f3a"
          ],
          [
           0.8888888888888888,
           "#fdca26"
          ],
          [
           1,
           "#f0f921"
          ]
         ]
        },
        "geo": {
         "center": {},
         "domain": {
          "x": [
           0,
           1
          ],
          "y": [
           0,
           1
          ]
         }
        },
        "legend": {
         "tracegroupgap": 0
        },
        "margin": {
         "t": 60
        },
        "template": {
         "data": {
          "bar": [
           {
            "error_x": {
             "color": "#2a3f5f"
            },
            "error_y": {
             "color": "#2a3f5f"
            },
            "marker": {
             "line": {
              "color": "#E5ECF6",
              "width": 0.5
             }
            },
            "type": "bar"
           }
          ],
          "barpolar": [
           {
            "marker": {
             "line": {
              "color": "#E5ECF6",
              "width": 0.5
             }
            },
            "type": "barpolar"
           }
          ],
          "carpet": [
           {
            "aaxis": {
             "endlinecolor": "#2a3f5f",
             "gridcolor": "white",
             "linecolor": "white",
             "minorgridcolor": "white",
             "startlinecolor": "#2a3f5f"
            },
            "baxis": {
             "endlinecolor": "#2a3f5f",
             "gridcolor": "white",
             "linecolor": "white",
             "minorgridcolor": "white",
             "startlinecolor": "#2a3f5f"
            },
            "type": "carpet"
           }
          ],
          "choropleth": [
           {
            "colorbar": {
             "outlinewidth": 0,
             "ticks": ""
            },
            "type": "choropleth"
           }
          ],
          "contour": [
           {
            "colorbar": {
             "outlinewidth": 0,
             "ticks": ""
            },
            "colorscale": [
             [
              0,
              "#0d0887"
             ],
             [
              0.1111111111111111,
              "#46039f"
             ],
             [
              0.2222222222222222,
              "#7201a8"
             ],
             [
              0.3333333333333333,
              "#9c179e"
             ],
             [
              0.4444444444444444,
              "#bd3786"
             ],
             [
              0.5555555555555556,
              "#d8576b"
             ],
             [
              0.6666666666666666,
              "#ed7953"
             ],
             [
              0.7777777777777778,
              "#fb9f3a"
             ],
             [
              0.8888888888888888,
              "#fdca26"
             ],
             [
              1,
              "#f0f921"
             ]
            ],
            "type": "contour"
           }
          ],
          "contourcarpet": [
           {
            "colorbar": {
             "outlinewidth": 0,
             "ticks": ""
            },
            "type": "contourcarpet"
           }
          ],
          "heatmap": [
           {
            "colorbar": {
             "outlinewidth": 0,
             "ticks": ""
            },
            "colorscale": [
             [
              0,
              "#0d0887"
             ],
             [
              0.1111111111111111,
              "#46039f"
             ],
             [
              0.2222222222222222,
              "#7201a8"
             ],
             [
              0.3333333333333333,
              "#9c179e"
             ],
             [
              0.4444444444444444,
              "#bd3786"
             ],
             [
              0.5555555555555556,
              "#d8576b"
             ],
             [
              0.6666666666666666,
              "#ed7953"
             ],
             [
              0.7777777777777778,
              "#fb9f3a"
             ],
             [
              0.8888888888888888,
              "#fdca26"
             ],
             [
              1,
              "#f0f921"
             ]
            ],
            "type": "heatmap"
           }
          ],
          "heatmapgl": [
           {
            "colorbar": {
             "outlinewidth": 0,
             "ticks": ""
            },
            "colorscale": [
             [
              0,
              "#0d0887"
             ],
             [
              0.1111111111111111,
              "#46039f"
             ],
             [
              0.2222222222222222,
              "#7201a8"
             ],
             [
              0.3333333333333333,
              "#9c179e"
             ],
             [
              0.4444444444444444,
              "#bd3786"
             ],
             [
              0.5555555555555556,
              "#d8576b"
             ],
             [
              0.6666666666666666,
              "#ed7953"
             ],
             [
              0.7777777777777778,
              "#fb9f3a"
             ],
             [
              0.8888888888888888,
              "#fdca26"
             ],
             [
              1,
              "#f0f921"
             ]
            ],
            "type": "heatmapgl"
           }
          ],
          "histogram": [
           {
            "marker": {
             "colorbar": {
              "outlinewidth": 0,
              "ticks": ""
             }
            },
            "type": "histogram"
           }
          ],
          "histogram2d": [
           {
            "colorbar": {
             "outlinewidth": 0,
             "ticks": ""
            },
            "colorscale": [
             [
              0,
              "#0d0887"
             ],
             [
              0.1111111111111111,
              "#46039f"
             ],
             [
              0.2222222222222222,
              "#7201a8"
             ],
             [
              0.3333333333333333,
              "#9c179e"
             ],
             [
              0.4444444444444444,
              "#bd3786"
             ],
             [
              0.5555555555555556,
              "#d8576b"
             ],
             [
              0.6666666666666666,
              "#ed7953"
             ],
             [
              0.7777777777777778,
              "#fb9f3a"
             ],
             [
              0.8888888888888888,
              "#fdca26"
             ],
             [
              1,
              "#f0f921"
             ]
            ],
            "type": "histogram2d"
           }
          ],
          "histogram2dcontour": [
           {
            "colorbar": {
             "outlinewidth": 0,
             "ticks": ""
            },
            "colorscale": [
             [
              0,
              "#0d0887"
             ],
             [
              0.1111111111111111,
              "#46039f"
             ],
             [
              0.2222222222222222,
              "#7201a8"
             ],
             [
              0.3333333333333333,
              "#9c179e"
             ],
             [
              0.4444444444444444,
              "#bd3786"
             ],
             [
              0.5555555555555556,
              "#d8576b"
             ],
             [
              0.6666666666666666,
              "#ed7953"
             ],
             [
              0.7777777777777778,
              "#fb9f3a"
             ],
             [
              0.8888888888888888,
              "#fdca26"
             ],
             [
              1,
              "#f0f921"
             ]
            ],
            "type": "histogram2dcontour"
           }
          ],
          "mesh3d": [
           {
            "colorbar": {
             "outlinewidth": 0,
             "ticks": ""
            },
            "type": "mesh3d"
           }
          ],
          "parcoords": [
           {
            "line": {
             "colorbar": {
              "outlinewidth": 0,
              "ticks": ""
             }
            },
            "type": "parcoords"
           }
          ],
          "pie": [
           {
            "automargin": true,
            "type": "pie"
           }
          ],
          "scatter": [
           {
            "marker": {
             "colorbar": {
              "outlinewidth": 0,
              "ticks": ""
             }
            },
            "type": "scatter"
           }
          ],
          "scatter3d": [
           {
            "line": {
             "colorbar": {
              "outlinewidth": 0,
              "ticks": ""
             }
            },
            "marker": {
             "colorbar": {
              "outlinewidth": 0,
              "ticks": ""
             }
            },
            "type": "scatter3d"
           }
          ],
          "scattercarpet": [
           {
            "marker": {
             "colorbar": {
              "outlinewidth": 0,
              "ticks": ""
             }
            },
            "type": "scattercarpet"
           }
          ],
          "scattergeo": [
           {
            "marker": {
             "colorbar": {
              "outlinewidth": 0,
              "ticks": ""
             }
            },
            "type": "scattergeo"
           }
          ],
          "scattergl": [
           {
            "marker": {
             "colorbar": {
              "outlinewidth": 0,
              "ticks": ""
             }
            },
            "type": "scattergl"
           }
          ],
          "scattermapbox": [
           {
            "marker": {
             "colorbar": {
              "outlinewidth": 0,
              "ticks": ""
             }
            },
            "type": "scattermapbox"
           }
          ],
          "scatterpolar": [
           {
            "marker": {
             "colorbar": {
              "outlinewidth": 0,
              "ticks": ""
             }
            },
            "type": "scatterpolar"
           }
          ],
          "scatterpolargl": [
           {
            "marker": {
             "colorbar": {
              "outlinewidth": 0,
              "ticks": ""
             }
            },
            "type": "scatterpolargl"
           }
          ],
          "scatterternary": [
           {
            "marker": {
             "colorbar": {
              "outlinewidth": 0,
              "ticks": ""
             }
            },
            "type": "scatterternary"
           }
          ],
          "surface": [
           {
            "colorbar": {
             "outlinewidth": 0,
             "ticks": ""
            },
            "colorscale": [
             [
              0,
              "#0d0887"
             ],
             [
              0.1111111111111111,
              "#46039f"
             ],
             [
              0.2222222222222222,
              "#7201a8"
             ],
             [
              0.3333333333333333,
              "#9c179e"
             ],
             [
              0.4444444444444444,
              "#bd3786"
             ],
             [
              0.5555555555555556,
              "#d8576b"
             ],
             [
              0.6666666666666666,
              "#ed7953"
             ],
             [
              0.7777777777777778,
              "#fb9f3a"
             ],
             [
              0.8888888888888888,
              "#fdca26"
             ],
             [
              1,
              "#f0f921"
             ]
            ],
            "type": "surface"
           }
          ],
          "table": [
           {
            "cells": {
             "fill": {
              "color": "#EBF0F8"
             },
             "line": {
              "color": "white"
             }
            },
            "header": {
             "fill": {
              "color": "#C8D4E3"
             },
             "line": {
              "color": "white"
             }
            },
            "type": "table"
           }
          ]
         },
         "layout": {
          "annotationdefaults": {
           "arrowcolor": "#2a3f5f",
           "arrowhead": 0,
           "arrowwidth": 1
          },
          "coloraxis": {
           "colorbar": {
            "outlinewidth": 0,
            "ticks": ""
           }
          },
          "colorscale": {
           "diverging": [
            [
             0,
             "#8e0152"
            ],
            [
             0.1,
             "#c51b7d"
            ],
            [
             0.2,
             "#de77ae"
            ],
            [
             0.3,
             "#f1b6da"
            ],
            [
             0.4,
             "#fde0ef"
            ],
            [
             0.5,
             "#f7f7f7"
            ],
            [
             0.6,
             "#e6f5d0"
            ],
            [
             0.7,
             "#b8e186"
            ],
            [
             0.8,
             "#7fbc41"
            ],
            [
             0.9,
             "#4d9221"
            ],
            [
             1,
             "#276419"
            ]
           ],
           "sequential": [
            [
             0,
             "#0d0887"
            ],
            [
             0.1111111111111111,
             "#46039f"
            ],
            [
             0.2222222222222222,
             "#7201a8"
            ],
            [
             0.3333333333333333,
             "#9c179e"
            ],
            [
             0.4444444444444444,
             "#bd3786"
            ],
            [
             0.5555555555555556,
             "#d8576b"
            ],
            [
             0.6666666666666666,
             "#ed7953"
            ],
            [
             0.7777777777777778,
             "#fb9f3a"
            ],
            [
             0.8888888888888888,
             "#fdca26"
            ],
            [
             1,
             "#f0f921"
            ]
           ],
           "sequentialminus": [
            [
             0,
             "#0d0887"
            ],
            [
             0.1111111111111111,
             "#46039f"
            ],
            [
             0.2222222222222222,
             "#7201a8"
            ],
            [
             0.3333333333333333,
             "#9c179e"
            ],
            [
             0.4444444444444444,
             "#bd3786"
            ],
            [
             0.5555555555555556,
             "#d8576b"
            ],
            [
             0.6666666666666666,
             "#ed7953"
            ],
            [
             0.7777777777777778,
             "#fb9f3a"
            ],
            [
             0.8888888888888888,
             "#fdca26"
            ],
            [
             1,
             "#f0f921"
            ]
           ]
          },
          "colorway": [
           "#636efa",
           "#EF553B",
           "#00cc96",
           "#ab63fa",
           "#FFA15A",
           "#19d3f3",
           "#FF6692",
           "#B6E880",
           "#FF97FF",
           "#FECB52"
          ],
          "font": {
           "color": "#2a3f5f"
          },
          "geo": {
           "bgcolor": "white",
           "lakecolor": "white",
           "landcolor": "#E5ECF6",
           "showlakes": true,
           "showland": true,
           "subunitcolor": "white"
          },
          "hoverlabel": {
           "align": "left"
          },
          "hovermode": "closest",
          "mapbox": {
           "style": "light"
          },
          "paper_bgcolor": "white",
          "plot_bgcolor": "#E5ECF6",
          "polar": {
           "angularaxis": {
            "gridcolor": "white",
            "linecolor": "white",
            "ticks": ""
           },
           "bgcolor": "#E5ECF6",
           "radialaxis": {
            "gridcolor": "white",
            "linecolor": "white",
            "ticks": ""
           }
          },
          "scene": {
           "xaxis": {
            "backgroundcolor": "#E5ECF6",
            "gridcolor": "white",
            "gridwidth": 2,
            "linecolor": "white",
            "showbackground": true,
            "ticks": "",
            "zerolinecolor": "white"
           },
           "yaxis": {
            "backgroundcolor": "#E5ECF6",
            "gridcolor": "white",
            "gridwidth": 2,
            "linecolor": "white",
            "showbackground": true,
            "ticks": "",
            "zerolinecolor": "white"
           },
           "zaxis": {
            "backgroundcolor": "#E5ECF6",
            "gridcolor": "white",
            "gridwidth": 2,
            "linecolor": "white",
            "showbackground": true,
            "ticks": "",
            "zerolinecolor": "white"
           }
          },
          "shapedefaults": {
           "line": {
            "color": "#2a3f5f"
           }
          },
          "ternary": {
           "aaxis": {
            "gridcolor": "white",
            "linecolor": "white",
            "ticks": ""
           },
           "baxis": {
            "gridcolor": "white",
            "linecolor": "white",
            "ticks": ""
           },
           "bgcolor": "#E5ECF6",
           "caxis": {
            "gridcolor": "white",
            "linecolor": "white",
            "ticks": ""
           }
          },
          "title": {
           "x": 0.05
          },
          "xaxis": {
           "automargin": true,
           "gridcolor": "white",
           "linecolor": "white",
           "ticks": "",
           "title": {
            "standoff": 15
           },
           "zerolinecolor": "white",
           "zerolinewidth": 2
          },
          "yaxis": {
           "automargin": true,
           "gridcolor": "white",
           "linecolor": "white",
           "ticks": "",
           "title": {
            "standoff": 15
           },
           "zerolinecolor": "white",
           "zerolinewidth": 2
          }
         }
        }
       }
      },
      "text/html": [
       "<div>                            <div id=\"4c71e367-087b-4c36-ae46-28342eb80df5\" class=\"plotly-graph-div\" style=\"height:525px; width:100%;\"></div>            <script type=\"text/javascript\">                require([\"plotly\"], function(Plotly) {                    window.PLOTLYENV=window.PLOTLYENV || {};                                    if (document.getElementById(\"4c71e367-087b-4c36-ae46-28342eb80df5\")) {                    Plotly.newPlot(                        \"4c71e367-087b-4c36-ae46-28342eb80df5\",                        [{\"coloraxis\": \"coloraxis\", \"geo\": \"geo\", \"hovertemplate\": \"<b>%{hovertext}</b><br><br>CountryCode=%{location}<br>totalco2=%{z}<extra></extra>\", \"hovertext\": [\"AR\", \"AU\", \"AL\", \"IS\", \"NZ\", \"US\", \"UY\", \"LU\", \"BR\", \"KZ\", \"SE\", \"BM\", \"DK\", \"FI\", \"IE\", \"GR\", \"FR\", \"CA\", \"NO\", \"Unknown\", \"PF\", \"IL\", \"CH\", \"NL\", \"KW\", \"GB\", \"AT\", \"OM\", \"IT\", \"BS\", \"PT\", \"MT\", \"AM\", \"SI\", \"CL\", \"VE\", \"BE\", \"DE\", \"RU\", \"HR\", \"BY\", \"ES\", \"PY\", \"NC\", \"ZA\", \"BB\", \"LT\", \"TR\", \"EE\", \"MX\", \"CR\", \"BO\", \"EC\", \"PA\", \"CZ\", \"RO\", \"CO\", \"MV\", \"CY\", \"RS\", \"AE\", \"DZ\", \"UA\", \"PK\", \"SZ\", \"LV\", \"BA\", \"FJ\", \"KR\", \"PL\", \"SA\", \"BW\", \"MK\", \"HU\", \"TT\", \"TN\", \"EG\", \"MU\", \"BG\", \"MA\", \"SK\", \"NE\", \"KE\", \"JO\", \"JP\", \"GE\", \"GD\", \"SV\", \"CU\", \"CN\", \"HN\", \"Unknown\", \"AO\", \"JM\", \"NA\", \"BZ\", \"MY\", \"ZW\", \"GT\", \"UG\", \"NP\", \"IR\", \"TZ\", \"SN\", \"PE\", \"NI\", \"VN\", \"ET\", \"MM\", \"CG\", \"ZM\", \"CM\", \"MG\", \"MW\", \"GN\", \"NG\", \"RW\", \"PH\", \"GH\", \"TG\", \"GM\", \"IN\", \"TH\", \"MZ\", \"KH\", \"SL\", \"LK\", \"ID\", \"LR\", \"BD\"], \"locations\": [\"ARG\", \"AUS\", \"ALB\", \"ISL\", \"NZL\", \"USA\", \"URY\", \"LUX\", \"BRA\", \"KAZ\", \"SWE\", \"BMU\", \"DNK\", \"FIN\", \"IRL\", \"GRC\", \"FRA\", \"CAN\", \"NOR\", \"not found\", \"PYF\", \"ISR\", \"CHE\", \"NLD\", \"KWT\", \"GBR\", \"AUT\", \"OMN\", \"ITA\", \"BHS\", \"PRT\", \"MLT\", \"ARM\", \"SVN\", \"CHL\", \"VEN\", \"BEL\", \"DEU\", \"RUS\", \"HRV\", \"BLR\", \"ESP\", \"PRY\", \"NCL\", \"ZAF\", \"BRB\", \"LTU\", \"TUR\", \"EST\", \"MEX\", \"CRI\", \"BOL\", \"ECU\", \"PAN\", \"CZE\", \"ROU\", \"COL\", \"MDV\", \"CYP\", \"SRB\", \"ARE\", \"DZA\", \"UKR\", \"PAK\", \"SWZ\", \"LVA\", \"BIH\", \"FJI\", \"KOR\", \"POL\", \"SAU\", \"BWA\", \"MKD\", \"HUN\", \"TTO\", \"TUN\", \"EGY\", \"MUS\", \"BGR\", \"MAR\", \"SVK\", \"NER\", \"KEN\", \"JOR\", \"JPN\", \"GEO\", \"GRD\", \"SLV\", \"CUB\", \"CHN\", \"HND\", \"not found\", \"AGO\", \"JAM\", \"NAM\", \"BLZ\", \"MYS\", \"ZWE\", \"GTM\", \"UGA\", \"NPL\", \"IRN\", \"TZA\", \"SEN\", \"PER\", \"NIC\", \"VNM\", \"ETH\", \"MMR\", \"COG\", \"ZMB\", \"CMR\", \"MDG\", \"MWI\", \"GIN\", \"NGA\", \"RWA\", \"PHL\", \"GHA\", \"TGO\", \"GMB\", \"IND\", \"THA\", \"MOZ\", \"KHM\", \"SLE\", \"LKA\", \"IDN\", \"LBR\", \"BGD\"], \"name\": \"\", \"type\": \"choropleth\", \"z\": [2172.4, 1938.6399999999999, 1777.84, 1731.35, 1750.94, 1718.86, 1634.91, 1598.41, 1616.73, 1575.07, 1527.0200000000002, 1483.27, 1498.1699999999998, 1464.63, 1459.6699999999998, 1497.29, 1420.06, 1437.15, 1381.9, 1494.29, 1424.67, 1405.6999999999998, 1356.75, 1292.83, 1345.4499999999998, 1241.63, 1211.1599999999999, 1296.7, 1206.33, 1192.91, 1174.28, 1147.91, 1109.93, 1111.55, 1099.57, 1104.1000000000001, 1102.08, 1066.29, 1007.66, 996.1400000000001, 960.1999999999999, 988.49, 876.67, 918.5999999999999, 892.41, 889.11, 868.91, 897.01, 830.7099999999999, 797.13, 891.27, 873.03, 883.88, 928.46, 760.0899999999999, 766.3000000000001, 781.53, 903.46, 741.36, 723.32, 897.3100000000001, 707.89, 665.73, 669.05, 678.9399999999999, 633.5699999999999, 628.1800000000001, 716.08, 822.0500000000001, 607.3900000000001, 692.88, 576.86, 600.7399999999999, 576.8100000000001, 610.41, 618.89, 673.93, 672.0699999999999, 560.16, 576.39, 560.34, 542.8900000000001, 530.84, 587.96, 644.06, 527.03, 439.85, 434.03000000000003, 591.69, 640.2, 434.08000000000004, 559.55, 412.99, 450.81, 362.12, 433.07, 554.64, 350.34, 314.99, 304.73, 526.24, 445.27, 343.02, 469.42, 402.84000000000003, 377.7, 641.52, 241.92000000000002, 563.8, 262.55, 225.31, 283.61, 440.76, 207.95, 432.70000000000005, 267.78, 181.62, 455.28, 217.88, 188.10000000000002, 293.65, 282.62, 377.98, 141.41, 452.40999999999997, 300.40999999999997, 294.45000000000005, 367.52, 203.39, 374.19]}],                        {\"coloraxis\": {\"colorbar\": {\"title\": {\"text\": \"totalco2\"}}, \"colorscale\": [[0.0, \"#0d0887\"], [0.1111111111111111, \"#46039f\"], [0.2222222222222222, \"#7201a8\"], [0.3333333333333333, \"#9c179e\"], [0.4444444444444444, \"#bd3786\"], [0.5555555555555556, \"#d8576b\"], [0.6666666666666666, \"#ed7953\"], [0.7777777777777778, \"#fb9f3a\"], [0.8888888888888888, \"#fdca26\"], [1.0, \"#f0f921\"]]}, \"geo\": {\"center\": {}, \"domain\": {\"x\": [0.0, 1.0], \"y\": [0.0, 1.0]}}, \"legend\": {\"tracegroupgap\": 0}, \"margin\": {\"t\": 60}, \"template\": {\"data\": {\"bar\": [{\"error_x\": {\"color\": \"#2a3f5f\"}, \"error_y\": {\"color\": \"#2a3f5f\"}, \"marker\": {\"line\": {\"color\": \"#E5ECF6\", \"width\": 0.5}}, \"type\": \"bar\"}], \"barpolar\": [{\"marker\": {\"line\": {\"color\": \"#E5ECF6\", \"width\": 0.5}}, \"type\": \"barpolar\"}], \"carpet\": [{\"aaxis\": {\"endlinecolor\": \"#2a3f5f\", \"gridcolor\": \"white\", \"linecolor\": \"white\", \"minorgridcolor\": \"white\", \"startlinecolor\": \"#2a3f5f\"}, \"baxis\": {\"endlinecolor\": \"#2a3f5f\", \"gridcolor\": \"white\", \"linecolor\": \"white\", \"minorgridcolor\": \"white\", \"startlinecolor\": \"#2a3f5f\"}, \"type\": \"carpet\"}], \"choropleth\": [{\"colorbar\": {\"outlinewidth\": 0, \"ticks\": \"\"}, \"type\": \"choropleth\"}], \"contour\": [{\"colorbar\": {\"outlinewidth\": 0, \"ticks\": \"\"}, \"colorscale\": [[0.0, \"#0d0887\"], [0.1111111111111111, \"#46039f\"], [0.2222222222222222, \"#7201a8\"], [0.3333333333333333, \"#9c179e\"], [0.4444444444444444, \"#bd3786\"], [0.5555555555555556, \"#d8576b\"], [0.6666666666666666, \"#ed7953\"], [0.7777777777777778, \"#fb9f3a\"], [0.8888888888888888, \"#fdca26\"], [1.0, \"#f0f921\"]], \"type\": \"contour\"}], \"contourcarpet\": [{\"colorbar\": {\"outlinewidth\": 0, \"ticks\": \"\"}, \"type\": \"contourcarpet\"}], \"heatmap\": [{\"colorbar\": {\"outlinewidth\": 0, \"ticks\": \"\"}, \"colorscale\": [[0.0, \"#0d0887\"], [0.1111111111111111, \"#46039f\"], [0.2222222222222222, \"#7201a8\"], [0.3333333333333333, \"#9c179e\"], [0.4444444444444444, \"#bd3786\"], [0.5555555555555556, \"#d8576b\"], [0.6666666666666666, \"#ed7953\"], [0.7777777777777778, \"#fb9f3a\"], [0.8888888888888888, \"#fdca26\"], [1.0, \"#f0f921\"]], \"type\": \"heatmap\"}], \"heatmapgl\": [{\"colorbar\": {\"outlinewidth\": 0, \"ticks\": \"\"}, \"colorscale\": [[0.0, \"#0d0887\"], [0.1111111111111111, \"#46039f\"], [0.2222222222222222, \"#7201a8\"], [0.3333333333333333, \"#9c179e\"], [0.4444444444444444, \"#bd3786\"], [0.5555555555555556, \"#d8576b\"], [0.6666666666666666, \"#ed7953\"], [0.7777777777777778, \"#fb9f3a\"], [0.8888888888888888, \"#fdca26\"], [1.0, \"#f0f921\"]], \"type\": \"heatmapgl\"}], \"histogram\": [{\"marker\": {\"colorbar\": {\"outlinewidth\": 0, \"ticks\": \"\"}}, \"type\": \"histogram\"}], \"histogram2d\": [{\"colorbar\": {\"outlinewidth\": 0, \"ticks\": \"\"}, \"colorscale\": [[0.0, \"#0d0887\"], [0.1111111111111111, \"#46039f\"], [0.2222222222222222, \"#7201a8\"], [0.3333333333333333, \"#9c179e\"], [0.4444444444444444, \"#bd3786\"], [0.5555555555555556, \"#d8576b\"], [0.6666666666666666, \"#ed7953\"], [0.7777777777777778, \"#fb9f3a\"], [0.8888888888888888, \"#fdca26\"], [1.0, \"#f0f921\"]], \"type\": \"histogram2d\"}], \"histogram2dcontour\": [{\"colorbar\": {\"outlinewidth\": 0, \"ticks\": \"\"}, \"colorscale\": [[0.0, \"#0d0887\"], [0.1111111111111111, \"#46039f\"], [0.2222222222222222, \"#7201a8\"], [0.3333333333333333, \"#9c179e\"], [0.4444444444444444, \"#bd3786\"], [0.5555555555555556, \"#d8576b\"], [0.6666666666666666, \"#ed7953\"], [0.7777777777777778, \"#fb9f3a\"], [0.8888888888888888, \"#fdca26\"], [1.0, \"#f0f921\"]], \"type\": \"histogram2dcontour\"}], \"mesh3d\": [{\"colorbar\": {\"outlinewidth\": 0, \"ticks\": \"\"}, \"type\": \"mesh3d\"}], \"parcoords\": [{\"line\": {\"colorbar\": {\"outlinewidth\": 0, \"ticks\": \"\"}}, \"type\": \"parcoords\"}], \"pie\": [{\"automargin\": true, \"type\": \"pie\"}], \"scatter\": [{\"marker\": {\"colorbar\": {\"outlinewidth\": 0, \"ticks\": \"\"}}, \"type\": \"scatter\"}], \"scatter3d\": [{\"line\": {\"colorbar\": {\"outlinewidth\": 0, \"ticks\": \"\"}}, \"marker\": {\"colorbar\": {\"outlinewidth\": 0, \"ticks\": \"\"}}, \"type\": \"scatter3d\"}], \"scattercarpet\": [{\"marker\": {\"colorbar\": {\"outlinewidth\": 0, \"ticks\": \"\"}}, \"type\": \"scattercarpet\"}], \"scattergeo\": [{\"marker\": {\"colorbar\": {\"outlinewidth\": 0, \"ticks\": \"\"}}, \"type\": \"scattergeo\"}], \"scattergl\": [{\"marker\": {\"colorbar\": {\"outlinewidth\": 0, \"ticks\": \"\"}}, \"type\": \"scattergl\"}], \"scattermapbox\": [{\"marker\": {\"colorbar\": {\"outlinewidth\": 0, \"ticks\": \"\"}}, \"type\": \"scattermapbox\"}], \"scatterpolar\": [{\"marker\": {\"colorbar\": {\"outlinewidth\": 0, \"ticks\": \"\"}}, \"type\": \"scatterpolar\"}], \"scatterpolargl\": [{\"marker\": {\"colorbar\": {\"outlinewidth\": 0, \"ticks\": \"\"}}, \"type\": \"scatterpolargl\"}], \"scatterternary\": [{\"marker\": {\"colorbar\": {\"outlinewidth\": 0, \"ticks\": \"\"}}, \"type\": \"scatterternary\"}], \"surface\": [{\"colorbar\": {\"outlinewidth\": 0, \"ticks\": \"\"}, \"colorscale\": [[0.0, \"#0d0887\"], [0.1111111111111111, \"#46039f\"], [0.2222222222222222, \"#7201a8\"], [0.3333333333333333, \"#9c179e\"], [0.4444444444444444, \"#bd3786\"], [0.5555555555555556, \"#d8576b\"], [0.6666666666666666, \"#ed7953\"], [0.7777777777777778, \"#fb9f3a\"], [0.8888888888888888, \"#fdca26\"], [1.0, \"#f0f921\"]], \"type\": \"surface\"}], \"table\": [{\"cells\": {\"fill\": {\"color\": \"#EBF0F8\"}, \"line\": {\"color\": \"white\"}}, \"header\": {\"fill\": {\"color\": \"#C8D4E3\"}, \"line\": {\"color\": \"white\"}}, \"type\": \"table\"}]}, \"layout\": {\"annotationdefaults\": {\"arrowcolor\": \"#2a3f5f\", \"arrowhead\": 0, \"arrowwidth\": 1}, \"coloraxis\": {\"colorbar\": {\"outlinewidth\": 0, \"ticks\": \"\"}}, \"colorscale\": {\"diverging\": [[0, \"#8e0152\"], [0.1, \"#c51b7d\"], [0.2, \"#de77ae\"], [0.3, \"#f1b6da\"], [0.4, \"#fde0ef\"], [0.5, \"#f7f7f7\"], [0.6, \"#e6f5d0\"], [0.7, \"#b8e186\"], [0.8, \"#7fbc41\"], [0.9, \"#4d9221\"], [1, \"#276419\"]], \"sequential\": [[0.0, \"#0d0887\"], [0.1111111111111111, \"#46039f\"], [0.2222222222222222, \"#7201a8\"], [0.3333333333333333, \"#9c179e\"], [0.4444444444444444, \"#bd3786\"], [0.5555555555555556, \"#d8576b\"], [0.6666666666666666, \"#ed7953\"], [0.7777777777777778, \"#fb9f3a\"], [0.8888888888888888, \"#fdca26\"], [1.0, \"#f0f921\"]], \"sequentialminus\": [[0.0, \"#0d0887\"], [0.1111111111111111, \"#46039f\"], [0.2222222222222222, \"#7201a8\"], [0.3333333333333333, \"#9c179e\"], [0.4444444444444444, \"#bd3786\"], [0.5555555555555556, \"#d8576b\"], [0.6666666666666666, \"#ed7953\"], [0.7777777777777778, \"#fb9f3a\"], [0.8888888888888888, \"#fdca26\"], [1.0, \"#f0f921\"]]}, \"colorway\": [\"#636efa\", \"#EF553B\", \"#00cc96\", \"#ab63fa\", \"#FFA15A\", \"#19d3f3\", \"#FF6692\", \"#B6E880\", \"#FF97FF\", \"#FECB52\"], \"font\": {\"color\": \"#2a3f5f\"}, \"geo\": {\"bgcolor\": \"white\", \"lakecolor\": \"white\", \"landcolor\": \"#E5ECF6\", \"showlakes\": true, \"showland\": true, \"subunitcolor\": \"white\"}, \"hoverlabel\": {\"align\": \"left\"}, \"hovermode\": \"closest\", \"mapbox\": {\"style\": \"light\"}, \"paper_bgcolor\": \"white\", \"plot_bgcolor\": \"#E5ECF6\", \"polar\": {\"angularaxis\": {\"gridcolor\": \"white\", \"linecolor\": \"white\", \"ticks\": \"\"}, \"bgcolor\": \"#E5ECF6\", \"radialaxis\": {\"gridcolor\": \"white\", \"linecolor\": \"white\", \"ticks\": \"\"}}, \"scene\": {\"xaxis\": {\"backgroundcolor\": \"#E5ECF6\", \"gridcolor\": \"white\", \"gridwidth\": 2, \"linecolor\": \"white\", \"showbackground\": true, \"ticks\": \"\", \"zerolinecolor\": \"white\"}, \"yaxis\": {\"backgroundcolor\": \"#E5ECF6\", \"gridcolor\": \"white\", \"gridwidth\": 2, \"linecolor\": \"white\", \"showbackground\": true, \"ticks\": \"\", \"zerolinecolor\": \"white\"}, \"zaxis\": {\"backgroundcolor\": \"#E5ECF6\", \"gridcolor\": \"white\", \"gridwidth\": 2, \"linecolor\": \"white\", \"showbackground\": true, \"ticks\": \"\", \"zerolinecolor\": \"white\"}}, \"shapedefaults\": {\"line\": {\"color\": \"#2a3f5f\"}}, \"ternary\": {\"aaxis\": {\"gridcolor\": \"white\", \"linecolor\": \"white\", \"ticks\": \"\"}, \"baxis\": {\"gridcolor\": \"white\", \"linecolor\": \"white\", \"ticks\": \"\"}, \"bgcolor\": \"#E5ECF6\", \"caxis\": {\"gridcolor\": \"white\", \"linecolor\": \"white\", \"ticks\": \"\"}}, \"title\": {\"x\": 0.05}, \"xaxis\": {\"automargin\": true, \"gridcolor\": \"white\", \"linecolor\": \"white\", \"ticks\": \"\", \"title\": {\"standoff\": 15}, \"zerolinecolor\": \"white\", \"zerolinewidth\": 2}, \"yaxis\": {\"automargin\": true, \"gridcolor\": \"white\", \"linecolor\": \"white\", \"ticks\": \"\", \"title\": {\"standoff\": 15}, \"zerolinecolor\": \"white\", \"zerolinewidth\": 2}}}},                        {\"responsive\": true}                    ).then(function(){\n",
       "                            \n",
       "var gd = document.getElementById('4c71e367-087b-4c36-ae46-28342eb80df5');\n",
       "var x = new MutationObserver(function (mutations, observer) {{\n",
       "        var display = window.getComputedStyle(gd).display;\n",
       "        if (!display || display === 'none') {{\n",
       "            console.log([gd, 'removed!']);\n",
       "            Plotly.purge(gd);\n",
       "            observer.disconnect();\n",
       "        }}\n",
       "}});\n",
       "\n",
       "// Listen for the removal of the full notebook cells\n",
       "var notebookContainer = gd.closest('#notebook-container');\n",
       "if (notebookContainer) {{\n",
       "    x.observe(notebookContainer, {childList: true});\n",
       "}}\n",
       "\n",
       "// Listen for the clearing of the current output cell\n",
       "var outputEl = gd.closest('.output');\n",
       "if (outputEl) {{\n",
       "    x.observe(outputEl, {childList: true});\n",
       "}}\n",
       "\n",
       "                        })                };                });            </script>        </div>"
      ]
     },
     "metadata": {},
     "output_type": "display_data"
    }
   ],
   "source": [
    "import plotly.express as px\n",
    "\n",
    "fig = px.choropleth(country_co2, locations=\"CountryCode\",\n",
    "                    color=\"totalco2\", \n",
    "                    hover_name=\"Country\", # column to add to hover information\n",
    "                    color_continuous_scale=px.colors.sequential.Plasma)\n",
    "fig.show()"
   ]
  },
  {
   "cell_type": "code",
   "execution_count": null,
   "metadata": {},
   "outputs": [],
   "source": []
  }
 ],
 "metadata": {
  "kernelspec": {
   "display_name": "Python 3",
   "language": "python",
   "name": "python3"
  },
  "language_info": {
   "codemirror_mode": {
    "name": "ipython",
    "version": 3
   },
   "file_extension": ".py",
   "mimetype": "text/x-python",
   "name": "python",
   "nbconvert_exporter": "python",
   "pygments_lexer": "ipython3",
   "version": "3.8.3"
  }
 },
 "nbformat": 4,
 "nbformat_minor": 4
}
