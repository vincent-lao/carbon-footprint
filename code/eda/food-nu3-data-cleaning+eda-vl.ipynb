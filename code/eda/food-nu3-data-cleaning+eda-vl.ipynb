{
 "cells": [
  {
   "cell_type": "code",
   "execution_count": 311,
   "metadata": {},
   "outputs": [],
   "source": [
    "import numpy as np\n",
    "import pandas as pd\n",
    "import matplotlib.pyplot as plt\n",
    "import seaborn as sns\n",
    "import re"
   ]
  },
  {
   "cell_type": "markdown",
   "metadata": {},
   "source": [
    "## Input Data Description\n",
    "1. The origins of your data. Where did you get the data? How were the data collected from the original sources?  \n",
    "2. The structure, granularity, scope, temporality and faithfulness (SGSTF) of your data. To discuss these attributes you should load the data into one or more data frames (so you'll start building code cells for the first time). At a minimum, use some basic methods (.head, .loc, and so on) to provide support for the descriptions you provide for SGSTF."
   ]
  },
  {
   "cell_type": "markdown",
   "metadata": {},
   "source": [
    "This dataset is from [nu3](https://www.nu3.de/blogs/nutrition/food-carbon-footprint-index-2018), a German online personal wellness and grocery store that performed some research to look at the CO2 emissions per person for 130 nations worldwide. Their study utilized 2018 data from the Food and Agriculture Organization of the United Nations (FAO) that described the amount of food supply for consumption by food item and nation. They also used the following assumptions as the estimated CO2 emissions per kilogram for each food type in 2018:\n",
    "\n",
    "- Pork = 3.54 kg\n",
    "- Poultry= 1.07 kg\n",
    "- Beef = 30.86 kg\n",
    "- Lamb & Goat = 35.02 kg\n",
    "- Fish = 1.60 kg\n",
    "- Eggs = 0.92 kg\n",
    "- Milk – including cheese = 1.42 kg\n",
    "- Wheat & Wheat Products = 0.19 kg\n",
    "- Rice = 1.28 kg\n",
    "- Soybeans = 0.45 kg\n",
    "- Nuts – including Peanut Butter = 1.77 kg"
   ]
  },
  {
   "cell_type": "markdown",
   "metadata": {},
   "source": [
    "### Data Acquisition and SGSTF\n",
    "\n",
    "First, we grab the raw html from the website, and clean up the data to put it in a readable format."
   ]
  },
  {
   "cell_type": "code",
   "execution_count": 312,
   "metadata": {
    "scrolled": true
   },
   "outputs": [
    {
     "data": {
      "text/html": [
       "<div>\n",
       "<style scoped>\n",
       "    .dataframe tbody tr th:only-of-type {\n",
       "        vertical-align: middle;\n",
       "    }\n",
       "\n",
       "    .dataframe tbody tr th {\n",
       "        vertical-align: top;\n",
       "    }\n",
       "\n",
       "    .dataframe thead th {\n",
       "        text-align: right;\n",
       "    }\n",
       "</style>\n",
       "<table border=\"1\" class=\"dataframe\">\n",
       "  <thead>\n",
       "    <tr style=\"text-align: right;\">\n",
       "      <th></th>\n",
       "      <th>#</th>\n",
       "      <th>Country</th>\n",
       "      <th>porksupply</th>\n",
       "      <th>porkco2</th>\n",
       "      <th>chickensupply</th>\n",
       "      <th>chickenco2</th>\n",
       "      <th>beefsupply</th>\n",
       "      <th>beefco2</th>\n",
       "      <th>lambsupply</th>\n",
       "      <th>lambco2</th>\n",
       "      <th>...</th>\n",
       "      <th>wheatprodsupply</th>\n",
       "      <th>wheatprodco2</th>\n",
       "      <th>ricesupply</th>\n",
       "      <th>riceco2</th>\n",
       "      <th>soybeansupply</th>\n",
       "      <th>soybeanco2</th>\n",
       "      <th>nutssupply</th>\n",
       "      <th>nutsco2</th>\n",
       "      <th>totalnonanimalco2</th>\n",
       "      <th>difftotalco2</th>\n",
       "    </tr>\n",
       "  </thead>\n",
       "  <tbody>\n",
       "    <tr>\n",
       "      <th>0</th>\n",
       "      <td>1</td>\n",
       "      <td>Argentina</td>\n",
       "      <td>10.51</td>\n",
       "      <td>37.20</td>\n",
       "      <td>38.66</td>\n",
       "      <td>41.53</td>\n",
       "      <td>55.48</td>\n",
       "      <td>1712.00</td>\n",
       "      <td>1.56</td>\n",
       "      <td>54.63</td>\n",
       "      <td>...</td>\n",
       "      <td>103.11</td>\n",
       "      <td>19.66</td>\n",
       "      <td>8.77</td>\n",
       "      <td>11.22</td>\n",
       "      <td>0.00</td>\n",
       "      <td>0.00</td>\n",
       "      <td>0.49</td>\n",
       "      <td>0.87</td>\n",
       "      <td>31.75</td>\n",
       "      <td>2108.90</td>\n",
       "    </tr>\n",
       "    <tr>\n",
       "      <th>1</th>\n",
       "      <td>2</td>\n",
       "      <td>Australia</td>\n",
       "      <td>24.14</td>\n",
       "      <td>85.44</td>\n",
       "      <td>46.12</td>\n",
       "      <td>49.54</td>\n",
       "      <td>33.86</td>\n",
       "      <td>1044.85</td>\n",
       "      <td>9.87</td>\n",
       "      <td>345.65</td>\n",
       "      <td>...</td>\n",
       "      <td>70.46</td>\n",
       "      <td>13.44</td>\n",
       "      <td>11.03</td>\n",
       "      <td>14.12</td>\n",
       "      <td>0.19</td>\n",
       "      <td>0.09</td>\n",
       "      <td>8.73</td>\n",
       "      <td>15.45</td>\n",
       "      <td>43.09</td>\n",
       "      <td>1852.46</td>\n",
       "    </tr>\n",
       "    <tr>\n",
       "      <th>2</th>\n",
       "      <td>3</td>\n",
       "      <td>Albania</td>\n",
       "      <td>10.88</td>\n",
       "      <td>38.51</td>\n",
       "      <td>13.23</td>\n",
       "      <td>14.21</td>\n",
       "      <td>22.50</td>\n",
       "      <td>694.30</td>\n",
       "      <td>15.32</td>\n",
       "      <td>536.50</td>\n",
       "      <td>...</td>\n",
       "      <td>138.64</td>\n",
       "      <td>26.44</td>\n",
       "      <td>7.78</td>\n",
       "      <td>9.96</td>\n",
       "      <td>0.00</td>\n",
       "      <td>0.00</td>\n",
       "      <td>4.36</td>\n",
       "      <td>7.72</td>\n",
       "      <td>44.11</td>\n",
       "      <td>1689.62</td>\n",
       "    </tr>\n",
       "    <tr>\n",
       "      <th>3</th>\n",
       "      <td>4</td>\n",
       "      <td>Iceland</td>\n",
       "      <td>21.69</td>\n",
       "      <td>76.77</td>\n",
       "      <td>26.87</td>\n",
       "      <td>28.86</td>\n",
       "      <td>13.36</td>\n",
       "      <td>412.26</td>\n",
       "      <td>21.12</td>\n",
       "      <td>739.62</td>\n",
       "      <td>...</td>\n",
       "      <td>72.92</td>\n",
       "      <td>13.91</td>\n",
       "      <td>3.89</td>\n",
       "      <td>4.98</td>\n",
       "      <td>0.11</td>\n",
       "      <td>0.05</td>\n",
       "      <td>3.88</td>\n",
       "      <td>6.87</td>\n",
       "      <td>25.80</td>\n",
       "      <td>1679.75</td>\n",
       "    </tr>\n",
       "    <tr>\n",
       "      <th>4</th>\n",
       "      <td>5</td>\n",
       "      <td>New Zealand</td>\n",
       "      <td>22.29</td>\n",
       "      <td>78.90</td>\n",
       "      <td>34.98</td>\n",
       "      <td>37.58</td>\n",
       "      <td>22.49</td>\n",
       "      <td>693.99</td>\n",
       "      <td>18.91</td>\n",
       "      <td>662.23</td>\n",
       "      <td>...</td>\n",
       "      <td>76.91</td>\n",
       "      <td>14.67</td>\n",
       "      <td>9.16</td>\n",
       "      <td>11.72</td>\n",
       "      <td>0.44</td>\n",
       "      <td>0.20</td>\n",
       "      <td>8.22</td>\n",
       "      <td>14.55</td>\n",
       "      <td>41.14</td>\n",
       "      <td>1668.67</td>\n",
       "    </tr>\n",
       "  </tbody>\n",
       "</table>\n",
       "<p>5 rows × 27 columns</p>\n",
       "</div>"
      ],
      "text/plain": [
       "   #      Country  porksupply  porkco2  chickensupply  chickenco2  beefsupply  \\\n",
       "0  1    Argentina       10.51    37.20          38.66       41.53       55.48   \n",
       "1  2    Australia       24.14    85.44          46.12       49.54       33.86   \n",
       "2  3      Albania       10.88    38.51          13.23       14.21       22.50   \n",
       "3  4      Iceland       21.69    76.77          26.87       28.86       13.36   \n",
       "4  5  New Zealand       22.29    78.90          34.98       37.58       22.49   \n",
       "\n",
       "   beefco2  lambsupply  lambco2  ...  wheatprodsupply  wheatprodco2  \\\n",
       "0  1712.00        1.56    54.63  ...           103.11         19.66   \n",
       "1  1044.85        9.87   345.65  ...            70.46         13.44   \n",
       "2   694.30       15.32   536.50  ...           138.64         26.44   \n",
       "3   412.26       21.12   739.62  ...            72.92         13.91   \n",
       "4   693.99       18.91   662.23  ...            76.91         14.67   \n",
       "\n",
       "   ricesupply  riceco2  soybeansupply  soybeanco2  nutssupply  nutsco2  \\\n",
       "0        8.77    11.22           0.00        0.00        0.49     0.87   \n",
       "1       11.03    14.12           0.19        0.09        8.73    15.45   \n",
       "2        7.78     9.96           0.00        0.00        4.36     7.72   \n",
       "3        3.89     4.98           0.11        0.05        3.88     6.87   \n",
       "4        9.16    11.72           0.44        0.20        8.22    14.55   \n",
       "\n",
       "   totalnonanimalco2  difftotalco2  \n",
       "0              31.75       2108.90  \n",
       "1              43.09       1852.46  \n",
       "2              44.11       1689.62  \n",
       "3              25.80       1679.75  \n",
       "4              41.14       1668.67  \n",
       "\n",
       "[5 rows x 27 columns]"
      ]
     },
     "execution_count": 312,
     "metadata": {},
     "output_type": "execute_result"
    }
   ],
   "source": [
    "# https://www.nu3.de/blogs/nutrition/food-carbon-footprint-index-2018\n",
    "food = pd.read_html(\"https://www.nu3.de/blogs/nutrition/food-carbon-footprint-index-2018\")[0]\n",
    "food = food.droplevel([0,1], axis=1)\n",
    "columns = ['#', 'Country', 'porksupply', 'porkco2', 'chickensupply', 'chickenco2', 'beefsupply', 'beefco2', 'lambsupply', 'lambco2', \n",
    "           'fishsupply', 'fishco2', 'eggsupply', 'eggco2', 'milkcheesesupply', 'milkcheeseco2', 'totalanimalco2', \n",
    "           'wheatprodsupply', 'wheatprodco2', 'ricesupply', 'riceco2', 'soybeansupply', 'soybeanco2', \n",
    "           'nutssupply', 'nutsco2', 'totalnonanimalco2', 'difftotalco2']\n",
    "\n",
    "food.rename(columns=dict(zip(food.columns, columns)), inplace=True)\n",
    "food.head()"
   ]
  },
  {
   "cell_type": "markdown",
   "metadata": {},
   "source": [
    "`Structure:` \n",
    "`Granularity:` \n",
    "`Scope:` \n",
    "`Temporality:` \n",
    "`Faithfulness:` "
   ]
  },
  {
   "cell_type": "code",
   "execution_count": 313,
   "metadata": {},
   "outputs": [
    {
     "data": {
      "text/plain": [
       "(130, 27)"
      ]
     },
     "execution_count": 313,
     "metadata": {},
     "output_type": "execute_result"
    }
   ],
   "source": [
    "# 130 different countries\n",
    "food.shape"
   ]
  },
  {
   "cell_type": "markdown",
   "metadata": {},
   "source": [
    "---\n",
    "\n",
    "## Data Cleaning\n",
    "\n",
    "First, I constructed the Y variable, Total Kilograms CO2 Emissions / person / year, as it wasn't present in the original dataset, but we had the individual totals of animal products and non-animal products. Then, we can remove the other total columns, since we don't need them anymore."
   ]
  },
  {
   "cell_type": "code",
   "execution_count": 314,
   "metadata": {},
   "outputs": [
    {
     "data": {
      "text/html": [
       "<div>\n",
       "<style scoped>\n",
       "    .dataframe tbody tr th:only-of-type {\n",
       "        vertical-align: middle;\n",
       "    }\n",
       "\n",
       "    .dataframe tbody tr th {\n",
       "        vertical-align: top;\n",
       "    }\n",
       "\n",
       "    .dataframe thead th {\n",
       "        text-align: right;\n",
       "    }\n",
       "</style>\n",
       "<table border=\"1\" class=\"dataframe\">\n",
       "  <thead>\n",
       "    <tr style=\"text-align: right;\">\n",
       "      <th></th>\n",
       "      <th>Country</th>\n",
       "      <th>porksupply</th>\n",
       "      <th>porkco2</th>\n",
       "      <th>chickensupply</th>\n",
       "      <th>chickenco2</th>\n",
       "      <th>beefsupply</th>\n",
       "      <th>beefco2</th>\n",
       "      <th>lambsupply</th>\n",
       "      <th>lambco2</th>\n",
       "      <th>fishsupply</th>\n",
       "      <th>...</th>\n",
       "      <th>milkcheeseco2</th>\n",
       "      <th>wheatprodsupply</th>\n",
       "      <th>wheatprodco2</th>\n",
       "      <th>ricesupply</th>\n",
       "      <th>riceco2</th>\n",
       "      <th>soybeansupply</th>\n",
       "      <th>soybeanco2</th>\n",
       "      <th>nutssupply</th>\n",
       "      <th>nutsco2</th>\n",
       "      <th>totalco2</th>\n",
       "    </tr>\n",
       "  </thead>\n",
       "  <tbody>\n",
       "    <tr>\n",
       "      <th>0</th>\n",
       "      <td>Argentina</td>\n",
       "      <td>10.51</td>\n",
       "      <td>37.20</td>\n",
       "      <td>38.66</td>\n",
       "      <td>41.53</td>\n",
       "      <td>55.48</td>\n",
       "      <td>1712.00</td>\n",
       "      <td>1.56</td>\n",
       "      <td>54.63</td>\n",
       "      <td>4.36</td>\n",
       "      <td>...</td>\n",
       "      <td>277.87</td>\n",
       "      <td>103.11</td>\n",
       "      <td>19.66</td>\n",
       "      <td>8.77</td>\n",
       "      <td>11.22</td>\n",
       "      <td>0.00</td>\n",
       "      <td>0.00</td>\n",
       "      <td>0.49</td>\n",
       "      <td>0.87</td>\n",
       "      <td>2172.40</td>\n",
       "    </tr>\n",
       "    <tr>\n",
       "      <th>1</th>\n",
       "      <td>Australia</td>\n",
       "      <td>24.14</td>\n",
       "      <td>85.44</td>\n",
       "      <td>46.12</td>\n",
       "      <td>49.54</td>\n",
       "      <td>33.86</td>\n",
       "      <td>1044.85</td>\n",
       "      <td>9.87</td>\n",
       "      <td>345.65</td>\n",
       "      <td>17.69</td>\n",
       "      <td>...</td>\n",
       "      <td>334.01</td>\n",
       "      <td>70.46</td>\n",
       "      <td>13.44</td>\n",
       "      <td>11.03</td>\n",
       "      <td>14.12</td>\n",
       "      <td>0.19</td>\n",
       "      <td>0.09</td>\n",
       "      <td>8.73</td>\n",
       "      <td>15.45</td>\n",
       "      <td>1938.64</td>\n",
       "    </tr>\n",
       "    <tr>\n",
       "      <th>2</th>\n",
       "      <td>Albania</td>\n",
       "      <td>10.88</td>\n",
       "      <td>38.51</td>\n",
       "      <td>13.23</td>\n",
       "      <td>14.21</td>\n",
       "      <td>22.50</td>\n",
       "      <td>694.30</td>\n",
       "      <td>15.32</td>\n",
       "      <td>536.50</td>\n",
       "      <td>3.85</td>\n",
       "      <td>...</td>\n",
       "      <td>432.62</td>\n",
       "      <td>138.64</td>\n",
       "      <td>26.44</td>\n",
       "      <td>7.78</td>\n",
       "      <td>9.96</td>\n",
       "      <td>0.00</td>\n",
       "      <td>0.00</td>\n",
       "      <td>4.36</td>\n",
       "      <td>7.72</td>\n",
       "      <td>1777.84</td>\n",
       "    </tr>\n",
       "    <tr>\n",
       "      <th>3</th>\n",
       "      <td>Iceland</td>\n",
       "      <td>21.69</td>\n",
       "      <td>76.77</td>\n",
       "      <td>26.87</td>\n",
       "      <td>28.86</td>\n",
       "      <td>13.36</td>\n",
       "      <td>412.26</td>\n",
       "      <td>21.12</td>\n",
       "      <td>739.62</td>\n",
       "      <td>74.41</td>\n",
       "      <td>...</td>\n",
       "      <td>321.66</td>\n",
       "      <td>72.92</td>\n",
       "      <td>13.91</td>\n",
       "      <td>3.89</td>\n",
       "      <td>4.98</td>\n",
       "      <td>0.11</td>\n",
       "      <td>0.05</td>\n",
       "      <td>3.88</td>\n",
       "      <td>6.87</td>\n",
       "      <td>1731.35</td>\n",
       "    </tr>\n",
       "    <tr>\n",
       "      <th>4</th>\n",
       "      <td>New Zealand</td>\n",
       "      <td>22.29</td>\n",
       "      <td>78.90</td>\n",
       "      <td>34.98</td>\n",
       "      <td>37.58</td>\n",
       "      <td>22.49</td>\n",
       "      <td>693.99</td>\n",
       "      <td>18.91</td>\n",
       "      <td>662.23</td>\n",
       "      <td>20.36</td>\n",
       "      <td>...</td>\n",
       "      <td>195.50</td>\n",
       "      <td>76.91</td>\n",
       "      <td>14.67</td>\n",
       "      <td>9.16</td>\n",
       "      <td>11.72</td>\n",
       "      <td>0.44</td>\n",
       "      <td>0.20</td>\n",
       "      <td>8.22</td>\n",
       "      <td>14.55</td>\n",
       "      <td>1750.94</td>\n",
       "    </tr>\n",
       "  </tbody>\n",
       "</table>\n",
       "<p>5 rows × 24 columns</p>\n",
       "</div>"
      ],
      "text/plain": [
       "       Country  porksupply  porkco2  chickensupply  chickenco2  beefsupply  \\\n",
       "0    Argentina       10.51    37.20          38.66       41.53       55.48   \n",
       "1    Australia       24.14    85.44          46.12       49.54       33.86   \n",
       "2      Albania       10.88    38.51          13.23       14.21       22.50   \n",
       "3      Iceland       21.69    76.77          26.87       28.86       13.36   \n",
       "4  New Zealand       22.29    78.90          34.98       37.58       22.49   \n",
       "\n",
       "   beefco2  lambsupply  lambco2  fishsupply  ...  milkcheeseco2  \\\n",
       "0  1712.00        1.56    54.63        4.36  ...         277.87   \n",
       "1  1044.85        9.87   345.65       17.69  ...         334.01   \n",
       "2   694.30       15.32   536.50        3.85  ...         432.62   \n",
       "3   412.26       21.12   739.62       74.41  ...         321.66   \n",
       "4   693.99       18.91   662.23       20.36  ...         195.50   \n",
       "\n",
       "   wheatprodsupply  wheatprodco2  ricesupply  riceco2  soybeansupply  \\\n",
       "0           103.11         19.66        8.77    11.22           0.00   \n",
       "1            70.46         13.44       11.03    14.12           0.19   \n",
       "2           138.64         26.44        7.78     9.96           0.00   \n",
       "3            72.92         13.91        3.89     4.98           0.11   \n",
       "4            76.91         14.67        9.16    11.72           0.44   \n",
       "\n",
       "   soybeanco2  nutssupply  nutsco2  totalco2  \n",
       "0        0.00        0.49     0.87   2172.40  \n",
       "1        0.09        8.73    15.45   1938.64  \n",
       "2        0.00        4.36     7.72   1777.84  \n",
       "3        0.05        3.88     6.87   1731.35  \n",
       "4        0.20        8.22    14.55   1750.94  \n",
       "\n",
       "[5 rows x 24 columns]"
      ]
     },
     "execution_count": 314,
     "metadata": {},
     "output_type": "execute_result"
    }
   ],
   "source": [
    "food['totalco2'] = food['totalanimalco2'] + food['totalnonanimalco2']\n",
    "food.drop(columns=['#', 'totalanimalco2', 'totalnonanimalco2', 'difftotalco2'], inplace=True)\n",
    "food.head()"
   ]
  },
  {
   "cell_type": "markdown",
   "metadata": {},
   "source": [
    "Then, I decided to separate the data into the CO2 columns and the Food Supply columns. This is because our Y variable is fully described by the other CO2 columns, so using them in our model would lead to a trivial problem to solve."
   ]
  },
  {
   "cell_type": "code",
   "execution_count": 315,
   "metadata": {},
   "outputs": [
    {
     "data": {
      "text/plain": [
       "['porksupply',\n",
       " 'chickensupply',\n",
       " 'beefsupply',\n",
       " 'lambsupply',\n",
       " 'fishsupply',\n",
       " 'eggsupply',\n",
       " 'milkcheesesupply',\n",
       " 'wheatprodsupply',\n",
       " 'ricesupply',\n",
       " 'soybeansupply',\n",
       " 'nutssupply']"
      ]
     },
     "execution_count": 315,
     "metadata": {},
     "output_type": "execute_result"
    }
   ],
   "source": [
    "[col for col in food.columns if re.findall('supply', col)]"
   ]
  },
  {
   "cell_type": "code",
   "execution_count": 316,
   "metadata": {
    "scrolled": false
   },
   "outputs": [
    {
     "data": {
      "text/html": [
       "<div>\n",
       "<style scoped>\n",
       "    .dataframe tbody tr th:only-of-type {\n",
       "        vertical-align: middle;\n",
       "    }\n",
       "\n",
       "    .dataframe tbody tr th {\n",
       "        vertical-align: top;\n",
       "    }\n",
       "\n",
       "    .dataframe thead th {\n",
       "        text-align: right;\n",
       "    }\n",
       "</style>\n",
       "<table border=\"1\" class=\"dataframe\">\n",
       "  <thead>\n",
       "    <tr style=\"text-align: right;\">\n",
       "      <th></th>\n",
       "      <th>Country</th>\n",
       "      <th>porkco2</th>\n",
       "      <th>chickenco2</th>\n",
       "      <th>beefco2</th>\n",
       "      <th>lambco2</th>\n",
       "      <th>fishco2</th>\n",
       "      <th>eggco2</th>\n",
       "      <th>milkcheeseco2</th>\n",
       "      <th>wheatprodco2</th>\n",
       "      <th>riceco2</th>\n",
       "      <th>soybeanco2</th>\n",
       "      <th>nutsco2</th>\n",
       "      <th>totalco2</th>\n",
       "    </tr>\n",
       "  </thead>\n",
       "  <tbody>\n",
       "    <tr>\n",
       "      <th>0</th>\n",
       "      <td>Argentina</td>\n",
       "      <td>37.20</td>\n",
       "      <td>41.53</td>\n",
       "      <td>1712.00</td>\n",
       "      <td>54.63</td>\n",
       "      <td>6.96</td>\n",
       "      <td>10.46</td>\n",
       "      <td>277.87</td>\n",
       "      <td>19.66</td>\n",
       "      <td>11.22</td>\n",
       "      <td>0.00</td>\n",
       "      <td>0.87</td>\n",
       "      <td>2172.40</td>\n",
       "    </tr>\n",
       "    <tr>\n",
       "      <th>1</th>\n",
       "      <td>Australia</td>\n",
       "      <td>85.44</td>\n",
       "      <td>49.54</td>\n",
       "      <td>1044.85</td>\n",
       "      <td>345.65</td>\n",
       "      <td>28.25</td>\n",
       "      <td>7.82</td>\n",
       "      <td>334.01</td>\n",
       "      <td>13.44</td>\n",
       "      <td>14.12</td>\n",
       "      <td>0.09</td>\n",
       "      <td>15.45</td>\n",
       "      <td>1938.64</td>\n",
       "    </tr>\n",
       "    <tr>\n",
       "      <th>2</th>\n",
       "      <td>Albania</td>\n",
       "      <td>38.51</td>\n",
       "      <td>14.21</td>\n",
       "      <td>694.30</td>\n",
       "      <td>536.50</td>\n",
       "      <td>6.15</td>\n",
       "      <td>11.44</td>\n",
       "      <td>432.62</td>\n",
       "      <td>26.44</td>\n",
       "      <td>9.96</td>\n",
       "      <td>0.00</td>\n",
       "      <td>7.72</td>\n",
       "      <td>1777.84</td>\n",
       "    </tr>\n",
       "    <tr>\n",
       "      <th>3</th>\n",
       "      <td>Iceland</td>\n",
       "      <td>76.77</td>\n",
       "      <td>28.86</td>\n",
       "      <td>412.26</td>\n",
       "      <td>739.62</td>\n",
       "      <td>118.81</td>\n",
       "      <td>7.57</td>\n",
       "      <td>321.66</td>\n",
       "      <td>13.91</td>\n",
       "      <td>4.98</td>\n",
       "      <td>0.05</td>\n",
       "      <td>6.87</td>\n",
       "      <td>1731.35</td>\n",
       "    </tr>\n",
       "    <tr>\n",
       "      <th>4</th>\n",
       "      <td>New Zealand</td>\n",
       "      <td>78.90</td>\n",
       "      <td>37.58</td>\n",
       "      <td>693.99</td>\n",
       "      <td>662.23</td>\n",
       "      <td>32.51</td>\n",
       "      <td>9.10</td>\n",
       "      <td>195.50</td>\n",
       "      <td>14.67</td>\n",
       "      <td>11.72</td>\n",
       "      <td>0.20</td>\n",
       "      <td>14.55</td>\n",
       "      <td>1750.94</td>\n",
       "    </tr>\n",
       "  </tbody>\n",
       "</table>\n",
       "</div>"
      ],
      "text/plain": [
       "       Country  porkco2  chickenco2  beefco2  lambco2  fishco2  eggco2  \\\n",
       "0    Argentina    37.20       41.53  1712.00    54.63     6.96   10.46   \n",
       "1    Australia    85.44       49.54  1044.85   345.65    28.25    7.82   \n",
       "2      Albania    38.51       14.21   694.30   536.50     6.15   11.44   \n",
       "3      Iceland    76.77       28.86   412.26   739.62   118.81    7.57   \n",
       "4  New Zealand    78.90       37.58   693.99   662.23    32.51    9.10   \n",
       "\n",
       "   milkcheeseco2  wheatprodco2  riceco2  soybeanco2  nutsco2  totalco2  \n",
       "0         277.87         19.66    11.22        0.00     0.87   2172.40  \n",
       "1         334.01         13.44    14.12        0.09    15.45   1938.64  \n",
       "2         432.62         26.44     9.96        0.00     7.72   1777.84  \n",
       "3         321.66         13.91     4.98        0.05     6.87   1731.35  \n",
       "4         195.50         14.67    11.72        0.20    14.55   1750.94  "
      ]
     },
     "execution_count": 316,
     "metadata": {},
     "output_type": "execute_result"
    }
   ],
   "source": [
    "food_co2 = food.drop(columns=[col for col in food.columns if re.findall('supply', col)])\n",
    "food_co2.head()"
   ]
  },
  {
   "cell_type": "code",
   "execution_count": 317,
   "metadata": {
    "scrolled": true
   },
   "outputs": [
    {
     "data": {
      "text/plain": [
       "['porkco2',\n",
       " 'chickenco2',\n",
       " 'beefco2',\n",
       " 'lambco2',\n",
       " 'fishco2',\n",
       " 'eggco2',\n",
       " 'milkcheeseco2',\n",
       " 'wheatprodco2',\n",
       " 'riceco2',\n",
       " 'soybeanco2',\n",
       " 'nutsco2']"
      ]
     },
     "execution_count": 317,
     "metadata": {},
     "output_type": "execute_result"
    }
   ],
   "source": [
    "[col for col in food.columns if re.findall('co2', col)][:-1]"
   ]
  },
  {
   "cell_type": "code",
   "execution_count": 318,
   "metadata": {
    "scrolled": true
   },
   "outputs": [
    {
     "data": {
      "text/html": [
       "<div>\n",
       "<style scoped>\n",
       "    .dataframe tbody tr th:only-of-type {\n",
       "        vertical-align: middle;\n",
       "    }\n",
       "\n",
       "    .dataframe tbody tr th {\n",
       "        vertical-align: top;\n",
       "    }\n",
       "\n",
       "    .dataframe thead th {\n",
       "        text-align: right;\n",
       "    }\n",
       "</style>\n",
       "<table border=\"1\" class=\"dataframe\">\n",
       "  <thead>\n",
       "    <tr style=\"text-align: right;\">\n",
       "      <th></th>\n",
       "      <th>Country</th>\n",
       "      <th>porksupply</th>\n",
       "      <th>chickensupply</th>\n",
       "      <th>beefsupply</th>\n",
       "      <th>lambsupply</th>\n",
       "      <th>fishsupply</th>\n",
       "      <th>eggsupply</th>\n",
       "      <th>milkcheesesupply</th>\n",
       "      <th>wheatprodsupply</th>\n",
       "      <th>ricesupply</th>\n",
       "      <th>soybeansupply</th>\n",
       "      <th>nutssupply</th>\n",
       "      <th>totalco2</th>\n",
       "    </tr>\n",
       "  </thead>\n",
       "  <tbody>\n",
       "    <tr>\n",
       "      <th>0</th>\n",
       "      <td>Argentina</td>\n",
       "      <td>10.51</td>\n",
       "      <td>38.66</td>\n",
       "      <td>55.48</td>\n",
       "      <td>1.56</td>\n",
       "      <td>4.36</td>\n",
       "      <td>11.39</td>\n",
       "      <td>195.08</td>\n",
       "      <td>103.11</td>\n",
       "      <td>8.77</td>\n",
       "      <td>0.00</td>\n",
       "      <td>0.49</td>\n",
       "      <td>2172.40</td>\n",
       "    </tr>\n",
       "    <tr>\n",
       "      <th>1</th>\n",
       "      <td>Australia</td>\n",
       "      <td>24.14</td>\n",
       "      <td>46.12</td>\n",
       "      <td>33.86</td>\n",
       "      <td>9.87</td>\n",
       "      <td>17.69</td>\n",
       "      <td>8.51</td>\n",
       "      <td>234.49</td>\n",
       "      <td>70.46</td>\n",
       "      <td>11.03</td>\n",
       "      <td>0.19</td>\n",
       "      <td>8.73</td>\n",
       "      <td>1938.64</td>\n",
       "    </tr>\n",
       "    <tr>\n",
       "      <th>2</th>\n",
       "      <td>Albania</td>\n",
       "      <td>10.88</td>\n",
       "      <td>13.23</td>\n",
       "      <td>22.50</td>\n",
       "      <td>15.32</td>\n",
       "      <td>3.85</td>\n",
       "      <td>12.45</td>\n",
       "      <td>303.72</td>\n",
       "      <td>138.64</td>\n",
       "      <td>7.78</td>\n",
       "      <td>0.00</td>\n",
       "      <td>4.36</td>\n",
       "      <td>1777.84</td>\n",
       "    </tr>\n",
       "    <tr>\n",
       "      <th>3</th>\n",
       "      <td>Iceland</td>\n",
       "      <td>21.69</td>\n",
       "      <td>26.87</td>\n",
       "      <td>13.36</td>\n",
       "      <td>21.12</td>\n",
       "      <td>74.41</td>\n",
       "      <td>8.24</td>\n",
       "      <td>225.82</td>\n",
       "      <td>72.92</td>\n",
       "      <td>3.89</td>\n",
       "      <td>0.11</td>\n",
       "      <td>3.88</td>\n",
       "      <td>1731.35</td>\n",
       "    </tr>\n",
       "    <tr>\n",
       "      <th>4</th>\n",
       "      <td>New Zealand</td>\n",
       "      <td>22.29</td>\n",
       "      <td>34.98</td>\n",
       "      <td>22.49</td>\n",
       "      <td>18.91</td>\n",
       "      <td>20.36</td>\n",
       "      <td>9.91</td>\n",
       "      <td>137.25</td>\n",
       "      <td>76.91</td>\n",
       "      <td>9.16</td>\n",
       "      <td>0.44</td>\n",
       "      <td>8.22</td>\n",
       "      <td>1750.94</td>\n",
       "    </tr>\n",
       "  </tbody>\n",
       "</table>\n",
       "</div>"
      ],
      "text/plain": [
       "       Country  porksupply  chickensupply  beefsupply  lambsupply  fishsupply  \\\n",
       "0    Argentina       10.51          38.66       55.48        1.56        4.36   \n",
       "1    Australia       24.14          46.12       33.86        9.87       17.69   \n",
       "2      Albania       10.88          13.23       22.50       15.32        3.85   \n",
       "3      Iceland       21.69          26.87       13.36       21.12       74.41   \n",
       "4  New Zealand       22.29          34.98       22.49       18.91       20.36   \n",
       "\n",
       "   eggsupply  milkcheesesupply  wheatprodsupply  ricesupply  soybeansupply  \\\n",
       "0      11.39            195.08           103.11        8.77           0.00   \n",
       "1       8.51            234.49            70.46       11.03           0.19   \n",
       "2      12.45            303.72           138.64        7.78           0.00   \n",
       "3       8.24            225.82            72.92        3.89           0.11   \n",
       "4       9.91            137.25            76.91        9.16           0.44   \n",
       "\n",
       "   nutssupply  totalco2  \n",
       "0        0.49   2172.40  \n",
       "1        8.73   1938.64  \n",
       "2        4.36   1777.84  \n",
       "3        3.88   1731.35  \n",
       "4        8.22   1750.94  "
      ]
     },
     "execution_count": 318,
     "metadata": {},
     "output_type": "execute_result"
    }
   ],
   "source": [
    "food_supply = food.drop(columns=[col for col in food.columns if re.findall('co2', col)][:-1])\n",
    "food_supply.head()"
   ]
  },
  {
   "cell_type": "code",
   "execution_count": 319,
   "metadata": {},
   "outputs": [
    {
     "data": {
      "text/plain": [
       "0.029999999999972715"
      ]
     },
     "execution_count": 319,
     "metadata": {},
     "output_type": "execute_result"
    }
   ],
   "source": [
    "# check that the totalco2 is roughly the sum of the co2 columns by looking at the largest difference between the two\n",
    "max(food_co2.loc[:, food_co2.columns[1:-1]].values.sum(axis=1) - food_co2['totalco2'].values)"
   ]
  },
  {
   "cell_type": "markdown",
   "metadata": {},
   "source": [
    "### Motivation for conversion of data to percentages:\n",
    "We converted the supply columns to percentages so that it is more comparable to an individual's diet. People tend to have a *better grasp of the relative amounts of each food group they eat rather than the raw amount*, which is what the data was before cleaning. That way, our model can take inputs of the percent of each food group an individual consumes on an annual basis, and relate that directly to `totalco2`."
   ]
  },
  {
   "cell_type": "code",
   "execution_count": 320,
   "metadata": {},
   "outputs": [
    {
     "data": {
      "text/plain": [
       "Index(['porksupply', 'chickensupply', 'beefsupply', 'lambsupply', 'fishsupply',\n",
       "       'eggsupply', 'milkcheesesupply', 'wheatprodsupply', 'ricesupply',\n",
       "       'soybeansupply'],\n",
       "      dtype='object')"
      ]
     },
     "execution_count": 320,
     "metadata": {},
     "output_type": "execute_result"
    }
   ],
   "source": [
    "food_supply.columns[1:-2]"
   ]
  },
  {
   "cell_type": "code",
   "execution_count": 321,
   "metadata": {},
   "outputs": [
    {
     "data": {
      "text/html": [
       "<div>\n",
       "<style scoped>\n",
       "    .dataframe tbody tr th:only-of-type {\n",
       "        vertical-align: middle;\n",
       "    }\n",
       "\n",
       "    .dataframe tbody tr th {\n",
       "        vertical-align: top;\n",
       "    }\n",
       "\n",
       "    .dataframe thead th {\n",
       "        text-align: right;\n",
       "    }\n",
       "</style>\n",
       "<table border=\"1\" class=\"dataframe\">\n",
       "  <thead>\n",
       "    <tr style=\"text-align: right;\">\n",
       "      <th></th>\n",
       "      <th>porksupply_pct</th>\n",
       "      <th>chickensupply_pct</th>\n",
       "      <th>beefsupply_pct</th>\n",
       "      <th>lambsupply_pct</th>\n",
       "      <th>fishsupply_pct</th>\n",
       "      <th>eggsupply_pct</th>\n",
       "      <th>milkcheesesupply_pct</th>\n",
       "      <th>wheatprodsupply_pct</th>\n",
       "      <th>ricesupply_pct</th>\n",
       "      <th>soybeansupply_pct</th>\n",
       "      <th>nutssupply_pct</th>\n",
       "      <th>totalco2</th>\n",
       "      <th>Country</th>\n",
       "    </tr>\n",
       "  </thead>\n",
       "  <tbody>\n",
       "    <tr>\n",
       "      <th>0</th>\n",
       "      <td>0.024475</td>\n",
       "      <td>0.090031</td>\n",
       "      <td>0.129201</td>\n",
       "      <td>0.003633</td>\n",
       "      <td>0.010153</td>\n",
       "      <td>0.026525</td>\n",
       "      <td>0.454298</td>\n",
       "      <td>0.240120</td>\n",
       "      <td>0.020423</td>\n",
       "      <td>0.000000</td>\n",
       "      <td>0.001141</td>\n",
       "      <td>2172.40</td>\n",
       "      <td>Argentina</td>\n",
       "    </tr>\n",
       "    <tr>\n",
       "      <th>1</th>\n",
       "      <td>0.051904</td>\n",
       "      <td>0.099164</td>\n",
       "      <td>0.072803</td>\n",
       "      <td>0.021222</td>\n",
       "      <td>0.038036</td>\n",
       "      <td>0.018298</td>\n",
       "      <td>0.504182</td>\n",
       "      <td>0.151498</td>\n",
       "      <td>0.023716</td>\n",
       "      <td>0.000409</td>\n",
       "      <td>0.018771</td>\n",
       "      <td>1938.64</td>\n",
       "      <td>Australia</td>\n",
       "    </tr>\n",
       "    <tr>\n",
       "      <th>2</th>\n",
       "      <td>0.020423</td>\n",
       "      <td>0.024834</td>\n",
       "      <td>0.042235</td>\n",
       "      <td>0.028758</td>\n",
       "      <td>0.007227</td>\n",
       "      <td>0.023370</td>\n",
       "      <td>0.570120</td>\n",
       "      <td>0.260244</td>\n",
       "      <td>0.014604</td>\n",
       "      <td>0.000000</td>\n",
       "      <td>0.008184</td>\n",
       "      <td>1777.84</td>\n",
       "      <td>Albania</td>\n",
       "    </tr>\n",
       "    <tr>\n",
       "      <th>3</th>\n",
       "      <td>0.045923</td>\n",
       "      <td>0.056891</td>\n",
       "      <td>0.028287</td>\n",
       "      <td>0.044716</td>\n",
       "      <td>0.157545</td>\n",
       "      <td>0.017446</td>\n",
       "      <td>0.478118</td>\n",
       "      <td>0.154390</td>\n",
       "      <td>0.008236</td>\n",
       "      <td>0.000233</td>\n",
       "      <td>0.008215</td>\n",
       "      <td>1731.35</td>\n",
       "      <td>Iceland</td>\n",
       "    </tr>\n",
       "    <tr>\n",
       "      <th>4</th>\n",
       "      <td>0.061759</td>\n",
       "      <td>0.096919</td>\n",
       "      <td>0.062313</td>\n",
       "      <td>0.052394</td>\n",
       "      <td>0.056411</td>\n",
       "      <td>0.027458</td>\n",
       "      <td>0.380278</td>\n",
       "      <td>0.213094</td>\n",
       "      <td>0.025380</td>\n",
       "      <td>0.001219</td>\n",
       "      <td>0.022775</td>\n",
       "      <td>1750.94</td>\n",
       "      <td>New Zealand</td>\n",
       "    </tr>\n",
       "  </tbody>\n",
       "</table>\n",
       "</div>"
      ],
      "text/plain": [
       "   porksupply_pct  chickensupply_pct  beefsupply_pct  lambsupply_pct  \\\n",
       "0        0.024475           0.090031        0.129201        0.003633   \n",
       "1        0.051904           0.099164        0.072803        0.021222   \n",
       "2        0.020423           0.024834        0.042235        0.028758   \n",
       "3        0.045923           0.056891        0.028287        0.044716   \n",
       "4        0.061759           0.096919        0.062313        0.052394   \n",
       "\n",
       "   fishsupply_pct  eggsupply_pct  milkcheesesupply_pct  wheatprodsupply_pct  \\\n",
       "0        0.010153       0.026525              0.454298             0.240120   \n",
       "1        0.038036       0.018298              0.504182             0.151498   \n",
       "2        0.007227       0.023370              0.570120             0.260244   \n",
       "3        0.157545       0.017446              0.478118             0.154390   \n",
       "4        0.056411       0.027458              0.380278             0.213094   \n",
       "\n",
       "   ricesupply_pct  soybeansupply_pct  nutssupply_pct  totalco2      Country  \n",
       "0        0.020423           0.000000        0.001141   2172.40    Argentina  \n",
       "1        0.023716           0.000409        0.018771   1938.64    Australia  \n",
       "2        0.014604           0.000000        0.008184   1777.84      Albania  \n",
       "3        0.008236           0.000233        0.008215   1731.35      Iceland  \n",
       "4        0.025380           0.001219        0.022775   1750.94  New Zealand  "
      ]
     },
     "execution_count": 321,
     "metadata": {},
     "output_type": "execute_result"
    }
   ],
   "source": [
    "# create a column of the total supply of each row\n",
    "food_supply['totalsupply'] = food_supply.loc[:, columns_supply].values.sum(axis=1)\n",
    "columns_supply = food_supply.columns[1:-2] # ignore the Country, totalco2, totalsupply columns\n",
    "\n",
    "# convert columns into percentages\n",
    "food_pct = pd.DataFrame([])\n",
    "for col in columns_supply:\n",
    "    food_pct[col + '_pct'] = food_supply[col] / food_supply['totalsupply']\n",
    "    \n",
    "# add the y variable and country to the new df\n",
    "food_pct['totalco2'] = food_co2['totalco2']\n",
    "food_pct['Country'] = food['Country']\n",
    "food_pct.head()"
   ]
  },
  {
   "cell_type": "code",
   "execution_count": 322,
   "metadata": {},
   "outputs": [],
   "source": [
    "# food_pct.to_csv('../../data/nu3-pctfoodsupply-CO2-emissions.csv')"
   ]
  },
  {
   "cell_type": "markdown",
   "metadata": {},
   "source": [
    "---\n",
    "\n",
    "## Exploratory Data Analysis\n",
    "\n",
    "We now have one main dataset that will be used for modelling: `food_pct`."
   ]
  },
  {
   "cell_type": "code",
   "execution_count": 324,
   "metadata": {},
   "outputs": [
    {
     "data": {
      "image/png": "[encoded data removed]",
      "text/plain": [
       "<Figure size 576x360 with 2 Axes>"
      ]
     },
     "metadata": {
      "needs_background": "light"
     },
     "output_type": "display_data"
    }
   ],
   "source": [
    "fig, ax = plt.subplots(figsize=(8, 5))\n",
    "sns.heatmap(food_pct.corr(), annot=True, vmin=-1, ax=ax)\n",
    "plt.title('Correlation Matrix');"
   ]
  },
  {
   "cell_type": "markdown",
   "metadata": {},
   "source": [
    "We see that certain pairings of our features have strong correlation:\n",
    "- rice supply & milkcheese supply: -0.75\n",
    "- fish supply & milkcheese supply: -0.6\n",
    "- pork supply & egg supply: 0.41\n",
    "\n",
    "Certain features also have stronger correlation with our y variable `totalco2`:\n",
    "- milkcheese supply: 0.54\n",
    "- rice supply: -0.49\n",
    "- beef supply: 0.45\n",
    "\n",
    "But nothing particularly interesting, or any immediate reason that these variables would have the noted correlations. We can keep this matrix in mind when performing feature selection, as we want to prevent collinearity and improve our AIC/Adj. $R^2$ by keeping our chosen covariates distinct."
   ]
  },
  {
   "cell_type": "code",
   "execution_count": 325,
   "metadata": {
    "scrolled": false
   },
   "outputs": [
    {
     "data": {
      "image/png": "[encoded data removed]",
      "text/plain": [
       "<Figure size 720x432 with 4 Axes>"
      ]
     },
     "metadata": {
      "needs_background": "light"
     },
     "output_type": "display_data"
    }
   ],
   "source": [
    "plt.figure(figsize=(10,6))\n",
    "\n",
    "plt.subplot(2,2,1)\n",
    "plt.hist(food_pct['totalco2'], bins = np.linspace(food_pct['totalco2'].min(), food_pct['totalco2'].max(), 16));\n",
    "plt.title('Distribution of Y Variable: Total CO2')\n",
    "plt.xlabel('Total CO2')\n",
    "plt.yticks(np.arange(0, 21, 2))\n",
    "plt.ylabel('Counts')\n",
    "\n",
    "plt.subplot(2,2,2)\n",
    "plt.hist(np.log(food_pct['totalco2']), bins = np.linspace(np.log(food_pct['totalco2']).min(), \n",
    "                                                            np.log(food_pct['totalco2']).max(), 16));\n",
    "plt.title('Distribution of Y Variable: log(Total KG CO2)/person/year')\n",
    "plt.xlabel('log(Total CO2)')\n",
    "plt.yticks(np.arange(0, 21, 2))\n",
    "plt.ylabel('Counts')\n",
    "\n",
    "plt.subplot(2,2,3)\n",
    "sns.boxplot(food_pct['totalco2'])\n",
    "plt.xlabel('Total KG CO2 /person/year')\n",
    "plt.title('Boxplot of Y Variable')\n",
    "\n",
    "plt.subplot(2,2,4)\n",
    "sns.boxplot(np.log(food_pct['totalco2']))\n",
    "plt.xlabel('log(Total KG CO2) /person/year')\n",
    "plt.title('Boxplot of log(Y Variable)')\n",
    "\n",
    "plt.tight_layout()"
   ]
  },
  {
   "cell_type": "markdown",
   "metadata": {},
   "source": [
    "Our Y variable is right skewed, but is not so strong where we need a log transformation for our model. We may try using transformations to improve our model later on, but for now, we will move forward without any variable transformations."
   ]
  },
  {
   "cell_type": "markdown",
   "metadata": {},
   "source": [
    "Here is the distribution of the **average American diet** according to our data."
   ]
  },
  {
   "cell_type": "code",
   "execution_count": 326,
   "metadata": {},
   "outputs": [
    {
     "data": {
      "text/html": [
       "<div>\n",
       "<style scoped>\n",
       "    .dataframe tbody tr th:only-of-type {\n",
       "        vertical-align: middle;\n",
       "    }\n",
       "\n",
       "    .dataframe tbody tr th {\n",
       "        vertical-align: top;\n",
       "    }\n",
       "\n",
       "    .dataframe thead th {\n",
       "        text-align: right;\n",
       "    }\n",
       "</style>\n",
       "<table border=\"1\" class=\"dataframe\">\n",
       "  <thead>\n",
       "    <tr style=\"text-align: right;\">\n",
       "      <th></th>\n",
       "      <th>Pork</th>\n",
       "      <th>Chicken</th>\n",
       "      <th>Beef</th>\n",
       "      <th>Lamb</th>\n",
       "      <th>Fish</th>\n",
       "      <th>Eggs</th>\n",
       "      <th>Milk&amp;Cheese</th>\n",
       "      <th>Wheat</th>\n",
       "      <th>Rice</th>\n",
       "      <th>Soybeans</th>\n",
       "      <th>nutssupply_pct</th>\n",
       "    </tr>\n",
       "  </thead>\n",
       "  <tbody>\n",
       "    <tr>\n",
       "      <th>5</th>\n",
       "      <td>0.056276</td>\n",
       "      <td>0.101822</td>\n",
       "      <td>0.073786</td>\n",
       "      <td>0.000875</td>\n",
       "      <td>0.025145</td>\n",
       "      <td>0.029685</td>\n",
       "      <td>0.518558</td>\n",
       "      <td>0.163759</td>\n",
       "      <td>0.014008</td>\n",
       "      <td>0.000081</td>\n",
       "      <td>0.016003</td>\n",
       "    </tr>\n",
       "  </tbody>\n",
       "</table>\n",
       "</div>"
      ],
      "text/plain": [
       "       Pork   Chicken      Beef      Lamb      Fish      Eggs  Milk&Cheese  \\\n",
       "5  0.056276  0.101822  0.073786  0.000875  0.025145  0.029685     0.518558   \n",
       "\n",
       "      Wheat      Rice  Soybeans  nutssupply_pct  \n",
       "5  0.163759  0.014008  0.000081        0.016003  "
      ]
     },
     "execution_count": 326,
     "metadata": {},
     "output_type": "execute_result"
    }
   ],
   "source": [
    "names = ['Pork', 'Chicken', 'Beef', 'Lamb', 'Fish', 'Eggs', 'Milk&Cheese', 'Wheat', 'Rice', 'Soybeans']\n",
    "usa = food_pct[food_pct['Country'] == 'USA'].drop(columns=['Country', 'totalco2']).rename(columns=dict(zip(food_pct.columns[:-1], names)))\n",
    "usa"
   ]
  },
  {
   "cell_type": "code",
   "execution_count": 338,
   "metadata": {},
   "outputs": [
    {
     "data": {
      "image/png": "[encoded data removed]",
      "text/plain": [
       "<Figure size 864x288 with 1 Axes>"
      ]
     },
     "metadata": {
      "needs_background": "light"
     },
     "output_type": "display_data"
    }
   ],
   "source": [
    "plt.figure(figsize=(12,4))\n",
    "plt.bar(usa.columns, usa.to_numpy()[0])\n",
    "plt.title('Average American Diet of Included Products')\n",
    "plt.ylabel('% of Diet in Weight');"
   ]
  },
  {
   "cell_type": "markdown",
   "metadata": {},
   "source": [
    "---\n",
    "\n",
    "Even though we are not looking at country location in our model, we thought it'd be interesting to plot it spatially and see if there are any trends or clusters that have higher kgCO2/person/year.\n",
    "\n",
    "Using this [guide](https://towardsdatascience.com/using-python-to-create-a-world-map-from-a-list-of-country-names-cd7480d03b10) as a basis, we plot a world map of the KG CO2 emissions per person."
   ]
  },
  {
   "cell_type": "code",
   "execution_count": 328,
   "metadata": {},
   "outputs": [
    {
     "data": {
      "text/html": [
       "<div>\n",
       "<style scoped>\n",
       "    .dataframe tbody tr th:only-of-type {\n",
       "        vertical-align: middle;\n",
       "    }\n",
       "\n",
       "    .dataframe tbody tr th {\n",
       "        vertical-align: top;\n",
       "    }\n",
       "\n",
       "    .dataframe thead th {\n",
       "        text-align: right;\n",
       "    }\n",
       "</style>\n",
       "<table border=\"1\" class=\"dataframe\">\n",
       "  <thead>\n",
       "    <tr style=\"text-align: right;\">\n",
       "      <th></th>\n",
       "      <th>totalco2</th>\n",
       "      <th>CountryName</th>\n",
       "    </tr>\n",
       "  </thead>\n",
       "  <tbody>\n",
       "    <tr>\n",
       "      <th>0</th>\n",
       "      <td>2172.40</td>\n",
       "      <td>Argentina</td>\n",
       "    </tr>\n",
       "    <tr>\n",
       "      <th>1</th>\n",
       "      <td>1938.64</td>\n",
       "      <td>Australia</td>\n",
       "    </tr>\n",
       "    <tr>\n",
       "      <th>2</th>\n",
       "      <td>1777.84</td>\n",
       "      <td>Albania</td>\n",
       "    </tr>\n",
       "    <tr>\n",
       "      <th>3</th>\n",
       "      <td>1731.35</td>\n",
       "      <td>Iceland</td>\n",
       "    </tr>\n",
       "    <tr>\n",
       "      <th>4</th>\n",
       "      <td>1750.94</td>\n",
       "      <td>New Zealand</td>\n",
       "    </tr>\n",
       "  </tbody>\n",
       "</table>\n",
       "</div>"
      ],
      "text/plain": [
       "   totalco2  CountryName\n",
       "0   2172.40    Argentina\n",
       "1   1938.64    Australia\n",
       "2   1777.84      Albania\n",
       "3   1731.35      Iceland\n",
       "4   1750.94  New Zealand"
      ]
     },
     "execution_count": 328,
     "metadata": {},
     "output_type": "execute_result"
    }
   ],
   "source": [
    "country_co2 = food_pct.loc[:, ['totalco2', 'Country']]\n",
    "country_co2.rename(columns = {'Country' : 'CountryName'}, inplace=True)\n",
    "country_co2.head()"
   ]
  },
  {
   "cell_type": "code",
   "execution_count": 329,
   "metadata": {},
   "outputs": [],
   "source": [
    "#installation\n",
    "# !pip install pycountry-convert\n",
    "\n",
    "#function to convert to alpha2 country codes and continents\n",
    "from pycountry_convert import country_alpha2_to_continent_code, country_name_to_country_alpha2\n",
    "\n",
    "def get_continent(col):\n",
    "    try:\n",
    "        cn_a2_code =  country_name_to_country_alpha2(col)\n",
    "    except:\n",
    "        cn_a2_code = 'Unknown' \n",
    "    try:\n",
    "        cn_continent = country_alpha2_to_continent_code(cn_a2_code)\n",
    "    except:\n",
    "        cn_continent = 'Unknown' \n",
    "    \n",
    "    return (cn_a2_code, cn_continent)"
   ]
  },
  {
   "cell_type": "code",
   "execution_count": 330,
   "metadata": {},
   "outputs": [
    {
     "data": {
      "text/html": [
       "<div>\n",
       "<style scoped>\n",
       "    .dataframe tbody tr th:only-of-type {\n",
       "        vertical-align: middle;\n",
       "    }\n",
       "\n",
       "    .dataframe tbody tr th {\n",
       "        vertical-align: top;\n",
       "    }\n",
       "\n",
       "    .dataframe thead th {\n",
       "        text-align: right;\n",
       "    }\n",
       "</style>\n",
       "<table border=\"1\" class=\"dataframe\">\n",
       "  <thead>\n",
       "    <tr style=\"text-align: right;\">\n",
       "      <th></th>\n",
       "      <th>totalco2</th>\n",
       "      <th>CountryName</th>\n",
       "      <th>Country</th>\n",
       "      <th>Continent</th>\n",
       "    </tr>\n",
       "  </thead>\n",
       "  <tbody>\n",
       "    <tr>\n",
       "      <th>0</th>\n",
       "      <td>2172.40</td>\n",
       "      <td>Argentina</td>\n",
       "      <td>AR</td>\n",
       "      <td>SA</td>\n",
       "    </tr>\n",
       "    <tr>\n",
       "      <th>1</th>\n",
       "      <td>1938.64</td>\n",
       "      <td>Australia</td>\n",
       "      <td>AU</td>\n",
       "      <td>OC</td>\n",
       "    </tr>\n",
       "    <tr>\n",
       "      <th>2</th>\n",
       "      <td>1777.84</td>\n",
       "      <td>Albania</td>\n",
       "      <td>AL</td>\n",
       "      <td>EU</td>\n",
       "    </tr>\n",
       "    <tr>\n",
       "      <th>3</th>\n",
       "      <td>1731.35</td>\n",
       "      <td>Iceland</td>\n",
       "      <td>IS</td>\n",
       "      <td>EU</td>\n",
       "    </tr>\n",
       "    <tr>\n",
       "      <th>4</th>\n",
       "      <td>1750.94</td>\n",
       "      <td>New Zealand</td>\n",
       "      <td>NZ</td>\n",
       "      <td>OC</td>\n",
       "    </tr>\n",
       "  </tbody>\n",
       "</table>\n",
       "</div>"
      ],
      "text/plain": [
       "   totalco2  CountryName Country Continent\n",
       "0   2172.40    Argentina      AR        SA\n",
       "1   1938.64    Australia      AU        OC\n",
       "2   1777.84      Albania      AL        EU\n",
       "3   1731.35      Iceland      IS        EU\n",
       "4   1750.94  New Zealand      NZ        OC"
      ]
     },
     "execution_count": 330,
     "metadata": {},
     "output_type": "execute_result"
    }
   ],
   "source": [
    "codes = country_co2['CountryName'].apply(get_continent)\n",
    "\n",
    "country_co2['Country'] = [code[0] for code in codes]\n",
    "country_co2['Continent'] = [code[1] for code in codes]\n",
    "country_co2.head()"
   ]
  },
  {
   "cell_type": "code",
   "execution_count": 331,
   "metadata": {},
   "outputs": [],
   "source": [
    "#installation\n",
    "# !pip install geopy\n",
    "\n",
    "#function to get longitude and latitude data from country name\n",
    "from geopy.geocoders import Nominatim\n",
    "\n",
    "geolocator = Nominatim(user_agent=\"nu3-data-analysis\")\n",
    "def geolocate(country):\n",
    "    try:\n",
    "        # Geolocate the center of the country\n",
    "        loc = geolocator.geocode(country)\n",
    "        # And return latitude and longitude\n",
    "        return (loc.latitude, loc.longitude)\n",
    "    except:\n",
    "        # Return missing value\n",
    "        return (np.nan, np.nan)"
   ]
  },
  {
   "cell_type": "code",
   "execution_count": 332,
   "metadata": {
    "scrolled": false
   },
   "outputs": [
    {
     "data": {
      "text/html": [
       "<div>\n",
       "<style scoped>\n",
       "    .dataframe tbody tr th:only-of-type {\n",
       "        vertical-align: middle;\n",
       "    }\n",
       "\n",
       "    .dataframe tbody tr th {\n",
       "        vertical-align: top;\n",
       "    }\n",
       "\n",
       "    .dataframe thead th {\n",
       "        text-align: right;\n",
       "    }\n",
       "</style>\n",
       "<table border=\"1\" class=\"dataframe\">\n",
       "  <thead>\n",
       "    <tr style=\"text-align: right;\">\n",
       "      <th></th>\n",
       "      <th>totalco2</th>\n",
       "      <th>CountryName</th>\n",
       "      <th>Country</th>\n",
       "      <th>Continent</th>\n",
       "      <th>Latitude</th>\n",
       "      <th>Longitude</th>\n",
       "    </tr>\n",
       "  </thead>\n",
       "  <tbody>\n",
       "    <tr>\n",
       "      <th>0</th>\n",
       "      <td>2172.40</td>\n",
       "      <td>Argentina</td>\n",
       "      <td>AR</td>\n",
       "      <td>SA</td>\n",
       "      <td>-34.996496</td>\n",
       "      <td>-64.967282</td>\n",
       "    </tr>\n",
       "    <tr>\n",
       "      <th>1</th>\n",
       "      <td>1938.64</td>\n",
       "      <td>Australia</td>\n",
       "      <td>AU</td>\n",
       "      <td>OC</td>\n",
       "      <td>-24.776109</td>\n",
       "      <td>134.755000</td>\n",
       "    </tr>\n",
       "    <tr>\n",
       "      <th>2</th>\n",
       "      <td>1777.84</td>\n",
       "      <td>Albania</td>\n",
       "      <td>AL</td>\n",
       "      <td>EU</td>\n",
       "      <td>33.258882</td>\n",
       "      <td>-86.829534</td>\n",
       "    </tr>\n",
       "    <tr>\n",
       "      <th>3</th>\n",
       "      <td>1731.35</td>\n",
       "      <td>Iceland</td>\n",
       "      <td>IS</td>\n",
       "      <td>EU</td>\n",
       "      <td>64.984182</td>\n",
       "      <td>-18.105901</td>\n",
       "    </tr>\n",
       "    <tr>\n",
       "      <th>4</th>\n",
       "      <td>1750.94</td>\n",
       "      <td>New Zealand</td>\n",
       "      <td>NZ</td>\n",
       "      <td>OC</td>\n",
       "      <td>-41.500083</td>\n",
       "      <td>172.834408</td>\n",
       "    </tr>\n",
       "  </tbody>\n",
       "</table>\n",
       "</div>"
      ],
      "text/plain": [
       "   totalco2  CountryName Country Continent   Latitude   Longitude\n",
       "0   2172.40    Argentina      AR        SA -34.996496  -64.967282\n",
       "1   1938.64    Australia      AU        OC -24.776109  134.755000\n",
       "2   1777.84      Albania      AL        EU  33.258882  -86.829534\n",
       "3   1731.35      Iceland      IS        EU  64.984182  -18.105901\n",
       "4   1750.94  New Zealand      NZ        OC -41.500083  172.834408"
      ]
     },
     "execution_count": 332,
     "metadata": {},
     "output_type": "execute_result"
    }
   ],
   "source": [
    "latlons = country_co2['Country'].apply(geolocate)\n",
    "\n",
    "country_co2['Latitude'] = [latlon[0] for latlon in latlons]\n",
    "country_co2['Longitude'] = [latlon[1] for latlon in latlons]\n",
    "country_co2.head()"
   ]
  },
  {
   "cell_type": "code",
   "execution_count": 333,
   "metadata": {
    "scrolled": true
   },
   "outputs": [
    {
     "data": {
      "text/html": [
       "<div>\n",
       "<style scoped>\n",
       "    .dataframe tbody tr th:only-of-type {\n",
       "        vertical-align: middle;\n",
       "    }\n",
       "\n",
       "    .dataframe tbody tr th {\n",
       "        vertical-align: top;\n",
       "    }\n",
       "\n",
       "    .dataframe thead th {\n",
       "        text-align: right;\n",
       "    }\n",
       "</style>\n",
       "<table border=\"1\" class=\"dataframe\">\n",
       "  <thead>\n",
       "    <tr style=\"text-align: right;\">\n",
       "      <th></th>\n",
       "      <th>totalco2</th>\n",
       "      <th>CountryName</th>\n",
       "      <th>Country</th>\n",
       "      <th>Continent</th>\n",
       "      <th>Latitude</th>\n",
       "      <th>Longitude</th>\n",
       "    </tr>\n",
       "  </thead>\n",
       "  <tbody>\n",
       "    <tr>\n",
       "      <th>21</th>\n",
       "      <td>1405.70</td>\n",
       "      <td>Israel</td>\n",
       "      <td>IL</td>\n",
       "      <td>AS</td>\n",
       "      <td>NaN</td>\n",
       "      <td>NaN</td>\n",
       "    </tr>\n",
       "    <tr>\n",
       "      <th>32</th>\n",
       "      <td>1109.93</td>\n",
       "      <td>Armenia</td>\n",
       "      <td>AM</td>\n",
       "      <td>AS</td>\n",
       "      <td>NaN</td>\n",
       "      <td>NaN</td>\n",
       "    </tr>\n",
       "    <tr>\n",
       "      <th>107</th>\n",
       "      <td>241.92</td>\n",
       "      <td>Ethiopia</td>\n",
       "      <td>ET</td>\n",
       "      <td>AF</td>\n",
       "      <td>NaN</td>\n",
       "      <td>NaN</td>\n",
       "    </tr>\n",
       "    <tr>\n",
       "      <th>121</th>\n",
       "      <td>282.62</td>\n",
       "      <td>India</td>\n",
       "      <td>IN</td>\n",
       "      <td>AS</td>\n",
       "      <td>NaN</td>\n",
       "      <td>NaN</td>\n",
       "    </tr>\n",
       "  </tbody>\n",
       "</table>\n",
       "</div>"
      ],
      "text/plain": [
       "     totalco2 CountryName Country Continent  Latitude  Longitude\n",
       "21    1405.70      Israel      IL        AS       NaN        NaN\n",
       "32    1109.93     Armenia      AM        AS       NaN        NaN\n",
       "107    241.92    Ethiopia      ET        AF       NaN        NaN\n",
       "121    282.62       India      IN        AS       NaN        NaN"
      ]
     },
     "execution_count": 333,
     "metadata": {},
     "output_type": "execute_result"
    }
   ],
   "source": [
    "country_co2.loc[country_co2['Latitude'].isna(), :]"
   ]
  },
  {
   "cell_type": "code",
   "execution_count": 334,
   "metadata": {},
   "outputs": [],
   "source": [
    "# temporarily removing them to test the world map\n",
    "country_co2_clean = country_co2.loc[~country_co2['Latitude'].isna(), :]"
   ]
  },
  {
   "cell_type": "code",
   "execution_count": 335,
   "metadata": {
    "scrolled": true
   },
   "outputs": [
    {
     "data": {
      "text/html": [
       "<div style=\"width:100%;\"><div style=\"position:relative;width:100%;height:0;padding-bottom:60%;\"><span style=\"color:#565656\">Make this Notebook Trusted to load map: File -> Trust Notebook</span><iframe src=\"about:blank\" style=\"position:absolute;width:100%;height:100%;left:0;top:0;border:none !important;\" data-html=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 onload=\"this.contentDocument.open();this.contentDocument.write(atob(this.getAttribute('data-html')));this.contentDocument.close();\" allowfullscreen webkitallowfullscreen mozallowfullscreen></iframe></div></div>"
      ],
      "text/plain": [
       "<folium.folium.Map at 0x2250e7494c0>"
      ]
     },
     "execution_count": 335,
     "metadata": {},
     "output_type": "execute_result"
    }
   ],
   "source": [
    "#installation\n",
    "# !pip install folium\n",
    "\n",
    "# Create a world map to show distributions of users \n",
    "import folium\n",
    "from folium.plugins import MarkerCluster\n",
    "\n",
    "#empty map\n",
    "world_map= folium.Map(tiles=\"cartodbpositron\")\n",
    "marker_cluster = MarkerCluster().add_to(world_map)\n",
    "#for each coordinate, create circlemarker of user percent\n",
    "for i in range(len(country_co2_clean)):\n",
    "        lat = country_co2_clean.iloc[i]['Latitude']\n",
    "        long = country_co2_clean.iloc[i]['Longitude']\n",
    "        radius=5\n",
    "        popup_text = \"\"\"Country : {}<br>\n",
    "                    kgCO2/person/year : {}<br>\"\"\"\n",
    "        popup_text = popup_text.format(country_co2_clean.iloc[i]['CountryName'],\n",
    "                                   country_co2_clean.iloc[i]['totalco2']\n",
    "                                   )\n",
    "        folium.CircleMarker(location = [lat, long], radius=radius, popup= popup_text, fill =True).add_to(marker_cluster)\n",
    "#show the map\n",
    "world_map"
   ]
  },
  {
   "cell_type": "markdown",
   "metadata": {},
   "source": [
    "#### Another map:"
   ]
  },
  {
   "cell_type": "code",
   "execution_count": 336,
   "metadata": {},
   "outputs": [
    {
     "name": "stderr",
     "output_type": "stream",
     "text": [
      "Unknown not found in regex\n",
      "Unknown not found in regex\n"
     ]
    }
   ],
   "source": [
    "# !pip install country-converter\n",
    "\n",
    "import country_converter as coco\n",
    "\n",
    "country_co2['CountryCode'] = coco.convert(names=country_co2['Country'].to_list(), to='ISO3') # ignore the error"
   ]
  },
  {
   "cell_type": "code",
   "execution_count": 337,
   "metadata": {
    "scrolled": true
   },
   "outputs": [
    {
     "data": {
      "application/vnd.plotly.v1+json": {
       "config": {
        "plotlyServerURL": "https://plot.ly"
       },
       "data": [
        {
         "coloraxis": "coloraxis",
         "geo": "geo",
         "hovertemplate": "<b>%{hovertext}</b><br><br>CountryCode=%{location}<br>totalco2=%{z}<extra></extra>",
         "hovertext": [
          "AR",
          "AU",
          "AL",
          "IS",
          "NZ",
          "US",
          "UY",
          "LU",
          "BR",
          "KZ",
          "SE",
          "BM",
          "DK",
          "FI",
          "IE",
          "GR",
          "FR",
          "CA",
          "NO",
          "Unknown",
          "PF",
          "IL",
          "CH",
          "NL",
          "KW",
          "GB",
          "AT",
          "OM",
          "IT",
          "BS",
          "PT",
          "MT",
          "AM",
          "SI",
          "CL",
          "VE",
          "BE",
          "DE",
          "RU",
          "HR",
          "BY",
          "ES",
          "PY",
          "NC",
          "ZA",
          "BB",
          "LT",
          "TR",
          "EE",
          "MX",
          "CR",
          "BO",
          "EC",
          "PA",
          "CZ",
          "RO",
          "CO",
          "MV",
          "CY",
          "RS",
          "AE",
          "DZ",
          "UA",
          "PK",
          "SZ",
          "LV",
          "BA",
          "FJ",
          "KR",
          "PL",
          "SA",
          "BW",
          "MK",
          "HU",
          "TT",
          "TN",
          "EG",
          "MU",
          "BG",
          "MA",
          "SK",
          "NE",
          "KE",
          "JO",
          "JP",
          "GE",
          "GD",
          "SV",
          "CU",
          "CN",
          "HN",
          "Unknown",
          "AO",
          "JM",
          "NA",
          "BZ",
          "MY",
          "ZW",
          "GT",
          "UG",
          "NP",
          "IR",
          "TZ",
          "SN",
          "PE",
          "NI",
          "VN",
          "ET",
          "MM",
          "CG",
          "ZM",
          "CM",
          "MG",
          "MW",
          "GN",
          "NG",
          "RW",
          "PH",
          "GH",
          "TG",
          "GM",
          "IN",
          "TH",
          "MZ",
          "KH",
          "SL",
          "LK",
          "ID",
          "LR",
          "BD"
         ],
         "locations": [
          "ARG",
          "AUS",
          "ALB",
          "ISL",
          "NZL",
          "USA",
          "URY",
          "LUX",
          "BRA",
          "KAZ",
          "SWE",
          "BMU",
          "DNK",
          "FIN",
          "IRL",
          "GRC",
          "FRA",
          "CAN",
          "NOR",
          "not found",
          "PYF",
          "ISR",
          "CHE",
          "NLD",
          "KWT",
          "GBR",
          "AUT",
          "OMN",
          "ITA",
          "BHS",
          "PRT",
          "MLT",
          "ARM",
          "SVN",
          "CHL",
          "VEN",
          "BEL",
          "DEU",
          "RUS",
          "HRV",
          "BLR",
          "ESP",
          "PRY",
          "NCL",
          "ZAF",
          "BRB",
          "LTU",
          "TUR",
          "EST",
          "MEX",
          "CRI",
          "BOL",
          "ECU",
          "PAN",
          "CZE",
          "ROU",
          "COL",
          "MDV",
          "CYP",
          "SRB",
          "ARE",
          "DZA",
          "UKR",
          "PAK",
          "SWZ",
          "LVA",
          "BIH",
          "FJI",
          "KOR",
          "POL",
          "SAU",
          "BWA",
          "MKD",
          "HUN",
          "TTO",
          "TUN",
          "EGY",
          "MUS",
          "BGR",
          "MAR",
          "SVK",
          "NER",
          "KEN",
          "JOR",
          "JPN",
          "GEO",
          "GRD",
          "SLV",
          "CUB",
          "CHN",
          "HND",
          "not found",
          "AGO",
          "JAM",
          "NAM",
          "BLZ",
          "MYS",
          "ZWE",
          "GTM",
          "UGA",
          "NPL",
          "IRN",
          "TZA",
          "SEN",
          "PER",
          "NIC",
          "VNM",
          "ETH",
          "MMR",
          "COG",
          "ZMB",
          "CMR",
          "MDG",
          "MWI",
          "GIN",
          "NGA",
          "RWA",
          "PHL",
          "GHA",
          "TGO",
          "GMB",
          "IND",
          "THA",
          "MOZ",
          "KHM",
          "SLE",
          "LKA",
          "IDN",
          "LBR",
          "BGD"
         ],
         "name": "",
         "type": "choropleth",
         "z": [
          2172.4,
          1938.6399999999999,
          1777.84,
          1731.35,
          1750.94,
          1718.86,
          1634.91,
          1598.41,
          1616.73,
          1575.07,
          1527.0200000000002,
          1483.27,
          1498.1699999999998,
          1464.63,
          1459.6699999999998,
          1497.29,
          1420.06,
          1437.15,
          1381.9,
          1494.29,
          1424.67,
          1405.6999999999998,
          1356.75,
          1292.83,
          1345.4499999999998,
          1241.63,
          1211.1599999999999,
          1296.7,
          1206.33,
          1192.91,
          1174.28,
          1147.91,
          1109.93,
          1111.55,
          1099.57,
          1104.1000000000001,
          1102.08,
          1066.29,
          1007.66,
          996.1400000000001,
          960.1999999999999,
          988.49,
          876.67,
          918.5999999999999,
          892.41,
          889.11,
          868.91,
          897.01,
          830.7099999999999,
          797.13,
          891.27,
          873.03,
          883.88,
          928.46,
          760.0899999999999,
          766.3000000000001,
          781.53,
          903.46,
          741.36,
          723.32,
          897.3100000000001,
          707.89,
          665.73,
          669.05,
          678.9399999999999,
          633.5699999999999,
          628.1800000000001,
          716.08,
          822.0500000000001,
          607.3900000000001,
          692.88,
          576.86,
          600.7399999999999,
          576.8100000000001,
          610.41,
          618.89,
          673.93,
          672.0699999999999,
          560.16,
          576.39,
          560.34,
          542.8900000000001,
          530.84,
          587.96,
          644.06,
          527.03,
          439.85,
          434.03000000000003,
          591.69,
          640.2,
          434.08000000000004,
          559.55,
          412.99,
          450.81,
          362.12,
          433.07,
          554.64,
          350.34,
          314.99,
          304.73,
          526.24,
          445.27,
          343.02,
          469.42,
          402.84000000000003,
          377.7,
          641.52,
          241.92000000000002,
          563.8,
          262.55,
          225.31,
          283.61,
          440.76,
          207.95,
          432.70000000000005,
          267.78,
          181.62,
          455.28,
          217.88,
          188.10000000000002,
          293.65,
          282.62,
          377.98,
          141.41,
          452.40999999999997,
          300.40999999999997,
          294.45000000000005,
          367.52,
          203.39,
          374.19
         ]
        }
       ],
       "layout": {
        "coloraxis": {
         "colorbar": {
          "title": {
           "text": "totalco2"
          }
         },
         "colorscale": [
          [
           0,
           "#0d0887"
          ],
          [
           0.1111111111111111,
           "#46039f"
          ],
          [
           0.2222222222222222,
           "#7201a8"
          ],
          [
           0.3333333333333333,
           "#9c179e"
          ],
          [
           0.4444444444444444,
           "#bd3786"
          ],
          [
           0.5555555555555556,
           "#d8576b"
          ],
          [
           0.6666666666666666,
           "#ed7953"
          ],
          [
           0.7777777777777778,
           "#fb9f3a"
          ],
          [
           0.8888888888888888,
           "#fdca26"
          ],
          [
           1,
           "#f0f921"
          ]
         ]
        },
        "geo": {
         "center": {},
         "domain": {
          "x": [
           0,
           1
          ],
          "y": [
           0,
           1
          ]
         }
        },
        "legend": {
         "tracegroupgap": 0
        },
        "margin": {
         "t": 60
        },
        "template": {
         "data": {
          "bar": [
           {
            "error_x": {
             "color": "#2a3f5f"
            },
            "error_y": {
             "color": "#2a3f5f"
            },
            "marker": {
             "line": {
              "color": "#E5ECF6",
              "width": 0.5
             }
            },
            "type": "bar"
           }
          ],
          "barpolar": [
           {
            "marker": {
             "line": {
              "color": "#E5ECF6",
              "width": 0.5
             }
            },
            "type": "barpolar"
           }
          ],
          "carpet": [
           {
            "aaxis": {
             "endlinecolor": "#2a3f5f",
             "gridcolor": "white",
             "linecolor": "white",
             "minorgridcolor": "white",
             "startlinecolor": "#2a3f5f"
            },
            "baxis": {
             "endlinecolor": "#2a3f5f",
             "gridcolor": "white",
             "linecolor": "white",
             "minorgridcolor": "white",
             "startlinecolor": "#2a3f5f"
            },
            "type": "carpet"
           }
          ],
          "choropleth": [
           {
            "colorbar": {
             "outlinewidth": 0,
             "ticks": ""
            },
            "type": "choropleth"
           }
          ],
          "contour": [
           {
            "colorbar": {
             "outlinewidth": 0,
             "ticks": ""
            },
            "colorscale": [
             [
              0,
              "#0d0887"
             ],
             [
              0.1111111111111111,
              "#46039f"
             ],
             [
              0.2222222222222222,
              "#7201a8"
             ],
             [
              0.3333333333333333,
              "#9c179e"
             ],
             [
              0.4444444444444444,
              "#bd3786"
             ],
             [
              0.5555555555555556,
              "#d8576b"
             ],
             [
              0.6666666666666666,
              "#ed7953"
             ],
             [
              0.7777777777777778,
              "#fb9f3a"
             ],
             [
              0.8888888888888888,
              "#fdca26"
             ],
             [
              1,
              "#f0f921"
             ]
            ],
            "type": "contour"
           }
          ],
          "contourcarpet": [
           {
            "colorbar": {
             "outlinewidth": 0,
             "ticks": ""
            },
            "type": "contourcarpet"
           }
          ],
          "heatmap": [
           {
            "colorbar": {
             "outlinewidth": 0,
             "ticks": ""
            },
            "colorscale": [
             [
              0,
              "#0d0887"
             ],
             [
              0.1111111111111111,
              "#46039f"
             ],
             [
              0.2222222222222222,
              "#7201a8"
             ],
             [
              0.3333333333333333,
              "#9c179e"
             ],
             [
              0.4444444444444444,
              "#bd3786"
             ],
             [
              0.5555555555555556,
              "#d8576b"
             ],
             [
              0.6666666666666666,
              "#ed7953"
             ],
             [
              0.7777777777777778,
              "#fb9f3a"
             ],
             [
              0.8888888888888888,
              "#fdca26"
             ],
             [
              1,
              "#f0f921"
             ]
            ],
            "type": "heatmap"
           }
          ],
          "heatmapgl": [
           {
            "colorbar": {
             "outlinewidth": 0,
             "ticks": ""
            },
            "colorscale": [
             [
              0,
              "#0d0887"
             ],
             [
              0.1111111111111111,
              "#46039f"
             ],
             [
              0.2222222222222222,
              "#7201a8"
             ],
             [
              0.3333333333333333,
              "#9c179e"
             ],
             [
              0.4444444444444444,
              "#bd3786"
             ],
             [
              0.5555555555555556,
              "#d8576b"
             ],
             [
              0.6666666666666666,
              "#ed7953"
             ],
             [
              0.7777777777777778,
              "#fb9f3a"
             ],
             [
              0.8888888888888888,
              "#fdca26"
             ],
             [
              1,
              "#f0f921"
             ]
            ],
            "type": "heatmapgl"
           }
          ],
          "histogram": [
           {
            "marker": {
             "colorbar": {
              "outlinewidth": 0,
              "ticks": ""
             }
            },
            "type": "histogram"
           }
          ],
          "histogram2d": [
           {
            "colorbar": {
             "outlinewidth": 0,
             "ticks": ""
            },
            "colorscale": [
             [
              0,
              "#0d0887"
             ],
             [
              0.1111111111111111,
              "#46039f"
             ],
             [
              0.2222222222222222,
              "#7201a8"
             ],
             [
              0.3333333333333333,
              "#9c179e"
             ],
             [
              0.4444444444444444,
              "#bd3786"
             ],
             [
              0.5555555555555556,
              "#d8576b"
             ],
             [
              0.6666666666666666,
              "#ed7953"
             ],
             [
              0.7777777777777778,
              "#fb9f3a"
             ],
             [
              0.8888888888888888,
              "#fdca26"
             ],
             [
              1,
              "#f0f921"
             ]
            ],
            "type": "histogram2d"
           }
          ],
          "histogram2dcontour": [
           {
            "colorbar": {
             "outlinewidth": 0,
             "ticks": ""
            },
            "colorscale": [
             [
              0,
              "#0d0887"
             ],
             [
              0.1111111111111111,
              "#46039f"
             ],
             [
              0.2222222222222222,
              "#7201a8"
             ],
             [
              0.3333333333333333,
              "#9c179e"
             ],
             [
              0.4444444444444444,
              "#bd3786"
             ],
             [
              0.5555555555555556,
              "#d8576b"
             ],
             [
              0.6666666666666666,
              "#ed7953"
             ],
             [
              0.7777777777777778,
              "#fb9f3a"
             ],
             [
              0.8888888888888888,
              "#fdca26"
             ],
             [
              1,
              "#f0f921"
             ]
            ],
            "type": "histogram2dcontour"
           }
          ],
          "mesh3d": [
           {
            "colorbar": {
             "outlinewidth": 0,
             "ticks": ""
            },
            "type": "mesh3d"
           }
          ],
          "parcoords": [
           {
            "line": {
             "colorbar": {
              "outlinewidth": 0,
              "ticks": ""
             }
            },
            "type": "parcoords"
           }
          ],
          "pie": [
           {
            "automargin": true,
            "type": "pie"
           }
          ],
          "scatter": [
           {
            "marker": {
             "colorbar": {
              "outlinewidth": 0,
              "ticks": ""
             }
            },
            "type": "scatter"
           }
          ],
          "scatter3d": [
           {
            "line": {
             "colorbar": {
              "outlinewidth": 0,
              "ticks": ""
             }
            },
            "marker": {
             "colorbar": {
              "outlinewidth": 0,
              "ticks": ""
             }
            },
            "type": "scatter3d"
           }
          ],
          "scattercarpet": [
           {
            "marker": {
             "colorbar": {
              "outlinewidth": 0,
              "ticks": ""
             }
            },
            "type": "scattercarpet"
           }
          ],
          "scattergeo": [
           {
            "marker": {
             "colorbar": {
              "outlinewidth": 0,
              "ticks": ""
             }
            },
            "type": "scattergeo"
           }
          ],
          "scattergl": [
           {
            "marker": {
             "colorbar": {
              "outlinewidth": 0,
              "ticks": ""
             }
            },
            "type": "scattergl"
           }
          ],
          "scattermapbox": [
           {
            "marker": {
             "colorbar": {
              "outlinewidth": 0,
              "ticks": ""
             }
            },
            "type": "scattermapbox"
           }
          ],
          "scatterpolar": [
           {
            "marker": {
             "colorbar": {
              "outlinewidth": 0,
              "ticks": ""
             }
            },
            "type": "scatterpolar"
           }
          ],
          "scatterpolargl": [
           {
            "marker": {
             "colorbar": {
              "outlinewidth": 0,
              "ticks": ""
             }
            },
            "type": "scatterpolargl"
           }
          ],
          "scatterternary": [
           {
            "marker": {
             "colorbar": {
              "outlinewidth": 0,
              "ticks": ""
             }
            },
            "type": "scatterternary"
           }
          ],
          "surface": [
           {
            "colorbar": {
             "outlinewidth": 0,
             "ticks": ""
            },
            "colorscale": [
             [
              0,
              "#0d0887"
             ],
             [
              0.1111111111111111,
              "#46039f"
             ],
             [
              0.2222222222222222,
              "#7201a8"
             ],
             [
              0.3333333333333333,
              "#9c179e"
             ],
             [
              0.4444444444444444,
              "#bd3786"
             ],
             [
              0.5555555555555556,
              "#d8576b"
             ],
             [
              0.6666666666666666,
              "#ed7953"
             ],
             [
              0.7777777777777778,
              "#fb9f3a"
             ],
             [
              0.8888888888888888,
              "#fdca26"
             ],
             [
              1,
              "#f0f921"
             ]
            ],
            "type": "surface"
           }
          ],
          "table": [
           {
            "cells": {
             "fill": {
              "color": "#EBF0F8"
             },
             "line": {
              "color": "white"
             }
            },
            "header": {
             "fill": {
              "color": "#C8D4E3"
             },
             "line": {
              "color": "white"
             }
            },
            "type": "table"
           }
          ]
         },
         "layout": {
          "annotationdefaults": {
           "arrowcolor": "#2a3f5f",
           "arrowhead": 0,
           "arrowwidth": 1
          },
          "coloraxis": {
           "colorbar": {
            "outlinewidth": 0,
            "ticks": ""
           }
          },
          "colorscale": {
           "diverging": [
            [
             0,
             "#8e0152"
            ],
            [
             0.1,
             "#c51b7d"
            ],
            [
             0.2,
             "#de77ae"
            ],
            [
             0.3,
             "#f1b6da"
            ],
            [
             0.4,
             "#fde0ef"
            ],
            [
             0.5,
             "#f7f7f7"
            ],
            [
             0.6,
             "#e6f5d0"
            ],
            [
             0.7,
             "#b8e186"
            ],
            [
             0.8,
             "#7fbc41"
            ],
            [
             0.9,
             "#4d9221"
            ],
            [
             1,
             "#276419"
            ]
           ],
           "sequential": [
            [
             0,
             "#0d0887"
            ],
            [
             0.1111111111111111,
             "#46039f"
            ],
            [
             0.2222222222222222,
             "#7201a8"
            ],
            [
             0.3333333333333333,
             "#9c179e"
            ],
            [
             0.4444444444444444,
             "#bd3786"
            ],
            [
             0.5555555555555556,
             "#d8576b"
            ],
            [
             0.6666666666666666,
             "#ed7953"
            ],
            [
             0.7777777777777778,
             "#fb9f3a"
            ],
            [
             0.8888888888888888,
             "#fdca26"
            ],
            [
             1,
             "#f0f921"
            ]
           ],
           "sequentialminus": [
            [
             0,
             "#0d0887"
            ],
            [
             0.1111111111111111,
             "#46039f"
            ],
            [
             0.2222222222222222,
             "#7201a8"
            ],
            [
             0.3333333333333333,
             "#9c179e"
            ],
            [
             0.4444444444444444,
             "#bd3786"
            ],
            [
             0.5555555555555556,
             "#d8576b"
            ],
            [
             0.6666666666666666,
             "#ed7953"
            ],
            [
             0.7777777777777778,
             "#fb9f3a"
            ],
            [
             0.8888888888888888,
             "#fdca26"
            ],
            [
             1,
             "#f0f921"
            ]
           ]
          },
          "colorway": [
           "#636efa",
           "#EF553B",
           "#00cc96",
           "#ab63fa",
           "#FFA15A",
           "#19d3f3",
           "#FF6692",
           "#B6E880",
           "#FF97FF",
           "#FECB52"
          ],
          "font": {
           "color": "#2a3f5f"
          },
          "geo": {
           "bgcolor": "white",
           "lakecolor": "white",
           "landcolor": "#E5ECF6",
           "showlakes": true,
           "showland": true,
           "subunitcolor": "white"
          },
          "hoverlabel": {
           "align": "left"
          },
          "hovermode": "closest",
          "mapbox": {
           "style": "light"
          },
          "paper_bgcolor": "white",
          "plot_bgcolor": "#E5ECF6",
          "polar": {
           "angularaxis": {
            "gridcolor": "white",
            "linecolor": "white",
            "ticks": ""
           },
           "bgcolor": "#E5ECF6",
           "radialaxis": {
            "gridcolor": "white",
            "linecolor": "white",
            "ticks": ""
           }
          },
          "scene": {
           "xaxis": {
            "backgroundcolor": "#E5ECF6",
            "gridcolor": "white",
            "gridwidth": 2,
            "linecolor": "white",
            "showbackground": true,
            "ticks": "",
            "zerolinecolor": "white"
           },
           "yaxis": {
            "backgroundcolor": "#E5ECF6",
            "gridcolor": "white",
            "gridwidth": 2,
            "linecolor": "white",
            "showbackground": true,
            "ticks": "",
            "zerolinecolor": "white"
           },
           "zaxis": {
            "backgroundcolor": "#E5ECF6",
            "gridcolor": "white",
            "gridwidth": 2,
            "linecolor": "white",
            "showbackground": true,
            "ticks": "",
            "zerolinecolor": "white"
           }
          },
          "shapedefaults": {
           "line": {
            "color": "#2a3f5f"
           }
          },
          "ternary": {
           "aaxis": {
            "gridcolor": "white",
            "linecolor": "white",
            "ticks": ""
           },
           "baxis": {
            "gridcolor": "white",
            "linecolor": "white",
            "ticks": ""
           },
           "bgcolor": "#E5ECF6",
           "caxis": {
            "gridcolor": "white",
            "linecolor": "white",
            "ticks": ""
           }
          },
          "title": {
           "x": 0.05
          },
          "xaxis": {
           "automargin": true,
           "gridcolor": "white",
           "linecolor": "white",
           "ticks": "",
           "title": {
            "standoff": 15
           },
           "zerolinecolor": "white",
           "zerolinewidth": 2
          },
          "yaxis": {
           "automargin": true,
           "gridcolor": "white",
           "linecolor": "white",
           "ticks": "",
           "title": {
            "standoff": 15
           },
           "zerolinecolor": "white",
           "zerolinewidth": 2
          }
         }
        }
       }
      },
      "text/html": [
       "<div>                            <div id=\"8a6d8666-7553-426c-8cc3-3da4487568d5\" class=\"plotly-graph-div\" style=\"height:525px; width:100%;\"></div>            <script type=\"text/javascript\">                require([\"plotly\"], function(Plotly) {                    window.PLOTLYENV=window.PLOTLYENV || {};                                    if (document.getElementById(\"8a6d8666-7553-426c-8cc3-3da4487568d5\")) {                    Plotly.newPlot(                        \"8a6d8666-7553-426c-8cc3-3da4487568d5\",                        [{\"coloraxis\": \"coloraxis\", \"geo\": \"geo\", \"hovertemplate\": \"<b>%{hovertext}</b><br><br>CountryCode=%{location}<br>totalco2=%{z}<extra></extra>\", \"hovertext\": [\"AR\", \"AU\", \"AL\", \"IS\", \"NZ\", \"US\", \"UY\", \"LU\", \"BR\", \"KZ\", \"SE\", \"BM\", \"DK\", \"FI\", \"IE\", \"GR\", \"FR\", \"CA\", \"NO\", \"Unknown\", \"PF\", \"IL\", \"CH\", \"NL\", \"KW\", \"GB\", \"AT\", \"OM\", \"IT\", \"BS\", \"PT\", \"MT\", \"AM\", \"SI\", \"CL\", \"VE\", \"BE\", \"DE\", \"RU\", \"HR\", \"BY\", \"ES\", \"PY\", \"NC\", \"ZA\", \"BB\", \"LT\", \"TR\", \"EE\", \"MX\", \"CR\", \"BO\", \"EC\", \"PA\", \"CZ\", \"RO\", \"CO\", \"MV\", \"CY\", \"RS\", \"AE\", \"DZ\", \"UA\", \"PK\", \"SZ\", \"LV\", \"BA\", \"FJ\", \"KR\", \"PL\", \"SA\", \"BW\", \"MK\", \"HU\", \"TT\", \"TN\", \"EG\", \"MU\", \"BG\", \"MA\", \"SK\", \"NE\", \"KE\", \"JO\", \"JP\", \"GE\", \"GD\", \"SV\", \"CU\", \"CN\", \"HN\", \"Unknown\", \"AO\", \"JM\", \"NA\", \"BZ\", \"MY\", \"ZW\", \"GT\", \"UG\", \"NP\", \"IR\", \"TZ\", \"SN\", \"PE\", \"NI\", \"VN\", \"ET\", \"MM\", \"CG\", \"ZM\", \"CM\", \"MG\", \"MW\", \"GN\", \"NG\", \"RW\", \"PH\", \"GH\", \"TG\", \"GM\", \"IN\", \"TH\", \"MZ\", \"KH\", \"SL\", \"LK\", \"ID\", \"LR\", \"BD\"], \"locations\": [\"ARG\", \"AUS\", \"ALB\", \"ISL\", \"NZL\", \"USA\", \"URY\", \"LUX\", \"BRA\", \"KAZ\", \"SWE\", \"BMU\", \"DNK\", \"FIN\", \"IRL\", \"GRC\", \"FRA\", \"CAN\", \"NOR\", \"not found\", \"PYF\", \"ISR\", \"CHE\", \"NLD\", \"KWT\", \"GBR\", \"AUT\", \"OMN\", \"ITA\", \"BHS\", \"PRT\", \"MLT\", \"ARM\", \"SVN\", \"CHL\", \"VEN\", \"BEL\", \"DEU\", \"RUS\", \"HRV\", \"BLR\", \"ESP\", \"PRY\", \"NCL\", \"ZAF\", \"BRB\", \"LTU\", \"TUR\", \"EST\", \"MEX\", \"CRI\", \"BOL\", \"ECU\", \"PAN\", \"CZE\", \"ROU\", \"COL\", \"MDV\", \"CYP\", \"SRB\", \"ARE\", \"DZA\", \"UKR\", \"PAK\", \"SWZ\", \"LVA\", \"BIH\", \"FJI\", \"KOR\", \"POL\", \"SAU\", \"BWA\", \"MKD\", \"HUN\", \"TTO\", \"TUN\", \"EGY\", \"MUS\", \"BGR\", \"MAR\", \"SVK\", \"NER\", \"KEN\", \"JOR\", \"JPN\", \"GEO\", \"GRD\", \"SLV\", \"CUB\", \"CHN\", \"HND\", \"not found\", \"AGO\", \"JAM\", \"NAM\", \"BLZ\", \"MYS\", \"ZWE\", \"GTM\", \"UGA\", \"NPL\", \"IRN\", \"TZA\", \"SEN\", \"PER\", \"NIC\", \"VNM\", \"ETH\", \"MMR\", \"COG\", \"ZMB\", \"CMR\", \"MDG\", \"MWI\", \"GIN\", \"NGA\", \"RWA\", \"PHL\", \"GHA\", \"TGO\", \"GMB\", \"IND\", \"THA\", \"MOZ\", \"KHM\", \"SLE\", \"LKA\", \"IDN\", \"LBR\", \"BGD\"], \"name\": \"\", \"type\": \"choropleth\", \"z\": [2172.4, 1938.6399999999999, 1777.84, 1731.35, 1750.94, 1718.86, 1634.91, 1598.41, 1616.73, 1575.07, 1527.0200000000002, 1483.27, 1498.1699999999998, 1464.63, 1459.6699999999998, 1497.29, 1420.06, 1437.15, 1381.9, 1494.29, 1424.67, 1405.6999999999998, 1356.75, 1292.83, 1345.4499999999998, 1241.63, 1211.1599999999999, 1296.7, 1206.33, 1192.91, 1174.28, 1147.91, 1109.93, 1111.55, 1099.57, 1104.1000000000001, 1102.08, 1066.29, 1007.66, 996.1400000000001, 960.1999999999999, 988.49, 876.67, 918.5999999999999, 892.41, 889.11, 868.91, 897.01, 830.7099999999999, 797.13, 891.27, 873.03, 883.88, 928.46, 760.0899999999999, 766.3000000000001, 781.53, 903.46, 741.36, 723.32, 897.3100000000001, 707.89, 665.73, 669.05, 678.9399999999999, 633.5699999999999, 628.1800000000001, 716.08, 822.0500000000001, 607.3900000000001, 692.88, 576.86, 600.7399999999999, 576.8100000000001, 610.41, 618.89, 673.93, 672.0699999999999, 560.16, 576.39, 560.34, 542.8900000000001, 530.84, 587.96, 644.06, 527.03, 439.85, 434.03000000000003, 591.69, 640.2, 434.08000000000004, 559.55, 412.99, 450.81, 362.12, 433.07, 554.64, 350.34, 314.99, 304.73, 526.24, 445.27, 343.02, 469.42, 402.84000000000003, 377.7, 641.52, 241.92000000000002, 563.8, 262.55, 225.31, 283.61, 440.76, 207.95, 432.70000000000005, 267.78, 181.62, 455.28, 217.88, 188.10000000000002, 293.65, 282.62, 377.98, 141.41, 452.40999999999997, 300.40999999999997, 294.45000000000005, 367.52, 203.39, 374.19]}],                        {\"coloraxis\": {\"colorbar\": {\"title\": {\"text\": \"totalco2\"}}, \"colorscale\": [[0.0, \"#0d0887\"], [0.1111111111111111, \"#46039f\"], [0.2222222222222222, \"#7201a8\"], [0.3333333333333333, \"#9c179e\"], [0.4444444444444444, \"#bd3786\"], [0.5555555555555556, \"#d8576b\"], [0.6666666666666666, \"#ed7953\"], [0.7777777777777778, \"#fb9f3a\"], [0.8888888888888888, \"#fdca26\"], [1.0, \"#f0f921\"]]}, \"geo\": {\"center\": {}, \"domain\": {\"x\": [0.0, 1.0], \"y\": [0.0, 1.0]}}, \"legend\": {\"tracegroupgap\": 0}, \"margin\": {\"t\": 60}, \"template\": {\"data\": {\"bar\": [{\"error_x\": {\"color\": \"#2a3f5f\"}, \"error_y\": {\"color\": \"#2a3f5f\"}, \"marker\": {\"line\": {\"color\": \"#E5ECF6\", \"width\": 0.5}}, \"type\": \"bar\"}], \"barpolar\": [{\"marker\": {\"line\": {\"color\": \"#E5ECF6\", \"width\": 0.5}}, \"type\": \"barpolar\"}], \"carpet\": [{\"aaxis\": {\"endlinecolor\": \"#2a3f5f\", \"gridcolor\": \"white\", \"linecolor\": \"white\", \"minorgridcolor\": \"white\", \"startlinecolor\": \"#2a3f5f\"}, \"baxis\": {\"endlinecolor\": \"#2a3f5f\", \"gridcolor\": \"white\", \"linecolor\": \"white\", \"minorgridcolor\": \"white\", \"startlinecolor\": \"#2a3f5f\"}, \"type\": \"carpet\"}], \"choropleth\": [{\"colorbar\": {\"outlinewidth\": 0, \"ticks\": \"\"}, \"type\": \"choropleth\"}], \"contour\": [{\"colorbar\": {\"outlinewidth\": 0, \"ticks\": \"\"}, \"colorscale\": [[0.0, \"#0d0887\"], [0.1111111111111111, \"#46039f\"], [0.2222222222222222, \"#7201a8\"], [0.3333333333333333, \"#9c179e\"], [0.4444444444444444, \"#bd3786\"], [0.5555555555555556, \"#d8576b\"], [0.6666666666666666, \"#ed7953\"], [0.7777777777777778, \"#fb9f3a\"], [0.8888888888888888, \"#fdca26\"], [1.0, \"#f0f921\"]], \"type\": \"contour\"}], \"contourcarpet\": [{\"colorbar\": {\"outlinewidth\": 0, \"ticks\": \"\"}, \"type\": \"contourcarpet\"}], \"heatmap\": [{\"colorbar\": {\"outlinewidth\": 0, \"ticks\": \"\"}, \"colorscale\": [[0.0, \"#0d0887\"], [0.1111111111111111, \"#46039f\"], [0.2222222222222222, \"#7201a8\"], [0.3333333333333333, \"#9c179e\"], [0.4444444444444444, \"#bd3786\"], [0.5555555555555556, \"#d8576b\"], [0.6666666666666666, \"#ed7953\"], [0.7777777777777778, \"#fb9f3a\"], [0.8888888888888888, \"#fdca26\"], [1.0, \"#f0f921\"]], \"type\": \"heatmap\"}], \"heatmapgl\": [{\"colorbar\": {\"outlinewidth\": 0, \"ticks\": \"\"}, \"colorscale\": [[0.0, \"#0d0887\"], [0.1111111111111111, \"#46039f\"], [0.2222222222222222, \"#7201a8\"], [0.3333333333333333, \"#9c179e\"], [0.4444444444444444, \"#bd3786\"], [0.5555555555555556, \"#d8576b\"], [0.6666666666666666, \"#ed7953\"], [0.7777777777777778, \"#fb9f3a\"], [0.8888888888888888, \"#fdca26\"], [1.0, \"#f0f921\"]], \"type\": \"heatmapgl\"}], \"histogram\": [{\"marker\": {\"colorbar\": {\"outlinewidth\": 0, \"ticks\": \"\"}}, \"type\": \"histogram\"}], \"histogram2d\": [{\"colorbar\": {\"outlinewidth\": 0, \"ticks\": \"\"}, \"colorscale\": [[0.0, \"#0d0887\"], [0.1111111111111111, \"#46039f\"], [0.2222222222222222, \"#7201a8\"], [0.3333333333333333, \"#9c179e\"], [0.4444444444444444, \"#bd3786\"], [0.5555555555555556, \"#d8576b\"], [0.6666666666666666, \"#ed7953\"], [0.7777777777777778, \"#fb9f3a\"], [0.8888888888888888, \"#fdca26\"], [1.0, \"#f0f921\"]], \"type\": \"histogram2d\"}], \"histogram2dcontour\": [{\"colorbar\": {\"outlinewidth\": 0, \"ticks\": \"\"}, \"colorscale\": [[0.0, \"#0d0887\"], [0.1111111111111111, \"#46039f\"], [0.2222222222222222, \"#7201a8\"], [0.3333333333333333, \"#9c179e\"], [0.4444444444444444, \"#bd3786\"], [0.5555555555555556, \"#d8576b\"], [0.6666666666666666, \"#ed7953\"], [0.7777777777777778, \"#fb9f3a\"], [0.8888888888888888, \"#fdca26\"], [1.0, \"#f0f921\"]], \"type\": \"histogram2dcontour\"}], \"mesh3d\": [{\"colorbar\": {\"outlinewidth\": 0, \"ticks\": \"\"}, \"type\": \"mesh3d\"}], \"parcoords\": [{\"line\": {\"colorbar\": {\"outlinewidth\": 0, \"ticks\": \"\"}}, \"type\": \"parcoords\"}], \"pie\": [{\"automargin\": true, \"type\": \"pie\"}], \"scatter\": [{\"marker\": {\"colorbar\": {\"outlinewidth\": 0, \"ticks\": \"\"}}, \"type\": \"scatter\"}], \"scatter3d\": [{\"line\": {\"colorbar\": {\"outlinewidth\": 0, \"ticks\": \"\"}}, \"marker\": {\"colorbar\": {\"outlinewidth\": 0, \"ticks\": \"\"}}, \"type\": \"scatter3d\"}], \"scattercarpet\": [{\"marker\": {\"colorbar\": {\"outlinewidth\": 0, \"ticks\": \"\"}}, \"type\": \"scattercarpet\"}], \"scattergeo\": [{\"marker\": {\"colorbar\": {\"outlinewidth\": 0, \"ticks\": \"\"}}, \"type\": \"scattergeo\"}], \"scattergl\": [{\"marker\": {\"colorbar\": {\"outlinewidth\": 0, \"ticks\": \"\"}}, \"type\": \"scattergl\"}], \"scattermapbox\": [{\"marker\": {\"colorbar\": {\"outlinewidth\": 0, \"ticks\": \"\"}}, \"type\": \"scattermapbox\"}], \"scatterpolar\": [{\"marker\": {\"colorbar\": {\"outlinewidth\": 0, \"ticks\": \"\"}}, \"type\": \"scatterpolar\"}], \"scatterpolargl\": [{\"marker\": {\"colorbar\": {\"outlinewidth\": 0, \"ticks\": \"\"}}, \"type\": \"scatterpolargl\"}], \"scatterternary\": [{\"marker\": {\"colorbar\": {\"outlinewidth\": 0, \"ticks\": \"\"}}, \"type\": \"scatterternary\"}], \"surface\": [{\"colorbar\": {\"outlinewidth\": 0, \"ticks\": \"\"}, \"colorscale\": [[0.0, \"#0d0887\"], [0.1111111111111111, \"#46039f\"], [0.2222222222222222, \"#7201a8\"], [0.3333333333333333, \"#9c179e\"], [0.4444444444444444, \"#bd3786\"], [0.5555555555555556, \"#d8576b\"], [0.6666666666666666, \"#ed7953\"], [0.7777777777777778, \"#fb9f3a\"], [0.8888888888888888, \"#fdca26\"], [1.0, \"#f0f921\"]], \"type\": \"surface\"}], \"table\": [{\"cells\": {\"fill\": {\"color\": \"#EBF0F8\"}, \"line\": {\"color\": \"white\"}}, \"header\": {\"fill\": {\"color\": \"#C8D4E3\"}, \"line\": {\"color\": \"white\"}}, \"type\": \"table\"}]}, \"layout\": {\"annotationdefaults\": {\"arrowcolor\": \"#2a3f5f\", \"arrowhead\": 0, \"arrowwidth\": 1}, \"coloraxis\": {\"colorbar\": {\"outlinewidth\": 0, \"ticks\": \"\"}}, \"colorscale\": {\"diverging\": [[0, \"#8e0152\"], [0.1, \"#c51b7d\"], [0.2, \"#de77ae\"], [0.3, \"#f1b6da\"], [0.4, \"#fde0ef\"], [0.5, \"#f7f7f7\"], [0.6, \"#e6f5d0\"], [0.7, \"#b8e186\"], [0.8, \"#7fbc41\"], [0.9, \"#4d9221\"], [1, \"#276419\"]], \"sequential\": [[0.0, \"#0d0887\"], [0.1111111111111111, \"#46039f\"], [0.2222222222222222, \"#7201a8\"], [0.3333333333333333, \"#9c179e\"], [0.4444444444444444, \"#bd3786\"], [0.5555555555555556, \"#d8576b\"], [0.6666666666666666, \"#ed7953\"], [0.7777777777777778, \"#fb9f3a\"], [0.8888888888888888, \"#fdca26\"], [1.0, \"#f0f921\"]], \"sequentialminus\": [[0.0, \"#0d0887\"], [0.1111111111111111, \"#46039f\"], [0.2222222222222222, \"#7201a8\"], [0.3333333333333333, \"#9c179e\"], [0.4444444444444444, \"#bd3786\"], [0.5555555555555556, \"#d8576b\"], [0.6666666666666666, \"#ed7953\"], [0.7777777777777778, \"#fb9f3a\"], [0.8888888888888888, \"#fdca26\"], [1.0, \"#f0f921\"]]}, \"colorway\": [\"#636efa\", \"#EF553B\", \"#00cc96\", \"#ab63fa\", \"#FFA15A\", \"#19d3f3\", \"#FF6692\", \"#B6E880\", \"#FF97FF\", \"#FECB52\"], \"font\": {\"color\": \"#2a3f5f\"}, \"geo\": {\"bgcolor\": \"white\", \"lakecolor\": \"white\", \"landcolor\": \"#E5ECF6\", \"showlakes\": true, \"showland\": true, \"subunitcolor\": \"white\"}, \"hoverlabel\": {\"align\": \"left\"}, \"hovermode\": \"closest\", \"mapbox\": {\"style\": \"light\"}, \"paper_bgcolor\": \"white\", \"plot_bgcolor\": \"#E5ECF6\", \"polar\": {\"angularaxis\": {\"gridcolor\": \"white\", \"linecolor\": \"white\", \"ticks\": \"\"}, \"bgcolor\": \"#E5ECF6\", \"radialaxis\": {\"gridcolor\": \"white\", \"linecolor\": \"white\", \"ticks\": \"\"}}, \"scene\": {\"xaxis\": {\"backgroundcolor\": \"#E5ECF6\", \"gridcolor\": \"white\", \"gridwidth\": 2, \"linecolor\": \"white\", \"showbackground\": true, \"ticks\": \"\", \"zerolinecolor\": \"white\"}, \"yaxis\": {\"backgroundcolor\": \"#E5ECF6\", \"gridcolor\": \"white\", \"gridwidth\": 2, \"linecolor\": \"white\", \"showbackground\": true, \"ticks\": \"\", \"zerolinecolor\": \"white\"}, \"zaxis\": {\"backgroundcolor\": \"#E5ECF6\", \"gridcolor\": \"white\", \"gridwidth\": 2, \"linecolor\": \"white\", \"showbackground\": true, \"ticks\": \"\", \"zerolinecolor\": \"white\"}}, \"shapedefaults\": {\"line\": {\"color\": \"#2a3f5f\"}}, \"ternary\": {\"aaxis\": {\"gridcolor\": \"white\", \"linecolor\": \"white\", \"ticks\": \"\"}, \"baxis\": {\"gridcolor\": \"white\", \"linecolor\": \"white\", \"ticks\": \"\"}, \"bgcolor\": \"#E5ECF6\", \"caxis\": {\"gridcolor\": \"white\", \"linecolor\": \"white\", \"ticks\": \"\"}}, \"title\": {\"x\": 0.05}, \"xaxis\": {\"automargin\": true, \"gridcolor\": \"white\", \"linecolor\": \"white\", \"ticks\": \"\", \"title\": {\"standoff\": 15}, \"zerolinecolor\": \"white\", \"zerolinewidth\": 2}, \"yaxis\": {\"automargin\": true, \"gridcolor\": \"white\", \"linecolor\": \"white\", \"ticks\": \"\", \"title\": {\"standoff\": 15}, \"zerolinecolor\": \"white\", \"zerolinewidth\": 2}}}},                        {\"responsive\": true}                    ).then(function(){\n",
       "                            \n",
       "var gd = document.getElementById('8a6d8666-7553-426c-8cc3-3da4487568d5');\n",
       "var x = new MutationObserver(function (mutations, observer) {{\n",
       "        var display = window.getComputedStyle(gd).display;\n",
       "        if (!display || display === 'none') {{\n",
       "            console.log([gd, 'removed!']);\n",
       "            Plotly.purge(gd);\n",
       "            observer.disconnect();\n",
       "        }}\n",
       "}});\n",
       "\n",
       "// Listen for the removal of the full notebook cells\n",
       "var notebookContainer = gd.closest('#notebook-container');\n",
       "if (notebookContainer) {{\n",
       "    x.observe(notebookContainer, {childList: true});\n",
       "}}\n",
       "\n",
       "// Listen for the clearing of the current output cell\n",
       "var outputEl = gd.closest('.output');\n",
       "if (outputEl) {{\n",
       "    x.observe(outputEl, {childList: true});\n",
       "}}\n",
       "\n",
       "                        })                };                });            </script>        </div>"
      ]
     },
     "metadata": {},
     "output_type": "display_data"
    }
   ],
   "source": [
    "import plotly.express as px\n",
    "\n",
    "fig = px.choropleth(country_co2, locations=\"CountryCode\",\n",
    "                    color=\"totalco2\", \n",
    "                    hover_name=\"Country\", # column to add to hover information\n",
    "                    color_continuous_scale=px.colors.sequential.Plasma)\n",
    "fig.show()"
   ]
  },
  {
   "cell_type": "code",
   "execution_count": 340,
   "metadata": {},
   "outputs": [
    {
     "ename": "SyntaxError",
     "evalue": "invalid syntax (<ipython-input-340-5d371d5e1572>, line 1)",
     "output_type": "error",
     "traceback": [
      "\u001b[1;36m  File \u001b[1;32m\"<ipython-input-340-5d371d5e1572>\"\u001b[1;36m, line \u001b[1;32m1\u001b[0m\n\u001b[1;33m    from ../model/general-model-pipeline-vl.ipynb import function\u001b[0m\n\u001b[1;37m           ^\u001b[0m\n\u001b[1;31mSyntaxError\u001b[0m\u001b[1;31m:\u001b[0m invalid syntax\n"
     ]
    }
   ],
   "source": [
    "from  import function"
   ]
  },
  {
   "cell_type": "code",
   "execution_count": null,
   "metadata": {},
   "outputs": [],
   "source": []
  }
 ],
 "metadata": {
  "kernelspec": {
   "display_name": "Python 3",
   "language": "python",
   "name": "python3"
  },
  "language_info": {
   "codemirror_mode": {
    "name": "ipython",
    "version": 3
   },
   "file_extension": ".py",
   "mimetype": "text/x-python",
   "name": "python",
   "nbconvert_exporter": "python",
   "pygments_lexer": "ipython3",
   "version": "3.8.3"
  }
 },
 "nbformat": 4,
 "nbformat_minor": 4
}
