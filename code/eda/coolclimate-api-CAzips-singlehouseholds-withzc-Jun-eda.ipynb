{
 "cells": [
  {
   "cell_type": "code",
   "execution_count": 60,
   "metadata": {},
   "outputs": [],
   "source": [
    "import numpy as np\n",
    "import pandas as pd\n",
    "import matplotlib.pyplot as plt\n",
    "import seaborn as sns\n",
    "import re"
   ]
  },
  {
   "cell_type": "markdown",
   "metadata": {},
   "source": [
    "## Input Data Description\n",
    "1. The origins of your data. Where did you get the data? How were the data collected from the original sources?  \n",
    "2. The structure, granularity, scope, temporality and faithfulness (SGSTF) of your data. To discuss these attributes you should load the data into one or more data frames (so you'll start building code cells for the first time). At a minimum, use some basic methods (.head, .loc, and so on) to provide support for the descriptions you provide for SGSTF.\n",
    "\n",
    "This dataset was obtained from the CoolClimate API. The carbon footprint calculator is a tool created by the CoolClimate Network. This calculator allows households to calculate their total carbon footprints by inputting certain values into the calculator. Some of these group of inputs include:\n",
    "- number of adults/children in household\n",
    "- transportation\n",
    "- housing\n",
    "- shopping foods and goods\n",
    "\n",
    "We are trying to replicate this carbon footprint calculator for our final project. We are, however, planning to use less features. The \"input_footprint\" variables are the features the user inputs their values. Since we are also creating a calculator, we will be mostly focusing on the \"input_footprint\" variables as our features. Credentials were needed in order to access the api. We wrote code, using the app key given to us, to extract the data from the API. Below is the csv file we created after getting the data."
   ]
  },
  {
   "cell_type": "markdown",
   "metadata": {},
   "source": [
    "### Data Acquisition and EDA:Structure\n",
    "\n",
    "After extracting the data from the API, we turned the dataset into a csv file. Each entry is a household and its values for each corresponding variable. We convert this csv file into a pandas dataframe by doing pd.read_csv.\n",
    "\n",
    "Overall, we see there are 1290 rows and 337 column to explore. "
   ]
  },
  {
   "cell_type": "code",
   "execution_count": 62,
   "metadata": {},
   "outputs": [
    {
     "data": {
      "text/plain": [
       "(1290, 337)"
      ]
     },
     "execution_count": 62,
     "metadata": {},
     "output_type": "execute_result"
    }
   ],
   "source": [
    "coolClimate = pd.read_csv('../../data/coolclimate-api-CAzips-singlehouseholds-withzc.csv')\n",
    "coolClimate.head()\n",
    "coolClimate.shape\n",
    "\n"
   ]
  },
  {
   "cell_type": "code",
   "execution_count": 69,
   "metadata": {},
   "outputs": [
    {
     "data": {
      "text/html": [
       "<div>\n",
       "<style scoped>\n",
       "    .dataframe tbody tr th:only-of-type {\n",
       "        vertical-align: middle;\n",
       "    }\n",
       "\n",
       "    .dataframe tbody tr th {\n",
       "        vertical-align: top;\n",
       "    }\n",
       "\n",
       "    .dataframe thead th {\n",
       "        text-align: right;\n",
       "    }\n",
       "</style>\n",
       "<table border=\"1\" class=\"dataframe\">\n",
       "  <thead>\n",
       "    <tr style=\"text-align: right;\">\n",
       "      <th></th>\n",
       "      <th>Unnamed: 0</th>\n",
       "      <th>failed</th>\n",
       "      <th>error_code</th>\n",
       "      <th>input_location_mode</th>\n",
       "      <th>input_size</th>\n",
       "      <th>input_income</th>\n",
       "      <th>input_population</th>\n",
       "      <th>input_changed</th>\n",
       "      <th>input_footprint_household_adults</th>\n",
       "      <th>input_footprint_household_children</th>\n",
       "      <th>...</th>\n",
       "      <th>result_takeaction_low_carbon_diet_meatcal</th>\n",
       "      <th>result_takeaction_low_carbon_diet_dairycal</th>\n",
       "      <th>result_takeaction_low_carbon_diet_fvcal</th>\n",
       "      <th>result_takeaction_low_carbon_diet_cerealscal</th>\n",
       "      <th>result_takeaction_low_carbon_diet_othercal</th>\n",
       "      <th>result_takeaction_low_carbon_diet_totalcal</th>\n",
       "      <th>result_takeaction_offset_shopping_transtonsleft</th>\n",
       "      <th>result_takeaction_offset_shopping_transpledges</th>\n",
       "      <th>internal_vehiclemiles</th>\n",
       "      <th>Zip Code</th>\n",
       "    </tr>\n",
       "  </thead>\n",
       "  <tbody>\n",
       "    <tr>\n",
       "      <td>0</td>\n",
       "      <td>0</td>\n",
       "      <td>NaN</td>\n",
       "      <td>NaN</td>\n",
       "      <td>1.0</td>\n",
       "      <td>1.0</td>\n",
       "      <td>1.0</td>\n",
       "      <td>54587.0</td>\n",
       "      <td>0.0</td>\n",
       "      <td>1.0</td>\n",
       "      <td>0.0</td>\n",
       "      <td>...</td>\n",
       "      <td>244.35</td>\n",
       "      <td>185.9</td>\n",
       "      <td>487.8</td>\n",
       "      <td>970.05</td>\n",
       "      <td>331.2</td>\n",
       "      <td>2219.3</td>\n",
       "      <td>8.859825</td>\n",
       "      <td>0.0</td>\n",
       "      <td>8669.126912</td>\n",
       "      <td>90001.0</td>\n",
       "    </tr>\n",
       "    <tr>\n",
       "      <td>1</td>\n",
       "      <td>0</td>\n",
       "      <td>NaN</td>\n",
       "      <td>NaN</td>\n",
       "      <td>1.0</td>\n",
       "      <td>1.0</td>\n",
       "      <td>1.0</td>\n",
       "      <td>44342.0</td>\n",
       "      <td>0.0</td>\n",
       "      <td>1.0</td>\n",
       "      <td>0.0</td>\n",
       "      <td>...</td>\n",
       "      <td>244.35</td>\n",
       "      <td>185.9</td>\n",
       "      <td>487.8</td>\n",
       "      <td>970.05</td>\n",
       "      <td>331.2</td>\n",
       "      <td>2219.3</td>\n",
       "      <td>8.661071</td>\n",
       "      <td>0.0</td>\n",
       "      <td>8490.736995</td>\n",
       "      <td>90002.0</td>\n",
       "    </tr>\n",
       "    <tr>\n",
       "      <td>2</td>\n",
       "      <td>0</td>\n",
       "      <td>NaN</td>\n",
       "      <td>NaN</td>\n",
       "      <td>1.0</td>\n",
       "      <td>1.0</td>\n",
       "      <td>1.0</td>\n",
       "      <td>59003.0</td>\n",
       "      <td>0.0</td>\n",
       "      <td>1.0</td>\n",
       "      <td>0.0</td>\n",
       "      <td>...</td>\n",
       "      <td>244.35</td>\n",
       "      <td>185.9</td>\n",
       "      <td>487.8</td>\n",
       "      <td>970.05</td>\n",
       "      <td>331.2</td>\n",
       "      <td>2219.3</td>\n",
       "      <td>8.578153</td>\n",
       "      <td>0.0</td>\n",
       "      <td>7986.883857</td>\n",
       "      <td>90003.0</td>\n",
       "    </tr>\n",
       "    <tr>\n",
       "      <td>3</td>\n",
       "      <td>0</td>\n",
       "      <td>NaN</td>\n",
       "      <td>NaN</td>\n",
       "      <td>1.0</td>\n",
       "      <td>1.0</td>\n",
       "      <td>1.0</td>\n",
       "      <td>67859.0</td>\n",
       "      <td>0.0</td>\n",
       "      <td>1.0</td>\n",
       "      <td>0.0</td>\n",
       "      <td>...</td>\n",
       "      <td>244.35</td>\n",
       "      <td>185.9</td>\n",
       "      <td>487.8</td>\n",
       "      <td>970.05</td>\n",
       "      <td>331.2</td>\n",
       "      <td>2219.3</td>\n",
       "      <td>8.836064</td>\n",
       "      <td>0.0</td>\n",
       "      <td>7308.903795</td>\n",
       "      <td>90004.0</td>\n",
       "    </tr>\n",
       "    <tr>\n",
       "      <td>4</td>\n",
       "      <td>0</td>\n",
       "      <td>NaN</td>\n",
       "      <td>NaN</td>\n",
       "      <td>1.0</td>\n",
       "      <td>1.0</td>\n",
       "      <td>1.0</td>\n",
       "      <td>43032.0</td>\n",
       "      <td>0.0</td>\n",
       "      <td>1.0</td>\n",
       "      <td>0.0</td>\n",
       "      <td>...</td>\n",
       "      <td>244.35</td>\n",
       "      <td>185.9</td>\n",
       "      <td>487.8</td>\n",
       "      <td>970.05</td>\n",
       "      <td>331.2</td>\n",
       "      <td>2219.3</td>\n",
       "      <td>8.206639</td>\n",
       "      <td>0.0</td>\n",
       "      <td>6013.991938</td>\n",
       "      <td>90005.0</td>\n",
       "    </tr>\n",
       "  </tbody>\n",
       "</table>\n",
       "<p>5 rows × 337 columns</p>\n",
       "</div>"
      ],
      "text/plain": [
       "   Unnamed: 0  failed  error_code  input_location_mode  input_size  \\\n",
       "0           0     NaN         NaN                  1.0         1.0   \n",
       "1           0     NaN         NaN                  1.0         1.0   \n",
       "2           0     NaN         NaN                  1.0         1.0   \n",
       "3           0     NaN         NaN                  1.0         1.0   \n",
       "4           0     NaN         NaN                  1.0         1.0   \n",
       "\n",
       "   input_income  input_population  input_changed  \\\n",
       "0           1.0           54587.0            0.0   \n",
       "1           1.0           44342.0            0.0   \n",
       "2           1.0           59003.0            0.0   \n",
       "3           1.0           67859.0            0.0   \n",
       "4           1.0           43032.0            0.0   \n",
       "\n",
       "   input_footprint_household_adults  input_footprint_household_children  ...  \\\n",
       "0                               1.0                                 0.0  ...   \n",
       "1                               1.0                                 0.0  ...   \n",
       "2                               1.0                                 0.0  ...   \n",
       "3                               1.0                                 0.0  ...   \n",
       "4                               1.0                                 0.0  ...   \n",
       "\n",
       "   result_takeaction_low_carbon_diet_meatcal  \\\n",
       "0                                     244.35   \n",
       "1                                     244.35   \n",
       "2                                     244.35   \n",
       "3                                     244.35   \n",
       "4                                     244.35   \n",
       "\n",
       "   result_takeaction_low_carbon_diet_dairycal  \\\n",
       "0                                       185.9   \n",
       "1                                       185.9   \n",
       "2                                       185.9   \n",
       "3                                       185.9   \n",
       "4                                       185.9   \n",
       "\n",
       "   result_takeaction_low_carbon_diet_fvcal  \\\n",
       "0                                    487.8   \n",
       "1                                    487.8   \n",
       "2                                    487.8   \n",
       "3                                    487.8   \n",
       "4                                    487.8   \n",
       "\n",
       "   result_takeaction_low_carbon_diet_cerealscal  \\\n",
       "0                                        970.05   \n",
       "1                                        970.05   \n",
       "2                                        970.05   \n",
       "3                                        970.05   \n",
       "4                                        970.05   \n",
       "\n",
       "   result_takeaction_low_carbon_diet_othercal  \\\n",
       "0                                       331.2   \n",
       "1                                       331.2   \n",
       "2                                       331.2   \n",
       "3                                       331.2   \n",
       "4                                       331.2   \n",
       "\n",
       "   result_takeaction_low_carbon_diet_totalcal  \\\n",
       "0                                      2219.3   \n",
       "1                                      2219.3   \n",
       "2                                      2219.3   \n",
       "3                                      2219.3   \n",
       "4                                      2219.3   \n",
       "\n",
       "   result_takeaction_offset_shopping_transtonsleft  \\\n",
       "0                                         8.859825   \n",
       "1                                         8.661071   \n",
       "2                                         8.578153   \n",
       "3                                         8.836064   \n",
       "4                                         8.206639   \n",
       "\n",
       "   result_takeaction_offset_shopping_transpledges  internal_vehiclemiles  \\\n",
       "0                                             0.0            8669.126912   \n",
       "1                                             0.0            8490.736995   \n",
       "2                                             0.0            7986.883857   \n",
       "3                                             0.0            7308.903795   \n",
       "4                                             0.0            6013.991938   \n",
       "\n",
       "   Zip Code  \n",
       "0   90001.0  \n",
       "1   90002.0  \n",
       "2   90003.0  \n",
       "3   90004.0  \n",
       "4   90005.0  \n",
       "\n",
       "[5 rows x 337 columns]"
      ]
     },
     "execution_count": 69,
     "metadata": {},
     "output_type": "execute_result"
    }
   ],
   "source": [
    "coolClimate.head()"
   ]
  },
  {
   "cell_type": "markdown",
   "metadata": {},
   "source": [
    "<h1> EDA: Granularity/Temporality/Scope </h1>\n",
    "\n",
    "In terms of the granularity, each row of data represents a household's **estimated** carbon emissions. Each household has its own values in each column.  \n",
    "\n",
    "The scope of this dataset is all the Zip Codes in California. \n",
    "\n",
    "Below is the list of all the Zip Codes each household is located in. Out of those 1290 entries, 1018 of them are unique zip codes."
   ]
  },
  {
   "cell_type": "code",
   "execution_count": 78,
   "metadata": {
    "scrolled": false
   },
   "outputs": [
    {
     "data": {
      "text/plain": [
       "0       90001.0\n",
       "1       90002.0\n",
       "2       90003.0\n",
       "3       90004.0\n",
       "4       90005.0\n",
       "         ...   \n",
       "1285    96052.0\n",
       "1286    96054.0\n",
       "1287    96055.0\n",
       "1288    96056.0\n",
       "1289    96057.0\n",
       "Name: Zip Code, Length: 1290, dtype: float64"
      ]
     },
     "execution_count": 78,
     "metadata": {},
     "output_type": "execute_result"
    }
   ],
   "source": [
    "coolClimate['Zip Code']"
   ]
  },
  {
   "cell_type": "code",
   "execution_count": 80,
   "metadata": {},
   "outputs": [
    {
     "data": {
      "text/plain": [
       "1018"
      ]
     },
     "execution_count": 80,
     "metadata": {},
     "output_type": "execute_result"
    }
   ],
   "source": [
    "len(coolClimate['Zip Code'].unique())"
   ]
  },
  {
   "cell_type": "markdown",
   "metadata": {},
   "source": [
    "---\n",
    "\n",
    "## Data Cleaning\n",
    "\n",
    "First, I dropped the columns: \"Unnamed: 0\", \"failed\", and \"error_code\". Those columns had a buch of NaN and 0 values and were not useful overall for modelling."
   ]
  },
  {
   "cell_type": "code",
   "execution_count": 18,
   "metadata": {},
   "outputs": [],
   "source": [
    "coolClimate = coolClimate.drop(columns=['Unnamed: 0', 'failed', 'error_code'])\n"
   ]
  },
  {
   "cell_type": "code",
   "execution_count": 41,
   "metadata": {},
   "outputs": [],
   "source": [
    "result_grand_total = coolClimate['result_grand_total']"
   ]
  },
  {
   "cell_type": "code",
   "execution_count": 36,
   "metadata": {},
   "outputs": [],
   "source": [
    "coolClimate = coolClimate.drop(columns=[col for col in coolClimate.columns if re.findall('result_', col) or \n",
    "                         re.findall('input_takeaction', col)])\n",
    "coolClimate['result_grand_total'] = result_grand_total"
   ]
  },
  {
   "cell_type": "code",
   "execution_count": 42,
   "metadata": {
    "scrolled": false
   },
   "outputs": [
    {
     "data": {
      "text/html": [
       "<div>\n",
       "<style scoped>\n",
       "    .dataframe tbody tr th:only-of-type {\n",
       "        vertical-align: middle;\n",
       "    }\n",
       "\n",
       "    .dataframe tbody tr th {\n",
       "        vertical-align: top;\n",
       "    }\n",
       "\n",
       "    .dataframe thead th {\n",
       "        text-align: right;\n",
       "    }\n",
       "</style>\n",
       "<table border=\"1\" class=\"dataframe\">\n",
       "  <thead>\n",
       "    <tr style=\"text-align: right;\">\n",
       "      <th></th>\n",
       "      <th>input_location_mode</th>\n",
       "      <th>input_size</th>\n",
       "      <th>input_income</th>\n",
       "      <th>input_population</th>\n",
       "      <th>input_changed</th>\n",
       "      <th>input_footprint_household_adults</th>\n",
       "      <th>input_footprint_household_children</th>\n",
       "      <th>input_footprint_transportation_num_vehicles</th>\n",
       "      <th>input_footprint_transportation_miles1</th>\n",
       "      <th>input_footprint_transportation_mpg1</th>\n",
       "      <th>...</th>\n",
       "      <th>input_footprint_shopping_services_education</th>\n",
       "      <th>input_footprint_shopping_services_communications</th>\n",
       "      <th>input_footprint_shopping_services_vehicleservices</th>\n",
       "      <th>input_footprint_shopping_services_finance</th>\n",
       "      <th>input_footprint_shopping_services_household</th>\n",
       "      <th>input_footprint_shopping_services_charity</th>\n",
       "      <th>input_footprint_shopping_services_miscservices</th>\n",
       "      <th>internal_vehiclemiles</th>\n",
       "      <th>Zip Code</th>\n",
       "      <th>result_grand_total</th>\n",
       "    </tr>\n",
       "  </thead>\n",
       "  <tbody>\n",
       "    <tr>\n",
       "      <td>0</td>\n",
       "      <td>1.0</td>\n",
       "      <td>1.0</td>\n",
       "      <td>1.0</td>\n",
       "      <td>54587.0</td>\n",
       "      <td>0.0</td>\n",
       "      <td>1.0</td>\n",
       "      <td>0.0</td>\n",
       "      <td>1.0</td>\n",
       "      <td>8700.0</td>\n",
       "      <td>22.0</td>\n",
       "      <td>...</td>\n",
       "      <td>55.002939</td>\n",
       "      <td>68.914804</td>\n",
       "      <td>79.794340</td>\n",
       "      <td>198.158342</td>\n",
       "      <td>7.374938</td>\n",
       "      <td>30.289815</td>\n",
       "      <td>45.744402</td>\n",
       "      <td>8669.126912</td>\n",
       "      <td>90001.0</td>\n",
       "      <td>18.998752</td>\n",
       "    </tr>\n",
       "    <tr>\n",
       "      <td>1</td>\n",
       "      <td>1.0</td>\n",
       "      <td>1.0</td>\n",
       "      <td>1.0</td>\n",
       "      <td>44342.0</td>\n",
       "      <td>0.0</td>\n",
       "      <td>1.0</td>\n",
       "      <td>0.0</td>\n",
       "      <td>1.0</td>\n",
       "      <td>8500.0</td>\n",
       "      <td>22.0</td>\n",
       "      <td>...</td>\n",
       "      <td>51.436731</td>\n",
       "      <td>66.737767</td>\n",
       "      <td>77.481503</td>\n",
       "      <td>188.724388</td>\n",
       "      <td>7.386024</td>\n",
       "      <td>31.860650</td>\n",
       "      <td>44.979533</td>\n",
       "      <td>8490.736995</td>\n",
       "      <td>90002.0</td>\n",
       "      <td>18.960587</td>\n",
       "    </tr>\n",
       "    <tr>\n",
       "      <td>2</td>\n",
       "      <td>1.0</td>\n",
       "      <td>1.0</td>\n",
       "      <td>1.0</td>\n",
       "      <td>59003.0</td>\n",
       "      <td>0.0</td>\n",
       "      <td>1.0</td>\n",
       "      <td>0.0</td>\n",
       "      <td>1.0</td>\n",
       "      <td>8000.0</td>\n",
       "      <td>22.0</td>\n",
       "      <td>...</td>\n",
       "      <td>49.867708</td>\n",
       "      <td>65.743193</td>\n",
       "      <td>76.508415</td>\n",
       "      <td>184.598783</td>\n",
       "      <td>7.423321</td>\n",
       "      <td>32.901728</td>\n",
       "      <td>44.728756</td>\n",
       "      <td>7986.883857</td>\n",
       "      <td>90003.0</td>\n",
       "      <td>18.488686</td>\n",
       "    </tr>\n",
       "    <tr>\n",
       "      <td>3</td>\n",
       "      <td>1.0</td>\n",
       "      <td>1.0</td>\n",
       "      <td>1.0</td>\n",
       "      <td>67859.0</td>\n",
       "      <td>0.0</td>\n",
       "      <td>1.0</td>\n",
       "      <td>0.0</td>\n",
       "      <td>1.0</td>\n",
       "      <td>7300.0</td>\n",
       "      <td>22.0</td>\n",
       "      <td>...</td>\n",
       "      <td>45.315034</td>\n",
       "      <td>58.737260</td>\n",
       "      <td>78.593248</td>\n",
       "      <td>175.379798</td>\n",
       "      <td>11.111460</td>\n",
       "      <td>74.548311</td>\n",
       "      <td>53.466896</td>\n",
       "      <td>7308.903795</td>\n",
       "      <td>90004.0</td>\n",
       "      <td>18.001409</td>\n",
       "    </tr>\n",
       "    <tr>\n",
       "      <td>4</td>\n",
       "      <td>1.0</td>\n",
       "      <td>1.0</td>\n",
       "      <td>1.0</td>\n",
       "      <td>43032.0</td>\n",
       "      <td>0.0</td>\n",
       "      <td>1.0</td>\n",
       "      <td>0.0</td>\n",
       "      <td>1.0</td>\n",
       "      <td>6000.0</td>\n",
       "      <td>22.0</td>\n",
       "      <td>...</td>\n",
       "      <td>37.588628</td>\n",
       "      <td>55.664159</td>\n",
       "      <td>71.624654</td>\n",
       "      <td>153.844125</td>\n",
       "      <td>9.707643</td>\n",
       "      <td>62.545779</td>\n",
       "      <td>48.034396</td>\n",
       "      <td>6013.991938</td>\n",
       "      <td>90005.0</td>\n",
       "      <td>16.311888</td>\n",
       "    </tr>\n",
       "  </tbody>\n",
       "</table>\n",
       "<p>5 rows × 117 columns</p>\n",
       "</div>"
      ],
      "text/plain": [
       "   input_location_mode  input_size  input_income  input_population  \\\n",
       "0                  1.0         1.0           1.0           54587.0   \n",
       "1                  1.0         1.0           1.0           44342.0   \n",
       "2                  1.0         1.0           1.0           59003.0   \n",
       "3                  1.0         1.0           1.0           67859.0   \n",
       "4                  1.0         1.0           1.0           43032.0   \n",
       "\n",
       "   input_changed  input_footprint_household_adults  \\\n",
       "0            0.0                               1.0   \n",
       "1            0.0                               1.0   \n",
       "2            0.0                               1.0   \n",
       "3            0.0                               1.0   \n",
       "4            0.0                               1.0   \n",
       "\n",
       "   input_footprint_household_children  \\\n",
       "0                                 0.0   \n",
       "1                                 0.0   \n",
       "2                                 0.0   \n",
       "3                                 0.0   \n",
       "4                                 0.0   \n",
       "\n",
       "   input_footprint_transportation_num_vehicles  \\\n",
       "0                                          1.0   \n",
       "1                                          1.0   \n",
       "2                                          1.0   \n",
       "3                                          1.0   \n",
       "4                                          1.0   \n",
       "\n",
       "   input_footprint_transportation_miles1  input_footprint_transportation_mpg1  \\\n",
       "0                                 8700.0                                 22.0   \n",
       "1                                 8500.0                                 22.0   \n",
       "2                                 8000.0                                 22.0   \n",
       "3                                 7300.0                                 22.0   \n",
       "4                                 6000.0                                 22.0   \n",
       "\n",
       "   ...  input_footprint_shopping_services_education  \\\n",
       "0  ...                                    55.002939   \n",
       "1  ...                                    51.436731   \n",
       "2  ...                                    49.867708   \n",
       "3  ...                                    45.315034   \n",
       "4  ...                                    37.588628   \n",
       "\n",
       "   input_footprint_shopping_services_communications  \\\n",
       "0                                         68.914804   \n",
       "1                                         66.737767   \n",
       "2                                         65.743193   \n",
       "3                                         58.737260   \n",
       "4                                         55.664159   \n",
       "\n",
       "   input_footprint_shopping_services_vehicleservices  \\\n",
       "0                                          79.794340   \n",
       "1                                          77.481503   \n",
       "2                                          76.508415   \n",
       "3                                          78.593248   \n",
       "4                                          71.624654   \n",
       "\n",
       "   input_footprint_shopping_services_finance  \\\n",
       "0                                 198.158342   \n",
       "1                                 188.724388   \n",
       "2                                 184.598783   \n",
       "3                                 175.379798   \n",
       "4                                 153.844125   \n",
       "\n",
       "   input_footprint_shopping_services_household  \\\n",
       "0                                     7.374938   \n",
       "1                                     7.386024   \n",
       "2                                     7.423321   \n",
       "3                                    11.111460   \n",
       "4                                     9.707643   \n",
       "\n",
       "   input_footprint_shopping_services_charity  \\\n",
       "0                                  30.289815   \n",
       "1                                  31.860650   \n",
       "2                                  32.901728   \n",
       "3                                  74.548311   \n",
       "4                                  62.545779   \n",
       "\n",
       "   input_footprint_shopping_services_miscservices  internal_vehiclemiles  \\\n",
       "0                                       45.744402            8669.126912   \n",
       "1                                       44.979533            8490.736995   \n",
       "2                                       44.728756            7986.883857   \n",
       "3                                       53.466896            7308.903795   \n",
       "4                                       48.034396            6013.991938   \n",
       "\n",
       "   Zip Code  result_grand_total  \n",
       "0   90001.0           18.998752  \n",
       "1   90002.0           18.960587  \n",
       "2   90003.0           18.488686  \n",
       "3   90004.0           18.001409  \n",
       "4   90005.0           16.311888  \n",
       "\n",
       "[5 rows x 117 columns]"
      ]
     },
     "execution_count": 42,
     "metadata": {},
     "output_type": "execute_result"
    }
   ],
   "source": [
    "coolClimate.head()"
   ]
  },
  {
   "cell_type": "markdown",
   "metadata": {},
   "source": [
    "<h1> Visualizations </h1>"
   ]
  },
  {
   "cell_type": "markdown",
   "metadata": {},
   "source": [
    "Below are some interesting visualizations we created that show immediate relationships in the data. Below we have plotted:\n",
    "- The relationship between input_footprint_shopping_services_household and the result_grand_total\n",
    "- "
   ]
  },
  {
   "cell_type": "code",
   "execution_count": 47,
   "metadata": {},
   "outputs": [
    {
     "data": {
      "text/plain": [
       "Index(['input_location_mode', 'input_size', 'input_income', 'input_population',\n",
       "       'input_changed', 'input_footprint_household_adults',\n",
       "       'input_footprint_household_children',\n",
       "       'input_footprint_transportation_num_vehicles',\n",
       "       'input_footprint_transportation_miles1',\n",
       "       'input_footprint_transportation_mpg1',\n",
       "       ...\n",
       "       'input_footprint_shopping_services_education',\n",
       "       'input_footprint_shopping_services_communications',\n",
       "       'input_footprint_shopping_services_vehicleservices',\n",
       "       'input_footprint_shopping_services_finance',\n",
       "       'input_footprint_shopping_services_household',\n",
       "       'input_footprint_shopping_services_charity',\n",
       "       'input_footprint_shopping_services_miscservices',\n",
       "       'internal_vehiclemiles', 'Zip Code', 'result_grand_total'],\n",
       "      dtype='object', length=117)"
      ]
     },
     "execution_count": 47,
     "metadata": {},
     "output_type": "execute_result"
    }
   ],
   "source": [
    "coolClimate.columns"
   ]
  },
  {
   "cell_type": "code",
   "execution_count": 45,
   "metadata": {
    "scrolled": true
   },
   "outputs": [
    {
     "data": {
      "image/png": "[encoded data removed]",
      "text/plain": [
       "<Figure size 432x288 with 1 Axes>"
      ]
     },
     "metadata": {
      "needs_background": "light"
     },
     "output_type": "display_data"
    }
   ],
   "source": [
    "X = coolClimate['input_footprint_shopping_services_household']\n",
    "y = coolClimate['result_grand_total']\n",
    "plt.scatter(X,y)\n",
    "plt.xlabel(\"Shopping Services Household\")\n",
    "plt.ylabel(\"The total  \")\n",
    "plt.title('')\n",
    "plt.show()"
   ]
  },
  {
   "cell_type": "code",
   "execution_count": 50,
   "metadata": {
    "scrolled": true
   },
   "outputs": [
    {
     "data": {
      "image/png": "[encoded data removed]",
      "text/plain": [
       "<Figure size 432x288 with 1 Axes>"
      ]
     },
     "metadata": {
      "needs_background": "light"
     },
     "output_type": "display_data"
    }
   ],
   "source": [
    "X = coolClimate['input_footprint_transportation_miles1']\n",
    "y = coolClimate['result_grand_total']\n",
    "plt.scatter(X,y)\n",
    "plt.xlabel(\"Shopping Services Household\")\n",
    "plt.ylabel(\"The total  \")\n",
    "plt.title('')\n",
    "plt.show()"
   ]
  },
  {
   "cell_type": "code",
   "execution_count": 59,
   "metadata": {},
   "outputs": [
    {
     "data": {
      "image/png": "[encoded data removed]",
      "text/plain": [
       "<Figure size 432x288 with 1 Axes>"
      ]
     },
     "metadata": {
      "needs_background": "light"
     },
     "output_type": "display_data"
    }
   ],
   "source": [
    "X = coolClimate['input_footprint_transportation_miles1']\n",
    "y = coolClimate['result_grand_total']\n",
    "plt.scatter(X,y)\n",
    "plt.xlabel(\"Shopping Services Household\")\n",
    "plt.ylabel(\"The total  \")\n",
    "plt.title('')\n",
    "plt.show()"
   ]
  },
  {
   "cell_type": "code",
   "execution_count": 52,
   "metadata": {},
   "outputs": [
    {
     "data": {
      "image/png": "[encoded data removed]",
      "text/plain": [
       "<Figure size 432x288 with 1 Axes>"
      ]
     },
     "metadata": {
      "needs_background": "light"
     },
     "output_type": "display_data"
    }
   ],
   "source": [
    "X = coolClimate['input_footprint_housing_electricity_dollars']\n",
    "y = coolClimate['result_grand_total']\n",
    "plt.scatter(X,y)\n",
    "plt.xlabel(\"Shopping Services Household\")\n",
    "plt.ylabel(\"The total  \")\n",
    "plt.title('')\n",
    "plt.show()"
   ]
  },
  {
   "cell_type": "code",
   "execution_count": 56,
   "metadata": {},
   "outputs": [
    {
     "data": {
      "image/png": "[encoded data removed]",
      "text/plain": [
       "<Figure size 432x288 with 1 Axes>"
      ]
     },
     "metadata": {
      "needs_background": "light"
     },
     "output_type": "display_data"
    }
   ],
   "source": [
    "X = coolClimate['input_footprint_shopping_goods_clothing']\n",
    "y = coolClimate['result_grand_total']\n",
    "plt.scatter(X,y)\n",
    "plt.xlabel(\"Shopping Services Household\")\n",
    "plt.ylabel(\"The total  \")\n",
    "plt.title('')\n",
    "plt.show()"
   ]
  },
  {
   "cell_type": "code",
   "execution_count": 57,
   "metadata": {},
   "outputs": [
    {
     "data": {
      "image/png": "[encoded data removed]",
      "text/plain": [
       "<Figure size 432x288 with 1 Axes>"
      ]
     },
     "metadata": {
      "needs_background": "light"
     },
     "output_type": "display_data"
    }
   ],
   "source": [
    "X = coolClimate['input_footprint_shopping_services_total']\n",
    "y = coolClimate['result_grand_total']\n",
    "plt.scatter(X,y)\n",
    "plt.xlabel(\"Shopping Services Household\")\n",
    "plt.ylabel(\"The total  \")\n",
    "plt.title('')\n",
    "plt.show()"
   ]
  },
  {
   "cell_type": "code",
   "execution_count": null,
   "metadata": {},
   "outputs": [],
   "source": []
  }
 ],
 "metadata": {
  "kernelspec": {
   "display_name": "Python 3",
   "language": "python",
   "name": "python3"
  },
  "language_info": {
   "codemirror_mode": {
    "name": "ipython",
    "version": 3
   },
   "file_extension": ".py",
   "mimetype": "text/x-python",
   "name": "python",
   "nbconvert_exporter": "python",
   "pygments_lexer": "ipython3",
   "version": "3.7.4"
  }
 },
 "nbformat": 4,
 "nbformat_minor": 2
}
