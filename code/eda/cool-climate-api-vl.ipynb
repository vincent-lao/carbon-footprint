{
 "cells": [
  {
   "cell_type": "code",
   "execution_count": 50,
   "metadata": {},
   "outputs": [],
   "source": [
    "import numpy as np\n",
    "import pandas as pd\n",
    "import requests\n",
    "import io\n",
    "import re"
   ]
  },
  {
   "cell_type": "code",
   "execution_count": 23,
   "metadata": {},
   "outputs": [],
   "source": [
    "app_id = '--redacted--'\n",
    "app_key = '--redacted--'\n",
    "response = requests.get('https://apis.berkeley.edu/coolclimate/footprint-defaults?input_location_mode=1&input_location=94704&input_income=1&input_size=0',  \n",
    "                        auth=(app_id, app_key))"
   ]
  },
  {
   "cell_type": "code",
   "execution_count": 4,
   "metadata": {},
   "outputs": [
    {
     "data": {
      "text/plain": [
       "200"
      ]
     },
     "execution_count": 4,
     "metadata": {},
     "output_type": "execute_result"
    }
   ],
   "source": [
    "response.status_code"
   ]
  },
  {
   "cell_type": "code",
   "execution_count": 88,
   "metadata": {},
   "outputs": [],
   "source": [
    "# response.content "
   ]
  },
  {
   "cell_type": "code",
   "execution_count": 87,
   "metadata": {},
   "outputs": [
    {
     "data": {
      "text/html": [
       "<div>\n",
       "<style scoped>\n",
       "    .dataframe tbody tr th:only-of-type {\n",
       "        vertical-align: middle;\n",
       "    }\n",
       "\n",
       "    .dataframe tbody tr th {\n",
       "        vertical-align: top;\n",
       "    }\n",
       "\n",
       "    .dataframe thead th {\n",
       "        text-align: right;\n",
       "    }\n",
       "</style>\n",
       "<table border=\"1\" class=\"dataframe\">\n",
       "  <thead>\n",
       "    <tr style=\"text-align: right;\">\n",
       "      <th></th>\n",
       "      <th>input_location</th>\n",
       "      <th>input_location_mode</th>\n",
       "      <th>input_size</th>\n",
       "      <th>input_income</th>\n",
       "      <th>input_population</th>\n",
       "      <th>input_changed</th>\n",
       "      <th>input_footprint_household_adults</th>\n",
       "      <th>input_footprint_household_children</th>\n",
       "      <th>input_footprint_transportation_num_vehicles</th>\n",
       "      <th>input_footprint_transportation_miles1</th>\n",
       "      <th>...</th>\n",
       "      <th>result_takeaction_offset_housing_transpledges</th>\n",
       "      <th>result_takeaction_low_carbon_diet_meatcal</th>\n",
       "      <th>result_takeaction_low_carbon_diet_dairycal</th>\n",
       "      <th>result_takeaction_low_carbon_diet_fvcal</th>\n",
       "      <th>result_takeaction_low_carbon_diet_cerealscal</th>\n",
       "      <th>result_takeaction_low_carbon_diet_othercal</th>\n",
       "      <th>result_takeaction_low_carbon_diet_totalcal</th>\n",
       "      <th>result_takeaction_offset_shopping_transtonsleft</th>\n",
       "      <th>result_takeaction_offset_shopping_transpledges</th>\n",
       "      <th>internal_vehiclemiles</th>\n",
       "    </tr>\n",
       "  </thead>\n",
       "  <tbody>\n",
       "    <tr>\n",
       "      <th>0</th>\n",
       "      <td>94704.0</td>\n",
       "      <td>1.0</td>\n",
       "      <td>0.0</td>\n",
       "      <td>1.0</td>\n",
       "      <td>21471.0</td>\n",
       "      <td>0.0</td>\n",
       "      <td>2.5</td>\n",
       "      <td>0.0</td>\n",
       "      <td>2.0</td>\n",
       "      <td>5500.0</td>\n",
       "      <td>...</td>\n",
       "      <td>0.0</td>\n",
       "      <td>244.35</td>\n",
       "      <td>185.9</td>\n",
       "      <td>487.8</td>\n",
       "      <td>970.05</td>\n",
       "      <td>331.2</td>\n",
       "      <td>2219.3</td>\n",
       "      <td>15.105541</td>\n",
       "      <td>0.0</td>\n",
       "      <td>9926.21</td>\n",
       "    </tr>\n",
       "  </tbody>\n",
       "</table>\n",
       "<p>1 rows × 334 columns</p>\n",
       "</div>"
      ],
      "text/plain": [
       "   input_location  input_location_mode  input_size  input_income  \\\n",
       "0         94704.0                  1.0         0.0           1.0   \n",
       "\n",
       "   input_population  input_changed  input_footprint_household_adults  \\\n",
       "0           21471.0            0.0                               2.5   \n",
       "\n",
       "   input_footprint_household_children  \\\n",
       "0                                 0.0   \n",
       "\n",
       "   input_footprint_transportation_num_vehicles  \\\n",
       "0                                          2.0   \n",
       "\n",
       "   input_footprint_transportation_miles1  ...  \\\n",
       "0                                 5500.0  ...   \n",
       "\n",
       "   result_takeaction_offset_housing_transpledges  \\\n",
       "0                                            0.0   \n",
       "\n",
       "   result_takeaction_low_carbon_diet_meatcal  \\\n",
       "0                                     244.35   \n",
       "\n",
       "   result_takeaction_low_carbon_diet_dairycal  \\\n",
       "0                                       185.9   \n",
       "\n",
       "   result_takeaction_low_carbon_diet_fvcal  \\\n",
       "0                                    487.8   \n",
       "\n",
       "   result_takeaction_low_carbon_diet_cerealscal  \\\n",
       "0                                        970.05   \n",
       "\n",
       "   result_takeaction_low_carbon_diet_othercal  \\\n",
       "0                                       331.2   \n",
       "\n",
       "   result_takeaction_low_carbon_diet_totalcal  \\\n",
       "0                                      2219.3   \n",
       "\n",
       "   result_takeaction_offset_shopping_transtonsleft  \\\n",
       "0                                        15.105541   \n",
       "\n",
       "   result_takeaction_offset_shopping_transpledges  internal_vehiclemiles  \n",
       "0                                             0.0                9926.21  \n",
       "\n",
       "[1 rows x 334 columns]"
      ]
     },
     "execution_count": 87,
     "metadata": {},
     "output_type": "execute_result"
    }
   ],
   "source": [
    "xml_data = response.content.decode('utf-8')\n",
    "parsed_data = np.array(re.findall(r'<(\\w+)\\b>(\\d+\\.*\\d*)<\\/\\1>', xml_data))\n",
    "\n",
    "features = parsed_data[:, 0]\n",
    "numbers = np.array(parsed_data[:, 1], dtype=float)\n",
    "numbers = numbers.reshape((1, numbers.shape[0]))\n",
    "\n",
    "df = pd.DataFrame(numbers, columns=features)\n",
    "df.head()"
   ]
  },
  {
   "cell_type": "code",
   "execution_count": null,
   "metadata": {},
   "outputs": [],
   "source": []
  }
 ],
 "metadata": {
  "kernelspec": {
   "display_name": "Python 3",
   "language": "python",
   "name": "python3"
  },
  "language_info": {
   "codemirror_mode": {
    "name": "ipython",
    "version": 3
   },
   "file_extension": ".py",
   "mimetype": "text/x-python",
   "name": "python",
   "nbconvert_exporter": "python",
   "pygments_lexer": "ipython3",
   "version": "3.8.3"
  }
 },
 "nbformat": 4,
 "nbformat_minor": 4
}
