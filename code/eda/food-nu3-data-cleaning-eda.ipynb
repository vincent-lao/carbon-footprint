{
 "cells": [
  {
   "cell_type": "code",
   "execution_count": 12,
   "metadata": {},
   "outputs": [],
   "source": [
    "import numpy as np\n",
    "import pandas as pd\n",
    "import matplotlib.pyplot as plt\n",
    "import seaborn as sns\n",
    "import re"
   ]
  },
  {
   "cell_type": "markdown",
   "metadata": {},
   "source": [
    "## Input Data Description\n",
    "1. The origins of your data. Where did you get the data? How were the data collected from the original sources?  \n",
    "2. The structure, granularity, scope, temporality and faithfulness (SGSTF) of your data. To discuss these attributes you should load the data into one or more data frames (so you'll start building code cells for the first time). At a minimum, use some basic methods (.head, .loc, and so on) to provide support for the descriptions you provide for SGSTF."
   ]
  },
  {
   "cell_type": "markdown",
   "metadata": {},
   "source": [
    "This dataset is from [nu3](https://www.nu3.de/blogs/nutrition/food-carbon-footprint-index-2018), a German online personal wellness and grocery store that performed some research to look at the CO2 emissions per person for 130 nations worldwide. Their study utilized 2018 data from the Food and Agriculture Organization of the United Nations (FAO) that described the amount of food supply for consumption by food item and nation. They also used the following assumptions as the estimated CO2 emissions per kilogram for each food type in 2018:\n",
    "\n",
    "- Pork = 3.54 kg\n",
    "- Poultry= 1.07 kg\n",
    "- Beef = 30.86 kg\n",
    "- Lamb & Goat = 35.02 kg\n",
    "- Fish = 1.60 kg\n",
    "- Eggs = 0.92 kg\n",
    "- Milk – including cheese = 1.42 kg\n",
    "- Wheat & Wheat Products = 0.19 kg\n",
    "- Rice = 1.28 kg\n",
    "- Soybeans = 0.45 kg\n",
    "- Nuts – including Peanut Butter = 1.77 kg"
   ]
  },
  {
   "cell_type": "markdown",
   "metadata": {},
   "source": [
    "### Data Acquisition and SGSTF\n",
    "\n",
    "First, we grab the raw html from the website, and clean up the data to put it in a readable format."
   ]
  },
  {
   "cell_type": "code",
   "execution_count": 13,
   "metadata": {
    "scrolled": true
   },
   "outputs": [
    {
     "data": {
      "text/html": [
       "<div>\n",
       "<style scoped>\n",
       "    .dataframe tbody tr th:only-of-type {\n",
       "        vertical-align: middle;\n",
       "    }\n",
       "\n",
       "    .dataframe tbody tr th {\n",
       "        vertical-align: top;\n",
       "    }\n",
       "\n",
       "    .dataframe thead th {\n",
       "        text-align: right;\n",
       "    }\n",
       "</style>\n",
       "<table border=\"1\" class=\"dataframe\">\n",
       "  <thead>\n",
       "    <tr style=\"text-align: right;\">\n",
       "      <th></th>\n",
       "      <th>#</th>\n",
       "      <th>Country</th>\n",
       "      <th>porksupply</th>\n",
       "      <th>porkco2</th>\n",
       "      <th>chickensupply</th>\n",
       "      <th>chickenco2</th>\n",
       "      <th>beefsupply</th>\n",
       "      <th>beefco2</th>\n",
       "      <th>lambsupply</th>\n",
       "      <th>lambco2</th>\n",
       "      <th>...</th>\n",
       "      <th>wheatprodsupply</th>\n",
       "      <th>wheatprodco2</th>\n",
       "      <th>ricesupply</th>\n",
       "      <th>riceco2</th>\n",
       "      <th>soybeansupply</th>\n",
       "      <th>soybeanco2</th>\n",
       "      <th>nutssupply</th>\n",
       "      <th>nutsco2</th>\n",
       "      <th>totalnonanimalco2</th>\n",
       "      <th>difftotalco2</th>\n",
       "    </tr>\n",
       "  </thead>\n",
       "  <tbody>\n",
       "    <tr>\n",
       "      <th>0</th>\n",
       "      <td>1</td>\n",
       "      <td>Argentina</td>\n",
       "      <td>10.51</td>\n",
       "      <td>37.20</td>\n",
       "      <td>38.66</td>\n",
       "      <td>41.53</td>\n",
       "      <td>55.48</td>\n",
       "      <td>1712.00</td>\n",
       "      <td>1.56</td>\n",
       "      <td>54.63</td>\n",
       "      <td>...</td>\n",
       "      <td>103.11</td>\n",
       "      <td>19.66</td>\n",
       "      <td>8.77</td>\n",
       "      <td>11.22</td>\n",
       "      <td>0.00</td>\n",
       "      <td>0.00</td>\n",
       "      <td>0.49</td>\n",
       "      <td>0.87</td>\n",
       "      <td>31.75</td>\n",
       "      <td>2108.90</td>\n",
       "    </tr>\n",
       "    <tr>\n",
       "      <th>1</th>\n",
       "      <td>2</td>\n",
       "      <td>Australia</td>\n",
       "      <td>24.14</td>\n",
       "      <td>85.44</td>\n",
       "      <td>46.12</td>\n",
       "      <td>49.54</td>\n",
       "      <td>33.86</td>\n",
       "      <td>1044.85</td>\n",
       "      <td>9.87</td>\n",
       "      <td>345.65</td>\n",
       "      <td>...</td>\n",
       "      <td>70.46</td>\n",
       "      <td>13.44</td>\n",
       "      <td>11.03</td>\n",
       "      <td>14.12</td>\n",
       "      <td>0.19</td>\n",
       "      <td>0.09</td>\n",
       "      <td>8.73</td>\n",
       "      <td>15.45</td>\n",
       "      <td>43.09</td>\n",
       "      <td>1852.46</td>\n",
       "    </tr>\n",
       "    <tr>\n",
       "      <th>2</th>\n",
       "      <td>3</td>\n",
       "      <td>Albania</td>\n",
       "      <td>10.88</td>\n",
       "      <td>38.51</td>\n",
       "      <td>13.23</td>\n",
       "      <td>14.21</td>\n",
       "      <td>22.50</td>\n",
       "      <td>694.30</td>\n",
       "      <td>15.32</td>\n",
       "      <td>536.50</td>\n",
       "      <td>...</td>\n",
       "      <td>138.64</td>\n",
       "      <td>26.44</td>\n",
       "      <td>7.78</td>\n",
       "      <td>9.96</td>\n",
       "      <td>0.00</td>\n",
       "      <td>0.00</td>\n",
       "      <td>4.36</td>\n",
       "      <td>7.72</td>\n",
       "      <td>44.11</td>\n",
       "      <td>1689.62</td>\n",
       "    </tr>\n",
       "    <tr>\n",
       "      <th>3</th>\n",
       "      <td>4</td>\n",
       "      <td>Iceland</td>\n",
       "      <td>21.69</td>\n",
       "      <td>76.77</td>\n",
       "      <td>26.87</td>\n",
       "      <td>28.86</td>\n",
       "      <td>13.36</td>\n",
       "      <td>412.26</td>\n",
       "      <td>21.12</td>\n",
       "      <td>739.62</td>\n",
       "      <td>...</td>\n",
       "      <td>72.92</td>\n",
       "      <td>13.91</td>\n",
       "      <td>3.89</td>\n",
       "      <td>4.98</td>\n",
       "      <td>0.11</td>\n",
       "      <td>0.05</td>\n",
       "      <td>3.88</td>\n",
       "      <td>6.87</td>\n",
       "      <td>25.80</td>\n",
       "      <td>1679.75</td>\n",
       "    </tr>\n",
       "    <tr>\n",
       "      <th>4</th>\n",
       "      <td>5</td>\n",
       "      <td>New Zealand</td>\n",
       "      <td>22.29</td>\n",
       "      <td>78.90</td>\n",
       "      <td>34.98</td>\n",
       "      <td>37.58</td>\n",
       "      <td>22.49</td>\n",
       "      <td>693.99</td>\n",
       "      <td>18.91</td>\n",
       "      <td>662.23</td>\n",
       "      <td>...</td>\n",
       "      <td>76.91</td>\n",
       "      <td>14.67</td>\n",
       "      <td>9.16</td>\n",
       "      <td>11.72</td>\n",
       "      <td>0.44</td>\n",
       "      <td>0.20</td>\n",
       "      <td>8.22</td>\n",
       "      <td>14.55</td>\n",
       "      <td>41.14</td>\n",
       "      <td>1668.67</td>\n",
       "    </tr>\n",
       "  </tbody>\n",
       "</table>\n",
       "<p>5 rows × 27 columns</p>\n",
       "</div>"
      ],
      "text/plain": [
       "   #      Country  porksupply  porkco2  chickensupply  chickenco2  beefsupply  \\\n",
       "0  1    Argentina       10.51    37.20          38.66       41.53       55.48   \n",
       "1  2    Australia       24.14    85.44          46.12       49.54       33.86   \n",
       "2  3      Albania       10.88    38.51          13.23       14.21       22.50   \n",
       "3  4      Iceland       21.69    76.77          26.87       28.86       13.36   \n",
       "4  5  New Zealand       22.29    78.90          34.98       37.58       22.49   \n",
       "\n",
       "   beefco2  lambsupply  lambco2  ...  wheatprodsupply  wheatprodco2  \\\n",
       "0  1712.00        1.56    54.63  ...           103.11         19.66   \n",
       "1  1044.85        9.87   345.65  ...            70.46         13.44   \n",
       "2   694.30       15.32   536.50  ...           138.64         26.44   \n",
       "3   412.26       21.12   739.62  ...            72.92         13.91   \n",
       "4   693.99       18.91   662.23  ...            76.91         14.67   \n",
       "\n",
       "   ricesupply  riceco2  soybeansupply  soybeanco2  nutssupply  nutsco2  \\\n",
       "0        8.77    11.22           0.00        0.00        0.49     0.87   \n",
       "1       11.03    14.12           0.19        0.09        8.73    15.45   \n",
       "2        7.78     9.96           0.00        0.00        4.36     7.72   \n",
       "3        3.89     4.98           0.11        0.05        3.88     6.87   \n",
       "4        9.16    11.72           0.44        0.20        8.22    14.55   \n",
       "\n",
       "   totalnonanimalco2  difftotalco2  \n",
       "0              31.75       2108.90  \n",
       "1              43.09       1852.46  \n",
       "2              44.11       1689.62  \n",
       "3              25.80       1679.75  \n",
       "4              41.14       1668.67  \n",
       "\n",
       "[5 rows x 27 columns]"
      ]
     },
     "execution_count": 13,
     "metadata": {},
     "output_type": "execute_result"
    }
   ],
   "source": [
    "# https://www.nu3.de/blogs/nutrition/food-carbon-footprint-index-2018\n",
    "food = pd.read_html(\"https://www.nu3.de/blogs/nutrition/food-carbon-footprint-index-2018\")[0]\n",
    "food = food.droplevel([0,1], axis=1)\n",
    "columns = ['#', 'Country', 'porksupply', 'porkco2', 'chickensupply', 'chickenco2', 'beefsupply', 'beefco2', 'lambsupply', 'lambco2', \n",
    "           'fishsupply', 'fishco2', 'eggsupply', 'eggco2', 'milkcheesesupply', 'milkcheeseco2', 'totalanimalco2', \n",
    "           'wheatprodsupply', 'wheatprodco2', 'ricesupply', 'riceco2', 'soybeansupply', 'soybeanco2', \n",
    "           'nutssupply', 'nutsco2', 'totalnonanimalco2', 'difftotalco2']\n",
    "\n",
    "food.rename(columns=dict(zip(food.columns, columns)), inplace=True)\n",
    "food.head()"
   ]
  },
  {
   "cell_type": "markdown",
   "metadata": {},
   "source": [
    "**`Structure:`**  \n",
    "The data came from html hosted on the `nu3` website, but was also held in a tabular format so it was easy to transfer it into a Jupyter notebook. \n",
    "\n",
    "**`Granularity:`**  \n",
    "Each row in the raw dataset represents a country and its supply of each food in kilograms per person per year. Other information contained in each row include the conversion of that food supply into kilograms of carbon dioxide emissions per person per year. All rows are at the same granularity, but there are columns summarizing the carbon dioxide values of each record.\n",
    "\n",
    "The spatial granularity is by country.  There are 130 countries included in total. The granularity in food groups is limited to common foods that people eat that are significant carbon dioxide emitters, such as meats, dairy, eggs, grains, soybeans, and nuts.\n",
    "\n",
    "**`Scope:`**  \n",
    "The data helps relate an average person's diet in a given country to their carbon footprint emissions. If we let each record represent a real life person with a particular diet, this can be useful data to help us understand how our own diet contributes to our carbon emissions. The scope is a good fit for the prediction problem.\n",
    "\n",
    "**`Temporality:`**  \n",
    "The data was collected in 2018, and used carbon emission estimates of each food by kilogram from 2017.\n",
    "\n",
    "**`Faithfulness:`**  \n",
    "The data originated from FAO, which is a reliable source. There are no missing values in this dataset, so cleaning will be fairly straightforward, and we are not concerned about faithfulness."
   ]
  },
  {
   "cell_type": "code",
   "execution_count": 3,
   "metadata": {},
   "outputs": [
    {
     "data": {
      "text/plain": [
       "(130, 27)"
      ]
     },
     "execution_count": 3,
     "metadata": {},
     "output_type": "execute_result"
    }
   ],
   "source": [
    "# 130 different countries\n",
    "food.shape"
   ]
  },
  {
   "cell_type": "markdown",
   "metadata": {},
   "source": [
    "---\n",
    "\n",
    "## Data Cleaning\n",
    "\n",
    "First, I constructed the Y variable, Total Kilograms CO2 Emissions / person / year, as it wasn't present in the original dataset, but we had the individual totals of animal products and non-animal products. Then, we can remove the other total columns, since we don't need them anymore."
   ]
  },
  {
   "cell_type": "code",
   "execution_count": 4,
   "metadata": {},
   "outputs": [
    {
     "data": {
      "text/html": [
       "<div>\n",
       "<style scoped>\n",
       "    .dataframe tbody tr th:only-of-type {\n",
       "        vertical-align: middle;\n",
       "    }\n",
       "\n",
       "    .dataframe tbody tr th {\n",
       "        vertical-align: top;\n",
       "    }\n",
       "\n",
       "    .dataframe thead th {\n",
       "        text-align: right;\n",
       "    }\n",
       "</style>\n",
       "<table border=\"1\" class=\"dataframe\">\n",
       "  <thead>\n",
       "    <tr style=\"text-align: right;\">\n",
       "      <th></th>\n",
       "      <th>Country</th>\n",
       "      <th>porksupply</th>\n",
       "      <th>porkco2</th>\n",
       "      <th>chickensupply</th>\n",
       "      <th>chickenco2</th>\n",
       "      <th>beefsupply</th>\n",
       "      <th>beefco2</th>\n",
       "      <th>lambsupply</th>\n",
       "      <th>lambco2</th>\n",
       "      <th>fishsupply</th>\n",
       "      <th>...</th>\n",
       "      <th>milkcheeseco2</th>\n",
       "      <th>wheatprodsupply</th>\n",
       "      <th>wheatprodco2</th>\n",
       "      <th>ricesupply</th>\n",
       "      <th>riceco2</th>\n",
       "      <th>soybeansupply</th>\n",
       "      <th>soybeanco2</th>\n",
       "      <th>nutssupply</th>\n",
       "      <th>nutsco2</th>\n",
       "      <th>totalco2</th>\n",
       "    </tr>\n",
       "  </thead>\n",
       "  <tbody>\n",
       "    <tr>\n",
       "      <th>0</th>\n",
       "      <td>Argentina</td>\n",
       "      <td>10.51</td>\n",
       "      <td>37.20</td>\n",
       "      <td>38.66</td>\n",
       "      <td>41.53</td>\n",
       "      <td>55.48</td>\n",
       "      <td>1712.00</td>\n",
       "      <td>1.56</td>\n",
       "      <td>54.63</td>\n",
       "      <td>4.36</td>\n",
       "      <td>...</td>\n",
       "      <td>277.87</td>\n",
       "      <td>103.11</td>\n",
       "      <td>19.66</td>\n",
       "      <td>8.77</td>\n",
       "      <td>11.22</td>\n",
       "      <td>0.00</td>\n",
       "      <td>0.00</td>\n",
       "      <td>0.49</td>\n",
       "      <td>0.87</td>\n",
       "      <td>2172.40</td>\n",
       "    </tr>\n",
       "    <tr>\n",
       "      <th>1</th>\n",
       "      <td>Australia</td>\n",
       "      <td>24.14</td>\n",
       "      <td>85.44</td>\n",
       "      <td>46.12</td>\n",
       "      <td>49.54</td>\n",
       "      <td>33.86</td>\n",
       "      <td>1044.85</td>\n",
       "      <td>9.87</td>\n",
       "      <td>345.65</td>\n",
       "      <td>17.69</td>\n",
       "      <td>...</td>\n",
       "      <td>334.01</td>\n",
       "      <td>70.46</td>\n",
       "      <td>13.44</td>\n",
       "      <td>11.03</td>\n",
       "      <td>14.12</td>\n",
       "      <td>0.19</td>\n",
       "      <td>0.09</td>\n",
       "      <td>8.73</td>\n",
       "      <td>15.45</td>\n",
       "      <td>1938.64</td>\n",
       "    </tr>\n",
       "    <tr>\n",
       "      <th>2</th>\n",
       "      <td>Albania</td>\n",
       "      <td>10.88</td>\n",
       "      <td>38.51</td>\n",
       "      <td>13.23</td>\n",
       "      <td>14.21</td>\n",
       "      <td>22.50</td>\n",
       "      <td>694.30</td>\n",
       "      <td>15.32</td>\n",
       "      <td>536.50</td>\n",
       "      <td>3.85</td>\n",
       "      <td>...</td>\n",
       "      <td>432.62</td>\n",
       "      <td>138.64</td>\n",
       "      <td>26.44</td>\n",
       "      <td>7.78</td>\n",
       "      <td>9.96</td>\n",
       "      <td>0.00</td>\n",
       "      <td>0.00</td>\n",
       "      <td>4.36</td>\n",
       "      <td>7.72</td>\n",
       "      <td>1777.84</td>\n",
       "    </tr>\n",
       "    <tr>\n",
       "      <th>3</th>\n",
       "      <td>Iceland</td>\n",
       "      <td>21.69</td>\n",
       "      <td>76.77</td>\n",
       "      <td>26.87</td>\n",
       "      <td>28.86</td>\n",
       "      <td>13.36</td>\n",
       "      <td>412.26</td>\n",
       "      <td>21.12</td>\n",
       "      <td>739.62</td>\n",
       "      <td>74.41</td>\n",
       "      <td>...</td>\n",
       "      <td>321.66</td>\n",
       "      <td>72.92</td>\n",
       "      <td>13.91</td>\n",
       "      <td>3.89</td>\n",
       "      <td>4.98</td>\n",
       "      <td>0.11</td>\n",
       "      <td>0.05</td>\n",
       "      <td>3.88</td>\n",
       "      <td>6.87</td>\n",
       "      <td>1731.35</td>\n",
       "    </tr>\n",
       "    <tr>\n",
       "      <th>4</th>\n",
       "      <td>New Zealand</td>\n",
       "      <td>22.29</td>\n",
       "      <td>78.90</td>\n",
       "      <td>34.98</td>\n",
       "      <td>37.58</td>\n",
       "      <td>22.49</td>\n",
       "      <td>693.99</td>\n",
       "      <td>18.91</td>\n",
       "      <td>662.23</td>\n",
       "      <td>20.36</td>\n",
       "      <td>...</td>\n",
       "      <td>195.50</td>\n",
       "      <td>76.91</td>\n",
       "      <td>14.67</td>\n",
       "      <td>9.16</td>\n",
       "      <td>11.72</td>\n",
       "      <td>0.44</td>\n",
       "      <td>0.20</td>\n",
       "      <td>8.22</td>\n",
       "      <td>14.55</td>\n",
       "      <td>1750.94</td>\n",
       "    </tr>\n",
       "  </tbody>\n",
       "</table>\n",
       "<p>5 rows × 24 columns</p>\n",
       "</div>"
      ],
      "text/plain": [
       "       Country  porksupply  porkco2  chickensupply  chickenco2  beefsupply  \\\n",
       "0    Argentina       10.51    37.20          38.66       41.53       55.48   \n",
       "1    Australia       24.14    85.44          46.12       49.54       33.86   \n",
       "2      Albania       10.88    38.51          13.23       14.21       22.50   \n",
       "3      Iceland       21.69    76.77          26.87       28.86       13.36   \n",
       "4  New Zealand       22.29    78.90          34.98       37.58       22.49   \n",
       "\n",
       "   beefco2  lambsupply  lambco2  fishsupply  ...  milkcheeseco2  \\\n",
       "0  1712.00        1.56    54.63        4.36  ...         277.87   \n",
       "1  1044.85        9.87   345.65       17.69  ...         334.01   \n",
       "2   694.30       15.32   536.50        3.85  ...         432.62   \n",
       "3   412.26       21.12   739.62       74.41  ...         321.66   \n",
       "4   693.99       18.91   662.23       20.36  ...         195.50   \n",
       "\n",
       "   wheatprodsupply  wheatprodco2  ricesupply  riceco2  soybeansupply  \\\n",
       "0           103.11         19.66        8.77    11.22           0.00   \n",
       "1            70.46         13.44       11.03    14.12           0.19   \n",
       "2           138.64         26.44        7.78     9.96           0.00   \n",
       "3            72.92         13.91        3.89     4.98           0.11   \n",
       "4            76.91         14.67        9.16    11.72           0.44   \n",
       "\n",
       "   soybeanco2  nutssupply  nutsco2  totalco2  \n",
       "0        0.00        0.49     0.87   2172.40  \n",
       "1        0.09        8.73    15.45   1938.64  \n",
       "2        0.00        4.36     7.72   1777.84  \n",
       "3        0.05        3.88     6.87   1731.35  \n",
       "4        0.20        8.22    14.55   1750.94  \n",
       "\n",
       "[5 rows x 24 columns]"
      ]
     },
     "execution_count": 4,
     "metadata": {},
     "output_type": "execute_result"
    }
   ],
   "source": [
    "food['totalco2'] = food['totalanimalco2'] + food['totalnonanimalco2']\n",
    "food.drop(columns=['#', 'totalanimalco2', 'totalnonanimalco2', 'difftotalco2'], inplace=True)\n",
    "food.head()"
   ]
  },
  {
   "cell_type": "markdown",
   "metadata": {},
   "source": [
    "Then, I decided to separate the data into the CO2 columns and the Food Supply columns. This is because our Y variable is fully described by the other CO2 columns, so using them in our model would lead to a trivial problem to solve."
   ]
  },
  {
   "cell_type": "code",
   "execution_count": 5,
   "metadata": {},
   "outputs": [
    {
     "data": {
      "text/plain": [
       "['porksupply',\n",
       " 'chickensupply',\n",
       " 'beefsupply',\n",
       " 'lambsupply',\n",
       " 'fishsupply',\n",
       " 'eggsupply',\n",
       " 'milkcheesesupply',\n",
       " 'wheatprodsupply',\n",
       " 'ricesupply',\n",
       " 'soybeansupply',\n",
       " 'nutssupply']"
      ]
     },
     "execution_count": 5,
     "metadata": {},
     "output_type": "execute_result"
    }
   ],
   "source": [
    "[col for col in food.columns if re.findall('supply', col)]"
   ]
  },
  {
   "cell_type": "code",
   "execution_count": 6,
   "metadata": {
    "scrolled": false
   },
   "outputs": [
    {
     "data": {
      "text/html": [
       "<div>\n",
       "<style scoped>\n",
       "    .dataframe tbody tr th:only-of-type {\n",
       "        vertical-align: middle;\n",
       "    }\n",
       "\n",
       "    .dataframe tbody tr th {\n",
       "        vertical-align: top;\n",
       "    }\n",
       "\n",
       "    .dataframe thead th {\n",
       "        text-align: right;\n",
       "    }\n",
       "</style>\n",
       "<table border=\"1\" class=\"dataframe\">\n",
       "  <thead>\n",
       "    <tr style=\"text-align: right;\">\n",
       "      <th></th>\n",
       "      <th>Country</th>\n",
       "      <th>porkco2</th>\n",
       "      <th>chickenco2</th>\n",
       "      <th>beefco2</th>\n",
       "      <th>lambco2</th>\n",
       "      <th>fishco2</th>\n",
       "      <th>eggco2</th>\n",
       "      <th>milkcheeseco2</th>\n",
       "      <th>wheatprodco2</th>\n",
       "      <th>riceco2</th>\n",
       "      <th>soybeanco2</th>\n",
       "      <th>nutsco2</th>\n",
       "      <th>totalco2</th>\n",
       "    </tr>\n",
       "  </thead>\n",
       "  <tbody>\n",
       "    <tr>\n",
       "      <th>0</th>\n",
       "      <td>Argentina</td>\n",
       "      <td>37.20</td>\n",
       "      <td>41.53</td>\n",
       "      <td>1712.00</td>\n",
       "      <td>54.63</td>\n",
       "      <td>6.96</td>\n",
       "      <td>10.46</td>\n",
       "      <td>277.87</td>\n",
       "      <td>19.66</td>\n",
       "      <td>11.22</td>\n",
       "      <td>0.00</td>\n",
       "      <td>0.87</td>\n",
       "      <td>2172.40</td>\n",
       "    </tr>\n",
       "    <tr>\n",
       "      <th>1</th>\n",
       "      <td>Australia</td>\n",
       "      <td>85.44</td>\n",
       "      <td>49.54</td>\n",
       "      <td>1044.85</td>\n",
       "      <td>345.65</td>\n",
       "      <td>28.25</td>\n",
       "      <td>7.82</td>\n",
       "      <td>334.01</td>\n",
       "      <td>13.44</td>\n",
       "      <td>14.12</td>\n",
       "      <td>0.09</td>\n",
       "      <td>15.45</td>\n",
       "      <td>1938.64</td>\n",
       "    </tr>\n",
       "    <tr>\n",
       "      <th>2</th>\n",
       "      <td>Albania</td>\n",
       "      <td>38.51</td>\n",
       "      <td>14.21</td>\n",
       "      <td>694.30</td>\n",
       "      <td>536.50</td>\n",
       "      <td>6.15</td>\n",
       "      <td>11.44</td>\n",
       "      <td>432.62</td>\n",
       "      <td>26.44</td>\n",
       "      <td>9.96</td>\n",
       "      <td>0.00</td>\n",
       "      <td>7.72</td>\n",
       "      <td>1777.84</td>\n",
       "    </tr>\n",
       "    <tr>\n",
       "      <th>3</th>\n",
       "      <td>Iceland</td>\n",
       "      <td>76.77</td>\n",
       "      <td>28.86</td>\n",
       "      <td>412.26</td>\n",
       "      <td>739.62</td>\n",
       "      <td>118.81</td>\n",
       "      <td>7.57</td>\n",
       "      <td>321.66</td>\n",
       "      <td>13.91</td>\n",
       "      <td>4.98</td>\n",
       "      <td>0.05</td>\n",
       "      <td>6.87</td>\n",
       "      <td>1731.35</td>\n",
       "    </tr>\n",
       "    <tr>\n",
       "      <th>4</th>\n",
       "      <td>New Zealand</td>\n",
       "      <td>78.90</td>\n",
       "      <td>37.58</td>\n",
       "      <td>693.99</td>\n",
       "      <td>662.23</td>\n",
       "      <td>32.51</td>\n",
       "      <td>9.10</td>\n",
       "      <td>195.50</td>\n",
       "      <td>14.67</td>\n",
       "      <td>11.72</td>\n",
       "      <td>0.20</td>\n",
       "      <td>14.55</td>\n",
       "      <td>1750.94</td>\n",
       "    </tr>\n",
       "  </tbody>\n",
       "</table>\n",
       "</div>"
      ],
      "text/plain": [
       "       Country  porkco2  chickenco2  beefco2  lambco2  fishco2  eggco2  \\\n",
       "0    Argentina    37.20       41.53  1712.00    54.63     6.96   10.46   \n",
       "1    Australia    85.44       49.54  1044.85   345.65    28.25    7.82   \n",
       "2      Albania    38.51       14.21   694.30   536.50     6.15   11.44   \n",
       "3      Iceland    76.77       28.86   412.26   739.62   118.81    7.57   \n",
       "4  New Zealand    78.90       37.58   693.99   662.23    32.51    9.10   \n",
       "\n",
       "   milkcheeseco2  wheatprodco2  riceco2  soybeanco2  nutsco2  totalco2  \n",
       "0         277.87         19.66    11.22        0.00     0.87   2172.40  \n",
       "1         334.01         13.44    14.12        0.09    15.45   1938.64  \n",
       "2         432.62         26.44     9.96        0.00     7.72   1777.84  \n",
       "3         321.66         13.91     4.98        0.05     6.87   1731.35  \n",
       "4         195.50         14.67    11.72        0.20    14.55   1750.94  "
      ]
     },
     "execution_count": 6,
     "metadata": {},
     "output_type": "execute_result"
    }
   ],
   "source": [
    "food_co2 = food.drop(columns=[col for col in food.columns if re.findall('supply', col)])\n",
    "food_co2.head()"
   ]
  },
  {
   "cell_type": "code",
   "execution_count": 7,
   "metadata": {
    "scrolled": true
   },
   "outputs": [
    {
     "data": {
      "text/plain": [
       "['porkco2',\n",
       " 'chickenco2',\n",
       " 'beefco2',\n",
       " 'lambco2',\n",
       " 'fishco2',\n",
       " 'eggco2',\n",
       " 'milkcheeseco2',\n",
       " 'wheatprodco2',\n",
       " 'riceco2',\n",
       " 'soybeanco2',\n",
       " 'nutsco2']"
      ]
     },
     "execution_count": 7,
     "metadata": {},
     "output_type": "execute_result"
    }
   ],
   "source": [
    "[col for col in food.columns if re.findall('co2', col)][:-1]"
   ]
  },
  {
   "cell_type": "code",
   "execution_count": 8,
   "metadata": {
    "scrolled": true
   },
   "outputs": [
    {
     "data": {
      "text/html": [
       "<div>\n",
       "<style scoped>\n",
       "    .dataframe tbody tr th:only-of-type {\n",
       "        vertical-align: middle;\n",
       "    }\n",
       "\n",
       "    .dataframe tbody tr th {\n",
       "        vertical-align: top;\n",
       "    }\n",
       "\n",
       "    .dataframe thead th {\n",
       "        text-align: right;\n",
       "    }\n",
       "</style>\n",
       "<table border=\"1\" class=\"dataframe\">\n",
       "  <thead>\n",
       "    <tr style=\"text-align: right;\">\n",
       "      <th></th>\n",
       "      <th>Country</th>\n",
       "      <th>porksupply</th>\n",
       "      <th>chickensupply</th>\n",
       "      <th>beefsupply</th>\n",
       "      <th>lambsupply</th>\n",
       "      <th>fishsupply</th>\n",
       "      <th>eggsupply</th>\n",
       "      <th>milkcheesesupply</th>\n",
       "      <th>wheatprodsupply</th>\n",
       "      <th>ricesupply</th>\n",
       "      <th>soybeansupply</th>\n",
       "      <th>nutssupply</th>\n",
       "      <th>totalco2</th>\n",
       "    </tr>\n",
       "  </thead>\n",
       "  <tbody>\n",
       "    <tr>\n",
       "      <th>0</th>\n",
       "      <td>Argentina</td>\n",
       "      <td>10.51</td>\n",
       "      <td>38.66</td>\n",
       "      <td>55.48</td>\n",
       "      <td>1.56</td>\n",
       "      <td>4.36</td>\n",
       "      <td>11.39</td>\n",
       "      <td>195.08</td>\n",
       "      <td>103.11</td>\n",
       "      <td>8.77</td>\n",
       "      <td>0.00</td>\n",
       "      <td>0.49</td>\n",
       "      <td>2172.40</td>\n",
       "    </tr>\n",
       "    <tr>\n",
       "      <th>1</th>\n",
       "      <td>Australia</td>\n",
       "      <td>24.14</td>\n",
       "      <td>46.12</td>\n",
       "      <td>33.86</td>\n",
       "      <td>9.87</td>\n",
       "      <td>17.69</td>\n",
       "      <td>8.51</td>\n",
       "      <td>234.49</td>\n",
       "      <td>70.46</td>\n",
       "      <td>11.03</td>\n",
       "      <td>0.19</td>\n",
       "      <td>8.73</td>\n",
       "      <td>1938.64</td>\n",
       "    </tr>\n",
       "    <tr>\n",
       "      <th>2</th>\n",
       "      <td>Albania</td>\n",
       "      <td>10.88</td>\n",
       "      <td>13.23</td>\n",
       "      <td>22.50</td>\n",
       "      <td>15.32</td>\n",
       "      <td>3.85</td>\n",
       "      <td>12.45</td>\n",
       "      <td>303.72</td>\n",
       "      <td>138.64</td>\n",
       "      <td>7.78</td>\n",
       "      <td>0.00</td>\n",
       "      <td>4.36</td>\n",
       "      <td>1777.84</td>\n",
       "    </tr>\n",
       "    <tr>\n",
       "      <th>3</th>\n",
       "      <td>Iceland</td>\n",
       "      <td>21.69</td>\n",
       "      <td>26.87</td>\n",
       "      <td>13.36</td>\n",
       "      <td>21.12</td>\n",
       "      <td>74.41</td>\n",
       "      <td>8.24</td>\n",
       "      <td>225.82</td>\n",
       "      <td>72.92</td>\n",
       "      <td>3.89</td>\n",
       "      <td>0.11</td>\n",
       "      <td>3.88</td>\n",
       "      <td>1731.35</td>\n",
       "    </tr>\n",
       "    <tr>\n",
       "      <th>4</th>\n",
       "      <td>New Zealand</td>\n",
       "      <td>22.29</td>\n",
       "      <td>34.98</td>\n",
       "      <td>22.49</td>\n",
       "      <td>18.91</td>\n",
       "      <td>20.36</td>\n",
       "      <td>9.91</td>\n",
       "      <td>137.25</td>\n",
       "      <td>76.91</td>\n",
       "      <td>9.16</td>\n",
       "      <td>0.44</td>\n",
       "      <td>8.22</td>\n",
       "      <td>1750.94</td>\n",
       "    </tr>\n",
       "  </tbody>\n",
       "</table>\n",
       "</div>"
      ],
      "text/plain": [
       "       Country  porksupply  chickensupply  beefsupply  lambsupply  fishsupply  \\\n",
       "0    Argentina       10.51          38.66       55.48        1.56        4.36   \n",
       "1    Australia       24.14          46.12       33.86        9.87       17.69   \n",
       "2      Albania       10.88          13.23       22.50       15.32        3.85   \n",
       "3      Iceland       21.69          26.87       13.36       21.12       74.41   \n",
       "4  New Zealand       22.29          34.98       22.49       18.91       20.36   \n",
       "\n",
       "   eggsupply  milkcheesesupply  wheatprodsupply  ricesupply  soybeansupply  \\\n",
       "0      11.39            195.08           103.11        8.77           0.00   \n",
       "1       8.51            234.49            70.46       11.03           0.19   \n",
       "2      12.45            303.72           138.64        7.78           0.00   \n",
       "3       8.24            225.82            72.92        3.89           0.11   \n",
       "4       9.91            137.25            76.91        9.16           0.44   \n",
       "\n",
       "   nutssupply  totalco2  \n",
       "0        0.49   2172.40  \n",
       "1        8.73   1938.64  \n",
       "2        4.36   1777.84  \n",
       "3        3.88   1731.35  \n",
       "4        8.22   1750.94  "
      ]
     },
     "execution_count": 8,
     "metadata": {},
     "output_type": "execute_result"
    }
   ],
   "source": [
    "food_supply = food.drop(columns=[col for col in food.columns if re.findall('co2', col)][:-1])\n",
    "food_supply.head()"
   ]
  },
  {
   "cell_type": "code",
   "execution_count": 9,
   "metadata": {},
   "outputs": [
    {
     "data": {
      "text/plain": [
       "0.029999999999972715"
      ]
     },
     "execution_count": 9,
     "metadata": {},
     "output_type": "execute_result"
    }
   ],
   "source": [
    "# check that the totalco2 is roughly the sum of the co2 columns by looking at the largest difference between the two\n",
    "max(food_co2.loc[:, food_co2.columns[1:-1]].values.sum(axis=1) - food_co2['totalco2'].values)"
   ]
  },
  {
   "cell_type": "markdown",
   "metadata": {},
   "source": [
    "### Motivation for conversion of data to percentages:\n",
    "We converted the supply columns to percentages so that it is more comparable to an individual's diet. People tend to have a *better grasp of the relative amounts of each food group they eat rather than the raw amount*, which is what the data was before cleaning. That way, our model can take inputs of the percent of each food group an individual consumes on an annual basis, and relate that directly to `totalco2`."
   ]
  },
  {
   "cell_type": "code",
   "execution_count": 10,
   "metadata": {},
   "outputs": [
    {
     "data": {
      "text/plain": [
       "Index(['porksupply', 'chickensupply', 'beefsupply', 'lambsupply', 'fishsupply',\n",
       "       'eggsupply', 'milkcheesesupply', 'wheatprodsupply', 'ricesupply',\n",
       "       'soybeansupply'],\n",
       "      dtype='object')"
      ]
     },
     "execution_count": 10,
     "metadata": {},
     "output_type": "execute_result"
    }
   ],
   "source": [
    "food_supply.columns[1:-2]"
   ]
  },
  {
   "cell_type": "code",
   "execution_count": 11,
   "metadata": {},
   "outputs": [
    {
     "ename": "NameError",
     "evalue": "name 'columns_supply' is not defined",
     "output_type": "error",
     "traceback": [
      "\u001b[1;31m---------------------------------------------------------------------------\u001b[0m",
      "\u001b[1;31mNameError\u001b[0m                                 Traceback (most recent call last)",
      "\u001b[1;32m<ipython-input-11-b032cf9657da>\u001b[0m in \u001b[0;36m<module>\u001b[1;34m\u001b[0m\n\u001b[0;32m      1\u001b[0m \u001b[1;31m# create a column of the total supply of each row\u001b[0m\u001b[1;33m\u001b[0m\u001b[1;33m\u001b[0m\u001b[1;33m\u001b[0m\u001b[0m\n\u001b[1;32m----> 2\u001b[1;33m \u001b[0mfood_supply\u001b[0m\u001b[1;33m[\u001b[0m\u001b[1;34m'totalsupply'\u001b[0m\u001b[1;33m]\u001b[0m \u001b[1;33m=\u001b[0m \u001b[0mfood_supply\u001b[0m\u001b[1;33m.\u001b[0m\u001b[0mloc\u001b[0m\u001b[1;33m[\u001b[0m\u001b[1;33m:\u001b[0m\u001b[1;33m,\u001b[0m \u001b[0mcolumns_supply\u001b[0m\u001b[1;33m]\u001b[0m\u001b[1;33m.\u001b[0m\u001b[0mvalues\u001b[0m\u001b[1;33m.\u001b[0m\u001b[0msum\u001b[0m\u001b[1;33m(\u001b[0m\u001b[0maxis\u001b[0m\u001b[1;33m=\u001b[0m\u001b[1;36m1\u001b[0m\u001b[1;33m)\u001b[0m\u001b[1;33m\u001b[0m\u001b[1;33m\u001b[0m\u001b[0m\n\u001b[0m\u001b[0;32m      3\u001b[0m \u001b[0mcolumns_supply\u001b[0m \u001b[1;33m=\u001b[0m \u001b[0mfood_supply\u001b[0m\u001b[1;33m.\u001b[0m\u001b[0mcolumns\u001b[0m\u001b[1;33m[\u001b[0m\u001b[1;36m1\u001b[0m\u001b[1;33m:\u001b[0m\u001b[1;33m-\u001b[0m\u001b[1;36m2\u001b[0m\u001b[1;33m]\u001b[0m \u001b[1;31m# ignore the Country, totalco2, totalsupply columns\u001b[0m\u001b[1;33m\u001b[0m\u001b[1;33m\u001b[0m\u001b[0m\n\u001b[0;32m      4\u001b[0m \u001b[1;33m\u001b[0m\u001b[0m\n\u001b[0;32m      5\u001b[0m \u001b[1;31m# convert columns into percentages\u001b[0m\u001b[1;33m\u001b[0m\u001b[1;33m\u001b[0m\u001b[1;33m\u001b[0m\u001b[0m\n",
      "\u001b[1;31mNameError\u001b[0m: name 'columns_supply' is not defined"
     ]
    }
   ],
   "source": [
    "# create a column of the total supply of each row\n",
    "food_supply['totalsupply'] = food_supply.loc[:, columns_supply].values.sum(axis=1)\n",
    "columns_supply = food_supply.columns[1:-2] # ignore the Country, totalco2, totalsupply columns\n",
    "\n",
    "# convert columns into percentages\n",
    "food_pct = pd.DataFrame([])\n",
    "for col in columns_supply:\n",
    "    food_pct[col + '_pct'] = food_supply[col] / food_supply['totalsupply']\n",
    "    \n",
    "# add the y variable and country to the new df\n",
    "food_pct['totalco2'] = food_co2['totalco2']\n",
    "food_pct['Country'] = food['Country']\n",
    "food_pct.head()"
   ]
  },
  {
   "cell_type": "code",
   "execution_count": null,
   "metadata": {},
   "outputs": [],
   "source": [
    "# food_pct.to_csv('../../data/nu3-pctfoodsupply-CO2-emissions.csv')"
   ]
  },
  {
   "cell_type": "markdown",
   "metadata": {},
   "source": [
    "---\n",
    "\n",
    "## Exploratory Data Analysis\n",
    "\n",
    "We now have one main dataset that will be used for modelling: `food_pct`."
   ]
  },
  {
   "cell_type": "code",
   "execution_count": null,
   "metadata": {},
   "outputs": [],
   "source": [
    "fig, ax = plt.subplots(figsize=(8, 5))\n",
    "sns.heatmap(food_pct.corr(), annot=True, vmin=-1, ax=ax)\n",
    "plt.title('Correlation Matrix');"
   ]
  },
  {
   "cell_type": "markdown",
   "metadata": {},
   "source": [
    "We see that certain pairings of our features have strong correlation:\n",
    "- rice supply & milkcheese supply: -0.75\n",
    "- fish supply & milkcheese supply: -0.6\n",
    "- pork supply & egg supply: 0.41\n",
    "\n",
    "Certain features also have stronger correlation with our y variable `totalco2`:\n",
    "- milkcheese supply: 0.54\n",
    "- rice supply: -0.49\n",
    "- beef supply: 0.45\n",
    "\n",
    "But nothing particularly interesting, or any immediate reason that these variables would have the noted correlations. We can keep this matrix in mind when performing feature selection, as we want to prevent collinearity and improve our AIC/Adj. $R^2$ by keeping our chosen covariates distinct."
   ]
  },
  {
   "cell_type": "code",
   "execution_count": null,
   "metadata": {
    "scrolled": false
   },
   "outputs": [],
   "source": [
    "plt.figure(figsize=(10,6))\n",
    "\n",
    "plt.subplot(2,2,1)\n",
    "plt.hist(food_pct['totalco2'], bins = np.linspace(food_pct['totalco2'].min(), food_pct['totalco2'].max(), 16));\n",
    "plt.title('Distribution of Y Variable: Total CO2')\n",
    "plt.xlabel('Total CO2')\n",
    "plt.yticks(np.arange(0, 21, 2))\n",
    "plt.ylabel('Counts')\n",
    "\n",
    "plt.subplot(2,2,2)\n",
    "plt.hist(np.log(food_pct['totalco2']), bins = np.linspace(np.log(food_pct['totalco2']).min(), \n",
    "                                                            np.log(food_pct['totalco2']).max(), 16));\n",
    "plt.title('Distribution of Y Variable: log(Total KG CO2)/person/year')\n",
    "plt.xlabel('log(Total CO2)')\n",
    "plt.yticks(np.arange(0, 21, 2))\n",
    "plt.ylabel('Counts')\n",
    "\n",
    "plt.subplot(2,2,3)\n",
    "sns.boxplot(food_pct['totalco2'])\n",
    "plt.xlabel('Total KG CO2 /person/year')\n",
    "plt.title('Boxplot of Y Variable')\n",
    "\n",
    "plt.subplot(2,2,4)\n",
    "sns.boxplot(np.log(food_pct['totalco2']))\n",
    "plt.xlabel('log(Total KG CO2) /person/year')\n",
    "plt.title('Boxplot of log(Y Variable)')\n",
    "\n",
    "plt.tight_layout()"
   ]
  },
  {
   "cell_type": "markdown",
   "metadata": {},
   "source": [
    "Our Y variable is right skewed, but is not so strong where we need a log transformation for our model. We may try using transformations to improve our model later on, but for now, we will move forward without any variable transformations."
   ]
  },
  {
   "cell_type": "markdown",
   "metadata": {},
   "source": [
    "Here is the distribution of the **average American diet** according to our data."
   ]
  },
  {
   "cell_type": "code",
   "execution_count": null,
   "metadata": {},
   "outputs": [],
   "source": [
    "names = ['Pork', 'Chicken', 'Beef', 'Lamb', 'Fish', 'Eggs', 'Milk&Cheese', 'Wheat', 'Rice', 'Soybeans']\n",
    "usa = food_pct[food_pct['Country'] == 'USA'].drop(columns=['Country', 'totalco2']).rename(columns=dict(zip(food_pct.columns[:-1], names)))\n",
    "usa"
   ]
  },
  {
   "cell_type": "code",
   "execution_count": null,
   "metadata": {},
   "outputs": [],
   "source": [
    "plt.figure(figsize=(12,4))\n",
    "plt.bar(usa.columns, usa.to_numpy()[0])\n",
    "plt.title('Average American Diet of Included Products')\n",
    "plt.ylabel('% of Diet in Weight');"
   ]
  },
  {
   "cell_type": "markdown",
   "metadata": {},
   "source": [
    "---\n",
    "\n",
    "Even though we are not looking at country location in our model, we thought it'd be interesting to plot it spatially and see if there are any trends or clusters that have higher kgCO2/person/year.\n",
    "\n",
    "Using this [guide](https://towardsdatascience.com/using-python-to-create-a-world-map-from-a-list-of-country-names-cd7480d03b10) as a basis, we plot a world map of the KG CO2 emissions per person."
   ]
  },
  {
   "cell_type": "code",
   "execution_count": null,
   "metadata": {},
   "outputs": [],
   "source": [
    "country_co2 = food_pct.loc[:, ['totalco2', 'Country']]\n",
    "country_co2.rename(columns = {'Country' : 'CountryName'}, inplace=True)\n",
    "country_co2.head()"
   ]
  },
  {
   "cell_type": "code",
   "execution_count": null,
   "metadata": {},
   "outputs": [],
   "source": [
    "#installation\n",
    "# !pip install pycountry-convert\n",
    "\n",
    "#function to convert to alpha2 country codes and continents\n",
    "from pycountry_convert import country_alpha2_to_continent_code, country_name_to_country_alpha2\n",
    "\n",
    "def get_continent(col):\n",
    "    try:\n",
    "        cn_a2_code =  country_name_to_country_alpha2(col)\n",
    "    except:\n",
    "        cn_a2_code = 'Unknown' \n",
    "    try:\n",
    "        cn_continent = country_alpha2_to_continent_code(cn_a2_code)\n",
    "    except:\n",
    "        cn_continent = 'Unknown' \n",
    "    \n",
    "    return (cn_a2_code, cn_continent)"
   ]
  },
  {
   "cell_type": "code",
   "execution_count": null,
   "metadata": {},
   "outputs": [],
   "source": [
    "codes = country_co2['CountryName'].apply(get_continent)\n",
    "\n",
    "country_co2['Country'] = [code[0] for code in codes]\n",
    "country_co2['Continent'] = [code[1] for code in codes]\n",
    "country_co2.head()"
   ]
  },
  {
   "cell_type": "code",
   "execution_count": null,
   "metadata": {},
   "outputs": [],
   "source": [
    "#installation\n",
    "# !pip install geopy\n",
    "\n",
    "#function to get longitude and latitude data from country name\n",
    "from geopy.geocoders import Nominatim\n",
    "\n",
    "geolocator = Nominatim(user_agent=\"nu3-data-analysis\")\n",
    "def geolocate(country):\n",
    "    try:\n",
    "        # Geolocate the center of the country\n",
    "        loc = geolocator.geocode(country)\n",
    "        # And return latitude and longitude\n",
    "        return (loc.latitude, loc.longitude)\n",
    "    except:\n",
    "        # Return missing value\n",
    "        return (np.nan, np.nan)"
   ]
  },
  {
   "cell_type": "code",
   "execution_count": null,
   "metadata": {
    "scrolled": false
   },
   "outputs": [],
   "source": [
    "latlons = country_co2['Country'].apply(geolocate)\n",
    "\n",
    "country_co2['Latitude'] = [latlon[0] for latlon in latlons]\n",
    "country_co2['Longitude'] = [latlon[1] for latlon in latlons]\n",
    "country_co2.head()"
   ]
  },
  {
   "cell_type": "code",
   "execution_count": null,
   "metadata": {
    "scrolled": true
   },
   "outputs": [],
   "source": [
    "country_co2.loc[country_co2['Latitude'].isna(), :]"
   ]
  },
  {
   "cell_type": "code",
   "execution_count": null,
   "metadata": {},
   "outputs": [],
   "source": [
    "# temporarily removing them to test the world map\n",
    "country_co2_clean = country_co2.loc[~country_co2['Latitude'].isna(), :]"
   ]
  },
  {
   "cell_type": "code",
   "execution_count": null,
   "metadata": {
    "scrolled": true
   },
   "outputs": [],
   "source": [
    "#installation\n",
    "# !pip install folium\n",
    "\n",
    "# Create a world map to show distributions of users \n",
    "import folium\n",
    "from folium.plugins import MarkerCluster\n",
    "\n",
    "#empty map\n",
    "world_map= folium.Map(tiles=\"cartodbpositron\")\n",
    "marker_cluster = MarkerCluster().add_to(world_map)\n",
    "#for each coordinate, create circlemarker of user percent\n",
    "for i in range(len(country_co2_clean)):\n",
    "        lat = country_co2_clean.iloc[i]['Latitude']\n",
    "        long = country_co2_clean.iloc[i]['Longitude']\n",
    "        radius=5\n",
    "        popup_text = \"\"\"Country : {}<br>\n",
    "                    kgCO2/person/year : {}<br>\"\"\"\n",
    "        popup_text = popup_text.format(country_co2_clean.iloc[i]['CountryName'],\n",
    "                                   country_co2_clean.iloc[i]['totalco2']\n",
    "                                   )\n",
    "        folium.CircleMarker(location = [lat, long], radius=radius, popup= popup_text, fill =True).add_to(marker_cluster)\n",
    "#show the map\n",
    "world_map"
   ]
  },
  {
   "cell_type": "markdown",
   "metadata": {},
   "source": [
    "#### Another map:"
   ]
  },
  {
   "cell_type": "code",
   "execution_count": null,
   "metadata": {},
   "outputs": [],
   "source": [
    "# !pip install country-converter\n",
    "\n",
    "import country_converter as coco\n",
    "\n",
    "country_co2['CountryCode'] = coco.convert(names=country_co2['Country'].to_list(), to='ISO3') # ignore the error"
   ]
  },
  {
   "cell_type": "code",
   "execution_count": null,
   "metadata": {
    "scrolled": true
   },
   "outputs": [],
   "source": [
    "import plotly.express as px\n",
    "\n",
    "fig = px.choropleth(country_co2, locations=\"CountryCode\",\n",
    "                    color=\"totalco2\", \n",
    "                    hover_name=\"Country\", # column to add to hover information\n",
    "                    color_continuous_scale=px.colors.sequential.Plasma)\n",
    "fig.show()"
   ]
  },
  {
   "cell_type": "code",
   "execution_count": null,
   "metadata": {},
   "outputs": [],
   "source": [
    "from  import function"
   ]
  },
  {
   "cell_type": "code",
   "execution_count": null,
   "metadata": {},
   "outputs": [],
   "source": []
  }
 ],
 "metadata": {
  "kernelspec": {
   "display_name": "Python 3",
   "language": "python",
   "name": "python3"
  },
  "language_info": {
   "codemirror_mode": {
    "name": "ipython",
    "version": 3
   },
   "file_extension": ".py",
   "mimetype": "text/x-python",
   "name": "python",
   "nbconvert_exporter": "python",
   "pygments_lexer": "ipython3",
   "version": "3.6.9"
  }
 },
 "nbformat": 4,
 "nbformat_minor": 4
}
