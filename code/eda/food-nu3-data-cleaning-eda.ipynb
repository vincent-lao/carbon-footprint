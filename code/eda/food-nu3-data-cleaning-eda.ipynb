{
 "cells": [
  {
   "cell_type": "code",
   "execution_count": 60,
   "metadata": {},
   "outputs": [],
   "source": [
    "import numpy as np\n",
    "import pandas as pd\n",
    "import matplotlib.pyplot as plt\n",
    "import seaborn as sns\n",
    "import re"
   ]
  },
  {
   "cell_type": "markdown",
   "metadata": {},
   "source": [
    "## Input Data Description\n",
    "1. The origins of your data. Where did you get the data? How were the data collected from the original sources?  \n",
    "2. The structure, granularity, scope, temporality and faithfulness (SGSTF) of your data. To discuss these attributes you should load the data into one or more data frames (so you'll start building code cells for the first time). At a minimum, use some basic methods (.head, .loc, and so on) to provide support for the descriptions you provide for SGSTF."
   ]
  },
  {
   "cell_type": "markdown",
   "metadata": {},
   "source": [
    "This dataset is from [nu3](https://www.nu3.de/blogs/nutrition/food-carbon-footprint-index-2018), a German online personal wellness and grocery store that performed some research to look at the CO2 emissions per person for 130 nations worldwide. Their study utilized 2018 data from the Food and Agriculture Organization of the United Nations (FAO) that described the amount of food supply for consumption by food item and nation. They also used the following assumptions as the estimated CO2 emissions per kilogram for each food type in 2018:\n",
    "\n",
    "- Pork = 3.54 kg\n",
    "- Poultry= 1.07 kg\n",
    "- Beef = 30.86 kg\n",
    "- Lamb & Goat = 35.02 kg\n",
    "- Fish = 1.60 kg\n",
    "- Eggs = 0.92 kg\n",
    "- Milk – including cheese = 1.42 kg\n",
    "- Wheat & Wheat Products = 0.19 kg\n",
    "- Rice = 1.28 kg\n",
    "- Soybeans = 0.45 kg\n",
    "- Nuts – including Peanut Butter = 1.77 kg"
   ]
  },
  {
   "cell_type": "markdown",
   "metadata": {},
   "source": [
    "### Data Acquisition and SGSTF\n",
    "\n",
    "First, we grab the raw html from the website, and clean up the data to put it in a readable format."
   ]
  },
  {
   "cell_type": "code",
   "execution_count": 61,
   "metadata": {
    "scrolled": true
   },
   "outputs": [
    {
     "data": {
      "text/html": [
       "<div>\n",
       "<style scoped>\n",
       "    .dataframe tbody tr th:only-of-type {\n",
       "        vertical-align: middle;\n",
       "    }\n",
       "\n",
       "    .dataframe tbody tr th {\n",
       "        vertical-align: top;\n",
       "    }\n",
       "\n",
       "    .dataframe thead th {\n",
       "        text-align: right;\n",
       "    }\n",
       "</style>\n",
       "<table border=\"1\" class=\"dataframe\">\n",
       "  <thead>\n",
       "    <tr style=\"text-align: right;\">\n",
       "      <th></th>\n",
       "      <th>#</th>\n",
       "      <th>Country</th>\n",
       "      <th>porksupply</th>\n",
       "      <th>porkco2</th>\n",
       "      <th>chickensupply</th>\n",
       "      <th>chickenco2</th>\n",
       "      <th>beefsupply</th>\n",
       "      <th>beefco2</th>\n",
       "      <th>lambsupply</th>\n",
       "      <th>lambco2</th>\n",
       "      <th>...</th>\n",
       "      <th>wheatprodsupply</th>\n",
       "      <th>wheatprodco2</th>\n",
       "      <th>ricesupply</th>\n",
       "      <th>riceco2</th>\n",
       "      <th>soybeansupply</th>\n",
       "      <th>soybeanco2</th>\n",
       "      <th>nutssupply</th>\n",
       "      <th>nutsco2</th>\n",
       "      <th>totalnonanimalco2</th>\n",
       "      <th>difftotalco2</th>\n",
       "    </tr>\n",
       "  </thead>\n",
       "  <tbody>\n",
       "    <tr>\n",
       "      <th>0</th>\n",
       "      <td>1</td>\n",
       "      <td>Argentina</td>\n",
       "      <td>10.51</td>\n",
       "      <td>37.20</td>\n",
       "      <td>38.66</td>\n",
       "      <td>41.53</td>\n",
       "      <td>55.48</td>\n",
       "      <td>1712.00</td>\n",
       "      <td>1.56</td>\n",
       "      <td>54.63</td>\n",
       "      <td>...</td>\n",
       "      <td>103.11</td>\n",
       "      <td>19.66</td>\n",
       "      <td>8.77</td>\n",
       "      <td>11.22</td>\n",
       "      <td>0.00</td>\n",
       "      <td>0.00</td>\n",
       "      <td>0.49</td>\n",
       "      <td>0.87</td>\n",
       "      <td>31.75</td>\n",
       "      <td>2108.90</td>\n",
       "    </tr>\n",
       "    <tr>\n",
       "      <th>1</th>\n",
       "      <td>2</td>\n",
       "      <td>Australia</td>\n",
       "      <td>24.14</td>\n",
       "      <td>85.44</td>\n",
       "      <td>46.12</td>\n",
       "      <td>49.54</td>\n",
       "      <td>33.86</td>\n",
       "      <td>1044.85</td>\n",
       "      <td>9.87</td>\n",
       "      <td>345.65</td>\n",
       "      <td>...</td>\n",
       "      <td>70.46</td>\n",
       "      <td>13.44</td>\n",
       "      <td>11.03</td>\n",
       "      <td>14.12</td>\n",
       "      <td>0.19</td>\n",
       "      <td>0.09</td>\n",
       "      <td>8.73</td>\n",
       "      <td>15.45</td>\n",
       "      <td>43.09</td>\n",
       "      <td>1852.46</td>\n",
       "    </tr>\n",
       "    <tr>\n",
       "      <th>2</th>\n",
       "      <td>3</td>\n",
       "      <td>Albania</td>\n",
       "      <td>10.88</td>\n",
       "      <td>38.51</td>\n",
       "      <td>13.23</td>\n",
       "      <td>14.21</td>\n",
       "      <td>22.50</td>\n",
       "      <td>694.30</td>\n",
       "      <td>15.32</td>\n",
       "      <td>536.50</td>\n",
       "      <td>...</td>\n",
       "      <td>138.64</td>\n",
       "      <td>26.44</td>\n",
       "      <td>7.78</td>\n",
       "      <td>9.96</td>\n",
       "      <td>0.00</td>\n",
       "      <td>0.00</td>\n",
       "      <td>4.36</td>\n",
       "      <td>7.72</td>\n",
       "      <td>44.11</td>\n",
       "      <td>1689.62</td>\n",
       "    </tr>\n",
       "    <tr>\n",
       "      <th>3</th>\n",
       "      <td>4</td>\n",
       "      <td>Iceland</td>\n",
       "      <td>21.69</td>\n",
       "      <td>76.77</td>\n",
       "      <td>26.87</td>\n",
       "      <td>28.86</td>\n",
       "      <td>13.36</td>\n",
       "      <td>412.26</td>\n",
       "      <td>21.12</td>\n",
       "      <td>739.62</td>\n",
       "      <td>...</td>\n",
       "      <td>72.92</td>\n",
       "      <td>13.91</td>\n",
       "      <td>3.89</td>\n",
       "      <td>4.98</td>\n",
       "      <td>0.11</td>\n",
       "      <td>0.05</td>\n",
       "      <td>3.88</td>\n",
       "      <td>6.87</td>\n",
       "      <td>25.80</td>\n",
       "      <td>1679.75</td>\n",
       "    </tr>\n",
       "    <tr>\n",
       "      <th>4</th>\n",
       "      <td>5</td>\n",
       "      <td>New Zealand</td>\n",
       "      <td>22.29</td>\n",
       "      <td>78.90</td>\n",
       "      <td>34.98</td>\n",
       "      <td>37.58</td>\n",
       "      <td>22.49</td>\n",
       "      <td>693.99</td>\n",
       "      <td>18.91</td>\n",
       "      <td>662.23</td>\n",
       "      <td>...</td>\n",
       "      <td>76.91</td>\n",
       "      <td>14.67</td>\n",
       "      <td>9.16</td>\n",
       "      <td>11.72</td>\n",
       "      <td>0.44</td>\n",
       "      <td>0.20</td>\n",
       "      <td>8.22</td>\n",
       "      <td>14.55</td>\n",
       "      <td>41.14</td>\n",
       "      <td>1668.67</td>\n",
       "    </tr>\n",
       "  </tbody>\n",
       "</table>\n",
       "<p>5 rows × 27 columns</p>\n",
       "</div>"
      ],
      "text/plain": [
       "   #      Country  porksupply  porkco2  chickensupply  chickenco2  beefsupply  \\\n",
       "0  1    Argentina       10.51    37.20          38.66       41.53       55.48   \n",
       "1  2    Australia       24.14    85.44          46.12       49.54       33.86   \n",
       "2  3      Albania       10.88    38.51          13.23       14.21       22.50   \n",
       "3  4      Iceland       21.69    76.77          26.87       28.86       13.36   \n",
       "4  5  New Zealand       22.29    78.90          34.98       37.58       22.49   \n",
       "\n",
       "   beefco2  lambsupply  lambco2  ...  wheatprodsupply  wheatprodco2  \\\n",
       "0  1712.00        1.56    54.63  ...           103.11         19.66   \n",
       "1  1044.85        9.87   345.65  ...            70.46         13.44   \n",
       "2   694.30       15.32   536.50  ...           138.64         26.44   \n",
       "3   412.26       21.12   739.62  ...            72.92         13.91   \n",
       "4   693.99       18.91   662.23  ...            76.91         14.67   \n",
       "\n",
       "   ricesupply  riceco2  soybeansupply  soybeanco2  nutssupply  nutsco2  \\\n",
       "0        8.77    11.22           0.00        0.00        0.49     0.87   \n",
       "1       11.03    14.12           0.19        0.09        8.73    15.45   \n",
       "2        7.78     9.96           0.00        0.00        4.36     7.72   \n",
       "3        3.89     4.98           0.11        0.05        3.88     6.87   \n",
       "4        9.16    11.72           0.44        0.20        8.22    14.55   \n",
       "\n",
       "   totalnonanimalco2  difftotalco2  \n",
       "0              31.75       2108.90  \n",
       "1              43.09       1852.46  \n",
       "2              44.11       1689.62  \n",
       "3              25.80       1679.75  \n",
       "4              41.14       1668.67  \n",
       "\n",
       "[5 rows x 27 columns]"
      ]
     },
     "execution_count": 61,
     "metadata": {},
     "output_type": "execute_result"
    }
   ],
   "source": [
    "# https://www.nu3.de/blogs/nutrition/food-carbon-footprint-index-2018\n",
    "data = pd.read_html(\"https://www.nu3.de/blogs/nutrition/food-carbon-footprint-index-2018\")[0]\n",
    "data = data.droplevel([0,1], axis=1)\n",
    "columns = ['#', 'Country', 'porksupply', 'porkco2', 'chickensupply', 'chickenco2', 'beefsupply', 'beefco2', 'lambsupply', 'lambco2', \n",
    "           'fishsupply', 'fishco2', 'eggsupply', 'eggco2', 'milkcheesesupply', 'milkcheeseco2', 'totalanimalco2', \n",
    "           'wheatprodsupply', 'wheatprodco2', 'ricesupply', 'riceco2', 'soybeansupply', 'soybeanco2', \n",
    "           'nutssupply', 'nutsco2', 'totalnonanimalco2', 'difftotalco2']\n",
    "\n",
    "data.rename(columns=dict(zip(data.columns, columns)), inplace=True)\n",
    "data.head()"
   ]
  },
  {
   "cell_type": "code",
   "execution_count": 62,
   "metadata": {},
   "outputs": [
    {
     "data": {
      "text/plain": [
       "Index(['#', 'Country', 'porksupply', 'porkco2', 'chickensupply', 'chickenco2',\n",
       "       'beefsupply', 'beefco2', 'lambsupply', 'lambco2', 'fishsupply',\n",
       "       'fishco2', 'eggsupply', 'eggco2', 'milkcheesesupply', 'milkcheeseco2',\n",
       "       'totalanimalco2', 'wheatprodsupply', 'wheatprodco2', 'ricesupply',\n",
       "       'riceco2', 'soybeansupply', 'soybeanco2', 'nutssupply', 'nutsco2',\n",
       "       'totalnonanimalco2', 'difftotalco2'],\n",
       "      dtype='object')"
      ]
     },
     "execution_count": 62,
     "metadata": {},
     "output_type": "execute_result"
    }
   ],
   "source": [
    "data.columns"
   ]
  },
  {
   "cell_type": "code",
   "execution_count": 63,
   "metadata": {},
   "outputs": [
    {
     "data": {
      "text/plain": [
       "(130, 27)"
      ]
     },
     "execution_count": 63,
     "metadata": {},
     "output_type": "execute_result"
    }
   ],
   "source": [
    "# 130 different countries\n",
    "data.shape"
   ]
  },
  {
   "cell_type": "markdown",
   "metadata": {},
   "source": [
    "**`Structure:`**  \n",
    "The data came from html hosted on the `nu3` website, but was also held in a tabular format so it was easy to transfer it into a Jupyter notebook. \n",
    "\n",
    "**`Granularity:`**  \n",
    "Each row in the raw dataset represents a country and its supply of each food in kilograms per person per year. Other information contained in each row include the conversion of that food supply into kilograms of carbon dioxide emissions per person per year. All rows are at the same granularity, but there are columns summarizing the carbon dioxide values of each record.\n",
    "\n",
    "The spatial granularity is by country.  There are 130 countries included in total. The granularity in food groups is limited to common foods that people eat that are significant carbon dioxide emitters, such as meats, dairy, eggs, grains, soybeans, and nuts.\n",
    "\n",
    "**`Scope:`**  \n",
    "The data helps relate an average person's diet in a given country to their carbon footprint emissions. If we let each record represent a real life person with a particular diet, this can be useful data to help us understand how our own diet contributes to our carbon emissions. The scope is a good fit for the prediction problem.\n",
    "\n",
    "**`Temporality:`**  \n",
    "The data was collected in 2018, and used carbon emission estimates of each food by kilogram from 2017.\n",
    "\n",
    "**`Faithfulness:`**  \n",
    "The data originated from FAO, which is a reliable source. There are no missing values in this dataset, so cleaning will be fairly straightforward, and we are not concerned about faithfulness."
   ]
  },
  {
   "cell_type": "markdown",
   "metadata": {},
   "source": [
    "---\n",
    "\n",
    "## Data Cleaning\n",
    "\n",
    "First, I constructed the Y variable, Total Kilograms CO2 Emissions / person / year, as it wasn't present in the original dataset. We had the individual totals of animal products and non-animal products, so we simply add them to create the `totalco2` column. Then, we can remove the other \"total\" columns, since we don't need them anymore."
   ]
  },
  {
   "cell_type": "code",
   "execution_count": 64,
   "metadata": {},
   "outputs": [
    {
     "data": {
      "text/html": [
       "<div>\n",
       "<style scoped>\n",
       "    .dataframe tbody tr th:only-of-type {\n",
       "        vertical-align: middle;\n",
       "    }\n",
       "\n",
       "    .dataframe tbody tr th {\n",
       "        vertical-align: top;\n",
       "    }\n",
       "\n",
       "    .dataframe thead th {\n",
       "        text-align: right;\n",
       "    }\n",
       "</style>\n",
       "<table border=\"1\" class=\"dataframe\">\n",
       "  <thead>\n",
       "    <tr style=\"text-align: right;\">\n",
       "      <th></th>\n",
       "      <th>Country</th>\n",
       "      <th>porksupply</th>\n",
       "      <th>porkco2</th>\n",
       "      <th>chickensupply</th>\n",
       "      <th>chickenco2</th>\n",
       "      <th>beefsupply</th>\n",
       "      <th>beefco2</th>\n",
       "      <th>lambsupply</th>\n",
       "      <th>lambco2</th>\n",
       "      <th>fishsupply</th>\n",
       "      <th>...</th>\n",
       "      <th>milkcheeseco2</th>\n",
       "      <th>wheatprodsupply</th>\n",
       "      <th>wheatprodco2</th>\n",
       "      <th>ricesupply</th>\n",
       "      <th>riceco2</th>\n",
       "      <th>soybeansupply</th>\n",
       "      <th>soybeanco2</th>\n",
       "      <th>nutssupply</th>\n",
       "      <th>nutsco2</th>\n",
       "      <th>totalco2</th>\n",
       "    </tr>\n",
       "  </thead>\n",
       "  <tbody>\n",
       "    <tr>\n",
       "      <th>0</th>\n",
       "      <td>Argentina</td>\n",
       "      <td>10.51</td>\n",
       "      <td>37.20</td>\n",
       "      <td>38.66</td>\n",
       "      <td>41.53</td>\n",
       "      <td>55.48</td>\n",
       "      <td>1712.00</td>\n",
       "      <td>1.56</td>\n",
       "      <td>54.63</td>\n",
       "      <td>4.36</td>\n",
       "      <td>...</td>\n",
       "      <td>277.87</td>\n",
       "      <td>103.11</td>\n",
       "      <td>19.66</td>\n",
       "      <td>8.77</td>\n",
       "      <td>11.22</td>\n",
       "      <td>0.00</td>\n",
       "      <td>0.00</td>\n",
       "      <td>0.49</td>\n",
       "      <td>0.87</td>\n",
       "      <td>2172.40</td>\n",
       "    </tr>\n",
       "    <tr>\n",
       "      <th>1</th>\n",
       "      <td>Australia</td>\n",
       "      <td>24.14</td>\n",
       "      <td>85.44</td>\n",
       "      <td>46.12</td>\n",
       "      <td>49.54</td>\n",
       "      <td>33.86</td>\n",
       "      <td>1044.85</td>\n",
       "      <td>9.87</td>\n",
       "      <td>345.65</td>\n",
       "      <td>17.69</td>\n",
       "      <td>...</td>\n",
       "      <td>334.01</td>\n",
       "      <td>70.46</td>\n",
       "      <td>13.44</td>\n",
       "      <td>11.03</td>\n",
       "      <td>14.12</td>\n",
       "      <td>0.19</td>\n",
       "      <td>0.09</td>\n",
       "      <td>8.73</td>\n",
       "      <td>15.45</td>\n",
       "      <td>1938.64</td>\n",
       "    </tr>\n",
       "    <tr>\n",
       "      <th>2</th>\n",
       "      <td>Albania</td>\n",
       "      <td>10.88</td>\n",
       "      <td>38.51</td>\n",
       "      <td>13.23</td>\n",
       "      <td>14.21</td>\n",
       "      <td>22.50</td>\n",
       "      <td>694.30</td>\n",
       "      <td>15.32</td>\n",
       "      <td>536.50</td>\n",
       "      <td>3.85</td>\n",
       "      <td>...</td>\n",
       "      <td>432.62</td>\n",
       "      <td>138.64</td>\n",
       "      <td>26.44</td>\n",
       "      <td>7.78</td>\n",
       "      <td>9.96</td>\n",
       "      <td>0.00</td>\n",
       "      <td>0.00</td>\n",
       "      <td>4.36</td>\n",
       "      <td>7.72</td>\n",
       "      <td>1777.84</td>\n",
       "    </tr>\n",
       "    <tr>\n",
       "      <th>3</th>\n",
       "      <td>Iceland</td>\n",
       "      <td>21.69</td>\n",
       "      <td>76.77</td>\n",
       "      <td>26.87</td>\n",
       "      <td>28.86</td>\n",
       "      <td>13.36</td>\n",
       "      <td>412.26</td>\n",
       "      <td>21.12</td>\n",
       "      <td>739.62</td>\n",
       "      <td>74.41</td>\n",
       "      <td>...</td>\n",
       "      <td>321.66</td>\n",
       "      <td>72.92</td>\n",
       "      <td>13.91</td>\n",
       "      <td>3.89</td>\n",
       "      <td>4.98</td>\n",
       "      <td>0.11</td>\n",
       "      <td>0.05</td>\n",
       "      <td>3.88</td>\n",
       "      <td>6.87</td>\n",
       "      <td>1731.35</td>\n",
       "    </tr>\n",
       "    <tr>\n",
       "      <th>4</th>\n",
       "      <td>New Zealand</td>\n",
       "      <td>22.29</td>\n",
       "      <td>78.90</td>\n",
       "      <td>34.98</td>\n",
       "      <td>37.58</td>\n",
       "      <td>22.49</td>\n",
       "      <td>693.99</td>\n",
       "      <td>18.91</td>\n",
       "      <td>662.23</td>\n",
       "      <td>20.36</td>\n",
       "      <td>...</td>\n",
       "      <td>195.50</td>\n",
       "      <td>76.91</td>\n",
       "      <td>14.67</td>\n",
       "      <td>9.16</td>\n",
       "      <td>11.72</td>\n",
       "      <td>0.44</td>\n",
       "      <td>0.20</td>\n",
       "      <td>8.22</td>\n",
       "      <td>14.55</td>\n",
       "      <td>1750.94</td>\n",
       "    </tr>\n",
       "  </tbody>\n",
       "</table>\n",
       "<p>5 rows × 24 columns</p>\n",
       "</div>"
      ],
      "text/plain": [
       "       Country  porksupply  porkco2  chickensupply  chickenco2  beefsupply  \\\n",
       "0    Argentina       10.51    37.20          38.66       41.53       55.48   \n",
       "1    Australia       24.14    85.44          46.12       49.54       33.86   \n",
       "2      Albania       10.88    38.51          13.23       14.21       22.50   \n",
       "3      Iceland       21.69    76.77          26.87       28.86       13.36   \n",
       "4  New Zealand       22.29    78.90          34.98       37.58       22.49   \n",
       "\n",
       "   beefco2  lambsupply  lambco2  fishsupply  ...  milkcheeseco2  \\\n",
       "0  1712.00        1.56    54.63        4.36  ...         277.87   \n",
       "1  1044.85        9.87   345.65       17.69  ...         334.01   \n",
       "2   694.30       15.32   536.50        3.85  ...         432.62   \n",
       "3   412.26       21.12   739.62       74.41  ...         321.66   \n",
       "4   693.99       18.91   662.23       20.36  ...         195.50   \n",
       "\n",
       "   wheatprodsupply  wheatprodco2  ricesupply  riceco2  soybeansupply  \\\n",
       "0           103.11         19.66        8.77    11.22           0.00   \n",
       "1            70.46         13.44       11.03    14.12           0.19   \n",
       "2           138.64         26.44        7.78     9.96           0.00   \n",
       "3            72.92         13.91        3.89     4.98           0.11   \n",
       "4            76.91         14.67        9.16    11.72           0.44   \n",
       "\n",
       "   soybeanco2  nutssupply  nutsco2  totalco2  \n",
       "0        0.00        0.49     0.87   2172.40  \n",
       "1        0.09        8.73    15.45   1938.64  \n",
       "2        0.00        4.36     7.72   1777.84  \n",
       "3        0.05        3.88     6.87   1731.35  \n",
       "4        0.20        8.22    14.55   1750.94  \n",
       "\n",
       "[5 rows x 24 columns]"
      ]
     },
     "execution_count": 64,
     "metadata": {},
     "output_type": "execute_result"
    }
   ],
   "source": [
    "food = data.copy()\n",
    "food['totalco2'] = food['totalanimalco2'] + food['totalnonanimalco2']\n",
    "food.drop(columns=['#', 'totalanimalco2', 'totalnonanimalco2', 'difftotalco2'], inplace=True)\n",
    "food.head()"
   ]
  },
  {
   "cell_type": "markdown",
   "metadata": {},
   "source": [
    "Then, I decided to separate the data into the CO2 columns and the Food Supply columns. This is because our Y variable is fully described by the other CO2 columns, so using them in our model would lead to a trivial problem to solve."
   ]
  },
  {
   "cell_type": "code",
   "execution_count": 65,
   "metadata": {},
   "outputs": [
    {
     "data": {
      "text/plain": [
       "['porksupply',\n",
       " 'chickensupply',\n",
       " 'beefsupply',\n",
       " 'lambsupply',\n",
       " 'fishsupply',\n",
       " 'eggsupply',\n",
       " 'milkcheesesupply',\n",
       " 'wheatprodsupply',\n",
       " 'ricesupply',\n",
       " 'soybeansupply',\n",
       " 'nutssupply']"
      ]
     },
     "execution_count": 65,
     "metadata": {},
     "output_type": "execute_result"
    }
   ],
   "source": [
    "[col for col in food.columns if re.findall('supply', col)]"
   ]
  },
  {
   "cell_type": "code",
   "execution_count": 66,
   "metadata": {
    "scrolled": false
   },
   "outputs": [
    {
     "data": {
      "text/html": [
       "<div>\n",
       "<style scoped>\n",
       "    .dataframe tbody tr th:only-of-type {\n",
       "        vertical-align: middle;\n",
       "    }\n",
       "\n",
       "    .dataframe tbody tr th {\n",
       "        vertical-align: top;\n",
       "    }\n",
       "\n",
       "    .dataframe thead th {\n",
       "        text-align: right;\n",
       "    }\n",
       "</style>\n",
       "<table border=\"1\" class=\"dataframe\">\n",
       "  <thead>\n",
       "    <tr style=\"text-align: right;\">\n",
       "      <th></th>\n",
       "      <th>Country</th>\n",
       "      <th>porkco2</th>\n",
       "      <th>chickenco2</th>\n",
       "      <th>beefco2</th>\n",
       "      <th>lambco2</th>\n",
       "      <th>fishco2</th>\n",
       "      <th>eggco2</th>\n",
       "      <th>milkcheeseco2</th>\n",
       "      <th>wheatprodco2</th>\n",
       "      <th>riceco2</th>\n",
       "      <th>soybeanco2</th>\n",
       "      <th>nutsco2</th>\n",
       "      <th>totalco2</th>\n",
       "    </tr>\n",
       "  </thead>\n",
       "  <tbody>\n",
       "    <tr>\n",
       "      <th>0</th>\n",
       "      <td>Argentina</td>\n",
       "      <td>37.20</td>\n",
       "      <td>41.53</td>\n",
       "      <td>1712.00</td>\n",
       "      <td>54.63</td>\n",
       "      <td>6.96</td>\n",
       "      <td>10.46</td>\n",
       "      <td>277.87</td>\n",
       "      <td>19.66</td>\n",
       "      <td>11.22</td>\n",
       "      <td>0.00</td>\n",
       "      <td>0.87</td>\n",
       "      <td>2172.40</td>\n",
       "    </tr>\n",
       "    <tr>\n",
       "      <th>1</th>\n",
       "      <td>Australia</td>\n",
       "      <td>85.44</td>\n",
       "      <td>49.54</td>\n",
       "      <td>1044.85</td>\n",
       "      <td>345.65</td>\n",
       "      <td>28.25</td>\n",
       "      <td>7.82</td>\n",
       "      <td>334.01</td>\n",
       "      <td>13.44</td>\n",
       "      <td>14.12</td>\n",
       "      <td>0.09</td>\n",
       "      <td>15.45</td>\n",
       "      <td>1938.64</td>\n",
       "    </tr>\n",
       "    <tr>\n",
       "      <th>2</th>\n",
       "      <td>Albania</td>\n",
       "      <td>38.51</td>\n",
       "      <td>14.21</td>\n",
       "      <td>694.30</td>\n",
       "      <td>536.50</td>\n",
       "      <td>6.15</td>\n",
       "      <td>11.44</td>\n",
       "      <td>432.62</td>\n",
       "      <td>26.44</td>\n",
       "      <td>9.96</td>\n",
       "      <td>0.00</td>\n",
       "      <td>7.72</td>\n",
       "      <td>1777.84</td>\n",
       "    </tr>\n",
       "    <tr>\n",
       "      <th>3</th>\n",
       "      <td>Iceland</td>\n",
       "      <td>76.77</td>\n",
       "      <td>28.86</td>\n",
       "      <td>412.26</td>\n",
       "      <td>739.62</td>\n",
       "      <td>118.81</td>\n",
       "      <td>7.57</td>\n",
       "      <td>321.66</td>\n",
       "      <td>13.91</td>\n",
       "      <td>4.98</td>\n",
       "      <td>0.05</td>\n",
       "      <td>6.87</td>\n",
       "      <td>1731.35</td>\n",
       "    </tr>\n",
       "    <tr>\n",
       "      <th>4</th>\n",
       "      <td>New Zealand</td>\n",
       "      <td>78.90</td>\n",
       "      <td>37.58</td>\n",
       "      <td>693.99</td>\n",
       "      <td>662.23</td>\n",
       "      <td>32.51</td>\n",
       "      <td>9.10</td>\n",
       "      <td>195.50</td>\n",
       "      <td>14.67</td>\n",
       "      <td>11.72</td>\n",
       "      <td>0.20</td>\n",
       "      <td>14.55</td>\n",
       "      <td>1750.94</td>\n",
       "    </tr>\n",
       "  </tbody>\n",
       "</table>\n",
       "</div>"
      ],
      "text/plain": [
       "       Country  porkco2  chickenco2  beefco2  lambco2  fishco2  eggco2  \\\n",
       "0    Argentina    37.20       41.53  1712.00    54.63     6.96   10.46   \n",
       "1    Australia    85.44       49.54  1044.85   345.65    28.25    7.82   \n",
       "2      Albania    38.51       14.21   694.30   536.50     6.15   11.44   \n",
       "3      Iceland    76.77       28.86   412.26   739.62   118.81    7.57   \n",
       "4  New Zealand    78.90       37.58   693.99   662.23    32.51    9.10   \n",
       "\n",
       "   milkcheeseco2  wheatprodco2  riceco2  soybeanco2  nutsco2  totalco2  \n",
       "0         277.87         19.66    11.22        0.00     0.87   2172.40  \n",
       "1         334.01         13.44    14.12        0.09    15.45   1938.64  \n",
       "2         432.62         26.44     9.96        0.00     7.72   1777.84  \n",
       "3         321.66         13.91     4.98        0.05     6.87   1731.35  \n",
       "4         195.50         14.67    11.72        0.20    14.55   1750.94  "
      ]
     },
     "execution_count": 66,
     "metadata": {},
     "output_type": "execute_result"
    }
   ],
   "source": [
    "food_co2 = food.drop(columns=[col for col in food.columns if re.findall('supply', col)])\n",
    "food_co2.head()"
   ]
  },
  {
   "cell_type": "code",
   "execution_count": 67,
   "metadata": {
    "scrolled": true
   },
   "outputs": [
    {
     "data": {
      "text/plain": [
       "['porkco2',\n",
       " 'chickenco2',\n",
       " 'beefco2',\n",
       " 'lambco2',\n",
       " 'fishco2',\n",
       " 'eggco2',\n",
       " 'milkcheeseco2',\n",
       " 'wheatprodco2',\n",
       " 'riceco2',\n",
       " 'soybeanco2',\n",
       " 'nutsco2']"
      ]
     },
     "execution_count": 67,
     "metadata": {},
     "output_type": "execute_result"
    }
   ],
   "source": [
    "[col for col in food.columns if re.findall('co2', col)][:-1]"
   ]
  },
  {
   "cell_type": "code",
   "execution_count": 68,
   "metadata": {
    "scrolled": true
   },
   "outputs": [
    {
     "data": {
      "text/html": [
       "<div>\n",
       "<style scoped>\n",
       "    .dataframe tbody tr th:only-of-type {\n",
       "        vertical-align: middle;\n",
       "    }\n",
       "\n",
       "    .dataframe tbody tr th {\n",
       "        vertical-align: top;\n",
       "    }\n",
       "\n",
       "    .dataframe thead th {\n",
       "        text-align: right;\n",
       "    }\n",
       "</style>\n",
       "<table border=\"1\" class=\"dataframe\">\n",
       "  <thead>\n",
       "    <tr style=\"text-align: right;\">\n",
       "      <th></th>\n",
       "      <th>Country</th>\n",
       "      <th>porksupply</th>\n",
       "      <th>chickensupply</th>\n",
       "      <th>beefsupply</th>\n",
       "      <th>lambsupply</th>\n",
       "      <th>fishsupply</th>\n",
       "      <th>eggsupply</th>\n",
       "      <th>milkcheesesupply</th>\n",
       "      <th>wheatprodsupply</th>\n",
       "      <th>ricesupply</th>\n",
       "      <th>soybeansupply</th>\n",
       "      <th>nutssupply</th>\n",
       "      <th>totalco2</th>\n",
       "    </tr>\n",
       "  </thead>\n",
       "  <tbody>\n",
       "    <tr>\n",
       "      <th>0</th>\n",
       "      <td>Argentina</td>\n",
       "      <td>10.51</td>\n",
       "      <td>38.66</td>\n",
       "      <td>55.48</td>\n",
       "      <td>1.56</td>\n",
       "      <td>4.36</td>\n",
       "      <td>11.39</td>\n",
       "      <td>195.08</td>\n",
       "      <td>103.11</td>\n",
       "      <td>8.77</td>\n",
       "      <td>0.00</td>\n",
       "      <td>0.49</td>\n",
       "      <td>2172.40</td>\n",
       "    </tr>\n",
       "    <tr>\n",
       "      <th>1</th>\n",
       "      <td>Australia</td>\n",
       "      <td>24.14</td>\n",
       "      <td>46.12</td>\n",
       "      <td>33.86</td>\n",
       "      <td>9.87</td>\n",
       "      <td>17.69</td>\n",
       "      <td>8.51</td>\n",
       "      <td>234.49</td>\n",
       "      <td>70.46</td>\n",
       "      <td>11.03</td>\n",
       "      <td>0.19</td>\n",
       "      <td>8.73</td>\n",
       "      <td>1938.64</td>\n",
       "    </tr>\n",
       "    <tr>\n",
       "      <th>2</th>\n",
       "      <td>Albania</td>\n",
       "      <td>10.88</td>\n",
       "      <td>13.23</td>\n",
       "      <td>22.50</td>\n",
       "      <td>15.32</td>\n",
       "      <td>3.85</td>\n",
       "      <td>12.45</td>\n",
       "      <td>303.72</td>\n",
       "      <td>138.64</td>\n",
       "      <td>7.78</td>\n",
       "      <td>0.00</td>\n",
       "      <td>4.36</td>\n",
       "      <td>1777.84</td>\n",
       "    </tr>\n",
       "    <tr>\n",
       "      <th>3</th>\n",
       "      <td>Iceland</td>\n",
       "      <td>21.69</td>\n",
       "      <td>26.87</td>\n",
       "      <td>13.36</td>\n",
       "      <td>21.12</td>\n",
       "      <td>74.41</td>\n",
       "      <td>8.24</td>\n",
       "      <td>225.82</td>\n",
       "      <td>72.92</td>\n",
       "      <td>3.89</td>\n",
       "      <td>0.11</td>\n",
       "      <td>3.88</td>\n",
       "      <td>1731.35</td>\n",
       "    </tr>\n",
       "    <tr>\n",
       "      <th>4</th>\n",
       "      <td>New Zealand</td>\n",
       "      <td>22.29</td>\n",
       "      <td>34.98</td>\n",
       "      <td>22.49</td>\n",
       "      <td>18.91</td>\n",
       "      <td>20.36</td>\n",
       "      <td>9.91</td>\n",
       "      <td>137.25</td>\n",
       "      <td>76.91</td>\n",
       "      <td>9.16</td>\n",
       "      <td>0.44</td>\n",
       "      <td>8.22</td>\n",
       "      <td>1750.94</td>\n",
       "    </tr>\n",
       "  </tbody>\n",
       "</table>\n",
       "</div>"
      ],
      "text/plain": [
       "       Country  porksupply  chickensupply  beefsupply  lambsupply  fishsupply  \\\n",
       "0    Argentina       10.51          38.66       55.48        1.56        4.36   \n",
       "1    Australia       24.14          46.12       33.86        9.87       17.69   \n",
       "2      Albania       10.88          13.23       22.50       15.32        3.85   \n",
       "3      Iceland       21.69          26.87       13.36       21.12       74.41   \n",
       "4  New Zealand       22.29          34.98       22.49       18.91       20.36   \n",
       "\n",
       "   eggsupply  milkcheesesupply  wheatprodsupply  ricesupply  soybeansupply  \\\n",
       "0      11.39            195.08           103.11        8.77           0.00   \n",
       "1       8.51            234.49            70.46       11.03           0.19   \n",
       "2      12.45            303.72           138.64        7.78           0.00   \n",
       "3       8.24            225.82            72.92        3.89           0.11   \n",
       "4       9.91            137.25            76.91        9.16           0.44   \n",
       "\n",
       "   nutssupply  totalco2  \n",
       "0        0.49   2172.40  \n",
       "1        8.73   1938.64  \n",
       "2        4.36   1777.84  \n",
       "3        3.88   1731.35  \n",
       "4        8.22   1750.94  "
      ]
     },
     "execution_count": 68,
     "metadata": {},
     "output_type": "execute_result"
    }
   ],
   "source": [
    "food_supply = food.drop(columns=[col for col in food.columns if re.findall('co2', col)][:-1])\n",
    "food_supply.head()"
   ]
  },
  {
   "cell_type": "code",
   "execution_count": 69,
   "metadata": {},
   "outputs": [
    {
     "data": {
      "text/plain": [
       "0.029999999999972715"
      ]
     },
     "execution_count": 69,
     "metadata": {},
     "output_type": "execute_result"
    }
   ],
   "source": [
    "# check that the totalco2 is roughly the sum of the co2 columns by looking at the largest difference between the two\n",
    "max(food_co2.loc[:, food_co2.columns[1:-1]].values.sum(axis=1) - food_co2['totalco2'].values)"
   ]
  },
  {
   "cell_type": "markdown",
   "metadata": {},
   "source": [
    "### Motivation for conversion of data to percentages:\n",
    "We converted the supply columns to percentages so that it is more comparable to an individual's diet. People tend to have a *better grasp of the relative amounts of each food group they eat rather than the raw amount*, which is what the data was before cleaning. That way, our model can take inputs of the percent of each food group an individual consumes on an annual basis, and relate that directly to `totalco2`."
   ]
  },
  {
   "cell_type": "code",
   "execution_count": 70,
   "metadata": {},
   "outputs": [
    {
     "data": {
      "text/plain": [
       "Index(['porksupply', 'chickensupply', 'beefsupply', 'lambsupply', 'fishsupply',\n",
       "       'eggsupply', 'milkcheesesupply', 'wheatprodsupply', 'ricesupply',\n",
       "       'soybeansupply'],\n",
       "      dtype='object')"
      ]
     },
     "execution_count": 70,
     "metadata": {},
     "output_type": "execute_result"
    }
   ],
   "source": [
    "food_supply.columns[1:-2]"
   ]
  },
  {
   "cell_type": "code",
   "execution_count": 71,
   "metadata": {},
   "outputs": [
    {
     "data": {
      "text/html": [
       "<div>\n",
       "<style scoped>\n",
       "    .dataframe tbody tr th:only-of-type {\n",
       "        vertical-align: middle;\n",
       "    }\n",
       "\n",
       "    .dataframe tbody tr th {\n",
       "        vertical-align: top;\n",
       "    }\n",
       "\n",
       "    .dataframe thead th {\n",
       "        text-align: right;\n",
       "    }\n",
       "</style>\n",
       "<table border=\"1\" class=\"dataframe\">\n",
       "  <thead>\n",
       "    <tr style=\"text-align: right;\">\n",
       "      <th></th>\n",
       "      <th>porksupply_pct</th>\n",
       "      <th>chickensupply_pct</th>\n",
       "      <th>beefsupply_pct</th>\n",
       "      <th>lambsupply_pct</th>\n",
       "      <th>fishsupply_pct</th>\n",
       "      <th>eggsupply_pct</th>\n",
       "      <th>milkcheesesupply_pct</th>\n",
       "      <th>wheatprodsupply_pct</th>\n",
       "      <th>ricesupply_pct</th>\n",
       "      <th>soybeansupply_pct</th>\n",
       "      <th>totalco2</th>\n",
       "      <th>Country</th>\n",
       "    </tr>\n",
       "  </thead>\n",
       "  <tbody>\n",
       "    <tr>\n",
       "      <th>0</th>\n",
       "      <td>0.024503</td>\n",
       "      <td>0.090133</td>\n",
       "      <td>0.129348</td>\n",
       "      <td>0.003637</td>\n",
       "      <td>0.010165</td>\n",
       "      <td>0.026555</td>\n",
       "      <td>0.454817</td>\n",
       "      <td>0.240394</td>\n",
       "      <td>0.020447</td>\n",
       "      <td>0.000000</td>\n",
       "      <td>2172.40</td>\n",
       "      <td>Argentina</td>\n",
       "    </tr>\n",
       "    <tr>\n",
       "      <th>1</th>\n",
       "      <td>0.052897</td>\n",
       "      <td>0.101061</td>\n",
       "      <td>0.074196</td>\n",
       "      <td>0.021628</td>\n",
       "      <td>0.038763</td>\n",
       "      <td>0.018648</td>\n",
       "      <td>0.513827</td>\n",
       "      <td>0.154396</td>\n",
       "      <td>0.024170</td>\n",
       "      <td>0.000416</td>\n",
       "      <td>1938.64</td>\n",
       "      <td>Australia</td>\n",
       "    </tr>\n",
       "    <tr>\n",
       "      <th>2</th>\n",
       "      <td>0.020592</td>\n",
       "      <td>0.025039</td>\n",
       "      <td>0.042584</td>\n",
       "      <td>0.028995</td>\n",
       "      <td>0.007287</td>\n",
       "      <td>0.023563</td>\n",
       "      <td>0.574824</td>\n",
       "      <td>0.262392</td>\n",
       "      <td>0.014725</td>\n",
       "      <td>0.000000</td>\n",
       "      <td>1777.84</td>\n",
       "      <td>Albania</td>\n",
       "    </tr>\n",
       "    <tr>\n",
       "      <th>3</th>\n",
       "      <td>0.046304</td>\n",
       "      <td>0.057362</td>\n",
       "      <td>0.028521</td>\n",
       "      <td>0.045087</td>\n",
       "      <td>0.158850</td>\n",
       "      <td>0.017591</td>\n",
       "      <td>0.482078</td>\n",
       "      <td>0.155669</td>\n",
       "      <td>0.008304</td>\n",
       "      <td>0.000235</td>\n",
       "      <td>1731.35</td>\n",
       "      <td>Iceland</td>\n",
       "    </tr>\n",
       "    <tr>\n",
       "      <th>4</th>\n",
       "      <td>0.063198</td>\n",
       "      <td>0.099178</td>\n",
       "      <td>0.063765</td>\n",
       "      <td>0.053615</td>\n",
       "      <td>0.057726</td>\n",
       "      <td>0.028098</td>\n",
       "      <td>0.389141</td>\n",
       "      <td>0.218061</td>\n",
       "      <td>0.025971</td>\n",
       "      <td>0.001248</td>\n",
       "      <td>1750.94</td>\n",
       "      <td>New Zealand</td>\n",
       "    </tr>\n",
       "  </tbody>\n",
       "</table>\n",
       "</div>"
      ],
      "text/plain": [
       "   porksupply_pct  chickensupply_pct  beefsupply_pct  lambsupply_pct  \\\n",
       "0        0.024503           0.090133        0.129348        0.003637   \n",
       "1        0.052897           0.101061        0.074196        0.021628   \n",
       "2        0.020592           0.025039        0.042584        0.028995   \n",
       "3        0.046304           0.057362        0.028521        0.045087   \n",
       "4        0.063198           0.099178        0.063765        0.053615   \n",
       "\n",
       "   fishsupply_pct  eggsupply_pct  milkcheesesupply_pct  wheatprodsupply_pct  \\\n",
       "0        0.010165       0.026555              0.454817             0.240394   \n",
       "1        0.038763       0.018648              0.513827             0.154396   \n",
       "2        0.007287       0.023563              0.574824             0.262392   \n",
       "3        0.158850       0.017591              0.482078             0.155669   \n",
       "4        0.057726       0.028098              0.389141             0.218061   \n",
       "\n",
       "   ricesupply_pct  soybeansupply_pct  totalco2      Country  \n",
       "0        0.020447           0.000000   2172.40    Argentina  \n",
       "1        0.024170           0.000416   1938.64    Australia  \n",
       "2        0.014725           0.000000   1777.84      Albania  \n",
       "3        0.008304           0.000235   1731.35      Iceland  \n",
       "4        0.025971           0.001248   1750.94  New Zealand  "
      ]
     },
     "execution_count": 71,
     "metadata": {},
     "output_type": "execute_result"
    }
   ],
   "source": [
    "# create a column of the total supply of each row\n",
    "columns_supply = food_supply.columns[1:-2] # ignore the Country, totalco2, totalsupply columns\n",
    "food_supply['totalsupply'] = food_supply.loc[:, columns_supply].values.sum(axis=1)\n",
    "\n",
    "# convert columns into percentages\n",
    "food_pct = pd.DataFrame([])\n",
    "for col in columns_supply:\n",
    "    food_pct[col + '_pct'] = food_supply[col] / food_supply['totalsupply']\n",
    "    \n",
    "# add the y variable and country to the new df\n",
    "food_pct['totalco2'] = food_co2['totalco2']\n",
    "food_pct['Country'] = food['Country']\n",
    "food_pct.head()"
   ]
  },
  {
   "cell_type": "code",
   "execution_count": 72,
   "metadata": {},
   "outputs": [],
   "source": [
    "# food_pct.to_csv('../../data/nu3-pctfoodsupply-CO2-emissions.csv')"
   ]
  },
  {
   "cell_type": "markdown",
   "metadata": {},
   "source": [
    "---\n",
    "\n",
    "## Exploratory Data Analysis\n",
    "\n",
    "We now have one main dataset that will be used for modelling: `food_pct`."
   ]
  },
  {
   "cell_type": "code",
   "execution_count": 73,
   "metadata": {},
   "outputs": [
    {
     "data": {
      "image/png": "[encoded data removed]",
      "text/plain": [
       "<Figure size 576x360 with 2 Axes>"
      ]
     },
     "metadata": {
      "needs_background": "light"
     },
     "output_type": "display_data"
    }
   ],
   "source": [
    "fig, ax = plt.subplots(figsize=(8, 5))\n",
    "sns.heatmap(food_pct.corr(), annot=True, vmin=-1, ax=ax)\n",
    "plt.title('Correlation Matrix');"
   ]
  },
  {
   "cell_type": "markdown",
   "metadata": {},
   "source": [
    "We see that certain pairings of our features have strong correlation:\n",
    "- rice supply & milkcheese supply: -0.75\n",
    "- fish supply & milkcheese supply: -0.6\n",
    "- pork supply & egg supply: 0.41\n",
    "\n",
    "Certain features also have stronger correlation with our y variable `totalco2`:\n",
    "- milkcheese supply: 0.54\n",
    "- rice supply: -0.49\n",
    "- beef supply: 0.45\n",
    "\n",
    "But nothing particularly interesting, or any immediate reason that these variables would have the noted correlations. We can keep this matrix in mind when performing feature selection, as we want to prevent collinearity and improve our AIC/Adj. $R^2$ by keeping our chosen covariates distinct."
   ]
  },
  {
   "cell_type": "code",
   "execution_count": 74,
   "metadata": {
    "scrolled": false
   },
   "outputs": [
    {
     "data": {
      "image/png": "[encoded data removed]",
      "text/plain": [
       "<Figure size 720x432 with 4 Axes>"
      ]
     },
     "metadata": {
      "needs_background": "light"
     },
     "output_type": "display_data"
    }
   ],
   "source": [
    "plt.figure(figsize=(10,6))\n",
    "\n",
    "plt.subplot(2,2,1)\n",
    "plt.hist(food_pct['totalco2'], bins = np.linspace(food_pct['totalco2'].min(), food_pct['totalco2'].max(), 16));\n",
    "plt.title('Distribution of Y Variable: Total CO2')\n",
    "plt.xlabel('Total CO2')\n",
    "plt.yticks(np.arange(0, 21, 2))\n",
    "plt.ylabel('Counts')\n",
    "\n",
    "plt.subplot(2,2,2)\n",
    "plt.hist(np.log(food_pct['totalco2']), bins = np.linspace(np.log(food_pct['totalco2']).min(), \n",
    "                                                            np.log(food_pct['totalco2']).max(), 16));\n",
    "plt.title('Distribution of Y Variable: log(Total KG CO2)/person/year')\n",
    "plt.xlabel('log(Total CO2)')\n",
    "plt.yticks(np.arange(0, 21, 2))\n",
    "plt.ylabel('Counts')\n",
    "\n",
    "plt.subplot(2,2,3)\n",
    "sns.boxplot(food_pct['totalco2'])\n",
    "plt.xlabel('Total KG CO2 /person/year')\n",
    "plt.title('Boxplot of Y Variable')\n",
    "\n",
    "plt.subplot(2,2,4)\n",
    "sns.boxplot(np.log(food_pct['totalco2']))\n",
    "plt.xlabel('log(Total KG CO2) /person/year')\n",
    "plt.title('Boxplot of log(Y Variable)')\n",
    "\n",
    "plt.tight_layout()"
   ]
  },
  {
   "cell_type": "markdown",
   "metadata": {},
   "source": [
    "Our Y variable is right skewed, but is not so strong where we need a log transformation for our model. We may try using transformations to improve our model later on, but for now, we will move forward without any variable transformations."
   ]
  },
  {
   "cell_type": "markdown",
   "metadata": {},
   "source": [
    "Here is the distribution of the **average American diet** according to our data."
   ]
  },
  {
   "cell_type": "code",
   "execution_count": 75,
   "metadata": {},
   "outputs": [
    {
     "data": {
      "text/html": [
       "<div>\n",
       "<style scoped>\n",
       "    .dataframe tbody tr th:only-of-type {\n",
       "        vertical-align: middle;\n",
       "    }\n",
       "\n",
       "    .dataframe tbody tr th {\n",
       "        vertical-align: top;\n",
       "    }\n",
       "\n",
       "    .dataframe thead th {\n",
       "        text-align: right;\n",
       "    }\n",
       "</style>\n",
       "<table border=\"1\" class=\"dataframe\">\n",
       "  <thead>\n",
       "    <tr style=\"text-align: right;\">\n",
       "      <th></th>\n",
       "      <th>Pork</th>\n",
       "      <th>Chicken</th>\n",
       "      <th>Beef</th>\n",
       "      <th>Lamb</th>\n",
       "      <th>Fish</th>\n",
       "      <th>Eggs</th>\n",
       "      <th>Milk&amp;Cheese</th>\n",
       "      <th>Wheat</th>\n",
       "      <th>Rice</th>\n",
       "      <th>Soybeans</th>\n",
       "    </tr>\n",
       "  </thead>\n",
       "  <tbody>\n",
       "    <tr>\n",
       "      <th>5</th>\n",
       "      <td>0.057191</td>\n",
       "      <td>0.103478</td>\n",
       "      <td>0.074986</td>\n",
       "      <td>0.00089</td>\n",
       "      <td>0.025554</td>\n",
       "      <td>0.030168</td>\n",
       "      <td>0.526992</td>\n",
       "      <td>0.166422</td>\n",
       "      <td>0.014236</td>\n",
       "      <td>0.000083</td>\n",
       "    </tr>\n",
       "  </tbody>\n",
       "</table>\n",
       "</div>"
      ],
      "text/plain": [
       "       Pork   Chicken      Beef     Lamb      Fish      Eggs  Milk&Cheese  \\\n",
       "5  0.057191  0.103478  0.074986  0.00089  0.025554  0.030168     0.526992   \n",
       "\n",
       "      Wheat      Rice  Soybeans  \n",
       "5  0.166422  0.014236  0.000083  "
      ]
     },
     "execution_count": 75,
     "metadata": {},
     "output_type": "execute_result"
    }
   ],
   "source": [
    "names = ['Pork', 'Chicken', 'Beef', 'Lamb', 'Fish', 'Eggs', 'Milk&Cheese', 'Wheat', 'Rice', 'Soybeans']\n",
    "usa = food_pct[food_pct['Country'] == 'USA'].drop(columns=['Country', 'totalco2']).rename(columns=dict(zip(food_pct.columns[:-1], names)))\n",
    "usa"
   ]
  },
  {
   "cell_type": "code",
   "execution_count": 76,
   "metadata": {},
   "outputs": [
    {
     "data": {
      "image/png": "[encoded data removed]",
      "text/plain": [
       "<Figure size 864x288 with 1 Axes>"
      ]
     },
     "metadata": {
      "needs_background": "light"
     },
     "output_type": "display_data"
    }
   ],
   "source": [
    "plt.figure(figsize=(12,4))\n",
    "plt.bar(usa.columns, usa.to_numpy()[0])\n",
    "plt.title('Average American Diet of Included Products')\n",
    "plt.ylabel('% of Diet in Weight');"
   ]
  },
  {
   "cell_type": "markdown",
   "metadata": {},
   "source": [
    "---\n",
    "\n",
    "Even though we are not looking at country location in our model, we thought it'd be interesting to plot it spatially and see if there are any trends or clusters that have higher kgCO2/person/year.\n",
    "\n",
    "Using this [guide](https://towardsdatascience.com/using-python-to-create-a-world-map-from-a-list-of-country-names-cd7480d03b10) as a basis, we plot a world map of the KG CO2 emissions per person."
   ]
  },
  {
   "cell_type": "code",
   "execution_count": 77,
   "metadata": {},
   "outputs": [
    {
     "data": {
      "text/html": [
       "<div>\n",
       "<style scoped>\n",
       "    .dataframe tbody tr th:only-of-type {\n",
       "        vertical-align: middle;\n",
       "    }\n",
       "\n",
       "    .dataframe tbody tr th {\n",
       "        vertical-align: top;\n",
       "    }\n",
       "\n",
       "    .dataframe thead th {\n",
       "        text-align: right;\n",
       "    }\n",
       "</style>\n",
       "<table border=\"1\" class=\"dataframe\">\n",
       "  <thead>\n",
       "    <tr style=\"text-align: right;\">\n",
       "      <th></th>\n",
       "      <th>totalco2</th>\n",
       "      <th>CountryName</th>\n",
       "    </tr>\n",
       "  </thead>\n",
       "  <tbody>\n",
       "    <tr>\n",
       "      <th>0</th>\n",
       "      <td>2172.40</td>\n",
       "      <td>Argentina</td>\n",
       "    </tr>\n",
       "    <tr>\n",
       "      <th>1</th>\n",
       "      <td>1938.64</td>\n",
       "      <td>Australia</td>\n",
       "    </tr>\n",
       "    <tr>\n",
       "      <th>2</th>\n",
       "      <td>1777.84</td>\n",
       "      <td>Albania</td>\n",
       "    </tr>\n",
       "    <tr>\n",
       "      <th>3</th>\n",
       "      <td>1731.35</td>\n",
       "      <td>Iceland</td>\n",
       "    </tr>\n",
       "    <tr>\n",
       "      <th>4</th>\n",
       "      <td>1750.94</td>\n",
       "      <td>New Zealand</td>\n",
       "    </tr>\n",
       "  </tbody>\n",
       "</table>\n",
       "</div>"
      ],
      "text/plain": [
       "   totalco2  CountryName\n",
       "0   2172.40    Argentina\n",
       "1   1938.64    Australia\n",
       "2   1777.84      Albania\n",
       "3   1731.35      Iceland\n",
       "4   1750.94  New Zealand"
      ]
     },
     "execution_count": 77,
     "metadata": {},
     "output_type": "execute_result"
    }
   ],
   "source": [
    "country_co2 = food_pct.loc[:, ['totalco2', 'Country']]\n",
    "country_co2.rename(columns = {'Country' : 'CountryName'}, inplace=True)\n",
    "country_co2.head()"
   ]
  },
  {
   "cell_type": "code",
   "execution_count": 78,
   "metadata": {},
   "outputs": [],
   "source": [
    "#installation\n",
    "# !pip install pycountry-convert\n",
    "\n",
    "#function to convert to alpha2 country codes and continents\n",
    "from pycountry_convert import country_alpha2_to_continent_code, country_name_to_country_alpha2\n",
    "\n",
    "def get_continent(col):\n",
    "    try:\n",
    "        cn_a2_code =  country_name_to_country_alpha2(col)\n",
    "    except:\n",
    "        cn_a2_code = 'Unknown' \n",
    "    try:\n",
    "        cn_continent = country_alpha2_to_continent_code(cn_a2_code)\n",
    "    except:\n",
    "        cn_continent = 'Unknown' \n",
    "    \n",
    "    return (cn_a2_code, cn_continent)"
   ]
  },
  {
   "cell_type": "code",
   "execution_count": 79,
   "metadata": {},
   "outputs": [
    {
     "data": {
      "text/html": [
       "<div>\n",
       "<style scoped>\n",
       "    .dataframe tbody tr th:only-of-type {\n",
       "        vertical-align: middle;\n",
       "    }\n",
       "\n",
       "    .dataframe tbody tr th {\n",
       "        vertical-align: top;\n",
       "    }\n",
       "\n",
       "    .dataframe thead th {\n",
       "        text-align: right;\n",
       "    }\n",
       "</style>\n",
       "<table border=\"1\" class=\"dataframe\">\n",
       "  <thead>\n",
       "    <tr style=\"text-align: right;\">\n",
       "      <th></th>\n",
       "      <th>totalco2</th>\n",
       "      <th>CountryName</th>\n",
       "      <th>Country</th>\n",
       "      <th>Continent</th>\n",
       "    </tr>\n",
       "  </thead>\n",
       "  <tbody>\n",
       "    <tr>\n",
       "      <th>0</th>\n",
       "      <td>2172.40</td>\n",
       "      <td>Argentina</td>\n",
       "      <td>AR</td>\n",
       "      <td>SA</td>\n",
       "    </tr>\n",
       "    <tr>\n",
       "      <th>1</th>\n",
       "      <td>1938.64</td>\n",
       "      <td>Australia</td>\n",
       "      <td>AU</td>\n",
       "      <td>OC</td>\n",
       "    </tr>\n",
       "    <tr>\n",
       "      <th>2</th>\n",
       "      <td>1777.84</td>\n",
       "      <td>Albania</td>\n",
       "      <td>AL</td>\n",
       "      <td>EU</td>\n",
       "    </tr>\n",
       "    <tr>\n",
       "      <th>3</th>\n",
       "      <td>1731.35</td>\n",
       "      <td>Iceland</td>\n",
       "      <td>IS</td>\n",
       "      <td>EU</td>\n",
       "    </tr>\n",
       "    <tr>\n",
       "      <th>4</th>\n",
       "      <td>1750.94</td>\n",
       "      <td>New Zealand</td>\n",
       "      <td>NZ</td>\n",
       "      <td>OC</td>\n",
       "    </tr>\n",
       "  </tbody>\n",
       "</table>\n",
       "</div>"
      ],
      "text/plain": [
       "   totalco2  CountryName Country Continent\n",
       "0   2172.40    Argentina      AR        SA\n",
       "1   1938.64    Australia      AU        OC\n",
       "2   1777.84      Albania      AL        EU\n",
       "3   1731.35      Iceland      IS        EU\n",
       "4   1750.94  New Zealand      NZ        OC"
      ]
     },
     "execution_count": 79,
     "metadata": {},
     "output_type": "execute_result"
    }
   ],
   "source": [
    "codes = country_co2['CountryName'].apply(get_continent)\n",
    "\n",
    "country_co2['Country'] = [code[0] for code in codes]\n",
    "country_co2['Continent'] = [code[1] for code in codes]\n",
    "country_co2.head()"
   ]
  },
  {
   "cell_type": "code",
   "execution_count": 80,
   "metadata": {},
   "outputs": [],
   "source": [
    "#installation\n",
    "# !pip install geopy\n",
    "\n",
    "#function to get longitude and latitude data from country name\n",
    "from geopy.geocoders import Nominatim\n",
    "\n",
    "geolocator = Nominatim(user_agent=\"nu3-data-analysis\")\n",
    "def geolocate(country):\n",
    "    try:\n",
    "        # Geolocate the center of the country\n",
    "        loc = geolocator.geocode(country)\n",
    "        # And return latitude and longitude\n",
    "        return (loc.latitude, loc.longitude)\n",
    "    except:\n",
    "        # Return missing value\n",
    "        return (np.nan, np.nan)"
   ]
  },
  {
   "cell_type": "code",
   "execution_count": 81,
   "metadata": {
    "scrolled": false
   },
   "outputs": [
    {
     "data": {
      "text/html": [
       "<div>\n",
       "<style scoped>\n",
       "    .dataframe tbody tr th:only-of-type {\n",
       "        vertical-align: middle;\n",
       "    }\n",
       "\n",
       "    .dataframe tbody tr th {\n",
       "        vertical-align: top;\n",
       "    }\n",
       "\n",
       "    .dataframe thead th {\n",
       "        text-align: right;\n",
       "    }\n",
       "</style>\n",
       "<table border=\"1\" class=\"dataframe\">\n",
       "  <thead>\n",
       "    <tr style=\"text-align: right;\">\n",
       "      <th></th>\n",
       "      <th>totalco2</th>\n",
       "      <th>CountryName</th>\n",
       "      <th>Country</th>\n",
       "      <th>Continent</th>\n",
       "      <th>Latitude</th>\n",
       "      <th>Longitude</th>\n",
       "    </tr>\n",
       "  </thead>\n",
       "  <tbody>\n",
       "    <tr>\n",
       "      <th>0</th>\n",
       "      <td>2172.40</td>\n",
       "      <td>Argentina</td>\n",
       "      <td>AR</td>\n",
       "      <td>SA</td>\n",
       "      <td>-34.996496</td>\n",
       "      <td>-64.967282</td>\n",
       "    </tr>\n",
       "    <tr>\n",
       "      <th>1</th>\n",
       "      <td>1938.64</td>\n",
       "      <td>Australia</td>\n",
       "      <td>AU</td>\n",
       "      <td>OC</td>\n",
       "      <td>-24.776109</td>\n",
       "      <td>134.755000</td>\n",
       "    </tr>\n",
       "    <tr>\n",
       "      <th>2</th>\n",
       "      <td>1777.84</td>\n",
       "      <td>Albania</td>\n",
       "      <td>AL</td>\n",
       "      <td>EU</td>\n",
       "      <td>33.258882</td>\n",
       "      <td>-86.829534</td>\n",
       "    </tr>\n",
       "    <tr>\n",
       "      <th>3</th>\n",
       "      <td>1731.35</td>\n",
       "      <td>Iceland</td>\n",
       "      <td>IS</td>\n",
       "      <td>EU</td>\n",
       "      <td>64.984182</td>\n",
       "      <td>-18.105901</td>\n",
       "    </tr>\n",
       "    <tr>\n",
       "      <th>4</th>\n",
       "      <td>1750.94</td>\n",
       "      <td>New Zealand</td>\n",
       "      <td>NZ</td>\n",
       "      <td>OC</td>\n",
       "      <td>-41.500083</td>\n",
       "      <td>172.834408</td>\n",
       "    </tr>\n",
       "  </tbody>\n",
       "</table>\n",
       "</div>"
      ],
      "text/plain": [
       "   totalco2  CountryName Country Continent   Latitude   Longitude\n",
       "0   2172.40    Argentina      AR        SA -34.996496  -64.967282\n",
       "1   1938.64    Australia      AU        OC -24.776109  134.755000\n",
       "2   1777.84      Albania      AL        EU  33.258882  -86.829534\n",
       "3   1731.35      Iceland      IS        EU  64.984182  -18.105901\n",
       "4   1750.94  New Zealand      NZ        OC -41.500083  172.834408"
      ]
     },
     "execution_count": 81,
     "metadata": {},
     "output_type": "execute_result"
    }
   ],
   "source": [
    "# add latitude and longitudes based on country name\n",
    "latlons = country_co2['Country'].apply(geolocate)\n",
    "\n",
    "country_co2['Latitude'] = [latlon[0] for latlon in latlons]\n",
    "country_co2['Longitude'] = [latlon[1] for latlon in latlons]\n",
    "country_co2.head()"
   ]
  },
  {
   "cell_type": "code",
   "execution_count": 82,
   "metadata": {
    "scrolled": true
   },
   "outputs": [
    {
     "data": {
      "text/html": [
       "<div>\n",
       "<style scoped>\n",
       "    .dataframe tbody tr th:only-of-type {\n",
       "        vertical-align: middle;\n",
       "    }\n",
       "\n",
       "    .dataframe tbody tr th {\n",
       "        vertical-align: top;\n",
       "    }\n",
       "\n",
       "    .dataframe thead th {\n",
       "        text-align: right;\n",
       "    }\n",
       "</style>\n",
       "<table border=\"1\" class=\"dataframe\">\n",
       "  <thead>\n",
       "    <tr style=\"text-align: right;\">\n",
       "      <th></th>\n",
       "      <th>totalco2</th>\n",
       "      <th>CountryName</th>\n",
       "      <th>Country</th>\n",
       "      <th>Continent</th>\n",
       "      <th>Latitude</th>\n",
       "      <th>Longitude</th>\n",
       "    </tr>\n",
       "  </thead>\n",
       "  <tbody>\n",
       "    <tr>\n",
       "      <th>21</th>\n",
       "      <td>1405.70</td>\n",
       "      <td>Israel</td>\n",
       "      <td>IL</td>\n",
       "      <td>AS</td>\n",
       "      <td>NaN</td>\n",
       "      <td>NaN</td>\n",
       "    </tr>\n",
       "    <tr>\n",
       "      <th>107</th>\n",
       "      <td>241.92</td>\n",
       "      <td>Ethiopia</td>\n",
       "      <td>ET</td>\n",
       "      <td>AF</td>\n",
       "      <td>NaN</td>\n",
       "      <td>NaN</td>\n",
       "    </tr>\n",
       "    <tr>\n",
       "      <th>121</th>\n",
       "      <td>282.62</td>\n",
       "      <td>India</td>\n",
       "      <td>IN</td>\n",
       "      <td>AS</td>\n",
       "      <td>NaN</td>\n",
       "      <td>NaN</td>\n",
       "    </tr>\n",
       "  </tbody>\n",
       "</table>\n",
       "</div>"
      ],
      "text/plain": [
       "     totalco2 CountryName Country Continent  Latitude  Longitude\n",
       "21    1405.70      Israel      IL        AS       NaN        NaN\n",
       "107    241.92    Ethiopia      ET        AF       NaN        NaN\n",
       "121    282.62       India      IN        AS       NaN        NaN"
      ]
     },
     "execution_count": 82,
     "metadata": {},
     "output_type": "execute_result"
    }
   ],
   "source": [
    "country_co2.loc[country_co2['Latitude'].isna(), :]"
   ]
  },
  {
   "cell_type": "code",
   "execution_count": 83,
   "metadata": {},
   "outputs": [],
   "source": [
    "# removing the missing values as an easy way to see the world map\n",
    "country_co2_clean = country_co2.loc[~country_co2['Latitude'].isna(), :]"
   ]
  },
  {
   "cell_type": "code",
   "execution_count": 84,
   "metadata": {
    "scrolled": true
   },
   "outputs": [
    {
     "data": {
      "text/html": [
       "<div style=\"width:100%;\"><div style=\"position:relative;width:100%;height:0;padding-bottom:60%;\"><span style=\"color:#565656\">Make this Notebook Trusted to load map: File -> Trust Notebook</span><iframe src=\"about:blank\" style=\"position:absolute;width:100%;height:100%;left:0;top:0;border:none !important;\" data-html=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 onload=\"this.contentDocument.open();this.contentDocument.write(atob(this.getAttribute('data-html')));this.contentDocument.close();\" allowfullscreen webkitallowfullscreen mozallowfullscreen></iframe></div></div>"
      ],
      "text/plain": [
       "<folium.folium.Map at 0x198b6dce640>"
      ]
     },
     "execution_count": 84,
     "metadata": {},
     "output_type": "execute_result"
    }
   ],
   "source": [
    "#installation\n",
    "# !pip install folium\n",
    "\n",
    "# Create a world map to show distributions of users \n",
    "import folium\n",
    "from folium.plugins import MarkerCluster\n",
    "\n",
    "#empty map\n",
    "world_map= folium.Map(tiles=\"cartodbpositron\")\n",
    "marker_cluster = MarkerCluster().add_to(world_map)\n",
    "#for each coordinate, create circlemarker of user percent\n",
    "for i in range(len(country_co2_clean)):\n",
    "        lat = country_co2_clean.iloc[i]['Latitude']\n",
    "        long = country_co2_clean.iloc[i]['Longitude']\n",
    "        radius=5\n",
    "        popup_text = \"\"\"Country : {}<br>\n",
    "                    kgCO2/person/year : {}<br>\"\"\"\n",
    "        popup_text = popup_text.format(country_co2_clean.iloc[i]['CountryName'],\n",
    "                                   country_co2_clean.iloc[i]['totalco2']\n",
    "                                   )\n",
    "        folium.CircleMarker(location = [lat, long], radius=radius, popup= popup_text, fill =True).add_to(marker_cluster)\n",
    "#show the map\n",
    "world_map"
   ]
  },
  {
   "cell_type": "markdown",
   "metadata": {},
   "source": [
    "A lot of the locations on the map have the incorrect latitudes and longitudes, but it is still interesting to look at and play around with!"
   ]
  },
  {
   "cell_type": "markdown",
   "metadata": {},
   "source": [
    "#### Another map:"
   ]
  },
  {
   "cell_type": "code",
   "execution_count": 92,
   "metadata": {},
   "outputs": [
    {
     "name": "stderr",
     "output_type": "stream",
     "text": [
      "Unknown not found in regex\n",
      "Unknown not found in regex\n"
     ]
    }
   ],
   "source": [
    "# !pip install country-converter\n",
    "\n",
    "import country_converter as coco\n",
    "\n",
    "country_co2['CountryCode'] = coco.convert(names=country_co2['Country'].to_list(), to='ISO3') # ignore the error"
   ]
  },
  {
   "cell_type": "code",
   "execution_count": 93,
   "metadata": {
    "scrolled": false
   },
   "outputs": [
    {
     "data": {
      "application/vnd.plotly.v1+json": {
       "config": {
        "plotlyServerURL": "https://plot.ly"
       },
       "data": [
        {
         "coloraxis": "coloraxis",
         "geo": "geo",
         "hovertemplate": "<b>%{hovertext}</b><br><br>CountryCode=%{location}<br>totalco2=%{z}<extra></extra>",
         "hovertext": [
          "AR",
          "AU",
          "AL",
          "IS",
          "NZ",
          "US",
          "UY",
          "LU",
          "BR",
          "KZ",
          "SE",
          "BM",
          "DK",
          "FI",
          "IE",
          "GR",
          "FR",
          "CA",
          "NO",
          "Unknown",
          "PF",
          "IL",
          "CH",
          "NL",
          "KW",
          "GB",
          "AT",
          "OM",
          "IT",
          "BS",
          "PT",
          "MT",
          "AM",
          "SI",
          "CL",
          "VE",
          "BE",
          "DE",
          "RU",
          "HR",
          "BY",
          "ES",
          "PY",
          "NC",
          "ZA",
          "BB",
          "LT",
          "TR",
          "EE",
          "MX",
          "CR",
          "BO",
          "EC",
          "PA",
          "CZ",
          "RO",
          "CO",
          "MV",
          "CY",
          "RS",
          "AE",
          "DZ",
          "UA",
          "PK",
          "SZ",
          "LV",
          "BA",
          "FJ",
          "KR",
          "PL",
          "SA",
          "BW",
          "MK",
          "HU",
          "TT",
          "TN",
          "EG",
          "MU",
          "BG",
          "MA",
          "SK",
          "NE",
          "KE",
          "JO",
          "JP",
          "GE",
          "GD",
          "SV",
          "CU",
          "CN",
          "HN",
          "Unknown",
          "AO",
          "JM",
          "NA",
          "BZ",
          "MY",
          "ZW",
          "GT",
          "UG",
          "NP",
          "IR",
          "TZ",
          "SN",
          "PE",
          "NI",
          "VN",
          "ET",
          "MM",
          "CG",
          "ZM",
          "CM",
          "MG",
          "MW",
          "GN",
          "NG",
          "RW",
          "PH",
          "GH",
          "TG",
          "GM",
          "IN",
          "TH",
          "MZ",
          "KH",
          "SL",
          "LK",
          "ID",
          "LR",
          "BD"
         ],
         "locations": [
          "ARG",
          "AUS",
          "ALB",
          "ISL",
          "NZL",
          "USA",
          "URY",
          "LUX",
          "BRA",
          "KAZ",
          "SWE",
          "BMU",
          "DNK",
          "FIN",
          "IRL",
          "GRC",
          "FRA",
          "CAN",
          "NOR",
          "not found",
          "PYF",
          "ISR",
          "CHE",
          "NLD",
          "KWT",
          "GBR",
          "AUT",
          "OMN",
          "ITA",
          "BHS",
          "PRT",
          "MLT",
          "ARM",
          "SVN",
          "CHL",
          "VEN",
          "BEL",
          "DEU",
          "RUS",
          "HRV",
          "BLR",
          "ESP",
          "PRY",
          "NCL",
          "ZAF",
          "BRB",
          "LTU",
          "TUR",
          "EST",
          "MEX",
          "CRI",
          "BOL",
          "ECU",
          "PAN",
          "CZE",
          "ROU",
          "COL",
          "MDV",
          "CYP",
          "SRB",
          "ARE",
          "DZA",
          "UKR",
          "PAK",
          "SWZ",
          "LVA",
          "BIH",
          "FJI",
          "KOR",
          "POL",
          "SAU",
          "BWA",
          "MKD",
          "HUN",
          "TTO",
          "TUN",
          "EGY",
          "MUS",
          "BGR",
          "MAR",
          "SVK",
          "NER",
          "KEN",
          "JOR",
          "JPN",
          "GEO",
          "GRD",
          "SLV",
          "CUB",
          "CHN",
          "HND",
          "not found",
          "AGO",
          "JAM",
          "NAM",
          "BLZ",
          "MYS",
          "ZWE",
          "GTM",
          "UGA",
          "NPL",
          "IRN",
          "TZA",
          "SEN",
          "PER",
          "NIC",
          "VNM",
          "ETH",
          "MMR",
          "COG",
          "ZMB",
          "CMR",
          "MDG",
          "MWI",
          "GIN",
          "NGA",
          "RWA",
          "PHL",
          "GHA",
          "TGO",
          "GMB",
          "IND",
          "THA",
          "MOZ",
          "KHM",
          "SLE",
          "LKA",
          "IDN",
          "LBR",
          "BGD"
         ],
         "name": "",
         "type": "choropleth",
         "z": [
          2172.4,
          1938.6399999999999,
          1777.84,
          1731.35,
          1750.94,
          1718.86,
          1634.91,
          1598.41,
          1616.73,
          1575.07,
          1527.0200000000002,
          1483.27,
          1498.1699999999998,
          1464.63,
          1459.6699999999998,
          1497.29,
          1420.06,
          1437.15,
          1381.9,
          1494.29,
          1424.67,
          1405.6999999999998,
          1356.75,
          1292.83,
          1345.4499999999998,
          1241.63,
          1211.1599999999999,
          1296.7,
          1206.33,
          1192.91,
          1174.28,
          1147.91,
          1109.93,
          1111.55,
          1099.57,
          1104.1000000000001,
          1102.08,
          1066.29,
          1007.66,
          996.1400000000001,
          960.1999999999999,
          988.49,
          876.67,
          918.5999999999999,
          892.41,
          889.11,
          868.91,
          897.01,
          830.7099999999999,
          797.13,
          891.27,
          873.03,
          883.88,
          928.46,
          760.0899999999999,
          766.3000000000001,
          781.53,
          903.46,
          741.36,
          723.32,
          897.3100000000001,
          707.89,
          665.73,
          669.05,
          678.9399999999999,
          633.5699999999999,
          628.1800000000001,
          716.08,
          822.0500000000001,
          607.3900000000001,
          692.88,
          576.86,
          600.7399999999999,
          576.8100000000001,
          610.41,
          618.89,
          673.93,
          672.0699999999999,
          560.16,
          576.39,
          560.34,
          542.8900000000001,
          530.84,
          587.96,
          644.06,
          527.03,
          439.85,
          434.03000000000003,
          591.69,
          640.2,
          434.08000000000004,
          559.55,
          412.99,
          450.81,
          362.12,
          433.07,
          554.64,
          350.34,
          314.99,
          304.73,
          526.24,
          445.27,
          343.02,
          469.42,
          402.84000000000003,
          377.7,
          641.52,
          241.92000000000002,
          563.8,
          262.55,
          225.31,
          283.61,
          440.76,
          207.95,
          432.70000000000005,
          267.78,
          181.62,
          455.28,
          217.88,
          188.10000000000002,
          293.65,
          282.62,
          377.98,
          141.41,
          452.40999999999997,
          300.40999999999997,
          294.45000000000005,
          367.52,
          203.39,
          374.19
         ]
        }
       ],
       "layout": {
        "coloraxis": {
         "colorbar": {
          "title": {
           "text": "totalco2"
          }
         },
         "colorscale": [
          [
           0,
           "#0d0887"
          ],
          [
           0.1111111111111111,
           "#46039f"
          ],
          [
           0.2222222222222222,
           "#7201a8"
          ],
          [
           0.3333333333333333,
           "#9c179e"
          ],
          [
           0.4444444444444444,
           "#bd3786"
          ],
          [
           0.5555555555555556,
           "#d8576b"
          ],
          [
           0.6666666666666666,
           "#ed7953"
          ],
          [
           0.7777777777777778,
           "#fb9f3a"
          ],
          [
           0.8888888888888888,
           "#fdca26"
          ],
          [
           1,
           "#f0f921"
          ]
         ]
        },
        "geo": {
         "center": {},
         "domain": {
          "x": [
           0,
           1
          ],
          "y": [
           0,
           1
          ]
         }
        },
        "legend": {
         "tracegroupgap": 0
        },
        "margin": {
         "t": 60
        },
        "template": {
         "data": {
          "bar": [
           {
            "error_x": {
             "color": "#2a3f5f"
            },
            "error_y": {
             "color": "#2a3f5f"
            },
            "marker": {
             "line": {
              "color": "#E5ECF6",
              "width": 0.5
             }
            },
            "type": "bar"
           }
          ],
          "barpolar": [
           {
            "marker": {
             "line": {
              "color": "#E5ECF6",
              "width": 0.5
             }
            },
            "type": "barpolar"
           }
          ],
          "carpet": [
           {
            "aaxis": {
             "endlinecolor": "#2a3f5f",
             "gridcolor": "white",
             "linecolor": "white",
             "minorgridcolor": "white",
             "startlinecolor": "#2a3f5f"
            },
            "baxis": {
             "endlinecolor": "#2a3f5f",
             "gridcolor": "white",
             "linecolor": "white",
             "minorgridcolor": "white",
             "startlinecolor": "#2a3f5f"
            },
            "type": "carpet"
           }
          ],
          "choropleth": [
           {
            "colorbar": {
             "outlinewidth": 0,
             "ticks": ""
            },
            "type": "choropleth"
           }
          ],
          "contour": [
           {
            "colorbar": {
             "outlinewidth": 0,
             "ticks": ""
            },
            "colorscale": [
             [
              0,
              "#0d0887"
             ],
             [
              0.1111111111111111,
              "#46039f"
             ],
             [
              0.2222222222222222,
              "#7201a8"
             ],
             [
              0.3333333333333333,
              "#9c179e"
             ],
             [
              0.4444444444444444,
              "#bd3786"
             ],
             [
              0.5555555555555556,
              "#d8576b"
             ],
             [
              0.6666666666666666,
              "#ed7953"
             ],
             [
              0.7777777777777778,
              "#fb9f3a"
             ],
             [
              0.8888888888888888,
              "#fdca26"
             ],
             [
              1,
              "#f0f921"
             ]
            ],
            "type": "contour"
           }
          ],
          "contourcarpet": [
           {
            "colorbar": {
             "outlinewidth": 0,
             "ticks": ""
            },
            "type": "contourcarpet"
           }
          ],
          "heatmap": [
           {
            "colorbar": {
             "outlinewidth": 0,
             "ticks": ""
            },
            "colorscale": [
             [
              0,
              "#0d0887"
             ],
             [
              0.1111111111111111,
              "#46039f"
             ],
             [
              0.2222222222222222,
              "#7201a8"
             ],
             [
              0.3333333333333333,
              "#9c179e"
             ],
             [
              0.4444444444444444,
              "#bd3786"
             ],
             [
              0.5555555555555556,
              "#d8576b"
             ],
             [
              0.6666666666666666,
              "#ed7953"
             ],
             [
              0.7777777777777778,
              "#fb9f3a"
             ],
             [
              0.8888888888888888,
              "#fdca26"
             ],
             [
              1,
              "#f0f921"
             ]
            ],
            "type": "heatmap"
           }
          ],
          "heatmapgl": [
           {
            "colorbar": {
             "outlinewidth": 0,
             "ticks": ""
            },
            "colorscale": [
             [
              0,
              "#0d0887"
             ],
             [
              0.1111111111111111,
              "#46039f"
             ],
             [
              0.2222222222222222,
              "#7201a8"
             ],
             [
              0.3333333333333333,
              "#9c179e"
             ],
             [
              0.4444444444444444,
              "#bd3786"
             ],
             [
              0.5555555555555556,
              "#d8576b"
             ],
             [
              0.6666666666666666,
              "#ed7953"
             ],
             [
              0.7777777777777778,
              "#fb9f3a"
             ],
             [
              0.8888888888888888,
              "#fdca26"
             ],
             [
              1,
              "#f0f921"
             ]
            ],
            "type": "heatmapgl"
           }
          ],
          "histogram": [
           {
            "marker": {
             "colorbar": {
              "outlinewidth": 0,
              "ticks": ""
             }
            },
            "type": "histogram"
           }
          ],
          "histogram2d": [
           {
            "colorbar": {
             "outlinewidth": 0,
             "ticks": ""
            },
            "colorscale": [
             [
              0,
              "#0d0887"
             ],
             [
              0.1111111111111111,
              "#46039f"
             ],
             [
              0.2222222222222222,
              "#7201a8"
             ],
             [
              0.3333333333333333,
              "#9c179e"
             ],
             [
              0.4444444444444444,
              "#bd3786"
             ],
             [
              0.5555555555555556,
              "#d8576b"
             ],
             [
              0.6666666666666666,
              "#ed7953"
             ],
             [
              0.7777777777777778,
              "#fb9f3a"
             ],
             [
              0.8888888888888888,
              "#fdca26"
             ],
             [
              1,
              "#f0f921"
             ]
            ],
            "type": "histogram2d"
           }
          ],
          "histogram2dcontour": [
           {
            "colorbar": {
             "outlinewidth": 0,
             "ticks": ""
            },
            "colorscale": [
             [
              0,
              "#0d0887"
             ],
             [
              0.1111111111111111,
              "#46039f"
             ],
             [
              0.2222222222222222,
              "#7201a8"
             ],
             [
              0.3333333333333333,
              "#9c179e"
             ],
             [
              0.4444444444444444,
              "#bd3786"
             ],
             [
              0.5555555555555556,
              "#d8576b"
             ],
             [
              0.6666666666666666,
              "#ed7953"
             ],
             [
              0.7777777777777778,
              "#fb9f3a"
             ],
             [
              0.8888888888888888,
              "#fdca26"
             ],
             [
              1,
              "#f0f921"
             ]
            ],
            "type": "histogram2dcontour"
           }
          ],
          "mesh3d": [
           {
            "colorbar": {
             "outlinewidth": 0,
             "ticks": ""
            },
            "type": "mesh3d"
           }
          ],
          "parcoords": [
           {
            "line": {
             "colorbar": {
              "outlinewidth": 0,
              "ticks": ""
             }
            },
            "type": "parcoords"
           }
          ],
          "pie": [
           {
            "automargin": true,
            "type": "pie"
           }
          ],
          "scatter": [
           {
            "marker": {
             "colorbar": {
              "outlinewidth": 0,
              "ticks": ""
             }
            },
            "type": "scatter"
           }
          ],
          "scatter3d": [
           {
            "line": {
             "colorbar": {
              "outlinewidth": 0,
              "ticks": ""
             }
            },
            "marker": {
             "colorbar": {
              "outlinewidth": 0,
              "ticks": ""
             }
            },
            "type": "scatter3d"
           }
          ],
          "scattercarpet": [
           {
            "marker": {
             "colorbar": {
              "outlinewidth": 0,
              "ticks": ""
             }
            },
            "type": "scattercarpet"
           }
          ],
          "scattergeo": [
           {
            "marker": {
             "colorbar": {
              "outlinewidth": 0,
              "ticks": ""
             }
            },
            "type": "scattergeo"
           }
          ],
          "scattergl": [
           {
            "marker": {
             "colorbar": {
              "outlinewidth": 0,
              "ticks": ""
             }
            },
            "type": "scattergl"
           }
          ],
          "scattermapbox": [
           {
            "marker": {
             "colorbar": {
              "outlinewidth": 0,
              "ticks": ""
             }
            },
            "type": "scattermapbox"
           }
          ],
          "scatterpolar": [
           {
            "marker": {
             "colorbar": {
              "outlinewidth": 0,
              "ticks": ""
             }
            },
            "type": "scatterpolar"
           }
          ],
          "scatterpolargl": [
           {
            "marker": {
             "colorbar": {
              "outlinewidth": 0,
              "ticks": ""
             }
            },
            "type": "scatterpolargl"
           }
          ],
          "scatterternary": [
           {
            "marker": {
             "colorbar": {
              "outlinewidth": 0,
              "ticks": ""
             }
            },
            "type": "scatterternary"
           }
          ],
          "surface": [
           {
            "colorbar": {
             "outlinewidth": 0,
             "ticks": ""
            },
            "colorscale": [
             [
              0,
              "#0d0887"
             ],
             [
              0.1111111111111111,
              "#46039f"
             ],
             [
              0.2222222222222222,
              "#7201a8"
             ],
             [
              0.3333333333333333,
              "#9c179e"
             ],
             [
              0.4444444444444444,
              "#bd3786"
             ],
             [
              0.5555555555555556,
              "#d8576b"
             ],
             [
              0.6666666666666666,
              "#ed7953"
             ],
             [
              0.7777777777777778,
              "#fb9f3a"
             ],
             [
              0.8888888888888888,
              "#fdca26"
             ],
             [
              1,
              "#f0f921"
             ]
            ],
            "type": "surface"
           }
          ],
          "table": [
           {
            "cells": {
             "fill": {
              "color": "#EBF0F8"
             },
             "line": {
              "color": "white"
             }
            },
            "header": {
             "fill": {
              "color": "#C8D4E3"
             },
             "line": {
              "color": "white"
             }
            },
            "type": "table"
           }
          ]
         },
         "layout": {
          "annotationdefaults": {
           "arrowcolor": "#2a3f5f",
           "arrowhead": 0,
           "arrowwidth": 1
          },
          "coloraxis": {
           "colorbar": {
            "outlinewidth": 0,
            "ticks": ""
           }
          },
          "colorscale": {
           "diverging": [
            [
             0,
             "#8e0152"
            ],
            [
             0.1,
             "#c51b7d"
            ],
            [
             0.2,
             "#de77ae"
            ],
            [
             0.3,
             "#f1b6da"
            ],
            [
             0.4,
             "#fde0ef"
            ],
            [
             0.5,
             "#f7f7f7"
            ],
            [
             0.6,
             "#e6f5d0"
            ],
            [
             0.7,
             "#b8e186"
            ],
            [
             0.8,
             "#7fbc41"
            ],
            [
             0.9,
             "#4d9221"
            ],
            [
             1,
             "#276419"
            ]
           ],
           "sequential": [
            [
             0,
             "#0d0887"
            ],
            [
             0.1111111111111111,
             "#46039f"
            ],
            [
             0.2222222222222222,
             "#7201a8"
            ],
            [
             0.3333333333333333,
             "#9c179e"
            ],
            [
             0.4444444444444444,
             "#bd3786"
            ],
            [
             0.5555555555555556,
             "#d8576b"
            ],
            [
             0.6666666666666666,
             "#ed7953"
            ],
            [
             0.7777777777777778,
             "#fb9f3a"
            ],
            [
             0.8888888888888888,
             "#fdca26"
            ],
            [
             1,
             "#f0f921"
            ]
           ],
           "sequentialminus": [
            [
             0,
             "#0d0887"
            ],
            [
             0.1111111111111111,
             "#46039f"
            ],
            [
             0.2222222222222222,
             "#7201a8"
            ],
            [
             0.3333333333333333,
             "#9c179e"
            ],
            [
             0.4444444444444444,
             "#bd3786"
            ],
            [
             0.5555555555555556,
             "#d8576b"
            ],
            [
             0.6666666666666666,
             "#ed7953"
            ],
            [
             0.7777777777777778,
             "#fb9f3a"
            ],
            [
             0.8888888888888888,
             "#fdca26"
            ],
            [
             1,
             "#f0f921"
            ]
           ]
          },
          "colorway": [
           "#636efa",
           "#EF553B",
           "#00cc96",
           "#ab63fa",
           "#FFA15A",
           "#19d3f3",
           "#FF6692",
           "#B6E880",
           "#FF97FF",
           "#FECB52"
          ],
          "font": {
           "color": "#2a3f5f"
          },
          "geo": {
           "bgcolor": "white",
           "lakecolor": "white",
           "landcolor": "#E5ECF6",
           "showlakes": true,
           "showland": true,
           "subunitcolor": "white"
          },
          "hoverlabel": {
           "align": "left"
          },
          "hovermode": "closest",
          "mapbox": {
           "style": "light"
          },
          "paper_bgcolor": "white",
          "plot_bgcolor": "#E5ECF6",
          "polar": {
           "angularaxis": {
            "gridcolor": "white",
            "linecolor": "white",
            "ticks": ""
           },
           "bgcolor": "#E5ECF6",
           "radialaxis": {
            "gridcolor": "white",
            "linecolor": "white",
            "ticks": ""
           }
          },
          "scene": {
           "xaxis": {
            "backgroundcolor": "#E5ECF6",
            "gridcolor": "white",
            "gridwidth": 2,
            "linecolor": "white",
            "showbackground": true,
            "ticks": "",
            "zerolinecolor": "white"
           },
           "yaxis": {
            "backgroundcolor": "#E5ECF6",
            "gridcolor": "white",
            "gridwidth": 2,
            "linecolor": "white",
            "showbackground": true,
            "ticks": "",
            "zerolinecolor": "white"
           },
           "zaxis": {
            "backgroundcolor": "#E5ECF6",
            "gridcolor": "white",
            "gridwidth": 2,
            "linecolor": "white",
            "showbackground": true,
            "ticks": "",
            "zerolinecolor": "white"
           }
          },
          "shapedefaults": {
           "line": {
            "color": "#2a3f5f"
           }
          },
          "ternary": {
           "aaxis": {
            "gridcolor": "white",
            "linecolor": "white",
            "ticks": ""
           },
           "baxis": {
            "gridcolor": "white",
            "linecolor": "white",
            "ticks": ""
           },
           "bgcolor": "#E5ECF6",
           "caxis": {
            "gridcolor": "white",
            "linecolor": "white",
            "ticks": ""
           }
          },
          "title": {
           "x": 0.05
          },
          "xaxis": {
           "automargin": true,
           "gridcolor": "white",
           "linecolor": "white",
           "ticks": "",
           "title": {
            "standoff": 15
           },
           "zerolinecolor": "white",
           "zerolinewidth": 2
          },
          "yaxis": {
           "automargin": true,
           "gridcolor": "white",
           "linecolor": "white",
           "ticks": "",
           "title": {
            "standoff": 15
           },
           "zerolinecolor": "white",
           "zerolinewidth": 2
          }
         }
        }
       }
      },
      "text/html": [
       "<div>                            <div id=\"00d9014d-b316-458e-bc04-6978df56e3b4\" class=\"plotly-graph-div\" style=\"height:525px; width:100%;\"></div>            <script type=\"text/javascript\">                require([\"plotly\"], function(Plotly) {                    window.PLOTLYENV=window.PLOTLYENV || {};                                    if (document.getElementById(\"00d9014d-b316-458e-bc04-6978df56e3b4\")) {                    Plotly.newPlot(                        \"00d9014d-b316-458e-bc04-6978df56e3b4\",                        [{\"coloraxis\": \"coloraxis\", \"geo\": \"geo\", \"hovertemplate\": \"<b>%{hovertext}</b><br><br>CountryCode=%{location}<br>totalco2=%{z}<extra></extra>\", \"hovertext\": [\"AR\", \"AU\", \"AL\", \"IS\", \"NZ\", \"US\", \"UY\", \"LU\", \"BR\", \"KZ\", \"SE\", \"BM\", \"DK\", \"FI\", \"IE\", \"GR\", \"FR\", \"CA\", \"NO\", \"Unknown\", \"PF\", \"IL\", \"CH\", \"NL\", \"KW\", \"GB\", \"AT\", \"OM\", \"IT\", \"BS\", \"PT\", \"MT\", \"AM\", \"SI\", \"CL\", \"VE\", \"BE\", \"DE\", \"RU\", \"HR\", \"BY\", \"ES\", \"PY\", \"NC\", \"ZA\", \"BB\", \"LT\", \"TR\", \"EE\", \"MX\", \"CR\", \"BO\", \"EC\", \"PA\", \"CZ\", \"RO\", \"CO\", \"MV\", \"CY\", \"RS\", \"AE\", \"DZ\", \"UA\", \"PK\", \"SZ\", \"LV\", \"BA\", \"FJ\", \"KR\", \"PL\", \"SA\", \"BW\", \"MK\", \"HU\", \"TT\", \"TN\", \"EG\", \"MU\", \"BG\", \"MA\", \"SK\", \"NE\", \"KE\", \"JO\", \"JP\", \"GE\", \"GD\", \"SV\", \"CU\", \"CN\", \"HN\", \"Unknown\", \"AO\", \"JM\", \"NA\", \"BZ\", \"MY\", \"ZW\", \"GT\", \"UG\", \"NP\", \"IR\", \"TZ\", \"SN\", \"PE\", \"NI\", \"VN\", \"ET\", \"MM\", \"CG\", \"ZM\", \"CM\", \"MG\", \"MW\", \"GN\", \"NG\", \"RW\", \"PH\", \"GH\", \"TG\", \"GM\", \"IN\", \"TH\", \"MZ\", \"KH\", \"SL\", \"LK\", \"ID\", \"LR\", \"BD\"], \"locations\": [\"ARG\", \"AUS\", \"ALB\", \"ISL\", \"NZL\", \"USA\", \"URY\", \"LUX\", \"BRA\", \"KAZ\", \"SWE\", \"BMU\", \"DNK\", \"FIN\", \"IRL\", \"GRC\", \"FRA\", \"CAN\", \"NOR\", \"not found\", \"PYF\", \"ISR\", \"CHE\", \"NLD\", \"KWT\", \"GBR\", \"AUT\", \"OMN\", \"ITA\", \"BHS\", \"PRT\", \"MLT\", \"ARM\", \"SVN\", \"CHL\", \"VEN\", \"BEL\", \"DEU\", \"RUS\", \"HRV\", \"BLR\", \"ESP\", \"PRY\", \"NCL\", \"ZAF\", \"BRB\", \"LTU\", \"TUR\", \"EST\", \"MEX\", \"CRI\", \"BOL\", \"ECU\", \"PAN\", \"CZE\", \"ROU\", \"COL\", \"MDV\", \"CYP\", \"SRB\", \"ARE\", \"DZA\", \"UKR\", \"PAK\", \"SWZ\", \"LVA\", \"BIH\", \"FJI\", \"KOR\", \"POL\", \"SAU\", \"BWA\", \"MKD\", \"HUN\", \"TTO\", \"TUN\", \"EGY\", \"MUS\", \"BGR\", \"MAR\", \"SVK\", \"NER\", \"KEN\", \"JOR\", \"JPN\", \"GEO\", \"GRD\", \"SLV\", \"CUB\", \"CHN\", \"HND\", \"not found\", \"AGO\", \"JAM\", \"NAM\", \"BLZ\", \"MYS\", \"ZWE\", \"GTM\", \"UGA\", \"NPL\", \"IRN\", \"TZA\", \"SEN\", \"PER\", \"NIC\", \"VNM\", \"ETH\", \"MMR\", \"COG\", \"ZMB\", \"CMR\", \"MDG\", \"MWI\", \"GIN\", \"NGA\", \"RWA\", \"PHL\", \"GHA\", \"TGO\", \"GMB\", \"IND\", \"THA\", \"MOZ\", \"KHM\", \"SLE\", \"LKA\", \"IDN\", \"LBR\", \"BGD\"], \"name\": \"\", \"type\": \"choropleth\", \"z\": [2172.4, 1938.6399999999999, 1777.84, 1731.35, 1750.94, 1718.86, 1634.91, 1598.41, 1616.73, 1575.07, 1527.0200000000002, 1483.27, 1498.1699999999998, 1464.63, 1459.6699999999998, 1497.29, 1420.06, 1437.15, 1381.9, 1494.29, 1424.67, 1405.6999999999998, 1356.75, 1292.83, 1345.4499999999998, 1241.63, 1211.1599999999999, 1296.7, 1206.33, 1192.91, 1174.28, 1147.91, 1109.93, 1111.55, 1099.57, 1104.1000000000001, 1102.08, 1066.29, 1007.66, 996.1400000000001, 960.1999999999999, 988.49, 876.67, 918.5999999999999, 892.41, 889.11, 868.91, 897.01, 830.7099999999999, 797.13, 891.27, 873.03, 883.88, 928.46, 760.0899999999999, 766.3000000000001, 781.53, 903.46, 741.36, 723.32, 897.3100000000001, 707.89, 665.73, 669.05, 678.9399999999999, 633.5699999999999, 628.1800000000001, 716.08, 822.0500000000001, 607.3900000000001, 692.88, 576.86, 600.7399999999999, 576.8100000000001, 610.41, 618.89, 673.93, 672.0699999999999, 560.16, 576.39, 560.34, 542.8900000000001, 530.84, 587.96, 644.06, 527.03, 439.85, 434.03000000000003, 591.69, 640.2, 434.08000000000004, 559.55, 412.99, 450.81, 362.12, 433.07, 554.64, 350.34, 314.99, 304.73, 526.24, 445.27, 343.02, 469.42, 402.84000000000003, 377.7, 641.52, 241.92000000000002, 563.8, 262.55, 225.31, 283.61, 440.76, 207.95, 432.70000000000005, 267.78, 181.62, 455.28, 217.88, 188.10000000000002, 293.65, 282.62, 377.98, 141.41, 452.40999999999997, 300.40999999999997, 294.45000000000005, 367.52, 203.39, 374.19]}],                        {\"coloraxis\": {\"colorbar\": {\"title\": {\"text\": \"totalco2\"}}, \"colorscale\": [[0.0, \"#0d0887\"], [0.1111111111111111, \"#46039f\"], [0.2222222222222222, \"#7201a8\"], [0.3333333333333333, \"#9c179e\"], [0.4444444444444444, \"#bd3786\"], [0.5555555555555556, \"#d8576b\"], [0.6666666666666666, \"#ed7953\"], [0.7777777777777778, \"#fb9f3a\"], [0.8888888888888888, \"#fdca26\"], [1.0, \"#f0f921\"]]}, \"geo\": {\"center\": {}, \"domain\": {\"x\": [0.0, 1.0], \"y\": [0.0, 1.0]}}, \"legend\": {\"tracegroupgap\": 0}, \"margin\": {\"t\": 60}, \"template\": {\"data\": {\"bar\": [{\"error_x\": {\"color\": \"#2a3f5f\"}, \"error_y\": {\"color\": \"#2a3f5f\"}, \"marker\": {\"line\": {\"color\": \"#E5ECF6\", \"width\": 0.5}}, \"type\": \"bar\"}], \"barpolar\": [{\"marker\": {\"line\": {\"color\": \"#E5ECF6\", \"width\": 0.5}}, \"type\": \"barpolar\"}], \"carpet\": [{\"aaxis\": {\"endlinecolor\": \"#2a3f5f\", \"gridcolor\": \"white\", \"linecolor\": \"white\", \"minorgridcolor\": \"white\", \"startlinecolor\": \"#2a3f5f\"}, \"baxis\": {\"endlinecolor\": \"#2a3f5f\", \"gridcolor\": \"white\", \"linecolor\": \"white\", \"minorgridcolor\": \"white\", \"startlinecolor\": \"#2a3f5f\"}, \"type\": \"carpet\"}], \"choropleth\": [{\"colorbar\": {\"outlinewidth\": 0, \"ticks\": \"\"}, \"type\": \"choropleth\"}], \"contour\": [{\"colorbar\": {\"outlinewidth\": 0, \"ticks\": \"\"}, \"colorscale\": [[0.0, \"#0d0887\"], [0.1111111111111111, \"#46039f\"], [0.2222222222222222, \"#7201a8\"], [0.3333333333333333, \"#9c179e\"], [0.4444444444444444, \"#bd3786\"], [0.5555555555555556, \"#d8576b\"], [0.6666666666666666, \"#ed7953\"], [0.7777777777777778, \"#fb9f3a\"], [0.8888888888888888, \"#fdca26\"], [1.0, \"#f0f921\"]], \"type\": \"contour\"}], \"contourcarpet\": [{\"colorbar\": {\"outlinewidth\": 0, \"ticks\": \"\"}, \"type\": \"contourcarpet\"}], \"heatmap\": [{\"colorbar\": {\"outlinewidth\": 0, \"ticks\": \"\"}, \"colorscale\": [[0.0, \"#0d0887\"], [0.1111111111111111, \"#46039f\"], [0.2222222222222222, \"#7201a8\"], [0.3333333333333333, \"#9c179e\"], [0.4444444444444444, \"#bd3786\"], [0.5555555555555556, \"#d8576b\"], [0.6666666666666666, \"#ed7953\"], [0.7777777777777778, \"#fb9f3a\"], [0.8888888888888888, \"#fdca26\"], [1.0, \"#f0f921\"]], \"type\": \"heatmap\"}], \"heatmapgl\": [{\"colorbar\": {\"outlinewidth\": 0, \"ticks\": \"\"}, \"colorscale\": [[0.0, \"#0d0887\"], [0.1111111111111111, \"#46039f\"], [0.2222222222222222, \"#7201a8\"], [0.3333333333333333, \"#9c179e\"], [0.4444444444444444, \"#bd3786\"], [0.5555555555555556, \"#d8576b\"], [0.6666666666666666, \"#ed7953\"], [0.7777777777777778, \"#fb9f3a\"], [0.8888888888888888, \"#fdca26\"], [1.0, \"#f0f921\"]], \"type\": \"heatmapgl\"}], \"histogram\": [{\"marker\": {\"colorbar\": {\"outlinewidth\": 0, \"ticks\": \"\"}}, \"type\": \"histogram\"}], \"histogram2d\": [{\"colorbar\": {\"outlinewidth\": 0, \"ticks\": \"\"}, \"colorscale\": [[0.0, \"#0d0887\"], [0.1111111111111111, \"#46039f\"], [0.2222222222222222, \"#7201a8\"], [0.3333333333333333, \"#9c179e\"], [0.4444444444444444, \"#bd3786\"], [0.5555555555555556, \"#d8576b\"], [0.6666666666666666, \"#ed7953\"], [0.7777777777777778, \"#fb9f3a\"], [0.8888888888888888, \"#fdca26\"], [1.0, \"#f0f921\"]], \"type\": \"histogram2d\"}], \"histogram2dcontour\": [{\"colorbar\": {\"outlinewidth\": 0, \"ticks\": \"\"}, \"colorscale\": [[0.0, \"#0d0887\"], [0.1111111111111111, \"#46039f\"], [0.2222222222222222, \"#7201a8\"], [0.3333333333333333, \"#9c179e\"], [0.4444444444444444, \"#bd3786\"], [0.5555555555555556, \"#d8576b\"], [0.6666666666666666, \"#ed7953\"], [0.7777777777777778, \"#fb9f3a\"], [0.8888888888888888, \"#fdca26\"], [1.0, \"#f0f921\"]], \"type\": \"histogram2dcontour\"}], \"mesh3d\": [{\"colorbar\": {\"outlinewidth\": 0, \"ticks\": \"\"}, \"type\": \"mesh3d\"}], \"parcoords\": [{\"line\": {\"colorbar\": {\"outlinewidth\": 0, \"ticks\": \"\"}}, \"type\": \"parcoords\"}], \"pie\": [{\"automargin\": true, \"type\": \"pie\"}], \"scatter\": [{\"marker\": {\"colorbar\": {\"outlinewidth\": 0, \"ticks\": \"\"}}, \"type\": \"scatter\"}], \"scatter3d\": [{\"line\": {\"colorbar\": {\"outlinewidth\": 0, \"ticks\": \"\"}}, \"marker\": {\"colorbar\": {\"outlinewidth\": 0, \"ticks\": \"\"}}, \"type\": \"scatter3d\"}], \"scattercarpet\": [{\"marker\": {\"colorbar\": {\"outlinewidth\": 0, \"ticks\": \"\"}}, \"type\": \"scattercarpet\"}], \"scattergeo\": [{\"marker\": {\"colorbar\": {\"outlinewidth\": 0, \"ticks\": \"\"}}, \"type\": \"scattergeo\"}], \"scattergl\": [{\"marker\": {\"colorbar\": {\"outlinewidth\": 0, \"ticks\": \"\"}}, \"type\": \"scattergl\"}], \"scattermapbox\": [{\"marker\": {\"colorbar\": {\"outlinewidth\": 0, \"ticks\": \"\"}}, \"type\": \"scattermapbox\"}], \"scatterpolar\": [{\"marker\": {\"colorbar\": {\"outlinewidth\": 0, \"ticks\": \"\"}}, \"type\": \"scatterpolar\"}], \"scatterpolargl\": [{\"marker\": {\"colorbar\": {\"outlinewidth\": 0, \"ticks\": \"\"}}, \"type\": \"scatterpolargl\"}], \"scatterternary\": [{\"marker\": {\"colorbar\": {\"outlinewidth\": 0, \"ticks\": \"\"}}, \"type\": \"scatterternary\"}], \"surface\": [{\"colorbar\": {\"outlinewidth\": 0, \"ticks\": \"\"}, \"colorscale\": [[0.0, \"#0d0887\"], [0.1111111111111111, \"#46039f\"], [0.2222222222222222, \"#7201a8\"], [0.3333333333333333, \"#9c179e\"], [0.4444444444444444, \"#bd3786\"], [0.5555555555555556, \"#d8576b\"], [0.6666666666666666, \"#ed7953\"], [0.7777777777777778, \"#fb9f3a\"], [0.8888888888888888, \"#fdca26\"], [1.0, \"#f0f921\"]], \"type\": \"surface\"}], \"table\": [{\"cells\": {\"fill\": {\"color\": \"#EBF0F8\"}, \"line\": {\"color\": \"white\"}}, \"header\": {\"fill\": {\"color\": \"#C8D4E3\"}, \"line\": {\"color\": \"white\"}}, \"type\": \"table\"}]}, \"layout\": {\"annotationdefaults\": {\"arrowcolor\": \"#2a3f5f\", \"arrowhead\": 0, \"arrowwidth\": 1}, \"coloraxis\": {\"colorbar\": {\"outlinewidth\": 0, \"ticks\": \"\"}}, \"colorscale\": {\"diverging\": [[0, \"#8e0152\"], [0.1, \"#c51b7d\"], [0.2, \"#de77ae\"], [0.3, \"#f1b6da\"], [0.4, \"#fde0ef\"], [0.5, \"#f7f7f7\"], [0.6, \"#e6f5d0\"], [0.7, \"#b8e186\"], [0.8, \"#7fbc41\"], [0.9, \"#4d9221\"], [1, \"#276419\"]], \"sequential\": [[0.0, \"#0d0887\"], [0.1111111111111111, \"#46039f\"], [0.2222222222222222, \"#7201a8\"], [0.3333333333333333, \"#9c179e\"], [0.4444444444444444, \"#bd3786\"], [0.5555555555555556, \"#d8576b\"], [0.6666666666666666, \"#ed7953\"], [0.7777777777777778, \"#fb9f3a\"], [0.8888888888888888, \"#fdca26\"], [1.0, \"#f0f921\"]], \"sequentialminus\": [[0.0, \"#0d0887\"], [0.1111111111111111, \"#46039f\"], [0.2222222222222222, \"#7201a8\"], [0.3333333333333333, \"#9c179e\"], [0.4444444444444444, \"#bd3786\"], [0.5555555555555556, \"#d8576b\"], [0.6666666666666666, \"#ed7953\"], [0.7777777777777778, \"#fb9f3a\"], [0.8888888888888888, \"#fdca26\"], [1.0, \"#f0f921\"]]}, \"colorway\": [\"#636efa\", \"#EF553B\", \"#00cc96\", \"#ab63fa\", \"#FFA15A\", \"#19d3f3\", \"#FF6692\", \"#B6E880\", \"#FF97FF\", \"#FECB52\"], \"font\": {\"color\": \"#2a3f5f\"}, \"geo\": {\"bgcolor\": \"white\", \"lakecolor\": \"white\", \"landcolor\": \"#E5ECF6\", \"showlakes\": true, \"showland\": true, \"subunitcolor\": \"white\"}, \"hoverlabel\": {\"align\": \"left\"}, \"hovermode\": \"closest\", \"mapbox\": {\"style\": \"light\"}, \"paper_bgcolor\": \"white\", \"plot_bgcolor\": \"#E5ECF6\", \"polar\": {\"angularaxis\": {\"gridcolor\": \"white\", \"linecolor\": \"white\", \"ticks\": \"\"}, \"bgcolor\": \"#E5ECF6\", \"radialaxis\": {\"gridcolor\": \"white\", \"linecolor\": \"white\", \"ticks\": \"\"}}, \"scene\": {\"xaxis\": {\"backgroundcolor\": \"#E5ECF6\", \"gridcolor\": \"white\", \"gridwidth\": 2, \"linecolor\": \"white\", \"showbackground\": true, \"ticks\": \"\", \"zerolinecolor\": \"white\"}, \"yaxis\": {\"backgroundcolor\": \"#E5ECF6\", \"gridcolor\": \"white\", \"gridwidth\": 2, \"linecolor\": \"white\", \"showbackground\": true, \"ticks\": \"\", \"zerolinecolor\": \"white\"}, \"zaxis\": {\"backgroundcolor\": \"#E5ECF6\", \"gridcolor\": \"white\", \"gridwidth\": 2, \"linecolor\": \"white\", \"showbackground\": true, \"ticks\": \"\", \"zerolinecolor\": \"white\"}}, \"shapedefaults\": {\"line\": {\"color\": \"#2a3f5f\"}}, \"ternary\": {\"aaxis\": {\"gridcolor\": \"white\", \"linecolor\": \"white\", \"ticks\": \"\"}, \"baxis\": {\"gridcolor\": \"white\", \"linecolor\": \"white\", \"ticks\": \"\"}, \"bgcolor\": \"#E5ECF6\", \"caxis\": {\"gridcolor\": \"white\", \"linecolor\": \"white\", \"ticks\": \"\"}}, \"title\": {\"x\": 0.05}, \"xaxis\": {\"automargin\": true, \"gridcolor\": \"white\", \"linecolor\": \"white\", \"ticks\": \"\", \"title\": {\"standoff\": 15}, \"zerolinecolor\": \"white\", \"zerolinewidth\": 2}, \"yaxis\": {\"automargin\": true, \"gridcolor\": \"white\", \"linecolor\": \"white\", \"ticks\": \"\", \"title\": {\"standoff\": 15}, \"zerolinecolor\": \"white\", \"zerolinewidth\": 2}}}},                        {\"responsive\": true}                    ).then(function(){\n",
       "                            \n",
       "var gd = document.getElementById('00d9014d-b316-458e-bc04-6978df56e3b4');\n",
       "var x = new MutationObserver(function (mutations, observer) {{\n",
       "        var display = window.getComputedStyle(gd).display;\n",
       "        if (!display || display === 'none') {{\n",
       "            console.log([gd, 'removed!']);\n",
       "            Plotly.purge(gd);\n",
       "            observer.disconnect();\n",
       "        }}\n",
       "}});\n",
       "\n",
       "// Listen for the removal of the full notebook cells\n",
       "var notebookContainer = gd.closest('#notebook-container');\n",
       "if (notebookContainer) {{\n",
       "    x.observe(notebookContainer, {childList: true});\n",
       "}}\n",
       "\n",
       "// Listen for the clearing of the current output cell\n",
       "var outputEl = gd.closest('.output');\n",
       "if (outputEl) {{\n",
       "    x.observe(outputEl, {childList: true});\n",
       "}}\n",
       "\n",
       "                        })                };                });            </script>        </div>"
      ]
     },
     "metadata": {},
     "output_type": "display_data"
    }
   ],
   "source": [
    "import plotly.express as px\n",
    "\n",
    "fig = px.choropleth(country_co2, locations=\"CountryCode\",\n",
    "                    color=\"totalco2\", \n",
    "                    hover_name=\"Country\", # column to add to hover information\n",
    "                    color_continuous_scale=px.colors.sequential.Plasma)\n",
    "fig.show()"
   ]
  },
  {
   "cell_type": "code",
   "execution_count": 89,
   "metadata": {},
   "outputs": [
    {
     "data": {
      "text/html": [
       "<div>\n",
       "<style scoped>\n",
       "    .dataframe tbody tr th:only-of-type {\n",
       "        vertical-align: middle;\n",
       "    }\n",
       "\n",
       "    .dataframe tbody tr th {\n",
       "        vertical-align: top;\n",
       "    }\n",
       "\n",
       "    .dataframe thead th {\n",
       "        text-align: right;\n",
       "    }\n",
       "</style>\n",
       "<table border=\"1\" class=\"dataframe\">\n",
       "  <thead>\n",
       "    <tr style=\"text-align: right;\">\n",
       "      <th></th>\n",
       "      <th>#</th>\n",
       "      <th>Country</th>\n",
       "    </tr>\n",
       "  </thead>\n",
       "  <tbody>\n",
       "    <tr>\n",
       "      <th>0</th>\n",
       "      <td>1</td>\n",
       "      <td>Argentina</td>\n",
       "    </tr>\n",
       "    <tr>\n",
       "      <th>1</th>\n",
       "      <td>2</td>\n",
       "      <td>Australia</td>\n",
       "    </tr>\n",
       "    <tr>\n",
       "      <th>2</th>\n",
       "      <td>3</td>\n",
       "      <td>Albania</td>\n",
       "    </tr>\n",
       "    <tr>\n",
       "      <th>3</th>\n",
       "      <td>4</td>\n",
       "      <td>Iceland</td>\n",
       "    </tr>\n",
       "    <tr>\n",
       "      <th>4</th>\n",
       "      <td>5</td>\n",
       "      <td>New Zealand</td>\n",
       "    </tr>\n",
       "    <tr>\n",
       "      <th>5</th>\n",
       "      <td>6</td>\n",
       "      <td>USA</td>\n",
       "    </tr>\n",
       "    <tr>\n",
       "      <th>6</th>\n",
       "      <td>7</td>\n",
       "      <td>Uruguay</td>\n",
       "    </tr>\n",
       "    <tr>\n",
       "      <th>7</th>\n",
       "      <td>8</td>\n",
       "      <td>Luxembourg</td>\n",
       "    </tr>\n",
       "    <tr>\n",
       "      <th>8</th>\n",
       "      <td>9</td>\n",
       "      <td>Brazil</td>\n",
       "    </tr>\n",
       "    <tr>\n",
       "      <th>9</th>\n",
       "      <td>10</td>\n",
       "      <td>Kazakhstan</td>\n",
       "    </tr>\n",
       "  </tbody>\n",
       "</table>\n",
       "</div>"
      ],
      "text/plain": [
       "    #      Country\n",
       "0   1    Argentina\n",
       "1   2    Australia\n",
       "2   3      Albania\n",
       "3   4      Iceland\n",
       "4   5  New Zealand\n",
       "5   6          USA\n",
       "6   7      Uruguay\n",
       "7   8   Luxembourg\n",
       "8   9       Brazil\n",
       "9  10   Kazakhstan"
      ]
     },
     "execution_count": 89,
     "metadata": {},
     "output_type": "execute_result"
    }
   ],
   "source": [
    "# top 10 highest CO2 emissions per person per year according to our data\n",
    "data.iloc[0:10, 0:2]"
   ]
  },
  {
   "cell_type": "markdown",
   "metadata": {},
   "source": [
    "A more appropriate map, and what I was looking for when I was creating the previous map. We see that North American, South American, and Australia tend to have the higher CO2 emissions per person per year. I'm surprised that Argentina is the highest rank."
   ]
  }
 ],
 "metadata": {
  "kernelspec": {
   "display_name": "Python 3",
   "language": "python",
   "name": "python3"
  },
  "language_info": {
   "codemirror_mode": {
    "name": "ipython",
    "version": 3
   },
   "file_extension": ".py",
   "mimetype": "text/x-python",
   "name": "python",
   "nbconvert_exporter": "python",
   "pygments_lexer": "ipython3",
   "version": "3.6.9"
  }
 },
 "nbformat": 4,
 "nbformat_minor": 4
}
