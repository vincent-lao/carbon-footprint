{
 "cells": [
  {
   "cell_type": "markdown",
   "metadata": {},
   "source": [
    "<h1> Input Data Description, Data Cleaning, Data Summary & EDA: Cool Climate Data </h1>\n",
    "\n",
    "This notebook serves as a workspace for exploratory data analysis of data attained from [Cool Climate Network](https://coolclimate.org/). \n",
    "\n",
    "Source: CoolClimate Calculator, U.C. Berkeley CoolClimate Network, 2013, https://coolclimate.org/calculator."
   ]
  },
  {
   "cell_type": "code",
   "execution_count": 2,
   "metadata": {},
   "outputs": [],
   "source": [
    "'''!pip install --upgrade pip\n",
    "!pip install pandas\n",
    "!pip install numpy\n",
    "!pip install matplotlib\n",
    "!pip install xlrd'''\n",
    "import pandas as pd\n",
    "import numpy as np\n",
    "import matplotlib.pyplot as plt"
   ]
  },
  {
   "cell_type": "markdown",
   "metadata": {},
   "source": [
    "<h1> Input Data Description </h1>\n",
    "\n",
    "1. The origins of your data. Where did you get the data? How were the data collected from the original sources?  \n",
    "2. The structure, granularity, scope, temporality and faithfulness (SGSTF) of your data. To discuss these attributes you should load the data into one or more data frames (so you'll start building code cells for the first time). At a minimum, use some basic methods (.head, .loc, and so on) to provide support for the descriptions you provide for SGSTF.\n",
    "\n",
    "The dataset contains 2014 estimates of annual estimated CO2 emissions from several different categories: \n",
    "- household energy (electricity, natural gas and other fuels), \n",
    "- transportation (motor vehicles, air travel, other), \n",
    "- food, \n",
    "- goods, \n",
    "- services \n",
    "- total emissions\n",
    "\n",
    "The dataset also includes benchmark estimates of kWh electricity, therms of natural gas, gallons of fuel oil and vehicle miles traveled. \n",
    "\n",
    "The data originates from a 2014 research paper authored by Dr. Christopher Jones and Dr. Daniel M. Kammen entitled \"Spatial Distribution of U.S. Household Carbon Footprints Reveals Suburbanization Undermines Greenhouse Gas Benefits of Urban Population Density.\" http://pubs.acs.org/doi/abs/10.1021/es4034364 To attain this data, \n",
    "\n",
    "This data was then used to create a [Carbon Footprint Calculator](https://coolclimate.org/calculator).\n",
    "\n",
    "Permission to use the dataset was granted to our team after filling out a data request form linked [here](https://docs.google.com/forms/d/e/1FAIpQLSdzx772Bq7ZMZP-jmo17JISr0Myau9LDmz8kKdlK5Q-JJUr7A/viewform)--the download link to the data was given which can be referenced linked [here](https://www.dropbox.com/s/xqfduksgt6cmema/Jones-Kammen-2014-Zip-City-County-Results.xlsx?dl=0)."
   ]
  },
  {
   "cell_type": "markdown",
   "metadata": {},
   "source": [
    "<h1> Data Acquisition and EDA: Structure </h1>\n",
    "\n",
    "The data is in the form of an excel sheet, and there are several different sheets in them. Here, we pull the sheet with zip codes and convert it into a Pandas dataframe. The data is aggregated by sheets, where in addition to being organized by zip code, they are also spatially organized by City and County. \n",
    "\n",
    "Overall, we see that there are 31531 zip code entries, and 31 columns to explore.\n"
   ]
  },
  {
   "cell_type": "code",
   "execution_count": 3,
   "metadata": {},
   "outputs": [
    {
     "data": {
      "text/plain": [
       "(31531, 31)"
      ]
     },
     "execution_count": 3,
     "metadata": {},
     "output_type": "execute_result"
    }
   ],
   "source": [
    "cc_zipcode = pd.read_excel('../../data/Jones-Kammen-2014-Zip-City-County-Results.xlsx', sheet_name='zip code results')\n",
    "cc_zipcode.head()\n",
    "cc_zipcode.shape"
   ]
  },
  {
   "cell_type": "markdown",
   "metadata": {},
   "source": [
    "<h1> EDA: Granularity/Temporality/Scope </h1>\n",
    "\n",
    "In terms of the granularity, each row of data represents a zipcode with their **estimated** carbon emissions, with all the data time resolution is over a year's worth of time in 2014. \n",
    "\n",
    "Because the scope of our research project focuses on California, we want all of the estimates of California Zipcodes and counties. \n",
    "\n",
    "First, we create a new dataframe containing only ZipCodes in California.\n",
    "\n",
    "We see that there are 1659 zip codes within California.\n"
   ]
  },
  {
   "cell_type": "code",
   "execution_count": 7,
   "metadata": {},
   "outputs": [
    {
     "data": {
      "text/plain": [
       "(1659, 31)"
      ]
     },
     "execution_count": 7,
     "metadata": {},
     "output_type": "execute_result"
    }
   ],
   "source": [
    "#all California zipcodes\n",
    "ca_zipcode = cc_zipcode[cc_zipcode['State'] == 'CA']\n",
    "ca_zipcode.shape"
   ]
  },
  {
   "cell_type": "code",
   "execution_count": 5,
   "metadata": {},
   "outputs": [
    {
     "data": {
      "text/html": [
       "<div>\n",
       "<style scoped>\n",
       "    .dataframe tbody tr th:only-of-type {\n",
       "        vertical-align: middle;\n",
       "    }\n",
       "\n",
       "    .dataframe tbody tr th {\n",
       "        vertical-align: top;\n",
       "    }\n",
       "\n",
       "    .dataframe thead th {\n",
       "        text-align: right;\n",
       "    }\n",
       "</style>\n",
       "<table border=\"1\" class=\"dataframe\">\n",
       "  <thead>\n",
       "    <tr style=\"text-align: right;\">\n",
       "      <th></th>\n",
       "      <th>ZipCode</th>\n",
       "      <th>Population</th>\n",
       "      <th>PersonsPerHousehold</th>\n",
       "      <th>AverageHouseValue</th>\n",
       "      <th>IncomePerHousehold</th>\n",
       "      <th>Latitude</th>\n",
       "      <th>Longitude</th>\n",
       "      <th>Elevation</th>\n",
       "      <th>State</th>\n",
       "      <th>StateFullName</th>\n",
       "      <th>...</th>\n",
       "      <th>FUELOIL (gallons)</th>\n",
       "      <th>Vehicle miles traveled</th>\n",
       "      <th>Transport (tCO2e/yr)</th>\n",
       "      <th>Housing (tCO2e/yr)</th>\n",
       "      <th>Food (tCO2e/yr)</th>\n",
       "      <th>Goods (tCO2e/yr)</th>\n",
       "      <th>Services (tCO2e/yr)</th>\n",
       "      <th>Total Household Carbon Footprint (tCO2e/yr)</th>\n",
       "      <th>HouseholdsPerZipCode</th>\n",
       "      <th>Total Zip Code Carbon Footprint (tCO2e/yr)</th>\n",
       "    </tr>\n",
       "  </thead>\n",
       "  <tbody>\n",
       "    <tr>\n",
       "      <th>28629</th>\n",
       "      <td>90001</td>\n",
       "      <td>54481</td>\n",
       "      <td>4.35</td>\n",
       "      <td>138900</td>\n",
       "      <td>24207</td>\n",
       "      <td>33.974243</td>\n",
       "      <td>-118.245169</td>\n",
       "      <td>267</td>\n",
       "      <td>CA</td>\n",
       "      <td>California</td>\n",
       "      <td>...</td>\n",
       "      <td>0.000000</td>\n",
       "      <td>15862</td>\n",
       "      <td>10.218853</td>\n",
       "      <td>6.622800</td>\n",
       "      <td>13.05</td>\n",
       "      <td>4.679496</td>\n",
       "      <td>4.317047</td>\n",
       "      <td>38.888196</td>\n",
       "      <td>13302</td>\n",
       "      <td>517290.783459</td>\n",
       "    </tr>\n",
       "    <tr>\n",
       "      <th>28630</th>\n",
       "      <td>90002</td>\n",
       "      <td>44584</td>\n",
       "      <td>4.16</td>\n",
       "      <td>127700</td>\n",
       "      <td>22872</td>\n",
       "      <td>33.949380</td>\n",
       "      <td>-118.245060</td>\n",
       "      <td>267</td>\n",
       "      <td>CA</td>\n",
       "      <td>California</td>\n",
       "      <td>...</td>\n",
       "      <td>0.475335</td>\n",
       "      <td>15536</td>\n",
       "      <td>10.018989</td>\n",
       "      <td>7.143323</td>\n",
       "      <td>12.48</td>\n",
       "      <td>4.518860</td>\n",
       "      <td>4.190605</td>\n",
       "      <td>38.351776</td>\n",
       "      <td>11838</td>\n",
       "      <td>454008.330077</td>\n",
       "    </tr>\n",
       "    <tr>\n",
       "      <th>28631</th>\n",
       "      <td>90003</td>\n",
       "      <td>58187</td>\n",
       "      <td>4.00</td>\n",
       "      <td>134400</td>\n",
       "      <td>22346</td>\n",
       "      <td>33.963792</td>\n",
       "      <td>-118.274249</td>\n",
       "      <td>267</td>\n",
       "      <td>CA</td>\n",
       "      <td>California</td>\n",
       "      <td>...</td>\n",
       "      <td>0.000000</td>\n",
       "      <td>14614</td>\n",
       "      <td>9.456839</td>\n",
       "      <td>6.890064</td>\n",
       "      <td>12.00</td>\n",
       "      <td>4.449399</td>\n",
       "      <td>4.139889</td>\n",
       "      <td>36.936191</td>\n",
       "      <td>16071</td>\n",
       "      <td>593601.525079</td>\n",
       "    </tr>\n",
       "    <tr>\n",
       "      <th>28632</th>\n",
       "      <td>90004</td>\n",
       "      <td>67850</td>\n",
       "      <td>2.91</td>\n",
       "      <td>371100</td>\n",
       "      <td>27591</td>\n",
       "      <td>34.076680</td>\n",
       "      <td>-118.308976</td>\n",
       "      <td>267</td>\n",
       "      <td>CA</td>\n",
       "      <td>California</td>\n",
       "      <td>...</td>\n",
       "      <td>0.578773</td>\n",
       "      <td>13373</td>\n",
       "      <td>9.204518</td>\n",
       "      <td>5.391668</td>\n",
       "      <td>8.73</td>\n",
       "      <td>4.381741</td>\n",
       "      <td>4.535160</td>\n",
       "      <td>32.243087</td>\n",
       "      <td>23922</td>\n",
       "      <td>771319.128605</td>\n",
       "    </tr>\n",
       "    <tr>\n",
       "      <th>28633</th>\n",
       "      <td>90005</td>\n",
       "      <td>43014</td>\n",
       "      <td>2.80</td>\n",
       "      <td>392200</td>\n",
       "      <td>21998</td>\n",
       "      <td>34.058999</td>\n",
       "      <td>-118.312752</td>\n",
       "      <td>267</td>\n",
       "      <td>CA</td>\n",
       "      <td>California</td>\n",
       "      <td>...</td>\n",
       "      <td>0.434371</td>\n",
       "      <td>11004</td>\n",
       "      <td>7.551197</td>\n",
       "      <td>4.900292</td>\n",
       "      <td>8.40</td>\n",
       "      <td>3.980317</td>\n",
       "      <td>4.044875</td>\n",
       "      <td>28.876681</td>\n",
       "      <td>15905</td>\n",
       "      <td>459283.617501</td>\n",
       "    </tr>\n",
       "  </tbody>\n",
       "</table>\n",
       "<p>5 rows × 31 columns</p>\n",
       "</div>"
      ],
      "text/plain": [
       "       ZipCode  Population  PersonsPerHousehold  AverageHouseValue  \\\n",
       "28629    90001       54481                 4.35             138900   \n",
       "28630    90002       44584                 4.16             127700   \n",
       "28631    90003       58187                 4.00             134400   \n",
       "28632    90004       67850                 2.91             371100   \n",
       "28633    90005       43014                 2.80             392200   \n",
       "\n",
       "       IncomePerHousehold   Latitude   Longitude  Elevation State  \\\n",
       "28629               24207  33.974243 -118.245169        267    CA   \n",
       "28630               22872  33.949380 -118.245060        267    CA   \n",
       "28631               22346  33.963792 -118.274249        267    CA   \n",
       "28632               27591  34.076680 -118.308976        267    CA   \n",
       "28633               21998  34.058999 -118.312752        267    CA   \n",
       "\n",
       "      StateFullName  ... FUELOIL (gallons) Vehicle miles traveled  \\\n",
       "28629    California  ...          0.000000                  15862   \n",
       "28630    California  ...          0.475335                  15536   \n",
       "28631    California  ...          0.000000                  14614   \n",
       "28632    California  ...          0.578773                  13373   \n",
       "28633    California  ...          0.434371                  11004   \n",
       "\n",
       "      Transport (tCO2e/yr) Housing (tCO2e/yr) Food (tCO2e/yr)  \\\n",
       "28629            10.218853           6.622800           13.05   \n",
       "28630            10.018989           7.143323           12.48   \n",
       "28631             9.456839           6.890064           12.00   \n",
       "28632             9.204518           5.391668            8.73   \n",
       "28633             7.551197           4.900292            8.40   \n",
       "\n",
       "      Goods (tCO2e/yr) Services (tCO2e/yr)  \\\n",
       "28629         4.679496            4.317047   \n",
       "28630         4.518860            4.190605   \n",
       "28631         4.449399            4.139889   \n",
       "28632         4.381741            4.535160   \n",
       "28633         3.980317            4.044875   \n",
       "\n",
       "      Total Household Carbon Footprint (tCO2e/yr)  HouseholdsPerZipCode  \\\n",
       "28629                                   38.888196                 13302   \n",
       "28630                                   38.351776                 11838   \n",
       "28631                                   36.936191                 16071   \n",
       "28632                                   32.243087                 23922   \n",
       "28633                                   28.876681                 15905   \n",
       "\n",
       "       Total Zip Code Carbon Footprint (tCO2e/yr)  \n",
       "28629                               517290.783459  \n",
       "28630                               454008.330077  \n",
       "28631                               593601.525079  \n",
       "28632                               771319.128605  \n",
       "28633                               459283.617501  \n",
       "\n",
       "[5 rows x 31 columns]"
      ]
     },
     "execution_count": 5,
     "metadata": {},
     "output_type": "execute_result"
    }
   ],
   "source": [
    "ca_zipcode.head()"
   ]
  },
  {
   "cell_type": "markdown",
   "metadata": {},
   "source": [
    "What are the columns that we are working with in this dataset?"
   ]
  },
  {
   "cell_type": "code",
   "execution_count": 6,
   "metadata": {},
   "outputs": [
    {
     "data": {
      "text/plain": [
       "['ZipCode',\n",
       " 'Population',\n",
       " 'PersonsPerHousehold',\n",
       " 'AverageHouseValue',\n",
       " 'IncomePerHousehold',\n",
       " 'Latitude',\n",
       " 'Longitude',\n",
       " 'Elevation',\n",
       " 'State',\n",
       " 'StateFullName',\n",
       " 'City',\n",
       " 'CountyName',\n",
       " 'CBSAType',\n",
       " 'CBSAName',\n",
       " 'MSAName',\n",
       " 'PMSA_Name',\n",
       " 'Region',\n",
       " 'Division',\n",
       " 'popden',\n",
       " 'electricity (kWh)',\n",
       " 'Nat. Gas (cu.ft.)',\n",
       " 'FUELOIL (gallons)',\n",
       " 'Vehicle miles traveled',\n",
       " 'Transport (tCO2e/yr)',\n",
       " 'Housing (tCO2e/yr)',\n",
       " 'Food (tCO2e/yr)',\n",
       " 'Goods (tCO2e/yr)',\n",
       " 'Services (tCO2e/yr)',\n",
       " 'Total Household Carbon Footprint (tCO2e/yr)',\n",
       " 'HouseholdsPerZipCode',\n",
       " 'Total Zip Code Carbon Footprint (tCO2e/yr)']"
      ]
     },
     "execution_count": 6,
     "metadata": {},
     "output_type": "execute_result"
    }
   ],
   "source": [
    "list(ca_zipcode.columns.values)"
   ]
  },
  {
   "cell_type": "markdown",
   "metadata": {},
   "source": [
    "<h1> EDA: Faithfulness </h1>\n",
    "\n",
    "Looking at the faithfulness of our data, we see that it comes from a published research paper 190 citations at the time of this project, and since then, this dataset has been used by 60 different universities, several government organizations, and many more organizations across the US. \n",
    "\n",
    "The data seems to be clean, but our EDA reveals a couple of NaN values that have to deal with places being classified as Core Based Statistical Area (CBSA) versus a Metropolitan Statistical Area (MSA). \n",
    "\n",
    "We believe that this might be the case because some cities have smaller populations are may be classified differently as either an MSA/CBSA. \n",
    "\n",
    "\n"
   ]
  },
  {
   "cell_type": "code",
   "execution_count": 32,
   "metadata": {},
   "outputs": [
    {
     "data": {
      "text/plain": [
       "array([  0,   0,   0,   0,   0,   0,   0,   0,   0,   0,   0,   0, 123,\n",
       "       123, 283, 725,   0,   0,   0,   0,   0,   0,   0,   0,   0,   0,\n",
       "         0,   0,   0,   0,   0])"
      ]
     },
     "execution_count": 32,
     "metadata": {},
     "output_type": "execute_result"
    }
   ],
   "source": [
    "sum(ca_zipcode.isna().values)"
   ]
  },
  {
   "cell_type": "code",
   "execution_count": 34,
   "metadata": {
    "scrolled": true
   },
   "outputs": [
    {
     "name": "stdout",
     "output_type": "stream",
     "text": [
      "There are 725 entries with NaN values.\n"
     ]
    }
   ],
   "source": [
    "is_NaN = ca_zipcode.isnull()\n",
    "row_has_NaN = is_NaN.any(axis=1)\n",
    "rows_with_NaN = ca_zipcode[row_has_NaN]\n",
    "rows_with_NaN.iloc[:, range(12,16)].shape #We see that the range of values with NaN values are indexed from 12 through 16\n",
    "print('There are', rows_with_NaN.iloc[:, range(12,16)].shape[0], 'entries with NaN values.')\n",
    "\n"
   ]
  },
  {
   "cell_type": "markdown",
   "metadata": {},
   "source": []
  },
  {
   "cell_type": "markdown",
   "metadata": {},
   "source": [
    "<h1> Visualizations </h1>"
   ]
  },
  {
   "cell_type": "markdown",
   "metadata": {},
   "source": [
    "Are we seeing any immediate relationships in the data? Below we plot: \n",
    "- The relationship between estimated carbon emission and household size (more people, more emissions?)\n",
    "- The relationship between estimated carbon emission and income per household (more money, more emissions?)\n",
    "- The relationship between estimated carbon emission and Vehicle miles traveled (more travelling, more emissions?)\n",
    "- The relationship between latitude vs. total household carbon footprint"
   ]
  },
  {
   "cell_type": "code",
   "execution_count": 19,
   "metadata": {},
   "outputs": [
    {
     "data": {
      "text/plain": [
       "Text(0.5, 1.0, 'Estimated carbon emission vs household size')"
      ]
     },
     "execution_count": 19,
     "metadata": {},
     "output_type": "execute_result"
    },
    {
     "data": {
      "image/png": "[encoded data removed]",
      "text/plain": [
       "<Figure size 432x288 with 1 Axes>"
      ]
     },
     "metadata": {
      "needs_background": "light"
     },
     "output_type": "display_data"
    }
   ],
   "source": [
    "X = ca_zipcode['PersonsPerHousehold']\n",
    "y = ca_zipcode['Total Household Carbon Footprint (tCO2e/yr)']\n",
    "plt.scatter(X, y)\n",
    "plt.xlabel('Persons Per Household')\n",
    "plt.ylabel('Total Zip Code Carbon Footprint (tCO2e/yr)')\n",
    "plt.title('Estimated carbon emission vs household size')\n",
    "\n",
    "#things to consider: The y-scale starts at 0?"
   ]
  },
  {
   "cell_type": "code",
   "execution_count": 36,
   "metadata": {},
   "outputs": [
    {
     "data": {
      "text/plain": [
       "Text(0.5, 1.0, 'Estimated carbon emission vs income per household')"
      ]
     },
     "execution_count": 36,
     "metadata": {},
     "output_type": "execute_result"
    },
    {
     "data": {
      "image/png": "[encoded data removed]",
      "text/plain": [
       "<Figure size 432x288 with 1 Axes>"
      ]
     },
     "metadata": {
      "needs_background": "light"
     },
     "output_type": "display_data"
    }
   ],
   "source": [
    "X = ca_zipcode['IncomePerHousehold']\n",
    "y = ca_zipcode['Total Household Carbon Footprint (tCO2e/yr)']\n",
    "plt.scatter(X, y)\n",
    "plt.xlabel('IncomePerHousehold')\n",
    "plt.ylabel('Total Household Carbon Footprint (tCO2e/yr)')\n",
    "plt.title('Estimated carbon emission vs income per household')"
   ]
  },
  {
   "cell_type": "code",
   "execution_count": 21,
   "metadata": {},
   "outputs": [
    {
     "data": {
      "text/plain": [
       "Text(0.5, 1.0, 'Estimated carbon emission vs Vehicle miles traveled per household')"
      ]
     },
     "execution_count": 21,
     "metadata": {},
     "output_type": "execute_result"
    },
    {
     "data": {
      "image/png": "[encoded data removed]",
      "text/plain": [
       "<Figure size 432x288 with 1 Axes>"
      ]
     },
     "metadata": {
      "needs_background": "light"
     },
     "output_type": "display_data"
    }
   ],
   "source": [
    "X = ca_zipcode['Vehicle miles traveled']\n",
    "y = ca_zipcode['Total Household Carbon Footprint (tCO2e/yr)']\n",
    "plt.scatter(X, y)\n",
    "plt.xlabel('Vehicle miles traveled')\n",
    "plt.ylabel('Total Zip Code Carbon Footprint (tCO2e/yr)')\n",
    "plt.title('Estimated carbon emission vs Vehicle miles traveled per household')"
   ]
  },
  {
   "cell_type": "code",
   "execution_count": 22,
   "metadata": {},
   "outputs": [
    {
     "data": {
      "text/plain": [
       "Index(['ZipCode', 'Population', 'PersonsPerHousehold', 'AverageHouseValue',\n",
       "       'IncomePerHousehold', 'Latitude', 'Longitude', 'Elevation', 'State',\n",
       "       'StateFullName', 'City', 'CountyName', 'CBSAType', 'CBSAName',\n",
       "       'MSAName', 'PMSA_Name', 'Region', 'Division', 'popden',\n",
       "       'electricity (kWh)', 'Nat. Gas (cu.ft.)', 'FUELOIL (gallons)',\n",
       "       'Vehicle miles traveled', 'Transport (tCO2e/yr)', 'Housing (tCO2e/yr)',\n",
       "       'Food (tCO2e/yr)', 'Goods (tCO2e/yr)', 'Services (tCO2e/yr)',\n",
       "       'Total Household Carbon Footprint (tCO2e/yr)', 'HouseholdsPerZipCode',\n",
       "       'Total Zip Code Carbon Footprint (tCO2e/yr)'],\n",
       "      dtype='object')"
      ]
     },
     "execution_count": 22,
     "metadata": {},
     "output_type": "execute_result"
    }
   ],
   "source": [
    "ca_zipcode.columns"
   ]
  },
  {
   "cell_type": "code",
   "execution_count": 23,
   "metadata": {
    "scrolled": true
   },
   "outputs": [
    {
     "data": {
      "text/html": [
       "<div>\n",
       "<style scoped>\n",
       "    .dataframe tbody tr th:only-of-type {\n",
       "        vertical-align: middle;\n",
       "    }\n",
       "\n",
       "    .dataframe tbody tr th {\n",
       "        vertical-align: top;\n",
       "    }\n",
       "\n",
       "    .dataframe thead th {\n",
       "        text-align: right;\n",
       "    }\n",
       "</style>\n",
       "<table border=\"1\" class=\"dataframe\">\n",
       "  <thead>\n",
       "    <tr style=\"text-align: right;\">\n",
       "      <th></th>\n",
       "      <th>ZipCode</th>\n",
       "      <th>Population</th>\n",
       "      <th>PersonsPerHousehold</th>\n",
       "      <th>AverageHouseValue</th>\n",
       "      <th>IncomePerHousehold</th>\n",
       "      <th>Latitude</th>\n",
       "      <th>Longitude</th>\n",
       "      <th>Elevation</th>\n",
       "      <th>State</th>\n",
       "      <th>StateFullName</th>\n",
       "      <th>...</th>\n",
       "      <th>FUELOIL (gallons)</th>\n",
       "      <th>Vehicle miles traveled</th>\n",
       "      <th>Transport (tCO2e/yr)</th>\n",
       "      <th>Housing (tCO2e/yr)</th>\n",
       "      <th>Food (tCO2e/yr)</th>\n",
       "      <th>Goods (tCO2e/yr)</th>\n",
       "      <th>Services (tCO2e/yr)</th>\n",
       "      <th>Total Household Carbon Footprint (tCO2e/yr)</th>\n",
       "      <th>HouseholdsPerZipCode</th>\n",
       "      <th>Total Zip Code Carbon Footprint (tCO2e/yr)</th>\n",
       "    </tr>\n",
       "  </thead>\n",
       "  <tbody>\n",
       "    <tr>\n",
       "      <th>28629</th>\n",
       "      <td>90001</td>\n",
       "      <td>54481</td>\n",
       "      <td>4.35</td>\n",
       "      <td>138900</td>\n",
       "      <td>24207</td>\n",
       "      <td>33.974243</td>\n",
       "      <td>-118.245169</td>\n",
       "      <td>267</td>\n",
       "      <td>CA</td>\n",
       "      <td>California</td>\n",
       "      <td>...</td>\n",
       "      <td>0.000000</td>\n",
       "      <td>15862</td>\n",
       "      <td>10.218853</td>\n",
       "      <td>6.622800</td>\n",
       "      <td>13.05</td>\n",
       "      <td>4.679496</td>\n",
       "      <td>4.317047</td>\n",
       "      <td>38.888196</td>\n",
       "      <td>13302</td>\n",
       "      <td>517290.783459</td>\n",
       "    </tr>\n",
       "    <tr>\n",
       "      <th>28630</th>\n",
       "      <td>90002</td>\n",
       "      <td>44584</td>\n",
       "      <td>4.16</td>\n",
       "      <td>127700</td>\n",
       "      <td>22872</td>\n",
       "      <td>33.949380</td>\n",
       "      <td>-118.245060</td>\n",
       "      <td>267</td>\n",
       "      <td>CA</td>\n",
       "      <td>California</td>\n",
       "      <td>...</td>\n",
       "      <td>0.475335</td>\n",
       "      <td>15536</td>\n",
       "      <td>10.018989</td>\n",
       "      <td>7.143323</td>\n",
       "      <td>12.48</td>\n",
       "      <td>4.518860</td>\n",
       "      <td>4.190605</td>\n",
       "      <td>38.351776</td>\n",
       "      <td>11838</td>\n",
       "      <td>454008.330077</td>\n",
       "    </tr>\n",
       "    <tr>\n",
       "      <th>28631</th>\n",
       "      <td>90003</td>\n",
       "      <td>58187</td>\n",
       "      <td>4.00</td>\n",
       "      <td>134400</td>\n",
       "      <td>22346</td>\n",
       "      <td>33.963792</td>\n",
       "      <td>-118.274249</td>\n",
       "      <td>267</td>\n",
       "      <td>CA</td>\n",
       "      <td>California</td>\n",
       "      <td>...</td>\n",
       "      <td>0.000000</td>\n",
       "      <td>14614</td>\n",
       "      <td>9.456839</td>\n",
       "      <td>6.890064</td>\n",
       "      <td>12.00</td>\n",
       "      <td>4.449399</td>\n",
       "      <td>4.139889</td>\n",
       "      <td>36.936191</td>\n",
       "      <td>16071</td>\n",
       "      <td>593601.525079</td>\n",
       "    </tr>\n",
       "    <tr>\n",
       "      <th>28632</th>\n",
       "      <td>90004</td>\n",
       "      <td>67850</td>\n",
       "      <td>2.91</td>\n",
       "      <td>371100</td>\n",
       "      <td>27591</td>\n",
       "      <td>34.076680</td>\n",
       "      <td>-118.308976</td>\n",
       "      <td>267</td>\n",
       "      <td>CA</td>\n",
       "      <td>California</td>\n",
       "      <td>...</td>\n",
       "      <td>0.578773</td>\n",
       "      <td>13373</td>\n",
       "      <td>9.204518</td>\n",
       "      <td>5.391668</td>\n",
       "      <td>8.73</td>\n",
       "      <td>4.381741</td>\n",
       "      <td>4.535160</td>\n",
       "      <td>32.243087</td>\n",
       "      <td>23922</td>\n",
       "      <td>771319.128605</td>\n",
       "    </tr>\n",
       "    <tr>\n",
       "      <th>28633</th>\n",
       "      <td>90005</td>\n",
       "      <td>43014</td>\n",
       "      <td>2.80</td>\n",
       "      <td>392200</td>\n",
       "      <td>21998</td>\n",
       "      <td>34.058999</td>\n",
       "      <td>-118.312752</td>\n",
       "      <td>267</td>\n",
       "      <td>CA</td>\n",
       "      <td>California</td>\n",
       "      <td>...</td>\n",
       "      <td>0.434371</td>\n",
       "      <td>11004</td>\n",
       "      <td>7.551197</td>\n",
       "      <td>4.900292</td>\n",
       "      <td>8.40</td>\n",
       "      <td>3.980317</td>\n",
       "      <td>4.044875</td>\n",
       "      <td>28.876681</td>\n",
       "      <td>15905</td>\n",
       "      <td>459283.617501</td>\n",
       "    </tr>\n",
       "  </tbody>\n",
       "</table>\n",
       "<p>5 rows × 31 columns</p>\n",
       "</div>"
      ],
      "text/plain": [
       "       ZipCode  Population  PersonsPerHousehold  AverageHouseValue  \\\n",
       "28629    90001       54481                 4.35             138900   \n",
       "28630    90002       44584                 4.16             127700   \n",
       "28631    90003       58187                 4.00             134400   \n",
       "28632    90004       67850                 2.91             371100   \n",
       "28633    90005       43014                 2.80             392200   \n",
       "\n",
       "       IncomePerHousehold   Latitude   Longitude  Elevation State  \\\n",
       "28629               24207  33.974243 -118.245169        267    CA   \n",
       "28630               22872  33.949380 -118.245060        267    CA   \n",
       "28631               22346  33.963792 -118.274249        267    CA   \n",
       "28632               27591  34.076680 -118.308976        267    CA   \n",
       "28633               21998  34.058999 -118.312752        267    CA   \n",
       "\n",
       "      StateFullName  ... FUELOIL (gallons) Vehicle miles traveled  \\\n",
       "28629    California  ...          0.000000                  15862   \n",
       "28630    California  ...          0.475335                  15536   \n",
       "28631    California  ...          0.000000                  14614   \n",
       "28632    California  ...          0.578773                  13373   \n",
       "28633    California  ...          0.434371                  11004   \n",
       "\n",
       "      Transport (tCO2e/yr) Housing (tCO2e/yr) Food (tCO2e/yr)  \\\n",
       "28629            10.218853           6.622800           13.05   \n",
       "28630            10.018989           7.143323           12.48   \n",
       "28631             9.456839           6.890064           12.00   \n",
       "28632             9.204518           5.391668            8.73   \n",
       "28633             7.551197           4.900292            8.40   \n",
       "\n",
       "      Goods (tCO2e/yr) Services (tCO2e/yr)  \\\n",
       "28629         4.679496            4.317047   \n",
       "28630         4.518860            4.190605   \n",
       "28631         4.449399            4.139889   \n",
       "28632         4.381741            4.535160   \n",
       "28633         3.980317            4.044875   \n",
       "\n",
       "      Total Household Carbon Footprint (tCO2e/yr)  HouseholdsPerZipCode  \\\n",
       "28629                                   38.888196                 13302   \n",
       "28630                                   38.351776                 11838   \n",
       "28631                                   36.936191                 16071   \n",
       "28632                                   32.243087                 23922   \n",
       "28633                                   28.876681                 15905   \n",
       "\n",
       "       Total Zip Code Carbon Footprint (tCO2e/yr)  \n",
       "28629                               517290.783459  \n",
       "28630                               454008.330077  \n",
       "28631                               593601.525079  \n",
       "28632                               771319.128605  \n",
       "28633                               459283.617501  \n",
       "\n",
       "[5 rows x 31 columns]"
      ]
     },
     "execution_count": 23,
     "metadata": {},
     "output_type": "execute_result"
    }
   ],
   "source": [
    "ca_zipcode.head()"
   ]
  },
  {
   "cell_type": "code",
   "execution_count": 24,
   "metadata": {},
   "outputs": [
    {
     "data": {
      "text/plain": [
       "Text(0.5, 1.0, 'Latitude vs. Household Carbon Footprint')"
      ]
     },
     "execution_count": 24,
     "metadata": {},
     "output_type": "execute_result"
    },
    {
     "data": {
      "image/png": "[encoded data removed]",
      "text/plain": [
       "<Figure size 432x288 with 1 Axes>"
      ]
     },
     "metadata": {
      "needs_background": "light"
     },
     "output_type": "display_data"
    }
   ],
   "source": [
    "# latitude vs. total household carbon footprint\n",
    "plt.scatter(ca_zipcode['Latitude'], ca_zipcode['Total Household Carbon Footprint (tCO2e/yr)'], s=3)\n",
    "plt.xlabel('Latitude')\n",
    "plt.ylabel('Annual Total Household Carbon Footprint')\n",
    "plt.title('Latitude vs. Household Carbon Footprint')"
   ]
  },
  {
   "cell_type": "markdown",
   "metadata": {},
   "source": []
  },
  {
   "cell_type": "code",
   "execution_count": null,
   "metadata": {},
   "outputs": [],
   "source": []
  }
 ],
 "metadata": {
  "kernelspec": {
   "display_name": "Python 3",
   "language": "python",
   "name": "python3"
  },
  "language_info": {
   "codemirror_mode": {
    "name": "ipython",
    "version": 3
   },
   "file_extension": ".py",
   "mimetype": "text/x-python",
   "name": "python",
   "nbconvert_exporter": "python",
   "pygments_lexer": "ipython3",
   "version": "3.6.9"
  }
 },
 "nbformat": 4,
 "nbformat_minor": 4
}
