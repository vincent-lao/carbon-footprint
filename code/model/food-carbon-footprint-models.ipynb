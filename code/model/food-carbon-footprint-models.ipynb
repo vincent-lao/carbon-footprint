{
 "cells": [
  {
   "cell_type": "code",
   "execution_count": 35,
   "metadata": {},
   "outputs": [],
   "source": [
    "# linear modelling functions\n",
    "# !pip install ipynb\n",
    "import ipynb.fs.full.general_model_pipeline_vl as gmp\n",
    "\n",
    "# packages\n",
    "import numpy as np\n",
    "import pandas as pd\n",
    "from sklearn.linear_model import LinearRegression, Ridge, Lasso, RidgeCV, LassoCV\n",
    "from sklearn.tree import DecisionTreeRegressor\n",
    "from sklearn.ensemble import RandomForestRegressor\n",
    "from sklearn.preprocessing import StandardScaler\n",
    "from sklearn.metrics import mean_squared_error"
   ]
  },
  {
   "cell_type": "markdown",
   "metadata": {},
   "source": [
    "#### Setting aside some testing data first:\n",
    "\n",
    "This code uses 80% for training data, 20% for testing data."
   ]
  },
  {
   "cell_type": "code",
   "execution_count": 20,
   "metadata": {},
   "outputs": [],
   "source": [
    "# set the seed for reproducibility\n",
    "rs = 100\n",
    "np.random.seed(100)"
   ]
  },
  {
   "cell_type": "code",
   "execution_count": 3,
   "metadata": {
    "scrolled": true
   },
   "outputs": [
    {
     "data": {
      "text/html": [
       "<div>\n",
       "<style scoped>\n",
       "    .dataframe tbody tr th:only-of-type {\n",
       "        vertical-align: middle;\n",
       "    }\n",
       "\n",
       "    .dataframe tbody tr th {\n",
       "        vertical-align: top;\n",
       "    }\n",
       "\n",
       "    .dataframe thead th {\n",
       "        text-align: right;\n",
       "    }\n",
       "</style>\n",
       "<table border=\"1\" class=\"dataframe\">\n",
       "  <thead>\n",
       "    <tr style=\"text-align: right;\">\n",
       "      <th></th>\n",
       "      <th>porksupply_pct</th>\n",
       "      <th>chickensupply_pct</th>\n",
       "      <th>beefsupply_pct</th>\n",
       "      <th>lambsupply_pct</th>\n",
       "      <th>fishsupply_pct</th>\n",
       "      <th>eggsupply_pct</th>\n",
       "      <th>milkcheesesupply_pct</th>\n",
       "      <th>wheatprodsupply_pct</th>\n",
       "      <th>ricesupply_pct</th>\n",
       "      <th>soybeansupply_pct</th>\n",
       "      <th>nutssupply_pct</th>\n",
       "      <th>totalco2</th>\n",
       "      <th>Country</th>\n",
       "    </tr>\n",
       "  </thead>\n",
       "  <tbody>\n",
       "    <tr>\n",
       "      <th>0</th>\n",
       "      <td>0.024475</td>\n",
       "      <td>0.090031</td>\n",
       "      <td>0.129201</td>\n",
       "      <td>0.003633</td>\n",
       "      <td>0.010153</td>\n",
       "      <td>0.026525</td>\n",
       "      <td>0.454298</td>\n",
       "      <td>0.240120</td>\n",
       "      <td>0.020423</td>\n",
       "      <td>0.000000</td>\n",
       "      <td>0.001141</td>\n",
       "      <td>2172.40</td>\n",
       "      <td>Argentina</td>\n",
       "    </tr>\n",
       "    <tr>\n",
       "      <th>1</th>\n",
       "      <td>0.051904</td>\n",
       "      <td>0.099164</td>\n",
       "      <td>0.072803</td>\n",
       "      <td>0.021222</td>\n",
       "      <td>0.038036</td>\n",
       "      <td>0.018298</td>\n",
       "      <td>0.504182</td>\n",
       "      <td>0.151498</td>\n",
       "      <td>0.023716</td>\n",
       "      <td>0.000409</td>\n",
       "      <td>0.018771</td>\n",
       "      <td>1938.64</td>\n",
       "      <td>Australia</td>\n",
       "    </tr>\n",
       "    <tr>\n",
       "      <th>2</th>\n",
       "      <td>0.020423</td>\n",
       "      <td>0.024834</td>\n",
       "      <td>0.042235</td>\n",
       "      <td>0.028758</td>\n",
       "      <td>0.007227</td>\n",
       "      <td>0.023370</td>\n",
       "      <td>0.570120</td>\n",
       "      <td>0.260244</td>\n",
       "      <td>0.014604</td>\n",
       "      <td>0.000000</td>\n",
       "      <td>0.008184</td>\n",
       "      <td>1777.84</td>\n",
       "      <td>Albania</td>\n",
       "    </tr>\n",
       "    <tr>\n",
       "      <th>3</th>\n",
       "      <td>0.045923</td>\n",
       "      <td>0.056891</td>\n",
       "      <td>0.028287</td>\n",
       "      <td>0.044716</td>\n",
       "      <td>0.157545</td>\n",
       "      <td>0.017446</td>\n",
       "      <td>0.478118</td>\n",
       "      <td>0.154390</td>\n",
       "      <td>0.008236</td>\n",
       "      <td>0.000233</td>\n",
       "      <td>0.008215</td>\n",
       "      <td>1731.35</td>\n",
       "      <td>Iceland</td>\n",
       "    </tr>\n",
       "    <tr>\n",
       "      <th>4</th>\n",
       "      <td>0.061759</td>\n",
       "      <td>0.096919</td>\n",
       "      <td>0.062313</td>\n",
       "      <td>0.052394</td>\n",
       "      <td>0.056411</td>\n",
       "      <td>0.027458</td>\n",
       "      <td>0.380278</td>\n",
       "      <td>0.213094</td>\n",
       "      <td>0.025380</td>\n",
       "      <td>0.001219</td>\n",
       "      <td>0.022775</td>\n",
       "      <td>1750.94</td>\n",
       "      <td>New Zealand</td>\n",
       "    </tr>\n",
       "  </tbody>\n",
       "</table>\n",
       "</div>"
      ],
      "text/plain": [
       "   porksupply_pct  chickensupply_pct  beefsupply_pct  lambsupply_pct  \\\n",
       "0        0.024475           0.090031        0.129201        0.003633   \n",
       "1        0.051904           0.099164        0.072803        0.021222   \n",
       "2        0.020423           0.024834        0.042235        0.028758   \n",
       "3        0.045923           0.056891        0.028287        0.044716   \n",
       "4        0.061759           0.096919        0.062313        0.052394   \n",
       "\n",
       "   fishsupply_pct  eggsupply_pct  milkcheesesupply_pct  wheatprodsupply_pct  \\\n",
       "0        0.010153       0.026525              0.454298             0.240120   \n",
       "1        0.038036       0.018298              0.504182             0.151498   \n",
       "2        0.007227       0.023370              0.570120             0.260244   \n",
       "3        0.157545       0.017446              0.478118             0.154390   \n",
       "4        0.056411       0.027458              0.380278             0.213094   \n",
       "\n",
       "   ricesupply_pct  soybeansupply_pct  nutssupply_pct  totalco2      Country  \n",
       "0        0.020423           0.000000        0.001141   2172.40    Argentina  \n",
       "1        0.023716           0.000409        0.018771   1938.64    Australia  \n",
       "2        0.014604           0.000000        0.008184   1777.84      Albania  \n",
       "3        0.008236           0.000233        0.008215   1731.35      Iceland  \n",
       "4        0.025380           0.001219        0.022775   1750.94  New Zealand  "
      ]
     },
     "execution_count": 3,
     "metadata": {},
     "output_type": "execute_result"
    }
   ],
   "source": [
    "data = pd.read_csv('../../data/nu3-pctfoodsupply-CO2-emissions.csv').drop(columns=['Unnamed: 0'])\n",
    "data.head()"
   ]
  },
  {
   "cell_type": "code",
   "execution_count": 4,
   "metadata": {},
   "outputs": [
    {
     "name": "stderr",
     "output_type": "stream",
     "text": [
      "C:\\Users\\vince\\anaconda3\\lib\\site-packages\\pandas\\core\\frame.py:4163: SettingWithCopyWarning: \n",
      "A value is trying to be set on a copy of a slice from a DataFrame\n",
      "\n",
      "See the caveats in the documentation: https://pandas.pydata.org/pandas-docs/stable/user_guide/indexing.html#returning-a-view-versus-a-copy\n",
      "  return super().drop(\n"
     ]
    }
   ],
   "source": [
    "train_data = data.sample(frac=0.80)\n",
    "test_data = data[data['Country'].apply(lambda x: x not in train_data['Country'].values)]\n",
    "\n",
    "train_data.drop(columns='Country', inplace=True)\n",
    "test_data.drop(columns='Country', inplace=True)"
   ]
  },
  {
   "cell_type": "code",
   "execution_count": 5,
   "metadata": {},
   "outputs": [
    {
     "data": {
      "text/plain": [
       "((104, 12), (26, 12))"
      ]
     },
     "execution_count": 5,
     "metadata": {},
     "output_type": "execute_result"
    }
   ],
   "source": [
    "train_data.shape, test_data.shape"
   ]
  },
  {
   "cell_type": "markdown",
   "metadata": {},
   "source": [
    "## Forecasting and Prediction Modeling (25 points)\n",
    "\n",
    "This section is where the rubber meets the road.  In it you must:\n",
    "1. Explore at least 3 prediction modeling approaches for each prediction question, ranging from the simple (e.g. linear regression, KNN) to the complex (e.g. SVM, random forests, Lasso).  \n",
    "2. Motivate all your modeling decisions.  This includes parameter choices (e.g., how many folds in k-fold cross validation, what time window you use for averaging your data) as well as model form (e.g., If you use regression trees, why?  If you include nonlinear features in a regression model, why?). \n",
    "1. Carefully describe your cross validation and model selection process.  You should partition your data into training and testing data sets.  The training data set is what you use for cross-validation (i.e. you sample from within it to create folds, etc.).  The testing data set is held to the very end of your efforts, and used to compare qualitatively different models (e.g. OLS vs random forests).\n",
    "4. Very carefully document your workflow.  We will be reading a lot of projects, so we need you to explain each basic step in your analysis.  \n",
    "5. Seek opportunities to write functions allow you to avoid doing things over and over, and that make your code more succinct and readable. "
   ]
  },
  {
   "cell_type": "markdown",
   "metadata": {},
   "source": [
    "### Prediction Model 1: Simple Linear Regression"
   ]
  },
  {
   "cell_type": "code",
   "execution_count": 13,
   "metadata": {
    "scrolled": false
   },
   "outputs": [
    {
     "name": "stdout",
     "output_type": "stream",
     "text": [
      "Splitting data...\n",
      "Fitting Model...\n",
      "[Train MSE: 80193.3694]\n",
      "[Train R^2: 0.436733814081778]\n",
      "[Test MSE: 109424.2785]\n",
      "[Test R^2: 0.436733814081778]\n",
      "----FINISHED----\n"
     ]
    },
    {
     "data": {
      "image/png": "[encoded data removed]",
      "text/plain": [
       "<Figure size 432x288 with 1 Axes>"
      ]
     },
     "metadata": {
      "needs_background": "light"
     },
     "output_type": "display_data"
    }
   ],
   "source": [
    "X_train, X_val, y_train, y_val = gmp.preprocess_data(train_data, 'totalco2')\n",
    "\n",
    "lr_model = LinearRegression()\n",
    "lr_model = gmp.run_model(X_train, X_val, y_train, y_val, model, diagnostics=True)"
   ]
  },
  {
   "cell_type": "markdown",
   "metadata": {},
   "source": [
    "### Prediction Model 2: Ridge Regression"
   ]
  },
  {
   "cell_type": "code",
   "execution_count": 8,
   "metadata": {},
   "outputs": [
    {
     "name": "stdout",
     "output_type": "stream",
     "text": [
      "Splitting data...\n",
      "optimal alpha: 10.0\n",
      "Test MSE with cross-validated RidgeCV: 114183.59965306723\n",
      "[R^2: 0.412235003730579]\n"
     ]
    },
    {
     "name": "stderr",
     "output_type": "stream",
     "text": [
      "C:\\Users\\vince\\anaconda3\\lib\\site-packages\\sklearn\\linear_model\\_ridge.py:147: LinAlgWarning: Ill-conditioned matrix (rcond=2.79387e-18): result may not be accurate.\n",
      "  return linalg.solve(A, Xy, sym_pos=True,\n",
      "C:\\Users\\vince\\anaconda3\\lib\\site-packages\\sklearn\\linear_model\\_ridge.py:147: LinAlgWarning: Ill-conditioned matrix (rcond=8.76087e-18): result may not be accurate.\n",
      "  return linalg.solve(A, Xy, sym_pos=True,\n"
     ]
    },
    {
     "data": {
      "text/plain": [
       "10.0"
      ]
     },
     "execution_count": 8,
     "metadata": {},
     "output_type": "execute_result"
    }
   ],
   "source": [
    "X_train, X_val, y_val, y_val = gmp.preprocess_data(train_data, 'totalco2', standardize = True)\n",
    "\n",
    "alphas = [0, 0.001, 0.01, 0.1, 1, 10, 100, 1000]\n",
    "gmp.linreg_kfold_cv(RidgeCV, X_train, X_val, y_train, y_val, alphas)"
   ]
  },
  {
   "cell_type": "code",
   "execution_count": 17,
   "metadata": {
    "scrolled": true
   },
   "outputs": [
    {
     "name": "stderr",
     "output_type": "stream",
     "text": [
      "C:\\Users\\vince\\anaconda3\\lib\\site-packages\\sklearn\\linear_model\\_ridge.py:147: LinAlgWarning: Ill-conditioned matrix (rcond=2.79387e-18): result may not be accurate.\n",
      "  return linalg.solve(A, Xy, sym_pos=True,\n",
      "C:\\Users\\vince\\anaconda3\\lib\\site-packages\\sklearn\\linear_model\\_ridge.py:147: LinAlgWarning: Ill-conditioned matrix (rcond=8.76087e-18): result may not be accurate.\n",
      "  return linalg.solve(A, Xy, sym_pos=True,\n"
     ]
    },
    {
     "name": "stdout",
     "output_type": "stream",
     "text": [
      "optimal alpha: 31\n",
      "Test MSE with cross-validated RidgeCV: 121702.83107457834\n",
      "[R^2: 0.3735294361898672]\n"
     ]
    },
    {
     "data": {
      "text/plain": [
       "31"
      ]
     },
     "execution_count": 17,
     "metadata": {},
     "output_type": "execute_result"
    }
   ],
   "source": [
    "alpha2 = np.arange(0, 40, 1)\n",
    "gmp.linreg_kfold_cv(RidgeCV, X_train, X_val, y_train, y_val, alpha2)"
   ]
  },
  {
   "cell_type": "code",
   "execution_count": 29,
   "metadata": {},
   "outputs": [
    {
     "name": "stdout",
     "output_type": "stream",
     "text": [
      "Splitting data...\n",
      "Fitting Model...\n",
      "[Train MSE: 85994.4979]\n",
      "[Train R^2: 0.3735294361898672]\n",
      "[Test MSE: 121702.8311]\n",
      "[Test R^2: 0.3735294361898672]\n",
      "----FINISHED----\n"
     ]
    },
    {
     "data": {
      "image/png": "[encoded data removed]",
      "text/plain": [
       "<Figure size 432x288 with 1 Axes>"
      ]
     },
     "metadata": {
      "needs_background": "light"
     },
     "output_type": "display_data"
    }
   ],
   "source": [
    "X_train, X_val, y_train, y_val = gmp.preprocess_data(train_data, 'totalco2', standardize = True)\n",
    "\n",
    "ridge_model = Ridge(alpha=31)\n",
    "ridge_model = gmp.run_model(X_train, X_val, y_train, y_val, ridge_model, diagnostics=True)"
   ]
  },
  {
   "cell_type": "markdown",
   "metadata": {},
   "source": [
    "### Prediction Model 3: Decision Tree"
   ]
  },
  {
   "cell_type": "code",
   "execution_count": 26,
   "metadata": {},
   "outputs": [
    {
     "name": "stdout",
     "output_type": "stream",
     "text": [
      "Splitting data...\n",
      "Fitting Model...\n",
      "[Train MSE: 16360.7591]\n",
      "[Train R^2: 0.058312773690047726]\n",
      "[Test MSE: 182939.1643]\n",
      "[Test R^2: 0.058312773690047726]\n",
      "----FINISHED----\n"
     ]
    }
   ],
   "source": [
    "X_train, X_val, y_train, y_val = gmp.preprocess_data(train_data, 'totalco2', standardize = False)\n",
    "\n",
    "tree_model = DecisionTreeRegressor(random_state = rs, max_depth = 4)\n",
    "tree_model = gmp.run_model(X_train, X_val, y_train, y_val, tree_model, diagnostics=False)"
   ]
  },
  {
   "cell_type": "code",
   "execution_count": 34,
   "metadata": {},
   "outputs": [
    {
     "data": {
      "text/html": [
       "<div>\n",
       "<style scoped>\n",
       "    .dataframe tbody tr th:only-of-type {\n",
       "        vertical-align: middle;\n",
       "    }\n",
       "\n",
       "    .dataframe tbody tr th {\n",
       "        vertical-align: top;\n",
       "    }\n",
       "\n",
       "    .dataframe thead th {\n",
       "        text-align: right;\n",
       "    }\n",
       "</style>\n",
       "<table border=\"1\" class=\"dataframe\">\n",
       "  <thead>\n",
       "    <tr style=\"text-align: right;\">\n",
       "      <th></th>\n",
       "      <th>Prediction</th>\n",
       "      <th>True</th>\n",
       "    </tr>\n",
       "  </thead>\n",
       "  <tbody>\n",
       "    <tr>\n",
       "      <th>18</th>\n",
       "      <td>1026.770560</td>\n",
       "      <td>1381.90</td>\n",
       "    </tr>\n",
       "    <tr>\n",
       "      <th>121</th>\n",
       "      <td>506.714273</td>\n",
       "      <td>282.62</td>\n",
       "    </tr>\n",
       "    <tr>\n",
       "      <th>22</th>\n",
       "      <td>1013.371341</td>\n",
       "      <td>1356.75</td>\n",
       "    </tr>\n",
       "    <tr>\n",
       "      <th>81</th>\n",
       "      <td>1220.902407</td>\n",
       "      <td>542.89</td>\n",
       "    </tr>\n",
       "    <tr>\n",
       "      <th>45</th>\n",
       "      <td>896.451165</td>\n",
       "      <td>889.11</td>\n",
       "    </tr>\n",
       "    <tr>\n",
       "      <th>109</th>\n",
       "      <td>495.359283</td>\n",
       "      <td>262.55</td>\n",
       "    </tr>\n",
       "    <tr>\n",
       "      <th>90</th>\n",
       "      <td>903.578151</td>\n",
       "      <td>434.08</td>\n",
       "    </tr>\n",
       "    <tr>\n",
       "      <th>5</th>\n",
       "      <td>1096.041399</td>\n",
       "      <td>1718.86</td>\n",
       "    </tr>\n",
       "    <tr>\n",
       "      <th>7</th>\n",
       "      <td>1116.399189</td>\n",
       "      <td>1598.41</td>\n",
       "    </tr>\n",
       "    <tr>\n",
       "      <th>77</th>\n",
       "      <td>675.385593</td>\n",
       "      <td>672.07</td>\n",
       "    </tr>\n",
       "    <tr>\n",
       "      <th>26</th>\n",
       "      <td>996.630831</td>\n",
       "      <td>1211.16</td>\n",
       "    </tr>\n",
       "    <tr>\n",
       "      <th>19</th>\n",
       "      <td>921.918941</td>\n",
       "      <td>1494.29</td>\n",
       "    </tr>\n",
       "    <tr>\n",
       "      <th>39</th>\n",
       "      <td>956.652744</td>\n",
       "      <td>996.14</td>\n",
       "    </tr>\n",
       "    <tr>\n",
       "      <th>74</th>\n",
       "      <td>721.723717</td>\n",
       "      <td>610.41</td>\n",
       "    </tr>\n",
       "    <tr>\n",
       "      <th>96</th>\n",
       "      <td>527.152080</td>\n",
       "      <td>554.64</td>\n",
       "    </tr>\n",
       "    <tr>\n",
       "      <th>84</th>\n",
       "      <td>641.786085</td>\n",
       "      <td>644.06</td>\n",
       "    </tr>\n",
       "    <tr>\n",
       "      <th>64</th>\n",
       "      <td>954.296228</td>\n",
       "      <td>678.94</td>\n",
       "    </tr>\n",
       "    <tr>\n",
       "      <th>43</th>\n",
       "      <td>892.380216</td>\n",
       "      <td>918.60</td>\n",
       "    </tr>\n",
       "    <tr>\n",
       "      <th>30</th>\n",
       "      <td>949.180805</td>\n",
       "      <td>1174.28</td>\n",
       "    </tr>\n",
       "    <tr>\n",
       "      <th>21</th>\n",
       "      <td>911.107765</td>\n",
       "      <td>1405.70</td>\n",
       "    </tr>\n",
       "    <tr>\n",
       "      <th>20</th>\n",
       "      <td>1041.601109</td>\n",
       "      <td>1424.67</td>\n",
       "    </tr>\n",
       "  </tbody>\n",
       "</table>\n",
       "</div>"
      ],
      "text/plain": [
       "      Prediction     True\n",
       "18   1026.770560  1381.90\n",
       "121   506.714273   282.62\n",
       "22   1013.371341  1356.75\n",
       "81   1220.902407   542.89\n",
       "45    896.451165   889.11\n",
       "109   495.359283   262.55\n",
       "90    903.578151   434.08\n",
       "5    1096.041399  1718.86\n",
       "7    1116.399189  1598.41\n",
       "77    675.385593   672.07\n",
       "26    996.630831  1211.16\n",
       "19    921.918941  1494.29\n",
       "39    956.652744   996.14\n",
       "74    721.723717   610.41\n",
       "96    527.152080   554.64\n",
       "84    641.786085   644.06\n",
       "64    954.296228   678.94\n",
       "43    892.380216   918.60\n",
       "30    949.180805  1174.28\n",
       "21    911.107765  1405.70\n",
       "20   1041.601109  1424.67"
      ]
     },
     "execution_count": 34,
     "metadata": {},
     "output_type": "execute_result"
    }
   ],
   "source": [
    "pd.DataFrame({'Prediction' : ridge_model.predict(X_val), 'True' : y_val})"
   ]
  },
  {
   "cell_type": "markdown",
   "metadata": {},
   "source": [
    "### Prediction Model 4: Random Forest"
   ]
  },
  {
   "cell_type": "code",
   "execution_count": 43,
   "metadata": {},
   "outputs": [
    {
     "name": "stdout",
     "output_type": "stream",
     "text": [
      "Fitting Model...\n",
      "[Train MSE: 28799.747]\n",
      "[Train R^2: 0.42070344277634464]\n",
      "[Test MSE: 112538.4577]\n",
      "[Test R^2: 0.42070344277634464]\n",
      "----FINISHED----\n"
     ]
    }
   ],
   "source": [
    "forest_model = RandomForestRegressor(n_estimators = 500, random_state = rs, max_depth = 3)\n",
    "forest_model = gmp.run_model(X_train, X_val, y_train, y_val, forest_model, diagnostics=False)"
   ]
  },
  {
   "cell_type": "code",
   "execution_count": 44,
   "metadata": {},
   "outputs": [
    {
     "data": {
      "text/html": [
       "<div>\n",
       "<style scoped>\n",
       "    .dataframe tbody tr th:only-of-type {\n",
       "        vertical-align: middle;\n",
       "    }\n",
       "\n",
       "    .dataframe tbody tr th {\n",
       "        vertical-align: top;\n",
       "    }\n",
       "\n",
       "    .dataframe thead th {\n",
       "        text-align: right;\n",
       "    }\n",
       "</style>\n",
       "<table border=\"1\" class=\"dataframe\">\n",
       "  <thead>\n",
       "    <tr style=\"text-align: right;\">\n",
       "      <th></th>\n",
       "      <th>Prediction</th>\n",
       "      <th>True</th>\n",
       "    </tr>\n",
       "  </thead>\n",
       "  <tbody>\n",
       "    <tr>\n",
       "      <th>18</th>\n",
       "      <td>1317.464203</td>\n",
       "      <td>1381.90</td>\n",
       "    </tr>\n",
       "    <tr>\n",
       "      <th>121</th>\n",
       "      <td>493.227352</td>\n",
       "      <td>282.62</td>\n",
       "    </tr>\n",
       "    <tr>\n",
       "      <th>22</th>\n",
       "      <td>1221.366439</td>\n",
       "      <td>1356.75</td>\n",
       "    </tr>\n",
       "    <tr>\n",
       "      <th>81</th>\n",
       "      <td>808.135386</td>\n",
       "      <td>542.89</td>\n",
       "    </tr>\n",
       "    <tr>\n",
       "      <th>45</th>\n",
       "      <td>726.270635</td>\n",
       "      <td>889.11</td>\n",
       "    </tr>\n",
       "    <tr>\n",
       "      <th>109</th>\n",
       "      <td>528.587668</td>\n",
       "      <td>262.55</td>\n",
       "    </tr>\n",
       "    <tr>\n",
       "      <th>90</th>\n",
       "      <td>865.807289</td>\n",
       "      <td>434.08</td>\n",
       "    </tr>\n",
       "    <tr>\n",
       "      <th>5</th>\n",
       "      <td>1350.058685</td>\n",
       "      <td>1718.86</td>\n",
       "    </tr>\n",
       "    <tr>\n",
       "      <th>7</th>\n",
       "      <td>1160.313879</td>\n",
       "      <td>1598.41</td>\n",
       "    </tr>\n",
       "    <tr>\n",
       "      <th>77</th>\n",
       "      <td>530.593772</td>\n",
       "      <td>672.07</td>\n",
       "    </tr>\n",
       "    <tr>\n",
       "      <th>26</th>\n",
       "      <td>1110.359391</td>\n",
       "      <td>1211.16</td>\n",
       "    </tr>\n",
       "    <tr>\n",
       "      <th>19</th>\n",
       "      <td>672.389567</td>\n",
       "      <td>1494.29</td>\n",
       "    </tr>\n",
       "    <tr>\n",
       "      <th>39</th>\n",
       "      <td>1097.988688</td>\n",
       "      <td>996.14</td>\n",
       "    </tr>\n",
       "    <tr>\n",
       "      <th>74</th>\n",
       "      <td>563.744221</td>\n",
       "      <td>610.41</td>\n",
       "    </tr>\n",
       "    <tr>\n",
       "      <th>96</th>\n",
       "      <td>476.354906</td>\n",
       "      <td>554.64</td>\n",
       "    </tr>\n",
       "    <tr>\n",
       "      <th>84</th>\n",
       "      <td>602.741073</td>\n",
       "      <td>644.06</td>\n",
       "    </tr>\n",
       "    <tr>\n",
       "      <th>64</th>\n",
       "      <td>698.376987</td>\n",
       "      <td>678.94</td>\n",
       "    </tr>\n",
       "    <tr>\n",
       "      <th>43</th>\n",
       "      <td>704.940854</td>\n",
       "      <td>918.60</td>\n",
       "    </tr>\n",
       "    <tr>\n",
       "      <th>30</th>\n",
       "      <td>1000.046652</td>\n",
       "      <td>1174.28</td>\n",
       "    </tr>\n",
       "    <tr>\n",
       "      <th>21</th>\n",
       "      <td>841.308765</td>\n",
       "      <td>1405.70</td>\n",
       "    </tr>\n",
       "    <tr>\n",
       "      <th>20</th>\n",
       "      <td>722.184010</td>\n",
       "      <td>1424.67</td>\n",
       "    </tr>\n",
       "  </tbody>\n",
       "</table>\n",
       "</div>"
      ],
      "text/plain": [
       "      Prediction     True\n",
       "18   1317.464203  1381.90\n",
       "121   493.227352   282.62\n",
       "22   1221.366439  1356.75\n",
       "81    808.135386   542.89\n",
       "45    726.270635   889.11\n",
       "109   528.587668   262.55\n",
       "90    865.807289   434.08\n",
       "5    1350.058685  1718.86\n",
       "7    1160.313879  1598.41\n",
       "77    530.593772   672.07\n",
       "26   1110.359391  1211.16\n",
       "19    672.389567  1494.29\n",
       "39   1097.988688   996.14\n",
       "74    563.744221   610.41\n",
       "96    476.354906   554.64\n",
       "84    602.741073   644.06\n",
       "64    698.376987   678.94\n",
       "43    704.940854   918.60\n",
       "30   1000.046652  1174.28\n",
       "21    841.308765  1405.70\n",
       "20    722.184010  1424.67"
      ]
     },
     "execution_count": 44,
     "metadata": {},
     "output_type": "execute_result"
    }
   ],
   "source": [
    "pd.DataFrame({'Prediction' : forest_model.predict(X_val), 'True' : y_val})"
   ]
  },
  {
   "cell_type": "markdown",
   "metadata": {},
   "source": [
    "---\n",
    "\n",
    "## Interpretation and Conclusions (20 points)\n",
    "In this section you must relate your modeling and forecasting results to your original prediction question.  You must:\n",
    "1. Address a resource allocation question.  What do the answers mean? What advice would you give a decision maker on the basis of your results?  How might they allocate their resources differently with the results of your model?  Why should the reader care about your results?\n",
    "2. Discuss caveats and / or reasons your results might be flawed.  No model is perfect, and understanding a model's imperfections is extremely important for the purpose of knowing how to interpret your results.  Often, we know the model output is wrong but we can assign a direction for its bias.  This helps to understand whether or not your answers are conservative.  \n",
    "\n",
    "Shoot for 500-1000 words for this section."
   ]
  },
  {
   "cell_type": "code",
   "execution_count": null,
   "metadata": {},
   "outputs": [],
   "source": []
  }
 ],
 "metadata": {
  "kernelspec": {
   "display_name": "Python 3",
   "language": "python",
   "name": "python3"
  },
  "language_info": {
   "codemirror_mode": {
    "name": "ipython",
    "version": 3
   },
   "file_extension": ".py",
   "mimetype": "text/x-python",
   "name": "python",
   "nbconvert_exporter": "python",
   "pygments_lexer": "ipython3",
   "version": "3.8.3"
  }
 },
 "nbformat": 4,
 "nbformat_minor": 4
}
