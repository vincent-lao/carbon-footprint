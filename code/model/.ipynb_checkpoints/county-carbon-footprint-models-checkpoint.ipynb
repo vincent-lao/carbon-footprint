{
 "cells": [
  {
   "cell_type": "code",
   "execution_count": 102,
   "metadata": {},
   "outputs": [],
   "source": [
    "#county-carbon footprint\n",
    "\n",
    "#HENRY & JUN\n",
    "# !pip install ipynb\n",
    "#!pip install sklearn\n",
    "#!pip install mlxtend\n",
    "import ipynb.fs.full.general_model_pipeline_vl\n",
    "\n",
    "\n",
    "import numpy as np\n",
    "import pandas as pd\n",
    "from sklearn.linear_model import LinearRegression, Ridge, Lasso, RidgeCV, LassoCV\n",
    "from sklearn.tree import DecisionTreeRegressor\n",
    "from sklearn.ensemble import RandomForestRegressor\n",
    "from sklearn.preprocessing import StandardScaler\n",
    "from sklearn.metrics import mean_squared_error"
   ]
  },
  {
   "cell_type": "markdown",
   "metadata": {},
   "source": [
    "# Importing the Data"
   ]
  },
  {
   "cell_type": "markdown",
   "metadata": {},
   "source": [
    "You can check the process of merging the two datasets [HERE](../eda/JonesKammen_with_CoolClimate.ipynb) "
   ]
  },
  {
   "cell_type": "code",
   "execution_count": 108,
   "metadata": {
    "scrolled": true
   },
   "outputs": [
    {
     "data": {
      "text/html": [
       "<div>\n",
       "<style scoped>\n",
       "    .dataframe tbody tr th:only-of-type {\n",
       "        vertical-align: middle;\n",
       "    }\n",
       "\n",
       "    .dataframe tbody tr th {\n",
       "        vertical-align: top;\n",
       "    }\n",
       "\n",
       "    .dataframe thead th {\n",
       "        text-align: right;\n",
       "    }\n",
       "</style>\n",
       "<table border=\"1\" class=\"dataframe\">\n",
       "  <thead>\n",
       "    <tr style=\"text-align: right;\">\n",
       "      <th></th>\n",
       "      <th>CountyName</th>\n",
       "      <th>num_vehicles</th>\n",
       "      <th>miles_traveled_year</th>\n",
       "      <th>num_short_flights</th>\n",
       "      <th>num_med_flights</th>\n",
       "      <th>num_long_flights</th>\n",
       "      <th>electricity_billPerYear</th>\n",
       "      <th>housing_squarefeet</th>\n",
       "      <th>moneySpentOnClothesPerYear</th>\n",
       "      <th>result_grand_total</th>\n",
       "      <th>Population</th>\n",
       "      <th>PersonsPerHousehold</th>\n",
       "      <th>AverageHouseValue</th>\n",
       "      <th>IncomePerHousehold</th>\n",
       "      <th>popden</th>\n",
       "      <th>electricity (kWh)</th>\n",
       "      <th>Nat. Gas (cu.ft.)</th>\n",
       "      <th>FUELOIL (gallons)</th>\n",
       "      <th>Vehicle miles traveled</th>\n",
       "      <th>HouseholdsPerZipCode</th>\n",
       "    </tr>\n",
       "  </thead>\n",
       "  <tbody>\n",
       "    <tr>\n",
       "      <td>0</td>\n",
       "      <td>ALAMEDA</td>\n",
       "      <td>242.0</td>\n",
       "      <td>1613500.0</td>\n",
       "      <td>483.0</td>\n",
       "      <td>126.0</td>\n",
       "      <td>89.0</td>\n",
       "      <td>97190.0</td>\n",
       "      <td>211948.5</td>\n",
       "      <td>40510.762336</td>\n",
       "      <td>5277.395845</td>\n",
       "      <td>1333498</td>\n",
       "      <td>111.87</td>\n",
       "      <td>13884600</td>\n",
       "      <td>2590891</td>\n",
       "      <td>258994.046896</td>\n",
       "      <td>275913.455348</td>\n",
       "      <td>1.768720e+06</td>\n",
       "      <td>22.368750</td>\n",
       "      <td>983886</td>\n",
       "      <td>505952</td>\n",
       "    </tr>\n",
       "    <tr>\n",
       "      <td>1</td>\n",
       "      <td>ALPINE</td>\n",
       "      <td>15.0</td>\n",
       "      <td>86300.0</td>\n",
       "      <td>27.0</td>\n",
       "      <td>8.0</td>\n",
       "      <td>3.0</td>\n",
       "      <td>5440.0</td>\n",
       "      <td>14048.0</td>\n",
       "      <td>2366.563071</td>\n",
       "      <td>295.877796</td>\n",
       "      <td>1071</td>\n",
       "      <td>6.22</td>\n",
       "      <td>1177601</td>\n",
       "      <td>84191</td>\n",
       "      <td>5.789275</td>\n",
       "      <td>11596.212856</td>\n",
       "      <td>5.219063e+04</td>\n",
       "      <td>28.795106</td>\n",
       "      <td>34414</td>\n",
       "      <td>1002</td>\n",
       "    </tr>\n",
       "    <tr>\n",
       "      <td>2</td>\n",
       "      <td>AMADOR</td>\n",
       "      <td>87.0</td>\n",
       "      <td>700100.0</td>\n",
       "      <td>162.0</td>\n",
       "      <td>39.0</td>\n",
       "      <td>27.0</td>\n",
       "      <td>37630.0</td>\n",
       "      <td>71966.0</td>\n",
       "      <td>14149.849255</td>\n",
       "      <td>2018.848980</td>\n",
       "      <td>35248</td>\n",
       "      <td>24.21</td>\n",
       "      <td>1578400</td>\n",
       "      <td>442394</td>\n",
       "      <td>2747.175496</td>\n",
       "      <td>68394.867629</td>\n",
       "      <td>2.955696e+05</td>\n",
       "      <td>14.518174</td>\n",
       "      <td>284242</td>\n",
       "      <td>15061</td>\n",
       "    </tr>\n",
       "    <tr>\n",
       "      <td>3</td>\n",
       "      <td>ANDERSON</td>\n",
       "      <td>18.0</td>\n",
       "      <td>170100.0</td>\n",
       "      <td>23.0</td>\n",
       "      <td>15.0</td>\n",
       "      <td>3.0</td>\n",
       "      <td>12330.0</td>\n",
       "      <td>20055.0</td>\n",
       "      <td>2377.138345</td>\n",
       "      <td>426.297154</td>\n",
       "      <td>56985</td>\n",
       "      <td>12.88</td>\n",
       "      <td>302700</td>\n",
       "      <td>164792</td>\n",
       "      <td>217.132534</td>\n",
       "      <td>56492.456566</td>\n",
       "      <td>1.269573e+05</td>\n",
       "      <td>4.450502</td>\n",
       "      <td>128037</td>\n",
       "      <td>19401</td>\n",
       "    </tr>\n",
       "    <tr>\n",
       "      <td>4</td>\n",
       "      <td>ANDREWS</td>\n",
       "      <td>11.0</td>\n",
       "      <td>60700.0</td>\n",
       "      <td>3.0</td>\n",
       "      <td>1.0</td>\n",
       "      <td>6.0</td>\n",
       "      <td>5610.0</td>\n",
       "      <td>7993.0</td>\n",
       "      <td>1319.917126</td>\n",
       "      <td>221.874511</td>\n",
       "      <td>12985</td>\n",
       "      <td>2.81</td>\n",
       "      <td>42500</td>\n",
       "      <td>34086</td>\n",
       "      <td>12.306216</td>\n",
       "      <td>11292.014844</td>\n",
       "      <td>3.320776e+04</td>\n",
       "      <td>0.000000</td>\n",
       "      <td>26524</td>\n",
       "      <td>5391</td>\n",
       "    </tr>\n",
       "  </tbody>\n",
       "</table>\n",
       "</div>"
      ],
      "text/plain": [
       "  CountyName  num_vehicles  miles_traveled_year  num_short_flights  \\\n",
       "0    ALAMEDA         242.0            1613500.0              483.0   \n",
       "1     ALPINE          15.0              86300.0               27.0   \n",
       "2     AMADOR          87.0             700100.0              162.0   \n",
       "3   ANDERSON          18.0             170100.0               23.0   \n",
       "4    ANDREWS          11.0              60700.0                3.0   \n",
       "\n",
       "   num_med_flights  num_long_flights  electricity_billPerYear  \\\n",
       "0            126.0              89.0                  97190.0   \n",
       "1              8.0               3.0                   5440.0   \n",
       "2             39.0              27.0                  37630.0   \n",
       "3             15.0               3.0                  12330.0   \n",
       "4              1.0               6.0                   5610.0   \n",
       "\n",
       "   housing_squarefeet  moneySpentOnClothesPerYear  result_grand_total  \\\n",
       "0            211948.5                40510.762336         5277.395845   \n",
       "1             14048.0                 2366.563071          295.877796   \n",
       "2             71966.0                14149.849255         2018.848980   \n",
       "3             20055.0                 2377.138345          426.297154   \n",
       "4              7993.0                 1319.917126          221.874511   \n",
       "\n",
       "   Population  PersonsPerHousehold  AverageHouseValue  IncomePerHousehold  \\\n",
       "0     1333498               111.87           13884600             2590891   \n",
       "1        1071                 6.22            1177601               84191   \n",
       "2       35248                24.21            1578400              442394   \n",
       "3       56985                12.88             302700              164792   \n",
       "4       12985                 2.81              42500               34086   \n",
       "\n",
       "          popden  electricity (kWh)  Nat. Gas (cu.ft.)  FUELOIL (gallons)  \\\n",
       "0  258994.046896      275913.455348       1.768720e+06          22.368750   \n",
       "1       5.789275       11596.212856       5.219063e+04          28.795106   \n",
       "2    2747.175496       68394.867629       2.955696e+05          14.518174   \n",
       "3     217.132534       56492.456566       1.269573e+05           4.450502   \n",
       "4      12.306216       11292.014844       3.320776e+04           0.000000   \n",
       "\n",
       "   Vehicle miles traveled  HouseholdsPerZipCode  \n",
       "0                  983886                505952  \n",
       "1                   34414                  1002  \n",
       "2                  284242                 15061  \n",
       "3                  128037                 19401  \n",
       "4                   26524                  5391  "
      ]
     },
     "execution_count": 108,
     "metadata": {},
     "output_type": "execute_result"
    }
   ],
   "source": [
    "data = pd.read_csv(\"../../data/jonesKammen-PlUS-CoolClimate.csv\")\n",
    "data.head()"
   ]
  },
  {
   "cell_type": "markdown",
   "metadata": {},
   "source": [
    "# Test and Train Splitting"
   ]
  },
  {
   "cell_type": "markdown",
   "metadata": {},
   "source": [
    "We split our data into train and test data (80/20) and use a random seed of 100 for reproducibility."
   ]
  },
  {
   "cell_type": "code",
   "execution_count": 109,
   "metadata": {},
   "outputs": [],
   "source": [
    "# set the seed for reproducibility\n",
    "rs = 100\n",
    "np.random.seed(100)\n",
    "\n",
    "# frac train\n",
    "train_size = 0.8"
   ]
  },
  {
   "cell_type": "code",
   "execution_count": 110,
   "metadata": {},
   "outputs": [
    {
     "name": "stderr",
     "output_type": "stream",
     "text": [
      "/Users/junkang/opt/anaconda3/lib/python3.7/site-packages/pandas/core/frame.py:4102: SettingWithCopyWarning: \n",
      "A value is trying to be set on a copy of a slice from a DataFrame\n",
      "\n",
      "See the caveats in the documentation: http://pandas.pydata.org/pandas-docs/stable/user_guide/indexing.html#returning-a-view-versus-a-copy\n",
      "  errors=errors,\n"
     ]
    }
   ],
   "source": [
    "train_data = data.sample(frac=train_size)\n",
    "test_data = data[data['CountyName'].apply(lambda x: x not in train_data['CountyName'].values)]\n",
    "train_data.drop(columns='CountyName', inplace=True)\n",
    "test_data.drop(columns='CountyName', inplace=True)"
   ]
  },
  {
   "cell_type": "code",
   "execution_count": 111,
   "metadata": {},
   "outputs": [
    {
     "data": {
      "text/plain": [
       "((240, 19), (60, 19))"
      ]
     },
     "execution_count": 111,
     "metadata": {},
     "output_type": "execute_result"
    }
   ],
   "source": [
    "train_data.shape, test_data.shape"
   ]
  },
  {
   "cell_type": "markdown",
   "metadata": {},
   "source": [
    "## Forecasting and Prediction Modeling (25 points)\n",
    "\n",
    "In this section, we fit five machine learning models:\n",
    "- Simple Linear Regression\n",
    "- Ridge Regression\n",
    "- LASSO Regression\n",
    "- Decision Tree\n",
    "- Random Forest\n"
   ]
  },
  {
   "cell_type": "markdown",
   "metadata": {},
   "source": [
    "### Prediction Model 1: Linear Regression"
   ]
  },
  {
   "cell_type": "code",
   "execution_count": 124,
   "metadata": {
    "scrolled": true
   },
   "outputs": [
    {
     "name": "stdout",
     "output_type": "stream",
     "text": [
      "Splitting data...\n",
      "Fitting Model...\n",
      "[Train MSE: 193.2402]\n",
      "[Train R^2: 0.9999553426419794]\n",
      "[Test MSE: 57765.674]\n",
      "[Test R^2: 0.998128631686071]\n",
      "----FINISHED----\n"
     ]
    },
    {
     "data": {
      "image/png": "[encoded data removed]",
      "text/plain": [
       "<Figure size 720x288 with 2 Axes>"
      ]
     },
     "metadata": {
      "needs_background": "light"
     },
     "output_type": "display_data"
    }
   ],
   "source": [
    "X_train, X_val, y_train, y_val = gmp.preprocess_data(train_data, 'result_grand_total')\n",
    "\n",
    "lr_model = LinearRegression()\n",
    "lr_model = gmp.run_model(X_train, X_val, y_train, y_val, lr_model, diagnostics=True)"
   ]
  },
  {
   "cell_type": "code",
   "execution_count": 128,
   "metadata": {},
   "outputs": [
    {
     "data": {
      "text/html": [
       "<div>\n",
       "<style scoped>\n",
       "    .dataframe tbody tr th:only-of-type {\n",
       "        vertical-align: middle;\n",
       "    }\n",
       "\n",
       "    .dataframe tbody tr th {\n",
       "        vertical-align: top;\n",
       "    }\n",
       "\n",
       "    .dataframe thead th {\n",
       "        text-align: right;\n",
       "    }\n",
       "</style>\n",
       "<table border=\"1\" class=\"dataframe\">\n",
       "  <thead>\n",
       "    <tr style=\"text-align: right;\">\n",
       "      <th></th>\n",
       "      <th>Model Coefs</th>\n",
       "    </tr>\n",
       "  </thead>\n",
       "  <tbody>\n",
       "    <tr>\n",
       "      <td>num_vehicles</td>\n",
       "      <td>11.914166</td>\n",
       "    </tr>\n",
       "    <tr>\n",
       "      <td>miles_traveled_year</td>\n",
       "      <td>0.001105</td>\n",
       "    </tr>\n",
       "    <tr>\n",
       "      <td>num_short_flights</td>\n",
       "      <td>0.573165</td>\n",
       "    </tr>\n",
       "    <tr>\n",
       "      <td>num_med_flights</td>\n",
       "      <td>1.871119</td>\n",
       "    </tr>\n",
       "    <tr>\n",
       "      <td>num_long_flights</td>\n",
       "      <td>4.847888</td>\n",
       "    </tr>\n",
       "    <tr>\n",
       "      <td>electricity_billPerYear</td>\n",
       "      <td>0.004340</td>\n",
       "    </tr>\n",
       "    <tr>\n",
       "      <td>housing_squarefeet</td>\n",
       "      <td>-0.007290</td>\n",
       "    </tr>\n",
       "    <tr>\n",
       "      <td>moneySpentOnClothesPerYear</td>\n",
       "      <td>0.018085</td>\n",
       "    </tr>\n",
       "    <tr>\n",
       "      <td>result_grand_total</td>\n",
       "      <td>0.000130</td>\n",
       "    </tr>\n",
       "    <tr>\n",
       "      <td>Population</td>\n",
       "      <td>0.064418</td>\n",
       "    </tr>\n",
       "    <tr>\n",
       "      <td>PersonsPerHousehold</td>\n",
       "      <td>-0.000005</td>\n",
       "    </tr>\n",
       "    <tr>\n",
       "      <td>AverageHouseValue</td>\n",
       "      <td>0.000001</td>\n",
       "    </tr>\n",
       "    <tr>\n",
       "      <td>IncomePerHousehold</td>\n",
       "      <td>0.001363</td>\n",
       "    </tr>\n",
       "    <tr>\n",
       "      <td>popden</td>\n",
       "      <td>0.000699</td>\n",
       "    </tr>\n",
       "    <tr>\n",
       "      <td>electricity (kWh)</td>\n",
       "      <td>0.000090</td>\n",
       "    </tr>\n",
       "    <tr>\n",
       "      <td>Nat. Gas (cu.ft.)</td>\n",
       "      <td>0.049444</td>\n",
       "    </tr>\n",
       "    <tr>\n",
       "      <td>FUELOIL (gallons)</td>\n",
       "      <td>-0.000230</td>\n",
       "    </tr>\n",
       "    <tr>\n",
       "      <td>Vehicle miles traveled</td>\n",
       "      <td>-0.000879</td>\n",
       "    </tr>\n",
       "  </tbody>\n",
       "</table>\n",
       "</div>"
      ],
      "text/plain": [
       "                            Model Coefs\n",
       "num_vehicles                  11.914166\n",
       "miles_traveled_year            0.001105\n",
       "num_short_flights              0.573165\n",
       "num_med_flights                1.871119\n",
       "num_long_flights               4.847888\n",
       "electricity_billPerYear        0.004340\n",
       "housing_squarefeet            -0.007290\n",
       "moneySpentOnClothesPerYear     0.018085\n",
       "result_grand_total             0.000130\n",
       "Population                     0.064418\n",
       "PersonsPerHousehold           -0.000005\n",
       "AverageHouseValue              0.000001\n",
       "IncomePerHousehold             0.001363\n",
       "popden                         0.000699\n",
       "electricity (kWh)              0.000090\n",
       "Nat. Gas (cu.ft.)              0.049444\n",
       "FUELOIL (gallons)             -0.000230\n",
       "Vehicle miles traveled        -0.000879"
      ]
     },
     "execution_count": 128,
     "metadata": {},
     "output_type": "execute_result"
    }
   ],
   "source": [
    "conversion_rates = pd.DataFrame(lr_model.coef_, train_data.columns[:-1], columns=['Model Coefs'])\n",
    "\n",
    "conversion_rates"
   ]
  },
  {
   "cell_type": "markdown",
   "metadata": {},
   "source": [
    "### Prediction Model 2: Ridge Regression"
   ]
  },
  {
   "cell_type": "code",
   "execution_count": 125,
   "metadata": {},
   "outputs": [],
   "source": [
    "columns_to_standardize = list(train_data.columns)[0:8] + list(train_data.columns)[9:]"
   ]
  },
  {
   "cell_type": "code",
   "execution_count": 126,
   "metadata": {},
   "outputs": [
    {
     "name": "stdout",
     "output_type": "stream",
     "text": [
      "Standardizing data...\n",
      "Splitting data...\n",
      "optimal alpha: 0.0\n",
      "Test MSE with cross-validated RidgeCV: 57765.67395607755\n",
      "[R^2: 0.9981286316860748]\n"
     ]
    },
    {
     "name": "stderr",
     "output_type": "stream",
     "text": [
      "/Users/junkang/opt/anaconda3/lib/python3.7/site-packages/sklearn/model_selection/_search.py:814: DeprecationWarning: The default of the `iid` parameter will change from True to False in version 0.22 and will be removed in 0.24. This will change numeric results when test-set sizes are unequal.\n",
      "  DeprecationWarning)\n"
     ]
    },
    {
     "data": {
      "text/plain": [
       "0.0"
      ]
     },
     "execution_count": 126,
     "metadata": {},
     "output_type": "execute_result"
    }
   ],
   "source": [
    "X_train, X_val, y_val, y_val = gmp.preprocess_data(train_data, 'result_grand_total', standardize_cols = columns_to_standardize)\n",
    "\n",
    "alphas = [0, 0.001, 0.01, 0.1, 1, 10, 100]\n",
    "gmp.linreg_kfold_cv(RidgeCV, X_train, X_val, y_train, y_val, alphas)"
   ]
  },
  {
   "cell_type": "markdown",
   "metadata": {},
   "source": [
    "### Prediction Model 3: Lasso Regression"
   ]
  },
  {
   "cell_type": "code",
   "execution_count": 127,
   "metadata": {
    "scrolled": false
   },
   "outputs": [
    {
     "name": "stdout",
     "output_type": "stream",
     "text": [
      "Standardizing data...\n",
      "Splitting data...\n",
      "optimal alpha: 0.0\n",
      "Test MSE with cross-validated LassoCV: 8627.698263580554\n",
      "[R^2: 0.9997204983505456]\n"
     ]
    },
    {
     "name": "stderr",
     "output_type": "stream",
     "text": [
      "/Users/junkang/opt/anaconda3/lib/python3.7/site-packages/sklearn/linear_model/coordinate_descent.py:471: UserWarning: Coordinate descent with alpha=0 may lead to unexpected results and is discouraged.\n",
      "  tol, rng, random, positive)\n",
      "/Users/junkang/opt/anaconda3/lib/python3.7/site-packages/sklearn/linear_model/coordinate_descent.py:471: UserWarning: Coordinate descent with alpha=0 may lead to unexpected results and is discouraged.\n",
      "  tol, rng, random, positive)\n",
      "/Users/junkang/opt/anaconda3/lib/python3.7/site-packages/sklearn/linear_model/coordinate_descent.py:471: UserWarning: Coordinate descent with alpha=0 may lead to unexpected results and is discouraged.\n",
      "  tol, rng, random, positive)\n",
      "/Users/junkang/opt/anaconda3/lib/python3.7/site-packages/sklearn/linear_model/coordinate_descent.py:471: UserWarning: Coordinate descent with alpha=0 may lead to unexpected results and is discouraged.\n",
      "  tol, rng, random, positive)\n",
      "/Users/junkang/opt/anaconda3/lib/python3.7/site-packages/sklearn/linear_model/coordinate_descent.py:471: UserWarning: Coordinate descent with alpha=0 may lead to unexpected results and is discouraged.\n",
      "  tol, rng, random, positive)\n",
      "/Users/junkang/opt/anaconda3/lib/python3.7/site-packages/sklearn/linear_model/coordinate_descent.py:1227: UserWarning: With alpha=0, this algorithm does not converge well. You are advised to use the LinearRegression estimator\n",
      "  model.fit(X, y)\n",
      "/Users/junkang/opt/anaconda3/lib/python3.7/site-packages/sklearn/linear_model/coordinate_descent.py:475: UserWarning: Coordinate descent with no regularization may lead to unexpected results and is discouraged.\n",
      "  positive)\n"
     ]
    },
    {
     "data": {
      "text/plain": [
       "0.0"
      ]
     },
     "execution_count": 127,
     "metadata": {},
     "output_type": "execute_result"
    }
   ],
   "source": [
    "X_train, X_val, y_val, y_val = gmp.preprocess_data(train_data, 'result_grand_total', standardize_cols = columns_to_standardize)\n",
    "\n",
    "alphas = [0, 0.001, 0.01, 0.1, 1, 10, 100]\n",
    "gmp.linreg_kfold_cv(LassoCV, X_train, X_val, y_train, y_val, alphas)"
   ]
  },
  {
   "cell_type": "markdown",
   "metadata": {},
   "source": [
    "### Prediction Model 4: Decision Tree"
   ]
  },
  {
   "cell_type": "code",
   "execution_count": 119,
   "metadata": {
    "scrolled": true
   },
   "outputs": [
    {
     "name": "stdout",
     "output_type": "stream",
     "text": [
      "0.9304583830269849\n",
      "{'max_leaf_nodes': 26, 'max_features': 2, 'max_depth': 9}\n"
     ]
    },
    {
     "name": "stderr",
     "output_type": "stream",
     "text": [
      "/Users/junkang/opt/anaconda3/lib/python3.7/site-packages/sklearn/model_selection/_search.py:814: DeprecationWarning: The default of the `iid` parameter will change from True to False in version 0.22 and will be removed in 0.24. This will change numeric results when test-set sizes are unequal.\n",
      "  DeprecationWarning)\n"
     ]
    }
   ],
   "source": [
    "param_dist = {'max_leaf_nodes': np.arange(2, 27),\n",
    "              'max_features': np.arange(2, X_train.shape[1] + 1),\n",
    "              'max_depth': np.arange(2,12)}\n",
    "\n",
    "tree = DecisionTreeRegressor(random_state = rs, max_depth = 4, max_features=5, max_leaf_nodes=10)\n",
    "gmp.tree_kfold_cv(tree, param_dist, X_train, y_train, n_iter=1000, random_state = rs)"
   ]
  },
  {
   "cell_type": "code",
   "execution_count": 121,
   "metadata": {},
   "outputs": [
    {
     "name": "stdout",
     "output_type": "stream",
     "text": [
      "Splitting data...\n",
      "Fitting Model...\n",
      "[Train MSE: 20662.7114]\n",
      "[Train R^2: 0.9952248964928301]\n",
      "[Test MSE: 8994013.5835]\n",
      "[Test R^2: 0.7086312530861629]\n",
      "----FINISHED----\n"
     ]
    },
    {
     "data": {
      "image/png": "[encoded data removed]",
      "text/plain": [
       "<Figure size 720x288 with 2 Axes>"
      ]
     },
     "metadata": {
      "needs_background": "light"
     },
     "output_type": "display_data"
    }
   ],
   "source": [
    "X_train, X_val, y_train, y_val = gmp.preprocess_data(train_data, 'result_grand_total')\n",
    "\n",
    "tree_model = DecisionTreeRegressor(random_state=rs, max_depth=4)\n",
    "tree_model = gmp.run_model(X_train, X_val, y_train, y_val, tree_model, diagnostics=True)"
   ]
  },
  {
   "cell_type": "markdown",
   "metadata": {},
   "source": [
    "### Prediction Model 5: Random Forest"
   ]
  },
  {
   "cell_type": "code",
   "execution_count": 120,
   "metadata": {
    "scrolled": true
   },
   "outputs": [
    {
     "name": "stdout",
     "output_type": "stream",
     "text": [
      "Fitting Model...\n",
      "[Train MSE: 59747.4544]\n",
      "[Train R^2: 0.9861925052708329]\n",
      "[Test MSE: 12384707.524]\n",
      "[Test R^2: 0.5987868287432065]\n",
      "----FINISHED----\n"
     ]
    },
    {
     "data": {
      "image/png": "[encoded data removed]",
      "text/plain": [
       "<Figure size 720x288 with 2 Axes>"
      ]
     },
     "metadata": {
      "needs_background": "light"
     },
     "output_type": "display_data"
    }
   ],
   "source": [
    "forest_model = RandomForestRegressor(n_estimators = 500, random_state = rs, max_depth = 5)\n",
    "forest_model = gmp.run_model(X_train, X_val, y_train, y_val, forest_model, diagnostics=True)"
   ]
  },
  {
   "cell_type": "code",
   "execution_count": 132,
   "metadata": {
    "scrolled": true
   },
   "outputs": [
    {
     "data": {
      "text/plain": [
       "{'Linear Regression': 7951.847701035857,\n",
       " 'Decision Tree': 501176.82455503184,\n",
       " 'Random Forest': 169341233.80367383}"
      ]
     },
     "execution_count": 132,
     "metadata": {},
     "output_type": "execute_result"
    }
   ],
   "source": [
    "X_test = test_data.drop(columns='result_grand_total')\n",
    "y_test = test_data['result_grand_total']\n",
    "\n",
    "\n",
    "lr_test_preds = lr_model.predict(X_test)\n",
    "tree_test_preds = tree_model.predict(X_test)\n",
    "forest_test_preds = forest_model.predict(X_test)\n",
    "\n",
    "\n",
    "{'Linear Regression' : mean_squared_error(lr_test_preds, y_test),\n",
    " 'Decision Tree' : mean_squared_error(tree_test_preds, y_test),\n",
    " 'Random Forest' : mean_squared_error(forest_test_preds, y_test)}"
   ]
  },
  {
   "cell_type": "markdown",
   "metadata": {},
   "source": [
    "## Interpretation and Conclusions (20 points)"
   ]
  },
  {
   "cell_type": "markdown",
   "metadata": {},
   "source": [
    "The motivation for this model was to predict a county’s carbon footprint based on combined features from the Jones-Kammen dataset and the data from the CoolClimateAPI. According to our models above, the linear regression seemed to do the best in terms of Test’s Mean squared Error. \n",
    "\n",
    "Looking at all of the linear model’s coefficients, we note that the number of vehicles someone owns has a large beta coefficient. While we cannot suggest a causal relationship, we can suggest that there is a strong correlation between the number of vehicles someone owns to their carbon emissions. Therefore, one conclusion that we suggest is that it behooves policymakers to consider the impact that a strong public transportation system has on people and the environment. \n",
    "\n",
    "One caveat with this suggestion, however, is that it does not account for the type of vehicle (i.e. combustion vs electric vs hybrid) that the people in that county have. This was because when we pulled this data from the API, some of the features that we had wanted to use (fuel type, meat & egg consumption) were defaulted to certain values. \n",
    "\n",
    "Our models are interesting and could be useful for predicting which counties might have large carbon footprint for policy applications. For example, for which counties might it be beneficial to run recycling or resource-conservation education campaigns. Knowing these results, we know which counties to really target and know which features they should be aware of. This can help lower the overal carbon footprint emitted.\n",
    "\n",
    "When we tested our models, we found it very interesting that LASSO did worse than linear regression, in terms of MSE. We thought lasso should do at least better than the linear regression, so these results were a bit shocking. There could have been a bug in our model pipeline code. Another note is that when we ran cross validation on both lasso and ridge, we got the optimal alpha value of 0, which is just linear regression. This shows that lasso and Ridge were not useful, and we should stick to the linear regression. Our decision trees and random forests do pretty poorly compared to the linear models, as they could not replicate the linear decision boundary. Our MSE values for the decision trees and random forests were massive, which was a bit concerning. \n"
   ]
  }
 ],
 "metadata": {
  "kernelspec": {
   "display_name": "Python 3",
   "language": "python",
   "name": "python3"
  },
  "language_info": {
   "codemirror_mode": {
    "name": "ipython",
    "version": 3
   },
   "file_extension": ".py",
   "mimetype": "text/x-python",
   "name": "python",
   "nbconvert_exporter": "python",
   "pygments_lexer": "ipython3",
   "version": "3.7.4"
  }
 },
 "nbformat": 4,
 "nbformat_minor": 4
}
