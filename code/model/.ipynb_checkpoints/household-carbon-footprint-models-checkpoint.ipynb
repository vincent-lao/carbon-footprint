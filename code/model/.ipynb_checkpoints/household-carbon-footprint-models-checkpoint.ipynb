{
 "cells": [
  {
   "cell_type": "code",
   "execution_count": 1,
   "metadata": {},
   "outputs": [
    {
     "name": "stdout",
     "output_type": "stream",
     "text": [
      "Requirement already satisfied: ipynb in c:\\users\\miche\\anaconda3\\lib\\site-packages (0.5.1)\n"
     ]
    }
   ],
   "source": [
    "# linear modelling functions\n",
    "#HENRY AND JUN\n",
    "#MERGED KAMMEN + COOLCLIMAE\n",
    "!pip install ipynb\n",
    "import ipynb.fs.full.general_model_pipeline_vl as gmp\n",
    "import numpy as np\n",
    "import pandas as pd\n",
    "import matplotlib.pyplot as plt\n",
    "import re\n",
    "\n",
    "from sklearn.model_selection import train_test_split\n",
    "from sklearn.metrics import mean_squared_error\n",
    "from sklearn.model_selection import KFold\n",
    "from sklearn.linear_model import LinearRegression, Ridge, Lasso, RidgeCV, LassoCV\n",
    "from sklearn.preprocessing import StandardScaler\n",
    "from sklearn.metrics import r2_score, mean_squared_error\n",
    "from sklearn.tree import DecisionTreeRegressor"
   ]
  },
  {
   "cell_type": "markdown",
   "metadata": {},
   "source": [
    "#### Splitting the dataset \n",
    "\n",
    "These models will use 80% training data and 20% of testing data."
   ]
  },
  {
   "cell_type": "code",
   "execution_count": 14,
   "metadata": {},
   "outputs": [],
   "source": [
    "rs = 100\n",
    "np.random.seed(100)\n",
    "\n",
    "# frac train\n",
    "train_size = 0.8"
   ]
  },
  {
   "cell_type": "code",
   "execution_count": 44,
   "metadata": {},
   "outputs": [
    {
     "name": "stderr",
     "output_type": "stream",
     "text": [
      "C:\\Users\\miche\\anaconda3\\lib\\site-packages\\pandas\\core\\frame.py:3990: SettingWithCopyWarning: \n",
      "A value is trying to be set on a copy of a slice from a DataFrame\n",
      "\n",
      "See the caveats in the documentation: https://pandas.pydata.org/pandas-docs/stable/user_guide/indexing.html#returning-a-view-versus-a-copy\n",
      "  return super().drop(\n"
     ]
    },
    {
     "data": {
      "text/plain": [
       "((934, 10), (234, 10))"
      ]
     },
     "execution_count": 44,
     "metadata": {},
     "output_type": "execute_result"
    }
   ],
   "source": [
    "df1 = pd.read_csv('../../data/new-cleaned-household-data.csv')\n",
    "df1['airflights'] = df1['input_footprint_transportation_airshort']+df1['input_footprint_transportation_airmedium']+df1['input_footprint_transportation_airlong']\n",
    "df = df1[['input_income', 'input_footprint_transportation_num_vehicles', 'input_footprint_transportation_mpg1', 'input_footprint_transportation_miles1', 'input_footprint_transportation_fuel1', 'airflights', 'input_footprint_housing_electricity_dollars', 'input_footprint_housing_squarefeet', 'input_footprint_shopping_goods_clothing', 'result_grand_total']]\n",
    "\n",
    "df.reset_index(drop = False, inplace = True)\n",
    "\n",
    "train_data = df.sample(frac=train_size)\n",
    "test_data = df[df['index'].apply(lambda x: x not in train_data['index'].values)]\n",
    "\n",
    "train_data.drop(columns='index', inplace=True)\n",
    "test_data.drop(columns='index', inplace=True)\n",
    "train_data.shape, test_data.shape\n",
    "\n"
   ]
  },
  {
   "cell_type": "code",
   "execution_count": null,
   "metadata": {},
   "outputs": [],
   "source": []
  },
  {
   "cell_type": "markdown",
   "metadata": {},
   "source": [
    "## Forecasting and Prediction Modeling (25 points)\n",
    "\n",
    "This section is where the rubber meets the road.  In it you must:\n",
    "1. Explore at least 3 prediction modeling approaches for each prediction question, ranging from the simple (e.g. linear regression, KNN) to the complex (e.g. SVM, random forests, Lasso).  \n",
    "2. Motivate all your modeling decisions.  This includes parameter choices (e.g., how many folds in k-fold cross validation, what time window you use for averaging your data) as well as model form (e.g., If you use regression trees, why?  If you include nonlinear features in a regression model, why?). \n",
    "1. Carefully describe your cross validation and model selection process.  You should partition your data into training and testing data sets.  The training data set is what you use for cross-validation (i.e. you sample from within it to create folds, etc.).  The testing data set is held to the very end of your efforts, and used to compare qualitatively different models (e.g. OLS vs random forests).\n",
    "4. Very carefully document your workflow.  We will be reading a lot of projects, so we need you to explain each basic step in your analysis.  \n",
    "5. Seek opportunities to write functions allow you to avoid doing things over and over, and that make your code more succinct and readable. "
   ]
  },
  {
   "cell_type": "markdown",
   "metadata": {},
   "source": [
    "### Model 1: Simple Linear Regression"
   ]
  },
  {
   "cell_type": "markdown",
   "metadata": {},
   "source": [
    "We will begin by looking at a simple linear regression model."
   ]
  },
  {
   "cell_type": "code",
   "execution_count": 45,
   "metadata": {
    "scrolled": false
   },
   "outputs": [
    {
     "name": "stdout",
     "output_type": "stream",
     "text": [
      "Splitting data...\n",
      "Fitting Model...\n",
      "[Train MSE: 3.9345]\n",
      "[Train R^2: 0.9557118527050745]\n",
      "[Test MSE: 5.1157]\n",
      "[Test R^2: 0.9557118527050745]\n",
      "----FINISHED----\n"
     ]
    },
    {
     "data": {
      "image/png": "[encoded data removed]",
      "text/plain": [
       "<Figure size 720x288 with 2 Axes>"
      ]
     },
     "metadata": {
      "needs_background": "light"
     },
     "output_type": "display_data"
    }
   ],
   "source": [
    "\n",
    "X_train, X_val, y_train, y_val = gmp.preprocess_data(train_data, 'result_grand_total')\n",
    "\n",
    "lm = LinearRegression()\n",
    "lin_model = gmp.run_model(X_train, X_val, y_train, y_val, lm, diagnostics = True)"
   ]
  },
  {
   "cell_type": "markdown",
   "metadata": {},
   "source": [
    "This model gave a Test MSE of 1.4711 and R^2 value of 0.9959, so this is a very good model."
   ]
  },
  {
   "cell_type": "markdown",
   "metadata": {},
   "source": [
    "### Model 2: Ridge Regression"
   ]
  },
  {
   "cell_type": "markdown",
   "metadata": {},
   "source": []
  },
  {
   "cell_type": "code",
   "execution_count": 49,
   "metadata": {},
   "outputs": [
    {
     "name": "stdout",
     "output_type": "stream",
     "text": [
      "Splitting data...\n",
      "optimal alpha: 0.001\n",
      "Test MSE with cross-validated RidgeCV: 5.115673947302171\n",
      "[R^2: 0.9557117979687159]\n"
     ]
    },
    {
     "data": {
      "text/plain": [
       "0.001"
      ]
     },
     "execution_count": 49,
     "metadata": {},
     "output_type": "execute_result"
    }
   ],
   "source": [
    "X_train, X_val, y_val, y_val = gmp.preprocess_data(train_data, 'result_grand_total', standardize = True)\n",
    "\n",
    "alphas = [0, 0.001, 0.01, 0.1, 1, 10, 100, 1000]\n",
    "gmp.linreg_kfold_cv(RidgeCV, X_train, X_val, y_train, y_val, alphas)"
   ]
  },
  {
   "cell_type": "markdown",
   "metadata": {},
   "source": [
    "This gave an optimal alpha value of 0.1. We will zoom in around that value to see if there is an even optimal valu of alpha and then see the new test MSE. "
   ]
  },
  {
   "cell_type": "code",
   "execution_count": 52,
   "metadata": {
    "scrolled": true
   },
   "outputs": [
    {
     "name": "stdout",
     "output_type": "stream",
     "text": [
      "optimal alpha: 0.0001\n",
      "Test MSE with cross-validated RidgeCV: 5.115668257010882\n",
      "[R^2: 0.9557118472315839]\n"
     ]
    },
    {
     "data": {
      "text/plain": [
       "0.0001"
      ]
     },
     "execution_count": 52,
     "metadata": {},
     "output_type": "execute_result"
    }
   ],
   "source": [
    "new_alphas = np.arange(0,0.001,0.0001)\n",
    "gmp.linreg_kfold_cv(RidgeCV, X_train, X_val, y_train, y_val, new_alphas)"
   ]
  },
  {
   "cell_type": "code",
   "execution_count": 53,
   "metadata": {
    "scrolled": true
   },
   "outputs": [
    {
     "name": "stdout",
     "output_type": "stream",
     "text": [
      "Fitting Model...\n",
      "[Train MSE: 3.9345]\n",
      "[Train R^2: 0.9557118472315839]\n",
      "[Test MSE: 5.1157]\n",
      "[Test R^2: 0.9557118472315839]\n",
      "----FINISHED----\n"
     ]
    },
    {
     "data": {
      "image/png": "[encoded data removed]",
      "text/plain": [
       "<Figure size 720x288 with 2 Axes>"
      ]
     },
     "metadata": {
      "needs_background": "light"
     },
     "output_type": "display_data"
    }
   ],
   "source": [
    "ridge_model = Ridge(alpha=0.0001)\n",
    "ridge_model = gmp.run_model(X_train, X_val, y_train, y_val, ridge_model, diagnostics=True)"
   ]
  },
  {
   "cell_type": "markdown",
   "metadata": {},
   "source": [
    "what does this tlel me\n"
   ]
  },
  {
   "cell_type": "markdown",
   "metadata": {},
   "source": [
    "### Model 3: Lasso Regression"
   ]
  },
  {
   "cell_type": "code",
   "execution_count": null,
   "metadata": {},
   "outputs": [],
   "source": [
    "X_train, X_val, y_val, y_val = gmp.preprocess_data(df, 'result_grand_total',)\n",
    "\n",
    "alphas = [0, 0.001, 0.01, 0.1, 1, 10, 100, 1000]\n",
    "gmp.linreg_kfold_cv(LassoCV, X_train, X_val, y_train, y_val, alphas)"
   ]
  },
  {
   "cell_type": "code",
   "execution_count": null,
   "metadata": {},
   "outputs": [],
   "source": [
    "new_alphas_lasso = np.arange(0,0.01,0.0001)\n",
    "gmp.linreg_kfold_cv(LassoCV, X_train, X_val, y_train, y_val, new_alphas_lasso)"
   ]
  },
  {
   "cell_type": "code",
   "execution_count": null,
   "metadata": {},
   "outputs": [],
   "source": [
    "X_train, X_val, y_train, y_val = gmp.preprocess_data(df, 'result_grand_total', standardize = True)\n",
    "\n",
    "lasso_model = Lasso(alpha=0.0002)\n",
    "lasso_model = gmp.run_model(X_train, X_val, y_train, y_val, lasso_model, diagnostics=True)"
   ]
  },
  {
   "cell_type": "code",
   "execution_count": null,
   "metadata": {},
   "outputs": [],
   "source": []
  },
  {
   "cell_type": "markdown",
   "metadata": {},
   "source": [
    "## Model 4: Decision Tree"
   ]
  },
  {
   "cell_type": "markdown",
   "metadata": {},
   "source": [
    "Why i did decision trees"
   ]
  },
  {
   "cell_type": "code",
   "execution_count": 47,
   "metadata": {},
   "outputs": [
    {
     "name": "stdout",
     "output_type": "stream",
     "text": [
      "0.9173525999266186\n",
      "{'max_leaf_nodes': 19, 'max_features': 7, 'max_depth': 7}\n"
     ]
    }
   ],
   "source": [
    "param_dist = {'max_leaf_nodes': np.arange(2, 20),\n",
    "              'max_features': np.arange(2, 10),\n",
    "              'max_depth': np.arange(2,10)}\n",
    "\n",
    "tree = DecisionTreeRegressor(random_state = 100, max_depth = 4, max_features=5, max_leaf_nodes=10)\n",
    "gmp.tree_kfold_cv(tree, param_dist, X_train, y_train, n_iter=1000, random_state = 100)"
   ]
  },
  {
   "cell_type": "code",
   "execution_count": null,
   "metadata": {},
   "outputs": [],
   "source": [
    "X_train, X_val, y_train, y_val = gmp.preprocess_data(df, 'result_grand_total', standardize = False)\n",
    "\n",
    "tree_model = DecisionTreeRegressor(random_state=100, max_leaf_nodes = 19,\n",
    "                                   max_depth=8, max_features = 10)\n",
    "tree_model = gmp.run_model(X_train, X_val, y_train, y_val, tree_model, diagnostics=True)"
   ]
  },
  {
   "cell_type": "markdown",
   "metadata": {},
   "source": [
    "What does this mean"
   ]
  },
  {
   "cell_type": "markdown",
   "metadata": {},
   "source": [
    "## Interpretation and Conclusions (20 points)\n",
    "In this section you must relate your modeling and forecasting results to your original prediction question.  You must:\n",
    "1. Address a resource allocation question.  What do the answers mean? What advice would you give a decision maker on the basis of your results?  How might they allocate their resources differently with the results of your model?  Why should the reader care about your results?\n",
    "2. Discuss caveats and / or reasons your results might be flawed.  No model is perfect, and understanding a model's imperfections is extremely important for the purpose of knowing how to interpret your results.  Often, we know the model output is wrong but we can assign a direction for its bias.  This helps to understand whether or not your answers are conservative.  \n",
    "\n",
    "Shoot for 500-1000 words for this section."
   ]
  },
  {
   "cell_type": "markdown",
   "metadata": {},
   "source": [
    "goal make"
   ]
  }
 ],
 "metadata": {
  "kernelspec": {
   "display_name": "Python 3",
   "language": "python",
   "name": "python3"
  },
  "language_info": {
   "codemirror_mode": {
    "name": "ipython",
    "version": 3
   },
   "file_extension": ".py",
   "mimetype": "text/x-python",
   "name": "python",
   "nbconvert_exporter": "python",
   "pygments_lexer": "ipython3",
   "version": "3.7.4"
  }
 },
 "nbformat": 4,
 "nbformat_minor": 4
}
