{
 "cells": [
  {
   "cell_type": "code",
   "execution_count": 237,
   "metadata": {},
   "outputs": [],
   "source": [
    "# linear modelling functions\n",
    "# !pip install ipynb\n",
    "import ipynb.fs.full.general_model_pipeline_vl as gmp\n",
    "\n",
    "# packages\n",
    "import numpy as np\n",
    "import pandas as pd\n",
    "from sklearn.linear_model import LinearRegression, Ridge, Lasso, RidgeCV, LassoCV\n",
    "from sklearn.tree import DecisionTreeRegressor\n",
    "from sklearn.ensemble import RandomForestRegressor\n",
    "from sklearn.preprocessing import StandardScaler\n",
    "\n",
    "from scipy.stats import randint"
   ]
  },
  {
   "cell_type": "markdown",
   "metadata": {},
   "source": [
    "#### Setting aside some testing data first:\n",
    "\n",
    "This code uses 80% for training data, 20% for testing data."
   ]
  },
  {
   "cell_type": "code",
   "execution_count": 176,
   "metadata": {},
   "outputs": [],
   "source": [
    "# set the seed for reproducibility\n",
    "rs = 100\n",
    "np.random.seed(100)\n",
    "\n",
    "# frac train\n",
    "train_size = 0.8"
   ]
  },
  {
   "cell_type": "markdown",
   "metadata": {},
   "source": [
    "#### Original Food Data"
   ]
  },
  {
   "cell_type": "code",
   "execution_count": 220,
   "metadata": {
    "scrolled": false
   },
   "outputs": [
    {
     "data": {
      "text/html": [
       "<div>\n",
       "<style scoped>\n",
       "    .dataframe tbody tr th:only-of-type {\n",
       "        vertical-align: middle;\n",
       "    }\n",
       "\n",
       "    .dataframe tbody tr th {\n",
       "        vertical-align: top;\n",
       "    }\n",
       "\n",
       "    .dataframe thead th {\n",
       "        text-align: right;\n",
       "    }\n",
       "</style>\n",
       "<table border=\"1\" class=\"dataframe\">\n",
       "  <thead>\n",
       "    <tr style=\"text-align: right;\">\n",
       "      <th></th>\n",
       "      <th>Country</th>\n",
       "      <th>porksupply</th>\n",
       "      <th>chickensupply</th>\n",
       "      <th>beefsupply</th>\n",
       "      <th>lambsupply</th>\n",
       "      <th>fishsupply</th>\n",
       "      <th>eggsupply</th>\n",
       "      <th>milkcheesesupply</th>\n",
       "      <th>wheatprodsupply</th>\n",
       "      <th>ricesupply</th>\n",
       "      <th>soybeansupply</th>\n",
       "      <th>nutssupply</th>\n",
       "      <th>totalco2</th>\n",
       "    </tr>\n",
       "  </thead>\n",
       "  <tbody>\n",
       "    <tr>\n",
       "      <th>0</th>\n",
       "      <td>Argentina</td>\n",
       "      <td>10.51</td>\n",
       "      <td>38.66</td>\n",
       "      <td>55.48</td>\n",
       "      <td>1.56</td>\n",
       "      <td>4.36</td>\n",
       "      <td>11.39</td>\n",
       "      <td>195.08</td>\n",
       "      <td>103.11</td>\n",
       "      <td>8.77</td>\n",
       "      <td>0.00</td>\n",
       "      <td>0.49</td>\n",
       "      <td>2172.40</td>\n",
       "    </tr>\n",
       "    <tr>\n",
       "      <th>1</th>\n",
       "      <td>Australia</td>\n",
       "      <td>24.14</td>\n",
       "      <td>46.12</td>\n",
       "      <td>33.86</td>\n",
       "      <td>9.87</td>\n",
       "      <td>17.69</td>\n",
       "      <td>8.51</td>\n",
       "      <td>234.49</td>\n",
       "      <td>70.46</td>\n",
       "      <td>11.03</td>\n",
       "      <td>0.19</td>\n",
       "      <td>8.73</td>\n",
       "      <td>1938.64</td>\n",
       "    </tr>\n",
       "    <tr>\n",
       "      <th>2</th>\n",
       "      <td>Albania</td>\n",
       "      <td>10.88</td>\n",
       "      <td>13.23</td>\n",
       "      <td>22.50</td>\n",
       "      <td>15.32</td>\n",
       "      <td>3.85</td>\n",
       "      <td>12.45</td>\n",
       "      <td>303.72</td>\n",
       "      <td>138.64</td>\n",
       "      <td>7.78</td>\n",
       "      <td>0.00</td>\n",
       "      <td>4.36</td>\n",
       "      <td>1777.84</td>\n",
       "    </tr>\n",
       "    <tr>\n",
       "      <th>3</th>\n",
       "      <td>Iceland</td>\n",
       "      <td>21.69</td>\n",
       "      <td>26.87</td>\n",
       "      <td>13.36</td>\n",
       "      <td>21.12</td>\n",
       "      <td>74.41</td>\n",
       "      <td>8.24</td>\n",
       "      <td>225.82</td>\n",
       "      <td>72.92</td>\n",
       "      <td>3.89</td>\n",
       "      <td>0.11</td>\n",
       "      <td>3.88</td>\n",
       "      <td>1731.35</td>\n",
       "    </tr>\n",
       "    <tr>\n",
       "      <th>4</th>\n",
       "      <td>New Zealand</td>\n",
       "      <td>22.29</td>\n",
       "      <td>34.98</td>\n",
       "      <td>22.49</td>\n",
       "      <td>18.91</td>\n",
       "      <td>20.36</td>\n",
       "      <td>9.91</td>\n",
       "      <td>137.25</td>\n",
       "      <td>76.91</td>\n",
       "      <td>9.16</td>\n",
       "      <td>0.44</td>\n",
       "      <td>8.22</td>\n",
       "      <td>1750.94</td>\n",
       "    </tr>\n",
       "  </tbody>\n",
       "</table>\n",
       "</div>"
      ],
      "text/plain": [
       "       Country  porksupply  chickensupply  beefsupply  lambsupply  fishsupply  \\\n",
       "0    Argentina       10.51          38.66       55.48        1.56        4.36   \n",
       "1    Australia       24.14          46.12       33.86        9.87       17.69   \n",
       "2      Albania       10.88          13.23       22.50       15.32        3.85   \n",
       "3      Iceland       21.69          26.87       13.36       21.12       74.41   \n",
       "4  New Zealand       22.29          34.98       22.49       18.91       20.36   \n",
       "\n",
       "   eggsupply  milkcheesesupply  wheatprodsupply  ricesupply  soybeansupply  \\\n",
       "0      11.39            195.08           103.11        8.77           0.00   \n",
       "1       8.51            234.49            70.46       11.03           0.19   \n",
       "2      12.45            303.72           138.64        7.78           0.00   \n",
       "3       8.24            225.82            72.92        3.89           0.11   \n",
       "4       9.91            137.25            76.91        9.16           0.44   \n",
       "\n",
       "   nutssupply  totalco2  \n",
       "0        0.49   2172.40  \n",
       "1        8.73   1938.64  \n",
       "2        4.36   1777.84  \n",
       "3        3.88   1731.35  \n",
       "4        8.22   1750.94  "
      ]
     },
     "execution_count": 220,
     "metadata": {},
     "output_type": "execute_result"
    }
   ],
   "source": [
    "data = pd.read_csv('../../data/nu3-pctfoodsupply-CO2-emissions.csv').drop(columns=['Unnamed: 0'])\n",
    "data.head()"
   ]
  },
  {
   "cell_type": "code",
   "execution_count": 221,
   "metadata": {},
   "outputs": [
    {
     "name": "stderr",
     "output_type": "stream",
     "text": [
      "C:\\Users\\vince\\anaconda3\\lib\\site-packages\\pandas\\core\\frame.py:4163: SettingWithCopyWarning: \n",
      "A value is trying to be set on a copy of a slice from a DataFrame\n",
      "\n",
      "See the caveats in the documentation: https://pandas.pydata.org/pandas-docs/stable/user_guide/indexing.html#returning-a-view-versus-a-copy\n",
      "  return super().drop(\n"
     ]
    }
   ],
   "source": [
    "train_data = data.sample(frac=train_size)\n",
    "test_data = data[data['Country'].apply(lambda x: x not in train_data['Country'].values)]\n",
    "\n",
    "train_data.drop(columns='Country', inplace=True)\n",
    "test_data.drop(columns='Country', inplace=True)"
   ]
  },
  {
   "cell_type": "code",
   "execution_count": 222,
   "metadata": {},
   "outputs": [
    {
     "data": {
      "text/plain": [
       "((104, 12), (26, 12))"
      ]
     },
     "execution_count": 222,
     "metadata": {},
     "output_type": "execute_result"
    }
   ],
   "source": [
    "train_data.shape, test_data.shape"
   ]
  },
  {
   "cell_type": "markdown",
   "metadata": {},
   "source": [
    "#### Normalized Food Data"
   ]
  },
  {
   "cell_type": "code",
   "execution_count": 46,
   "metadata": {
    "scrolled": true
   },
   "outputs": [
    {
     "data": {
      "text/html": [
       "<div>\n",
       "<style scoped>\n",
       "    .dataframe tbody tr th:only-of-type {\n",
       "        vertical-align: middle;\n",
       "    }\n",
       "\n",
       "    .dataframe tbody tr th {\n",
       "        vertical-align: top;\n",
       "    }\n",
       "\n",
       "    .dataframe thead th {\n",
       "        text-align: right;\n",
       "    }\n",
       "</style>\n",
       "<table border=\"1\" class=\"dataframe\">\n",
       "  <thead>\n",
       "    <tr style=\"text-align: right;\">\n",
       "      <th></th>\n",
       "      <th>Country</th>\n",
       "      <th>porksupply_pct</th>\n",
       "      <th>chickensupply_pct</th>\n",
       "      <th>beefsupply_pct</th>\n",
       "      <th>lambsupply_pct</th>\n",
       "      <th>fishsupply_pct</th>\n",
       "      <th>eggsupply_pct</th>\n",
       "      <th>milkcheesesupply_pct</th>\n",
       "      <th>wheatprodsupply_pct</th>\n",
       "      <th>ricesupply_pct</th>\n",
       "      <th>soybeansupply_pct</th>\n",
       "      <th>nutssupply_pct</th>\n",
       "      <th>totalco2_norm</th>\n",
       "    </tr>\n",
       "  </thead>\n",
       "  <tbody>\n",
       "    <tr>\n",
       "      <th>0</th>\n",
       "      <td>Argentina</td>\n",
       "      <td>0.024475</td>\n",
       "      <td>0.090031</td>\n",
       "      <td>0.129201</td>\n",
       "      <td>0.003633</td>\n",
       "      <td>0.010153</td>\n",
       "      <td>0.026525</td>\n",
       "      <td>0.454298</td>\n",
       "      <td>0.240120</td>\n",
       "      <td>0.020423</td>\n",
       "      <td>0.000000</td>\n",
       "      <td>0.001141</td>\n",
       "      <td>2484.744789</td>\n",
       "    </tr>\n",
       "    <tr>\n",
       "      <th>1</th>\n",
       "      <td>Australia</td>\n",
       "      <td>0.051904</td>\n",
       "      <td>0.099164</td>\n",
       "      <td>0.072803</td>\n",
       "      <td>0.021222</td>\n",
       "      <td>0.038036</td>\n",
       "      <td>0.018298</td>\n",
       "      <td>0.504182</td>\n",
       "      <td>0.151498</td>\n",
       "      <td>0.023716</td>\n",
       "      <td>0.000409</td>\n",
       "      <td>0.018771</td>\n",
       "      <td>2047.266198</td>\n",
       "    </tr>\n",
       "    <tr>\n",
       "      <th>2</th>\n",
       "      <td>Albania</td>\n",
       "      <td>0.020423</td>\n",
       "      <td>0.024834</td>\n",
       "      <td>0.042235</td>\n",
       "      <td>0.028758</td>\n",
       "      <td>0.007227</td>\n",
       "      <td>0.023370</td>\n",
       "      <td>0.570120</td>\n",
       "      <td>0.260244</td>\n",
       "      <td>0.014604</td>\n",
       "      <td>0.000000</td>\n",
       "      <td>0.008184</td>\n",
       "      <td>1639.078175</td>\n",
       "    </tr>\n",
       "    <tr>\n",
       "      <th>3</th>\n",
       "      <td>Iceland</td>\n",
       "      <td>0.045923</td>\n",
       "      <td>0.056891</td>\n",
       "      <td>0.028287</td>\n",
       "      <td>0.044716</td>\n",
       "      <td>0.157545</td>\n",
       "      <td>0.017446</td>\n",
       "      <td>0.478118</td>\n",
       "      <td>0.154390</td>\n",
       "      <td>0.008236</td>\n",
       "      <td>0.000233</td>\n",
       "      <td>0.008215</td>\n",
       "      <td>1800.411917</td>\n",
       "    </tr>\n",
       "    <tr>\n",
       "      <th>4</th>\n",
       "      <td>New Zealand</td>\n",
       "      <td>0.061759</td>\n",
       "      <td>0.096919</td>\n",
       "      <td>0.062313</td>\n",
       "      <td>0.052394</td>\n",
       "      <td>0.056411</td>\n",
       "      <td>0.027458</td>\n",
       "      <td>0.380278</td>\n",
       "      <td>0.213094</td>\n",
       "      <td>0.025380</td>\n",
       "      <td>0.001219</td>\n",
       "      <td>0.022775</td>\n",
       "      <td>2382.727976</td>\n",
       "    </tr>\n",
       "  </tbody>\n",
       "</table>\n",
       "</div>"
      ],
      "text/plain": [
       "       Country  porksupply_pct  chickensupply_pct  beefsupply_pct  \\\n",
       "0    Argentina        0.024475           0.090031        0.129201   \n",
       "1    Australia        0.051904           0.099164        0.072803   \n",
       "2      Albania        0.020423           0.024834        0.042235   \n",
       "3      Iceland        0.045923           0.056891        0.028287   \n",
       "4  New Zealand        0.061759           0.096919        0.062313   \n",
       "\n",
       "   lambsupply_pct  fishsupply_pct  eggsupply_pct  milkcheesesupply_pct  \\\n",
       "0        0.003633        0.010153       0.026525              0.454298   \n",
       "1        0.021222        0.038036       0.018298              0.504182   \n",
       "2        0.028758        0.007227       0.023370              0.570120   \n",
       "3        0.044716        0.157545       0.017446              0.478118   \n",
       "4        0.052394        0.056411       0.027458              0.380278   \n",
       "\n",
       "   wheatprodsupply_pct  ricesupply_pct  soybeansupply_pct  nutssupply_pct  \\\n",
       "0             0.240120        0.020423           0.000000        0.001141   \n",
       "1             0.151498        0.023716           0.000409        0.018771   \n",
       "2             0.260244        0.014604           0.000000        0.008184   \n",
       "3             0.154390        0.008236           0.000233        0.008215   \n",
       "4             0.213094        0.025380           0.001219        0.022775   \n",
       "\n",
       "   totalco2_norm  \n",
       "0    2484.744789  \n",
       "1    2047.266198  \n",
       "2    1639.078175  \n",
       "3    1800.411917  \n",
       "4    2382.727976  "
      ]
     },
     "execution_count": 46,
     "metadata": {},
     "output_type": "execute_result"
    }
   ],
   "source": [
    "data_norm = pd.read_csv('../../data/nu3-pctfoodsupply-CO2-emissions-norm.csv').drop(columns=['Unnamed: 0'])\n",
    "data_norm.head()"
   ]
  },
  {
   "cell_type": "code",
   "execution_count": 47,
   "metadata": {},
   "outputs": [
    {
     "name": "stderr",
     "output_type": "stream",
     "text": [
      "C:\\Users\\vince\\anaconda3\\lib\\site-packages\\pandas\\core\\frame.py:4163: SettingWithCopyWarning: \n",
      "A value is trying to be set on a copy of a slice from a DataFrame\n",
      "\n",
      "See the caveats in the documentation: https://pandas.pydata.org/pandas-docs/stable/user_guide/indexing.html#returning-a-view-versus-a-copy\n",
      "  return super().drop(\n"
     ]
    }
   ],
   "source": [
    "train_data_norm = data_norm.sample(frac=train_size)\n",
    "test_data_norm = data_norm[data_norm['Country'].apply(lambda x: x not in train_data_norm['Country'].values)]\n",
    "\n",
    "train_data_norm.drop(columns='Country', inplace=True)\n",
    "test_data_norm.drop(columns='Country', inplace=True)"
   ]
  },
  {
   "cell_type": "code",
   "execution_count": 48,
   "metadata": {},
   "outputs": [
    {
     "data": {
      "text/plain": [
       "((104, 12), (26, 12))"
      ]
     },
     "execution_count": 48,
     "metadata": {},
     "output_type": "execute_result"
    }
   ],
   "source": [
    "train_data_norm.shape, test_data_norm.shape"
   ]
  },
  {
   "cell_type": "markdown",
   "metadata": {},
   "source": [
    "---\n",
    "\n",
    "## Forecasting and Prediction Modeling (25 points)\n",
    "\n",
    "This section is where the rubber meets the road.  In it you must:\n",
    "2. Motivate all your modeling decisions.  This includes parameter choices (e.g., how many folds in k-fold cross validation, what time window you use for averaging your data) as well as model form (e.g., If you use regression trees, why?  If you include nonlinear features in a regression model, why?). \n",
    "3. Carefully describe your cross validation and model selection process.  You should partition your data into training and testing data sets.  The training data set is what you use for cross-validation (i.e. you sample from within it to create folds, etc.).  The testing data set is held to the very end of your efforts, and used to compare qualitatively different models (e.g. OLS vs random forests).\n",
    "4. Very carefully document your workflow.  We will be reading a lot of projects, so we need you to explain each basic step in your analysis."
   ]
  },
  {
   "cell_type": "markdown",
   "metadata": {},
   "source": [
    "### Prediction Model 1a: Simple Linear Regression on Original Data\n",
    "\n",
    "We first fit a simple linear regression model as a simple test run on our data. Since our true model is linear, we expect this to fit very well."
   ]
  },
  {
   "cell_type": "code",
   "execution_count": 225,
   "metadata": {
    "scrolled": false
   },
   "outputs": [
    {
     "name": "stdout",
     "output_type": "stream",
     "text": [
      "Splitting data...\n",
      "Fitting Model...\n",
      "[Train MSE: 0.0]\n",
      "[Train R^2: 0.9999999999621831]\n",
      "[Test MSE: 0.0]\n",
      "[Test R^2: 0.9999999999621831]\n",
      "----FINISHED----\n"
     ]
    },
    {
     "data": {
      "image/png": "[encoded data removed]",
      "text/plain": [
       "<Figure size 720x288 with 2 Axes>"
      ]
     },
     "metadata": {
      "needs_background": "light"
     },
     "output_type": "display_data"
    }
   ],
   "source": [
    "X_train, X_val, y_train, y_val = gmp.preprocess_data(train_data, 'totalco2')\n",
    "\n",
    "lr_model = LinearRegression()\n",
    "lr_model = gmp.run_model(X_train, X_val, y_train, y_val, lr_model, diagnostics=True)"
   ]
  },
  {
   "cell_type": "code",
   "execution_count": 226,
   "metadata": {},
   "outputs": [
    {
     "data": {
      "text/html": [
       "<div>\n",
       "<style scoped>\n",
       "    .dataframe tbody tr th:only-of-type {\n",
       "        vertical-align: middle;\n",
       "    }\n",
       "\n",
       "    .dataframe tbody tr th {\n",
       "        vertical-align: top;\n",
       "    }\n",
       "\n",
       "    .dataframe thead th {\n",
       "        text-align: right;\n",
       "    }\n",
       "</style>\n",
       "<table border=\"1\" class=\"dataframe\">\n",
       "  <thead>\n",
       "    <tr style=\"text-align: right;\">\n",
       "      <th></th>\n",
       "      <th>Model Coefs</th>\n",
       "      <th>True Rates</th>\n",
       "    </tr>\n",
       "  </thead>\n",
       "  <tbody>\n",
       "    <tr>\n",
       "      <th>porksupply</th>\n",
       "      <td>3.539474</td>\n",
       "      <td>3.54</td>\n",
       "    </tr>\n",
       "    <tr>\n",
       "      <th>chickensupply</th>\n",
       "      <td>1.074217</td>\n",
       "      <td>1.07</td>\n",
       "    </tr>\n",
       "    <tr>\n",
       "      <th>beefsupply</th>\n",
       "      <td>30.857843</td>\n",
       "      <td>30.86</td>\n",
       "    </tr>\n",
       "    <tr>\n",
       "      <th>lambsupply</th>\n",
       "      <td>35.020060</td>\n",
       "      <td>35.02</td>\n",
       "    </tr>\n",
       "    <tr>\n",
       "      <th>fishsupply</th>\n",
       "      <td>1.596716</td>\n",
       "      <td>1.60</td>\n",
       "    </tr>\n",
       "    <tr>\n",
       "      <th>eggsupply</th>\n",
       "      <td>0.918588</td>\n",
       "      <td>0.92</td>\n",
       "    </tr>\n",
       "    <tr>\n",
       "      <th>milkcheesesupply</th>\n",
       "      <td>1.424409</td>\n",
       "      <td>1.42</td>\n",
       "    </tr>\n",
       "    <tr>\n",
       "      <th>wheatprodsupply</th>\n",
       "      <td>0.190699</td>\n",
       "      <td>0.19</td>\n",
       "    </tr>\n",
       "    <tr>\n",
       "      <th>ricesupply</th>\n",
       "      <td>1.279681</td>\n",
       "      <td>1.28</td>\n",
       "    </tr>\n",
       "    <tr>\n",
       "      <th>soybeansupply</th>\n",
       "      <td>0.450811</td>\n",
       "      <td>0.45</td>\n",
       "    </tr>\n",
       "    <tr>\n",
       "      <th>nutssupply</th>\n",
       "      <td>1.769891</td>\n",
       "      <td>1.77</td>\n",
       "    </tr>\n",
       "  </tbody>\n",
       "</table>\n",
       "</div>"
      ],
      "text/plain": [
       "                  Model Coefs  True Rates\n",
       "porksupply           3.539474        3.54\n",
       "chickensupply        1.074217        1.07\n",
       "beefsupply          30.857843       30.86\n",
       "lambsupply          35.020060       35.02\n",
       "fishsupply           1.596716        1.60\n",
       "eggsupply            0.918588        0.92\n",
       "milkcheesesupply     1.424409        1.42\n",
       "wheatprodsupply      0.190699        0.19\n",
       "ricesupply           1.279681        1.28\n",
       "soybeansupply        0.450811        0.45\n",
       "nutssupply           1.769891        1.77"
      ]
     },
     "execution_count": 226,
     "metadata": {},
     "output_type": "execute_result"
    }
   ],
   "source": [
    "# we get back the conversion rates with linear regression\n",
    "conversion_rates = pd.DataFrame(lr_model.coef_, train_data.columns[:-1], columns=['Model Coefs'])\n",
    "\n",
    "# from https://www.nu3.de/blogs/nutrition/food-carbon-footprint-index-2018\n",
    "conversion_rates['True Rates'] = [3.54, 1.07, 30.86, 35.02, 1.60, 0.92, 1.42, 0.19, 1.28, 0.45, 1.77]\n",
    "conversion_rates"
   ]
  },
  {
   "cell_type": "markdown",
   "metadata": {},
   "source": [
    "And as a result, our model reverse engineers the conversion rates [nu3](https://www.nu3.de/blogs/nutrition/food-carbon-footprint-index-2018) uses to produce the data."
   ]
  },
  {
   "cell_type": "markdown",
   "metadata": {},
   "source": [
    "### Prediction Model 1b: Simple Linear Regression on Normalized Data\n",
    "\n",
    "We try this again with our normalize data to confirm that our data transformation did not ruin the relationship between covariates and response variable. We can then use this model to predict an individual's carbon footprint based on their diet distribution instead of the raw supply values."
   ]
  },
  {
   "cell_type": "code",
   "execution_count": 79,
   "metadata": {},
   "outputs": [
    {
     "name": "stdout",
     "output_type": "stream",
     "text": [
      "Splitting data...\n",
      "Fitting Model...\n",
      "[Train MSE: 0.0001]\n",
      "[Train R^2: 0.9999999985514861]\n",
      "[Test MSE: 0.0002]\n",
      "[Test R^2: 0.9999999985514861]\n",
      "----FINISHED----\n"
     ]
    },
    {
     "data": {
      "image/png": "[encoded data removed]",
      "text/plain": [
       "<Figure size 720x288 with 2 Axes>"
      ]
     },
     "metadata": {
      "needs_background": "light"
     },
     "output_type": "display_data"
    }
   ],
   "source": [
    "X_train, X_val, y_train, y_val = gmp.preprocess_data(train_data_norm, 'totalco2_norm')\n",
    "\n",
    "lr_model_norm = LinearRegression()\n",
    "lr_model_norm = gmp.run_model(X_train, X_val, y_train, y_val, lr_model_norm, diagnostics=True)"
   ]
  },
  {
   "cell_type": "code",
   "execution_count": 148,
   "metadata": {},
   "outputs": [
    {
     "data": {
      "text/html": [
       "<div>\n",
       "<style scoped>\n",
       "    .dataframe tbody tr th:only-of-type {\n",
       "        vertical-align: middle;\n",
       "    }\n",
       "\n",
       "    .dataframe tbody tr th {\n",
       "        vertical-align: top;\n",
       "    }\n",
       "\n",
       "    .dataframe thead th {\n",
       "        text-align: right;\n",
       "    }\n",
       "</style>\n",
       "<table border=\"1\" class=\"dataframe\">\n",
       "  <thead>\n",
       "    <tr style=\"text-align: right;\">\n",
       "      <th></th>\n",
       "      <th>0</th>\n",
       "    </tr>\n",
       "  </thead>\n",
       "  <tbody>\n",
       "    <tr>\n",
       "      <th>wheatprodsupply_pct</th>\n",
       "      <td>-3394.521830</td>\n",
       "    </tr>\n",
       "    <tr>\n",
       "      <th>soybeansupply_pct</th>\n",
       "      <td>-3266.776056</td>\n",
       "    </tr>\n",
       "    <tr>\n",
       "      <th>eggsupply_pct</th>\n",
       "      <td>-3036.922061</td>\n",
       "    </tr>\n",
       "    <tr>\n",
       "      <th>chickensupply_pct</th>\n",
       "      <td>-2960.550755</td>\n",
       "    </tr>\n",
       "    <tr>\n",
       "      <th>ricesupply_pct</th>\n",
       "      <td>-2859.661826</td>\n",
       "    </tr>\n",
       "    <tr>\n",
       "      <th>milkcheesesupply_pct</th>\n",
       "      <td>-2788.573188</td>\n",
       "    </tr>\n",
       "    <tr>\n",
       "      <th>fishsupply_pct</th>\n",
       "      <td>-2703.969147</td>\n",
       "    </tr>\n",
       "    <tr>\n",
       "      <th>nutssupply_pct</th>\n",
       "      <td>-2618.703925</td>\n",
       "    </tr>\n",
       "    <tr>\n",
       "      <th>porksupply_pct</th>\n",
       "      <td>-1749.758535</td>\n",
       "    </tr>\n",
       "    <tr>\n",
       "      <th>beefsupply_pct</th>\n",
       "      <td>11667.603456</td>\n",
       "    </tr>\n",
       "    <tr>\n",
       "      <th>lambsupply_pct</th>\n",
       "      <td>13711.833866</td>\n",
       "    </tr>\n",
       "  </tbody>\n",
       "</table>\n",
       "</div>"
      ],
      "text/plain": [
       "                                 0\n",
       "wheatprodsupply_pct   -3394.521830\n",
       "soybeansupply_pct     -3266.776056\n",
       "eggsupply_pct         -3036.922061\n",
       "chickensupply_pct     -2960.550755\n",
       "ricesupply_pct        -2859.661826\n",
       "milkcheesesupply_pct  -2788.573188\n",
       "fishsupply_pct        -2703.969147\n",
       "nutssupply_pct        -2618.703925\n",
       "porksupply_pct        -1749.758535\n",
       "beefsupply_pct        11667.603456\n",
       "lambsupply_pct        13711.833866"
      ]
     },
     "execution_count": 148,
     "metadata": {},
     "output_type": "execute_result"
    }
   ],
   "source": [
    "pd.DataFrame(lr_model_norm.coef_, train_data_norm.columns[:-1]).sort_values(by=0, axis=0)"
   ]
  },
  {
   "cell_type": "markdown",
   "metadata": {},
   "source": [
    "These weighted coefficients show the relative relationships between the covariates and the normalized CO2 emissions. "
   ]
  },
  {
   "cell_type": "markdown",
   "metadata": {},
   "source": [
    "---\n",
    "\n",
    "### Prediction Model 2: Lasso Regression\n",
    "\n",
    "We expect LASSO regression to have little affect our model, and produce a very small alpha value. This is because our dataset's true model is a linear model, and is calculated from all of the covariates we have in the dataset, and none of them need to be removed. We should be perfectly fitting a linear model, so any regularization should worsen the model."
   ]
  },
  {
   "cell_type": "code",
   "execution_count": 53,
   "metadata": {
    "scrolled": true
   },
   "outputs": [
    {
     "name": "stdout",
     "output_type": "stream",
     "text": [
      "Splitting data...\n",
      "optimal alpha: 0.0\n",
      "Test MSE with cross-validated LassoCV: 0.0013127268269577936\n",
      "[R^2: 0.9999999879601554]\n"
     ]
    },
    {
     "name": "stderr",
     "output_type": "stream",
     "text": [
      "C:\\Users\\vince\\anaconda3\\lib\\site-packages\\sklearn\\linear_model\\_coordinate_descent.py:525: UserWarning: Coordinate descent with alpha=0 may lead to unexpected results and is discouraged.\n",
      "  model = cd_fast.enet_coordinate_descent_gram(\n",
      "C:\\Users\\vince\\anaconda3\\lib\\site-packages\\sklearn\\linear_model\\_coordinate_descent.py:525: UserWarning: Coordinate descent with alpha=0 may lead to unexpected results and is discouraged.\n",
      "  model = cd_fast.enet_coordinate_descent_gram(\n",
      "C:\\Users\\vince\\anaconda3\\lib\\site-packages\\sklearn\\linear_model\\_coordinate_descent.py:525: UserWarning: Coordinate descent with alpha=0 may lead to unexpected results and is discouraged.\n",
      "  model = cd_fast.enet_coordinate_descent_gram(\n",
      "C:\\Users\\vince\\anaconda3\\lib\\site-packages\\sklearn\\linear_model\\_coordinate_descent.py:525: UserWarning: Coordinate descent with alpha=0 may lead to unexpected results and is discouraged.\n",
      "  model = cd_fast.enet_coordinate_descent_gram(\n",
      "C:\\Users\\vince\\anaconda3\\lib\\site-packages\\sklearn\\linear_model\\_coordinate_descent.py:525: UserWarning: Coordinate descent with alpha=0 may lead to unexpected results and is discouraged.\n",
      "  model = cd_fast.enet_coordinate_descent_gram(\n",
      "C:\\Users\\vince\\anaconda3\\lib\\site-packages\\sklearn\\linear_model\\_coordinate_descent.py:1336: UserWarning: With alpha=0, this algorithm does not converge well. You are advised to use the LinearRegression estimator\n",
      "  model.fit(X, y)\n",
      "C:\\Users\\vince\\anaconda3\\lib\\site-packages\\sklearn\\linear_model\\_coordinate_descent.py:529: UserWarning: Coordinate descent with no regularization may lead to unexpected results and is discouraged.\n",
      "  model = cd_fast.enet_coordinate_descent(\n"
     ]
    },
    {
     "data": {
      "text/plain": [
       "0.0"
      ]
     },
     "execution_count": 53,
     "metadata": {},
     "output_type": "execute_result"
    }
   ],
   "source": [
    "X_train, X_val, y_val, y_val = gmp.preprocess_data(train_data_norm, 'totalco2_norm', standardize = True)\n",
    "\n",
    "alphas = [0, 0.001, 0.01, 0.1, 1, 10, 100]\n",
    "gmp.linreg_kfold_cv(LassoCV, X_train, X_val, y_train, y_val, alphas)"
   ]
  },
  {
   "cell_type": "markdown",
   "metadata": {},
   "source": [
    "We do in fact see that the optimal alpha is 0.0, which is in line with what theoretically should happen."
   ]
  },
  {
   "cell_type": "markdown",
   "metadata": {},
   "source": [
    "---\n",
    "\n",
    "### Prediction Model 3: Decision Tree\n",
    "\n",
    "Since a decision tree does not produce a linear boundary, we suspect that the decision tree cannot fit as well as the linear regression model, knowing that our true, underlying relationship is linear. We run this model to test our theoretical understanding of decision boundaries."
   ]
  },
  {
   "cell_type": "code",
   "execution_count": 54,
   "metadata": {},
   "outputs": [
    {
     "name": "stdout",
     "output_type": "stream",
     "text": [
      "0.8438105303284944\n",
      "{'max_leaf_nodes': 18, 'max_features': 11, 'max_depth': 4}\n"
     ]
    }
   ],
   "source": [
    "param_dist = {'max_leaf_nodes': np.arange(2, 20),\n",
    "              'max_features': np.arange(2, X_train.shape[1] + 1),\n",
    "              'max_depth': np.arange(2,10)}\n",
    "\n",
    "tree = DecisionTreeRegressor(random_state = rs, max_depth = 4, max_features=5, max_leaf_nodes=10)\n",
    "gmp.tree_kfold_cv(tree, param_dist, X_train, y_train, n_iter=1000, random_state = rs)"
   ]
  },
  {
   "cell_type": "code",
   "execution_count": 55,
   "metadata": {},
   "outputs": [
    {
     "name": "stdout",
     "output_type": "stream",
     "text": [
      "Splitting data...\n",
      "Fitting Model...\n",
      "[Train MSE: 6796.4168]\n",
      "[Train R^2: 0.795409387862389]\n",
      "[Test MSE: 39745.2939]\n",
      "[Test R^2: 0.795409387862389]\n",
      "----FINISHED----\n"
     ]
    },
    {
     "data": {
      "image/png": "[encoded data removed]",
      "text/plain": [
       "<Figure size 720x288 with 2 Axes>"
      ]
     },
     "metadata": {
      "needs_background": "light"
     },
     "output_type": "display_data"
    }
   ],
   "source": [
    "X_train, X_val, y_train, y_val = gmp.preprocess_data(train_data, 'totalco2', standardize = False)\n",
    "\n",
    "tree_model = DecisionTreeRegressor(random_state=rs, max_depth=4)\n",
    "tree_model = gmp.run_model(X_train, X_val, y_train, y_val, tree_model, diagnostics=True)"
   ]
  },
  {
   "cell_type": "markdown",
   "metadata": {},
   "source": [
    "Our decision tree does not fit nearly as well as our linear regression, having a much larger test MSE and .79 $R^2$ value. We see that the fitted values have some variance in their values for similar true values, whereas the previous linear regression models are much more tightly fit."
   ]
  },
  {
   "cell_type": "markdown",
   "metadata": {},
   "source": [
    "---\n",
    "\n",
    "### Prediction Model 4: Random Forest\n",
    "\n",
    "We try a random forest for kicks and to see if it can outperform the single decision tree."
   ]
  },
  {
   "cell_type": "code",
   "execution_count": 56,
   "metadata": {},
   "outputs": [
    {
     "name": "stdout",
     "output_type": "stream",
     "text": [
      "Fitting Model...\n",
      "[Train MSE: 5108.6423]\n",
      "[Train R^2: 0.9316168037237174]\n",
      "[Test MSE: 13284.6283]\n",
      "[Test R^2: 0.9316168037237174]\n",
      "----FINISHED----\n"
     ]
    },
    {
     "data": {
      "image/png": "[encoded data removed]",
      "text/plain": [
       "<Figure size 720x288 with 2 Axes>"
      ]
     },
     "metadata": {
      "needs_background": "light"
     },
     "output_type": "display_data"
    }
   ],
   "source": [
    "forest_model = RandomForestRegressor(n_estimators = 500, random_state = rs, max_depth = 5)\n",
    "forest_model = gmp.run_model(X_train, X_val, y_train, y_val, forest_model, diagnostics=True)"
   ]
  },
  {
   "cell_type": "markdown",
   "metadata": {},
   "source": [
    "Our random forest performs a bit better, probably because the decision boundary is less rigid than a single decision tree. The ensemble model can fit to the linear decision boundary much more easily this way. In comparison to the single decision tree, the random forest also has less variance for similar true values, indicating better fit."
   ]
  },
  {
   "cell_type": "markdown",
   "metadata": {},
   "source": [
    "### Comparing all four models on the Test Set"
   ]
  },
  {
   "cell_type": "code",
   "execution_count": 165,
   "metadata": {},
   "outputs": [],
   "source": [
    "X_test = test_data.drop(columns='totalco2')\n",
    "y_test = test_data['totalco2']\n",
    "\n",
    "X_test_norm = test_data_norm.drop(columns='totalco2_norm')\n",
    "y_test_norm = test_data_norm['totalco2_norm']"
   ]
  },
  {
   "cell_type": "code",
   "execution_count": 169,
   "metadata": {},
   "outputs": [
    {
     "data": {
      "text/plain": [
       "{'Linear Regression': 1.4610674244335816e-05,\n",
       " 'Linear Regression Normalized': 0.00014286583596707927,\n",
       " 'Decision Tree': 29625.08944602313,\n",
       " 'Random Forest': 29625.08944602313}"
      ]
     },
     "execution_count": 169,
     "metadata": {},
     "output_type": "execute_result"
    }
   ],
   "source": [
    "lr_test_preds = lr_model.predict(X_test)\n",
    "lr_norm_test_preds = lr_model_norm.predict(X_test_norm)\n",
    "tree_test_preds = tree_model.predict(X_test)\n",
    "forest_test_preds = forest_model.predict(X_test)\n",
    "\n",
    "\n",
    "{'Linear Regression' : mean_squared_error(lr_test_preds, y_test),\n",
    " 'Linear Regression Normalized' : mean_squared_error(lr_norm_test_preds, y_test_norm),\n",
    " 'Decision Tree' : mean_squared_error(tree_test_preds, y_test),\n",
    " 'Random Forest' : mean_squared_error(tree_test_preds, y_test)}"
   ]
  },
  {
   "cell_type": "markdown",
   "metadata": {},
   "source": [
    "---\n",
    "\n",
    "## Interpretation and Conclusions (20 points)\n",
    "In this section you must relate your modeling and forecasting results to your original prediction question.  You must:\n",
    "1. Address a resource allocation question.  What do the answers mean? What advice would you give a decision maker on the basis of your results?  How might they allocate their resources differently with the results of your model?  Why should the reader care about your results?\n",
    "2. Discuss caveats and / or reasons your results might be flawed.  No model is perfect, and understanding a model's imperfections is extremely important for the purpose of knowing how to interpret your results.  Often, we know the model output is wrong but we can assign a direction for its bias.  This helps to understand whether or not your answers are conservative.  \n",
    "\n",
    "Shoot for 500-1000 words for this section."
   ]
  },
  {
   "cell_type": "markdown",
   "metadata": {},
   "source": [
    "---\n",
    "\n",
    "## Interpretation and Conclusions (20 points)\n",
    "\n",
    "Our original prediction question for this model was to predict an individual's CO2 emissions per year given the distribution of their diet. Through looking at the linear regression coefficients or decision tree splits, we are able to see which factors are the largest contributors to the individual's carbon footprint, and the individual can reallocate their resources (i.e. alter their diet) in a way that reduces their carbon footprint. Though this requires a bit of casual inference and in hindsight is not a pure prediction problem, this is also justified as we know that there is a causal relationship in our data."
   ]
  },
  {
   "cell_type": "code",
   "execution_count": 158,
   "metadata": {},
   "outputs": [
    {
     "data": {
      "text/plain": [
       "3488.1707953058294"
      ]
     },
     "execution_count": 158,
     "metadata": {},
     "output_type": "execute_result"
    }
   ],
   "source": [
    "lr_model_norm.intercept_"
   ]
  },
  {
   "cell_type": "code",
   "execution_count": 147,
   "metadata": {
    "scrolled": true
   },
   "outputs": [
    {
     "data": {
      "text/html": [
       "<div>\n",
       "<style scoped>\n",
       "    .dataframe tbody tr th:only-of-type {\n",
       "        vertical-align: middle;\n",
       "    }\n",
       "\n",
       "    .dataframe tbody tr th {\n",
       "        vertical-align: top;\n",
       "    }\n",
       "\n",
       "    .dataframe thead th {\n",
       "        text-align: right;\n",
       "    }\n",
       "</style>\n",
       "<table border=\"1\" class=\"dataframe\">\n",
       "  <thead>\n",
       "    <tr style=\"text-align: right;\">\n",
       "      <th></th>\n",
       "      <th>0</th>\n",
       "    </tr>\n",
       "  </thead>\n",
       "  <tbody>\n",
       "    <tr>\n",
       "      <th>wheatprodsupply_pct</th>\n",
       "      <td>-3394.521830</td>\n",
       "    </tr>\n",
       "    <tr>\n",
       "      <th>soybeansupply_pct</th>\n",
       "      <td>-3266.776056</td>\n",
       "    </tr>\n",
       "    <tr>\n",
       "      <th>eggsupply_pct</th>\n",
       "      <td>-3036.922061</td>\n",
       "    </tr>\n",
       "    <tr>\n",
       "      <th>chickensupply_pct</th>\n",
       "      <td>-2960.550755</td>\n",
       "    </tr>\n",
       "    <tr>\n",
       "      <th>ricesupply_pct</th>\n",
       "      <td>-2859.661826</td>\n",
       "    </tr>\n",
       "    <tr>\n",
       "      <th>milkcheesesupply_pct</th>\n",
       "      <td>-2788.573188</td>\n",
       "    </tr>\n",
       "    <tr>\n",
       "      <th>fishsupply_pct</th>\n",
       "      <td>-2703.969147</td>\n",
       "    </tr>\n",
       "    <tr>\n",
       "      <th>nutssupply_pct</th>\n",
       "      <td>-2618.703925</td>\n",
       "    </tr>\n",
       "    <tr>\n",
       "      <th>porksupply_pct</th>\n",
       "      <td>-1749.758535</td>\n",
       "    </tr>\n",
       "    <tr>\n",
       "      <th>beefsupply_pct</th>\n",
       "      <td>11667.603456</td>\n",
       "    </tr>\n",
       "    <tr>\n",
       "      <th>lambsupply_pct</th>\n",
       "      <td>13711.833866</td>\n",
       "    </tr>\n",
       "  </tbody>\n",
       "</table>\n",
       "</div>"
      ],
      "text/plain": [
       "                                 0\n",
       "wheatprodsupply_pct   -3394.521830\n",
       "soybeansupply_pct     -3266.776056\n",
       "eggsupply_pct         -3036.922061\n",
       "chickensupply_pct     -2960.550755\n",
       "ricesupply_pct        -2859.661826\n",
       "milkcheesesupply_pct  -2788.573188\n",
       "fishsupply_pct        -2703.969147\n",
       "nutssupply_pct        -2618.703925\n",
       "porksupply_pct        -1749.758535\n",
       "beefsupply_pct        11667.603456\n",
       "lambsupply_pct        13711.833866"
      ]
     },
     "execution_count": 147,
     "metadata": {},
     "output_type": "execute_result"
    }
   ],
   "source": [
    "pd.DataFrame(lr_model_norm.coef_, train_data_norm.columns[:-1]).sort_values(by=0, axis=0)"
   ]
  },
  {
   "cell_type": "markdown",
   "metadata": {},
   "source": [
    "We see that after normalizing our data, all products other than beef and lamb have a negative relationship with `totalco2_norm`. This underscores how bad beef and lamb are for our environment, as those two simply outweigh the the cost of every other food group \n",
    "\n",
    "*Note: After normalization, our data dose not have units, so the negative coefficients do NOT mean that those food decrease an individual's carbon emissions. It is only useful to look at the relative relationships.*\n",
    "\n",
    "However, the causal relationship also describes our main caveat to our model as well. The dataset we used was generated from a linear, causal relationship. As a result, our linear model performed perfectly, and essentially fit the data in a way where the coefficients extracted that linear relationship back out. In this sense, **our model is not useful for this dataset as the relationship between the covariates and response variable is already known/defined.** We saw further proof of this in that our LASSO model chose $\\lambda=0$  as there was no overfitting. In other words, using the chart at the beginning of the input data description section, one could estimate their own carbon footprint directly. \n",
    "\n",
    "The issue with the original data format is that an individual likely does not know their exact amount in kilograms of each food they consume. We fixed this issue by normalizing the data in a way where the covariates now represent percentages of their diet. Using this normalized dataset, an individual can more easily estimate their carbon footprint. This normalization also assumes that the individual consumes the average American annual total supply of food in kilograms, which is 491.15 kilograms of food (limited to foods included in the dataset).\n",
    "\n",
    "Now, for instance, if I think that my food intake follows this distribution:"
   ]
  },
  {
   "cell_type": "code",
   "execution_count": 123,
   "metadata": {
    "scrolled": true
   },
   "outputs": [
    {
     "data": {
      "text/plain": [
       "1.0"
      ]
     },
     "execution_count": 123,
     "metadata": {},
     "output_type": "execute_result"
    }
   ],
   "source": [
    "# try inserting your own estimated diet distribution!\n",
    "user_diet = {'pork' : 0.05,\n",
    "             'chicken' : 0.1,\n",
    "             'beef' : 0.05,\n",
    "             'lamb' : 0.02,\n",
    "             'fish' : 0.025,\n",
    "             'eggs' : 0.05,\n",
    "             'milk&cheese': 0.2,\n",
    "             'wheat' : 0.2,\n",
    "             'rice' : 0.2,\n",
    "             'soybeans' : 0.1,\n",
    "             'nuts' : 0.005}\n",
    "\n",
    "# make sure your diet adds up to 1.0\n",
    "sum(user_food.values())"
   ]
  },
  {
   "cell_type": "markdown",
   "metadata": {},
   "source": [
    "Then I can predict my carbon footprint using our best model:"
   ]
  },
  {
   "cell_type": "code",
   "execution_count": 82,
   "metadata": {
    "scrolled": true
   },
   "outputs": [
    {
     "name": "stdout",
     "output_type": "stream",
     "text": [
      "Your diet produces 1594.48 kilograms of CO2 emisisons per year.\n"
     ]
    }
   ],
   "source": [
    "predicted_co2_emissions_per_year = lr_model_norm.predict(np.reshape(list(user_diet.values()), (1,11)))[0]\n",
    "print('Your diet produces', np.round(predicted_co2_emissions_per_year, 2), 'kilograms of CO2 emisisons per year.')"
   ]
  },
  {
   "cell_type": "code",
   "execution_count": 133,
   "metadata": {},
   "outputs": [],
   "source": [
    "def country_diet(country_name):\n",
    "    diet = data_norm.loc[data['Country'] == country_name].drop(columns=['Country', 'totalco2_norm']).to_numpy()\n",
    "    prediction = lr_model_norm.predict(diet)[0]\n",
    "    print('According to our model, the diet of the average person in', country_name, 'produces', np.round(prediction, 2), 'kilograms of CO2 emisisons per year.')"
   ]
  },
  {
   "cell_type": "code",
   "execution_count": 129,
   "metadata": {},
   "outputs": [
    {
     "name": "stdout",
     "output_type": "stream",
     "text": [
      "Possible countries: ['Albania', 'Algeria', 'Angola', 'Argentina', 'Armenia', 'Australia', 'Austria', 'Bahamas', 'Bangladesh', 'Barbados', 'Belarus', 'Belgium', 'Belize', 'Bermuda', 'Bolivia', 'Bosnia and Herzegovina', 'Botswana', 'Brazil', 'Bulgaria', 'Cambodia', 'Cameroon', 'Canada', 'Chile', 'China', 'Colombia', 'Congo', 'Costa Rica', 'Croatia', 'Cuba', 'Cyprus', 'Czech Republic', 'Denmark', 'Ecuador', 'Egypt', 'El Salvador', 'Estonia', 'Ethiopia', 'Fiji', 'Finland', 'France', 'French Polynesia', 'Gambia', 'Georgia', 'Germany', 'Ghana', 'Greece', 'Grenada', 'Guatemala', 'Guinea', 'Honduras', 'Hong Kong SAR. China', 'Hungary', 'Iceland', 'India', 'Indonesia', 'Iran', 'Ireland', 'Israel', 'Italy', 'Jamaica', 'Japan', 'Jordan', 'Kazakhstan', 'Kenya', 'Kuwait', 'Latvia', 'Liberia', 'Lithuania', 'Luxembourg', 'Macedonia', 'Madagascar', 'Malawi', 'Malaysia', 'Maldives', 'Malta', 'Mauritius', 'Mexico', 'Morocco', 'Mozambique', 'Myanmar', 'Namibia', 'Nepal', 'Netherlands', 'New Caledonia', 'New Zealand', 'Nicaragua', 'Niger', 'Nigeria', 'Norway', 'Oman', 'Pakistan', 'Panama', 'Paraguay', 'Peru', 'Philippines', 'Poland', 'Portugal', 'Romania', 'Russia', 'Rwanda', 'Saudi Arabia', 'Senegal', 'Serbia', 'Sierra Leone', 'Slovakia', 'Slovenia', 'South Africa', 'South Korea', 'Spain', 'Sri Lanka', 'Swaziland', 'Sweden', 'Switzerland', 'Taiwan. ROC', 'Tanzania', 'Thailand', 'Togo', 'Trinidad and Tobago', 'Tunisia', 'Turkey', 'USA', 'Uganda', 'Ukraine', 'United Arab Emirates', 'United Kingdom', 'Uruguay', 'Venezuela', 'Vietnam', 'Zambia', 'Zimbabwe']\n"
     ]
    }
   ],
   "source": [
    "print('Possible countries:', data['Country'].sort_values().to_list())"
   ]
  },
  {
   "cell_type": "code",
   "execution_count": 136,
   "metadata": {},
   "outputs": [
    {
     "name": "stdout",
     "output_type": "stream",
     "text": [
      "According to our model, the diet of the average person in USA produces 1718.87 kilograms of CO2 emisisons per year.\n"
     ]
    }
   ],
   "source": [
    "# try me!\n",
    "country_diet('USA')"
   ]
  },
  {
   "cell_type": "markdown",
   "metadata": {},
   "source": [
    "In conclusion, though the model is uninteresting in terms of the prediction problem, the dataset was a good exercise through seeing how the various machine learning models should perform in theory and in practice.\n",
    "\n",
    "Knowing that our dataset was produced from a linear model, we do in fact find that our linear regression does perform perfectly. On the other hand, our decision trees and random forests performed more poorly as they could not replicate the linear decision boundary."
   ]
  }
 ],
 "metadata": {
  "kernelspec": {
   "display_name": "Python 3",
   "language": "python",
   "name": "python3"
  },
  "language_info": {
   "codemirror_mode": {
    "name": "ipython",
    "version": 3
   },
   "file_extension": ".py",
   "mimetype": "text/x-python",
   "name": "python",
   "nbconvert_exporter": "python",
   "pygments_lexer": "ipython3",
   "version": "3.8.3"
  }
 },
 "nbformat": 4,
 "nbformat_minor": 4
}
