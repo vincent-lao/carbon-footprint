{
 "cells": [
  {
   "cell_type": "code",
   "execution_count": 1,
   "metadata": {},
   "outputs": [],
   "source": [
    "# linear modelling functions\n",
    "#HENRY AND JUN\n",
    "#MERGED KAMMEN + COOLCLIMAE\n",
    "#!pip install ipynb\n",
    "import ipynb.fs.full.general_model_pipeline_vl as gmp\n",
    "import numpy as np\n",
    "import pandas as pd\n",
    "import matplotlib.pyplot as plt\n",
    "import re\n",
    "\n",
    "from sklearn.model_selection import train_test_split\n",
    "from sklearn.metrics import mean_squared_error\n",
    "from sklearn.model_selection import KFold\n",
    "from sklearn.linear_model import LinearRegression, Ridge, Lasso, RidgeCV, LassoCV\n",
    "from sklearn.preprocessing import StandardScaler\n",
    "from sklearn.metrics import r2_score, mean_squared_error\n",
    "from sklearn.tree import DecisionTreeRegressor"
   ]
  },
  {
   "cell_type": "markdown",
   "metadata": {},
   "source": [
    "#### Splitting the dataset \n",
    "\n",
    "These models will use 80% training data and 20% of testing data."
   ]
  },
  {
   "cell_type": "code",
   "execution_count": 31,
   "metadata": {},
   "outputs": [],
   "source": [
    "rs = 100\n",
    "np.random.seed(100)\n",
    "train_size = 0.8"
   ]
  },
  {
   "cell_type": "code",
   "execution_count": 68,
   "metadata": {},
   "outputs": [
    {
     "data": {
      "text/plain": [
       "Index(['input_footprint_transportation_num_vehicles',\n",
       "       'input_footprint_transportation_miles1', 'airflights',\n",
       "       'input_footprint_housing_electricity_dollars',\n",
       "       'input_footprint_housing_squarefeet',\n",
       "       'input_footprint_shopping_goods_clothing'],\n",
       "      dtype='object')"
      ]
     },
     "execution_count": 68,
     "metadata": {},
     "output_type": "execute_result"
    }
   ],
   "source": [
    "df1 = pd.read_csv('../../data/new-cleaned-household-data.csv')\n",
    "df1['airflights'] = df1['input_footprint_transportation_airshort']+df1['input_footprint_transportation_airmedium']+df1['input_footprint_transportation_airlong']\n",
    "df = df1[['input_income', 'input_footprint_transportation_num_vehicles','input_footprint_transportation_miles1', 'airflights', 'input_footprint_housing_electricity_dollars', 'input_footprint_housing_squarefeet', 'input_footprint_shopping_goods_clothing', 'result_grand_total']]\n",
    "\n",
    "df.reset_index(drop = False, inplace = True)\n",
    "\n",
    "train_data = df.sample(frac=train_size)\n",
    "test_data = df[df['index'].apply(lambda x: x not in train_data['index'].values)]\n",
    "\n",
    "train_data.drop(columns='index', inplace=True)\n",
    "test_data.drop(columns='index', inplace=True)\n",
    "train_data.shape, test_data.shape\n",
    "\n",
    "mylist = train_data.columns\n",
    "mylist[1:7]"
   ]
  },
  {
   "cell_type": "code",
   "execution_count": null,
   "metadata": {},
   "outputs": [],
   "source": [
    "df.reset_index(drop = False, inplace = True)\n",
    "\n",
    "train_data = df.sample(frac=train_size)\n",
    "test_data = df[df['index'].apply(lambda x: x not in train_data['index'].values)]\n",
    "\n",
    "train_data.drop(columns='index', inplace=True)\n",
    "test_data.drop(columns='index', inplace=True)\n",
    "train_data.shape, test_data.shape"
   ]
  },
  {
   "cell_type": "markdown",
   "metadata": {},
   "source": [
    "## Forecasting and Prediction Modeling (25 points)\n",
    "\n",
    "This section is where the rubber meets the road.  In it you must:\n",
    "1. Explore at least 3 prediction modeling approaches for each prediction question, ranging from the simple (e.g. linear regression, KNN) to the complex (e.g. SVM, random forests, Lasso).  \n",
    "2. Motivate all your modeling decisions.  This includes parameter choices (e.g., how many folds in k-fold cross validation, what time window you use for averaging your data) as well as model form (e.g., If you use regression trees, why?  If you include nonlinear features in a regression model, why?). \n",
    "1. Carefully describe your cross validation and model selection process.  You should partition your data into training and testing data sets.  The training data set is what you use for cross-validation (i.e. you sample from within it to create folds, etc.).  The testing data set is held to the very end of your efforts, and used to compare qualitatively different models (e.g. OLS vs random forests).\n",
    "4. Very carefully document your workflow.  We will be reading a lot of projects, so we need you to explain each basic step in your analysis.  \n",
    "5. Seek opportunities to write functions allow you to avoid doing things over and over, and that make your code more succinct and readable. "
   ]
  },
  {
   "cell_type": "markdown",
   "metadata": {},
   "source": [
    "### Model 1: Simple Linear Regression"
   ]
  },
  {
   "cell_type": "markdown",
   "metadata": {},
   "source": [
    "We will begin by looking at a simple linear regression model."
   ]
  },
  {
   "cell_type": "code",
   "execution_count": 33,
   "metadata": {
    "scrolled": false
   },
   "outputs": [
    {
     "name": "stdout",
     "output_type": "stream",
     "text": [
      "Splitting data...\n",
      "Fitting Model...\n",
      "[Train MSE: 3.8852]\n",
      "[Train R^2: 0.9666392179285809]\n",
      "[Test MSE: 4.9234]\n",
      "[Test R^2: 0.957026275754496]\n",
      "----FINISHED----\n"
     ]
    },
    {
     "data": {
      "image/png": "[encoded data removed]",
      "text/plain": [
       "<Figure size 720x288 with 2 Axes>"
      ]
     },
     "metadata": {
      "needs_background": "light"
     },
     "output_type": "display_data"
    }
   ],
   "source": [
    "X_train, X_val, y_train, y_val = gmp.preprocess_data(train_data, 'result_grand_total')\n",
    "lm = LinearRegression()\n",
    "lm = gmp.run_model(X_train, X_val, y_train, y_val, lm, diagnostics = True)"
   ]
  },
  {
   "cell_type": "markdown",
   "metadata": {},
   "source": [
    "This model gave a Test MSE of 4.9234 and R^2 value of 0.95703, so this is a very good model."
   ]
  },
  {
   "cell_type": "markdown",
   "metadata": {},
   "source": [
    "### Model 2: Ridge Regression"
   ]
  },
  {
   "cell_type": "markdown",
   "metadata": {},
   "source": [
    "Next, we look at Ridge regression. To begin, we find an optimal value of alpha, a hyperparameter, in order to decrease model variance. "
   ]
  },
  {
   "cell_type": "code",
   "execution_count": 5,
   "metadata": {},
   "outputs": [
    {
     "name": "stdout",
     "output_type": "stream",
     "text": [
      "Standardizing data...\n",
      "Splitting data...\n",
      "optimal alpha: 0.0\n",
      "Test MSE with cross-validated RidgeCV: 4.92344121392362\n",
      "[R^2: 0.957026275754538]\n"
     ]
    },
    {
     "data": {
      "text/plain": [
       "0.0"
      ]
     },
     "execution_count": 5,
     "metadata": {},
     "output_type": "execute_result"
    }
   ],
   "source": [
    "X_train, X_val, y_train, y_val = gmp.preprocess_data(train_data, 'result_grand_total', standardize_cols = mylist[1:7].tolist())\n",
    "                                                   #['input_footprint_transportation_num_vehicles', 'input_footprint_transportation_miles1', 'airflights', 'input_footprint_housing_electricity_dollars', 'input_footprint_housing_squarefeet', 'input_footprint_shopping_goods_clothing'])\n",
    "\n",
    "alphas = [0, 0.001, 0.01, 0.1, 1, 10, 100, 1000]\n",
    "gmp.linreg_kfold_cv(RidgeCV, X_train, X_val, y_train, y_val, alphas)"
   ]
  },
  {
   "cell_type": "markdown",
   "metadata": {},
   "source": [
    "This gave an optimal alpha value of 0. We will zoom in around that value to see if there is an even optimal value of alpha and then see the new test MSE and R^2 value. However as the alpha value is so small, we expect that the coefficients will be almost the same as the results from linear regression. "
   ]
  },
  {
   "cell_type": "code",
   "execution_count": 19,
   "metadata": {
    "scrolled": true
   },
   "outputs": [
    {
     "name": "stdout",
     "output_type": "stream",
     "text": [
      "optimal alpha: 6.000000000000001e-05\n",
      "Test MSE with cross-validated RidgeCV: 4.926218463353111\n",
      "[R^2: 0.9570020348332071]\n"
     ]
    },
    {
     "data": {
      "text/plain": [
       "array([0.e+00, 1.e-05, 2.e-05, 3.e-05, 4.e-05, 5.e-05, 6.e-05, 7.e-05,\n",
       "       8.e-05, 9.e-05])"
      ]
     },
     "execution_count": 19,
     "metadata": {},
     "output_type": "execute_result"
    }
   ],
   "source": [
    "new_alphas = np.arange(0,0.0001,0.00001)\n",
    "gmp.linreg_kfold_cv(RidgeCV, X_train, X_val, y_train, y_val, new_alphas)\n",
    "new_alphas"
   ]
  },
  {
   "cell_type": "code",
   "execution_count": 20,
   "metadata": {
    "scrolled": true
   },
   "outputs": [
    {
     "name": "stdout",
     "output_type": "stream",
     "text": [
      "Fitting Model...\n",
      "[Train MSE: 3.8853]\n",
      "[Train R^2: 0.9666381731710392]\n",
      "[Test MSE: 4.9262]\n",
      "[Test R^2: 0.9570020348332071]\n",
      "----FINISHED----\n"
     ]
    },
    {
     "data": {
      "image/png": "[encoded data removed]",
      "text/plain": [
       "<Figure size 720x288 with 2 Axes>"
      ]
     },
     "metadata": {
      "needs_background": "light"
     },
     "output_type": "display_data"
    }
   ],
   "source": [
    "ridge_model = Ridge(alpha=6.e-05)\n",
    "ridge_model = gmp.run_model(X_train, X_val, y_train, y_val, ridge_model, diagnostics=True)"
   ]
  },
  {
   "cell_type": "markdown",
   "metadata": {},
   "source": [
    "The test MSE and R^2 values stayed around the same at MSE: 4.9262 and R^2: 0.957 (compared to the test MSE of 4.9234 and R^2 value of 0.95703 in the linear model). This shows that undergoing a ridge regression model did not show that much of an improvement."
   ]
  },
  {
   "cell_type": "markdown",
   "metadata": {},
   "source": [
    "### Model 3: Lasso Regression"
   ]
  },
  {
   "cell_type": "markdown",
   "metadata": {},
   "source": [
    "Next, we move on to Lasso Regression. As Ridge regression did not do much better than linear, we do not expect Lasso do perform much better as well. "
   ]
  },
  {
   "cell_type": "code",
   "execution_count": 21,
   "metadata": {},
   "outputs": [
    {
     "name": "stdout",
     "output_type": "stream",
     "text": [
      "Standardizing data...\n",
      "Splitting data...\n",
      "optimal alpha: 0.0\n",
      "Test MSE with cross-validated LassoCV: 4.923441213923627\n",
      "[R^2: 0.9570262757545379]\n"
     ]
    },
    {
     "name": "stderr",
     "output_type": "stream",
     "text": [
      "C:\\Users\\miche\\anaconda3\\lib\\site-packages\\sklearn\\linear_model\\_coordinate_descent.py:525: UserWarning: Coordinate descent with alpha=0 may lead to unexpected results and is discouraged.\n",
      "  model = cd_fast.enet_coordinate_descent_gram(\n",
      "C:\\Users\\miche\\anaconda3\\lib\\site-packages\\sklearn\\linear_model\\_coordinate_descent.py:525: UserWarning: Coordinate descent with alpha=0 may lead to unexpected results and is discouraged.\n",
      "  model = cd_fast.enet_coordinate_descent_gram(\n",
      "C:\\Users\\miche\\anaconda3\\lib\\site-packages\\sklearn\\linear_model\\_coordinate_descent.py:525: UserWarning: Coordinate descent with alpha=0 may lead to unexpected results and is discouraged.\n",
      "  model = cd_fast.enet_coordinate_descent_gram(\n",
      "C:\\Users\\miche\\anaconda3\\lib\\site-packages\\sklearn\\linear_model\\_coordinate_descent.py:525: UserWarning: Coordinate descent with alpha=0 may lead to unexpected results and is discouraged.\n",
      "  model = cd_fast.enet_coordinate_descent_gram(\n",
      "C:\\Users\\miche\\anaconda3\\lib\\site-packages\\sklearn\\linear_model\\_coordinate_descent.py:525: UserWarning: Coordinate descent with alpha=0 may lead to unexpected results and is discouraged.\n",
      "  model = cd_fast.enet_coordinate_descent_gram(\n",
      "C:\\Users\\miche\\anaconda3\\lib\\site-packages\\sklearn\\linear_model\\_coordinate_descent.py:525: ConvergenceWarning: Objective did not converge. You might want to increase the number of iterations. Duality gap: 1075.1817850174557, tolerance: 6.838533687199667\n",
      "  model = cd_fast.enet_coordinate_descent_gram(\n",
      "C:\\Users\\miche\\anaconda3\\lib\\site-packages\\sklearn\\linear_model\\_coordinate_descent.py:1336: UserWarning: With alpha=0, this algorithm does not converge well. You are advised to use the LinearRegression estimator\n",
      "  model.fit(X, y)\n",
      "C:\\Users\\miche\\anaconda3\\lib\\site-packages\\sklearn\\linear_model\\_coordinate_descent.py:529: UserWarning: Coordinate descent with no regularization may lead to unexpected results and is discouraged.\n",
      "  model = cd_fast.enet_coordinate_descent(\n",
      "C:\\Users\\miche\\anaconda3\\lib\\site-packages\\sklearn\\linear_model\\_coordinate_descent.py:529: ConvergenceWarning: Objective did not converge. You might want to increase the number of iterations. Duality gap: 1451.1129056880982, tolerance: 8.69951371392638\n",
      "  model = cd_fast.enet_coordinate_descent(\n"
     ]
    },
    {
     "data": {
      "text/plain": [
       "0.0"
      ]
     },
     "execution_count": 21,
     "metadata": {},
     "output_type": "execute_result"
    }
   ],
   "source": [
    "X_train, X_val, y_train, y_val = gmp.preprocess_data(train_data, 'result_grand_total', standardize_cols = mylist[1:7].tolist())\n",
    "alphas = [0, 0.001, 0.01, 0.1, 1, 10, 100, 1000]\n",
    "gmp.linreg_kfold_cv(LassoCV, X_train, X_val, y_train, y_val, alphas)"
   ]
  },
  {
   "cell_type": "markdown",
   "metadata": {},
   "source": [
    "Again, the optimal alpha was 0. So as we zoom in around 0 to find an even optimal value, we will keep in mind that Lasso will perform the same as linear and ridge regression. "
   ]
  },
  {
   "cell_type": "code",
   "execution_count": 23,
   "metadata": {},
   "outputs": [
    {
     "name": "stdout",
     "output_type": "stream",
     "text": [
      "optimal alpha: 1e-05\n",
      "Test MSE with cross-validated LassoCV: 4.924770408176923\n",
      "[R^2: 0.9570146740262289]\n"
     ]
    },
    {
     "name": "stderr",
     "output_type": "stream",
     "text": [
      "C:\\Users\\miche\\anaconda3\\lib\\site-packages\\sklearn\\linear_model\\_coordinate_descent.py:525: UserWarning: Coordinate descent with alpha=0 may lead to unexpected results and is discouraged.\n",
      "  model = cd_fast.enet_coordinate_descent_gram(\n",
      "C:\\Users\\miche\\anaconda3\\lib\\site-packages\\sklearn\\linear_model\\_coordinate_descent.py:525: UserWarning: Coordinate descent with alpha=0 may lead to unexpected results and is discouraged.\n",
      "  model = cd_fast.enet_coordinate_descent_gram(\n",
      "C:\\Users\\miche\\anaconda3\\lib\\site-packages\\sklearn\\linear_model\\_coordinate_descent.py:525: UserWarning: Coordinate descent with alpha=0 may lead to unexpected results and is discouraged.\n",
      "  model = cd_fast.enet_coordinate_descent_gram(\n",
      "C:\\Users\\miche\\anaconda3\\lib\\site-packages\\sklearn\\linear_model\\_coordinate_descent.py:525: ConvergenceWarning: Objective did not converge. You might want to increase the number of iterations. Duality gap: 1221.3274928599276, tolerance: 6.889360602291819\n",
      "  model = cd_fast.enet_coordinate_descent_gram(\n",
      "C:\\Users\\miche\\anaconda3\\lib\\site-packages\\sklearn\\linear_model\\_coordinate_descent.py:525: UserWarning: Coordinate descent with alpha=0 may lead to unexpected results and is discouraged.\n",
      "  model = cd_fast.enet_coordinate_descent_gram(\n",
      "C:\\Users\\miche\\anaconda3\\lib\\site-packages\\sklearn\\linear_model\\_coordinate_descent.py:525: UserWarning: Coordinate descent with alpha=0 may lead to unexpected results and is discouraged.\n",
      "  model = cd_fast.enet_coordinate_descent_gram(\n"
     ]
    },
    {
     "data": {
      "text/plain": [
       "1e-05"
      ]
     },
     "execution_count": 23,
     "metadata": {},
     "output_type": "execute_result"
    }
   ],
   "source": [
    "new_alphas_lasso = np.arange(0,0.001,0.00001)\n",
    "gmp.linreg_kfold_cv(LassoCV, X_train, X_val, y_train, y_val, new_alphas_lasso)"
   ]
  },
  {
   "cell_type": "code",
   "execution_count": 29,
   "metadata": {},
   "outputs": [
    {
     "name": "stdout",
     "output_type": "stream",
     "text": [
      "Standardizing data...\n",
      "Splitting data...\n",
      "Fitting Model...\n",
      "[Train MSE: 3.8852]\n",
      "[Train R^2: 0.9666390306371127]\n",
      "[Test MSE: 4.9248]\n",
      "[Test R^2: 0.9570146740262289]\n",
      "----FINISHED----\n"
     ]
    },
    {
     "data": {
      "image/png": "[encoded data removed]",
      "text/plain": [
       "<Figure size 720x288 with 2 Axes>"
      ]
     },
     "metadata": {
      "needs_background": "light"
     },
     "output_type": "display_data"
    }
   ],
   "source": [
    "X_train, X_val, y_train, y_val = gmp.preprocess_data(train_data, 'result_grand_total', standardize_cols =  mylist[1:7].tolist())\n",
    "\n",
    "lasso_model = Lasso(alpha=1.e-05)\n",
    "lasso_model = gmp.run_model(X_train, X_val, y_train, y_val, lasso_model, diagnostics=True)"
   ]
  },
  {
   "cell_type": "markdown",
   "metadata": {},
   "source": [
    "Using Lasso regression, the test MSE was 4.9248 and R^2 value of 0.957 so this model performed the same as the other two. "
   ]
  },
  {
   "cell_type": "markdown",
   "metadata": {},
   "source": [
    "## Model 4: Decision Tree"
   ]
  },
  {
   "cell_type": "markdown",
   "metadata": {},
   "source": [
    "Finally, we will move on to decision trees. As the linear model performed so well, we expect that decision tree model will not work as well as it uses a non-linear mapping. "
   ]
  },
  {
   "cell_type": "code",
   "execution_count": 60,
   "metadata": {},
   "outputs": [
    {
     "name": "stderr",
     "output_type": "stream",
     "text": [
      "C:\\Users\\miche\\anaconda3\\lib\\site-packages\\sklearn\\model_selection\\_search.py:278: UserWarning: The total space of parameters 864 is smaller than n_iter=1000. Running 864 iterations. For exhaustive searches, use GridSearchCV.\n",
      "  warnings.warn(\n"
     ]
    },
    {
     "name": "stdout",
     "output_type": "stream",
     "text": [
      "0.9038011675774908\n",
      "{'max_leaf_nodes': 19, 'max_features': 7, 'max_depth': 5}\n"
     ]
    }
   ],
   "source": [
    "param_dist = {'max_leaf_nodes': np.arange(2, 20),\n",
    "              'max_features': np.arange(2, 8),\n",
    "              'max_depth': np.arange(2,10)}\n",
    "\n",
    "tree = DecisionTreeRegressor(random_state = 100, max_depth = 4, max_features=5, max_leaf_nodes=10)\n",
    "gmp.tree_kfold_cv(tree, param_dist, X_train, y_train, n_iter=1000, random_state = 100)"
   ]
  },
  {
   "cell_type": "code",
   "execution_count": 61,
   "metadata": {},
   "outputs": [
    {
     "name": "stdout",
     "output_type": "stream",
     "text": [
      "Splitting data...\n",
      "Fitting Model...\n",
      "[Train MSE: 7.6163]\n",
      "[Train R^2: 0.9323808889115687]\n",
      "[Test MSE: 8.6573]\n",
      "[Test R^2: 0.9281787563258698]\n",
      "----FINISHED----\n"
     ]
    },
    {
     "data": {
      "image/png": "[encoded data removed]",
      "text/plain": [
       "<Figure size 720x288 with 2 Axes>"
      ]
     },
     "metadata": {
      "needs_background": "light"
     },
     "output_type": "display_data"
    }
   ],
   "source": [
    "X_train, X_val, y_train, y_val = gmp.preprocess_data(df, 'result_grand_total', standardize_cols = [None])\n",
    "\n",
    "tree_model = DecisionTreeRegressor(random_state=100, max_leaf_nodes = 19,\n",
    "                                   max_depth=6, max_features = 8)\n",
    "tree_model = gmp.run_model(X_train, X_val, y_train, y_val, tree_model, diagnostics=True)"
   ]
  },
  {
   "cell_type": "markdown",
   "metadata": {},
   "source": [
    "As expected, using a decision tree model performed the worst out of all of the model above as it had the highest test MSE of 8.6573 and lowest R^2 value o 0.928. In addition, the fitted values had a high variance."
   ]
  },
  {
   "cell_type": "markdown",
   "metadata": {},
   "source": [
    "## Comparison on Test Set"
   ]
  },
  {
   "cell_type": "code",
   "execution_count": 64,
   "metadata": {},
   "outputs": [
    {
     "data": {
      "text/plain": [
       "(934, 8)"
      ]
     },
     "execution_count": 64,
     "metadata": {},
     "output_type": "execute_result"
    }
   ],
   "source": [
    "X_test = test_data.drop(columns='result_grand_total')\n",
    "y_test = test_data['result_grand_total']\n",
    "test_data\n",
    "X_train.shape\n"
   ]
  },
  {
   "cell_type": "code",
   "execution_count": 66,
   "metadata": {},
   "outputs": [
    {
     "data": {
      "text/plain": [
       "{'Linear Regression': 4.925913086620728,\n",
       " 'Ridge Regression': 23050740494365.4,\n",
       " 'Lasso Regression': 23152365156712.074}"
      ]
     },
     "execution_count": 66,
     "metadata": {},
     "output_type": "execute_result"
    }
   ],
   "source": [
    "lr_test_preds = lm.predict(X_test)\n",
    "ridge_test_preds = ridge_model.predict(X_test)\n",
    "lasso_test_preds = lasso_model.predict(X_test)\n",
    "#tree_test_preds = tree_model.predict(X_test)\n",
    "\n",
    "\n",
    "{'Linear Regression' : mean_squared_error(lr_test_preds, y_test),\n",
    " 'Ridge Regression' : mean_squared_error(ridge_test_preds, y_test),\n",
    " 'Lasso Regression' : mean_squared_error(lasso_test_preds, y_test)}\n",
    " #'Decision Forest' : mean_squared_error(tree_test_preds, y_test)}"
   ]
  },
  {
   "cell_type": "markdown",
   "metadata": {},
   "source": [
    "## Interpretation and Conclusions (20 points)\n",
    "In this section you must relate your modeling and forecasting results to your original prediction question.  You must:\n",
    "1. Address a resource allocation question.  What do the answers mean? What advice would you give a decision maker on the basis of your results?  How might they allocate their resources differently with the results of your model?  Why should the reader care about your results?\n",
    "2. Discuss caveats and / or reasons your results might be flawed.  No model is perfect, and understanding a model's imperfections is extremely important for the purpose of knowing how to interpret your results.  Often, we know the model output is wrong but we can assign a direction for its bias.  This helps to understand whether or not your answers are conservative.  \n",
    "\n",
    "Shoot for 500-1000 words for this section."
   ]
  },
  {
   "cell_type": "markdown",
   "metadata": {},
   "source": [
    "Since the goal of this prediction problem was to make a model where every feature played an important part in predicting the total carbon output, it seems that a simple linear model sufficed for this question. As my Lasso, Ridge, and linear regression models all had a very similar MSE and R^2 value, the linear model seemed just as good as Lasso and ridge. In addition, when searching for the optimum alpha values for both Ridge and Lasso, both were very small, (10^-6) which made the coefficients of both models close to the linear regression model "
   ]
  }
 ],
 "metadata": {
  "kernelspec": {
   "display_name": "Python 3",
   "language": "python",
   "name": "python3"
  },
  "language_info": {
   "codemirror_mode": {
    "name": "ipython",
    "version": 3
   },
   "file_extension": ".py",
   "mimetype": "text/x-python",
   "name": "python",
   "nbconvert_exporter": "python",
   "pygments_lexer": "ipython3",
   "version": "3.8.3"
  }
 },
 "nbformat": 4,
 "nbformat_minor": 4
}
