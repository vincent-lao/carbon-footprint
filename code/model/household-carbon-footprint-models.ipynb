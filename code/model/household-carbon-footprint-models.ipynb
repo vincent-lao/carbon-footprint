{
 "cells": [
  {
   "cell_type": "code",
   "execution_count": 1,
   "metadata": {},
   "outputs": [
    {
     "name": "stdout",
     "output_type": "stream",
     "text": [
      "Requirement already satisfied: ipynb in c:\\users\\miche\\anaconda3\\lib\\site-packages (0.5.1)\n"
     ]
    }
   ],
   "source": [
    "# linear modelling functions\n",
    "#HENRY AND JUN\n",
    "#MERGED KAMMEN + COOLCLIMAE\n",
    "!pip install ipynb\n",
    "import ipynb.fs.full.general_model_pipeline_vl as gmp\n",
    "import numpy as np\n",
    "import pandas as pd\n",
    "import matplotlib.pyplot as plt\n",
    "import re\n",
    "\n",
    "from sklearn.model_selection import train_test_split\n",
    "from sklearn.metrics import mean_squared_error\n",
    "from sklearn.model_selection import KFold\n",
    "from sklearn.linear_model import LinearRegression, Ridge, Lasso, RidgeCV, LassoCV\n",
    "from sklearn.preprocessing import StandardScaler\n",
    "from sklearn.metrics import r2_score, mean_squared_error"
   ]
  },
  {
   "cell_type": "code",
   "execution_count": 3,
   "metadata": {},
   "outputs": [
    {
     "name": "stdout",
     "output_type": "stream",
     "text": [
      "Splitting data...\n",
      "(934, 18)\n",
      "(234, 18)\n",
      "(934,)\n",
      "(234,)\n"
     ]
    }
   ],
   "source": [
    "df = pd.read_csv('../../data/new-cleaned-household-data.csv')\n",
    "X = df[['input_income', 'input_footprint_transportation_num_vehicles', 'input_footprint_transportation_mpg1', 'input_footprint_transportation_miles1', 'input_footprint_transportation_fuel1', 'input_footprint_transportation_airshort','input_footprint_transportation_airmedium','input_footprint_transportation_airlong', 'input_footprint_housing_cdd', 'input_footprint_housing_hdd', 'input_footprint_housing_electricity_dollars', 'input_footprint_housing_squarefeet', 'input_footprint_housing_watersewage', 'input_footprint_shopping_food_meatfisheggs_default', 'input_footprint_shopping_goods_clothing', 'input_footprint_shopping_goods_other_personalcare', 'input_footprint_shopping_services_education', 'input_footprint_shopping_services_total']]\n",
    "y = df['result_grand_total']\n",
    "X_train, X_val, y_train, y_val = gmp.preprocess_data(df, 'result_grand_total')\n",
    "print(X_train.shape)\n",
    "print(X_val.shape)\n",
    "print(y_train.shape)\n",
    "print(y_val.shape)"
   ]
  },
  {
   "cell_type": "markdown",
   "metadata": {},
   "source": [
    "## Forecasting and Prediction Modeling (25 points)\n",
    "\n",
    "This section is where the rubber meets the road.  In it you must:\n",
    "1. Explore at least 3 prediction modeling approaches for each prediction question, ranging from the simple (e.g. linear regression, KNN) to the complex (e.g. SVM, random forests, Lasso).  \n",
    "2. Motivate all your modeling decisions.  This includes parameter choices (e.g., how many folds in k-fold cross validation, what time window you use for averaging your data) as well as model form (e.g., If you use regression trees, why?  If you include nonlinear features in a regression model, why?). \n",
    "1. Carefully describe your cross validation and model selection process.  You should partition your data into training and testing data sets.  The training data set is what you use for cross-validation (i.e. you sample from within it to create folds, etc.).  The testing data set is held to the very end of your efforts, and used to compare qualitatively different models (e.g. OLS vs random forests).\n",
    "4. Very carefully document your workflow.  We will be reading a lot of projects, so we need you to explain each basic step in your analysis.  \n",
    "5. Seek opportunities to write functions allow you to avoid doing things over and over, and that make your code more succinct and readable. "
   ]
  },
  {
   "cell_type": "markdown",
   "metadata": {},
   "source": [
    "### Model 1: Simple Linear Regression"
   ]
  },
  {
   "cell_type": "code",
   "execution_count": 8,
   "metadata": {
    "scrolled": true
   },
   "outputs": [
    {
     "name": "stdout",
     "output_type": "stream",
     "text": [
      "Fitting Model...\n",
      "[Train MSE: 0.5809]\n",
      "[Train R^2: 0.9959413161058909]\n",
      "[Test MSE: 0.4892]\n",
      "[Test R^2: 0.9959413161058909]\n",
      "----FINISHED----\n"
     ]
    },
    {
     "data": {
      "image/png": "[encoded data removed]",
      "text/plain": [
       "<Figure size 432x288 with 1 Axes>"
      ]
     },
     "metadata": {
      "needs_background": "light"
     },
     "output_type": "display_data"
    }
   ],
   "source": [
    "\n",
    "lm = LinearRegression()\n",
    "lin_model = gmp.run_model(X_train, X_val, y_train, y_val, lm, diagnostics = True)"
   ]
  },
  {
   "cell_type": "markdown",
   "metadata": {},
   "source": [
    "### Model 2: Ridge Regression"
   ]
  },
  {
   "cell_type": "code",
   "execution_count": 14,
   "metadata": {},
   "outputs": [
    {
     "name": "stdout",
     "output_type": "stream",
     "text": [
      "Splitting data...\n",
      "optimal alpha: 0.1\n",
      "Test MSE with cross-validated RidgeCV: 0.4891612023962227\n",
      "[R^2: 0.9959418936110174]\n"
     ]
    },
    {
     "data": {
      "text/plain": [
       "0.1"
      ]
     },
     "execution_count": 14,
     "metadata": {},
     "output_type": "execute_result"
    }
   ],
   "source": [
    "X_train, X_val, y_val, y_val = gmp.preprocess_data(df, 'result_grand_total',)\n",
    "\n",
    "alphas = [0, 0.001, 0.01, 0.1, 1, 10, 100, 1000]\n",
    "gmp.linreg_kfold_cv(RidgeCV, X_train, X_val, y_train, y_val, alphas)"
   ]
  },
  {
   "cell_type": "code",
   "execution_count": 19,
   "metadata": {
    "scrolled": true
   },
   "outputs": [
    {
     "name": "stdout",
     "output_type": "stream",
     "text": [
      "optimal alpha: 0.099\n",
      "Test MSE with cross-validated RidgeCV: 0.4891618304927962\n",
      "[R^2: 0.9959418884002961]\n"
     ]
    },
    {
     "data": {
      "text/plain": [
       "0.099"
      ]
     },
     "execution_count": 19,
     "metadata": {},
     "output_type": "execute_result"
    }
   ],
   "source": [
    "new_alphas = np.arange(0,0.1,0.001)\n",
    "gmp.linreg_kfold_cv(RidgeCV, X_train, X_val, y_train, y_val, new_alphas)"
   ]
  },
  {
   "cell_type": "code",
   "execution_count": 21,
   "metadata": {
    "scrolled": true
   },
   "outputs": [
    {
     "name": "stdout",
     "output_type": "stream",
     "text": [
      "Splitting data...\n",
      "Fitting Model...\n",
      "[Train MSE: 0.5809]\n",
      "[Train R^2: 0.9959303714378437]\n",
      "[Test MSE: 0.4906]\n",
      "[Test R^2: 0.9959303714378437]\n",
      "----FINISHED----\n"
     ]
    },
    {
     "data": {
      "image/png": "[encoded data removed]",
      "text/plain": [
       "<Figure size 432x288 with 1 Axes>"
      ]
     },
     "metadata": {
      "needs_background": "light"
     },
     "output_type": "display_data"
    }
   ],
   "source": [
    "X_train, X_val, y_train, y_val = gmp.preprocess_data(df, 'result_grand_total', standardize = True)\n",
    "\n",
    "ridge_model = Ridge(alpha=0.099)\n",
    "ridge_model = gmp.run_model(X_train, X_val, y_train, y_val, ridge_model, diagnostics=True)"
   ]
  },
  {
   "cell_type": "markdown",
   "metadata": {},
   "source": [
    "### Model 3: Lasso Regression"
   ]
  },
  {
   "cell_type": "code",
   "execution_count": 22,
   "metadata": {},
   "outputs": [
    {
     "name": "stdout",
     "output_type": "stream",
     "text": [
      "Splitting data...\n",
      "optimal alpha: 0.0\n",
      "Test MSE with cross-validated LassoCV: 0.4892308133898461\n",
      "[R^2: 0.9959413161146489]\n"
     ]
    },
    {
     "name": "stderr",
     "output_type": "stream",
     "text": [
      "C:\\Users\\miche\\anaconda3\\lib\\site-packages\\sklearn\\linear_model\\_coordinate_descent.py:525: UserWarning: Coordinate descent with alpha=0 may lead to unexpected results and is discouraged.\n",
      "  model = cd_fast.enet_coordinate_descent_gram(\n",
      "C:\\Users\\miche\\anaconda3\\lib\\site-packages\\sklearn\\linear_model\\_coordinate_descent.py:525: ConvergenceWarning: Objective did not converge. You might want to increase the number of iterations. Duality gap: 211.97889222818776, tolerance: 8.567568363754575\n",
      "  model = cd_fast.enet_coordinate_descent_gram(\n",
      "C:\\Users\\miche\\anaconda3\\lib\\site-packages\\sklearn\\linear_model\\_coordinate_descent.py:525: UserWarning: Coordinate descent with alpha=0 may lead to unexpected results and is discouraged.\n",
      "  model = cd_fast.enet_coordinate_descent_gram(\n",
      "C:\\Users\\miche\\anaconda3\\lib\\site-packages\\sklearn\\linear_model\\_coordinate_descent.py:525: ConvergenceWarning: Objective did not converge. You might want to increase the number of iterations. Duality gap: 214.23156596974877, tolerance: 8.315513906276996\n",
      "  model = cd_fast.enet_coordinate_descent_gram(\n",
      "C:\\Users\\miche\\anaconda3\\lib\\site-packages\\sklearn\\linear_model\\_coordinate_descent.py:525: UserWarning: Coordinate descent with alpha=0 may lead to unexpected results and is discouraged.\n",
      "  model = cd_fast.enet_coordinate_descent_gram(\n",
      "C:\\Users\\miche\\anaconda3\\lib\\site-packages\\sklearn\\linear_model\\_coordinate_descent.py:525: ConvergenceWarning: Objective did not converge. You might want to increase the number of iterations. Duality gap: 223.0158394798491, tolerance: 8.410056495499107\n",
      "  model = cd_fast.enet_coordinate_descent_gram(\n",
      "C:\\Users\\miche\\anaconda3\\lib\\site-packages\\sklearn\\linear_model\\_coordinate_descent.py:525: UserWarning: Coordinate descent with alpha=0 may lead to unexpected results and is discouraged.\n",
      "  model = cd_fast.enet_coordinate_descent_gram(\n",
      "C:\\Users\\miche\\anaconda3\\lib\\site-packages\\sklearn\\linear_model\\_coordinate_descent.py:525: ConvergenceWarning: Objective did not converge. You might want to increase the number of iterations. Duality gap: 211.38201077135454, tolerance: 8.415917822692935\n",
      "  model = cd_fast.enet_coordinate_descent_gram(\n",
      "C:\\Users\\miche\\anaconda3\\lib\\site-packages\\sklearn\\linear_model\\_coordinate_descent.py:525: UserWarning: Coordinate descent with alpha=0 may lead to unexpected results and is discouraged.\n",
      "  model = cd_fast.enet_coordinate_descent_gram(\n",
      "C:\\Users\\miche\\anaconda3\\lib\\site-packages\\sklearn\\linear_model\\_coordinate_descent.py:525: ConvergenceWarning: Objective did not converge. You might want to increase the number of iterations. Duality gap: 218.0034769862541, tolerance: 8.347728223182095\n",
      "  model = cd_fast.enet_coordinate_descent_gram(\n",
      "C:\\Users\\miche\\anaconda3\\lib\\site-packages\\sklearn\\linear_model\\_coordinate_descent.py:1336: UserWarning: With alpha=0, this algorithm does not converge well. You are advised to use the LinearRegression estimator\n",
      "  model.fit(X, y)\n",
      "C:\\Users\\miche\\anaconda3\\lib\\site-packages\\sklearn\\linear_model\\_coordinate_descent.py:529: UserWarning: Coordinate descent with no regularization may lead to unexpected results and is discouraged.\n",
      "  model = cd_fast.enet_coordinate_descent(\n",
      "C:\\Users\\miche\\anaconda3\\lib\\site-packages\\sklearn\\linear_model\\_coordinate_descent.py:529: ConvergenceWarning: Objective did not converge. You might want to increase the number of iterations. Duality gap: 271.2829788809269, tolerance: 10.520109859420126\n",
      "  model = cd_fast.enet_coordinate_descent(\n"
     ]
    },
    {
     "data": {
      "text/plain": [
       "0.0"
      ]
     },
     "execution_count": 22,
     "metadata": {},
     "output_type": "execute_result"
    }
   ],
   "source": [
    "X_train, X_val, y_val, y_val = gmp.preprocess_data(df, 'result_grand_total',)\n",
    "\n",
    "alphas = [0, 0.001, 0.01, 0.1, 1, 10, 100, 1000]\n",
    "gmp.linreg_kfold_cv(LassoCV, X_train, X_val, y_train, y_val, alphas)"
   ]
  },
  {
   "cell_type": "code",
   "execution_count": 24,
   "metadata": {},
   "outputs": [
    {
     "name": "stdout",
     "output_type": "stream",
     "text": [
      "optimal alpha: 0.0002\n",
      "Test MSE with cross-validated LassoCV: 0.4888418466700264\n",
      "[R^2: 0.9959445430024787]\n"
     ]
    },
    {
     "name": "stderr",
     "output_type": "stream",
     "text": [
      "C:\\Users\\miche\\anaconda3\\lib\\site-packages\\sklearn\\linear_model\\_coordinate_descent.py:525: UserWarning: Coordinate descent with alpha=0 may lead to unexpected results and is discouraged.\n",
      "  model = cd_fast.enet_coordinate_descent_gram(\n",
      "C:\\Users\\miche\\anaconda3\\lib\\site-packages\\sklearn\\linear_model\\_coordinate_descent.py:525: ConvergenceWarning: Objective did not converge. You might want to increase the number of iterations. Duality gap: 211.9788922282023, tolerance: 8.567568363754575\n",
      "  model = cd_fast.enet_coordinate_descent_gram(\n",
      "C:\\Users\\miche\\anaconda3\\lib\\site-packages\\sklearn\\linear_model\\_coordinate_descent.py:525: UserWarning: Coordinate descent with alpha=0 may lead to unexpected results and is discouraged.\n",
      "  model = cd_fast.enet_coordinate_descent_gram(\n",
      "C:\\Users\\miche\\anaconda3\\lib\\site-packages\\sklearn\\linear_model\\_coordinate_descent.py:525: ConvergenceWarning: Objective did not converge. You might want to increase the number of iterations. Duality gap: 214.23156596980698, tolerance: 8.315513906276996\n",
      "  model = cd_fast.enet_coordinate_descent_gram(\n",
      "C:\\Users\\miche\\anaconda3\\lib\\site-packages\\sklearn\\linear_model\\_coordinate_descent.py:525: UserWarning: Coordinate descent with alpha=0 may lead to unexpected results and is discouraged.\n",
      "  model = cd_fast.enet_coordinate_descent_gram(\n",
      "C:\\Users\\miche\\anaconda3\\lib\\site-packages\\sklearn\\linear_model\\_coordinate_descent.py:525: ConvergenceWarning: Objective did not converge. You might want to increase the number of iterations. Duality gap: 223.01583947986364, tolerance: 8.410056495499107\n",
      "  model = cd_fast.enet_coordinate_descent_gram(\n",
      "C:\\Users\\miche\\anaconda3\\lib\\site-packages\\sklearn\\linear_model\\_coordinate_descent.py:525: UserWarning: Coordinate descent with alpha=0 may lead to unexpected results and is discouraged.\n",
      "  model = cd_fast.enet_coordinate_descent_gram(\n",
      "C:\\Users\\miche\\anaconda3\\lib\\site-packages\\sklearn\\linear_model\\_coordinate_descent.py:525: ConvergenceWarning: Objective did not converge. You might want to increase the number of iterations. Duality gap: 211.3820107713691, tolerance: 8.415917822692935\n",
      "  model = cd_fast.enet_coordinate_descent_gram(\n",
      "C:\\Users\\miche\\anaconda3\\lib\\site-packages\\sklearn\\linear_model\\_coordinate_descent.py:525: UserWarning: Coordinate descent with alpha=0 may lead to unexpected results and is discouraged.\n",
      "  model = cd_fast.enet_coordinate_descent_gram(\n",
      "C:\\Users\\miche\\anaconda3\\lib\\site-packages\\sklearn\\linear_model\\_coordinate_descent.py:525: ConvergenceWarning: Objective did not converge. You might want to increase the number of iterations. Duality gap: 218.00347698632686, tolerance: 8.347728223182095\n",
      "  model = cd_fast.enet_coordinate_descent_gram(\n"
     ]
    },
    {
     "data": {
      "text/plain": [
       "0.0002"
      ]
     },
     "execution_count": 24,
     "metadata": {},
     "output_type": "execute_result"
    }
   ],
   "source": [
    "new_alphas_lasso = np.arange(0,0.01,0.0001)\n",
    "gmp.linreg_kfold_cv(LassoCV, X_train, X_val, y_train, y_val, new_alphas_lasso)"
   ]
  },
  {
   "cell_type": "code",
   "execution_count": 26,
   "metadata": {},
   "outputs": [
    {
     "name": "stdout",
     "output_type": "stream",
     "text": [
      "Splitting data...\n",
      "Fitting Model...\n",
      "[Train MSE: 0.5809]\n",
      "[Train R^2: 0.9959447829365674]\n",
      "[Test MSE: 0.4888]\n",
      "[Test R^2: 0.9959447829365674]\n",
      "----FINISHED----\n"
     ]
    },
    {
     "data": {
      "image/png": "[encoded data removed]",
      "text/plain": [
       "<Figure size 432x288 with 1 Axes>"
      ]
     },
     "metadata": {
      "needs_background": "light"
     },
     "output_type": "display_data"
    }
   ],
   "source": [
    "X_train, X_val, y_train, y_val = gmp.preprocess_data(df, 'result_grand_total', standardize = True)\n",
    "\n",
    "lasso_model = Lasso(alpha=0.0002)\n",
    "lasso_model = gmp.run_model(X_train, X_val, y_train, y_val, lasso_model, diagnostics=True)"
   ]
  },
  {
   "cell_type": "markdown",
   "metadata": {},
   "source": [
    "## Model 4: Decision Tree"
   ]
  },
  {
   "cell_type": "code",
   "execution_count": null,
   "metadata": {},
   "outputs": [],
   "source": [
    "X_train, X_val, y_train, y_val = gmp.preprocess_data(df, 'tota', standardize = False)\n",
    "\n",
    "tree_model = DecisionTreeRegressor(random_state = rs, max_depth = 4)\n",
    "tree_model = gmp.run_model(X_train, X_val, y_train, y_val, tree_model, diagnostics=False)"
   ]
  },
  {
   "cell_type": "code",
   "execution_count": null,
   "metadata": {},
   "outputs": [],
   "source": []
  },
  {
   "cell_type": "markdown",
   "metadata": {},
   "source": [
    "## Interpretation and Conclusions (20 points)\n",
    "In this section you must relate your modeling and forecasting results to your original prediction question.  You must:\n",
    "1. Address a resource allocation question.  What do the answers mean? What advice would you give a decision maker on the basis of your results?  How might they allocate their resources differently with the results of your model?  Why should the reader care about your results?\n",
    "2. Discuss caveats and / or reasons your results might be flawed.  No model is perfect, and understanding a model's imperfections is extremely important for the purpose of knowing how to interpret your results.  Often, we know the model output is wrong but we can assign a direction for its bias.  This helps to understand whether or not your answers are conservative.  \n",
    "\n",
    "Shoot for 500-1000 words for this section."
   ]
  },
  {
   "cell_type": "code",
   "execution_count": null,
   "metadata": {},
   "outputs": [],
   "source": []
  }
 ],
 "metadata": {
  "kernelspec": {
   "display_name": "Python 3",
   "language": "python",
   "name": "python3"
  },
  "language_info": {
   "codemirror_mode": {
    "name": "ipython",
    "version": 3
   },
   "file_extension": ".py",
   "mimetype": "text/x-python",
   "name": "python",
   "nbconvert_exporter": "python",
   "pygments_lexer": "ipython3",
   "version": "3.8.3"
  }
 },
 "nbformat": 4,
 "nbformat_minor": 4
}
