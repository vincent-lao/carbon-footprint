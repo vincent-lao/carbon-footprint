{
 "cells": [
  {
   "cell_type": "code",
   "execution_count": 19,
   "metadata": {},
   "outputs": [],
   "source": [
    "# linear modelling functions\n",
    "#HENRY AND JUN\n",
    "#MERGED KAMMEN + COOLCLIMAE\n",
    "#!pip install ipynb\n",
    "import ipynb.fs.full.general_model_pipeline_vl as gmp\n",
    "import numpy as np\n",
    "import pandas as pd\n",
    "import matplotlib.pyplot as plt\n",
    "import re\n",
    "\n",
    "from sklearn.model_selection import train_test_split\n",
    "from sklearn.metrics import mean_squared_error\n",
    "from sklearn.model_selection import KFold\n",
    "from sklearn.linear_model import LinearRegression, Ridge, Lasso, RidgeCV, LassoCV\n",
    "from sklearn.preprocessing import StandardScaler\n",
    "from sklearn.metrics import r2_score, mean_squared_error\n",
    "from sklearn.tree import DecisionTreeRegressor\n",
    "\n",
    "import warnings\n",
    "warnings.filterwarnings(\"ignore\")\n"
   ]
  },
  {
   "cell_type": "markdown",
   "metadata": {},
   "source": [
    "#### Splitting the dataset \n",
    "\n",
    "These models will use 80% training data and 20% of testing data."
   ]
  },
  {
   "cell_type": "code",
   "execution_count": 20,
   "metadata": {},
   "outputs": [],
   "source": [
    "rs = 100\n",
    "np.random.seed(100)\n",
    "train_size = 0.8"
   ]
  },
  {
   "cell_type": "code",
   "execution_count": 21,
   "metadata": {},
   "outputs": [
    {
     "data": {
      "text/html": [
       "<div>\n",
       "<style scoped>\n",
       "    .dataframe tbody tr th:only-of-type {\n",
       "        vertical-align: middle;\n",
       "    }\n",
       "\n",
       "    .dataframe tbody tr th {\n",
       "        vertical-align: top;\n",
       "    }\n",
       "\n",
       "    .dataframe thead th {\n",
       "        text-align: right;\n",
       "    }\n",
       "</style>\n",
       "<table border=\"1\" class=\"dataframe\">\n",
       "  <thead>\n",
       "    <tr style=\"text-align: right;\">\n",
       "      <th></th>\n",
       "      <th>input_income</th>\n",
       "      <th>input_footprint_transportation_num_vehicles</th>\n",
       "      <th>input_footprint_transportation_miles1</th>\n",
       "      <th>airflights</th>\n",
       "      <th>input_footprint_housing_electricity_dollars</th>\n",
       "      <th>input_footprint_housing_squarefeet</th>\n",
       "      <th>input_footprint_shopping_goods_clothing</th>\n",
       "      <th>result_grand_total</th>\n",
       "    </tr>\n",
       "  </thead>\n",
       "  <tbody>\n",
       "    <tr>\n",
       "      <th>588</th>\n",
       "      <td>5.0</td>\n",
       "      <td>1.0</td>\n",
       "      <td>15600.0</td>\n",
       "      <td>2.0</td>\n",
       "      <td>480.0</td>\n",
       "      <td>1590.5</td>\n",
       "      <td>136.451019</td>\n",
       "      <td>23.324704</td>\n",
       "    </tr>\n",
       "    <tr>\n",
       "      <th>983</th>\n",
       "      <td>9.0</td>\n",
       "      <td>2.0</td>\n",
       "      <td>12700.0</td>\n",
       "      <td>6.0</td>\n",
       "      <td>480.0</td>\n",
       "      <td>1993.0</td>\n",
       "      <td>251.748512</td>\n",
       "      <td>37.518058</td>\n",
       "    </tr>\n",
       "    <tr>\n",
       "      <th>638</th>\n",
       "      <td>6.0</td>\n",
       "      <td>2.0</td>\n",
       "      <td>9400.0</td>\n",
       "      <td>7.0</td>\n",
       "      <td>670.0</td>\n",
       "      <td>1689.0</td>\n",
       "      <td>198.743174</td>\n",
       "      <td>29.656163</td>\n",
       "    </tr>\n",
       "    <tr>\n",
       "      <th>266</th>\n",
       "      <td>3.0</td>\n",
       "      <td>1.0</td>\n",
       "      <td>5800.0</td>\n",
       "      <td>4.0</td>\n",
       "      <td>370.0</td>\n",
       "      <td>1419.0</td>\n",
       "      <td>81.291788</td>\n",
       "      <td>17.516040</td>\n",
       "    </tr>\n",
       "    <tr>\n",
       "      <th>1010</th>\n",
       "      <td>10.0</td>\n",
       "      <td>2.0</td>\n",
       "      <td>8200.0</td>\n",
       "      <td>6.0</td>\n",
       "      <td>540.0</td>\n",
       "      <td>2217.0</td>\n",
       "      <td>307.046647</td>\n",
       "      <td>37.328012</td>\n",
       "    </tr>\n",
       "  </tbody>\n",
       "</table>\n",
       "</div>"
      ],
      "text/plain": [
       "      input_income  input_footprint_transportation_num_vehicles  \\\n",
       "588            5.0                                          1.0   \n",
       "983            9.0                                          2.0   \n",
       "638            6.0                                          2.0   \n",
       "266            3.0                                          1.0   \n",
       "1010          10.0                                          2.0   \n",
       "\n",
       "      input_footprint_transportation_miles1  airflights  \\\n",
       "588                                 15600.0         2.0   \n",
       "983                                 12700.0         6.0   \n",
       "638                                  9400.0         7.0   \n",
       "266                                  5800.0         4.0   \n",
       "1010                                 8200.0         6.0   \n",
       "\n",
       "      input_footprint_housing_electricity_dollars  \\\n",
       "588                                         480.0   \n",
       "983                                         480.0   \n",
       "638                                         670.0   \n",
       "266                                         370.0   \n",
       "1010                                        540.0   \n",
       "\n",
       "      input_footprint_housing_squarefeet  \\\n",
       "588                               1590.5   \n",
       "983                               1993.0   \n",
       "638                               1689.0   \n",
       "266                               1419.0   \n",
       "1010                              2217.0   \n",
       "\n",
       "      input_footprint_shopping_goods_clothing  result_grand_total  \n",
       "588                                136.451019           23.324704  \n",
       "983                                251.748512           37.518058  \n",
       "638                                198.743174           29.656163  \n",
       "266                                 81.291788           17.516040  \n",
       "1010                               307.046647           37.328012  "
      ]
     },
     "execution_count": 21,
     "metadata": {},
     "output_type": "execute_result"
    }
   ],
   "source": [
    "df1 = pd.read_csv('../../data/new-cleaned-household-data.csv')\n",
    "df1['airflights'] = df1['input_footprint_transportation_airshort']+df1['input_footprint_transportation_airmedium']+df1['input_footprint_transportation_airlong']\n",
    "df = df1[['input_income', 'input_footprint_transportation_num_vehicles','input_footprint_transportation_miles1', 'airflights', 'input_footprint_housing_electricity_dollars', 'input_footprint_housing_squarefeet', 'input_footprint_shopping_goods_clothing', 'result_grand_total']]\n",
    "\n",
    "df.reset_index(drop = False, inplace = True)\n",
    "\n",
    "train_data = df.sample(frac=train_size)\n",
    "test_data = df[df['index'].apply(lambda x: x not in train_data['index'].values)]\n",
    "\n",
    "train_data.drop(columns='index', inplace=True)\n",
    "test_data.drop(columns='index', inplace=True)\n",
    "train_data.shape, test_data.shape\n",
    "\n",
    "mylist = train_data.columns\n",
    "mylist[1:7]\n",
    "train_data.head()"
   ]
  },
  {
   "cell_type": "markdown",
   "metadata": {},
   "source": [
    "## Forecasting and Prediction Modeling "
   ]
  },
  {
   "cell_type": "markdown",
   "metadata": {},
   "source": [
    "### Model 1: Simple Linear Regression"
   ]
  },
  {
   "cell_type": "markdown",
   "metadata": {},
   "source": [
    "We will begin by looking at a simple linear regression model."
   ]
  },
  {
   "cell_type": "code",
   "execution_count": 22,
   "metadata": {
    "scrolled": false
   },
   "outputs": [
    {
     "name": "stdout",
     "output_type": "stream",
     "text": [
      "Splitting data...\n",
      "Fitting Model...\n",
      "[Train MSE: 3.8852]\n",
      "[Train R^2: 0.9666392179285809]\n",
      "[Test MSE: 4.9234]\n",
      "[Test R^2: 0.9570262757544852]\n",
      "----FINISHED----\n"
     ]
    },
    {
     "data": {
      "image/png": "[encoded data removed]",
      "text/plain": [
       "<Figure size 720x288 with 2 Axes>"
      ]
     },
     "metadata": {
      "needs_background": "light"
     },
     "output_type": "display_data"
    }
   ],
   "source": [
    "X_train, X_val, y_train, y_val = gmp.preprocess_data(train_data, 'result_grand_total')\n",
    "lm = LinearRegression()\n",
    "lm = gmp.run_model(X_train, X_val, y_train, y_val, lm, diagnostics = True)"
   ]
  },
  {
   "cell_type": "markdown",
   "metadata": {},
   "source": [
    "This model gave a Test MSE of 4.9234 and R^2 value of 0.95703, so this is a very good model."
   ]
  },
  {
   "cell_type": "markdown",
   "metadata": {},
   "source": [
    "### Model 2: Ridge Regression"
   ]
  },
  {
   "cell_type": "markdown",
   "metadata": {},
   "source": [
    "Next, we look at Ridge regression. To begin, we find an optimal value of alpha, a hyperparameter, in order to decrease model variance. "
   ]
  },
  {
   "cell_type": "code",
   "execution_count": 5,
   "metadata": {
    "scrolled": true
   },
   "outputs": [
    {
     "name": "stdout",
     "output_type": "stream",
     "text": [
      "Standardizing data...\n",
      "Splitting data...\n",
      "optimal alpha: 0.0\n",
      "Test MSE with cross-validated RidgeCV: 4.92344121392362\n",
      "[R^2: 0.957026275754538]\n"
     ]
    },
    {
     "data": {
      "text/plain": [
       "0.0"
      ]
     },
     "execution_count": 5,
     "metadata": {},
     "output_type": "execute_result"
    }
   ],
   "source": [
    "X_train, X_val, y_train, y_val = gmp.preprocess_data(train_data, 'result_grand_total', standardize_cols = mylist[1:7].tolist())\n",
    "                                                   #['input_footprint_transportation_num_vehicles', 'input_footprint_transportation_miles1', 'airflights', 'input_footprint_housing_electricity_dollars', 'input_footprint_housing_squarefeet', 'input_footprint_shopping_goods_clothing'])\n",
    "\n",
    "alphas = [0, 0.001, 0.01, 0.1, 1, 10, 100, 1000]\n",
    "gmp.linreg_kfold_cv(RidgeCV, X_train, X_val, y_train, y_val, alphas)"
   ]
  },
  {
   "cell_type": "markdown",
   "metadata": {},
   "source": [
    "This gave an optimal alpha value of 0. We will zoom in around that value to see if there is an even optimal value of alpha and then see the new test MSE and R^2 value. However as the alpha value is so small, we expect that the coefficients will be almost the same as the results from linear regression. "
   ]
  },
  {
   "cell_type": "code",
   "execution_count": 6,
   "metadata": {
    "scrolled": false
   },
   "outputs": [
    {
     "name": "stdout",
     "output_type": "stream",
     "text": [
      "optimal alpha: 6.000000000000001e-05\n",
      "Test MSE with cross-validated RidgeCV: 4.926218463353111\n",
      "[R^2: 0.9570020348332071]\n"
     ]
    },
    {
     "data": {
      "text/plain": [
       "array([0.e+00, 1.e-05, 2.e-05, 3.e-05, 4.e-05, 5.e-05, 6.e-05, 7.e-05,\n",
       "       8.e-05, 9.e-05])"
      ]
     },
     "execution_count": 6,
     "metadata": {},
     "output_type": "execute_result"
    }
   ],
   "source": [
    "new_alphas = np.arange(0,0.0001,0.00001)\n",
    "gmp.linreg_kfold_cv(RidgeCV, X_train, X_val, y_train, y_val, new_alphas)\n",
    "new_alphas"
   ]
  },
  {
   "cell_type": "code",
   "execution_count": 7,
   "metadata": {
    "scrolled": true
   },
   "outputs": [
    {
     "name": "stdout",
     "output_type": "stream",
     "text": [
      "Fitting Model...\n",
      "[Train MSE: 3.8853]\n",
      "[Train R^2: 0.9666381731710392]\n",
      "[Test MSE: 4.9262]\n",
      "[Test R^2: 0.9570020348332071]\n",
      "----FINISHED----\n"
     ]
    },
    {
     "data": {
      "image/png": "[encoded data removed]",
      "text/plain": [
       "<Figure size 720x288 with 2 Axes>"
      ]
     },
     "metadata": {
      "needs_background": "light"
     },
     "output_type": "display_data"
    }
   ],
   "source": [
    "ridge_model = Ridge(alpha=6e-05)\n",
    "ridge_model = gmp.run_model(X_train, X_val, y_train, y_val, ridge_model, diagnostics=True)"
   ]
  },
  {
   "cell_type": "markdown",
   "metadata": {},
   "source": [
    "The test MSE and R^2 values stayed around the same at MSE: 4.6262 and R^2: 0.957 (compared to the test MSE of 4.9234 and R^2 value of 0.95703 in the linear model). This shows that undergoing a ridge regression model did not show that much of an improvement."
   ]
  },
  {
   "cell_type": "markdown",
   "metadata": {},
   "source": [
    "### Model 3: Lasso Regression"
   ]
  },
  {
   "cell_type": "markdown",
   "metadata": {},
   "source": [
    "Next, we move on to Lasso Regression. As Ridge regression did not do much better than linear, we do not expect Lasso do perform much better as well. "
   ]
  },
  {
   "cell_type": "code",
   "execution_count": 8,
   "metadata": {},
   "outputs": [
    {
     "name": "stdout",
     "output_type": "stream",
     "text": [
      "Standardizing data...\n",
      "Splitting data...\n",
      "optimal alpha: 0.0\n",
      "Test MSE with cross-validated LassoCV: 4.923441213923627\n",
      "[R^2: 0.9570262757545379]\n"
     ]
    },
    {
     "data": {
      "text/plain": [
       "0.0"
      ]
     },
     "execution_count": 8,
     "metadata": {},
     "output_type": "execute_result"
    }
   ],
   "source": [
    "X_train, X_val, y_train, y_val = gmp.preprocess_data(train_data, 'result_grand_total', standardize_cols = mylist[1:7].tolist())\n",
    "alphas = [0, 0.001, 0.01, 0.1, 1, 10, 100, 1000]\n",
    "gmp.linreg_kfold_cv(LassoCV, X_train, X_val, y_train, y_val, alphas)"
   ]
  },
  {
   "cell_type": "markdown",
   "metadata": {},
   "source": [
    "Again, the optimal alpha was 0. So as we zoom in around 0 to find an even optimal value, we will keep in mind that Lasso will perform the same as linear and ridge regression. "
   ]
  },
  {
   "cell_type": "code",
   "execution_count": 9,
   "metadata": {},
   "outputs": [
    {
     "name": "stdout",
     "output_type": "stream",
     "text": [
      "optimal alpha: 1e-05\n",
      "Test MSE with cross-validated LassoCV: 4.924770408176923\n",
      "[R^2: 0.9570146740262289]\n"
     ]
    },
    {
     "data": {
      "text/plain": [
       "1e-05"
      ]
     },
     "execution_count": 9,
     "metadata": {},
     "output_type": "execute_result"
    }
   ],
   "source": [
    "new_alphas_lasso = np.arange(0,0.001,0.00001)\n",
    "gmp.linreg_kfold_cv(LassoCV, X_train, X_val, y_train, y_val, new_alphas_lasso)"
   ]
  },
  {
   "cell_type": "code",
   "execution_count": 10,
   "metadata": {},
   "outputs": [
    {
     "name": "stdout",
     "output_type": "stream",
     "text": [
      "Standardizing data...\n",
      "Splitting data...\n",
      "Fitting Model...\n",
      "[Train MSE: 3.8852]\n",
      "[Train R^2: 0.9666390306371127]\n",
      "[Test MSE: 4.9248]\n",
      "[Test R^2: 0.9570146740262289]\n",
      "----FINISHED----\n"
     ]
    },
    {
     "data": {
      "image/png": "[encoded data removed]",
      "text/plain": [
       "<Figure size 720x288 with 2 Axes>"
      ]
     },
     "metadata": {
      "needs_background": "light"
     },
     "output_type": "display_data"
    }
   ],
   "source": [
    "X_train, X_val, y_train, y_val = gmp.preprocess_data(train_data, 'result_grand_total', standardize_cols =  mylist[1:7].tolist())\n",
    "\n",
    "lasso_model = Lasso(alpha=1.e-05)\n",
    "lasso_model = gmp.run_model(X_train, X_val, y_train, y_val, lasso_model, diagnostics=True)"
   ]
  },
  {
   "cell_type": "markdown",
   "metadata": {},
   "source": [
    "Using Lasso regression, the test MSE was 4.9248 and R^2 value of 0.957 so this model performed the same as the other two. "
   ]
  },
  {
   "cell_type": "markdown",
   "metadata": {},
   "source": [
    "## Model 4: Decision Tree"
   ]
  },
  {
   "cell_type": "markdown",
   "metadata": {},
   "source": [
    "Finally, we will move on to decision trees. As the linear model performed so well, we expect that decision tree model will not work as well as it uses a non-linear mapping. We begin by looking for 3 hyperparameters: max_leaf_nodes, max_features, and max_depth."
   ]
  },
  {
   "cell_type": "code",
   "execution_count": 11,
   "metadata": {},
   "outputs": [
    {
     "name": "stdout",
     "output_type": "stream",
     "text": [
      "0.9009523299484729\n",
      "{'max_leaf_nodes': 19, 'max_features': 6, 'max_depth': 7}\n"
     ]
    }
   ],
   "source": [
    "param_dist = {'max_leaf_nodes': np.arange(2, 20),\n",
    "              'max_features': np.arange(2, 7),\n",
    "              'max_depth': np.arange(2,10)}\n",
    "\n",
    "tree = DecisionTreeRegressor(random_state = 100, max_depth = 4, max_features=5, max_leaf_nodes=10)\n",
    "gmp.tree_kfold_cv(tree, param_dist, X_train, y_train, n_iter=1000, random_state = 100)"
   ]
  },
  {
   "cell_type": "code",
   "execution_count": 12,
   "metadata": {},
   "outputs": [
    {
     "name": "stdout",
     "output_type": "stream",
     "text": [
      "Splitting data...\n",
      "Fitting Model...\n",
      "[Train MSE: 8.0859]\n",
      "[Train R^2: 0.9305685325376274]\n",
      "[Test MSE: 10.0325]\n",
      "[Test R^2: 0.9124323430698816]\n",
      "----FINISHED----\n"
     ]
    },
    {
     "data": {
      "image/png": "[encoded data removed]",
      "text/plain": [
       "<Figure size 720x288 with 2 Axes>"
      ]
     },
     "metadata": {
      "needs_background": "light"
     },
     "output_type": "display_data"
    }
   ],
   "source": [
    "X_train, X_val, y_train, y_val = gmp.preprocess_data(train_data, 'result_grand_total')\n",
    "\n",
    "tree_model = DecisionTreeRegressor(random_state=100, max_leaf_nodes = 19,\n",
    "                                   max_depth=5, max_features = 6)\n",
    "tree_model = gmp.run_model(X_train, X_val, y_train, y_val, tree_model, diagnostics=True)"
   ]
  },
  {
   "cell_type": "code",
   "execution_count": 13,
   "metadata": {},
   "outputs": [
    {
     "name": "stdout",
     "output_type": "stream",
     "text": [
      "Index(['input_income', 'input_footprint_transportation_num_vehicles',\n",
      "       'input_footprint_transportation_miles1', 'airflights',\n",
      "       'input_footprint_housing_electricity_dollars',\n",
      "       'input_footprint_housing_squarefeet',\n",
      "       'input_footprint_shopping_goods_clothing'],\n",
      "      dtype='object')\n",
      "('input_income', 'input_footprint_transportation_num_vehicles', 'input_footprint_transportation_miles1', 'airflights', 'input_footprint_housing_electricity_dollars', 'input_footprint_housing_squarefeet', 'input_footprint_shopping_goods_clothing')\n"
     ]
    }
   ],
   "source": [
    "#X_train.drop(columns = 'level_0', inplace=True)\n",
    "k = gmp.forward_selection(tree_model, X_train, y_train, k_features=7)\n",
    "#X_train.loc[:,0:k]\n",
    "print(X_train.columns)\n",
    "print(k)"
   ]
  },
  {
   "cell_type": "markdown",
   "metadata": {},
   "source": [
    "As expected, using a decision tree model performed the worst out of all of the model above as it had the highest test MSE of 10.0325 and lowest R^2 value of 0.9124. In addition, the fitted values had a high variance."
   ]
  },
  {
   "cell_type": "markdown",
   "metadata": {},
   "source": [
    "## Comparison on Test Set"
   ]
  },
  {
   "cell_type": "code",
   "execution_count": 14,
   "metadata": {},
   "outputs": [],
   "source": [
    "from sklearn.preprocessing import normalize\n",
    "\n",
    "\n",
    "data = test_data.copy().reset_index().drop(columns=['result_grand_total', 'index'])\n",
    "standardize_features = normalize(data.loc[:, mylist[1:7]], axis=0)\n",
    "standardize_df = pd.DataFrame(standardize_features, columns=mylist[1:7])\n",
    "\n",
    "data.drop(mylist[1:7], axis = 1, inplace = True)\n",
    "data = pd.concat([data, standardize_df], axis= 1)\n",
    "data\n",
    "\n",
    "X_test = test_data.drop(columns='result_grand_total')\n",
    "y_test = test_data['result_grand_total']\n",
    "\n"
   ]
  },
  {
   "cell_type": "code",
   "execution_count": 15,
   "metadata": {},
   "outputs": [
    {
     "data": {
      "text/plain": [
       "{'Linear Regression': 4.925913086620728,\n",
       " 'Ridge Regression': 1717.6098551087346,\n",
       " 'Lasso Regression': 1725.051929297688,\n",
       " 'Decision Tree': 11.42033901953504}"
      ]
     },
     "execution_count": 15,
     "metadata": {},
     "output_type": "execute_result"
    }
   ],
   "source": [
    "lr_test_preds = lm.predict(X_test)\n",
    "ridge_test_preds = ridge_model.predict(data)\n",
    "lasso_test_preds = lasso_model.predict(data)\n",
    "tree_test_preds = tree_model.predict(X_test)\n",
    "\n",
    "\n",
    "{'Linear Regression' : mean_squared_error(lr_test_preds, y_test),\n",
    " 'Ridge Regression' : mean_squared_error(ridge_test_preds, y_test),\n",
    " 'Lasso Regression' : mean_squared_error(lasso_test_preds, y_test),\n",
    " 'Decision Tree' : mean_squared_error(tree_test_preds, y_test)}"
   ]
  },
  {
   "cell_type": "markdown",
   "metadata": {},
   "source": [
    "## Interpretation and Conclusions"
   ]
  },
  {
   "cell_type": "code",
   "execution_count": 45,
   "metadata": {},
   "outputs": [],
   "source": [
    "def lin_model_features(model, X_train, X_val, y_train, y_val, num_feat):\n",
    "    k = gmp.forward_selection(model, X_train, y_train, k_features=num_feat)\n",
    "    X_train1 = X_train.loc[:,list(k)]\n",
    "    X_val1 = X_val.loc[:,list(k)]\n",
    "    return gmp.run_model(X_train1, X_val1, y_train, y_val, model, diagnostics = False)"
   ]
  },
  {
   "cell_type": "code",
   "execution_count": 32,
   "metadata": {},
   "outputs": [
    {
     "name": "stdout",
     "output_type": "stream",
     "text": [
      "Splitting data...\n",
      "Fitting Model...\n",
      "[Train MSE: 13.4334]\n",
      "[Train R^2: 0.8846513925656855]\n",
      "[Test MSE: 17.7178]\n",
      "[Test R^2: 0.8453524911452459]\n",
      "----FINISHED----\n",
      "LinearRegression()\n",
      "Fitting Model...\n",
      "[Train MSE: 10.2835]\n",
      "[Train R^2: 0.9116991249636762]\n",
      "[Test MSE: 12.8573]\n",
      "[Test R^2: 0.887776708749524]\n",
      "----FINISHED----\n",
      "LinearRegression()\n",
      "Fitting Model...\n",
      "[Train MSE: 4.9102]\n",
      "[Train R^2: 0.9578380360019337]\n",
      "[Test MSE: 5.8188]\n",
      "[Test R^2: 0.9492108894173422]\n",
      "----FINISHED----\n",
      "LinearRegression()\n",
      "Fitting Model...\n",
      "[Train MSE: 4.5428]\n",
      "[Train R^2: 0.9609927068556756]\n",
      "[Test MSE: 5.5535]\n",
      "[Test R^2: 0.9515272896328884]\n",
      "----FINISHED----\n",
      "LinearRegression()\n",
      "Fitting Model...\n",
      "[Train MSE: 4.17]\n",
      "[Train R^2: 0.9641938848231896]\n",
      "[Test MSE: 5.2493]\n",
      "[Test R^2: 0.9541817112337466]\n",
      "----FINISHED----\n",
      "LinearRegression()\n",
      "Fitting Model...\n",
      "[Train MSE: 3.9018]\n",
      "[Train R^2: 0.9664964393471359]\n",
      "[Test MSE: 4.9656]\n",
      "[Test R^2: 0.956658141883105]\n",
      "----FINISHED----\n",
      "LinearRegression()\n",
      "Fitting Model...\n",
      "[Train MSE: 3.8852]\n",
      "[Train R^2: 0.9666392179285809]\n",
      "[Test MSE: 4.9234]\n",
      "[Test R^2: 0.9570262757544852]\n",
      "----FINISHED----\n",
      "LinearRegression()\n"
     ]
    }
   ],
   "source": [
    "X_train, X_val, y_train, y_val = gmp.preprocess_data(train_data, 'result_grand_total')\n",
    "\n",
    "for i in range(1,X_train.shape[1]+1):\n",
    "    print(lin_model_features(LinearRegression(), X_train, X_val, y_train, y_val, i))\n"
   ]
  },
  {
   "cell_type": "code",
   "execution_count": 77,
   "metadata": {
    "scrolled": true
   },
   "outputs": [
    {
     "name": "stdout",
     "output_type": "stream",
     "text": [
      "Fitting Model...\n",
      "[Train MSE: 3.9018]\n",
      "[Train R^2: 0.9664964393471359]\n",
      "[Test MSE: 4.9656]\n",
      "[Test R^2: 0.956658141883105]\n",
      "----FINISHED----\n"
     ]
    }
   ],
   "source": [
    "best_lm = lin_model_features(LinearRegression(), X_train, X_val, y_train, y_val, 6)"
   ]
  },
  {
   "cell_type": "markdown",
   "metadata": {},
   "source": [
    "\n",
    "Since the goal of this prediction problem was to make a model where we used less and less features compared to the total API data and every feature played an important part in predicting the total carbon output, it seemed that a simple linear model sufficed for this question. As the Lasso, Ridge, and linear regression models all had a very similar MSE and R^2 value, it seemed that the linear model performed just as good as Lasso and ridge. In addition, when searching for the optimum alpha values for both Ridge and Lasso through cross validation, both were very small, (in the 10^-6 realm) which made the coefficients of both models close to thtat of the linear regression model. Looking at the decision tree model, the fitted values had a higher variance compared to the linear models and it did not perform as well as the other three models as it uses a non-linear relationship. Looking at the test data and the MSE values, we see that the linear regression model had the lowest MSE, which made it the best performing model. \n",
    "\n",
    "In addition, we performed a forward feature selection to select the best set of features. It appeared that there were features that were more important than others. In order to see the difference in the test MSE and R^2 value, we performed a linear regression model on the different number of features. It appeared that once we started using 3 selected features, the R^2 values hit around 94% and stayed in the realm. In addition, the 2nd to last regression model, which uses 6 of the best features, had a similar R^2 and MSE value compared to using all 7 features. \n",
    "\n",
    "Through this features selection, we can create a simplified calculator that only uses these selected, important features. For example, a user could find a very rough estimate of their carbon footprint using the top features selected by the forward feature selection, and based on the results, could see if their rough estimate is very high and then be pushed to take the full carbon footprint to see where their top emitters are coming from.\n",
    "\n",
    "However, we must keep in mind that forward selection suffers from state dependencies as it includes best features from prior levels and does not evaluate all models so we can’t be sure it found the best features.\n",
    "\n"
   ]
  },
  {
   "cell_type": "code",
   "execution_count": 80,
   "metadata": {},
   "outputs": [],
   "source": [
    "# try inserting your own estimated features!\n",
    "\n",
    "user_features = {'input_income' : 3,\n",
    "                 'input_footprint_transportation_num_vehicles' : 1,\n",
    "                 'input_footprint_transportation_miles1' : 8600, \n",
    "                 'airflights' : 2,\n",
    "                 'input_footprint_housing_electricity_dollars' : 360,\n",
    "                 'input_footprint_shopping_goods_clothing' : 100}"
   ]
  },
  {
   "cell_type": "code",
   "execution_count": 81,
   "metadata": {
    "scrolled": true
   },
   "outputs": [
    {
     "name": "stdout",
     "output_type": "stream",
     "text": [
      "Your features produce 1719.06 ton of CO2 emissions per year.\n"
     ]
    }
   ],
   "source": [
    "predicted_co2_emissions_per_year = best_lm.predict(np.reshape(list(user_features.values()), (1,6)))[0]\n",
    "print('Your features produce', np.round(predicted_co2_emissions_per_year, 2), 'ton of CO2 emissions per year.')"
   ]
  },
  {
   "cell_type": "code",
   "execution_count": null,
   "metadata": {},
   "outputs": [],
   "source": []
  }
 ],
 "metadata": {
  "kernelspec": {
   "display_name": "Python 3",
   "language": "python",
   "name": "python3"
  },
  "language_info": {
   "codemirror_mode": {
    "name": "ipython",
    "version": 3
   },
   "file_extension": ".py",
   "mimetype": "text/x-python",
   "name": "python",
   "nbconvert_exporter": "python",
   "pygments_lexer": "ipython3",
   "version": "3.8.3"
  }
 },
 "nbformat": 4,
 "nbformat_minor": 4
}
