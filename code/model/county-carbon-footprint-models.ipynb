{
 "cells": [
  {
   "cell_type": "code",
   "execution_count": 102,
   "metadata": {},
   "outputs": [],
   "source": [
    "#county-carbon footprint\n",
    "\n",
    "#HENRY & JUN\n",
    "# !pip install ipynb\n",
    "#!pip install sklearn\n",
    "#!pip install mlxtend\n",
    "import ipynb.fs.full.general_model_pipeline_vl\n",
    "\n",
    "\n",
    "import numpy as np\n",
    "import pandas as pd\n",
    "from sklearn.linear_model import LinearRegression, Ridge, Lasso, RidgeCV, LassoCV\n",
    "from sklearn.tree import DecisionTreeRegressor\n",
    "from sklearn.ensemble import RandomForestRegressor\n",
    "from sklearn.preprocessing import StandardScaler\n",
    "from sklearn.metrics import mean_squared_error"
   ]
  },
  {
   "cell_type": "markdown",
   "metadata": {},
   "source": [
    "# Importing the Data"
   ]
  },
  {
   "cell_type": "code",
   "execution_count": 103,
   "metadata": {},
   "outputs": [
    {
     "data": {
      "text/html": [
       "<div>\n",
       "<style scoped>\n",
       "    .dataframe tbody tr th:only-of-type {\n",
       "        vertical-align: middle;\n",
       "    }\n",
       "\n",
       "    .dataframe tbody tr th {\n",
       "        vertical-align: top;\n",
       "    }\n",
       "\n",
       "    .dataframe thead th {\n",
       "        text-align: right;\n",
       "    }\n",
       "</style>\n",
       "<table border=\"1\" class=\"dataframe\">\n",
       "  <thead>\n",
       "    <tr style=\"text-align: right;\">\n",
       "      <th></th>\n",
       "      <th>CountyName</th>\n",
       "      <th>num_vehicles</th>\n",
       "      <th>miles_traveled_year</th>\n",
       "      <th>num_short_flights</th>\n",
       "      <th>num_med_flights</th>\n",
       "      <th>num_long_flights</th>\n",
       "      <th>electricity_billPerYear</th>\n",
       "      <th>housing_squarefeet</th>\n",
       "      <th>moneySpentOnClothesPerYear</th>\n",
       "      <th>result_grand_total</th>\n",
       "      <th>Population</th>\n",
       "      <th>PersonsPerHousehold</th>\n",
       "      <th>AverageHouseValue</th>\n",
       "      <th>IncomePerHousehold</th>\n",
       "      <th>popden</th>\n",
       "      <th>electricity (kWh)</th>\n",
       "      <th>Nat. Gas (cu.ft.)</th>\n",
       "      <th>FUELOIL (gallons)</th>\n",
       "      <th>Vehicle miles traveled</th>\n",
       "      <th>HouseholdsPerZipCode</th>\n",
       "    </tr>\n",
       "  </thead>\n",
       "  <tbody>\n",
       "    <tr>\n",
       "      <td>0</td>\n",
       "      <td>ALAMEDA</td>\n",
       "      <td>242.0</td>\n",
       "      <td>1613500.0</td>\n",
       "      <td>483.0</td>\n",
       "      <td>126.0</td>\n",
       "      <td>89.0</td>\n",
       "      <td>97190.0</td>\n",
       "      <td>211948.5</td>\n",
       "      <td>40510.762336</td>\n",
       "      <td>5277.395845</td>\n",
       "      <td>1333498</td>\n",
       "      <td>111.87</td>\n",
       "      <td>13884600</td>\n",
       "      <td>2590891</td>\n",
       "      <td>258994.046896</td>\n",
       "      <td>275913.455348</td>\n",
       "      <td>1.768720e+06</td>\n",
       "      <td>22.368750</td>\n",
       "      <td>983886</td>\n",
       "      <td>505952</td>\n",
       "    </tr>\n",
       "    <tr>\n",
       "      <td>1</td>\n",
       "      <td>ALPINE</td>\n",
       "      <td>15.0</td>\n",
       "      <td>86300.0</td>\n",
       "      <td>27.0</td>\n",
       "      <td>8.0</td>\n",
       "      <td>3.0</td>\n",
       "      <td>5440.0</td>\n",
       "      <td>14048.0</td>\n",
       "      <td>2366.563071</td>\n",
       "      <td>295.877796</td>\n",
       "      <td>1071</td>\n",
       "      <td>6.22</td>\n",
       "      <td>1177601</td>\n",
       "      <td>84191</td>\n",
       "      <td>5.789275</td>\n",
       "      <td>11596.212856</td>\n",
       "      <td>5.219063e+04</td>\n",
       "      <td>28.795106</td>\n",
       "      <td>34414</td>\n",
       "      <td>1002</td>\n",
       "    </tr>\n",
       "    <tr>\n",
       "      <td>2</td>\n",
       "      <td>AMADOR</td>\n",
       "      <td>87.0</td>\n",
       "      <td>700100.0</td>\n",
       "      <td>162.0</td>\n",
       "      <td>39.0</td>\n",
       "      <td>27.0</td>\n",
       "      <td>37630.0</td>\n",
       "      <td>71966.0</td>\n",
       "      <td>14149.849255</td>\n",
       "      <td>2018.848980</td>\n",
       "      <td>35248</td>\n",
       "      <td>24.21</td>\n",
       "      <td>1578400</td>\n",
       "      <td>442394</td>\n",
       "      <td>2747.175496</td>\n",
       "      <td>68394.867629</td>\n",
       "      <td>2.955696e+05</td>\n",
       "      <td>14.518174</td>\n",
       "      <td>284242</td>\n",
       "      <td>15061</td>\n",
       "    </tr>\n",
       "    <tr>\n",
       "      <td>3</td>\n",
       "      <td>BUTTE</td>\n",
       "      <td>123.0</td>\n",
       "      <td>998900.0</td>\n",
       "      <td>213.0</td>\n",
       "      <td>52.0</td>\n",
       "      <td>10.0</td>\n",
       "      <td>54640.0</td>\n",
       "      <td>107009.0</td>\n",
       "      <td>16113.001961</td>\n",
       "      <td>2604.068576</td>\n",
       "      <td>202888</td>\n",
       "      <td>44.85</td>\n",
       "      <td>2079400</td>\n",
       "      <td>655472</td>\n",
       "      <td>10312.749190</td>\n",
       "      <td>120787.352491</td>\n",
       "      <td>6.899601e+05</td>\n",
       "      <td>36.925198</td>\n",
       "      <td>472138</td>\n",
       "      <td>85714</td>\n",
       "    </tr>\n",
       "    <tr>\n",
       "      <td>4</td>\n",
       "      <td>CALAVERAS</td>\n",
       "      <td>175.0</td>\n",
       "      <td>1113000.0</td>\n",
       "      <td>305.0</td>\n",
       "      <td>52.0</td>\n",
       "      <td>40.0</td>\n",
       "      <td>71800.0</td>\n",
       "      <td>136184.0</td>\n",
       "      <td>23597.085432</td>\n",
       "      <td>3541.542685</td>\n",
       "      <td>40500</td>\n",
       "      <td>45.15</td>\n",
       "      <td>2824300</td>\n",
       "      <td>632518</td>\n",
       "      <td>4685.232602</td>\n",
       "      <td>128358.485485</td>\n",
       "      <td>5.235352e+05</td>\n",
       "      <td>140.920772</td>\n",
       "      <td>445448</td>\n",
       "      <td>22884</td>\n",
       "    </tr>\n",
       "  </tbody>\n",
       "</table>\n",
       "</div>"
      ],
      "text/plain": [
       "  CountyName  num_vehicles  miles_traveled_year  num_short_flights  \\\n",
       "0    ALAMEDA         242.0            1613500.0              483.0   \n",
       "1     ALPINE          15.0              86300.0               27.0   \n",
       "2     AMADOR          87.0             700100.0              162.0   \n",
       "3      BUTTE         123.0             998900.0              213.0   \n",
       "4  CALAVERAS         175.0            1113000.0              305.0   \n",
       "\n",
       "   num_med_flights  num_long_flights  electricity_billPerYear  \\\n",
       "0            126.0              89.0                  97190.0   \n",
       "1              8.0               3.0                   5440.0   \n",
       "2             39.0              27.0                  37630.0   \n",
       "3             52.0              10.0                  54640.0   \n",
       "4             52.0              40.0                  71800.0   \n",
       "\n",
       "   housing_squarefeet  moneySpentOnClothesPerYear  result_grand_total  \\\n",
       "0            211948.5                40510.762336         5277.395845   \n",
       "1             14048.0                 2366.563071          295.877796   \n",
       "2             71966.0                14149.849255         2018.848980   \n",
       "3            107009.0                16113.001961         2604.068576   \n",
       "4            136184.0                23597.085432         3541.542685   \n",
       "\n",
       "   Population  PersonsPerHousehold  AverageHouseValue  IncomePerHousehold  \\\n",
       "0     1333498               111.87           13884600             2590891   \n",
       "1        1071                 6.22            1177601               84191   \n",
       "2       35248                24.21            1578400              442394   \n",
       "3      202888                44.85            2079400              655472   \n",
       "4       40500                45.15            2824300              632518   \n",
       "\n",
       "          popden  electricity (kWh)  Nat. Gas (cu.ft.)  FUELOIL (gallons)  \\\n",
       "0  258994.046896      275913.455348       1.768720e+06          22.368750   \n",
       "1       5.789275       11596.212856       5.219063e+04          28.795106   \n",
       "2    2747.175496       68394.867629       2.955696e+05          14.518174   \n",
       "3   10312.749190      120787.352491       6.899601e+05          36.925198   \n",
       "4    4685.232602      128358.485485       5.235352e+05         140.920772   \n",
       "\n",
       "   Vehicle miles traveled  HouseholdsPerZipCode  \n",
       "0                  983886                505952  \n",
       "1                   34414                  1002  \n",
       "2                  284242                 15061  \n",
       "3                  472138                 85714  \n",
       "4                  445448                 22884  "
      ]
     },
     "execution_count": 103,
     "metadata": {},
     "output_type": "execute_result"
    }
   ],
   "source": [
    "data = pd.read_csv(\"../../data/jonesKammen-PlUS-CoolClimate.csv\")\n",
    "data.head()\n"
   ]
  },
  {
   "cell_type": "markdown",
   "metadata": {},
   "source": [
    "# Test and Train Splitting"
   ]
  },
  {
   "cell_type": "markdown",
   "metadata": {},
   "source": [
    "We split our data into train and test data (80/20) and use a random seed of 100 for reproducibility."
   ]
  },
  {
   "cell_type": "code",
   "execution_count": 67,
   "metadata": {},
   "outputs": [],
   "source": [
    "# set the seed for reproducibility\n",
    "rs = 100\n",
    "np.random.seed(100)\n",
    "\n",
    "# frac train\n",
    "train_size = 0.8"
   ]
  },
  {
   "cell_type": "code",
   "execution_count": 68,
   "metadata": {},
   "outputs": [
    {
     "name": "stderr",
     "output_type": "stream",
     "text": [
      "/Users/junkang/opt/anaconda3/lib/python3.7/site-packages/pandas/core/frame.py:4102: SettingWithCopyWarning: \n",
      "A value is trying to be set on a copy of a slice from a DataFrame\n",
      "\n",
      "See the caveats in the documentation: http://pandas.pydata.org/pandas-docs/stable/user_guide/indexing.html#returning-a-view-versus-a-copy\n",
      "  errors=errors,\n"
     ]
    }
   ],
   "source": [
    "train_data = data.sample(frac=train_size)\n",
    "test_data = data[data['CountyName'].apply(lambda x: x not in train_data['CountyName'].values)]\n",
    "train_data.drop(columns='CountyName', inplace=True)\n",
    "test_data.drop(columns='CountyName', inplace=True)"
   ]
  },
  {
   "cell_type": "code",
   "execution_count": 70,
   "metadata": {},
   "outputs": [
    {
     "data": {
      "text/plain": [
       "((46, 19), (12, 19))"
      ]
     },
     "execution_count": 70,
     "metadata": {},
     "output_type": "execute_result"
    }
   ],
   "source": [
    "train_data.shape, test_data.shape"
   ]
  },
  {
   "cell_type": "markdown",
   "metadata": {},
   "source": [
    "## Forecasting and Prediction Modeling (25 points)\n",
    "\n",
    "This section is where the rubber meets the road.  In it you must:\n",
    "1. Explore at least 3 prediction modeling approaches for each prediction question, ranging from the simple (e.g. linear regression, KNN) to the complex (e.g. SVM, random forests, Lasso).  \n",
    "2. Motivate all your modeling decisions.  This includes parameter choices (e.g., how many folds in k-fold cross validation, what time window you use for averaging your data) as well as model form (e.g., If you use regression trees, why?  If you include nonlinear features in a regression model, why?). \n",
    "1. Carefully describe your cross validation and model selection process.  You should partition your data into training and testing data sets.  The training data set is what you use for cross-validation (i.e. you sample from within it to create folds, etc.).  The testing data set is held to the very end of your efforts, and used to compare qualitatively different models (e.g. OLS vs random forests).\n",
    "4. Very carefully document your workflow.  We will be reading a lot of projects, so we need you to explain each basic step in your analysis.  \n",
    "5. Seek opportunities to write functions allow you to avoid doing things over and over, and that make your code more succinct and readable. "
   ]
  },
  {
   "cell_type": "markdown",
   "metadata": {},
   "source": [
    "### Prediction Model 1: Linear Regression"
   ]
  },
  {
   "cell_type": "code",
   "execution_count": 72,
   "metadata": {},
   "outputs": [
    {
     "name": "stdout",
     "output_type": "stream",
     "text": [
      "Splitting data...\n",
      "Fitting Model...\n",
      "[Train MSE: 257.7345]\n",
      "[Train R^2: 0.9998269178480956]\n",
      "[Test MSE: 2477.0426]\n",
      "[Test R^2: 0.9998269178480956]\n",
      "----FINISHED----\n"
     ]
    },
    {
     "data": {
      "image/png": "[encoded data removed]",
      "text/plain": [
       "<Figure size 720x288 with 2 Axes>"
      ]
     },
     "metadata": {
      "needs_background": "light"
     },
     "output_type": "display_data"
    }
   ],
   "source": [
    "X_train, X_val, y_train, y_val = gmp.preprocess_data(train_data, 'result_grand_total')\n",
    "\n",
    "lr_model = LinearRegression()\n",
    "lr_model = gmp.run_model(X_train, X_val, y_train, y_val, lr_model, diagnostics=True)"
   ]
  },
  {
   "cell_type": "markdown",
   "metadata": {},
   "source": [
    "### Prediction Model 2: Ridge Regression"
   ]
  },
  {
   "cell_type": "code",
   "execution_count": 73,
   "metadata": {},
   "outputs": [
    {
     "name": "stdout",
     "output_type": "stream",
     "text": [
      "Splitting data...\n",
      "optimal alpha: 0.001\n",
      "Test MSE with cross-validated RidgeCV: 2208.32118881742\n",
      "[R^2: 0.9998456946271328]\n"
     ]
    },
    {
     "name": "stderr",
     "output_type": "stream",
     "text": [
      "/Users/junkang/opt/anaconda3/lib/python3.7/site-packages/sklearn/model_selection/_search.py:814: DeprecationWarning: The default of the `iid` parameter will change from True to False in version 0.22 and will be removed in 0.24. This will change numeric results when test-set sizes are unequal.\n",
      "  DeprecationWarning)\n"
     ]
    },
    {
     "data": {
      "text/plain": [
       "0.001"
      ]
     },
     "execution_count": 73,
     "metadata": {},
     "output_type": "execute_result"
    }
   ],
   "source": [
    "X_train, X_val, y_val, y_val = gmp.preprocess_data(train_data, 'result_grand_total', standardize = True)\n",
    "\n",
    "alphas = [0, 0.001, 0.01, 0.1, 1, 10, 100]\n",
    "gmp.linreg_kfold_cv(RidgeCV, X_train, X_val, y_train, y_val, alphas)"
   ]
  },
  {
   "cell_type": "markdown",
   "metadata": {},
   "source": [
    "### Prediction Model 3: Lasso Regression"
   ]
  },
  {
   "cell_type": "code",
   "execution_count": 79,
   "metadata": {},
   "outputs": [
    {
     "name": "stdout",
     "output_type": "stream",
     "text": [
      "Splitting data...\n",
      "optimal alpha: 0.01\n",
      "Test MSE with cross-validated LassoCV: 10745.513202786471\n",
      "[R^2: 0.99924916247247]\n"
     ]
    },
    {
     "name": "stderr",
     "output_type": "stream",
     "text": [
      "/Users/junkang/opt/anaconda3/lib/python3.7/site-packages/sklearn/linear_model/coordinate_descent.py:471: UserWarning: Coordinate descent with alpha=0 may lead to unexpected results and is discouraged.\n",
      "  tol, rng, random, positive)\n",
      "/Users/junkang/opt/anaconda3/lib/python3.7/site-packages/sklearn/linear_model/coordinate_descent.py:471: UserWarning: Coordinate descent with alpha=0 may lead to unexpected results and is discouraged.\n",
      "  tol, rng, random, positive)\n",
      "/Users/junkang/opt/anaconda3/lib/python3.7/site-packages/sklearn/linear_model/coordinate_descent.py:471: UserWarning: Coordinate descent with alpha=0 may lead to unexpected results and is discouraged.\n",
      "  tol, rng, random, positive)\n",
      "/Users/junkang/opt/anaconda3/lib/python3.7/site-packages/sklearn/linear_model/coordinate_descent.py:471: UserWarning: Coordinate descent with alpha=0 may lead to unexpected results and is discouraged.\n",
      "  tol, rng, random, positive)\n",
      "/Users/junkang/opt/anaconda3/lib/python3.7/site-packages/sklearn/linear_model/coordinate_descent.py:471: UserWarning: Coordinate descent with alpha=0 may lead to unexpected results and is discouraged.\n",
      "  tol, rng, random, positive)\n"
     ]
    },
    {
     "data": {
      "text/plain": [
       "0.01"
      ]
     },
     "execution_count": 79,
     "metadata": {},
     "output_type": "execute_result"
    }
   ],
   "source": [
    "X_train, X_val, y_val, y_val = gmp.preprocess_data(train_data, 'result_grand_total', standardize = True)\n",
    "\n",
    "alphas = [0, 0.001, 0.01, 0.1, 1, 10, 100]\n",
    "gmp.linreg_kfold_cv(LassoCV, X_train, X_val, y_train, y_val, alphas)"
   ]
  },
  {
   "cell_type": "code",
   "execution_count": 81,
   "metadata": {},
   "outputs": [
    {
     "name": "stdout",
     "output_type": "stream",
     "text": [
      "Splitting data...\n",
      "Fitting Model...\n",
      "[Train MSE: 1923.9908]\n",
      "[Train R^2: 0.99924916247247]\n",
      "[Test MSE: 10745.5132]\n",
      "[Test R^2: 0.99924916247247]\n",
      "----FINISHED----\n"
     ]
    },
    {
     "data": {
      "image/png": "[encoded data removed]",
      "text/plain": [
       "<Figure size 720x288 with 2 Axes>"
      ]
     },
     "metadata": {
      "needs_background": "light"
     },
     "output_type": "display_data"
    }
   ],
   "source": [
    "X_train, X_val, y_train, y_val = gmp.preprocess_data(train_data, 'result_grand_total', standardize = True)\n",
    "\n",
    "lasso_model = Lasso(alpha=0.01)\n",
    "lasso_model = gmp.run_model(X_train, X_val, y_train, y_val, lasso_model, diagnostics=True)"
   ]
  },
  {
   "cell_type": "markdown",
   "metadata": {},
   "source": [
    "### Prediction Model 4: Decision Tree"
   ]
  },
  {
   "cell_type": "code",
   "execution_count": 75,
   "metadata": {},
   "outputs": [
    {
     "name": "stdout",
     "output_type": "stream",
     "text": [
      "0.8050647862141757\n",
      "{'max_leaf_nodes': 11, 'max_features': 17, 'max_depth': 11}\n"
     ]
    },
    {
     "name": "stderr",
     "output_type": "stream",
     "text": [
      "/Users/junkang/opt/anaconda3/lib/python3.7/site-packages/sklearn/model_selection/_search.py:814: DeprecationWarning: The default of the `iid` parameter will change from True to False in version 0.22 and will be removed in 0.24. This will change numeric results when test-set sizes are unequal.\n",
      "  DeprecationWarning)\n"
     ]
    }
   ],
   "source": [
    "param_dist = {'max_leaf_nodes': np.arange(2, 27),\n",
    "              'max_features': np.arange(2, X_train.shape[1] + 1),\n",
    "              'max_depth': np.arange(2,12)}\n",
    "\n",
    "tree = DecisionTreeRegressor(random_state = rs, max_depth = 4, max_features=5, max_leaf_nodes=10)\n",
    "gmp.tree_kfold_cv(tree, param_dist, X_train, y_train, n_iter=1000, random_state = rs)"
   ]
  },
  {
   "cell_type": "markdown",
   "metadata": {},
   "source": [
    "### Prediction Model 5: Random Forest"
   ]
  },
  {
   "cell_type": "code",
   "execution_count": 78,
   "metadata": {},
   "outputs": [
    {
     "name": "stdout",
     "output_type": "stream",
     "text": [
      "Fitting Model...\n",
      "[Train MSE: 2009817.1679]\n",
      "[Train R^2: 0.9981518447505682]\n",
      "[Test MSE: 26449.6325]\n",
      "[Test R^2: 0.9981518447505682]\n",
      "----FINISHED----\n"
     ]
    },
    {
     "data": {
      "image/png": "[encoded data removed]",
      "text/plain": [
       "<Figure size 720x288 with 2 Axes>"
      ]
     },
     "metadata": {
      "needs_background": "light"
     },
     "output_type": "display_data"
    }
   ],
   "source": [
    "forest_model = RandomForestRegressor(n_estimators = 500, random_state = rs, max_depth = 5)\n",
    "forest_model = gmp.run_model(X_train, X_val, y_train, y_val, forest_model, diagnostics=True)"
   ]
  },
  {
   "cell_type": "markdown",
   "metadata": {},
   "source": [
    "## Interpretation and Conclusions (20 points)\n",
    "In this section you must relate your modeling and forecasting results to your original prediction question.  You must:\n",
    "1. Address a resource allocation question.  What do the answers mean? What advice would you give a decision maker on the basis of your results?  How might they allocate their resources differently with the results of your model?  Why should the reader care about your results?\n",
    "2. Discuss caveats and / or reasons your results might be flawed.  No model is perfect, and understanding a model's imperfections is extremely important for the purpose of knowing how to interpret your results.  Often, we know the model output is wrong but we can assign a direction for its bias.  This helps to understand whether or not your answers are conservative.  \n",
    "\n",
    "Shoot for 500-1000 words for this section."
   ]
  },
  {
   "cell_type": "code",
   "execution_count": null,
   "metadata": {},
   "outputs": [],
   "source": []
  }
 ],
 "metadata": {
  "kernelspec": {
   "display_name": "Python 3",
   "language": "python",
   "name": "python3"
  },
  "language_info": {
   "codemirror_mode": {
    "name": "ipython",
    "version": 3
   },
   "file_extension": ".py",
   "mimetype": "text/x-python",
   "name": "python",
   "nbconvert_exporter": "python",
   "pygments_lexer": "ipython3",
   "version": "3.7.4"
  }
 },
 "nbformat": 4,
 "nbformat_minor": 4
}
